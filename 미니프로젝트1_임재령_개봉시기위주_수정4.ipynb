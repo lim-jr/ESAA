{
  "nbformat": 4,
  "nbformat_minor": 0,
  "metadata": {
    "colab": {
      "provenance": [],
      "collapsed_sections": [],
      "mount_file_id": "1HD0Pz3wkRcTzJ8w7ZU8IEr-KEjT8VhPg",
      "authorship_tag": "ABX9TyO3+12UuBp8ByVyUih81gOD",
      "include_colab_link": true
    },
    "kernelspec": {
      "name": "python3",
      "display_name": "Python 3"
    },
    "language_info": {
      "name": "python"
    }
  },
  "cells": [
    {
      "cell_type": "markdown",
      "metadata": {
        "id": "view-in-github",
        "colab_type": "text"
      },
      "source": [
        "<a href=\"https://colab.research.google.com/github/lim-jr/ESAA/blob/main/%EB%AF%B8%EB%8B%88%ED%94%84%EB%A1%9C%EC%A0%9D%ED%8A%B81_%EC%9E%84%EC%9E%AC%EB%A0%B9_%EA%B0%9C%EB%B4%89%EC%8B%9C%EA%B8%B0%EC%9C%84%EC%A3%BC_%EC%88%98%EC%A0%954.ipynb\" target=\"_parent\"><img src=\"https://colab.research.google.com/assets/colab-badge.svg\" alt=\"Open In Colab\"/></a>"
      ]
    },
    {
      "cell_type": "code",
      "source": [
        "# 나눔 폰트 설치\n",
        "!sudo apt-get install -y fonts-nanum\n",
        "!sudo fc-cache -fv\n",
        "!rm ~/.cache/matplotlib -rf"
      ],
      "metadata": {
        "id": "rwfEKXh5Zk9C"
      },
      "execution_count": null,
      "outputs": []
    },
    {
      "cell_type": "code",
      "execution_count": 1,
      "metadata": {
        "id": "A5dut4_S_k5o"
      },
      "outputs": [],
      "source": [
        "import pandas as pd \n",
        "import numpy as np\n",
        "import seaborn as sns\n",
        "import matplotlib.pyplot as plt\n",
        "plt.rc('font', family='NanumBarunGothic') \n",
        "\n",
        "%matplotlib notebook\n",
        "%matplotlib inline\n",
        "\n",
        "import warnings\n",
        "warnings.filterwarnings(action='ignore')"
      ]
    },
    {
      "cell_type": "code",
      "source": [
        "train = pd.read_csv('/content/drive/MyDrive/PyColab_ESAA/데이터셋/movies_train.csv')"
      ],
      "metadata": {
        "id": "v4qtZgLg_m3B"
      },
      "execution_count": 3,
      "outputs": []
    },
    {
      "cell_type": "markdown",
      "source": [
        "#### 3-1) 개봉월에 따른 평균 관객 수"
      ],
      "metadata": {
        "id": "NFHIV1FW55ry"
      }
    },
    {
      "cell_type": "code",
      "source": [
        "# release_time 날짜형으로 바꾸기\n",
        "train['release_time']=pd.to_datetime(train['release_time'])\n",
        "\n",
        "# release_month 달 추출\n",
        "train['release_month']=train['release_time'].dt.month"
      ],
      "metadata": {
        "id": "Y-tvIobj_m9P"
      },
      "execution_count": 4,
      "outputs": []
    },
    {
      "cell_type": "code",
      "source": [
        "# seaborn 라이브러리로 그래프 그리기 전, 색깔 지정\n",
        "\n",
        "## month 색깔 지정\n",
        "color_m = sns.color_palette('hls', len(train['release_month'].unique()))\n",
        "\n",
        "## genre 색깔 지정\n",
        "order_g = train['genre'].unique()\n",
        "order_g = np.sort(order_g) # 한글 순 정렬 (범례 순서와 같게)\n",
        "color_g= sns.color_palette('hls', len(order_g))"
      ],
      "metadata": {
        "id": "qJsma3bwfv_3"
      },
      "execution_count": 83,
      "outputs": []
    },
    {
      "cell_type": "code",
      "source": [
        "# 개봉월에 따른 관객수를 바차트로 나타내기\n",
        "\n",
        "train_mon = train[['release_month', 'box_off_num']].groupby('release_month').sum().sort_values('box_off_num', ascending=False).reset_index()\n",
        "ax = sns.barplot(x='release_month', y='box_off_num', data=train_mon, palette=color_m, \n",
        "                 order = train_mon['release_month'].value_counts().index)\n",
        "ax.set_title('개봉월에 따른 관객수')\n",
        "ax.set_xlabel('개봉월')\n",
        "ax.set_ylabel('관객수')"
      ],
      "metadata": {
        "colab": {
          "base_uri": "https://localhost:8080/",
          "height": 312
        },
        "id": "L9siWMcObeeF",
        "outputId": "cf246bf0-46d0-49fc-886a-813da9807349"
      },
      "execution_count": 8,
      "outputs": [
        {
          "output_type": "execute_result",
          "data": {
            "text/plain": [
              "Text(0, 0.5, '관객수')"
            ]
          },
          "metadata": {},
          "execution_count": 8
        },
        {
          "output_type": "display_data",
          "data": {
            "text/plain": [
              "<Figure size 432x288 with 1 Axes>"
            ],
            "image/png": "[encoded data removed]"
          },
          "metadata": {
            "needs_background": "light"
          }
        }
      ]
    },
    {
      "cell_type": "markdown",
      "source": [
        "* 분석결과\n",
        "  1. 연말 기간인 12월\n",
        "  2. 여름방학 기간인 7,8월\n",
        "  3. 연초 기간인 1월\n",
        "  4. 추석 기간인 9월  \n",
        "  순으로 관객수가 많은 것으로 나타났다. "
      ],
      "metadata": {
        "id": "TpvPRdBdnhay"
      }
    },
    {
      "cell_type": "markdown",
      "source": [
        "#### 3-2) 개봉시기에 따른 장르의 인기도 추이"
      ],
      "metadata": {
        "id": "QrzQ30rdefHn"
      }
    },
    {
      "cell_type": "markdown",
      "source": [
        "* 관객수가 많은 특정 개봉시기에 어떤 장르가 인기가 많은지 알아보고자 한다. \n",
        "\n",
        ">-'인기가 많다'의 척도는 관객수로 정한다.  \n",
        ">-관객수가 많은 특정 개봉시기는 다음과 같다. \n",
        "  1. 연말 기간인 12월\n",
        "  2. 여름방학 기간인 7,8월\n",
        "  3. 연초 기간인 1월\n",
        "  4. 추석 기간인 9월 "
      ],
      "metadata": {
        "id": "5cdJdCn2oFhP"
      }
    },
    {
      "cell_type": "code",
      "source": [
        "## 월별로 장르의 인기도 살펴보기\n",
        "# 연말 기간인 12월에 개봉된 영화의 장르 인기로를 바차트로 나타내기\n",
        "\n",
        "train_mon12 = train[train['release_month']==12][['title','genre', 'box_off_num']]\n",
        "train_mon12_sum = train_mon12.groupby('genre').sum().reset_index()\n",
        "train_mon12_sum.columns = ['genre', 'num_movies']\n",
        "\n",
        "ax = plt.subplots()\n",
        "ax = sns.barplot(x='genre', y='num_movies', data=train_mon12_sum, errwidth=0, order=order_g, palette=color_g)\n",
        "plt.xticks(rotation=45)\n",
        "ax.set_title('12월 개봉 영화의 장르 인기도')\n",
        "ax.set_xlabel('장르')\n",
        "ax.set_ylabel('관객수')"
      ],
      "metadata": {
        "colab": {
          "base_uri": "https://localhost:8080/",
          "height": 344
        },
        "id": "3woAhSBbnC-Y",
        "outputId": "fe12816c-5855-4778-9363-f3b3adbd914c"
      },
      "execution_count": 112,
      "outputs": [
        {
          "output_type": "execute_result",
          "data": {
            "text/plain": [
              "Text(0, 0.5, '관객수')"
            ]
          },
          "metadata": {},
          "execution_count": 112
        },
        {
          "output_type": "display_data",
          "data": {
            "text/plain": [
              "<Figure size 432x288 with 1 Axes>"
            ],
            "image/png": "[encoded data removed]"
          },
          "metadata": {
            "needs_background": "light"
          }
        }
      ]
    },
    {
      "cell_type": "markdown",
      "source": [
        "* 연말 기간인 12월에 개봉된 영화에서 드라마 장르가 인기가 압도적으로 많다. \n",
        "* 느와르, 멜로/로맨스, 코미디 장르가 그 다음으로 인기도가 높았지만 대체적으로 낮은 편이다. "
      ],
      "metadata": {
        "id": "QV23sfxeTAk3"
      }
    },
    {
      "cell_type": "code",
      "source": [
        "## 월별로 장르의 인기도 살펴보기\n",
        "# 여름방학 기간인 7, 8월에 개봉된 영화의 장르 인기도를 바차트로 나타내기\n",
        "\n",
        "train_mon78 = train[(train['release_month']==7)|(train['release_month']==8)][['title','genre', 'box_off_num']]\n",
        "train_mon78_sum = train_mon78.groupby('genre').sum().reset_index()\n",
        "train_mon78_sum.columns = ['genre', 'num_movies']\n",
        "\n",
        "ax = plt.subplots()\n",
        "ax = sns.barplot(x='genre', y='num_movies', data=train_mon78_sum, errwidth=0, order=order_g, palette=color_g)\n",
        "plt.xticks(rotation=45)\n",
        "ax.set_title('7, 8월 개봉 영화의 장르 인기도')\n",
        "ax.set_xlabel('장르')\n",
        "ax.set_ylabel('관객수')"
      ],
      "metadata": {
        "colab": {
          "base_uri": "https://localhost:8080/",
          "height": 344
        },
        "id": "yqXV1es5pl0v",
        "outputId": "fa7163b6-0a56-4091-94cb-0b4c48faa110"
      },
      "execution_count": 113,
      "outputs": [
        {
          "output_type": "execute_result",
          "data": {
            "text/plain": [
              "Text(0, 0.5, '관객수')"
            ]
          },
          "metadata": {},
          "execution_count": 113
        },
        {
          "output_type": "display_data",
          "data": {
            "text/plain": [
              "<Figure size 432x288 with 1 Axes>"
            ],
            "image/png": "[encoded data removed]"
          },
          "metadata": {
            "needs_background": "light"
          }
        }
      ]
    },
    {
      "cell_type": "markdown",
      "source": [
        "* 여름방학 기간인 7,8월에 개봉된 영화에서 액션 장르가 인기가 가장 많다. \n",
        "* 느와르, SF, 드라마 장르가 그 다음으로 인기도가 높다. "
      ],
      "metadata": {
        "id": "q3NBz_xRTHHu"
      }
    },
    {
      "cell_type": "code",
      "source": [
        "# 월별로 장르의 인기도 살펴보기\n",
        "## 설연휴 기간인 1월에 개봉된 영화의 장르 인기로를 바차트로 나타내기\n",
        "\n",
        "train_mon1 = train[train['release_month']==1][['title','genre', 'box_off_num']]\n",
        "train_mon1_sum = train_mon1.groupby('genre').sum().reset_index()\n",
        "train_mon1_sum.columns = ['genre', 'num_movies']\n",
        "\n",
        "ax = plt.subplots()\n",
        "ax = sns.barplot(x='genre', y='num_movies', data=train_mon1_sum, errwidth=0, order=order_g, palette=color_g)\n",
        "plt.xticks(rotation=45)\n",
        "ax.set_title('1월 개봉 영화의 장르 인기도')\n",
        "ax.set_xlabel('장르')\n",
        "ax.set_ylabel('관객수')"
      ],
      "metadata": {
        "colab": {
          "base_uri": "https://localhost:8080/",
          "height": 344
        },
        "id": "A6MEOiUK54bq",
        "outputId": "8b238f18-4d89-4fc4-f4f2-29f767edd9e7"
      },
      "execution_count": 110,
      "outputs": [
        {
          "output_type": "execute_result",
          "data": {
            "text/plain": [
              "Text(0, 0.5, '관객수')"
            ]
          },
          "metadata": {},
          "execution_count": 110
        },
        {
          "output_type": "display_data",
          "data": {
            "text/plain": [
              "<Figure size 432x288 with 1 Axes>"
            ],
            "image/png": "[encoded data removed]"
          },
          "metadata": {
            "needs_background": "light"
          }
        }
      ]
    },
    {
      "cell_type": "markdown",
      "source": [
        "* 연초 기간인 1월에 개봉된 영화에서 코미디 장르가 압도적으로 가장 인기가 많다.\n",
        "* 드라마, 액션 장르가 그 다음으로 인기도가 높지만 대체로 낮은 편이다. "
      ],
      "metadata": {
        "id": "q-sIeld8S3Ss"
      }
    },
    {
      "cell_type": "code",
      "source": [
        "# 월별로 장르의 인기도 살펴보기\n",
        "## 추석연휴 기간인 9월에 개봉된 영화의 장르 인기로를 바차트로 나타내기\n",
        "\n",
        "train_mon9 = train[train['release_month']==9][['title','genre', 'box_off_num']]\n",
        "train_mon9_sum = train_mon9.groupby('genre').sum().reset_index()\n",
        "train_mon9_sum.columns = ['genre', 'num_movies']\n",
        "\n",
        "ax = plt.subplots()\n",
        "ax = sns.barplot(x='genre', y='num_movies', data=train_mon9_sum, errwidth=0, order=order_g, palette=color_g)\n",
        "plt.xticks(rotation=45)\n",
        "ax.set_title('9월 개봉 영화의 장르 인기도')\n",
        "ax.set_xlabel('장르')\n",
        "ax.set_ylabel('관객수')"
      ],
      "metadata": {
        "colab": {
          "base_uri": "https://localhost:8080/",
          "height": 344
        },
        "id": "mf8jN-TOpl4d",
        "outputId": "bd0e4643-9705-49b5-d232-8a4282004fdf"
      },
      "execution_count": 114,
      "outputs": [
        {
          "output_type": "execute_result",
          "data": {
            "text/plain": [
              "Text(0, 0.5, '관객수')"
            ]
          },
          "metadata": {},
          "execution_count": 114
        },
        {
          "output_type": "display_data",
          "data": {
            "text/plain": [
              "<Figure size 432x288 with 1 Axes>"
            ],
            "image/png": "[encoded data removed]"
          },
          "metadata": {
            "needs_background": "light"
          }
        }
      ]
    },
    {
      "cell_type": "markdown",
      "source": [
        "* 추석 기간인 9월에 개봉된 영화에서 드라마 장르가 압도적으로 가장 인기가 많다.\n",
        "* 멜로/로맨스, 액션, 코미디가 그다음으로 인기도가 높았지만, 대체적으로 낮은 편이다.  "
      ],
      "metadata": {
        "id": "H20eD18nTnOQ"
      }
    },
    {
      "cell_type": "code",
      "source": [
        "# 월 전체의 장르 인기도를 한꺼번에 살펴보기\n",
        "## 누적 바차트로 나타내기\n",
        "\n",
        "train_mon_g = train.groupby(['release_month','genre'])['box_off_num'].sum().reset_index()\n",
        "\n",
        "train_mon_g_p = train_mon_g.pivot(index='release_month', columns='genre', values='box_off_num') # 피벗화\n",
        "train_mon_g_p = train_mon_g_p.loc[train_mon['release_month'].value_counts().index] # 관객수 많은 월 순서대로 정렬\n",
        "train_mon_g_p.plot.bar(stacked=True, color=color_g) # 누적 막대그래프로\n",
        "plt.legend(loc=2, bbox_to_anchor=(1, 1)) # 범례 위치\n",
        "plt.title('월 전체의 영화 장르 인기도')\n",
        "plt.xlabel('개봉월')\n",
        "plt.ylabel('관객수')"
      ],
      "metadata": {
        "colab": {
          "base_uri": "https://localhost:8080/",
          "height": 314
        },
        "id": "aNpTp3wVszGF",
        "outputId": "f5725705-9d64-46a6-ca58-de7f17f29474"
      },
      "execution_count": 88,
      "outputs": [
        {
          "output_type": "execute_result",
          "data": {
            "text/plain": [
              "Text(0, 0.5, '관객수')"
            ]
          },
          "metadata": {},
          "execution_count": 88
        },
        {
          "output_type": "display_data",
          "data": {
            "text/plain": [
              "<Figure size 432x288 with 1 Axes>"
            ],
            "image/png": "[encoded data removed]"
          },
          "metadata": {
            "needs_background": "light"
          }
        }
      ]
    },
    {
      "cell_type": "markdown",
      "source": [
        "* 월별로 따로 분석한 그래프의 결과와 같이  \n",
        "  12월에 드라마, 7,8월에 액션, 1월에 코미디, 9월에 드라마 장르가 인기가 가장 많은 것을 한번에 확인할 수 있다."
      ],
      "metadata": {
        "id": "gnIa6HyflgEj"
      }
    },
    {
      "cell_type": "markdown",
      "source": [
        "#### 3-3) 배급사의 개봉시기 분포"
      ],
      "metadata": {
        "id": "gEAFd8_Y92ui"
      }
    },
    {
      "cell_type": "code",
      "source": [
        "# 영화상영수가 많은 상위5개 배급사의 개봉시기 분포 살펴보기\n",
        "## 배급사별로 개봉시기 분포 나타내기 \n",
        "\n",
        "# 영화상영수 많은 상위5 배급사 확인\n",
        "train_dist_top = train['distributor'].value_counts().head(5) \n",
        "\n",
        "# 그룹화\n",
        "train_dist_gr = train.groupby(['distributor', 'release_month'])['title'].count().reset_index() \n",
        "train_dist_gr.columns = ['distributor', 'release_month', 'num_movies']\n",
        "\n",
        "# 그룹화 중 상위5배급사에 해당하는 행추출\n",
        "train_dist_top_gr = train_dist_gr[train_dist_gr['distributor'].isin(train_dist_top.index)].copy() "
      ],
      "metadata": {
        "id": "qNICPdr2yb6L"
      },
      "execution_count": 53,
      "outputs": []
    },
    {
      "cell_type": "code",
      "source": [
        "# 상위5개 배급사 데이터셋 따로 추출\n",
        "top1 = train_dist_top_gr[train_dist_top_gr['distributor']=='CJ 엔터테인먼트']\n",
        "top2 = train_dist_top_gr[train_dist_top_gr['distributor']=='롯데엔터테인먼트']\n",
        "top3 = train_dist_top_gr[train_dist_top_gr['distributor']=='(주)NEW']\n",
        "top4 = train_dist_top_gr[train_dist_top_gr['distributor']=='(주)마운틴픽쳐스']\n",
        "top5 = train_dist_top_gr[train_dist_top_gr['distributor']=='(주)쇼박스']"
      ],
      "metadata": {
        "id": "UIOHdRO8RfzT"
      },
      "execution_count": 54,
      "outputs": []
    },
    {
      "cell_type": "code",
      "source": [
        "# 한면에 그래프 그리기\n",
        "fig = plt.figure(figsize=(4,8))\n",
        "\n",
        "ax1 = fig.add_subplot(5,1,1)\n",
        "ax2 = fig.add_subplot(5,1,2)\n",
        "ax3 = fig.add_subplot(5,1,3)\n",
        "ax4 = fig.add_subplot(5,1,4)\n",
        "ax5 = fig.add_subplot(5,1,5)\n",
        "\n",
        "ax1.bar(top1['release_month'], top1['num_movies'])\n",
        "ax1.set_title('CJ 엔터테인먼트')\n",
        "\n",
        "ax2.bar(top2['release_month'], top2['num_movies'])\n",
        "ax2.set_title('롯데엔터테인먼트')\n",
        "\n",
        "ax3.bar(top3['release_month'], top3['num_movies'])\n",
        "ax3.set_title('(주)NEW')\n",
        "\n",
        "ax4.bar(top4['release_month'], top4['num_movies'])\n",
        "ax4.set_title('(주)마운틴픽쳐스')\n",
        "\n",
        "ax5.bar(top5['release_month'], top5['num_movies'])\n",
        "ax5.set_title('(주)쇼박스')\n",
        "\n",
        "fig.suptitle('영화상영수 상위5 배급사의 개봉시기 분포', y=1.02)\n",
        "\n",
        "fig.tight_layout()"
      ],
      "metadata": {
        "colab": {
          "base_uri": "https://localhost:8080/",
          "height": 608
        },
        "id": "MjaiOYMgPFA4",
        "outputId": "1442b70a-f5bb-4d77-db96-c26f313d7fc7"
      },
      "execution_count": 69,
      "outputs": [
        {
          "output_type": "display_data",
          "data": {
            "text/plain": [
              "<Figure size 288x576 with 5 Axes>"
            ],
            "image/png": "[encoded data removed]"
          },
          "metadata": {
            "needs_background": "light"
          }
        }
      ]
    },
    {
      "cell_type": "markdown",
      "source": [
        "* 영화상영수가 많은 배급사의 경우,  \n",
        "  상반기, 하반기 달에 위로 볼록하고, 중앙이 아래로 패인 쌍봉형태의 그래프를 보인다. \n",
        "* 배급사 전반적으로 상반기보다 하반기에 영화상영수가 더 많다. "
      ],
      "metadata": {
        "id": "IVFeFsuUdxki"
      }
    },
    {
      "cell_type": "code",
      "source": [
        "# 영화상영수가 1개인 배급사의 개봉시기 분포 살펴보기\n",
        "## 배급사 전체의 개봉시기 분포를 바차트로 나타내기\n",
        "\n",
        "# 영화상영수가 1개인 배급사 확인\n",
        "train_dist_count = train['distributor'].value_counts().reset_index()\n",
        "train_dist_count.columns = ['distributor', 'num_movies']\n",
        "train_dist_count[train_dist_count['num_movies']==1].count()"
      ],
      "metadata": {
        "colab": {
          "base_uri": "https://localhost:8080/"
        },
        "id": "QqgthoYEPFNl",
        "outputId": "45bed476-3913-47f0-f80e-613b38e24da8"
      },
      "execution_count": null,
      "outputs": [
        {
          "output_type": "execute_result",
          "data": {
            "text/plain": [
              "distributor    102\n",
              "num_movies     102\n",
              "dtype: int64"
            ]
          },
          "metadata": {},
          "execution_count": 272
        }
      ]
    },
    {
      "cell_type": "code",
      "source": [
        "# 영화상영수가 1개인 배급사 데이터셋 따로 추출\n",
        "train_dist_only1 = train['distributor'].value_counts().tail(102)\n",
        "train_dist_only1\n",
        "\n",
        "# 그룹화\n",
        "train_dist_g = train.groupby(['distributor', 'release_month'])['title'].count().reset_index()\n",
        "train_dist_g.columns = ['distributor', 'release_month', 'num_movies']\n",
        "\n",
        "# 그룹화 중 상위5배급사에 해당하는 행추출\n",
        "train_dist_only1_g = train_dist_g[train_dist_g['distributor'].isin(train_dist_only1.index)].copy()\n",
        "\n",
        "# 그래프\n",
        "a = train_dist_only1_g.groupby('release_month').sum().reset_index()\n",
        "ax = sns.barplot(x='release_month', y='num_movies', data=a)\n",
        "ax.set_title('영화상영수 1개인 배급사의 개봉시기 분포')\n",
        "ax.set_xlabel('개봉월')\n",
        "ax.set_ylabel('영화상영수')"
      ],
      "metadata": {
        "colab": {
          "base_uri": "https://localhost:8080/",
          "height": 312
        },
        "id": "M6qx8O1qIEOE",
        "outputId": "c42bce93-0060-460a-ba71-fd2dd7ee9d02"
      },
      "execution_count": 61,
      "outputs": [
        {
          "output_type": "execute_result",
          "data": {
            "text/plain": [
              "Text(0, 0.5, '영화상영수')"
            ]
          },
          "metadata": {},
          "execution_count": 61
        },
        {
          "output_type": "display_data",
          "data": {
            "text/plain": [
              "<Figure size 432x288 with 1 Axes>"
            ],
            "image/png": "[encoded data removed]"
          },
          "metadata": {
            "needs_background": "light"
          }
        }
      ]
    },
    {
      "cell_type": "markdown",
      "source": [
        "* 영화상영수가 1개인 배급사의 경우,  \n",
        "  영화상영수가 많은 배급사와 마찬가지로,  \n",
        "  상반기, 하반기 달에 위로 볼록하고, 중앙이 아래로 패인 쌍봉형태의 그래프를 보인다.\n",
        "* 영화상영수가 1개인 배급사의 경우,  \n",
        "  영화상영수가 많은 배급사와 달리,  \n",
        "  상반기보다 하반기에 영화상영수가 더 많다고 할 수 없다."
      ],
      "metadata": {
        "id": "ox14C9yFfqwz"
      }
    }
  ]
}