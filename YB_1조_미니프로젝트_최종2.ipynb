{
  "nbformat": 4,
  "nbformat_minor": 0,
  "metadata": {
    "colab": {
      "provenance": [],
      "collapsed_sections": [],
      "include_colab_link": true
    },
    "kernelspec": {
      "name": "python3",
      "display_name": "Python 3"
    },
    "language_info": {
      "name": "python"
    }
  },
  "cells": [
    {
      "cell_type": "markdown",
      "metadata": {
        "id": "view-in-github",
        "colab_type": "text"
      },
      "source": [
        "<a href=\"https://colab.research.google.com/github/lim-jr/ESAA/blob/main/YB_1%EC%A1%B0_%EB%AF%B8%EB%8B%88%ED%94%84%EB%A1%9C%EC%A0%9D%ED%8A%B8_%EC%B5%9C%EC%A2%852.ipynb\" target=\"_parent\"><img src=\"https://colab.research.google.com/assets/colab-badge.svg\" alt=\"Open In Colab\"/></a>"
      ]
    },
    {
      "cell_type": "markdown",
      "source": [
        "#**미니 프로젝트 : 2010년대 영화 산업 현황**\n",
        "- 관련 사이트: https://dacon.io/competitions/open/235536/data\n",
        "\n",
        "- 과제: 지금까지 배운 pandas 코드를 통해 유의미한 결과 10개 이상 출력하고, 그래프 그리기 (데이터 전처리는 예시 참고)\n",
        "\n",
        "- 조건: 변수 2개 이상 연결한 결과값 포함"
      ],
      "metadata": {
        "id": "b8FMkiLcdZtF"
      }
    },
    {
      "cell_type": "code",
      "execution_count": 21,
      "metadata": {
        "colab": {
          "base_uri": "https://localhost:8080/"
        },
        "id": "lzkDa1sCinWX",
        "outputId": "70379af4-77b8-48f5-8dfa-43e34df9818d"
      },
      "outputs": [
        {
          "output_type": "stream",
          "name": "stdout",
          "text": [
            "Reading package lists... Done\n",
            "Building dependency tree       \n",
            "Reading state information... Done\n",
            "fonts-nanum is already the newest version (20170925-1).\n",
            "The following package was automatically installed and is no longer required:\n",
            "  libnvidia-common-460\n",
            "Use 'sudo apt autoremove' to remove it.\n",
            "0 upgraded, 0 newly installed, 0 to remove and 12 not upgraded.\n",
            "/usr/share/fonts: caching, new cache contents: 0 fonts, 1 dirs\n",
            "/usr/share/fonts/truetype: caching, new cache contents: 0 fonts, 3 dirs\n",
            "/usr/share/fonts/truetype/humor-sans: caching, new cache contents: 1 fonts, 0 dirs\n",
            "/usr/share/fonts/truetype/liberation: caching, new cache contents: 16 fonts, 0 dirs\n",
            "/usr/share/fonts/truetype/nanum: caching, new cache contents: 10 fonts, 0 dirs\n",
            "/usr/local/share/fonts: caching, new cache contents: 0 fonts, 0 dirs\n",
            "/root/.local/share/fonts: skipping, no such directory\n",
            "/root/.fonts: skipping, no such directory\n",
            "/var/cache/fontconfig: cleaning cache directory\n",
            "/root/.cache/fontconfig: not cleaning non-existent cache directory\n",
            "/root/.fontconfig: not cleaning non-existent cache directory\n",
            "fc-cache: succeeded\n"
          ]
        }
      ],
      "source": [
        "# 나눔 폰트 설치\n",
        "!sudo apt-get install -y fonts-nanum\n",
        "!sudo fc-cache -fv\n",
        "!rm ~/.cache/matplotlib -rf"
      ]
    },
    {
      "cell_type": "markdown",
      "source": [
        "# **1. 라이브러리 및 데이터 불러오기**\n",
        "___"
      ],
      "metadata": {
        "id": "H32GHEDXi7M1"
      }
    },
    {
      "cell_type": "code",
      "source": [
        "from google.colab import drive\n",
        "drive.mount('/content/drive') #드라이브에 접근해서 파일 가져오기"
      ],
      "metadata": {
        "colab": {
          "base_uri": "https://localhost:8080/"
        },
        "id": "fW1PmGLOkZpg",
        "outputId": "195a73ae-ee6f-44ff-b305-2d2e272c133f"
      },
      "execution_count": 2,
      "outputs": [
        {
          "output_type": "stream",
          "name": "stdout",
          "text": [
            "Drive already mounted at /content/drive; to attempt to forcibly remount, call drive.mount(\"/content/drive\", force_remount=True).\n"
          ]
        }
      ]
    },
    {
      "cell_type": "code",
      "source": [
        "import pandas as pd\n",
        "import numpy as np\n",
        "import matplotlib.pyplot as plt\n",
        "import seaborn as sns\n",
        "plt.rcParams['font.family'] = 'NanumGothic' #matplotlib  한글 깨짐 방지\n",
        "\n",
        "#그래픽 출력 결과를 셀 아래 표시\n",
        "%matplotlib inline\n",
        "\n",
        "import warnings\n",
        "warnings.filterwarnings(action = 'ignore')"
      ],
      "metadata": {
        "id": "KARB2174i-3N"
      },
      "execution_count": 3,
      "outputs": []
    },
    {
      "cell_type": "code",
      "source": [
        "# 데이터 불러오기\n",
        "train=pd.read_csv(\"/content/movies_train.csv\")"
      ],
      "metadata": {
        "id": "Q56gxqfMl2-i"
      },
      "execution_count": null,
      "outputs": []
    },
    {
      "cell_type": "markdown",
      "source": [
        "# **2. 탐색적 자료 분석(EDA)**"
      ],
      "metadata": {
        "id": "sxSf7yREc9eg"
      }
    },
    {
      "cell_type": "markdown",
      "source": [
        "###**2-1) 데이터 미리보기**"
      ],
      "metadata": {
        "id": "7Fa3bBGidu0b"
      }
    },
    {
      "cell_type": "code",
      "source": [
        "train.head(10)"
      ],
      "metadata": {
        "id": "ffmiZ-l-dwx0",
        "colab": {
          "base_uri": "https://localhost:8080/",
          "height": 174
        },
        "outputId": "a58c27d0-bec6-44c7-88e5-13f50ee64547"
      },
      "execution_count": 1,
      "outputs": [
        {
          "output_type": "error",
          "ename": "NameError",
          "evalue": "ignored",
          "traceback": [
            "\u001b[0;31m---------------------------------------------------------------------------\u001b[0m",
            "\u001b[0;31mNameError\u001b[0m                                 Traceback (most recent call last)",
            "\u001b[0;32m<ipython-input-1-6d2bab1820af>\u001b[0m in \u001b[0;36m<module>\u001b[0;34m\u001b[0m\n\u001b[0;32m----> 1\u001b[0;31m \u001b[0mtrain\u001b[0m\u001b[0;34m.\u001b[0m\u001b[0mhead\u001b[0m\u001b[0;34m(\u001b[0m\u001b[0;36m10\u001b[0m\u001b[0;34m)\u001b[0m\u001b[0;34m\u001b[0m\u001b[0;34m\u001b[0m\u001b[0m\n\u001b[0m",
            "\u001b[0;31mNameError\u001b[0m: name 'train' is not defined"
          ]
        }
      ]
    },
    {
      "cell_type": "markdown",
      "source": [
        "###**2-2) 데이터 확인**"
      ],
      "metadata": {
        "id": "MMXF6jKKd1ar"
      }
    },
    {
      "cell_type": "markdown",
      "source": [
        "##### **변수 설명**\n",
        "+ `title` : 영화의 제목\n",
        "+ `distributor` : 배급사\n",
        "+ `genre` : 장르\n",
        "+ `release_time` : 개봉일\n",
        "+ `time` : 상영시간(분)\n",
        "+ `screening_rat` : 상영등급\n",
        "+ `director` : 감독이름\n",
        "+ `dir_prev_bfnum` : 해당 감독이 이 영화를 만들기 전 제작에 참여한 영화에서의 평균 관객수(단 관객수가 알려지지 않은 영화 제외)\n",
        "+ `dir_prev_num` : 해당 감독이 이 영화를 만들기 전 제작에 참여한 영화의 개수(단 관객수가 알려지지 않은 영화 제외)\n",
        "+ `num_staff` : 스텝수\n",
        "+ `num_actor` : 주연배우수\n",
        "+ `box_off_num` : 관객수"
      ],
      "metadata": {
        "id": "kydCl09yd6Rr"
      }
    },
    {
      "cell_type": "code",
      "source": [
        "print(train.shape)"
      ],
      "metadata": {
        "id": "u6AnfF-Nd9Ok",
        "colab": {
          "base_uri": "https://localhost:8080/"
        },
        "outputId": "3a350cfe-9f8f-4078-99ca-b24492a28fc1"
      },
      "execution_count": null,
      "outputs": [
        {
          "output_type": "stream",
          "name": "stdout",
          "text": [
            "(600, 12)\n"
          ]
        }
      ]
    },
    {
      "cell_type": "code",
      "source": [
        "train.describe()"
      ],
      "metadata": {
        "id": "arenyWmWd-wM",
        "colab": {
          "base_uri": "https://localhost:8080/",
          "height": 300
        },
        "outputId": "dfbe419e-911f-4ce8-a54c-6513775c5b3c"
      },
      "execution_count": null,
      "outputs": [
        {
          "output_type": "execute_result",
          "data": {
            "text/plain": [
              "             time  dir_prev_bfnum  dir_prev_num   num_staff   num_actor  \\\n",
              "count  600.000000    2.700000e+02    600.000000  600.000000  600.000000   \n",
              "mean   100.863333    1.050443e+06      0.876667  151.118333    3.706667   \n",
              "std     18.097528    1.791408e+06      1.183409  165.654671    2.446889   \n",
              "min     45.000000    1.000000e+00      0.000000    0.000000    0.000000   \n",
              "25%     89.000000    2.038000e+04      0.000000   17.000000    2.000000   \n",
              "50%    100.000000    4.784236e+05      0.000000   82.500000    3.000000   \n",
              "75%    114.000000    1.286569e+06      2.000000  264.000000    4.000000   \n",
              "max    180.000000    1.761531e+07      5.000000  869.000000   25.000000   \n",
              "\n",
              "        box_off_num  \n",
              "count  6.000000e+02  \n",
              "mean   7.081818e+05  \n",
              "std    1.828006e+06  \n",
              "min    1.000000e+00  \n",
              "25%    1.297250e+03  \n",
              "50%    1.259100e+04  \n",
              "75%    4.798868e+05  \n",
              "max    1.426277e+07  "
            ],
            "text/html": [
              "\n",
              "  <div id=\"df-7f26b06a-8409-4723-b9d9-077afe5f52ba\">\n",
              "    <div class=\"colab-df-container\">\n",
              "      <div>\n",
              "<style scoped>\n",
              "    .dataframe tbody tr th:only-of-type {\n",
              "        vertical-align: middle;\n",
              "    }\n",
              "\n",
              "    .dataframe tbody tr th {\n",
              "        vertical-align: top;\n",
              "    }\n",
              "\n",
              "    .dataframe thead th {\n",
              "        text-align: right;\n",
              "    }\n",
              "</style>\n",
              "<table border=\"1\" class=\"dataframe\">\n",
              "  <thead>\n",
              "    <tr style=\"text-align: right;\">\n",
              "      <th></th>\n",
              "      <th>time</th>\n",
              "      <th>dir_prev_bfnum</th>\n",
              "      <th>dir_prev_num</th>\n",
              "      <th>num_staff</th>\n",
              "      <th>num_actor</th>\n",
              "      <th>box_off_num</th>\n",
              "    </tr>\n",
              "  </thead>\n",
              "  <tbody>\n",
              "    <tr>\n",
              "      <th>count</th>\n",
              "      <td>600.000000</td>\n",
              "      <td>2.700000e+02</td>\n",
              "      <td>600.000000</td>\n",
              "      <td>600.000000</td>\n",
              "      <td>600.000000</td>\n",
              "      <td>6.000000e+02</td>\n",
              "    </tr>\n",
              "    <tr>\n",
              "      <th>mean</th>\n",
              "      <td>100.863333</td>\n",
              "      <td>1.050443e+06</td>\n",
              "      <td>0.876667</td>\n",
              "      <td>151.118333</td>\n",
              "      <td>3.706667</td>\n",
              "      <td>7.081818e+05</td>\n",
              "    </tr>\n",
              "    <tr>\n",
              "      <th>std</th>\n",
              "      <td>18.097528</td>\n",
              "      <td>1.791408e+06</td>\n",
              "      <td>1.183409</td>\n",
              "      <td>165.654671</td>\n",
              "      <td>2.446889</td>\n",
              "      <td>1.828006e+06</td>\n",
              "    </tr>\n",
              "    <tr>\n",
              "      <th>min</th>\n",
              "      <td>45.000000</td>\n",
              "      <td>1.000000e+00</td>\n",
              "      <td>0.000000</td>\n",
              "      <td>0.000000</td>\n",
              "      <td>0.000000</td>\n",
              "      <td>1.000000e+00</td>\n",
              "    </tr>\n",
              "    <tr>\n",
              "      <th>25%</th>\n",
              "      <td>89.000000</td>\n",
              "      <td>2.038000e+04</td>\n",
              "      <td>0.000000</td>\n",
              "      <td>17.000000</td>\n",
              "      <td>2.000000</td>\n",
              "      <td>1.297250e+03</td>\n",
              "    </tr>\n",
              "    <tr>\n",
              "      <th>50%</th>\n",
              "      <td>100.000000</td>\n",
              "      <td>4.784236e+05</td>\n",
              "      <td>0.000000</td>\n",
              "      <td>82.500000</td>\n",
              "      <td>3.000000</td>\n",
              "      <td>1.259100e+04</td>\n",
              "    </tr>\n",
              "    <tr>\n",
              "      <th>75%</th>\n",
              "      <td>114.000000</td>\n",
              "      <td>1.286569e+06</td>\n",
              "      <td>2.000000</td>\n",
              "      <td>264.000000</td>\n",
              "      <td>4.000000</td>\n",
              "      <td>4.798868e+05</td>\n",
              "    </tr>\n",
              "    <tr>\n",
              "      <th>max</th>\n",
              "      <td>180.000000</td>\n",
              "      <td>1.761531e+07</td>\n",
              "      <td>5.000000</td>\n",
              "      <td>869.000000</td>\n",
              "      <td>25.000000</td>\n",
              "      <td>1.426277e+07</td>\n",
              "    </tr>\n",
              "  </tbody>\n",
              "</table>\n",
              "</div>\n",
              "      <button class=\"colab-df-convert\" onclick=\"convertToInteractive('df-7f26b06a-8409-4723-b9d9-077afe5f52ba')\"\n",
              "              title=\"Convert this dataframe to an interactive table.\"\n",
              "              style=\"display:none;\">\n",
              "        \n",
              "  <svg xmlns=\"http://www.w3.org/2000/svg\" height=\"24px\"viewBox=\"0 0 24 24\"\n",
              "       width=\"24px\">\n",
              "    <path d=\"M0 0h24v24H0V0z\" fill=\"none\"/>\n",
              "    <path d=\"M18.56 5.44l.94 2.06.94-2.06 2.06-.94-2.06-.94-.94-2.06-.94 2.06-2.06.94zm-11 1L8.5 8.5l.94-2.06 2.06-.94-2.06-.94L8.5 2.5l-.94 2.06-2.06.94zm10 10l.94 2.06.94-2.06 2.06-.94-2.06-.94-.94-2.06-.94 2.06-2.06.94z\"/><path d=\"M17.41 7.96l-1.37-1.37c-.4-.4-.92-.59-1.43-.59-.52 0-1.04.2-1.43.59L10.3 9.45l-7.72 7.72c-.78.78-.78 2.05 0 2.83L4 21.41c.39.39.9.59 1.41.59.51 0 1.02-.2 1.41-.59l7.78-7.78 2.81-2.81c.8-.78.8-2.07 0-2.86zM5.41 20L4 18.59l7.72-7.72 1.47 1.35L5.41 20z\"/>\n",
              "  </svg>\n",
              "      </button>\n",
              "      \n",
              "  <style>\n",
              "    .colab-df-container {\n",
              "      display:flex;\n",
              "      flex-wrap:wrap;\n",
              "      gap: 12px;\n",
              "    }\n",
              "\n",
              "    .colab-df-convert {\n",
              "      background-color: #E8F0FE;\n",
              "      border: none;\n",
              "      border-radius: 50%;\n",
              "      cursor: pointer;\n",
              "      display: none;\n",
              "      fill: #1967D2;\n",
              "      height: 32px;\n",
              "      padding: 0 0 0 0;\n",
              "      width: 32px;\n",
              "    }\n",
              "\n",
              "    .colab-df-convert:hover {\n",
              "      background-color: #E2EBFA;\n",
              "      box-shadow: 0px 1px 2px rgba(60, 64, 67, 0.3), 0px 1px 3px 1px rgba(60, 64, 67, 0.15);\n",
              "      fill: #174EA6;\n",
              "    }\n",
              "\n",
              "    [theme=dark] .colab-df-convert {\n",
              "      background-color: #3B4455;\n",
              "      fill: #D2E3FC;\n",
              "    }\n",
              "\n",
              "    [theme=dark] .colab-df-convert:hover {\n",
              "      background-color: #434B5C;\n",
              "      box-shadow: 0px 1px 3px 1px rgba(0, 0, 0, 0.15);\n",
              "      filter: drop-shadow(0px 1px 2px rgba(0, 0, 0, 0.3));\n",
              "      fill: #FFFFFF;\n",
              "    }\n",
              "  </style>\n",
              "\n",
              "      <script>\n",
              "        const buttonEl =\n",
              "          document.querySelector('#df-7f26b06a-8409-4723-b9d9-077afe5f52ba button.colab-df-convert');\n",
              "        buttonEl.style.display =\n",
              "          google.colab.kernel.accessAllowed ? 'block' : 'none';\n",
              "\n",
              "        async function convertToInteractive(key) {\n",
              "          const element = document.querySelector('#df-7f26b06a-8409-4723-b9d9-077afe5f52ba');\n",
              "          const dataTable =\n",
              "            await google.colab.kernel.invokeFunction('convertToInteractive',\n",
              "                                                     [key], {});\n",
              "          if (!dataTable) return;\n",
              "\n",
              "          const docLinkHtml = 'Like what you see? Visit the ' +\n",
              "            '<a target=\"_blank\" href=https://colab.research.google.com/notebooks/data_table.ipynb>data table notebook</a>'\n",
              "            + ' to learn more about interactive tables.';\n",
              "          element.innerHTML = '';\n",
              "          dataTable['output_type'] = 'display_data';\n",
              "          await google.colab.output.renderOutput(dataTable, element);\n",
              "          const docLink = document.createElement('div');\n",
              "          docLink.innerHTML = docLinkHtml;\n",
              "          element.appendChild(docLink);\n",
              "        }\n",
              "      </script>\n",
              "    </div>\n",
              "  </div>\n",
              "  "
            ]
          },
          "metadata": {},
          "execution_count": 7
        }
      ]
    },
    {
      "cell_type": "markdown",
      "source": [
        "###**2-3) 결측치 확인 및 데이터 전처리**"
      ],
      "metadata": {
        "id": "4DL1v6rPeBll"
      }
    },
    {
      "cell_type": "code",
      "source": [
        "#결측치 확인\n",
        "train.isna().sum()"
      ],
      "metadata": {
        "colab": {
          "base_uri": "https://localhost:8080/"
        },
        "id": "yiad7OQweDwc",
        "outputId": "e601bc59-95c3-4391-816d-6593b33da06d"
      },
      "execution_count": null,
      "outputs": [
        {
          "output_type": "execute_result",
          "data": {
            "text/plain": [
              "title               0\n",
              "distributor         0\n",
              "genre               0\n",
              "release_time        0\n",
              "time                0\n",
              "screening_rat       0\n",
              "director            0\n",
              "dir_prev_bfnum    330\n",
              "dir_prev_num        0\n",
              "num_staff           0\n",
              "num_actor           0\n",
              "box_off_num         0\n",
              "dtype: int64"
            ]
          },
          "metadata": {},
          "execution_count": 8
        }
      ]
    },
    {
      "cell_type": "code",
      "source": [
        "# 결측값의 특성 확인\n",
        "train[train['dir_prev_bfnum'].isna()].head(3)"
      ],
      "metadata": {
        "colab": {
          "base_uri": "https://localhost:8080/",
          "height": 143
        },
        "id": "RVqWN1dLeEgU",
        "outputId": "b7770e58-56a5-4dcb-a3a8-b7891fa8b1a5"
      },
      "execution_count": null,
      "outputs": [
        {
          "output_type": "execute_result",
          "data": {
            "text/plain": [
              "             title      distributor  genre release_time  time screening_rat  \\\n",
              "0           개들의 전쟁         롯데엔터테인먼트     액션   2012-11-22    96      청소년 관람불가   \n",
              "6             길위에서             백두대간  다큐멘터리   2013-05-23   104        전체 관람가   \n",
              "8  1789, 바스티유의 연인들  유니버설픽쳐스인터내셔널코리아    뮤지컬   2014-09-18   129        전체 관람가   \n",
              "\n",
              "  director  dir_prev_bfnum  dir_prev_num  num_staff  num_actor  box_off_num  \n",
              "0      조병옥             NaN             0         91          2        23398  \n",
              "6      이창재             NaN             0         32          5        53526  \n",
              "8      정성복             NaN             0          3          5         4778  "
            ],
            "text/html": [
              "\n",
              "  <div id=\"df-dcbd5494-b766-4870-96ad-c67b3f7e7799\">\n",
              "    <div class=\"colab-df-container\">\n",
              "      <div>\n",
              "<style scoped>\n",
              "    .dataframe tbody tr th:only-of-type {\n",
              "        vertical-align: middle;\n",
              "    }\n",
              "\n",
              "    .dataframe tbody tr th {\n",
              "        vertical-align: top;\n",
              "    }\n",
              "\n",
              "    .dataframe thead th {\n",
              "        text-align: right;\n",
              "    }\n",
              "</style>\n",
              "<table border=\"1\" class=\"dataframe\">\n",
              "  <thead>\n",
              "    <tr style=\"text-align: right;\">\n",
              "      <th></th>\n",
              "      <th>title</th>\n",
              "      <th>distributor</th>\n",
              "      <th>genre</th>\n",
              "      <th>release_time</th>\n",
              "      <th>time</th>\n",
              "      <th>screening_rat</th>\n",
              "      <th>director</th>\n",
              "      <th>dir_prev_bfnum</th>\n",
              "      <th>dir_prev_num</th>\n",
              "      <th>num_staff</th>\n",
              "      <th>num_actor</th>\n",
              "      <th>box_off_num</th>\n",
              "    </tr>\n",
              "  </thead>\n",
              "  <tbody>\n",
              "    <tr>\n",
              "      <th>0</th>\n",
              "      <td>개들의 전쟁</td>\n",
              "      <td>롯데엔터테인먼트</td>\n",
              "      <td>액션</td>\n",
              "      <td>2012-11-22</td>\n",
              "      <td>96</td>\n",
              "      <td>청소년 관람불가</td>\n",
              "      <td>조병옥</td>\n",
              "      <td>NaN</td>\n",
              "      <td>0</td>\n",
              "      <td>91</td>\n",
              "      <td>2</td>\n",
              "      <td>23398</td>\n",
              "    </tr>\n",
              "    <tr>\n",
              "      <th>6</th>\n",
              "      <td>길위에서</td>\n",
              "      <td>백두대간</td>\n",
              "      <td>다큐멘터리</td>\n",
              "      <td>2013-05-23</td>\n",
              "      <td>104</td>\n",
              "      <td>전체 관람가</td>\n",
              "      <td>이창재</td>\n",
              "      <td>NaN</td>\n",
              "      <td>0</td>\n",
              "      <td>32</td>\n",
              "      <td>5</td>\n",
              "      <td>53526</td>\n",
              "    </tr>\n",
              "    <tr>\n",
              "      <th>8</th>\n",
              "      <td>1789, 바스티유의 연인들</td>\n",
              "      <td>유니버설픽쳐스인터내셔널코리아</td>\n",
              "      <td>뮤지컬</td>\n",
              "      <td>2014-09-18</td>\n",
              "      <td>129</td>\n",
              "      <td>전체 관람가</td>\n",
              "      <td>정성복</td>\n",
              "      <td>NaN</td>\n",
              "      <td>0</td>\n",
              "      <td>3</td>\n",
              "      <td>5</td>\n",
              "      <td>4778</td>\n",
              "    </tr>\n",
              "  </tbody>\n",
              "</table>\n",
              "</div>\n",
              "      <button class=\"colab-df-convert\" onclick=\"convertToInteractive('df-dcbd5494-b766-4870-96ad-c67b3f7e7799')\"\n",
              "              title=\"Convert this dataframe to an interactive table.\"\n",
              "              style=\"display:none;\">\n",
              "        \n",
              "  <svg xmlns=\"http://www.w3.org/2000/svg\" height=\"24px\"viewBox=\"0 0 24 24\"\n",
              "       width=\"24px\">\n",
              "    <path d=\"M0 0h24v24H0V0z\" fill=\"none\"/>\n",
              "    <path d=\"M18.56 5.44l.94 2.06.94-2.06 2.06-.94-2.06-.94-.94-2.06-.94 2.06-2.06.94zm-11 1L8.5 8.5l.94-2.06 2.06-.94-2.06-.94L8.5 2.5l-.94 2.06-2.06.94zm10 10l.94 2.06.94-2.06 2.06-.94-2.06-.94-.94-2.06-.94 2.06-2.06.94z\"/><path d=\"M17.41 7.96l-1.37-1.37c-.4-.4-.92-.59-1.43-.59-.52 0-1.04.2-1.43.59L10.3 9.45l-7.72 7.72c-.78.78-.78 2.05 0 2.83L4 21.41c.39.39.9.59 1.41.59.51 0 1.02-.2 1.41-.59l7.78-7.78 2.81-2.81c.8-.78.8-2.07 0-2.86zM5.41 20L4 18.59l7.72-7.72 1.47 1.35L5.41 20z\"/>\n",
              "  </svg>\n",
              "      </button>\n",
              "      \n",
              "  <style>\n",
              "    .colab-df-container {\n",
              "      display:flex;\n",
              "      flex-wrap:wrap;\n",
              "      gap: 12px;\n",
              "    }\n",
              "\n",
              "    .colab-df-convert {\n",
              "      background-color: #E8F0FE;\n",
              "      border: none;\n",
              "      border-radius: 50%;\n",
              "      cursor: pointer;\n",
              "      display: none;\n",
              "      fill: #1967D2;\n",
              "      height: 32px;\n",
              "      padding: 0 0 0 0;\n",
              "      width: 32px;\n",
              "    }\n",
              "\n",
              "    .colab-df-convert:hover {\n",
              "      background-color: #E2EBFA;\n",
              "      box-shadow: 0px 1px 2px rgba(60, 64, 67, 0.3), 0px 1px 3px 1px rgba(60, 64, 67, 0.15);\n",
              "      fill: #174EA6;\n",
              "    }\n",
              "\n",
              "    [theme=dark] .colab-df-convert {\n",
              "      background-color: #3B4455;\n",
              "      fill: #D2E3FC;\n",
              "    }\n",
              "\n",
              "    [theme=dark] .colab-df-convert:hover {\n",
              "      background-color: #434B5C;\n",
              "      box-shadow: 0px 1px 3px 1px rgba(0, 0, 0, 0.15);\n",
              "      filter: drop-shadow(0px 1px 2px rgba(0, 0, 0, 0.3));\n",
              "      fill: #FFFFFF;\n",
              "    }\n",
              "  </style>\n",
              "\n",
              "      <script>\n",
              "        const buttonEl =\n",
              "          document.querySelector('#df-dcbd5494-b766-4870-96ad-c67b3f7e7799 button.colab-df-convert');\n",
              "        buttonEl.style.display =\n",
              "          google.colab.kernel.accessAllowed ? 'block' : 'none';\n",
              "\n",
              "        async function convertToInteractive(key) {\n",
              "          const element = document.querySelector('#df-dcbd5494-b766-4870-96ad-c67b3f7e7799');\n",
              "          const dataTable =\n",
              "            await google.colab.kernel.invokeFunction('convertToInteractive',\n",
              "                                                     [key], {});\n",
              "          if (!dataTable) return;\n",
              "\n",
              "          const docLinkHtml = 'Like what you see? Visit the ' +\n",
              "            '<a target=\"_blank\" href=https://colab.research.google.com/notebooks/data_table.ipynb>data table notebook</a>'\n",
              "            + ' to learn more about interactive tables.';\n",
              "          element.innerHTML = '';\n",
              "          dataTable['output_type'] = 'display_data';\n",
              "          await google.colab.output.renderOutput(dataTable, element);\n",
              "          const docLink = document.createElement('div');\n",
              "          docLink.innerHTML = docLinkHtml;\n",
              "          element.appendChild(docLink);\n",
              "        }\n",
              "      </script>\n",
              "    </div>\n",
              "  </div>\n",
              "  "
            ]
          },
          "metadata": {},
          "execution_count": 9
        }
      ]
    },
    {
      "cell_type": "code",
      "source": [
        "print(train[train['dir_prev_bfnum'].isna()]['dir_prev_num'].sum()) #모두 dir_prev_num이 0이다"
      ],
      "metadata": {
        "colab": {
          "base_uri": "https://localhost:8080/"
        },
        "id": "0YrQps_ZeJa8",
        "outputId": "5f995fb5-921f-49bd-fbcf-b843287de22e"
      },
      "execution_count": null,
      "outputs": [
        {
          "output_type": "stream",
          "name": "stdout",
          "text": [
            "0\n"
          ]
        }
      ]
    },
    {
      "cell_type": "code",
      "source": [
        "train['dir_prev_bfnum'].fillna(0, inplace=True)"
      ],
      "metadata": {
        "id": "8p5jHiuAeLTN"
      },
      "execution_count": 6,
      "outputs": []
    },
    {
      "cell_type": "code",
      "source": [
        "train.head()"
      ],
      "metadata": {
        "id": "DIMyqb5veOnt",
        "colab": {
          "base_uri": "https://localhost:8080/",
          "height": 206
        },
        "outputId": "9533b0a2-ede3-4f79-bd75-109aa7a021db"
      },
      "execution_count": null,
      "outputs": [
        {
          "output_type": "execute_result",
          "data": {
            "text/plain": [
              "       title   distributor genre release_time  time screening_rat director  \\\n",
              "0     개들의 전쟁      롯데엔터테인먼트    액션   2012-11-22    96      청소년 관람불가      조병옥   \n",
              "1       내부자들        (주)쇼박스   느와르   2015-11-19   130      청소년 관람불가      우민호   \n",
              "2  은밀하게 위대하게        (주)쇼박스    액션   2013-06-05   123       15세 관람가      장철수   \n",
              "3   나는 공무원이다        (주)NEW   코미디   2012-07-12   101        전체 관람가      구자홍   \n",
              "4       불량남녀  쇼박스(주)미디어플렉스   코미디   2010-11-04   108       15세 관람가      신근호   \n",
              "\n",
              "   dir_prev_bfnum  dir_prev_num  num_staff  num_actor  box_off_num  \n",
              "0            0.00             0         91          2        23398  \n",
              "1      1161602.50             2        387          3      7072501  \n",
              "2       220775.25             4        343          4      6959083  \n",
              "3        23894.00             2         20          6       217866  \n",
              "4            1.00             1        251          2       483387  "
            ],
            "text/html": [
              "\n",
              "  <div id=\"df-f8b9fffb-375c-4563-9305-f4ab9a0c0bd3\">\n",
              "    <div class=\"colab-df-container\">\n",
              "      <div>\n",
              "<style scoped>\n",
              "    .dataframe tbody tr th:only-of-type {\n",
              "        vertical-align: middle;\n",
              "    }\n",
              "\n",
              "    .dataframe tbody tr th {\n",
              "        vertical-align: top;\n",
              "    }\n",
              "\n",
              "    .dataframe thead th {\n",
              "        text-align: right;\n",
              "    }\n",
              "</style>\n",
              "<table border=\"1\" class=\"dataframe\">\n",
              "  <thead>\n",
              "    <tr style=\"text-align: right;\">\n",
              "      <th></th>\n",
              "      <th>title</th>\n",
              "      <th>distributor</th>\n",
              "      <th>genre</th>\n",
              "      <th>release_time</th>\n",
              "      <th>time</th>\n",
              "      <th>screening_rat</th>\n",
              "      <th>director</th>\n",
              "      <th>dir_prev_bfnum</th>\n",
              "      <th>dir_prev_num</th>\n",
              "      <th>num_staff</th>\n",
              "      <th>num_actor</th>\n",
              "      <th>box_off_num</th>\n",
              "    </tr>\n",
              "  </thead>\n",
              "  <tbody>\n",
              "    <tr>\n",
              "      <th>0</th>\n",
              "      <td>개들의 전쟁</td>\n",
              "      <td>롯데엔터테인먼트</td>\n",
              "      <td>액션</td>\n",
              "      <td>2012-11-22</td>\n",
              "      <td>96</td>\n",
              "      <td>청소년 관람불가</td>\n",
              "      <td>조병옥</td>\n",
              "      <td>0.00</td>\n",
              "      <td>0</td>\n",
              "      <td>91</td>\n",
              "      <td>2</td>\n",
              "      <td>23398</td>\n",
              "    </tr>\n",
              "    <tr>\n",
              "      <th>1</th>\n",
              "      <td>내부자들</td>\n",
              "      <td>(주)쇼박스</td>\n",
              "      <td>느와르</td>\n",
              "      <td>2015-11-19</td>\n",
              "      <td>130</td>\n",
              "      <td>청소년 관람불가</td>\n",
              "      <td>우민호</td>\n",
              "      <td>1161602.50</td>\n",
              "      <td>2</td>\n",
              "      <td>387</td>\n",
              "      <td>3</td>\n",
              "      <td>7072501</td>\n",
              "    </tr>\n",
              "    <tr>\n",
              "      <th>2</th>\n",
              "      <td>은밀하게 위대하게</td>\n",
              "      <td>(주)쇼박스</td>\n",
              "      <td>액션</td>\n",
              "      <td>2013-06-05</td>\n",
              "      <td>123</td>\n",
              "      <td>15세 관람가</td>\n",
              "      <td>장철수</td>\n",
              "      <td>220775.25</td>\n",
              "      <td>4</td>\n",
              "      <td>343</td>\n",
              "      <td>4</td>\n",
              "      <td>6959083</td>\n",
              "    </tr>\n",
              "    <tr>\n",
              "      <th>3</th>\n",
              "      <td>나는 공무원이다</td>\n",
              "      <td>(주)NEW</td>\n",
              "      <td>코미디</td>\n",
              "      <td>2012-07-12</td>\n",
              "      <td>101</td>\n",
              "      <td>전체 관람가</td>\n",
              "      <td>구자홍</td>\n",
              "      <td>23894.00</td>\n",
              "      <td>2</td>\n",
              "      <td>20</td>\n",
              "      <td>6</td>\n",
              "      <td>217866</td>\n",
              "    </tr>\n",
              "    <tr>\n",
              "      <th>4</th>\n",
              "      <td>불량남녀</td>\n",
              "      <td>쇼박스(주)미디어플렉스</td>\n",
              "      <td>코미디</td>\n",
              "      <td>2010-11-04</td>\n",
              "      <td>108</td>\n",
              "      <td>15세 관람가</td>\n",
              "      <td>신근호</td>\n",
              "      <td>1.00</td>\n",
              "      <td>1</td>\n",
              "      <td>251</td>\n",
              "      <td>2</td>\n",
              "      <td>483387</td>\n",
              "    </tr>\n",
              "  </tbody>\n",
              "</table>\n",
              "</div>\n",
              "      <button class=\"colab-df-convert\" onclick=\"convertToInteractive('df-f8b9fffb-375c-4563-9305-f4ab9a0c0bd3')\"\n",
              "              title=\"Convert this dataframe to an interactive table.\"\n",
              "              style=\"display:none;\">\n",
              "        \n",
              "  <svg xmlns=\"http://www.w3.org/2000/svg\" height=\"24px\"viewBox=\"0 0 24 24\"\n",
              "       width=\"24px\">\n",
              "    <path d=\"M0 0h24v24H0V0z\" fill=\"none\"/>\n",
              "    <path d=\"M18.56 5.44l.94 2.06.94-2.06 2.06-.94-2.06-.94-.94-2.06-.94 2.06-2.06.94zm-11 1L8.5 8.5l.94-2.06 2.06-.94-2.06-.94L8.5 2.5l-.94 2.06-2.06.94zm10 10l.94 2.06.94-2.06 2.06-.94-2.06-.94-.94-2.06-.94 2.06-2.06.94z\"/><path d=\"M17.41 7.96l-1.37-1.37c-.4-.4-.92-.59-1.43-.59-.52 0-1.04.2-1.43.59L10.3 9.45l-7.72 7.72c-.78.78-.78 2.05 0 2.83L4 21.41c.39.39.9.59 1.41.59.51 0 1.02-.2 1.41-.59l7.78-7.78 2.81-2.81c.8-.78.8-2.07 0-2.86zM5.41 20L4 18.59l7.72-7.72 1.47 1.35L5.41 20z\"/>\n",
              "  </svg>\n",
              "      </button>\n",
              "      \n",
              "  <style>\n",
              "    .colab-df-container {\n",
              "      display:flex;\n",
              "      flex-wrap:wrap;\n",
              "      gap: 12px;\n",
              "    }\n",
              "\n",
              "    .colab-df-convert {\n",
              "      background-color: #E8F0FE;\n",
              "      border: none;\n",
              "      border-radius: 50%;\n",
              "      cursor: pointer;\n",
              "      display: none;\n",
              "      fill: #1967D2;\n",
              "      height: 32px;\n",
              "      padding: 0 0 0 0;\n",
              "      width: 32px;\n",
              "    }\n",
              "\n",
              "    .colab-df-convert:hover {\n",
              "      background-color: #E2EBFA;\n",
              "      box-shadow: 0px 1px 2px rgba(60, 64, 67, 0.3), 0px 1px 3px 1px rgba(60, 64, 67, 0.15);\n",
              "      fill: #174EA6;\n",
              "    }\n",
              "\n",
              "    [theme=dark] .colab-df-convert {\n",
              "      background-color: #3B4455;\n",
              "      fill: #D2E3FC;\n",
              "    }\n",
              "\n",
              "    [theme=dark] .colab-df-convert:hover {\n",
              "      background-color: #434B5C;\n",
              "      box-shadow: 0px 1px 3px 1px rgba(0, 0, 0, 0.15);\n",
              "      filter: drop-shadow(0px 1px 2px rgba(0, 0, 0, 0.3));\n",
              "      fill: #FFFFFF;\n",
              "    }\n",
              "  </style>\n",
              "\n",
              "      <script>\n",
              "        const buttonEl =\n",
              "          document.querySelector('#df-f8b9fffb-375c-4563-9305-f4ab9a0c0bd3 button.colab-df-convert');\n",
              "        buttonEl.style.display =\n",
              "          google.colab.kernel.accessAllowed ? 'block' : 'none';\n",
              "\n",
              "        async function convertToInteractive(key) {\n",
              "          const element = document.querySelector('#df-f8b9fffb-375c-4563-9305-f4ab9a0c0bd3');\n",
              "          const dataTable =\n",
              "            await google.colab.kernel.invokeFunction('convertToInteractive',\n",
              "                                                     [key], {});\n",
              "          if (!dataTable) return;\n",
              "\n",
              "          const docLinkHtml = 'Like what you see? Visit the ' +\n",
              "            '<a target=\"_blank\" href=https://colab.research.google.com/notebooks/data_table.ipynb>data table notebook</a>'\n",
              "            + ' to learn more about interactive tables.';\n",
              "          element.innerHTML = '';\n",
              "          dataTable['output_type'] = 'display_data';\n",
              "          await google.colab.output.renderOutput(dataTable, element);\n",
              "          const docLink = document.createElement('div');\n",
              "          docLink.innerHTML = docLinkHtml;\n",
              "          element.appendChild(docLink);\n",
              "        }\n",
              "      </script>\n",
              "    </div>\n",
              "  </div>\n",
              "  "
            ]
          },
          "metadata": {},
          "execution_count": 13
        }
      ]
    },
    {
      "cell_type": "code",
      "source": [
        "#release_time을 int -> datatime 형태로 변환\n",
        "train['release_time']=pd.to_datetime(train['release_time'])"
      ],
      "metadata": {
        "id": "Mp3EFrVgpr-b"
      },
      "execution_count": 7,
      "outputs": []
    },
    {
      "cell_type": "markdown",
      "source": [
        "#**3. 데이터 시각화 및 분석**"
      ],
      "metadata": {
        "id": "_MuYlaI0fhss"
      }
    },
    {
      "cell_type": "markdown",
      "source": [
        "##**1) 관객수 분석**"
      ],
      "metadata": {
        "id": "WQz2zX3dfl-8"
      }
    },
    {
      "cell_type": "markdown",
      "source": [
        "### **1-1) 관객수 - 배급사**\n",
        "\n",
        "- 사용한 변수:  distributor, box_off_num "
      ],
      "metadata": {
        "id": "PDAHCMjGu5O9"
      }
    },
    {
      "cell_type": "code",
      "source": [
        "## 배급사 규모 별 분할 기준 설정\n",
        "\n",
        "# 배급사의 규모는 상영 영화 수를 기준으로 판단\n",
        "# 배급사별 상영 영화 수를 dist_aud_movie라는 열 이름으로 train dataframe에 추가\n",
        "train['dist_aud_movie'] = train.groupby(['distributor'])['distributor'].transform('count') # distributor로 묶어서, distributor의 갯수를 count 해서 transform을 이용해 열 추가. \n",
        "\n",
        "ax = plt.subplots()\n",
        "ax = sns.distplot(train['dist_aud_movie'], kde=False) #dist_aud_movie 에 대한 분포를 나타내준다.\n",
        "ax.set_title(\"배급사의 영화상영수 분포\")\n",
        "ax.set_xlabel(\"영화 상영수\")\n",
        "ax.set_ylabel(\"배급사 수\")"
      ],
      "metadata": {
        "colab": {
          "base_uri": "https://localhost:8080/",
          "height": 311
        },
        "id": "w5xh2AO8udmQ",
        "outputId": "368eec69-57e4-4cb7-9f31-a4da5b2c487a"
      },
      "execution_count": null,
      "outputs": [
        {
          "output_type": "execute_result",
          "data": {
            "text/plain": [
              "Text(0, 0.5, '배급사 수')"
            ]
          },
          "metadata": {},
          "execution_count": 15
        },
        {
          "output_type": "display_data",
          "data": {
            "text/plain": [
              "<Figure size 432x288 with 1 Axes>"
            ],
            "image/png": "[encoded data removed]"
          },
          "metadata": {
            "needs_background": "light"
          }
        }
      ]
    },
    {
      "cell_type": "markdown",
      "source": [
        "* 위 히스토그램을 통해 배급사의 영화 상영수에 대한 분포가 3개의 봉우리, 즉 3개의 집단으로 나눠어지는 것을 알 수 있다.\n",
        "* 3개의 집단를 나누는 기준인 영화 상영수 20, 40 을 기준으로 배급사 규모를 분할하였다. \n",
        "  1. 소형 배급사 : 영화상영수 0이상 20미만\n",
        "  2. 중형 배급사 : 영화상영수 20이상 40미만\n",
        "  3. 대형 배급사 : 영화상영수 40이상"
      ],
      "metadata": {
        "id": "aGGyJ2Y50XbI"
      }
    },
    {
      "cell_type": "code",
      "source": [
        "# 비슷한 빈도수 가질 수 있도록 분할 기준 살펴보기\n",
        "dist_large = ((train['dist_aud_movie']>=0) & (train['dist_aud_movie']< 20)).sum() #184\n",
        "dist_med = ((train['dist_aud_movie']>=20) & (train['dist_aud_movie']<40)).sum() #199\n",
        "dist_small = (train['dist_aud_movie']>=40).sum() #217\n",
        "print(dist_large, dist_med, dist_small)\n",
        "\n",
        "# 배급사 규모 분할하여 새로운 변수 생성\n",
        "condlist = [( train['dist_aud_movie'] >= 40),( train['dist_aud_movie'] < 40) & ( train['dist_aud_movie'] >= 20),( train['dist_aud_movie'] < 20)]\n",
        "choicelist = ['대형','중형','소형']\n",
        "train['dist_size'] = np.select(condlist, choicelist)\n",
        "train.head()"
      ],
      "metadata": {
        "colab": {
          "base_uri": "https://localhost:8080/",
          "height": 269
        },
        "outputId": "fa3c1605-ba0e-462c-c4a3-c5f3461a9c1e",
        "id": "9vrUufLszgeF"
      },
      "execution_count": null,
      "outputs": [
        {
          "output_type": "stream",
          "name": "stdout",
          "text": [
            "383 111 106\n"
          ]
        },
        {
          "output_type": "execute_result",
          "data": {
            "text/plain": [
              "       title   distributor genre release_time  time screening_rat director  \\\n",
              "0     개들의 전쟁      롯데엔터테인먼트    액션   2012-11-22    96      청소년 관람불가      조병옥   \n",
              "1       내부자들        (주)쇼박스   느와르   2015-11-19   130      청소년 관람불가      우민호   \n",
              "2  은밀하게 위대하게        (주)쇼박스    액션   2013-06-05   123       15세 관람가      장철수   \n",
              "3   나는 공무원이다        (주)NEW   코미디   2012-07-12   101        전체 관람가      구자홍   \n",
              "4       불량남녀  쇼박스(주)미디어플렉스   코미디   2010-11-04   108       15세 관람가      신근호   \n",
              "\n",
              "   dir_prev_bfnum  dir_prev_num  num_staff  num_actor  box_off_num  \\\n",
              "0            0.00             0         91          2        23398   \n",
              "1      1161602.50             2        387          3      7072501   \n",
              "2       220775.25             4        343          4      6959083   \n",
              "3        23894.00             2         20          6       217866   \n",
              "4            1.00             1        251          2       483387   \n",
              "\n",
              "   dist_aud_movie dist_size  \n",
              "0              52        대형  \n",
              "1              26        중형  \n",
              "2              26        중형  \n",
              "3              30        중형  \n",
              "4               2        소형  "
            ],
            "text/html": [
              "\n",
              "  <div id=\"df-8e65d312-0cc8-4f80-8236-d3bd0a90f390\">\n",
              "    <div class=\"colab-df-container\">\n",
              "      <div>\n",
              "<style scoped>\n",
              "    .dataframe tbody tr th:only-of-type {\n",
              "        vertical-align: middle;\n",
              "    }\n",
              "\n",
              "    .dataframe tbody tr th {\n",
              "        vertical-align: top;\n",
              "    }\n",
              "\n",
              "    .dataframe thead th {\n",
              "        text-align: right;\n",
              "    }\n",
              "</style>\n",
              "<table border=\"1\" class=\"dataframe\">\n",
              "  <thead>\n",
              "    <tr style=\"text-align: right;\">\n",
              "      <th></th>\n",
              "      <th>title</th>\n",
              "      <th>distributor</th>\n",
              "      <th>genre</th>\n",
              "      <th>release_time</th>\n",
              "      <th>time</th>\n",
              "      <th>screening_rat</th>\n",
              "      <th>director</th>\n",
              "      <th>dir_prev_bfnum</th>\n",
              "      <th>dir_prev_num</th>\n",
              "      <th>num_staff</th>\n",
              "      <th>num_actor</th>\n",
              "      <th>box_off_num</th>\n",
              "      <th>dist_aud_movie</th>\n",
              "      <th>dist_size</th>\n",
              "    </tr>\n",
              "  </thead>\n",
              "  <tbody>\n",
              "    <tr>\n",
              "      <th>0</th>\n",
              "      <td>개들의 전쟁</td>\n",
              "      <td>롯데엔터테인먼트</td>\n",
              "      <td>액션</td>\n",
              "      <td>2012-11-22</td>\n",
              "      <td>96</td>\n",
              "      <td>청소년 관람불가</td>\n",
              "      <td>조병옥</td>\n",
              "      <td>0.00</td>\n",
              "      <td>0</td>\n",
              "      <td>91</td>\n",
              "      <td>2</td>\n",
              "      <td>23398</td>\n",
              "      <td>52</td>\n",
              "      <td>대형</td>\n",
              "    </tr>\n",
              "    <tr>\n",
              "      <th>1</th>\n",
              "      <td>내부자들</td>\n",
              "      <td>(주)쇼박스</td>\n",
              "      <td>느와르</td>\n",
              "      <td>2015-11-19</td>\n",
              "      <td>130</td>\n",
              "      <td>청소년 관람불가</td>\n",
              "      <td>우민호</td>\n",
              "      <td>1161602.50</td>\n",
              "      <td>2</td>\n",
              "      <td>387</td>\n",
              "      <td>3</td>\n",
              "      <td>7072501</td>\n",
              "      <td>26</td>\n",
              "      <td>중형</td>\n",
              "    </tr>\n",
              "    <tr>\n",
              "      <th>2</th>\n",
              "      <td>은밀하게 위대하게</td>\n",
              "      <td>(주)쇼박스</td>\n",
              "      <td>액션</td>\n",
              "      <td>2013-06-05</td>\n",
              "      <td>123</td>\n",
              "      <td>15세 관람가</td>\n",
              "      <td>장철수</td>\n",
              "      <td>220775.25</td>\n",
              "      <td>4</td>\n",
              "      <td>343</td>\n",
              "      <td>4</td>\n",
              "      <td>6959083</td>\n",
              "      <td>26</td>\n",
              "      <td>중형</td>\n",
              "    </tr>\n",
              "    <tr>\n",
              "      <th>3</th>\n",
              "      <td>나는 공무원이다</td>\n",
              "      <td>(주)NEW</td>\n",
              "      <td>코미디</td>\n",
              "      <td>2012-07-12</td>\n",
              "      <td>101</td>\n",
              "      <td>전체 관람가</td>\n",
              "      <td>구자홍</td>\n",
              "      <td>23894.00</td>\n",
              "      <td>2</td>\n",
              "      <td>20</td>\n",
              "      <td>6</td>\n",
              "      <td>217866</td>\n",
              "      <td>30</td>\n",
              "      <td>중형</td>\n",
              "    </tr>\n",
              "    <tr>\n",
              "      <th>4</th>\n",
              "      <td>불량남녀</td>\n",
              "      <td>쇼박스(주)미디어플렉스</td>\n",
              "      <td>코미디</td>\n",
              "      <td>2010-11-04</td>\n",
              "      <td>108</td>\n",
              "      <td>15세 관람가</td>\n",
              "      <td>신근호</td>\n",
              "      <td>1.00</td>\n",
              "      <td>1</td>\n",
              "      <td>251</td>\n",
              "      <td>2</td>\n",
              "      <td>483387</td>\n",
              "      <td>2</td>\n",
              "      <td>소형</td>\n",
              "    </tr>\n",
              "  </tbody>\n",
              "</table>\n",
              "</div>\n",
              "      <button class=\"colab-df-convert\" onclick=\"convertToInteractive('df-8e65d312-0cc8-4f80-8236-d3bd0a90f390')\"\n",
              "              title=\"Convert this dataframe to an interactive table.\"\n",
              "              style=\"display:none;\">\n",
              "        \n",
              "  <svg xmlns=\"http://www.w3.org/2000/svg\" height=\"24px\"viewBox=\"0 0 24 24\"\n",
              "       width=\"24px\">\n",
              "    <path d=\"M0 0h24v24H0V0z\" fill=\"none\"/>\n",
              "    <path d=\"M18.56 5.44l.94 2.06.94-2.06 2.06-.94-2.06-.94-.94-2.06-.94 2.06-2.06.94zm-11 1L8.5 8.5l.94-2.06 2.06-.94-2.06-.94L8.5 2.5l-.94 2.06-2.06.94zm10 10l.94 2.06.94-2.06 2.06-.94-2.06-.94-.94-2.06-.94 2.06-2.06.94z\"/><path d=\"M17.41 7.96l-1.37-1.37c-.4-.4-.92-.59-1.43-.59-.52 0-1.04.2-1.43.59L10.3 9.45l-7.72 7.72c-.78.78-.78 2.05 0 2.83L4 21.41c.39.39.9.59 1.41.59.51 0 1.02-.2 1.41-.59l7.78-7.78 2.81-2.81c.8-.78.8-2.07 0-2.86zM5.41 20L4 18.59l7.72-7.72 1.47 1.35L5.41 20z\"/>\n",
              "  </svg>\n",
              "      </button>\n",
              "      \n",
              "  <style>\n",
              "    .colab-df-container {\n",
              "      display:flex;\n",
              "      flex-wrap:wrap;\n",
              "      gap: 12px;\n",
              "    }\n",
              "\n",
              "    .colab-df-convert {\n",
              "      background-color: #E8F0FE;\n",
              "      border: none;\n",
              "      border-radius: 50%;\n",
              "      cursor: pointer;\n",
              "      display: none;\n",
              "      fill: #1967D2;\n",
              "      height: 32px;\n",
              "      padding: 0 0 0 0;\n",
              "      width: 32px;\n",
              "    }\n",
              "\n",
              "    .colab-df-convert:hover {\n",
              "      background-color: #E2EBFA;\n",
              "      box-shadow: 0px 1px 2px rgba(60, 64, 67, 0.3), 0px 1px 3px 1px rgba(60, 64, 67, 0.15);\n",
              "      fill: #174EA6;\n",
              "    }\n",
              "\n",
              "    [theme=dark] .colab-df-convert {\n",
              "      background-color: #3B4455;\n",
              "      fill: #D2E3FC;\n",
              "    }\n",
              "\n",
              "    [theme=dark] .colab-df-convert:hover {\n",
              "      background-color: #434B5C;\n",
              "      box-shadow: 0px 1px 3px 1px rgba(0, 0, 0, 0.15);\n",
              "      filter: drop-shadow(0px 1px 2px rgba(0, 0, 0, 0.3));\n",
              "      fill: #FFFFFF;\n",
              "    }\n",
              "  </style>\n",
              "\n",
              "      <script>\n",
              "        const buttonEl =\n",
              "          document.querySelector('#df-8e65d312-0cc8-4f80-8236-d3bd0a90f390 button.colab-df-convert');\n",
              "        buttonEl.style.display =\n",
              "          google.colab.kernel.accessAllowed ? 'block' : 'none';\n",
              "\n",
              "        async function convertToInteractive(key) {\n",
              "          const element = document.querySelector('#df-8e65d312-0cc8-4f80-8236-d3bd0a90f390');\n",
              "          const dataTable =\n",
              "            await google.colab.kernel.invokeFunction('convertToInteractive',\n",
              "                                                     [key], {});\n",
              "          if (!dataTable) return;\n",
              "\n",
              "          const docLinkHtml = 'Like what you see? Visit the ' +\n",
              "            '<a target=\"_blank\" href=https://colab.research.google.com/notebooks/data_table.ipynb>data table notebook</a>'\n",
              "            + ' to learn more about interactive tables.';\n",
              "          element.innerHTML = '';\n",
              "          dataTable['output_type'] = 'display_data';\n",
              "          await google.colab.output.renderOutput(dataTable, element);\n",
              "          const docLink = document.createElement('div');\n",
              "          docLink.innerHTML = docLinkHtml;\n",
              "          element.appendChild(docLink);\n",
              "        }\n",
              "      </script>\n",
              "    </div>\n",
              "  </div>\n",
              "  "
            ]
          },
          "metadata": {},
          "execution_count": 16
        }
      ]
    },
    {
      "cell_type": "code",
      "source": [
        "# 배급사 규모(대형, 중형, 소형)와 관객수의 관계\n",
        "plt.rcParams['figure.figsize'] = [10, 10]\n",
        "ax=plt.subplots()\n",
        "ax=sns.boxplot(x='dist_size',y='box_off_num',data= train,order=['대형','중형','소형'])\n",
        "\n",
        "#제목 및 라벨 추가\n",
        "ax.set_title('배급사 규모와 관객수의 관계를 나타내는 boxplot')\n",
        "ax.set_xlabel('배급사 규모')\n",
        "ax.set_ylabel('관객수')"
      ],
      "metadata": {
        "colab": {
          "base_uri": "https://localhost:8080/",
          "height": 637
        },
        "id": "2of38iAK1CUe",
        "outputId": "597a8775-f9bf-4d99-fb9f-87e355c69e13"
      },
      "execution_count": null,
      "outputs": [
        {
          "output_type": "execute_result",
          "data": {
            "text/plain": [
              "Text(0, 0.5, '관객수')"
            ]
          },
          "metadata": {},
          "execution_count": 17
        },
        {
          "output_type": "display_data",
          "data": {
            "text/plain": [
              "<Figure size 720x720 with 1 Axes>"
            ],
            "image/png": "[encoded data removed]"
          },
          "metadata": {
            "needs_background": "light"
          }
        }
      ]
    },
    {
      "cell_type": "markdown",
      "source": [
        "##### | 분석 결과\n",
        "___\n",
        "- 대형, 중형, 소형 배급사 순으로 관객수가 많다. \n",
        "- 대형 배급사와 중형 배급사의 관객수는 비슷하지만, 소형배급사의 관객수는 월등히 작은 것을 확인할 수 있다. "
      ],
      "metadata": {
        "id": "WK41iRZ15B7T"
      }
    },
    {
      "cell_type": "markdown",
      "source": [
        "### **1-2) 관객수 - 장르**\n",
        "\n",
        "\n",
        "- 사용한 변수:  genre, box_off_num "
      ],
      "metadata": {
        "id": "ORBjLqsx50M_"
      }
    },
    {
      "cell_type": "code",
      "source": [
        "# 장르별 총 관객 수 구하기\n",
        "train.groupby('genre')['box_off_num'].sum().sort_values(ascending=False)"
      ],
      "metadata": {
        "colab": {
          "base_uri": "https://localhost:8080/"
        },
        "id": "2HdqFMkZQr4m",
        "outputId": "f83f28bf-3b7f-4c41-93d2-72c6f2ead35e"
      },
      "execution_count": null,
      "outputs": [
        {
          "output_type": "execute_result",
          "data": {
            "text/plain": [
              "genre\n",
              "드라마       138277444\n",
              "코미디        63277442\n",
              "액션         61711274\n",
              "느와르        61119768\n",
              "멜로/로맨스     33225507\n",
              "공포         24814966\n",
              "SF         23248494\n",
              "미스터리        8968319\n",
              "다큐멘터리       6247020\n",
              "애니메이션       3820460\n",
              "서스펜스         165222\n",
              "뮤지컬           33135\n",
              "Name: box_off_num, dtype: int64"
            ]
          },
          "metadata": {},
          "execution_count": 18
        }
      ]
    },
    {
      "cell_type": "code",
      "source": [
        "# 장르별 총 관객 수 bar 플랏\n",
        "genre_aud = train.groupby('genre')['box_off_num'].sum().sort_values(ascending=False)\n",
        "df = pd.DataFrame(genre_aud)\n",
        "df[\"genre\"]= df.index #genre 열 생성\n",
        "plt.rcParams['figure.figsize'] = [10,10] \n",
        "ax = plt.subplots()\n",
        "ax = sns.barplot(x='genre', y='box_off_num',data = df)\n",
        "\n",
        "#제목 및 라벨 추가\n",
        "ax.set_title('장르 별 관객 수의 관계를 나타내는 bar')\n",
        "ax.set_xlabel('장르')\n",
        "ax.set_ylabel('관객수')"
      ],
      "metadata": {
        "colab": {
          "base_uri": "https://localhost:8080/",
          "height": 638
        },
        "id": "YmJ03vERI_om",
        "outputId": "3fd4a8ef-8d1c-493b-858a-cf7eef2f4d45"
      },
      "execution_count": null,
      "outputs": [
        {
          "output_type": "execute_result",
          "data": {
            "text/plain": [
              "Text(0, 0.5, '관객수')"
            ]
          },
          "metadata": {},
          "execution_count": 19
        },
        {
          "output_type": "display_data",
          "data": {
            "text/plain": [
              "<Figure size 720x720 with 1 Axes>"
            ],
            "image/png": "[encoded data removed]"
          },
          "metadata": {
            "needs_background": "light"
          }
        }
      ]
    },
    {
      "cell_type": "markdown",
      "source": [
        "##### | 분석 결과\n",
        "___\n",
        "- 드라마, 코미디, 액션, 그리고 느와르 순으로 총 관객 수가 많다. \n",
        "- 드라마의 관객수는 코미디, 액션, 느와르 관객수의 2배 이상이라고 할 수 있다. "
      ],
      "metadata": {
        "id": "yb8Tzc7v997_"
      }
    },
    {
      "cell_type": "markdown",
      "source": [
        "### **1-3) 관객수 - 감독유명도**\n",
        "- 사용한 변수:  dir_prev_bfnum, box_off_num \n"
      ],
      "metadata": {
        "id": "llEODIDLyXjl"
      }
    },
    {
      "cell_type": "code",
      "source": [
        "train['유명도']=''\n",
        "for i in range(len(train)):\n",
        "  if train['dir_prev_bfnum'][i]==0: \n",
        "    train['유명도'][i]='1'\n",
        "  elif train['dir_prev_bfnum'][i]<100000:\n",
        "    train['유명도'][i]='2'\n",
        "  elif train['dir_prev_bfnum'][i]<500000:\n",
        "    train['유명도'][i]='3'\n",
        "  elif train['dir_prev_bfnum'][i]<1000000: \n",
        "    train['유명도'][i]='4'\n",
        "  else:\n",
        "    train['유명도'][i]='5'\n",
        "\n",
        "train['유명도'].value_counts()"
      ],
      "metadata": {
        "id": "0mywzJIsOGw9",
        "colab": {
          "base_uri": "https://localhost:8080/"
        },
        "outputId": "a5e2182b-d337-4937-8a13-3dcbdcc0d732"
      },
      "execution_count": null,
      "outputs": [
        {
          "output_type": "execute_result",
          "data": {
            "text/plain": [
              "1    330\n",
              "2     95\n",
              "5     90\n",
              "3     46\n",
              "4     39\n",
              "Name: 유명도, dtype: int64"
            ]
          },
          "metadata": {},
          "execution_count": 20
        }
      ]
    },
    {
      "cell_type": "markdown",
      "source": [
        "* 감독의 전제작 영화에서의 평균 관객수를 기준으로 구간을 나누어 '유명도'라는 변수를 생성했다. "
      ],
      "metadata": {
        "id": "4G28hmY7yc3d"
      }
    },
    {
      "cell_type": "code",
      "source": [
        "plt.figure()\n",
        "train[['box_off_num']].groupby(train['유명도']).mean().plot(kind='bar')\n",
        "\n",
        "plt.title('감독유명도 별 평균 관객 수')\n",
        "plt.xlabel('감독의 유명도')\n",
        "plt.ylabel('평균 관객 수')\n",
        "#범례 위치\n",
        "plt.legend(loc='center left', bbox_to_anchor=(1, 0.5))\n",
        "plt.show()"
      ],
      "metadata": {
        "colab": {
          "base_uri": "https://localhost:8080/",
          "height": 634
        },
        "id": "kq3ShwcEOjtO",
        "outputId": "5faa590f-454f-4f8d-f60c-27fb9f142158"
      },
      "execution_count": null,
      "outputs": [
        {
          "output_type": "display_data",
          "data": {
            "text/plain": [
              "<Figure size 720x720 with 0 Axes>"
            ]
          },
          "metadata": {}
        },
        {
          "output_type": "display_data",
          "data": {
            "text/plain": [
              "<Figure size 720x720 with 1 Axes>"
            ],
            "image/png": "[encoded data removed]"
          },
          "metadata": {
            "needs_background": "light"
          }
        }
      ]
    },
    {
      "cell_type": "code",
      "source": [
        "pip install pingouin"
      ],
      "metadata": {
        "id": "AK_24RLRV9Z_",
        "colab": {
          "base_uri": "https://localhost:8080/"
        },
        "outputId": "2fdcd81b-eb08-4289-9982-5b04d7f9a0d1"
      },
      "execution_count": 12,
      "outputs": [
        {
          "output_type": "stream",
          "name": "stdout",
          "text": [
            "Looking in indexes: https://pypi.org/simple, https://us-python.pkg.dev/colab-wheels/public/simple/\n",
            "Requirement already satisfied: pingouin in /usr/local/lib/python3.7/dist-packages (0.5.2)\n",
            "Requirement already satisfied: scipy>=1.7 in /usr/local/lib/python3.7/dist-packages (from pingouin) (1.7.3)\n",
            "Requirement already satisfied: pandas>=1.0 in /usr/local/lib/python3.7/dist-packages (from pingouin) (1.3.5)\n",
            "Requirement already satisfied: scikit-learn<1.1.0 in /usr/local/lib/python3.7/dist-packages (from pingouin) (1.0.2)\n",
            "Requirement already satisfied: outdated in /usr/local/lib/python3.7/dist-packages (from pingouin) (0.2.1)\n",
            "Requirement already satisfied: tabulate in /usr/local/lib/python3.7/dist-packages (from pingouin) (0.8.10)\n",
            "Requirement already satisfied: statsmodels>=0.13 in /usr/local/lib/python3.7/dist-packages (from pingouin) (0.13.2)\n",
            "Requirement already satisfied: numpy>=1.19 in /usr/local/lib/python3.7/dist-packages (from pingouin) (1.21.6)\n",
            "Requirement already satisfied: matplotlib>=3.0.2 in /usr/local/lib/python3.7/dist-packages (from pingouin) (3.2.2)\n",
            "Requirement already satisfied: pandas-flavor>=0.2.0 in /usr/local/lib/python3.7/dist-packages (from pingouin) (0.2.0)\n",
            "Requirement already satisfied: seaborn>=0.11 in /usr/local/lib/python3.7/dist-packages (from pingouin) (0.11.2)\n",
            "Requirement already satisfied: cycler>=0.10 in /usr/local/lib/python3.7/dist-packages (from matplotlib>=3.0.2->pingouin) (0.11.0)\n",
            "Requirement already satisfied: kiwisolver>=1.0.1 in /usr/local/lib/python3.7/dist-packages (from matplotlib>=3.0.2->pingouin) (1.4.4)\n",
            "Requirement already satisfied: pyparsing!=2.0.4,!=2.1.2,!=2.1.6,>=2.0.1 in /usr/local/lib/python3.7/dist-packages (from matplotlib>=3.0.2->pingouin) (3.0.9)\n",
            "Requirement already satisfied: python-dateutil>=2.1 in /usr/local/lib/python3.7/dist-packages (from matplotlib>=3.0.2->pingouin) (2.8.2)\n",
            "Requirement already satisfied: typing-extensions in /usr/local/lib/python3.7/dist-packages (from kiwisolver>=1.0.1->matplotlib>=3.0.2->pingouin) (4.1.1)\n",
            "Requirement already satisfied: pytz>=2017.3 in /usr/local/lib/python3.7/dist-packages (from pandas>=1.0->pingouin) (2022.4)\n",
            "Requirement already satisfied: xarray in /usr/local/lib/python3.7/dist-packages (from pandas-flavor>=0.2.0->pingouin) (0.20.2)\n",
            "Requirement already satisfied: six>=1.5 in /usr/local/lib/python3.7/dist-packages (from python-dateutil>=2.1->matplotlib>=3.0.2->pingouin) (1.15.0)\n",
            "Requirement already satisfied: threadpoolctl>=2.0.0 in /usr/local/lib/python3.7/dist-packages (from scikit-learn<1.1.0->pingouin) (3.1.0)\n",
            "Requirement already satisfied: joblib>=0.11 in /usr/local/lib/python3.7/dist-packages (from scikit-learn<1.1.0->pingouin) (1.2.0)\n",
            "Requirement already satisfied: packaging>=21.3 in /usr/local/lib/python3.7/dist-packages (from statsmodels>=0.13->pingouin) (21.3)\n",
            "Requirement already satisfied: patsy>=0.5.2 in /usr/local/lib/python3.7/dist-packages (from statsmodels>=0.13->pingouin) (0.5.2)\n",
            "Requirement already satisfied: requests in /usr/local/lib/python3.7/dist-packages (from outdated->pingouin) (2.23.0)\n",
            "Requirement already satisfied: littleutils in /usr/local/lib/python3.7/dist-packages (from outdated->pingouin) (0.2.2)\n",
            "Requirement already satisfied: idna<3,>=2.5 in /usr/local/lib/python3.7/dist-packages (from requests->outdated->pingouin) (2.10)\n",
            "Requirement already satisfied: chardet<4,>=3.0.2 in /usr/local/lib/python3.7/dist-packages (from requests->outdated->pingouin) (3.0.4)\n",
            "Requirement already satisfied: urllib3!=1.25.0,!=1.25.1,<1.26,>=1.21.1 in /usr/local/lib/python3.7/dist-packages (from requests->outdated->pingouin) (1.24.3)\n",
            "Requirement already satisfied: certifi>=2017.4.17 in /usr/local/lib/python3.7/dist-packages (from requests->outdated->pingouin) (2022.9.24)\n",
            "Requirement already satisfied: importlib-metadata in /usr/local/lib/python3.7/dist-packages (from xarray->pandas-flavor>=0.2.0->pingouin) (5.0.0)\n",
            "Requirement already satisfied: zipp>=0.5 in /usr/local/lib/python3.7/dist-packages (from importlib-metadata->xarray->pandas-flavor>=0.2.0->pingouin) (3.8.1)\n"
          ]
        }
      ]
    },
    {
      "cell_type": "code",
      "source": [
        "aaa = train[['box_off_num']].groupby(train['유명도']).mean().reset_index()\n",
        "aaa.columns = ['유명도', '평균관객수']\n",
        "aaa\n",
        "\n",
        "#상관관계 검정 (감독의 유명도:범주형 변수/평균 관객 수:연속형 변수) => 비모수 검정 (스피어만)\n",
        "import pingouin as pg\n",
        "pg.corr(aaa.유명도.astype(int), aaa.평균관객수, method=\"spearman\")"
      ],
      "metadata": {
        "colab": {
          "base_uri": "https://localhost:8080/",
          "height": 81
        },
        "id": "6nNHYyyLUtpF",
        "outputId": "3272fc92-9982-4469-b95e-e6be77f327dd"
      },
      "execution_count": 13,
      "outputs": [
        {
          "output_type": "execute_result",
          "data": {
            "text/plain": [
              "          n    r       CI95%         p-val  power\n",
              "spearman  5  1.0  [1.0, 1.0]  1.404265e-24    1.0"
            ],
            "text/html": [
              "\n",
              "  <div id=\"df-7f523e0b-7174-49cc-b25f-ab14aeab5ccb\">\n",
              "    <div class=\"colab-df-container\">\n",
              "      <div>\n",
              "<style scoped>\n",
              "    .dataframe tbody tr th:only-of-type {\n",
              "        vertical-align: middle;\n",
              "    }\n",
              "\n",
              "    .dataframe tbody tr th {\n",
              "        vertical-align: top;\n",
              "    }\n",
              "\n",
              "    .dataframe thead th {\n",
              "        text-align: right;\n",
              "    }\n",
              "</style>\n",
              "<table border=\"1\" class=\"dataframe\">\n",
              "  <thead>\n",
              "    <tr style=\"text-align: right;\">\n",
              "      <th></th>\n",
              "      <th>n</th>\n",
              "      <th>r</th>\n",
              "      <th>CI95%</th>\n",
              "      <th>p-val</th>\n",
              "      <th>power</th>\n",
              "    </tr>\n",
              "  </thead>\n",
              "  <tbody>\n",
              "    <tr>\n",
              "      <th>spearman</th>\n",
              "      <td>5</td>\n",
              "      <td>1.0</td>\n",
              "      <td>[1.0, 1.0]</td>\n",
              "      <td>1.404265e-24</td>\n",
              "      <td>1.0</td>\n",
              "    </tr>\n",
              "  </tbody>\n",
              "</table>\n",
              "</div>\n",
              "      <button class=\"colab-df-convert\" onclick=\"convertToInteractive('df-7f523e0b-7174-49cc-b25f-ab14aeab5ccb')\"\n",
              "              title=\"Convert this dataframe to an interactive table.\"\n",
              "              style=\"display:none;\">\n",
              "        \n",
              "  <svg xmlns=\"http://www.w3.org/2000/svg\" height=\"24px\"viewBox=\"0 0 24 24\"\n",
              "       width=\"24px\">\n",
              "    <path d=\"M0 0h24v24H0V0z\" fill=\"none\"/>\n",
              "    <path d=\"M18.56 5.44l.94 2.06.94-2.06 2.06-.94-2.06-.94-.94-2.06-.94 2.06-2.06.94zm-11 1L8.5 8.5l.94-2.06 2.06-.94-2.06-.94L8.5 2.5l-.94 2.06-2.06.94zm10 10l.94 2.06.94-2.06 2.06-.94-2.06-.94-.94-2.06-.94 2.06-2.06.94z\"/><path d=\"M17.41 7.96l-1.37-1.37c-.4-.4-.92-.59-1.43-.59-.52 0-1.04.2-1.43.59L10.3 9.45l-7.72 7.72c-.78.78-.78 2.05 0 2.83L4 21.41c.39.39.9.59 1.41.59.51 0 1.02-.2 1.41-.59l7.78-7.78 2.81-2.81c.8-.78.8-2.07 0-2.86zM5.41 20L4 18.59l7.72-7.72 1.47 1.35L5.41 20z\"/>\n",
              "  </svg>\n",
              "      </button>\n",
              "      \n",
              "  <style>\n",
              "    .colab-df-container {\n",
              "      display:flex;\n",
              "      flex-wrap:wrap;\n",
              "      gap: 12px;\n",
              "    }\n",
              "\n",
              "    .colab-df-convert {\n",
              "      background-color: #E8F0FE;\n",
              "      border: none;\n",
              "      border-radius: 50%;\n",
              "      cursor: pointer;\n",
              "      display: none;\n",
              "      fill: #1967D2;\n",
              "      height: 32px;\n",
              "      padding: 0 0 0 0;\n",
              "      width: 32px;\n",
              "    }\n",
              "\n",
              "    .colab-df-convert:hover {\n",
              "      background-color: #E2EBFA;\n",
              "      box-shadow: 0px 1px 2px rgba(60, 64, 67, 0.3), 0px 1px 3px 1px rgba(60, 64, 67, 0.15);\n",
              "      fill: #174EA6;\n",
              "    }\n",
              "\n",
              "    [theme=dark] .colab-df-convert {\n",
              "      background-color: #3B4455;\n",
              "      fill: #D2E3FC;\n",
              "    }\n",
              "\n",
              "    [theme=dark] .colab-df-convert:hover {\n",
              "      background-color: #434B5C;\n",
              "      box-shadow: 0px 1px 3px 1px rgba(0, 0, 0, 0.15);\n",
              "      filter: drop-shadow(0px 1px 2px rgba(0, 0, 0, 0.3));\n",
              "      fill: #FFFFFF;\n",
              "    }\n",
              "  </style>\n",
              "\n",
              "      <script>\n",
              "        const buttonEl =\n",
              "          document.querySelector('#df-7f523e0b-7174-49cc-b25f-ab14aeab5ccb button.colab-df-convert');\n",
              "        buttonEl.style.display =\n",
              "          google.colab.kernel.accessAllowed ? 'block' : 'none';\n",
              "\n",
              "        async function convertToInteractive(key) {\n",
              "          const element = document.querySelector('#df-7f523e0b-7174-49cc-b25f-ab14aeab5ccb');\n",
              "          const dataTable =\n",
              "            await google.colab.kernel.invokeFunction('convertToInteractive',\n",
              "                                                     [key], {});\n",
              "          if (!dataTable) return;\n",
              "\n",
              "          const docLinkHtml = 'Like what you see? Visit the ' +\n",
              "            '<a target=\"_blank\" href=https://colab.research.google.com/notebooks/data_table.ipynb>data table notebook</a>'\n",
              "            + ' to learn more about interactive tables.';\n",
              "          element.innerHTML = '';\n",
              "          dataTable['output_type'] = 'display_data';\n",
              "          await google.colab.output.renderOutput(dataTable, element);\n",
              "          const docLink = document.createElement('div');\n",
              "          docLink.innerHTML = docLinkHtml;\n",
              "          element.appendChild(docLink);\n",
              "        }\n",
              "      </script>\n",
              "    </div>\n",
              "  </div>\n",
              "  "
            ]
          },
          "metadata": {},
          "execution_count": 13
        }
      ]
    },
    {
      "cell_type": "markdown",
      "source": [
        "##### | 분석 결과\n",
        "___\n",
        "* 감독의 전제작 영화에서의 평균 관객수가 많을수록, 즉 유명도가 높을수록 현제작 영화의 평균 관객수가 많았다. \n",
        "* 스피어만 상관관계 계수가 1로, 두 변수의 양의 상관관계가 매우 확실하다.  \n",
        "* p-value가 매우 작고 95% 신뢰구간 [1.0, 1.0]안에 r=1이 포함되므로, 두 변수 사이의 관계가 매우 유의하다고 할 수 있다.  "
      ],
      "metadata": {
        "id": "haxvuTx-yogR"
      }
    },
    {
      "cell_type": "markdown",
      "source": [
        "**감독의 유명도 별 평균 관객수에 대한 박스플랏 생성**"
      ],
      "metadata": {
        "id": "yCiUCddGurml"
      }
    },
    {
      "cell_type": "code",
      "source": [
        "# 감독의 유명도 분할하여 새로운 변수 생성\n",
        "condlist = [(train['dir_prev_bfnum']>= 1000000),(train['dir_prev_bfnum'] < 1000000) & (train['dir_prev_bfnum']>= 500000), (train['dir_prev_bfnum'] < 500000) & (train['dir_prev_bfnum']>= 100000), (train['dir_prev_bfnum'] < 1000000) & (train['dir_prev_bfnum']> 0),(train['dir_prev_bfnum']==0)]\n",
        "choicelist = ['5','4','3','2','1']\n",
        "train['prev_size'] = np.select(condlist, choicelist)\n",
        "train.head()"
      ],
      "metadata": {
        "colab": {
          "base_uri": "https://localhost:8080/",
          "height": 406
        },
        "id": "XXFFyEsou3yM",
        "outputId": "78693e64-8495-487d-f587-77444195e057"
      },
      "execution_count": null,
      "outputs": [
        {
          "output_type": "execute_result",
          "data": {
            "text/plain": [
              "       title   distributor genre release_time  time screening_rat director  \\\n",
              "0     개들의 전쟁      롯데엔터테인먼트    액션   2012-11-22    96      청소년 관람불가      조병옥   \n",
              "1       내부자들        (주)쇼박스   느와르   2015-11-19   130      청소년 관람불가      우민호   \n",
              "2  은밀하게 위대하게        (주)쇼박스    액션   2013-06-05   123       15세 관람가      장철수   \n",
              "3   나는 공무원이다        (주)NEW   코미디   2012-07-12   101        전체 관람가      구자홍   \n",
              "4       불량남녀  쇼박스(주)미디어플렉스   코미디   2010-11-04   108       15세 관람가      신근호   \n",
              "\n",
              "   dir_prev_bfnum  dir_prev_num  num_staff  num_actor  box_off_num  \\\n",
              "0            0.00             0         91          2        23398   \n",
              "1      1161602.50             2        387          3      7072501   \n",
              "2       220775.25             4        343          4      6959083   \n",
              "3        23894.00             2         20          6       217866   \n",
              "4            1.00             1        251          2       483387   \n",
              "\n",
              "   dist_aud_movie dist_size 유명도 prev_size  \n",
              "0              52        대형   1         1  \n",
              "1              26        중형   5         5  \n",
              "2              26        중형   3         3  \n",
              "3              30        중형   2         2  \n",
              "4               2        소형   2         2  "
            ],
            "text/html": [
              "\n",
              "  <div id=\"df-94ec5ec6-862c-4431-aa58-50545eae75ce\">\n",
              "    <div class=\"colab-df-container\">\n",
              "      <div>\n",
              "<style scoped>\n",
              "    .dataframe tbody tr th:only-of-type {\n",
              "        vertical-align: middle;\n",
              "    }\n",
              "\n",
              "    .dataframe tbody tr th {\n",
              "        vertical-align: top;\n",
              "    }\n",
              "\n",
              "    .dataframe thead th {\n",
              "        text-align: right;\n",
              "    }\n",
              "</style>\n",
              "<table border=\"1\" class=\"dataframe\">\n",
              "  <thead>\n",
              "    <tr style=\"text-align: right;\">\n",
              "      <th></th>\n",
              "      <th>title</th>\n",
              "      <th>distributor</th>\n",
              "      <th>genre</th>\n",
              "      <th>release_time</th>\n",
              "      <th>time</th>\n",
              "      <th>screening_rat</th>\n",
              "      <th>director</th>\n",
              "      <th>dir_prev_bfnum</th>\n",
              "      <th>dir_prev_num</th>\n",
              "      <th>num_staff</th>\n",
              "      <th>num_actor</th>\n",
              "      <th>box_off_num</th>\n",
              "      <th>dist_aud_movie</th>\n",
              "      <th>dist_size</th>\n",
              "      <th>유명도</th>\n",
              "      <th>prev_size</th>\n",
              "    </tr>\n",
              "  </thead>\n",
              "  <tbody>\n",
              "    <tr>\n",
              "      <th>0</th>\n",
              "      <td>개들의 전쟁</td>\n",
              "      <td>롯데엔터테인먼트</td>\n",
              "      <td>액션</td>\n",
              "      <td>2012-11-22</td>\n",
              "      <td>96</td>\n",
              "      <td>청소년 관람불가</td>\n",
              "      <td>조병옥</td>\n",
              "      <td>0.00</td>\n",
              "      <td>0</td>\n",
              "      <td>91</td>\n",
              "      <td>2</td>\n",
              "      <td>23398</td>\n",
              "      <td>52</td>\n",
              "      <td>대형</td>\n",
              "      <td>1</td>\n",
              "      <td>1</td>\n",
              "    </tr>\n",
              "    <tr>\n",
              "      <th>1</th>\n",
              "      <td>내부자들</td>\n",
              "      <td>(주)쇼박스</td>\n",
              "      <td>느와르</td>\n",
              "      <td>2015-11-19</td>\n",
              "      <td>130</td>\n",
              "      <td>청소년 관람불가</td>\n",
              "      <td>우민호</td>\n",
              "      <td>1161602.50</td>\n",
              "      <td>2</td>\n",
              "      <td>387</td>\n",
              "      <td>3</td>\n",
              "      <td>7072501</td>\n",
              "      <td>26</td>\n",
              "      <td>중형</td>\n",
              "      <td>5</td>\n",
              "      <td>5</td>\n",
              "    </tr>\n",
              "    <tr>\n",
              "      <th>2</th>\n",
              "      <td>은밀하게 위대하게</td>\n",
              "      <td>(주)쇼박스</td>\n",
              "      <td>액션</td>\n",
              "      <td>2013-06-05</td>\n",
              "      <td>123</td>\n",
              "      <td>15세 관람가</td>\n",
              "      <td>장철수</td>\n",
              "      <td>220775.25</td>\n",
              "      <td>4</td>\n",
              "      <td>343</td>\n",
              "      <td>4</td>\n",
              "      <td>6959083</td>\n",
              "      <td>26</td>\n",
              "      <td>중형</td>\n",
              "      <td>3</td>\n",
              "      <td>3</td>\n",
              "    </tr>\n",
              "    <tr>\n",
              "      <th>3</th>\n",
              "      <td>나는 공무원이다</td>\n",
              "      <td>(주)NEW</td>\n",
              "      <td>코미디</td>\n",
              "      <td>2012-07-12</td>\n",
              "      <td>101</td>\n",
              "      <td>전체 관람가</td>\n",
              "      <td>구자홍</td>\n",
              "      <td>23894.00</td>\n",
              "      <td>2</td>\n",
              "      <td>20</td>\n",
              "      <td>6</td>\n",
              "      <td>217866</td>\n",
              "      <td>30</td>\n",
              "      <td>중형</td>\n",
              "      <td>2</td>\n",
              "      <td>2</td>\n",
              "    </tr>\n",
              "    <tr>\n",
              "      <th>4</th>\n",
              "      <td>불량남녀</td>\n",
              "      <td>쇼박스(주)미디어플렉스</td>\n",
              "      <td>코미디</td>\n",
              "      <td>2010-11-04</td>\n",
              "      <td>108</td>\n",
              "      <td>15세 관람가</td>\n",
              "      <td>신근호</td>\n",
              "      <td>1.00</td>\n",
              "      <td>1</td>\n",
              "      <td>251</td>\n",
              "      <td>2</td>\n",
              "      <td>483387</td>\n",
              "      <td>2</td>\n",
              "      <td>소형</td>\n",
              "      <td>2</td>\n",
              "      <td>2</td>\n",
              "    </tr>\n",
              "  </tbody>\n",
              "</table>\n",
              "</div>\n",
              "      <button class=\"colab-df-convert\" onclick=\"convertToInteractive('df-94ec5ec6-862c-4431-aa58-50545eae75ce')\"\n",
              "              title=\"Convert this dataframe to an interactive table.\"\n",
              "              style=\"display:none;\">\n",
              "        \n",
              "  <svg xmlns=\"http://www.w3.org/2000/svg\" height=\"24px\"viewBox=\"0 0 24 24\"\n",
              "       width=\"24px\">\n",
              "    <path d=\"M0 0h24v24H0V0z\" fill=\"none\"/>\n",
              "    <path d=\"M18.56 5.44l.94 2.06.94-2.06 2.06-.94-2.06-.94-.94-2.06-.94 2.06-2.06.94zm-11 1L8.5 8.5l.94-2.06 2.06-.94-2.06-.94L8.5 2.5l-.94 2.06-2.06.94zm10 10l.94 2.06.94-2.06 2.06-.94-2.06-.94-.94-2.06-.94 2.06-2.06.94z\"/><path d=\"M17.41 7.96l-1.37-1.37c-.4-.4-.92-.59-1.43-.59-.52 0-1.04.2-1.43.59L10.3 9.45l-7.72 7.72c-.78.78-.78 2.05 0 2.83L4 21.41c.39.39.9.59 1.41.59.51 0 1.02-.2 1.41-.59l7.78-7.78 2.81-2.81c.8-.78.8-2.07 0-2.86zM5.41 20L4 18.59l7.72-7.72 1.47 1.35L5.41 20z\"/>\n",
              "  </svg>\n",
              "      </button>\n",
              "      \n",
              "  <style>\n",
              "    .colab-df-container {\n",
              "      display:flex;\n",
              "      flex-wrap:wrap;\n",
              "      gap: 12px;\n",
              "    }\n",
              "\n",
              "    .colab-df-convert {\n",
              "      background-color: #E8F0FE;\n",
              "      border: none;\n",
              "      border-radius: 50%;\n",
              "      cursor: pointer;\n",
              "      display: none;\n",
              "      fill: #1967D2;\n",
              "      height: 32px;\n",
              "      padding: 0 0 0 0;\n",
              "      width: 32px;\n",
              "    }\n",
              "\n",
              "    .colab-df-convert:hover {\n",
              "      background-color: #E2EBFA;\n",
              "      box-shadow: 0px 1px 2px rgba(60, 64, 67, 0.3), 0px 1px 3px 1px rgba(60, 64, 67, 0.15);\n",
              "      fill: #174EA6;\n",
              "    }\n",
              "\n",
              "    [theme=dark] .colab-df-convert {\n",
              "      background-color: #3B4455;\n",
              "      fill: #D2E3FC;\n",
              "    }\n",
              "\n",
              "    [theme=dark] .colab-df-convert:hover {\n",
              "      background-color: #434B5C;\n",
              "      box-shadow: 0px 1px 3px 1px rgba(0, 0, 0, 0.15);\n",
              "      filter: drop-shadow(0px 1px 2px rgba(0, 0, 0, 0.3));\n",
              "      fill: #FFFFFF;\n",
              "    }\n",
              "  </style>\n",
              "\n",
              "      <script>\n",
              "        const buttonEl =\n",
              "          document.querySelector('#df-94ec5ec6-862c-4431-aa58-50545eae75ce button.colab-df-convert');\n",
              "        buttonEl.style.display =\n",
              "          google.colab.kernel.accessAllowed ? 'block' : 'none';\n",
              "\n",
              "        async function convertToInteractive(key) {\n",
              "          const element = document.querySelector('#df-94ec5ec6-862c-4431-aa58-50545eae75ce');\n",
              "          const dataTable =\n",
              "            await google.colab.kernel.invokeFunction('convertToInteractive',\n",
              "                                                     [key], {});\n",
              "          if (!dataTable) return;\n",
              "\n",
              "          const docLinkHtml = 'Like what you see? Visit the ' +\n",
              "            '<a target=\"_blank\" href=https://colab.research.google.com/notebooks/data_table.ipynb>data table notebook</a>'\n",
              "            + ' to learn more about interactive tables.';\n",
              "          element.innerHTML = '';\n",
              "          dataTable['output_type'] = 'display_data';\n",
              "          await google.colab.output.renderOutput(dataTable, element);\n",
              "          const docLink = document.createElement('div');\n",
              "          docLink.innerHTML = docLinkHtml;\n",
              "          element.appendChild(docLink);\n",
              "        }\n",
              "      </script>\n",
              "    </div>\n",
              "  </div>\n",
              "  "
            ]
          },
          "metadata": {},
          "execution_count": 24
        }
      ]
    },
    {
      "cell_type": "code",
      "source": [
        "# 감독의 유명도 척도와 관객수의 관계 박스플랏으로 표현\n",
        "plt.rcParams['figure.figsize'] = [10, 10]\n",
        "bx=plt.subplots()\n",
        "bx=sns.boxplot(x='prev_size',y='box_off_num',data= train,order=['1','2','3','4','5'])\n",
        "\n",
        "#제목 및 라벨 추가\n",
        "bx.set_title('감독의 유명도 척도와 관객수의 관계를 나타내는 boxplot')\n",
        "bx.set_xlabel('감독의 유명도 척도')\n",
        "bx.set_ylabel('관객수')"
      ],
      "metadata": {
        "colab": {
          "base_uri": "https://localhost:8080/",
          "height": 637
        },
        "id": "MnQgntM2y0Al",
        "outputId": "6ed70263-5e14-4c83-d118-b71b2da14249"
      },
      "execution_count": null,
      "outputs": [
        {
          "output_type": "execute_result",
          "data": {
            "text/plain": [
              "Text(0, 0.5, '관객수')"
            ]
          },
          "metadata": {},
          "execution_count": 25
        },
        {
          "output_type": "display_data",
          "data": {
            "text/plain": [
              "<Figure size 720x720 with 1 Axes>"
            ],
            "image/png": "[encoded data removed]"
          },
          "metadata": {
            "needs_background": "light"
          }
        }
      ]
    },
    {
      "cell_type": "markdown",
      "source": [
        "##### | 분석 결과\n",
        "___\n",
        "- 감독의 유명도가 높을수록 관객수가 많다고 할 수 있다."
      ],
      "metadata": {
        "id": "03JS9CMM0AWn"
      }
    },
    {
      "cell_type": "markdown",
      "source": [
        "##**2) 상영등급 분석**"
      ],
      "metadata": {
        "id": "ICyhEL_h26uf"
      }
    },
    {
      "cell_type": "code",
      "source": [
        "train['screening_rat'].value_counts()"
      ],
      "metadata": {
        "colab": {
          "base_uri": "https://localhost:8080/"
        },
        "outputId": "20cbcee2-7897-425c-b6f9-ab447b714ef9",
        "id": "XFH0LNPX26uh"
      },
      "execution_count": null,
      "outputs": [
        {
          "output_type": "execute_result",
          "data": {
            "text/plain": [
              "청소년 관람불가    204\n",
              "15세 관람가     202\n",
              "12세 관람가     102\n",
              "전체 관람가       92\n",
              "Name: screening_rat, dtype: int64"
            ]
          },
          "metadata": {},
          "execution_count": 26
        }
      ]
    },
    {
      "cell_type": "code",
      "source": [
        "train['screening_rat'].value_counts().plot(kind='bar')\n",
        "plt.title('상영등급에 따른 영화 상영수')\n",
        "plt.xlabel('상영등급')\n",
        "plt.ylabel('count')"
      ],
      "metadata": {
        "colab": {
          "base_uri": "https://localhost:8080/",
          "height": 697
        },
        "outputId": "69a41bed-ad5b-43cc-8170-96bbe36db229",
        "id": "3Tea2G3N26uj"
      },
      "execution_count": null,
      "outputs": [
        {
          "output_type": "execute_result",
          "data": {
            "text/plain": [
              "Text(0, 0.5, 'count')"
            ]
          },
          "metadata": {},
          "execution_count": 27
        },
        {
          "output_type": "display_data",
          "data": {
            "text/plain": [
              "<Figure size 720x720 with 1 Axes>"
            ],
            "image/png": "[encoded data removed]"
          },
          "metadata": {
            "needs_background": "light"
          }
        }
      ]
    },
    {
      "cell_type": "markdown",
      "source": [
        "##### | 분석 결과\n",
        "___\n",
        "- 청소년 관람불가, 15세 관람가, 12세 관람가, 전체 관람가 순으로 영화상영수가  많다. \n",
        "- 청소년 관람불가, 15세 관람가 영화 수는 12세 관람가, 전체 관람가의 약 2배 수준이다."
      ],
      "metadata": {
        "id": "u067mAbi26uk"
      }
    },
    {
      "cell_type": "markdown",
      "source": [
        "### **2-1) 상영등급 별 관객수**\n",
        "- 사용한 변수:  screening_rat, box_off_num"
      ],
      "metadata": {
        "id": "DolhBlMh2wAz"
      }
    },
    {
      "cell_type": "code",
      "source": [
        "ax=plt.subplots()\n",
        "ordersr=['전체 관람가','12세 관람가','15세 관람가','청소년 관람불가']\n",
        "ax=sns.boxplot(x='screening_rat',y='box_off_num',data=train,order=ordersr)\n",
        "plt.title(\"상영등급 별 관객수\")\n",
        "plt.xlabel('상영등급')\n",
        "plt.ylabel('관객수')"
      ],
      "metadata": {
        "colab": {
          "base_uri": "https://localhost:8080/",
          "height": 638
        },
        "outputId": "f33f1cac-5944-49ed-da9a-8c0b4586da60",
        "id": "lOc32gZl2wA1"
      },
      "execution_count": null,
      "outputs": [
        {
          "output_type": "execute_result",
          "data": {
            "text/plain": [
              "Text(0, 0.5, '관객수')"
            ]
          },
          "metadata": {},
          "execution_count": 28
        },
        {
          "output_type": "display_data",
          "data": {
            "text/plain": [
              "<Figure size 720x720 with 1 Axes>"
            ],
            "image/png": "[encoded data removed]"
          },
          "metadata": {
            "needs_background": "light"
          }
        }
      ]
    },
    {
      "cell_type": "code",
      "source": [
        "ax=plt.subplots()\n",
        "ax=sns.boxplot(x='screening_rat',y='box_off_num',data=train,order=ordersr)\n",
        "plt.title(\"상영등급 별 관객수\")\n",
        "plt.xlabel('상영등급')\n",
        "plt.ylabel('관객수')\n",
        "plt.ylim(0,4000000) #ylim 조정해서 작은 값들의 그래프가 더 잘 보이게"
      ],
      "metadata": {
        "colab": {
          "base_uri": "https://localhost:8080/",
          "height": 638
        },
        "outputId": "0be3fd1a-ac68-4563-cebc-c4ecd490be85",
        "id": "8MDbQPJL2wA3"
      },
      "execution_count": null,
      "outputs": [
        {
          "output_type": "execute_result",
          "data": {
            "text/plain": [
              "(0.0, 4000000.0)"
            ]
          },
          "metadata": {},
          "execution_count": 29
        },
        {
          "output_type": "display_data",
          "data": {
            "text/plain": [
              "<Figure size 720x720 with 1 Axes>"
            ],
            "image/png": "[encoded data removed]"
          },
          "metadata": {
            "needs_background": "light"
          }
        }
      ]
    },
    {
      "cell_type": "markdown",
      "source": [
        "##### | 분석 결과\n",
        "___\n",
        "- 15세 관람가, 12세 관람가, 청소년 관람불가, 전체 관람가 순으로 관객수가 많다. \n",
        "- 위의 상영등급별 영화상영수 분석과 비교했을 때  \n",
        "  영화상영수가 가장 많은 등급은 청소년 관람불가 등급이었지만,  \n",
        "  관객수가 가장 많은 등급은 15세 관람가로 나타났다. "
      ],
      "metadata": {
        "id": "7Y2mIL0B2wA4"
      }
    },
    {
      "cell_type": "markdown",
      "source": [
        "### **2-2) 상영등급 별 인기있는 장르**\n",
        "- 사용한 변수: box_off_num, screening_rate, genre"
      ],
      "metadata": {
        "id": "40Tv1KpQ2wA4"
      }
    },
    {
      "cell_type": "code",
      "source": [
        "order_g = train['genre'].unique() #genre 값들의 순서 정하고 색깔 겹치지 않게 지정\n",
        "order_g = np.sort(order_g)\n",
        "color_g= sns.color_palette('hls', len(order_g))\n",
        "a=train.groupby(['screening_rat','genre']).sum()\n",
        "a=pd.DataFrame(a.reset_index())\n",
        "a = a.pivot(index='screening_rat', columns='genre', values='box_off_num')\n",
        "a.plot.bar(stacked=True,color=color_g) #누적 막대그래프\n",
        "plt.legend(loc='center left', bbox_to_anchor=(1, 0.5)) #legend 위치 조정\n",
        "plt.xticks(rotation=0)\n",
        "plt.title('상영등급 별 장르가 차지하는 비율')\n",
        "plt.xlabel('상영등급')\n",
        "plt.ylabel('관객수')"
      ],
      "metadata": {
        "colab": {
          "base_uri": "https://localhost:8080/",
          "height": 638
        },
        "outputId": "a1cc7a69-3c2e-427a-a7de-86f124b1ccb4",
        "id": "Yc-7lmsA2wA5"
      },
      "execution_count": null,
      "outputs": [
        {
          "output_type": "execute_result",
          "data": {
            "text/plain": [
              "Text(0, 0.5, '관객수')"
            ]
          },
          "metadata": {},
          "execution_count": 30
        },
        {
          "output_type": "display_data",
          "data": {
            "text/plain": [
              "<Figure size 720x720 with 1 Axes>"
            ],
            "image/png": "[encoded data removed]"
          },
          "metadata": {
            "needs_background": "light"
          }
        }
      ]
    },
    {
      "cell_type": "markdown",
      "source": [
        "##### | 분석 결과\n",
        "___\n",
        "- 전체관람가에서는 다큐멘터리와 애니메이션 장르, 공통적으로 12세, 15세 관람가에서는 드라마 장르, 청소년 관람불가에서는 느와르 장르가 인기가 많다."
      ],
      "metadata": {
        "id": "urTou5nZ2wA5"
      }
    },
    {
      "cell_type": "markdown",
      "source": [
        "##**3) 개봉일 분석**"
      ],
      "metadata": {
        "id": "OLJVp65RlRVi"
      }
    },
    {
      "cell_type": "markdown",
      "source": [
        "### **3-1) 개봉월에 따른 관객 수**\n",
        "- 사용한 변수: release_time, box_off_num"
      ],
      "metadata": {
        "id": "awe8VVEYlvHN"
      }
    },
    {
      "cell_type": "code",
      "source": [
        "# release_time 날짜형으로 바꾸기\n",
        "train['release_time']=pd.to_datetime(train['release_time'])\n",
        "\n",
        "# release_month 달 추출\n",
        "train['release_month']=train['release_time'].dt.month"
      ],
      "metadata": {
        "id": "eaPBKrNRmCAV"
      },
      "execution_count": null,
      "outputs": []
    },
    {
      "cell_type": "code",
      "source": [
        "# seaborn 라이브러리로 그래프 그리기 전, 색깔 지정\n",
        "\n",
        "## month 색깔 지정\n",
        "color_m = sns.color_palette('hls', len(train['release_month'].unique()))\n",
        "\n",
        "## genre 색깔 지정\n",
        "order_g = train['genre'].unique()\n",
        "order_g = np.sort(order_g) # 한글 순 정렬 (범례 순서와 같게)\n",
        "color_g= sns.color_palette('hls', len(order_g))"
      ],
      "metadata": {
        "id": "iK8im8NjmDfc"
      },
      "execution_count": null,
      "outputs": []
    },
    {
      "cell_type": "code",
      "source": [
        "# 개봉월에 따른 관객수를 바차트로 나타내기\n",
        "\n",
        "train_mon = train[['release_month', 'box_off_num']].groupby('release_month').sum().sort_values('box_off_num', ascending=False).reset_index()\n",
        "ax = sns.barplot(x='release_month', y='box_off_num', data=train_mon, palette=color_m, \n",
        "                 order = train_mon['release_month'].value_counts().index)\n",
        "ax.set_title('개봉월에 따른 관객수')\n",
        "ax.set_xlabel('개봉월')\n",
        "ax.set_ylabel('관객수')"
      ],
      "metadata": {
        "colab": {
          "base_uri": "https://localhost:8080/",
          "height": 637
        },
        "id": "J-uqwn5OmE8s",
        "outputId": "58b6324c-106e-41c2-bda0-648c674639d9"
      },
      "execution_count": null,
      "outputs": [
        {
          "output_type": "execute_result",
          "data": {
            "text/plain": [
              "Text(0, 0.5, '관객수')"
            ]
          },
          "metadata": {},
          "execution_count": 33
        },
        {
          "output_type": "display_data",
          "data": {
            "text/plain": [
              "<Figure size 720x720 with 1 Axes>"
            ],
            "image/png": "[encoded data removed]"
          },
          "metadata": {
            "needs_background": "light"
          }
        }
      ]
    },
    {
      "cell_type": "markdown",
      "source": [
        "##### | 분석 결과\n",
        "___\n",
        "  1. 연말 기간인 12월\n",
        "  2. 여름방학 기간인 7,8월\n",
        "  3. 연초 기간인 1월\n",
        "  4. 추석 기간인 9월  \n",
        "  순으로 관객수가 많은 것으로 나타났다. "
      ],
      "metadata": {
        "id": "JpPoNmzimHSW"
      }
    },
    {
      "cell_type": "markdown",
      "source": [
        "### **3-2) 개봉시기에 따른 장르의 인기도 추이**\n",
        "- 사용한 변수: release_month, genre, box_off_num\n",
        "\n",
        "* 관객수가 많은 특정 개봉시기에 어떤 장르가 인기가 많은지 알아보고자 한다. \n",
        "\n",
        ">-'인기가 많다'의 척도는 관객수로 정한다.  \n",
        ">-관객수가 많은 특정 개봉시기는 다음과 같다. \n",
        "  1. 연말 기간인 12월\n",
        "  2. 여름방학 기간인 7,8월\n",
        "  3. 연초 기간인 1월\n",
        "  4. 추석 기간인 9월 "
      ],
      "metadata": {
        "id": "pINUc3ibmUdL"
      }
    },
    {
      "cell_type": "code",
      "source": [
        "## 월별로 장르의 인기도 살펴보기\n",
        "# 연말 기간인 12월에 개봉된 영화의 장르 인기로를 바차트로 나타내기\n",
        "\n",
        "train_mon12 = train[train['release_month']==12][['title','genre', 'box_off_num']]\n",
        "train_mon12_sum = train_mon12.groupby('genre').sum().reset_index()\n",
        "train_mon12_sum.columns = ['genre', 'num_movies']\n",
        "\n",
        "ax = plt.subplots()\n",
        "ax = sns.barplot(x='genre', y='num_movies', data=train_mon12_sum, errwidth=0, order=order_g, palette=color_g)\n",
        "plt.xticks(rotation=45)\n",
        "ax.set_title('12월 개봉 영화의 장르 인기도')\n",
        "ax.set_xlabel('장르')\n",
        "ax.set_ylabel('관객수')"
      ],
      "metadata": {
        "colab": {
          "base_uri": "https://localhost:8080/",
          "height": 671
        },
        "id": "3wYHn5tMmxaU",
        "outputId": "5a095fdc-fde7-4c60-828f-32c5a440e754"
      },
      "execution_count": null,
      "outputs": [
        {
          "output_type": "execute_result",
          "data": {
            "text/plain": [
              "Text(0, 0.5, '관객수')"
            ]
          },
          "metadata": {},
          "execution_count": 34
        },
        {
          "output_type": "display_data",
          "data": {
            "text/plain": [
              "<Figure size 720x720 with 1 Axes>"
            ],
            "image/png": "[encoded data removed]"
          },
          "metadata": {
            "needs_background": "light"
          }
        }
      ]
    },
    {
      "cell_type": "markdown",
      "source": [
        "##### | 분석 결과\n",
        "___\n",
        "* 연말 기간인 12월에 개봉된 영화에서 드라마 장르가 인기가 압도적으로 많다. \n",
        "* 느와르, 멜로/로맨스, 코미디 장르가 그 다음으로 인기도가 높았지만 대체적으로 낮은 편이다. "
      ],
      "metadata": {
        "id": "JCzGyi3im3Bl"
      }
    },
    {
      "cell_type": "code",
      "source": [
        "## 월별로 장르의 인기도 살펴보기\n",
        "# 여름방학 기간인 7, 8월에 개봉된 영화의 장르 인기도를 바차트로 나타내기\n",
        "\n",
        "train_mon78 = train[(train['release_month']==7)|(train['release_month']==8)][['title','genre', 'box_off_num']]\n",
        "train_mon78_sum = train_mon78.groupby('genre').sum().reset_index()\n",
        "train_mon78_sum.columns = ['genre', 'num_movies']\n",
        "\n",
        "ax = plt.subplots()\n",
        "ax = sns.barplot(x='genre', y='num_movies', data=train_mon78_sum, errwidth=0, order=order_g, palette=color_g)\n",
        "plt.xticks(rotation=45)\n",
        "ax.set_title('7, 8월 개봉 영화의 장르 인기도')\n",
        "ax.set_xlabel('장르')\n",
        "ax.set_ylabel('관객수')"
      ],
      "metadata": {
        "colab": {
          "base_uri": "https://localhost:8080/",
          "height": 671
        },
        "id": "kxBPzf8Im-2X",
        "outputId": "26c85a60-896a-4076-c4c7-5d0682e57ebb"
      },
      "execution_count": null,
      "outputs": [
        {
          "output_type": "execute_result",
          "data": {
            "text/plain": [
              "Text(0, 0.5, '관객수')"
            ]
          },
          "metadata": {},
          "execution_count": 35
        },
        {
          "output_type": "display_data",
          "data": {
            "text/plain": [
              "<Figure size 720x720 with 1 Axes>"
            ],
            "image/png": "[encoded data removed]"
          },
          "metadata": {
            "needs_background": "light"
          }
        }
      ]
    },
    {
      "cell_type": "markdown",
      "source": [
        "##### | 분석 결과\n",
        "___\n",
        "* 여름방학 기간인 7,8월에 개봉된 영화에서 액션 장르가 인기가 가장 많다. \n",
        "* 느와르, SF, 드라마 장르가 그 다음으로 인기도가 높다. "
      ],
      "metadata": {
        "id": "_eGoPpxVnAbb"
      }
    },
    {
      "cell_type": "code",
      "source": [
        "# 월별로 장르의 인기도 살펴보기\n",
        "## 설연휴 기간인 1월에 개봉된 영화의 장르 인기로를 바차트로 나타내기\n",
        "\n",
        "train_mon1 = train[train['release_month']==1][['title','genre', 'box_off_num']]\n",
        "train_mon1_sum = train_mon1.groupby('genre').sum().reset_index()\n",
        "train_mon1_sum.columns = ['genre', 'num_movies']\n",
        "\n",
        "ax = plt.subplots()\n",
        "ax = sns.barplot(x='genre', y='num_movies', data=train_mon1_sum, errwidth=0, order=order_g, palette=color_g)\n",
        "plt.xticks(rotation=45)\n",
        "ax.set_title('1월 개봉 영화의 장르 인기도')\n",
        "ax.set_xlabel('장르')\n",
        "ax.set_ylabel('관객수')"
      ],
      "metadata": {
        "colab": {
          "base_uri": "https://localhost:8080/",
          "height": 671
        },
        "id": "pwKiSIwrnDk8",
        "outputId": "0ed4ae6b-bfdd-49e2-ce48-f275f611dba0"
      },
      "execution_count": null,
      "outputs": [
        {
          "output_type": "execute_result",
          "data": {
            "text/plain": [
              "Text(0, 0.5, '관객수')"
            ]
          },
          "metadata": {},
          "execution_count": 36
        },
        {
          "output_type": "display_data",
          "data": {
            "text/plain": [
              "<Figure size 720x720 with 1 Axes>"
            ],
            "image/png": "[encoded data removed]"
          },
          "metadata": {
            "needs_background": "light"
          }
        }
      ]
    },
    {
      "cell_type": "markdown",
      "source": [
        "##### | 분석 결과\n",
        "___\n",
        "* 연초 기간인 1월에 개봉된 영화에서 코미디 장르가 압도적으로 가장 인기가 많다.\n",
        "* 드라마, 액션 장르가 그 다음으로 인기도가 높지만 대체로 낮은 편이다. "
      ],
      "metadata": {
        "id": "mOenR2uQnElU"
      }
    },
    {
      "cell_type": "code",
      "source": [
        "# 월별로 장르의 인기도 살펴보기\n",
        "## 추석연휴 기간인 9월에 개봉된 영화의 장르 인기로를 바차트로 나타내기\n",
        "\n",
        "train_mon9 = train[train['release_month']==9][['title','genre', 'box_off_num']]\n",
        "train_mon9_sum = train_mon9.groupby('genre').sum().reset_index()\n",
        "train_mon9_sum.columns = ['genre', 'num_movies']\n",
        "\n",
        "ax = plt.subplots()\n",
        "ax = sns.barplot(x='genre', y='num_movies', data=train_mon9_sum, errwidth=0, order=order_g, palette=color_g)\n",
        "plt.xticks(rotation=45)\n",
        "ax.set_title('9월 개봉 영화의 장르 인기도')\n",
        "ax.set_xlabel('장르')\n",
        "ax.set_ylabel('관객수')"
      ],
      "metadata": {
        "colab": {
          "base_uri": "https://localhost:8080/",
          "height": 671
        },
        "id": "fjh7bDrFnLuM",
        "outputId": "b99f0c84-710c-4331-a11a-000e48ed0ec1"
      },
      "execution_count": null,
      "outputs": [
        {
          "output_type": "execute_result",
          "data": {
            "text/plain": [
              "Text(0, 0.5, '관객수')"
            ]
          },
          "metadata": {},
          "execution_count": 37
        },
        {
          "output_type": "display_data",
          "data": {
            "text/plain": [
              "<Figure size 720x720 with 1 Axes>"
            ],
            "image/png": "[encoded data removed]"
          },
          "metadata": {
            "needs_background": "light"
          }
        }
      ]
    },
    {
      "cell_type": "markdown",
      "source": [
        "##### | 분석 결과\n",
        "___\n",
        "* 추석 기간인 9월에 개봉된 영화에서 드라마 장르가 압도적으로 가장 인기가 많다.\n",
        "* 멜로/로맨스, 액션, 코미디가 그다음으로 인기도가 높았지만, 대체적으로 낮은 편이다.  "
      ],
      "metadata": {
        "id": "g4iiNViFnMVs"
      }
    },
    {
      "cell_type": "code",
      "source": [
        "# 월 전체의 장르 인기도를 한꺼번에 살펴보기\n",
        "## 누적 바차트로 나타내기\n",
        "\n",
        "train_mon_g = train.groupby(['release_month','genre'])['box_off_num'].sum().reset_index()\n",
        "\n",
        "train_mon_g_p = train_mon_g.pivot(index='release_month', columns='genre', values='box_off_num') # 피벗화\n",
        "train_mon_g_p = train_mon_g_p.loc[train_mon['release_month'].value_counts().index] # 관객수 많은 월 순서대로 정렬\n",
        "train_mon_g_p.plot.bar(stacked=True, color=color_g) # 누적 막대그래프로\n",
        "plt.legend(loc=2, bbox_to_anchor=(1, 1)) # 범례 위치\n",
        "plt.title('월 전체의 영화 장르 인기도')\n",
        "plt.xlabel('개봉월')\n",
        "plt.ylabel('관객수')"
      ],
      "metadata": {
        "colab": {
          "base_uri": "https://localhost:8080/",
          "height": 641
        },
        "id": "l3Mn2ch4nSDM",
        "outputId": "99edb82b-9659-4420-93ca-ff84069524a5"
      },
      "execution_count": null,
      "outputs": [
        {
          "output_type": "execute_result",
          "data": {
            "text/plain": [
              "Text(0, 0.5, '관객수')"
            ]
          },
          "metadata": {},
          "execution_count": 38
        },
        {
          "output_type": "display_data",
          "data": {
            "text/plain": [
              "<Figure size 720x720 with 1 Axes>"
            ],
            "image/png": "[encoded data removed]"
          },
          "metadata": {
            "needs_background": "light"
          }
        }
      ]
    },
    {
      "cell_type": "markdown",
      "source": [
        "##### | 분석 결과\n",
        "___\n",
        "* 월별로 따로 분석한 그래프의 결과와 같이 12월에 드라마, 7,8월에 액션, 1월에 코미디, 9월에 드라마 장르가 인기가 가장 많은 것을 한번에 확인할 수 있다."
      ],
      "metadata": {
        "id": "CO1g0elfnUDM"
      }
    },
    {
      "cell_type": "markdown",
      "source": [
        "### **3-3) 배급사의 개봉시기 분포**\n",
        "- 사용한 변수: release_month, distributor"
      ],
      "metadata": {
        "id": "qPX2cFCrniCU"
      }
    },
    {
      "cell_type": "code",
      "source": [
        "# 영화상영수가 많은 상위5개 배급사의 개봉시기 분포 살펴보기\n",
        "## 배급사별로 개봉시기 분포 나타내기 \n",
        "\n",
        "# 영화상영수 많은 상위5 배급사 확인\n",
        "train_dist_top = train['distributor'].value_counts().head(5) \n",
        "\n",
        "# 그룹화\n",
        "train_dist_gr = train.groupby(['distributor', 'release_month'])['title'].count().reset_index() \n",
        "train_dist_gr.columns = ['distributor', 'release_month', 'num_movies']\n",
        "\n",
        "# 그룹화 중 상위5배급사에 해당하는 행추출\n",
        "train_dist_top_gr = train_dist_gr[train_dist_gr['distributor'].isin(train_dist_top.index)].copy() "
      ],
      "metadata": {
        "id": "MFHE1ojbnuCk"
      },
      "execution_count": null,
      "outputs": []
    },
    {
      "cell_type": "code",
      "source": [
        "# 상위5개 배급사 데이터셋 따로 추출\n",
        "top1 = train_dist_top_gr[train_dist_top_gr['distributor']=='CJ 엔터테인먼트']\n",
        "top2 = train_dist_top_gr[train_dist_top_gr['distributor']=='롯데엔터테인먼트']\n",
        "top3 = train_dist_top_gr[train_dist_top_gr['distributor']=='(주)NEW']\n",
        "top4 = train_dist_top_gr[train_dist_top_gr['distributor']=='(주)마운틴픽쳐스']\n",
        "top5 = train_dist_top_gr[train_dist_top_gr['distributor']=='(주)쇼박스']"
      ],
      "metadata": {
        "id": "MEiriH4ynxRk"
      },
      "execution_count": null,
      "outputs": []
    },
    {
      "cell_type": "code",
      "source": [
        "# 한면에 그래프 그리기\n",
        "fig = plt.figure(figsize=(4,8))\n",
        "\n",
        "ax1 = fig.add_subplot(5,1,1)\n",
        "ax2 = fig.add_subplot(5,1,2)\n",
        "ax3 = fig.add_subplot(5,1,3)\n",
        "ax4 = fig.add_subplot(5,1,4)\n",
        "ax5 = fig.add_subplot(5,1,5)\n",
        "\n",
        "ax1.bar(top1['release_month'], top1['num_movies'])\n",
        "ax1.set_title('CJ 엔터테인먼트')\n",
        "\n",
        "ax2.bar(top2['release_month'], top2['num_movies'])\n",
        "ax2.set_title('롯데엔터테인먼트')\n",
        "\n",
        "ax3.bar(top3['release_month'], top3['num_movies'])\n",
        "ax3.set_title('(주)NEW')\n",
        "\n",
        "ax4.bar(top4['release_month'], top4['num_movies'])\n",
        "ax4.set_title('(주)마운틴픽쳐스')\n",
        "\n",
        "ax5.bar(top5['release_month'], top5['num_movies'])\n",
        "ax5.set_title('(주)쇼박스')\n",
        "\n",
        "fig.suptitle('영화상영수 상위5 배급사의 개봉시기 분포', y=1.02)\n",
        "\n",
        "fig.tight_layout()"
      ],
      "metadata": {
        "colab": {
          "base_uri": "https://localhost:8080/",
          "height": 608
        },
        "id": "lXh52sTWnynM",
        "outputId": "9b83d51c-9975-49d9-9a62-83bfeba63d52"
      },
      "execution_count": null,
      "outputs": [
        {
          "output_type": "display_data",
          "data": {
            "text/plain": [
              "<Figure size 288x576 with 5 Axes>"
            ],
            "image/png": "[encoded data removed]"
          },
          "metadata": {
            "needs_background": "light"
          }
        }
      ]
    },
    {
      "cell_type": "markdown",
      "source": [
        "##### | 분석 결과\n",
        "___\n",
        "* 영화상영수가 많은 배급사의 경우,  \n",
        "  상반기, 하반기 달에 위로 볼록하고, 중앙이 아래로 패인 쌍봉형태의 그래프를 보인다. \n",
        "* 배급사 전반적으로 상반기보다 하반기에 영화상영수가 더 많다. "
      ],
      "metadata": {
        "id": "cKERXOoUn75s"
      }
    },
    {
      "cell_type": "code",
      "source": [
        "# 영화상영수가 1개인 배급사의 개봉시기 분포 살펴보기\n",
        "## 배급사 전체의 개봉시기 분포를 바차트로 나타내기\n",
        "\n",
        "# 영화상영수가 1개인 배급사 확인\n",
        "train_dist_count = train['distributor'].value_counts().reset_index()\n",
        "train_dist_count.columns = ['distributor', 'num_movies']\n",
        "train_dist_count[train_dist_count['num_movies']==1].count()"
      ],
      "metadata": {
        "colab": {
          "base_uri": "https://localhost:8080/"
        },
        "id": "rrlgi7NXoA6z",
        "outputId": "95c38ea1-86e8-44ec-da92-da7a2e45b914"
      },
      "execution_count": null,
      "outputs": [
        {
          "output_type": "execute_result",
          "data": {
            "text/plain": [
              "distributor    102\n",
              "num_movies     102\n",
              "dtype: int64"
            ]
          },
          "metadata": {},
          "execution_count": 42
        }
      ]
    },
    {
      "cell_type": "code",
      "source": [
        "# 영화상영수가 1개인 배급사 데이터셋 따로 추출\n",
        "train_dist_only1 = train['distributor'].value_counts().tail(102)\n",
        "train_dist_only1\n",
        "\n",
        "# 그룹화\n",
        "train_dist_g = train.groupby(['distributor', 'release_month'])['title'].count().reset_index()\n",
        "train_dist_g.columns = ['distributor', 'release_month', 'num_movies']\n",
        "\n",
        "# 그룹화 중 상위5배급사에 해당하는 행추출\n",
        "train_dist_only1_g = train_dist_g[train_dist_g['distributor'].isin(train_dist_only1.index)].copy()\n",
        "\n",
        "# 그래프\n",
        "a = train_dist_only1_g.groupby('release_month').sum().reset_index()\n",
        "ax = sns.barplot(x='release_month', y='num_movies', data=a)\n",
        "ax.set_title('영화상영수 1개인 배급사의 개봉시기 분포')\n",
        "ax.set_xlabel('개봉월')\n",
        "ax.set_ylabel('영화상영수')"
      ],
      "metadata": {
        "colab": {
          "base_uri": "https://localhost:8080/",
          "height": 637
        },
        "id": "AyYtYymeoEGD",
        "outputId": "2eb7c305-17ca-46e9-d4d6-af73ced421a3"
      },
      "execution_count": null,
      "outputs": [
        {
          "output_type": "execute_result",
          "data": {
            "text/plain": [
              "Text(0, 0.5, '영화상영수')"
            ]
          },
          "metadata": {},
          "execution_count": 43
        },
        {
          "output_type": "display_data",
          "data": {
            "text/plain": [
              "<Figure size 720x720 with 1 Axes>"
            ],
            "image/png": "[encoded data removed]"
          },
          "metadata": {
            "needs_background": "light"
          }
        }
      ]
    },
    {
      "cell_type": "markdown",
      "source": [
        "##### | 분석 결과\n",
        "___\n",
        "* 영화상영수가 1개인 배급사의 경우,  \n",
        "  영화상영수가 많은 배급사와 마찬가지로,  \n",
        "  상반기, 하반기 달에 위로 볼록하고, 중앙이 아래로 패인 쌍봉형태의 그래프를 보인다.\n",
        "* 영화상영수가 1개인 배급사의 경우,  \n",
        "  영화상영수가 많은 배급사와 달리,  \n",
        "  상반기보다 하반기에 영화상영수가 더 많다고 할 수 없다."
      ],
      "metadata": {
        "id": "X_gCloZhoF6T"
      }
    },
    {
      "cell_type": "markdown",
      "source": [
        "##**4) 스텝수 분석**"
      ],
      "metadata": {
        "id": "d6YgN45EoRXb"
      }
    },
    {
      "cell_type": "markdown",
      "source": [
        "### **4-1) 주연배우수 vs 스텝수**\n",
        "- 사용한 변수: num_actor, num_staff"
      ],
      "metadata": {
        "id": "r6BXvsSRoV1C"
      }
    },
    {
      "cell_type": "code",
      "source": [
        "train['num_actor'].describe()"
      ],
      "metadata": {
        "colab": {
          "base_uri": "https://localhost:8080/"
        },
        "id": "RiL0zelMorUs",
        "outputId": "d0edcc22-2d4a-42f1-924a-53f373ab557f"
      },
      "execution_count": null,
      "outputs": [
        {
          "output_type": "execute_result",
          "data": {
            "text/plain": [
              "count    600.000000\n",
              "mean       3.706667\n",
              "std        2.446889\n",
              "min        0.000000\n",
              "25%        2.000000\n",
              "50%        3.000000\n",
              "75%        4.000000\n",
              "max       25.000000\n",
              "Name: num_actor, dtype: float64"
            ]
          },
          "metadata": {},
          "execution_count": 44
        }
      ]
    },
    {
      "cell_type": "code",
      "source": [
        "ax=plt.subplots()\n",
        "ax=sns.regplot(x='num_actor',y='num_staff',data=train)\n",
        "ax.set_title('주연배우수와 스텝수 간 산점도')\n",
        "ax.set_xlabel('주연배우수')\n",
        "ax.set_ylabel('스텝수')"
      ],
      "metadata": {
        "colab": {
          "base_uri": "https://localhost:8080/",
          "height": 637
        },
        "id": "crAJ0ZggosnV",
        "outputId": "cf663cfc-7ea7-4f60-e8cc-d7d9c31aa65c"
      },
      "execution_count": null,
      "outputs": [
        {
          "output_type": "execute_result",
          "data": {
            "text/plain": [
              "Text(0, 0.5, '스텝수')"
            ]
          },
          "metadata": {},
          "execution_count": 45
        },
        {
          "output_type": "display_data",
          "data": {
            "text/plain": [
              "<Figure size 720x720 with 1 Axes>"
            ],
            "image/png": "[encoded data removed]"
          },
          "metadata": {
            "needs_background": "light"
          }
        }
      ]
    },
    {
      "cell_type": "code",
      "source": [
        "#상관관계\n",
        "train[['num_actor','num_staff']].corr()"
      ],
      "metadata": {
        "colab": {
          "base_uri": "https://localhost:8080/",
          "height": 112
        },
        "id": "FDM84kp6ovqb",
        "outputId": "4ad6d094-1a84-4960-fe7f-1cdfdc9a9f50"
      },
      "execution_count": null,
      "outputs": [
        {
          "output_type": "execute_result",
          "data": {
            "text/plain": [
              "           num_actor  num_staff\n",
              "num_actor   1.000000   0.077871\n",
              "num_staff   0.077871   1.000000"
            ],
            "text/html": [
              "\n",
              "  <div id=\"df-f28439d7-04da-49c2-9756-3095289f20b3\">\n",
              "    <div class=\"colab-df-container\">\n",
              "      <div>\n",
              "<style scoped>\n",
              "    .dataframe tbody tr th:only-of-type {\n",
              "        vertical-align: middle;\n",
              "    }\n",
              "\n",
              "    .dataframe tbody tr th {\n",
              "        vertical-align: top;\n",
              "    }\n",
              "\n",
              "    .dataframe thead th {\n",
              "        text-align: right;\n",
              "    }\n",
              "</style>\n",
              "<table border=\"1\" class=\"dataframe\">\n",
              "  <thead>\n",
              "    <tr style=\"text-align: right;\">\n",
              "      <th></th>\n",
              "      <th>num_actor</th>\n",
              "      <th>num_staff</th>\n",
              "    </tr>\n",
              "  </thead>\n",
              "  <tbody>\n",
              "    <tr>\n",
              "      <th>num_actor</th>\n",
              "      <td>1.000000</td>\n",
              "      <td>0.077871</td>\n",
              "    </tr>\n",
              "    <tr>\n",
              "      <th>num_staff</th>\n",
              "      <td>0.077871</td>\n",
              "      <td>1.000000</td>\n",
              "    </tr>\n",
              "  </tbody>\n",
              "</table>\n",
              "</div>\n",
              "      <button class=\"colab-df-convert\" onclick=\"convertToInteractive('df-f28439d7-04da-49c2-9756-3095289f20b3')\"\n",
              "              title=\"Convert this dataframe to an interactive table.\"\n",
              "              style=\"display:none;\">\n",
              "        \n",
              "  <svg xmlns=\"http://www.w3.org/2000/svg\" height=\"24px\"viewBox=\"0 0 24 24\"\n",
              "       width=\"24px\">\n",
              "    <path d=\"M0 0h24v24H0V0z\" fill=\"none\"/>\n",
              "    <path d=\"M18.56 5.44l.94 2.06.94-2.06 2.06-.94-2.06-.94-.94-2.06-.94 2.06-2.06.94zm-11 1L8.5 8.5l.94-2.06 2.06-.94-2.06-.94L8.5 2.5l-.94 2.06-2.06.94zm10 10l.94 2.06.94-2.06 2.06-.94-2.06-.94-.94-2.06-.94 2.06-2.06.94z\"/><path d=\"M17.41 7.96l-1.37-1.37c-.4-.4-.92-.59-1.43-.59-.52 0-1.04.2-1.43.59L10.3 9.45l-7.72 7.72c-.78.78-.78 2.05 0 2.83L4 21.41c.39.39.9.59 1.41.59.51 0 1.02-.2 1.41-.59l7.78-7.78 2.81-2.81c.8-.78.8-2.07 0-2.86zM5.41 20L4 18.59l7.72-7.72 1.47 1.35L5.41 20z\"/>\n",
              "  </svg>\n",
              "      </button>\n",
              "      \n",
              "  <style>\n",
              "    .colab-df-container {\n",
              "      display:flex;\n",
              "      flex-wrap:wrap;\n",
              "      gap: 12px;\n",
              "    }\n",
              "\n",
              "    .colab-df-convert {\n",
              "      background-color: #E8F0FE;\n",
              "      border: none;\n",
              "      border-radius: 50%;\n",
              "      cursor: pointer;\n",
              "      display: none;\n",
              "      fill: #1967D2;\n",
              "      height: 32px;\n",
              "      padding: 0 0 0 0;\n",
              "      width: 32px;\n",
              "    }\n",
              "\n",
              "    .colab-df-convert:hover {\n",
              "      background-color: #E2EBFA;\n",
              "      box-shadow: 0px 1px 2px rgba(60, 64, 67, 0.3), 0px 1px 3px 1px rgba(60, 64, 67, 0.15);\n",
              "      fill: #174EA6;\n",
              "    }\n",
              "\n",
              "    [theme=dark] .colab-df-convert {\n",
              "      background-color: #3B4455;\n",
              "      fill: #D2E3FC;\n",
              "    }\n",
              "\n",
              "    [theme=dark] .colab-df-convert:hover {\n",
              "      background-color: #434B5C;\n",
              "      box-shadow: 0px 1px 3px 1px rgba(0, 0, 0, 0.15);\n",
              "      filter: drop-shadow(0px 1px 2px rgba(0, 0, 0, 0.3));\n",
              "      fill: #FFFFFF;\n",
              "    }\n",
              "  </style>\n",
              "\n",
              "      <script>\n",
              "        const buttonEl =\n",
              "          document.querySelector('#df-f28439d7-04da-49c2-9756-3095289f20b3 button.colab-df-convert');\n",
              "        buttonEl.style.display =\n",
              "          google.colab.kernel.accessAllowed ? 'block' : 'none';\n",
              "\n",
              "        async function convertToInteractive(key) {\n",
              "          const element = document.querySelector('#df-f28439d7-04da-49c2-9756-3095289f20b3');\n",
              "          const dataTable =\n",
              "            await google.colab.kernel.invokeFunction('convertToInteractive',\n",
              "                                                     [key], {});\n",
              "          if (!dataTable) return;\n",
              "\n",
              "          const docLinkHtml = 'Like what you see? Visit the ' +\n",
              "            '<a target=\"_blank\" href=https://colab.research.google.com/notebooks/data_table.ipynb>data table notebook</a>'\n",
              "            + ' to learn more about interactive tables.';\n",
              "          element.innerHTML = '';\n",
              "          dataTable['output_type'] = 'display_data';\n",
              "          await google.colab.output.renderOutput(dataTable, element);\n",
              "          const docLink = document.createElement('div');\n",
              "          docLink.innerHTML = docLinkHtml;\n",
              "          element.appendChild(docLink);\n",
              "        }\n",
              "      </script>\n",
              "    </div>\n",
              "  </div>\n",
              "  "
            ]
          },
          "metadata": {},
          "execution_count": 46
        }
      ]
    },
    {
      "cell_type": "markdown",
      "source": [
        "##### | 분석 결과\n",
        "___\n",
        "*   주연배우수와 스텝수는 약한 양의 상관관계를 보이기는 하나 회귀선에 벗어나는 오차들이 많다.\n",
        "*   상관계수가 0.077871로 매우 작아 경향성 찾기 어렵다.\n",
        "\n"
      ],
      "metadata": {
        "id": "xEh3HM1lozb8"
      }
    },
    {
      "cell_type": "markdown",
      "source": [
        "###**4-2) 감독 전작 흥행도(유명도) vs 스텝수**\n",
        "- 사용한 변수: director, dir_prev_bfnum"
      ],
      "metadata": {
        "id": "Pa_s5WDko3hj"
      }
    },
    {
      "cell_type": "code",
      "source": [
        "#train['director'].unique()"
      ],
      "metadata": {
        "id": "UNmbe3M3o_wV"
      },
      "execution_count": null,
      "outputs": []
    },
    {
      "cell_type": "code",
      "source": [
        "train['dir_prev_bfnum'].describe()"
      ],
      "metadata": {
        "colab": {
          "base_uri": "https://localhost:8080/"
        },
        "id": "kp9j0xLupBJU",
        "outputId": "f0652b26-1b26-4b1e-ec0d-631e165d4601"
      },
      "execution_count": null,
      "outputs": [
        {
          "output_type": "execute_result",
          "data": {
            "text/plain": [
              "count    6.000000e+02\n",
              "mean     4.726993e+05\n",
              "std      1.309474e+06\n",
              "min      0.000000e+00\n",
              "25%      0.000000e+00\n",
              "50%      0.000000e+00\n",
              "75%      3.761416e+05\n",
              "max      1.761531e+07\n",
              "Name: dir_prev_bfnum, dtype: float64"
            ]
          },
          "metadata": {},
          "execution_count": 48
        }
      ]
    },
    {
      "cell_type": "code",
      "source": [
        "#유명도 변수 생성\n",
        "train['유명도']=''\n",
        "for i in range(len(train)):\n",
        "  if train['dir_prev_bfnum'][i]==0: \n",
        "    train['유명도'][i]='1'\n",
        "  elif train['dir_prev_bfnum'][i]<100000:\n",
        "    train['유명도'][i]='2'\n",
        "  elif train['dir_prev_bfnum'][i]<500000:\n",
        "    train['유명도'][i]='3'\n",
        "  elif train['dir_prev_bfnum'][i]<1000000: \n",
        "    train['유명도'][i]='4'\n",
        "  else:\n",
        "    train['유명도'][i]='5'"
      ],
      "metadata": {
        "id": "U6yexwLNpDLF"
      },
      "execution_count": 8,
      "outputs": []
    },
    {
      "cell_type": "code",
      "source": [
        "train[['num_staff']].groupby(train['유명도']).mean().plot(kind='bar')\n",
        "plt.title(\"감독 유명도에 따른 스텝수 분포\")\n",
        "plt.xlabel(\"감독 유명도\")\n",
        "plt.ylabel(\"스텝수\")"
      ],
      "metadata": {
        "colab": {
          "base_uri": "https://localhost:8080/",
          "height": 634
        },
        "id": "ICpmMIBDpFan",
        "outputId": "5fa7ff4d-8030-49ab-d82f-75c4fba595ac"
      },
      "execution_count": null,
      "outputs": [
        {
          "output_type": "execute_result",
          "data": {
            "text/plain": [
              "Text(0, 0.5, '스텝수')"
            ]
          },
          "metadata": {},
          "execution_count": 50
        },
        {
          "output_type": "display_data",
          "data": {
            "text/plain": [
              "<Figure size 720x720 with 1 Axes>"
            ],
            "image/png": "[encoded data removed]"
          },
          "metadata": {
            "needs_background": "light"
          }
        }
      ]
    },
    {
      "cell_type": "code",
      "source": [
        "aaaa = train[['num_staff']].groupby(train['유명도']).mean().reset_index()\n",
        "aaaa.columns = ['유명도', '평균스텝수']\n",
        "aaaa"
      ],
      "metadata": {
        "colab": {
          "base_uri": "https://localhost:8080/",
          "height": 206
        },
        "id": "RRJQF3kTTkDe",
        "outputId": "03298267-8ecc-4eaa-be79-05f8df5df30d"
      },
      "execution_count": 9,
      "outputs": [
        {
          "output_type": "execute_result",
          "data": {
            "text/plain": [
              "  유명도       평균스텝수\n",
              "0   1   91.990909\n",
              "1   2  131.400000\n",
              "2   3  178.804348\n",
              "3   4  219.102564\n",
              "4   5  345.122222"
            ],
            "text/html": [
              "\n",
              "  <div id=\"df-6bb4a943-d185-48ef-9650-2d9ea2a4d4e0\">\n",
              "    <div class=\"colab-df-container\">\n",
              "      <div>\n",
              "<style scoped>\n",
              "    .dataframe tbody tr th:only-of-type {\n",
              "        vertical-align: middle;\n",
              "    }\n",
              "\n",
              "    .dataframe tbody tr th {\n",
              "        vertical-align: top;\n",
              "    }\n",
              "\n",
              "    .dataframe thead th {\n",
              "        text-align: right;\n",
              "    }\n",
              "</style>\n",
              "<table border=\"1\" class=\"dataframe\">\n",
              "  <thead>\n",
              "    <tr style=\"text-align: right;\">\n",
              "      <th></th>\n",
              "      <th>유명도</th>\n",
              "      <th>평균스텝수</th>\n",
              "    </tr>\n",
              "  </thead>\n",
              "  <tbody>\n",
              "    <tr>\n",
              "      <th>0</th>\n",
              "      <td>1</td>\n",
              "      <td>91.990909</td>\n",
              "    </tr>\n",
              "    <tr>\n",
              "      <th>1</th>\n",
              "      <td>2</td>\n",
              "      <td>131.400000</td>\n",
              "    </tr>\n",
              "    <tr>\n",
              "      <th>2</th>\n",
              "      <td>3</td>\n",
              "      <td>178.804348</td>\n",
              "    </tr>\n",
              "    <tr>\n",
              "      <th>3</th>\n",
              "      <td>4</td>\n",
              "      <td>219.102564</td>\n",
              "    </tr>\n",
              "    <tr>\n",
              "      <th>4</th>\n",
              "      <td>5</td>\n",
              "      <td>345.122222</td>\n",
              "    </tr>\n",
              "  </tbody>\n",
              "</table>\n",
              "</div>\n",
              "      <button class=\"colab-df-convert\" onclick=\"convertToInteractive('df-6bb4a943-d185-48ef-9650-2d9ea2a4d4e0')\"\n",
              "              title=\"Convert this dataframe to an interactive table.\"\n",
              "              style=\"display:none;\">\n",
              "        \n",
              "  <svg xmlns=\"http://www.w3.org/2000/svg\" height=\"24px\"viewBox=\"0 0 24 24\"\n",
              "       width=\"24px\">\n",
              "    <path d=\"M0 0h24v24H0V0z\" fill=\"none\"/>\n",
              "    <path d=\"M18.56 5.44l.94 2.06.94-2.06 2.06-.94-2.06-.94-.94-2.06-.94 2.06-2.06.94zm-11 1L8.5 8.5l.94-2.06 2.06-.94-2.06-.94L8.5 2.5l-.94 2.06-2.06.94zm10 10l.94 2.06.94-2.06 2.06-.94-2.06-.94-.94-2.06-.94 2.06-2.06.94z\"/><path d=\"M17.41 7.96l-1.37-1.37c-.4-.4-.92-.59-1.43-.59-.52 0-1.04.2-1.43.59L10.3 9.45l-7.72 7.72c-.78.78-.78 2.05 0 2.83L4 21.41c.39.39.9.59 1.41.59.51 0 1.02-.2 1.41-.59l7.78-7.78 2.81-2.81c.8-.78.8-2.07 0-2.86zM5.41 20L4 18.59l7.72-7.72 1.47 1.35L5.41 20z\"/>\n",
              "  </svg>\n",
              "      </button>\n",
              "      \n",
              "  <style>\n",
              "    .colab-df-container {\n",
              "      display:flex;\n",
              "      flex-wrap:wrap;\n",
              "      gap: 12px;\n",
              "    }\n",
              "\n",
              "    .colab-df-convert {\n",
              "      background-color: #E8F0FE;\n",
              "      border: none;\n",
              "      border-radius: 50%;\n",
              "      cursor: pointer;\n",
              "      display: none;\n",
              "      fill: #1967D2;\n",
              "      height: 32px;\n",
              "      padding: 0 0 0 0;\n",
              "      width: 32px;\n",
              "    }\n",
              "\n",
              "    .colab-df-convert:hover {\n",
              "      background-color: #E2EBFA;\n",
              "      box-shadow: 0px 1px 2px rgba(60, 64, 67, 0.3), 0px 1px 3px 1px rgba(60, 64, 67, 0.15);\n",
              "      fill: #174EA6;\n",
              "    }\n",
              "\n",
              "    [theme=dark] .colab-df-convert {\n",
              "      background-color: #3B4455;\n",
              "      fill: #D2E3FC;\n",
              "    }\n",
              "\n",
              "    [theme=dark] .colab-df-convert:hover {\n",
              "      background-color: #434B5C;\n",
              "      box-shadow: 0px 1px 3px 1px rgba(0, 0, 0, 0.15);\n",
              "      filter: drop-shadow(0px 1px 2px rgba(0, 0, 0, 0.3));\n",
              "      fill: #FFFFFF;\n",
              "    }\n",
              "  </style>\n",
              "\n",
              "      <script>\n",
              "        const buttonEl =\n",
              "          document.querySelector('#df-6bb4a943-d185-48ef-9650-2d9ea2a4d4e0 button.colab-df-convert');\n",
              "        buttonEl.style.display =\n",
              "          google.colab.kernel.accessAllowed ? 'block' : 'none';\n",
              "\n",
              "        async function convertToInteractive(key) {\n",
              "          const element = document.querySelector('#df-6bb4a943-d185-48ef-9650-2d9ea2a4d4e0');\n",
              "          const dataTable =\n",
              "            await google.colab.kernel.invokeFunction('convertToInteractive',\n",
              "                                                     [key], {});\n",
              "          if (!dataTable) return;\n",
              "\n",
              "          const docLinkHtml = 'Like what you see? Visit the ' +\n",
              "            '<a target=\"_blank\" href=https://colab.research.google.com/notebooks/data_table.ipynb>data table notebook</a>'\n",
              "            + ' to learn more about interactive tables.';\n",
              "          element.innerHTML = '';\n",
              "          dataTable['output_type'] = 'display_data';\n",
              "          await google.colab.output.renderOutput(dataTable, element);\n",
              "          const docLink = document.createElement('div');\n",
              "          docLink.innerHTML = docLinkHtml;\n",
              "          element.appendChild(docLink);\n",
              "        }\n",
              "      </script>\n",
              "    </div>\n",
              "  </div>\n",
              "  "
            ]
          },
          "metadata": {},
          "execution_count": 9
        }
      ]
    },
    {
      "cell_type": "code",
      "source": [
        "#상관관계 검정 (감독의 유명도:범주형 변수/스텝수:연속형 변수) => 비모수 검정 (스피어만)\n",
        "pg.corr(aaaa.유명도.astype(int), aaaa.평균스텝수, method=\"spearman\")"
      ],
      "metadata": {
        "colab": {
          "base_uri": "https://localhost:8080/",
          "height": 81
        },
        "id": "dcQy8iFrUaEI",
        "outputId": "e2d173a0-d4cd-4a29-a25a-6fea1357ed13"
      },
      "execution_count": 14,
      "outputs": [
        {
          "output_type": "execute_result",
          "data": {
            "text/plain": [
              "          n    r       CI95%         p-val  power\n",
              "spearman  5  1.0  [1.0, 1.0]  1.404265e-24    1.0"
            ],
            "text/html": [
              "\n",
              "  <div id=\"df-733a6326-f353-49bf-ac04-43c994171e19\">\n",
              "    <div class=\"colab-df-container\">\n",
              "      <div>\n",
              "<style scoped>\n",
              "    .dataframe tbody tr th:only-of-type {\n",
              "        vertical-align: middle;\n",
              "    }\n",
              "\n",
              "    .dataframe tbody tr th {\n",
              "        vertical-align: top;\n",
              "    }\n",
              "\n",
              "    .dataframe thead th {\n",
              "        text-align: right;\n",
              "    }\n",
              "</style>\n",
              "<table border=\"1\" class=\"dataframe\">\n",
              "  <thead>\n",
              "    <tr style=\"text-align: right;\">\n",
              "      <th></th>\n",
              "      <th>n</th>\n",
              "      <th>r</th>\n",
              "      <th>CI95%</th>\n",
              "      <th>p-val</th>\n",
              "      <th>power</th>\n",
              "    </tr>\n",
              "  </thead>\n",
              "  <tbody>\n",
              "    <tr>\n",
              "      <th>spearman</th>\n",
              "      <td>5</td>\n",
              "      <td>1.0</td>\n",
              "      <td>[1.0, 1.0]</td>\n",
              "      <td>1.404265e-24</td>\n",
              "      <td>1.0</td>\n",
              "    </tr>\n",
              "  </tbody>\n",
              "</table>\n",
              "</div>\n",
              "      <button class=\"colab-df-convert\" onclick=\"convertToInteractive('df-733a6326-f353-49bf-ac04-43c994171e19')\"\n",
              "              title=\"Convert this dataframe to an interactive table.\"\n",
              "              style=\"display:none;\">\n",
              "        \n",
              "  <svg xmlns=\"http://www.w3.org/2000/svg\" height=\"24px\"viewBox=\"0 0 24 24\"\n",
              "       width=\"24px\">\n",
              "    <path d=\"M0 0h24v24H0V0z\" fill=\"none\"/>\n",
              "    <path d=\"M18.56 5.44l.94 2.06.94-2.06 2.06-.94-2.06-.94-.94-2.06-.94 2.06-2.06.94zm-11 1L8.5 8.5l.94-2.06 2.06-.94-2.06-.94L8.5 2.5l-.94 2.06-2.06.94zm10 10l.94 2.06.94-2.06 2.06-.94-2.06-.94-.94-2.06-.94 2.06-2.06.94z\"/><path d=\"M17.41 7.96l-1.37-1.37c-.4-.4-.92-.59-1.43-.59-.52 0-1.04.2-1.43.59L10.3 9.45l-7.72 7.72c-.78.78-.78 2.05 0 2.83L4 21.41c.39.39.9.59 1.41.59.51 0 1.02-.2 1.41-.59l7.78-7.78 2.81-2.81c.8-.78.8-2.07 0-2.86zM5.41 20L4 18.59l7.72-7.72 1.47 1.35L5.41 20z\"/>\n",
              "  </svg>\n",
              "      </button>\n",
              "      \n",
              "  <style>\n",
              "    .colab-df-container {\n",
              "      display:flex;\n",
              "      flex-wrap:wrap;\n",
              "      gap: 12px;\n",
              "    }\n",
              "\n",
              "    .colab-df-convert {\n",
              "      background-color: #E8F0FE;\n",
              "      border: none;\n",
              "      border-radius: 50%;\n",
              "      cursor: pointer;\n",
              "      display: none;\n",
              "      fill: #1967D2;\n",
              "      height: 32px;\n",
              "      padding: 0 0 0 0;\n",
              "      width: 32px;\n",
              "    }\n",
              "\n",
              "    .colab-df-convert:hover {\n",
              "      background-color: #E2EBFA;\n",
              "      box-shadow: 0px 1px 2px rgba(60, 64, 67, 0.3), 0px 1px 3px 1px rgba(60, 64, 67, 0.15);\n",
              "      fill: #174EA6;\n",
              "    }\n",
              "\n",
              "    [theme=dark] .colab-df-convert {\n",
              "      background-color: #3B4455;\n",
              "      fill: #D2E3FC;\n",
              "    }\n",
              "\n",
              "    [theme=dark] .colab-df-convert:hover {\n",
              "      background-color: #434B5C;\n",
              "      box-shadow: 0px 1px 3px 1px rgba(0, 0, 0, 0.15);\n",
              "      filter: drop-shadow(0px 1px 2px rgba(0, 0, 0, 0.3));\n",
              "      fill: #FFFFFF;\n",
              "    }\n",
              "  </style>\n",
              "\n",
              "      <script>\n",
              "        const buttonEl =\n",
              "          document.querySelector('#df-733a6326-f353-49bf-ac04-43c994171e19 button.colab-df-convert');\n",
              "        buttonEl.style.display =\n",
              "          google.colab.kernel.accessAllowed ? 'block' : 'none';\n",
              "\n",
              "        async function convertToInteractive(key) {\n",
              "          const element = document.querySelector('#df-733a6326-f353-49bf-ac04-43c994171e19');\n",
              "          const dataTable =\n",
              "            await google.colab.kernel.invokeFunction('convertToInteractive',\n",
              "                                                     [key], {});\n",
              "          if (!dataTable) return;\n",
              "\n",
              "          const docLinkHtml = 'Like what you see? Visit the ' +\n",
              "            '<a target=\"_blank\" href=https://colab.research.google.com/notebooks/data_table.ipynb>data table notebook</a>'\n",
              "            + ' to learn more about interactive tables.';\n",
              "          element.innerHTML = '';\n",
              "          dataTable['output_type'] = 'display_data';\n",
              "          await google.colab.output.renderOutput(dataTable, element);\n",
              "          const docLink = document.createElement('div');\n",
              "          docLink.innerHTML = docLinkHtml;\n",
              "          element.appendChild(docLink);\n",
              "        }\n",
              "      </script>\n",
              "    </div>\n",
              "  </div>\n",
              "  "
            ]
          },
          "metadata": {},
          "execution_count": 14
        }
      ]
    },
    {
      "cell_type": "markdown",
      "source": [
        "##### | 분석 결과\n",
        "___\n",
        "*   감독 유명도별로 그룹화하여 살펴본 결과, 스텝 수는 감독의 유명도와 비례하여 증가하는 경향성을 보인다.\n",
        "* 감독 유명도와 스텝 수 간 상관계수가 1로, 양의 상관관계가 매우 높게 나타난다."
      ],
      "metadata": {
        "id": "mYfbPA-vpH0M"
      }
    },
    {
      "cell_type": "markdown",
      "source": [
        "##**5) 배급사 분석**"
      ],
      "metadata": {
        "id": "NqeiWRsPpUv0"
      }
    },
    {
      "cell_type": "markdown",
      "source": [
        "### **5-1) 배급사별 장르 추이: 상위 6개**\n",
        "- 사용한 변수: distributor, genre, num_movies"
      ],
      "metadata": {
        "id": "F_7iTcPd5CIW"
      }
    },
    {
      "cell_type": "code",
      "source": [
        "#영화를 가장 많이 제작하는 배급사 top10\n",
        "train['distributor'].value_counts().sort_values(ascending=False)[:10]"
      ],
      "metadata": {
        "id": "7tYXs5nN5EmT",
        "outputId": "dbd6b13a-5f56-402c-d336-efd5a0e7bc3a",
        "colab": {
          "base_uri": "https://localhost:8080/"
        }
      },
      "execution_count": null,
      "outputs": [
        {
          "output_type": "execute_result",
          "data": {
            "text/plain": [
              "CJ 엔터테인먼트    54\n",
              "롯데엔터테인먼트     52\n",
              "(주)NEW       30\n",
              "(주)마운틴픽쳐스    29\n",
              "(주)쇼박스       26\n",
              "인디스토리        26\n",
              "골든타이드픽처스     15\n",
              "(주) 케이알씨지    14\n",
              "(주) 영화사조제    10\n",
              "영화사 진진       10\n",
              "Name: distributor, dtype: int64"
            ]
          },
          "metadata": {},
          "execution_count": 53
        }
      ]
    },
    {
      "cell_type": "code",
      "source": [
        "#배급사별 자료 정렬\n",
        "train_top6 = train['distributor'].value_counts().head(6)\n",
        "\n",
        "train_dt_genre = train.groupby(['distributor', 'genre'])['title'].count().reset_index()\n",
        "train_dt_genre.columns = ['distributor', 'genre', 'num_movies']\n",
        "\n",
        "train_distributor_genre = train_dt_genre[train_dt_genre['distributor'].isin(train_top6.index)].copy() #상위 배급사 자료만"
      ],
      "metadata": {
        "id": "oPC34Qsn5Hwy"
      },
      "execution_count": null,
      "outputs": []
    },
    {
      "cell_type": "code",
      "source": [
        "import matplotlib.patches as mpt\n",
        "import matplotlib.colors as mcl\n",
        "import matplotlib.pyplot as plt"
      ],
      "metadata": {
        "id": "TyzGOModqhYM"
      },
      "execution_count": null,
      "outputs": []
    },
    {
      "cell_type": "code",
      "source": [
        "#방법1 - 도넛 그래프\n",
        "\n",
        "freq_col = 'num_movies' ## 빈도수 칼럼\n",
        "outer_col = 'distributor' ## 상위 그룹 칼럼\n",
        "inner_col = 'genre' ## 하위 그룹 칼럼\n",
        " \n",
        "size = 0.3 ## 바깥쪽, 안쪽 도넛 조각 조각의 반지름 비율을 0.3으로 한다.\n",
        "threshold = 4 ## 상한선 백분율\n",
        " \n",
        "color = sns.color_palette('hls',len(train_distributor_genre[outer_col].unique())) ## 바깥쪽 도넛의 색상설정\n",
        " \n",
        "summary = train_distributor_genre.groupby(outer_col)[freq_col].sum().reset_index() ## 지역별로 득표수를 집계한다.\n",
        "outer_data = summary[freq_col] ## 바깥쪽 도넛에 해당하는 데이터\n",
        "inner_data = [] ## 안쪽 도넛에 대응하는 데이터\n",
        "for s in summary[outer_col]:\n",
        "    inner_data += list(train_distributor_genre.query('{0}==@s'.format(outer_col))[freq_col])\n",
        " \n",
        "fig = plt.figure(figsize=(8,8)) ## 캔버스 생성\n",
        "fig.set_facecolor('white') ## 캔버스 배경색을 하얀색으로 설정\n",
        "ax = fig.add_subplot() ## 프레임 생성\n",
        " \n",
        "## 바깥쪽 도넛 조각 차트 출력\n",
        "out_pie = ax.pie(outer_data,\n",
        "             radius=1,\n",
        "             colors=color,\n",
        "             wedgeprops=dict(width=size,edgecolor='w'))\n",
        " \n",
        "## 바깥쪽 도넛 백분율 텍스트 출력\n",
        "total = np.sum(outer_data) ## 바깥쪽 빈도수의 총합\n",
        " \n",
        "sum_pct = 0 ## 백분율 초기값\n",
        " \n",
        "for i in range(len(outer_data)):\n",
        "    ang1, ang2 = out_pie[0][i].theta1, out_pie[0][i].theta2 ## 각1, 각2\n",
        "    out_r = out_pie[0][i].r ## 원의 반지름\n",
        "    \n",
        "    x = ((2*out_r-size)/2)*np.cos(np.pi/180*((ang1+ang2)/2)) ## 바깥쪽 도넛 조각의 중앙쪽 x좌표\n",
        "    y = ((2*out_r-size)/2)*np.sin(np.pi/180*((ang1+ang2)/2)) ## 바깥쪽 도넛 조각의 중앙쪽 y좌표\n",
        "    \n",
        "    if i < len(outer_data) - 1:\n",
        "        sum_pct += float(f'{outer_data[i]/total*100:.2f}') ## 백분율을 누적한다.\n",
        "        ax.text(x,y,f'{outer_data[i]/total*100:.2f}%',ha='center',va='center') ## 백분율 텍스트 표시\n",
        "    else: ## 총합을 100으로 맞추기위해 마지막 백분율은 100에서 백분율 누적값을 빼준다.\n",
        "        ax.text(x,y,f'{100-sum_pct:.2f}%',ha='center',va='center')\n",
        " \n",
        "outer_color = [] ## 바깥쪽 도넛 조각의 색상을 hsv 컬러로 담을 리스트\n",
        "for p in out_pie[0]:\n",
        "    outer_color.append(p.get_facecolor()) ## 바깥쪽 도넛 조각을 rgb 컬러로 가져온다.\n",
        "outer_color_hsv = [mcl.rgb_to_hsv(x[:3]) for x in outer_color] ## rgb를 hsv로 바꾼다.\n",
        "outer_color_hsv = [(x[0],x[1],1) for x in outer_color_hsv] ## 색상 채도만 가져오고 명도는 1로 고정한다.\n",
        " \n",
        "inner_color = [] ## 안쪽 도넛 조각의 색상을 담는 리스트\n",
        "for i, g in enumerate(summary[outer_col]):\n",
        "    num_sub_group = len(train_distributor_genre.query('{0}==@g'.format(outer_col))) ## 하위 그룹 개수\n",
        "    jump = outer_color_hsv[i][1]/(num_sub_group+1) ## 채도 등분점 간격\n",
        "    temp_list = []\n",
        "    temp_s = np.arange(0,outer_color_hsv[i][1],jump) \n",
        "    temp_s = temp_s[1:] ## 채도 등분점\n",
        "    for t in temp_s:\n",
        "        h = outer_color_hsv[i][0] ## 색상\n",
        "        s = t ## 채도\n",
        "        v = outer_color_hsv[i][2] ## 명도\n",
        "        temp_list.append((h,s,v))\n",
        "    inner_color += temp_list[::-1] ## 순서를 바꿈\n",
        "    \n",
        "inner_color = [mcl.hsv_to_rgb(x) for x in inner_color] #3 hsv를 다시 rgb로 바꾼다.\n",
        " \n",
        "## 안쪽 도넛 차트 출력\n",
        "inner_pie = ax.pie(inner_data,\n",
        "       radius=1-size,\n",
        "       colors=inner_color,\n",
        "       wedgeprops=dict(width=size,edgecolor='w'))\n",
        " \n",
        "## 안쪽 도넛 백분율 텍스트 출력\n",
        "bbox_props = dict(boxstyle='square',fc='w',ec='w',alpha=0) ## annotation 박스 스타일\n",
        "config = dict(arrowprops=dict(arrowstyle='-'),bbox=bbox_props,va='center')\n",
        " \n",
        "inner_sum_pct = 0 ## 안쪽 도넛 백분율 초기값\n",
        "for i in range(len(inner_data)):\n",
        "    ang1, ang2 = inner_pie[0][i].theta1, inner_pie[0][i].theta2 ## 안쪽 각1, 안쪽 각2\n",
        "    r = inner_pie[0][i].r ## 안쪽 도넛의 반지름\n",
        "    \n",
        "    x = ((2*r-size)/2)*np.cos(np.pi/180*((ang1+ang2)/2)) ## 안쪽 도넛 조각의 중앙쪽 x좌표\n",
        "    y = ((2*r-size)/2)*np.sin(np.pi/180*((ang1+ang2)/2)) ## 안쪽 도넛 조각의 중앙쪽 y좌표\n",
        "    \n",
        "    if i < len(inner_data) - 1:\n",
        "        inner_sum_pct += float(f'{inner_data[i]/total*100:.2f}') ## 백분율을 누적한다.\n",
        "        text = f'{inner_data[i]/total*100:.2f}%' ## 백분율 텍스트 표시\n",
        "    else: ## 총합을 100으로 맞추기위해 마지막 백분율은 100에서 백분율 누적값을 빼준다.\n",
        "        text = f'{100-inner_sum_pct:.2f}%'\n",
        "        \n",
        "    ## 비율 상한선보다 작은 것들은 Annotation으로 만든다.\n",
        "    if inner_data[i]/total*100 < threshold:\n",
        "        ang = (ang1+ang2)/2 ## 중심각\n",
        "        x = out_r*np.cos(np.deg2rad(ang)) ## Annotation의 끝점에 해당하는 x좌표\n",
        "        y = out_r*np.sin(np.deg2rad(ang)) ## Annotation의 끝점에 해당하는 y좌표\n",
        "        \n",
        "        ## x좌표가 양수이면 즉 y축을 중심으로 오른쪽에 있으면 왼쪽 정렬\n",
        "        ## x좌표가 음수이면 즉 y축을 중심으로 왼쪽에 있으면 오른쪽 정렬\n",
        "        horizontalalignment = {-1: \"right\", 1: \"left\"}[int(np.sign(x))]\n",
        "        connectionstyle = \"angle,angleA=0,angleB={}\".format(ang) ## 시작점과 끝점 연결 스타일\n",
        "        config[\"arrowprops\"].update({\"connectionstyle\": connectionstyle}) ## \n",
        "        ax.annotate(text, xy=((out_r-size)*x, (out_r-size)*y), xytext=(1.5*x, 1.2*y),\n",
        "                    horizontalalignment=horizontalalignment, **config)\n",
        "    else:\n",
        "        x = ((2*r-size)/2)*np.cos(np.pi/180*((ang1+ang2)/2)) ## 텍스트 x좌표\n",
        "        y = ((2*r-size)/2)*np.sin(np.pi/180*((ang1+ang2)/2)) ## 텍스트 y좌표\n",
        "        ax.text(x,y,text,ha='center',va='center')\n",
        " \n",
        "## 범례\n",
        "## 범례는 2줄로 만든다. 왼쪽 줄에는 상위 그룹을 표시하고 오른쪽 줄에는 하위 그룹을 표시한다.\n",
        "inner_pie_index = -1 ## 안쪽 도넛 차트의 데이터에 접근할 인덱스 초기값\n",
        "right_legend_patches = [] ## 오른쪽 범례 칼럼에 들어가는 요소\n",
        "left_legend_patches = [] ## 왼쪽 범례 칼럼에 들어가는 요소\n",
        "right_labels = [] ## 오른쪽 범례 칼럼에 들어가는 라벨\n",
        "left_labels = [] ## 왼쪽 범례 칼러에 들어가는 라벨\n",
        "for i in range(len(outer_data)):\n",
        "    left_legend_patches.append(out_pie[0][i])\n",
        "    \n",
        "    outer_label = summary[outer_col][i] ## 바깥쪽 도넛 차트 라벨\n",
        " \n",
        "    left_labels.append(outer_label)\n",
        "    temp_data = train_distributor_genre.query('{0}==@outer_label'.format(outer_col)) ## 바깥쪽 라벨에 대응하는 안쪽 도넛 데이터\n",
        "    temp_data = temp_data.reset_index(drop=True)\n",
        "    \n",
        "    temp_number = len(temp_data)-1\n",
        "    \n",
        "    ## 오른쪽 범례 개수와 맞추기 위해 빈 범례를 만듬\n",
        "    for k in range(temp_number):\n",
        "        rect = mpt.Rectangle((0,0),1,1.1,facecolor='None')\n",
        "        left_legend_patches.append(rect)\n",
        "        left_labels.append('')\n",
        "    \n",
        "    ## 오른쪽 범례 칼럼을 만든다.\n",
        "    for j in range(len(temp_data)):\n",
        "        inner_pie_index += 1\n",
        "        \n",
        "        right_legend_patches.append(inner_pie[0][inner_pie_index])\n",
        "        right_labels.append(temp_data[inner_col][j])\n",
        "        \n",
        "    ## 범례 요소와 라벨을 합친다.\n",
        "    legend_patches = left_legend_patches+right_legend_patches\n",
        "    labels = left_labels + right_labels\n",
        "        \n",
        "## 범례 출력\n",
        "plt.legend(legend_patches,\n",
        "           labels,\n",
        "           ncol=2,\n",
        "           loc='upper right',\n",
        "           handleheight=1, ## 범례 줄 맞춤\n",
        "           labelspacing=0.5, ## 범례 줄 간격\n",
        "           bbox_to_anchor=(1.2,1))\n",
        "\n",
        "ax.set_title(\"상위 배급사별 장르 추이\")\n",
        "plt.show()"
      ],
      "metadata": {
        "id": "UwnWkSUs5Mzl",
        "outputId": "0e768456-21cb-44ba-bc1f-cdbfff7c4867",
        "colab": {
          "base_uri": "https://localhost:8080/",
          "height": 754
        }
      },
      "execution_count": null,
      "outputs": [
        {
          "output_type": "display_data",
          "data": {
            "text/plain": [
              "<Figure size 576x576 with 1 Axes>"
            ],
            "image/png": "[encoded data removed]"
          },
          "metadata": {}
        }
      ]
    },
    {
      "cell_type": "code",
      "source": [
        "#방법2 - 배급사별 막대 그래프\n",
        "ax = sns.catplot(data=train_distributor_genre, x='num_movies', y='genre', kind='bar', col='distributor', col_wrap=3)\n",
        "ax.fig.subplots_adjust(top=0.9) # adjust the Figure in rp\n",
        "ax.fig.suptitle('상위 배급사별 장르 추이')"
      ],
      "metadata": {
        "id": "cR0wPYwl5VdW",
        "outputId": "bc0549ad-fc3a-471f-f14b-cc86d3017a23",
        "colab": {
          "base_uri": "https://localhost:8080/",
          "height": 744
        }
      },
      "execution_count": null,
      "outputs": [
        {
          "output_type": "execute_result",
          "data": {
            "text/plain": [
              "Text(0.5, 0.98, '상위 배급사별 장르 추이')"
            ]
          },
          "metadata": {},
          "execution_count": 57
        },
        {
          "output_type": "display_data",
          "data": {
            "text/plain": [
              "<Figure size 1080x720 with 6 Axes>"
            ],
            "image/png": "[encoded data removed]"
          },
          "metadata": {
            "needs_background": "light"
          }
        }
      ]
    },
    {
      "cell_type": "markdown",
      "source": [
        "##### | 분석 결과\n",
        "___\n",
        "*   도넛 그래프를 통해 상위 6개 배급사 간의 점유율과 각 배급사의 영화 장르 비율을 볼 수 있다.\n",
        "*   배급사별 영화 장르 비율은 막대 그래프를 통해 더 자세히 확인할 수 있는데, 전체적으로 드라마 장르가 우세한 경향을 보이고 SF, 미스터리 등의 장르가 약세인 것을 관찰할 수 있다.\n"
      ],
      "metadata": {
        "id": "KRBhxDos5YJ2"
      }
    },
    {
      "cell_type": "markdown",
      "source": [
        "### **5-2) 배급사별 장르 추이: 하위 15개 합**\n",
        "- 사용한 변수: distributor,genre, num_movies"
      ],
      "metadata": {
        "id": "uhj-2ZXf5bAX"
      }
    },
    {
      "cell_type": "code",
      "source": [
        "#영화를 가장 적게 제작하는 배급사 top15\n",
        "train['distributor'].value_counts().sort_values(ascending=True)[:15]"
      ],
      "metadata": {
        "id": "fHkq3HLB5eVL",
        "outputId": "20730d7b-8736-4ff9-d6d6-09c498a7aee1",
        "colab": {
          "base_uri": "https://localhost:8080/"
        }
      },
      "execution_count": null,
      "outputs": [
        {
          "output_type": "execute_result",
          "data": {
            "text/plain": [
              "이달투            1\n",
              "(주)씨엠닉스        1\n",
              "팜코리아미디어        1\n",
              "(주)로드하우스       1\n",
              "미라클 필름         1\n",
              "위드시네마          1\n",
              "더 피플           1\n",
              "인피니티엔터테인먼트     1\n",
              "쟈비스미디어         1\n",
              "에이블엔터테인먼트      1\n",
              "(주)이스트스카이필름    1\n",
              "(주)JK필름        1\n",
              "사람과 사람들        1\n",
              "(주)고앤고 필름      1\n",
              "오퍼스픽쳐스         1\n",
              "Name: distributor, dtype: int64"
            ]
          },
          "metadata": {},
          "execution_count": 58
        }
      ]
    },
    {
      "cell_type": "code",
      "source": [
        "#배급사별 자료 정렬\n",
        "train_bottom15 = train['distributor'].value_counts().tail(15)\n",
        "\n",
        "train_dt_genre2 = train.groupby(['distributor', 'genre'])['title'].count().reset_index()\n",
        "train_dt_genre2.columns = ['distributor', 'genre', 'num_movies']\n",
        "\n",
        "train_distributor_genre2 = train_dt_genre2[train_dt_genre2['distributor'].isin(train_bottom15.index)].copy() #하위 배급사 자료만\n",
        "\n",
        "train_distributor_genre2 = pd.DataFrame(train_distributor_genre2.groupby(['genre'])['num_movies'].sum())\n",
        "train_distributor_genre2"
      ],
      "metadata": {
        "id": "dB3cAC9f5c0X",
        "outputId": "1ef7bcbd-6cc0-4f59-f773-f56e17192798",
        "colab": {
          "base_uri": "https://localhost:8080/",
          "height": 300
        }
      },
      "execution_count": null,
      "outputs": [
        {
          "output_type": "execute_result",
          "data": {
            "text/plain": [
              "        num_movies\n",
              "genre             \n",
              "공포               2\n",
              "느와르              2\n",
              "다큐멘터리            3\n",
              "드라마              5\n",
              "멜로/로맨스           1\n",
              "미스터리             1\n",
              "애니메이션            1"
            ],
            "text/html": [
              "\n",
              "  <div id=\"df-f23d9112-2488-4e7d-8aba-e165ebc96847\">\n",
              "    <div class=\"colab-df-container\">\n",
              "      <div>\n",
              "<style scoped>\n",
              "    .dataframe tbody tr th:only-of-type {\n",
              "        vertical-align: middle;\n",
              "    }\n",
              "\n",
              "    .dataframe tbody tr th {\n",
              "        vertical-align: top;\n",
              "    }\n",
              "\n",
              "    .dataframe thead th {\n",
              "        text-align: right;\n",
              "    }\n",
              "</style>\n",
              "<table border=\"1\" class=\"dataframe\">\n",
              "  <thead>\n",
              "    <tr style=\"text-align: right;\">\n",
              "      <th></th>\n",
              "      <th>num_movies</th>\n",
              "    </tr>\n",
              "    <tr>\n",
              "      <th>genre</th>\n",
              "      <th></th>\n",
              "    </tr>\n",
              "  </thead>\n",
              "  <tbody>\n",
              "    <tr>\n",
              "      <th>공포</th>\n",
              "      <td>2</td>\n",
              "    </tr>\n",
              "    <tr>\n",
              "      <th>느와르</th>\n",
              "      <td>2</td>\n",
              "    </tr>\n",
              "    <tr>\n",
              "      <th>다큐멘터리</th>\n",
              "      <td>3</td>\n",
              "    </tr>\n",
              "    <tr>\n",
              "      <th>드라마</th>\n",
              "      <td>5</td>\n",
              "    </tr>\n",
              "    <tr>\n",
              "      <th>멜로/로맨스</th>\n",
              "      <td>1</td>\n",
              "    </tr>\n",
              "    <tr>\n",
              "      <th>미스터리</th>\n",
              "      <td>1</td>\n",
              "    </tr>\n",
              "    <tr>\n",
              "      <th>애니메이션</th>\n",
              "      <td>1</td>\n",
              "    </tr>\n",
              "  </tbody>\n",
              "</table>\n",
              "</div>\n",
              "      <button class=\"colab-df-convert\" onclick=\"convertToInteractive('df-f23d9112-2488-4e7d-8aba-e165ebc96847')\"\n",
              "              title=\"Convert this dataframe to an interactive table.\"\n",
              "              style=\"display:none;\">\n",
              "        \n",
              "  <svg xmlns=\"http://www.w3.org/2000/svg\" height=\"24px\"viewBox=\"0 0 24 24\"\n",
              "       width=\"24px\">\n",
              "    <path d=\"M0 0h24v24H0V0z\" fill=\"none\"/>\n",
              "    <path d=\"M18.56 5.44l.94 2.06.94-2.06 2.06-.94-2.06-.94-.94-2.06-.94 2.06-2.06.94zm-11 1L8.5 8.5l.94-2.06 2.06-.94-2.06-.94L8.5 2.5l-.94 2.06-2.06.94zm10 10l.94 2.06.94-2.06 2.06-.94-2.06-.94-.94-2.06-.94 2.06-2.06.94z\"/><path d=\"M17.41 7.96l-1.37-1.37c-.4-.4-.92-.59-1.43-.59-.52 0-1.04.2-1.43.59L10.3 9.45l-7.72 7.72c-.78.78-.78 2.05 0 2.83L4 21.41c.39.39.9.59 1.41.59.51 0 1.02-.2 1.41-.59l7.78-7.78 2.81-2.81c.8-.78.8-2.07 0-2.86zM5.41 20L4 18.59l7.72-7.72 1.47 1.35L5.41 20z\"/>\n",
              "  </svg>\n",
              "      </button>\n",
              "      \n",
              "  <style>\n",
              "    .colab-df-container {\n",
              "      display:flex;\n",
              "      flex-wrap:wrap;\n",
              "      gap: 12px;\n",
              "    }\n",
              "\n",
              "    .colab-df-convert {\n",
              "      background-color: #E8F0FE;\n",
              "      border: none;\n",
              "      border-radius: 50%;\n",
              "      cursor: pointer;\n",
              "      display: none;\n",
              "      fill: #1967D2;\n",
              "      height: 32px;\n",
              "      padding: 0 0 0 0;\n",
              "      width: 32px;\n",
              "    }\n",
              "\n",
              "    .colab-df-convert:hover {\n",
              "      background-color: #E2EBFA;\n",
              "      box-shadow: 0px 1px 2px rgba(60, 64, 67, 0.3), 0px 1px 3px 1px rgba(60, 64, 67, 0.15);\n",
              "      fill: #174EA6;\n",
              "    }\n",
              "\n",
              "    [theme=dark] .colab-df-convert {\n",
              "      background-color: #3B4455;\n",
              "      fill: #D2E3FC;\n",
              "    }\n",
              "\n",
              "    [theme=dark] .colab-df-convert:hover {\n",
              "      background-color: #434B5C;\n",
              "      box-shadow: 0px 1px 3px 1px rgba(0, 0, 0, 0.15);\n",
              "      filter: drop-shadow(0px 1px 2px rgba(0, 0, 0, 0.3));\n",
              "      fill: #FFFFFF;\n",
              "    }\n",
              "  </style>\n",
              "\n",
              "      <script>\n",
              "        const buttonEl =\n",
              "          document.querySelector('#df-f23d9112-2488-4e7d-8aba-e165ebc96847 button.colab-df-convert');\n",
              "        buttonEl.style.display =\n",
              "          google.colab.kernel.accessAllowed ? 'block' : 'none';\n",
              "\n",
              "        async function convertToInteractive(key) {\n",
              "          const element = document.querySelector('#df-f23d9112-2488-4e7d-8aba-e165ebc96847');\n",
              "          const dataTable =\n",
              "            await google.colab.kernel.invokeFunction('convertToInteractive',\n",
              "                                                     [key], {});\n",
              "          if (!dataTable) return;\n",
              "\n",
              "          const docLinkHtml = 'Like what you see? Visit the ' +\n",
              "            '<a target=\"_blank\" href=https://colab.research.google.com/notebooks/data_table.ipynb>data table notebook</a>'\n",
              "            + ' to learn more about interactive tables.';\n",
              "          element.innerHTML = '';\n",
              "          dataTable['output_type'] = 'display_data';\n",
              "          await google.colab.output.renderOutput(dataTable, element);\n",
              "          const docLink = document.createElement('div');\n",
              "          docLink.innerHTML = docLinkHtml;\n",
              "          element.appendChild(docLink);\n",
              "        }\n",
              "      </script>\n",
              "    </div>\n",
              "  </div>\n",
              "  "
            ]
          },
          "metadata": {},
          "execution_count": 59
        }
      ]
    },
    {
      "cell_type": "code",
      "source": [
        "#파이차트 그리기\n",
        "ratio = train_distributor_genre2['num_movies']\n",
        "labels = train_distributor_genre2.index\n",
        "\n",
        "plt.pie(ratio, labels=labels, autopct='%.2f%%')\n",
        "plt.title('하위 배급사들의 장르 추이')\n",
        "plt.show()"
      ],
      "metadata": {
        "id": "X5C9iz_x5jIf",
        "outputId": "e9567f02-13c0-4d6d-dcc9-a81b0006c92f",
        "colab": {
          "base_uri": "https://localhost:8080/",
          "height": 589
        }
      },
      "execution_count": null,
      "outputs": [
        {
          "output_type": "display_data",
          "data": {
            "text/plain": [
              "<Figure size 720x720 with 1 Axes>"
            ],
            "image/png": "[encoded data removed]"
          },
          "metadata": {}
        }
      ]
    },
    {
      "cell_type": "markdown",
      "source": [
        "##### | 분석 결과\n",
        "___\n",
        "*   영화 수가 적은 하위 배급사들은 배급사별로 영화를 한 편 씩만 상영하였기에 이들을 합쳐 하위 배급사 전체의 장르 수를 비교하였다.\n",
        "*   하위 배급사 역시 드라마 장르를 가장 많이 상영하였다.\n",
        "*   다만, 상위 배급사와는 다르게 다큐멘터리 장르가 상위권을 차지하고 멜로/로맨스 장르가 하위권을 차지한 것을 통해 상위 배급사와 하위 배급사의 경향성이 다름을 확인할 수 있다."
      ],
      "metadata": {
        "id": "W5ZFG_KT5oB_"
      }
    },
    {
      "cell_type": "markdown",
      "source": [
        "### **5-3) 배급사 점유율과 관객수 비교**\n",
        "- 사용한 변수: distributor, box_off_num"
      ],
      "metadata": {
        "id": "dTYvU50Z5rPQ"
      }
    },
    {
      "cell_type": "code",
      "source": [
        "movie_count_by_dist = pd.DataFrame(train['distributor'].value_counts())\n",
        "movie_count_by_dist"
      ],
      "metadata": {
        "id": "Ha4fG5JB5tjC",
        "outputId": "fe25dba3-1509-4ded-971f-e41cc5f59cd0",
        "colab": {
          "base_uri": "https://localhost:8080/",
          "height": 424
        }
      },
      "execution_count": null,
      "outputs": [
        {
          "output_type": "execute_result",
          "data": {
            "text/plain": [
              "               distributor\n",
              "CJ 엔터테인먼트               54\n",
              "롯데엔터테인먼트                52\n",
              "(주)NEW                  30\n",
              "(주)마운틴픽쳐스               29\n",
              "(주)쇼박스                  26\n",
              "...                    ...\n",
              "OAL(올)                   1\n",
              "(주)에이원 엔터테인먼트            1\n",
              "(주)콘텐츠 윙                 1\n",
              "위더스필름                    1\n",
              "퍼스트런                     1\n",
              "\n",
              "[169 rows x 1 columns]"
            ],
            "text/html": [
              "\n",
              "  <div id=\"df-a2aa2a46-81f8-4e9e-bea1-874ced158f87\">\n",
              "    <div class=\"colab-df-container\">\n",
              "      <div>\n",
              "<style scoped>\n",
              "    .dataframe tbody tr th:only-of-type {\n",
              "        vertical-align: middle;\n",
              "    }\n",
              "\n",
              "    .dataframe tbody tr th {\n",
              "        vertical-align: top;\n",
              "    }\n",
              "\n",
              "    .dataframe thead th {\n",
              "        text-align: right;\n",
              "    }\n",
              "</style>\n",
              "<table border=\"1\" class=\"dataframe\">\n",
              "  <thead>\n",
              "    <tr style=\"text-align: right;\">\n",
              "      <th></th>\n",
              "      <th>distributor</th>\n",
              "    </tr>\n",
              "  </thead>\n",
              "  <tbody>\n",
              "    <tr>\n",
              "      <th>CJ 엔터테인먼트</th>\n",
              "      <td>54</td>\n",
              "    </tr>\n",
              "    <tr>\n",
              "      <th>롯데엔터테인먼트</th>\n",
              "      <td>52</td>\n",
              "    </tr>\n",
              "    <tr>\n",
              "      <th>(주)NEW</th>\n",
              "      <td>30</td>\n",
              "    </tr>\n",
              "    <tr>\n",
              "      <th>(주)마운틴픽쳐스</th>\n",
              "      <td>29</td>\n",
              "    </tr>\n",
              "    <tr>\n",
              "      <th>(주)쇼박스</th>\n",
              "      <td>26</td>\n",
              "    </tr>\n",
              "    <tr>\n",
              "      <th>...</th>\n",
              "      <td>...</td>\n",
              "    </tr>\n",
              "    <tr>\n",
              "      <th>OAL(올)</th>\n",
              "      <td>1</td>\n",
              "    </tr>\n",
              "    <tr>\n",
              "      <th>(주)에이원 엔터테인먼트</th>\n",
              "      <td>1</td>\n",
              "    </tr>\n",
              "    <tr>\n",
              "      <th>(주)콘텐츠 윙</th>\n",
              "      <td>1</td>\n",
              "    </tr>\n",
              "    <tr>\n",
              "      <th>위더스필름</th>\n",
              "      <td>1</td>\n",
              "    </tr>\n",
              "    <tr>\n",
              "      <th>퍼스트런</th>\n",
              "      <td>1</td>\n",
              "    </tr>\n",
              "  </tbody>\n",
              "</table>\n",
              "<p>169 rows × 1 columns</p>\n",
              "</div>\n",
              "      <button class=\"colab-df-convert\" onclick=\"convertToInteractive('df-a2aa2a46-81f8-4e9e-bea1-874ced158f87')\"\n",
              "              title=\"Convert this dataframe to an interactive table.\"\n",
              "              style=\"display:none;\">\n",
              "        \n",
              "  <svg xmlns=\"http://www.w3.org/2000/svg\" height=\"24px\"viewBox=\"0 0 24 24\"\n",
              "       width=\"24px\">\n",
              "    <path d=\"M0 0h24v24H0V0z\" fill=\"none\"/>\n",
              "    <path d=\"M18.56 5.44l.94 2.06.94-2.06 2.06-.94-2.06-.94-.94-2.06-.94 2.06-2.06.94zm-11 1L8.5 8.5l.94-2.06 2.06-.94-2.06-.94L8.5 2.5l-.94 2.06-2.06.94zm10 10l.94 2.06.94-2.06 2.06-.94-2.06-.94-.94-2.06-.94 2.06-2.06.94z\"/><path d=\"M17.41 7.96l-1.37-1.37c-.4-.4-.92-.59-1.43-.59-.52 0-1.04.2-1.43.59L10.3 9.45l-7.72 7.72c-.78.78-.78 2.05 0 2.83L4 21.41c.39.39.9.59 1.41.59.51 0 1.02-.2 1.41-.59l7.78-7.78 2.81-2.81c.8-.78.8-2.07 0-2.86zM5.41 20L4 18.59l7.72-7.72 1.47 1.35L5.41 20z\"/>\n",
              "  </svg>\n",
              "      </button>\n",
              "      \n",
              "  <style>\n",
              "    .colab-df-container {\n",
              "      display:flex;\n",
              "      flex-wrap:wrap;\n",
              "      gap: 12px;\n",
              "    }\n",
              "\n",
              "    .colab-df-convert {\n",
              "      background-color: #E8F0FE;\n",
              "      border: none;\n",
              "      border-radius: 50%;\n",
              "      cursor: pointer;\n",
              "      display: none;\n",
              "      fill: #1967D2;\n",
              "      height: 32px;\n",
              "      padding: 0 0 0 0;\n",
              "      width: 32px;\n",
              "    }\n",
              "\n",
              "    .colab-df-convert:hover {\n",
              "      background-color: #E2EBFA;\n",
              "      box-shadow: 0px 1px 2px rgba(60, 64, 67, 0.3), 0px 1px 3px 1px rgba(60, 64, 67, 0.15);\n",
              "      fill: #174EA6;\n",
              "    }\n",
              "\n",
              "    [theme=dark] .colab-df-convert {\n",
              "      background-color: #3B4455;\n",
              "      fill: #D2E3FC;\n",
              "    }\n",
              "\n",
              "    [theme=dark] .colab-df-convert:hover {\n",
              "      background-color: #434B5C;\n",
              "      box-shadow: 0px 1px 3px 1px rgba(0, 0, 0, 0.15);\n",
              "      filter: drop-shadow(0px 1px 2px rgba(0, 0, 0, 0.3));\n",
              "      fill: #FFFFFF;\n",
              "    }\n",
              "  </style>\n",
              "\n",
              "      <script>\n",
              "        const buttonEl =\n",
              "          document.querySelector('#df-a2aa2a46-81f8-4e9e-bea1-874ced158f87 button.colab-df-convert');\n",
              "        buttonEl.style.display =\n",
              "          google.colab.kernel.accessAllowed ? 'block' : 'none';\n",
              "\n",
              "        async function convertToInteractive(key) {\n",
              "          const element = document.querySelector('#df-a2aa2a46-81f8-4e9e-bea1-874ced158f87');\n",
              "          const dataTable =\n",
              "            await google.colab.kernel.invokeFunction('convertToInteractive',\n",
              "                                                     [key], {});\n",
              "          if (!dataTable) return;\n",
              "\n",
              "          const docLinkHtml = 'Like what you see? Visit the ' +\n",
              "            '<a target=\"_blank\" href=https://colab.research.google.com/notebooks/data_table.ipynb>data table notebook</a>'\n",
              "            + ' to learn more about interactive tables.';\n",
              "          element.innerHTML = '';\n",
              "          dataTable['output_type'] = 'display_data';\n",
              "          await google.colab.output.renderOutput(dataTable, element);\n",
              "          const docLink = document.createElement('div');\n",
              "          docLink.innerHTML = docLinkHtml;\n",
              "          element.appendChild(docLink);\n",
              "        }\n",
              "      </script>\n",
              "    </div>\n",
              "  </div>\n",
              "  "
            ]
          },
          "metadata": {},
          "execution_count": 61
        }
      ]
    },
    {
      "cell_type": "code",
      "source": [
        "box_num_by_dist = pd.DataFrame(train.groupby(['distributor'])['box_off_num'].sum())\n",
        "box_num_by_dist"
      ],
      "metadata": {
        "id": "x0GZJrBb5x0C",
        "outputId": "5fa2fc95-122d-4421-aed8-279e27462158",
        "colab": {
          "base_uri": "https://localhost:8080/",
          "height": 455
        }
      },
      "execution_count": null,
      "outputs": [
        {
          "output_type": "execute_result",
          "data": {
            "text/plain": [
              "                box_off_num\n",
              "distributor                \n",
              "(주) 브릿지웍스             10795\n",
              "(주) 액티버스엔터테인먼트         1220\n",
              "(주) 영화사조제             67718\n",
              "(주) 영화제작전원사          139540\n",
              "(주) 케이알씨지             14382\n",
              "...                     ...\n",
              "필름라인                   5100\n",
              "하준사                     600\n",
              "한국YWCA연합회                71\n",
              "홀리가든                   6886\n",
              "화앤담이엔티               344393\n",
              "\n",
              "[169 rows x 1 columns]"
            ],
            "text/html": [
              "\n",
              "  <div id=\"df-a101a389-445e-43c7-9b88-d518ff24126c\">\n",
              "    <div class=\"colab-df-container\">\n",
              "      <div>\n",
              "<style scoped>\n",
              "    .dataframe tbody tr th:only-of-type {\n",
              "        vertical-align: middle;\n",
              "    }\n",
              "\n",
              "    .dataframe tbody tr th {\n",
              "        vertical-align: top;\n",
              "    }\n",
              "\n",
              "    .dataframe thead th {\n",
              "        text-align: right;\n",
              "    }\n",
              "</style>\n",
              "<table border=\"1\" class=\"dataframe\">\n",
              "  <thead>\n",
              "    <tr style=\"text-align: right;\">\n",
              "      <th></th>\n",
              "      <th>box_off_num</th>\n",
              "    </tr>\n",
              "    <tr>\n",
              "      <th>distributor</th>\n",
              "      <th></th>\n",
              "    </tr>\n",
              "  </thead>\n",
              "  <tbody>\n",
              "    <tr>\n",
              "      <th>(주) 브릿지웍스</th>\n",
              "      <td>10795</td>\n",
              "    </tr>\n",
              "    <tr>\n",
              "      <th>(주) 액티버스엔터테인먼트</th>\n",
              "      <td>1220</td>\n",
              "    </tr>\n",
              "    <tr>\n",
              "      <th>(주) 영화사조제</th>\n",
              "      <td>67718</td>\n",
              "    </tr>\n",
              "    <tr>\n",
              "      <th>(주) 영화제작전원사</th>\n",
              "      <td>139540</td>\n",
              "    </tr>\n",
              "    <tr>\n",
              "      <th>(주) 케이알씨지</th>\n",
              "      <td>14382</td>\n",
              "    </tr>\n",
              "    <tr>\n",
              "      <th>...</th>\n",
              "      <td>...</td>\n",
              "    </tr>\n",
              "    <tr>\n",
              "      <th>필름라인</th>\n",
              "      <td>5100</td>\n",
              "    </tr>\n",
              "    <tr>\n",
              "      <th>하준사</th>\n",
              "      <td>600</td>\n",
              "    </tr>\n",
              "    <tr>\n",
              "      <th>한국YWCA연합회</th>\n",
              "      <td>71</td>\n",
              "    </tr>\n",
              "    <tr>\n",
              "      <th>홀리가든</th>\n",
              "      <td>6886</td>\n",
              "    </tr>\n",
              "    <tr>\n",
              "      <th>화앤담이엔티</th>\n",
              "      <td>344393</td>\n",
              "    </tr>\n",
              "  </tbody>\n",
              "</table>\n",
              "<p>169 rows × 1 columns</p>\n",
              "</div>\n",
              "      <button class=\"colab-df-convert\" onclick=\"convertToInteractive('df-a101a389-445e-43c7-9b88-d518ff24126c')\"\n",
              "              title=\"Convert this dataframe to an interactive table.\"\n",
              "              style=\"display:none;\">\n",
              "        \n",
              "  <svg xmlns=\"http://www.w3.org/2000/svg\" height=\"24px\"viewBox=\"0 0 24 24\"\n",
              "       width=\"24px\">\n",
              "    <path d=\"M0 0h24v24H0V0z\" fill=\"none\"/>\n",
              "    <path d=\"M18.56 5.44l.94 2.06.94-2.06 2.06-.94-2.06-.94-.94-2.06-.94 2.06-2.06.94zm-11 1L8.5 8.5l.94-2.06 2.06-.94-2.06-.94L8.5 2.5l-.94 2.06-2.06.94zm10 10l.94 2.06.94-2.06 2.06-.94-2.06-.94-.94-2.06-.94 2.06-2.06.94z\"/><path d=\"M17.41 7.96l-1.37-1.37c-.4-.4-.92-.59-1.43-.59-.52 0-1.04.2-1.43.59L10.3 9.45l-7.72 7.72c-.78.78-.78 2.05 0 2.83L4 21.41c.39.39.9.59 1.41.59.51 0 1.02-.2 1.41-.59l7.78-7.78 2.81-2.81c.8-.78.8-2.07 0-2.86zM5.41 20L4 18.59l7.72-7.72 1.47 1.35L5.41 20z\"/>\n",
              "  </svg>\n",
              "      </button>\n",
              "      \n",
              "  <style>\n",
              "    .colab-df-container {\n",
              "      display:flex;\n",
              "      flex-wrap:wrap;\n",
              "      gap: 12px;\n",
              "    }\n",
              "\n",
              "    .colab-df-convert {\n",
              "      background-color: #E8F0FE;\n",
              "      border: none;\n",
              "      border-radius: 50%;\n",
              "      cursor: pointer;\n",
              "      display: none;\n",
              "      fill: #1967D2;\n",
              "      height: 32px;\n",
              "      padding: 0 0 0 0;\n",
              "      width: 32px;\n",
              "    }\n",
              "\n",
              "    .colab-df-convert:hover {\n",
              "      background-color: #E2EBFA;\n",
              "      box-shadow: 0px 1px 2px rgba(60, 64, 67, 0.3), 0px 1px 3px 1px rgba(60, 64, 67, 0.15);\n",
              "      fill: #174EA6;\n",
              "    }\n",
              "\n",
              "    [theme=dark] .colab-df-convert {\n",
              "      background-color: #3B4455;\n",
              "      fill: #D2E3FC;\n",
              "    }\n",
              "\n",
              "    [theme=dark] .colab-df-convert:hover {\n",
              "      background-color: #434B5C;\n",
              "      box-shadow: 0px 1px 3px 1px rgba(0, 0, 0, 0.15);\n",
              "      filter: drop-shadow(0px 1px 2px rgba(0, 0, 0, 0.3));\n",
              "      fill: #FFFFFF;\n",
              "    }\n",
              "  </style>\n",
              "\n",
              "      <script>\n",
              "        const buttonEl =\n",
              "          document.querySelector('#df-a101a389-445e-43c7-9b88-d518ff24126c button.colab-df-convert');\n",
              "        buttonEl.style.display =\n",
              "          google.colab.kernel.accessAllowed ? 'block' : 'none';\n",
              "\n",
              "        async function convertToInteractive(key) {\n",
              "          const element = document.querySelector('#df-a101a389-445e-43c7-9b88-d518ff24126c');\n",
              "          const dataTable =\n",
              "            await google.colab.kernel.invokeFunction('convertToInteractive',\n",
              "                                                     [key], {});\n",
              "          if (!dataTable) return;\n",
              "\n",
              "          const docLinkHtml = 'Like what you see? Visit the ' +\n",
              "            '<a target=\"_blank\" href=https://colab.research.google.com/notebooks/data_table.ipynb>data table notebook</a>'\n",
              "            + ' to learn more about interactive tables.';\n",
              "          element.innerHTML = '';\n",
              "          dataTable['output_type'] = 'display_data';\n",
              "          await google.colab.output.renderOutput(dataTable, element);\n",
              "          const docLink = document.createElement('div');\n",
              "          docLink.innerHTML = docLinkHtml;\n",
              "          element.appendChild(docLink);\n",
              "        }\n",
              "      </script>\n",
              "    </div>\n",
              "  </div>\n",
              "  "
            ]
          },
          "metadata": {},
          "execution_count": 62
        }
      ]
    },
    {
      "cell_type": "code",
      "source": [
        "dist_box = pd.concat([movie_count_by_dist,box_num_by_dist],axis=1)\n",
        "dist_box"
      ],
      "metadata": {
        "colab": {
          "base_uri": "https://localhost:8080/",
          "height": 424
        },
        "id": "ZGh5rj5urgrs",
        "outputId": "4359d6c6-b00b-452b-fcc9-e6c8357fbdef"
      },
      "execution_count": null,
      "outputs": [
        {
          "output_type": "execute_result",
          "data": {
            "text/plain": [
              "               distributor  box_off_num\n",
              "CJ 엔터테인먼트               54    116788093\n",
              "롯데엔터테인먼트                52     64383745\n",
              "(주)NEW                  30     65532145\n",
              "(주)마운틴픽쳐스               29       937924\n",
              "(주)쇼박스                  26     88053064\n",
              "...                    ...          ...\n",
              "OAL(올)                   1       497994\n",
              "(주)에이원 엔터테인먼트            1        53235\n",
              "(주)콘텐츠 윙                 1         1079\n",
              "위더스필름                    1           90\n",
              "퍼스트런                     1         1132\n",
              "\n",
              "[169 rows x 2 columns]"
            ],
            "text/html": [
              "\n",
              "  <div id=\"df-ca12fd11-a6dd-4e98-a6f6-83dad61ea425\">\n",
              "    <div class=\"colab-df-container\">\n",
              "      <div>\n",
              "<style scoped>\n",
              "    .dataframe tbody tr th:only-of-type {\n",
              "        vertical-align: middle;\n",
              "    }\n",
              "\n",
              "    .dataframe tbody tr th {\n",
              "        vertical-align: top;\n",
              "    }\n",
              "\n",
              "    .dataframe thead th {\n",
              "        text-align: right;\n",
              "    }\n",
              "</style>\n",
              "<table border=\"1\" class=\"dataframe\">\n",
              "  <thead>\n",
              "    <tr style=\"text-align: right;\">\n",
              "      <th></th>\n",
              "      <th>distributor</th>\n",
              "      <th>box_off_num</th>\n",
              "    </tr>\n",
              "  </thead>\n",
              "  <tbody>\n",
              "    <tr>\n",
              "      <th>CJ 엔터테인먼트</th>\n",
              "      <td>54</td>\n",
              "      <td>116788093</td>\n",
              "    </tr>\n",
              "    <tr>\n",
              "      <th>롯데엔터테인먼트</th>\n",
              "      <td>52</td>\n",
              "      <td>64383745</td>\n",
              "    </tr>\n",
              "    <tr>\n",
              "      <th>(주)NEW</th>\n",
              "      <td>30</td>\n",
              "      <td>65532145</td>\n",
              "    </tr>\n",
              "    <tr>\n",
              "      <th>(주)마운틴픽쳐스</th>\n",
              "      <td>29</td>\n",
              "      <td>937924</td>\n",
              "    </tr>\n",
              "    <tr>\n",
              "      <th>(주)쇼박스</th>\n",
              "      <td>26</td>\n",
              "      <td>88053064</td>\n",
              "    </tr>\n",
              "    <tr>\n",
              "      <th>...</th>\n",
              "      <td>...</td>\n",
              "      <td>...</td>\n",
              "    </tr>\n",
              "    <tr>\n",
              "      <th>OAL(올)</th>\n",
              "      <td>1</td>\n",
              "      <td>497994</td>\n",
              "    </tr>\n",
              "    <tr>\n",
              "      <th>(주)에이원 엔터테인먼트</th>\n",
              "      <td>1</td>\n",
              "      <td>53235</td>\n",
              "    </tr>\n",
              "    <tr>\n",
              "      <th>(주)콘텐츠 윙</th>\n",
              "      <td>1</td>\n",
              "      <td>1079</td>\n",
              "    </tr>\n",
              "    <tr>\n",
              "      <th>위더스필름</th>\n",
              "      <td>1</td>\n",
              "      <td>90</td>\n",
              "    </tr>\n",
              "    <tr>\n",
              "      <th>퍼스트런</th>\n",
              "      <td>1</td>\n",
              "      <td>1132</td>\n",
              "    </tr>\n",
              "  </tbody>\n",
              "</table>\n",
              "<p>169 rows × 2 columns</p>\n",
              "</div>\n",
              "      <button class=\"colab-df-convert\" onclick=\"convertToInteractive('df-ca12fd11-a6dd-4e98-a6f6-83dad61ea425')\"\n",
              "              title=\"Convert this dataframe to an interactive table.\"\n",
              "              style=\"display:none;\">\n",
              "        \n",
              "  <svg xmlns=\"http://www.w3.org/2000/svg\" height=\"24px\"viewBox=\"0 0 24 24\"\n",
              "       width=\"24px\">\n",
              "    <path d=\"M0 0h24v24H0V0z\" fill=\"none\"/>\n",
              "    <path d=\"M18.56 5.44l.94 2.06.94-2.06 2.06-.94-2.06-.94-.94-2.06-.94 2.06-2.06.94zm-11 1L8.5 8.5l.94-2.06 2.06-.94-2.06-.94L8.5 2.5l-.94 2.06-2.06.94zm10 10l.94 2.06.94-2.06 2.06-.94-2.06-.94-.94-2.06-.94 2.06-2.06.94z\"/><path d=\"M17.41 7.96l-1.37-1.37c-.4-.4-.92-.59-1.43-.59-.52 0-1.04.2-1.43.59L10.3 9.45l-7.72 7.72c-.78.78-.78 2.05 0 2.83L4 21.41c.39.39.9.59 1.41.59.51 0 1.02-.2 1.41-.59l7.78-7.78 2.81-2.81c.8-.78.8-2.07 0-2.86zM5.41 20L4 18.59l7.72-7.72 1.47 1.35L5.41 20z\"/>\n",
              "  </svg>\n",
              "      </button>\n",
              "      \n",
              "  <style>\n",
              "    .colab-df-container {\n",
              "      display:flex;\n",
              "      flex-wrap:wrap;\n",
              "      gap: 12px;\n",
              "    }\n",
              "\n",
              "    .colab-df-convert {\n",
              "      background-color: #E8F0FE;\n",
              "      border: none;\n",
              "      border-radius: 50%;\n",
              "      cursor: pointer;\n",
              "      display: none;\n",
              "      fill: #1967D2;\n",
              "      height: 32px;\n",
              "      padding: 0 0 0 0;\n",
              "      width: 32px;\n",
              "    }\n",
              "\n",
              "    .colab-df-convert:hover {\n",
              "      background-color: #E2EBFA;\n",
              "      box-shadow: 0px 1px 2px rgba(60, 64, 67, 0.3), 0px 1px 3px 1px rgba(60, 64, 67, 0.15);\n",
              "      fill: #174EA6;\n",
              "    }\n",
              "\n",
              "    [theme=dark] .colab-df-convert {\n",
              "      background-color: #3B4455;\n",
              "      fill: #D2E3FC;\n",
              "    }\n",
              "\n",
              "    [theme=dark] .colab-df-convert:hover {\n",
              "      background-color: #434B5C;\n",
              "      box-shadow: 0px 1px 3px 1px rgba(0, 0, 0, 0.15);\n",
              "      filter: drop-shadow(0px 1px 2px rgba(0, 0, 0, 0.3));\n",
              "      fill: #FFFFFF;\n",
              "    }\n",
              "  </style>\n",
              "\n",
              "      <script>\n",
              "        const buttonEl =\n",
              "          document.querySelector('#df-ca12fd11-a6dd-4e98-a6f6-83dad61ea425 button.colab-df-convert');\n",
              "        buttonEl.style.display =\n",
              "          google.colab.kernel.accessAllowed ? 'block' : 'none';\n",
              "\n",
              "        async function convertToInteractive(key) {\n",
              "          const element = document.querySelector('#df-ca12fd11-a6dd-4e98-a6f6-83dad61ea425');\n",
              "          const dataTable =\n",
              "            await google.colab.kernel.invokeFunction('convertToInteractive',\n",
              "                                                     [key], {});\n",
              "          if (!dataTable) return;\n",
              "\n",
              "          const docLinkHtml = 'Like what you see? Visit the ' +\n",
              "            '<a target=\"_blank\" href=https://colab.research.google.com/notebooks/data_table.ipynb>data table notebook</a>'\n",
              "            + ' to learn more about interactive tables.';\n",
              "          element.innerHTML = '';\n",
              "          dataTable['output_type'] = 'display_data';\n",
              "          await google.colab.output.renderOutput(dataTable, element);\n",
              "          const docLink = document.createElement('div');\n",
              "          docLink.innerHTML = docLinkHtml;\n",
              "          element.appendChild(docLink);\n",
              "        }\n",
              "      </script>\n",
              "    </div>\n",
              "  </div>\n",
              "  "
            ]
          },
          "metadata": {},
          "execution_count": 63
        }
      ]
    },
    {
      "cell_type": "code",
      "source": [
        "ax = plt.subplots()\n",
        "ax = sns.regplot(dist_box['distributor'],dist_box['box_off_num'],logx=True)\n",
        "ax.set_title('배급사 점유율과 관객 수 간의 산점도')\n",
        "ax.set_xlabel('상영한 영화 수')\n",
        "ax.set_ylabel('관객수')"
      ],
      "metadata": {
        "colab": {
          "base_uri": "https://localhost:8080/",
          "height": 637
        },
        "id": "gobyUCbxrj2C",
        "outputId": "8584582f-e96a-40ce-cd27-366065e82a3d"
      },
      "execution_count": null,
      "outputs": [
        {
          "output_type": "execute_result",
          "data": {
            "text/plain": [
              "Text(0, 0.5, '관객수')"
            ]
          },
          "metadata": {},
          "execution_count": 64
        },
        {
          "output_type": "display_data",
          "data": {
            "text/plain": [
              "<Figure size 720x720 with 1 Axes>"
            ],
            "image/png": "[encoded data removed]"
          },
          "metadata": {
            "needs_background": "light"
          }
        }
      ]
    },
    {
      "cell_type": "code",
      "source": [
        "dist_box[['distributor', 'box_off_num']].corr()"
      ],
      "metadata": {
        "colab": {
          "base_uri": "https://localhost:8080/",
          "height": 112
        },
        "id": "hqDMvzlQrl9V",
        "outputId": "ca229b7f-136a-40fa-db06-20e0427553e6"
      },
      "execution_count": null,
      "outputs": [
        {
          "output_type": "execute_result",
          "data": {
            "text/plain": [
              "             distributor  box_off_num\n",
              "distributor     1.000000     0.808073\n",
              "box_off_num     0.808073     1.000000"
            ],
            "text/html": [
              "\n",
              "  <div id=\"df-9c201632-4c85-49b6-bace-aeb6e630a4c3\">\n",
              "    <div class=\"colab-df-container\">\n",
              "      <div>\n",
              "<style scoped>\n",
              "    .dataframe tbody tr th:only-of-type {\n",
              "        vertical-align: middle;\n",
              "    }\n",
              "\n",
              "    .dataframe tbody tr th {\n",
              "        vertical-align: top;\n",
              "    }\n",
              "\n",
              "    .dataframe thead th {\n",
              "        text-align: right;\n",
              "    }\n",
              "</style>\n",
              "<table border=\"1\" class=\"dataframe\">\n",
              "  <thead>\n",
              "    <tr style=\"text-align: right;\">\n",
              "      <th></th>\n",
              "      <th>distributor</th>\n",
              "      <th>box_off_num</th>\n",
              "    </tr>\n",
              "  </thead>\n",
              "  <tbody>\n",
              "    <tr>\n",
              "      <th>distributor</th>\n",
              "      <td>1.000000</td>\n",
              "      <td>0.808073</td>\n",
              "    </tr>\n",
              "    <tr>\n",
              "      <th>box_off_num</th>\n",
              "      <td>0.808073</td>\n",
              "      <td>1.000000</td>\n",
              "    </tr>\n",
              "  </tbody>\n",
              "</table>\n",
              "</div>\n",
              "      <button class=\"colab-df-convert\" onclick=\"convertToInteractive('df-9c201632-4c85-49b6-bace-aeb6e630a4c3')\"\n",
              "              title=\"Convert this dataframe to an interactive table.\"\n",
              "              style=\"display:none;\">\n",
              "        \n",
              "  <svg xmlns=\"http://www.w3.org/2000/svg\" height=\"24px\"viewBox=\"0 0 24 24\"\n",
              "       width=\"24px\">\n",
              "    <path d=\"M0 0h24v24H0V0z\" fill=\"none\"/>\n",
              "    <path d=\"M18.56 5.44l.94 2.06.94-2.06 2.06-.94-2.06-.94-.94-2.06-.94 2.06-2.06.94zm-11 1L8.5 8.5l.94-2.06 2.06-.94-2.06-.94L8.5 2.5l-.94 2.06-2.06.94zm10 10l.94 2.06.94-2.06 2.06-.94-2.06-.94-.94-2.06-.94 2.06-2.06.94z\"/><path d=\"M17.41 7.96l-1.37-1.37c-.4-.4-.92-.59-1.43-.59-.52 0-1.04.2-1.43.59L10.3 9.45l-7.72 7.72c-.78.78-.78 2.05 0 2.83L4 21.41c.39.39.9.59 1.41.59.51 0 1.02-.2 1.41-.59l7.78-7.78 2.81-2.81c.8-.78.8-2.07 0-2.86zM5.41 20L4 18.59l7.72-7.72 1.47 1.35L5.41 20z\"/>\n",
              "  </svg>\n",
              "      </button>\n",
              "      \n",
              "  <style>\n",
              "    .colab-df-container {\n",
              "      display:flex;\n",
              "      flex-wrap:wrap;\n",
              "      gap: 12px;\n",
              "    }\n",
              "\n",
              "    .colab-df-convert {\n",
              "      background-color: #E8F0FE;\n",
              "      border: none;\n",
              "      border-radius: 50%;\n",
              "      cursor: pointer;\n",
              "      display: none;\n",
              "      fill: #1967D2;\n",
              "      height: 32px;\n",
              "      padding: 0 0 0 0;\n",
              "      width: 32px;\n",
              "    }\n",
              "\n",
              "    .colab-df-convert:hover {\n",
              "      background-color: #E2EBFA;\n",
              "      box-shadow: 0px 1px 2px rgba(60, 64, 67, 0.3), 0px 1px 3px 1px rgba(60, 64, 67, 0.15);\n",
              "      fill: #174EA6;\n",
              "    }\n",
              "\n",
              "    [theme=dark] .colab-df-convert {\n",
              "      background-color: #3B4455;\n",
              "      fill: #D2E3FC;\n",
              "    }\n",
              "\n",
              "    [theme=dark] .colab-df-convert:hover {\n",
              "      background-color: #434B5C;\n",
              "      box-shadow: 0px 1px 3px 1px rgba(0, 0, 0, 0.15);\n",
              "      filter: drop-shadow(0px 1px 2px rgba(0, 0, 0, 0.3));\n",
              "      fill: #FFFFFF;\n",
              "    }\n",
              "  </style>\n",
              "\n",
              "      <script>\n",
              "        const buttonEl =\n",
              "          document.querySelector('#df-9c201632-4c85-49b6-bace-aeb6e630a4c3 button.colab-df-convert');\n",
              "        buttonEl.style.display =\n",
              "          google.colab.kernel.accessAllowed ? 'block' : 'none';\n",
              "\n",
              "        async function convertToInteractive(key) {\n",
              "          const element = document.querySelector('#df-9c201632-4c85-49b6-bace-aeb6e630a4c3');\n",
              "          const dataTable =\n",
              "            await google.colab.kernel.invokeFunction('convertToInteractive',\n",
              "                                                     [key], {});\n",
              "          if (!dataTable) return;\n",
              "\n",
              "          const docLinkHtml = 'Like what you see? Visit the ' +\n",
              "            '<a target=\"_blank\" href=https://colab.research.google.com/notebooks/data_table.ipynb>data table notebook</a>'\n",
              "            + ' to learn more about interactive tables.';\n",
              "          element.innerHTML = '';\n",
              "          dataTable['output_type'] = 'display_data';\n",
              "          await google.colab.output.renderOutput(dataTable, element);\n",
              "          const docLink = document.createElement('div');\n",
              "          docLink.innerHTML = docLinkHtml;\n",
              "          element.appendChild(docLink);\n",
              "        }\n",
              "      </script>\n",
              "    </div>\n",
              "  </div>\n",
              "  "
            ]
          },
          "metadata": {},
          "execution_count": 65
        }
      ]
    },
    {
      "cell_type": "markdown",
      "source": [
        "##### | 분석 결과\n",
        "___\n",
        "*   배급사 점유율과 배급사별 전체 관객 수의 산점도를 보면, 전체적으로 우상향임을 확인할 수 있다.\n",
        "*   전체적으로 자료가 좌측 하단에 모여있는 경향성을 보이지만, 상관계수가 0.808로 작지 않아 배급사 점유율과 배급사별 관객 수에는 유의미한 관계가 있다고 볼 수 있다."
      ],
      "metadata": {
        "id": "Q5MuB5hmrn7W"
      }
    }
  ]
}