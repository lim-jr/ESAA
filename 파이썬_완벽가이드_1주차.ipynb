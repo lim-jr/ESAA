{
 "cells": [
  {
   "cell_type": "markdown",
   "id": "bee3fb88",
   "metadata": {},
   "source": [
    "## 01. 머신러닝의 개념"
   ]
  },
  {
   "cell_type": "markdown",
   "id": "dce9213b",
   "metadata": {},
   "source": [
    "* 애플리케이션을 수정하지 않고도 데이터를 기반으로 패턴을 학습하고 결과를 예측하는 알고리즘 기법\n",
    "* 데이터를 기반으로 통계적인 신뢰도를 강화하고, 예측 오류를 최소화하기 위해 다양한 수학적 기법 적용해  \n",
    "  (1)데이터 내의 패턴을 스스로 인지하고 (2)신뢰도 있는 예측 결과를 도출해냅니다.     "
   ]
  },
  {
   "cell_type": "markdown",
   "id": "cbf309d2",
   "metadata": {},
   "source": [
    "### (1) 머신러닝의 분류"
   ]
  },
  {
   "cell_type": "markdown",
   "id": "92658251",
   "metadata": {},
   "source": [
    "* 지도학습 (Supervised Learning)  \n",
    "    분류  \n",
    "    회귀  \n",
    "    추천시스템  \n",
    "    시각/ 음성감지/ 인지  \n",
    "    텍스트 분석/ NLP"
   ]
  },
  {
   "cell_type": "markdown",
   "id": "7bb87319",
   "metadata": {},
   "source": [
    "* 비지도학습 (Un-supervised Learning)  \n",
    "    클러스터링  \n",
    "    차원 축소  \n",
    "    강화학습"
   ]
  },
  {
   "cell_type": "markdown",
   "id": "ac95b7e2",
   "metadata": {},
   "source": [
    "### (2) 데이터 전쟁"
   ]
  },
  {
   "cell_type": "markdown",
   "id": "3a39d2f0",
   "metadata": {},
   "source": [
    "* 머신러닝은 '데이터'에 매우 의존적\n",
    "* 데이터의 품질 -> 머신러닝 수행결과\n",
    "* 머신러닝 알고리즘과 모델 파라미터를 구축하는 능력보다  \n",
    "  데이터를 이해하고 효율적으로 가공, 처리, 추출해 최적의 데이터를 기반으로 알고리즘을 구동할 수 있도록 준비하는 능력이 더 중요해진다. "
   ]
  },
  {
   "cell_type": "markdown",
   "id": "984f8e85",
   "metadata": {},
   "source": [
    "### (3) 파이썬과 R기반의 머신러닝 비교"
   ]
  },
  {
   "cell_type": "markdown",
   "id": "84d36ac5",
   "metadata": {},
   "source": [
    "* R은 통계 전용 프로그램 언어\n",
    "* 파이썬은 다양한 영역에서 사용되는 개발 전문 프로그램 언어 \n",
    "* 딥러닝 프레임워크인 텐서플로, 케라스, 파이토치에서 R보다 파이썬을 우선으로 지원"
   ]
  },
  {
   "cell_type": "markdown",
   "id": "ac8c7c32",
   "metadata": {},
   "source": [
    "## 02. 파이썬 머신러닝 생태계를 구성하는 주요 패키지"
   ]
  },
  {
   "cell_type": "markdown",
   "id": "af08c052",
   "metadata": {},
   "source": [
    "* 머신러닝 패키지  \n",
    "    사이킷런() : 가장 대표적  \n",
    "    텐서플로(), 케라스() : 전문 딥러닝\n",
    "* 행렬/선형대수/통계 패키지  \n",
    "    넘파이() : 가장 대표적  \n",
    "    사이파이() : 자연과학과 통계를 위한 패키지\n",
    "* 데이터 핸들링  \n",
    "    판다스() : 가장 대표적  \n",
    "    \n",
    "    \n",
    "    "
   ]
  },
  {
   "cell_type": "markdown",
   "id": "d5b6a337",
   "metadata": {},
   "source": [
    "## 03. 넘파이"
   ]
  },
  {
   "cell_type": "markdown",
   "id": "42c06b07",
   "metadata": {},
   "source": [
    "* 개념: 파이썬에서 선형대수 기반의 프로그램을 쉽게 만들 수 있도록 지원하는 대표적인 패키지  \n",
    "* 장점  \n",
    "    1)루프를 사용하지 않고 대량 데이터의 배열 연산을 가능하게 함.  \n",
    "    2)저수준 언어 (C/C++) 기반의 호환 API를 제공함.  \n",
    "    3)다양한 데이터 핸들링 기능을 제공함.  \n",
    "* 단점  \n",
    "    1)파이썬 언어 자체가 가지는 수행 성능의 제약이 있음.  \n",
    "    2)편의성과 다양한 API지원 측면에서 한계가 있음."
   ]
  },
  {
   "cell_type": "markdown",
   "id": "51f21789",
   "metadata": {},
   "source": [
    "### (1) 넘파이 ndarray 개요"
   ]
  },
  {
   "cell_type": "code",
   "execution_count": 2,
   "id": "97ad654b",
   "metadata": {},
   "outputs": [],
   "source": [
    "import numpy as np"
   ]
  },
  {
   "cell_type": "markdown",
   "id": "dbb6b253",
   "metadata": {},
   "source": [
    "* ndarray : N-dimentional array의 약자, 넘파이 기반 데이터 타입, 다차원 배열 자료구조를 지원함. \n",
    "* arrary() : 리스트 등의 다양한 인자 -> ndarray 로 변환\n",
    "* .shape변수 : ndarray의 크기를 튜플 형태로 가지며, ndarray 배열의 차원을 알 수 있음"
   ]
  },
  {
   "cell_type": "code",
   "execution_count": 12,
   "id": "c376460b",
   "metadata": {},
   "outputs": [
    {
     "name": "stdout",
     "output_type": "stream",
     "text": [
      "[1 2 3]\n",
      "array1 type: <class 'numpy.ndarray'>\n",
      "array1 array형태: (3,)\n"
     ]
    }
   ],
   "source": [
    "array1 = np.array([1,2,3])\n",
    "print(array1)\n",
    "# 1차원은 벡터로 들어감\n",
    "print('array1 type:', type(array1))\n",
    "# 데이터 타입은 ndarray\n",
    "print('array1 array형태:', array1.shape)\n",
    "# 1차원 array로, 3개의 데이터(3개의 행)를 가짐\n",
    "# (차원, 크기) -> 튜플 형태로 나타냄"
   ]
  },
  {
   "cell_type": "code",
   "execution_count": 10,
   "id": "8702ce3e",
   "metadata": {},
   "outputs": [
    {
     "name": "stdout",
     "output_type": "stream",
     "text": [
      "[[1 2 3]\n",
      " [2 3 4]]\n",
      "array1 type: <class 'numpy.ndarray'>\n",
      "array2 array형태: (2, 3)\n"
     ]
    }
   ],
   "source": [
    "array2 = np.array([[1,2,3], [2,3,4]])\n",
    "print(array2)\n",
    "# 2차원부터 행으로 들어감\n",
    "print('array1 type:', type(array2))\n",
    "# 데이터 타입은 ndarray\n",
    "print('array2 array형태:', array2.shape)\n",
    "# 2차원 array로, 2개의 행과 3개의 열음 가짐"
   ]
  },
  {
   "cell_type": "code",
   "execution_count": 11,
   "id": "7f7ecfa8",
   "metadata": {},
   "outputs": [
    {
     "name": "stdout",
     "output_type": "stream",
     "text": [
      "[[1 2 3]]\n",
      "array3 type: <class 'numpy.ndarray'>\n",
      "array3 array형태: (1, 3)\n"
     ]
    }
   ],
   "source": [
    "array3 = np.array([[1,2,3]])\n",
    "print(array3)\n",
    "# 행 1개로 구성\n",
    "print('array3 type:', type(array3))\n",
    "# 데이터 타입은 ndarray\n",
    "print('array3 array형태:', array3.shape)\n",
    "# 2차원 array로, 1개의 행과 3개의 열을 가짐"
   ]
  },
  {
   "cell_type": "code",
   "execution_count": 14,
   "id": "f78ff4b6",
   "metadata": {},
   "outputs": [
    {
     "name": "stdout",
     "output_type": "stream",
     "text": [
      "array1: 1차원, array2: 2차원, array3:  2차원\n"
     ]
    }
   ],
   "source": [
    "print('array1: {:0}차원, array2: {:1}차원, array3: {:2}차원'.format(array1.ndim, array2.ndim, array3.ndim))"
   ]
  },
  {
   "cell_type": "markdown",
   "id": "265429b5",
   "metadata": {},
   "source": [
    "#### 참고\n",
    "* format 함수\n",
    "    -문자열 중간 중간에 특정 변수의 값을 넣어주기 위해서\n",
    "    -'{인덱스0}, {인덱스1}'.format(값0, 값1)"
   ]
  },
  {
   "cell_type": "markdown",
   "id": "ee2e383c",
   "metadata": {},
   "source": [
    "### (2) ndarray의 데이터 타입"
   ]
  },
  {
   "cell_type": "code",
   "execution_count": 4,
   "id": "374cf770",
   "metadata": {},
   "outputs": [
    {
     "name": "stdout",
     "output_type": "stream",
     "text": [
      "[1, 2, 3]\n",
      "<class 'list'>\n",
      "[1 2 3]\n",
      "<class 'numpy.ndarray'> int32\n"
     ]
    }
   ],
   "source": [
    "list1 = [1,2,3]\n",
    "print(list1)\n",
    "print(type(list1))\n",
    "\n",
    "array1=np.array(list1) # 리스트를 ndarray로 변환\n",
    "print(array1)\n",
    "print(type(array1), array1.dtype)\n",
    "# 데이터 타입은 ndarray고\n",
    "# ndarray 내 데이터 값의 타입은 int"
   ]
  },
  {
   "cell_type": "markdown",
   "id": "67fa92ef",
   "metadata": {},
   "source": [
    "#### 비교\n",
    "* 리스트 : 서로 다른 데이터 타입 가질 수 있음\n",
    "* ndarray : 같은 데이터 타입만 가질 수 있음  \n",
    "    -> 서로 다른 데이터 타입을 가진 리스트를 ndarray로 변환 시, 크기가 더 큰 데이터 타입으로 형 변환을 일괄 적용"
   ]
  },
  {
   "cell_type": "code",
   "execution_count": 6,
   "id": "284990a5",
   "metadata": {},
   "outputs": [
    {
     "name": "stdout",
     "output_type": "stream",
     "text": [
      "['1' '2' 'test']\n",
      "<class 'numpy.ndarray'> <U11\n"
     ]
    }
   ],
   "source": [
    "list2 = [1,2,'test']\n",
    "array2 = np.array(list2)\n",
    "print(array2)\n",
    "# 서로 다른 데이터 타입의 리스트를 ndarray로 변환 시, 크기가 더 큰 문자형으로 일괄변환\n",
    "print(type(array2), array2.dtype)\n",
    "# U11 : 유니코드 문자형 "
   ]
  },
  {
   "cell_type": "code",
   "execution_count": 10,
   "id": "3d2457fe",
   "metadata": {},
   "outputs": [
    {
     "name": "stdout",
     "output_type": "stream",
     "text": [
      "<U1\n"
     ]
    }
   ],
   "source": [
    "a = ['a', 'b', '1', '#']\n",
    "array5 = np.array(a)\n",
    "print(array5.dtype)"
   ]
  },
  {
   "cell_type": "markdown",
   "id": "60f0b856",
   "metadata": {},
   "source": [
    "* .astype() : ndarray 내 데이터 값의 타입 변경\n",
    "* 데이터 크기/용량 순서 : 정수형 int32 < 실수형 float64 < 문자형 U11 U1"
   ]
  },
  {
   "cell_type": "code",
   "execution_count": 13,
   "id": "571b5340",
   "metadata": {},
   "outputs": [
    {
     "name": "stdout",
     "output_type": "stream",
     "text": [
      "[1. 2. 3.] float64\n",
      "[1 2 3] int32\n",
      "[1 2 3] int32\n"
     ]
    }
   ],
   "source": [
    "array_int = np.array([1,2,3])\n",
    "array_float = array_int.astype('float64') # 정수를 실수로 변경\n",
    "print(array_float, array_float.dtype)\n",
    "\n",
    "array_int1 = array_float.astype('int32')\n",
    "print(array_int1, array_int1.dtype) # 다시 실수에서 정수로 변경, 메모리 절약\n",
    "\n",
    "array_float1 = np.array([1.1, 2.1, 3.1])\n",
    "array_int2=array_float1.astype('int32')\n",
    "print(array_int2, array_int2.dtype) # 소수점 실수를 정수로 변경시, 소수점 이하는 없어짐"
   ]
  },
  {
   "cell_type": "markdown",
   "id": "ecf70001",
   "metadata": {},
   "source": [
    "### (3) ndarray를 편리하게 생성하기\n",
    "#### - arrange, zeros, ones"
   ]
  },
  {
   "cell_type": "markdown",
   "id": "520b4258",
   "metadata": {},
   "source": [
    "* arange(a) : 0 ~ a-1 의 값을 순차적으로 1차원 ndarray형태로 변환"
   ]
  },
  {
   "cell_type": "code",
   "execution_count": 21,
   "id": "c343c9f6",
   "metadata": {},
   "outputs": [
    {
     "name": "stdout",
     "output_type": "stream",
     "text": [
      "[0 1 2 3 4 5 6 7 8 9]\n",
      "int32 (10,)\n"
     ]
    }
   ],
   "source": [
    "sequence_array = np.arange(10) \n",
    "print(sequence_array)\n",
    "print(sequence_array.dtype, sequence_array.shape)\n",
    "# 데이터 값은 정수형이고, 데이터 형태는 1차원 10개의 데이터인 ndarray"
   ]
  },
  {
   "cell_type": "markdown",
   "id": "98c6b8ac",
   "metadata": {},
   "source": [
    "* zeros(shape, dtype=' ') : 해당 shape, 해당 데이터타입의 형태로 모든 값이 0으로 채운 ndarray를 반환\n",
    "* ones(shape, dtype=' ') : 해당 shape, 해당 데이터타입의 형태로 모든 값이 1으로 채운 ndarray를 반환"
   ]
  },
  {
   "cell_type": "code",
   "execution_count": 25,
   "id": "77fa5dfd",
   "metadata": {},
   "outputs": [
    {
     "name": "stdout",
     "output_type": "stream",
     "text": [
      "[[0 0]\n",
      " [0 0]\n",
      " [0 0]]\n",
      "(3, 2) int32\n",
      "[[0. 0.]\n",
      " [0. 0.]\n",
      " [0. 0.]]\n",
      "(3, 2) float64\n",
      "[[0. 0.]\n",
      " [0. 0.]\n",
      " [0. 0.]]\n",
      "(3, 2) float64\n"
     ]
    }
   ],
   "source": [
    "zero_array = np.zeros((3,2), dtype='int32')\n",
    "print(zero_array)\n",
    "print(zero_array.shape, zero_array.dtype)\n",
    "\n",
    "zero_array = np.zeros((3,2), dtype='float64')\n",
    "print(zero_array)\n",
    "print(zero_array.shape, zero_array.dtype)\n",
    "\n",
    "zero_array = np.zeros((3,2)) # 기본값 float\n",
    "print(zero_array)\n",
    "print(zero_array.shape, zero_array.dtype)"
   ]
  },
  {
   "cell_type": "code",
   "execution_count": 30,
   "id": "6c59d63f",
   "metadata": {},
   "outputs": [
    {
     "name": "stdout",
     "output_type": "stream",
     "text": [
      "[[1 1]\n",
      " [1 1]\n",
      " [1 1]\n",
      " [1 1]]\n",
      "(4, 2) int64\n",
      "[[1. 1.]\n",
      " [1. 1.]\n",
      " [1. 1.]\n",
      " [1. 1.]]\n",
      "(4, 2) float64\n",
      "[[1. 1.]\n",
      " [1. 1.]\n",
      " [1. 1.]\n",
      " [1. 1.]]\n",
      "(4, 2) float64\n"
     ]
    }
   ],
   "source": [
    "ones_array = np.ones((4,2), dtype='int64')\n",
    "print(ones_array)\n",
    "print(ones_array.shape, ones_array.dtype)\n",
    "\n",
    "ones_array = np.ones((4,2), dtype='float64')\n",
    "print(ones_array)\n",
    "print(ones_array.shape, ones_array.dtype)\n",
    "\n",
    "ones_array = np.ones((4,2)) # 기본값 float\n",
    "print(ones_array)\n",
    "print(ones_array.shape, ones_array.dtype)"
   ]
  },
  {
   "cell_type": "markdown",
   "id": "7e44510d",
   "metadata": {},
   "source": [
    "### (4) ndarray의 차원과 크기를 변경하는 reshape()"
   ]
  },
  {
   "cell_type": "markdown",
   "id": "ea952cf0",
   "metadata": {},
   "source": [
    "* .reshape(shape) : 지정한 차원으로 변환"
   ]
  },
  {
   "cell_type": "code",
   "execution_count": 44,
   "id": "26769bfc",
   "metadata": {},
   "outputs": [
    {
     "name": "stdout",
     "output_type": "stream",
     "text": [
      "array1: \n",
      " [0 1 2 3 4 5 6 7 8 9]\n",
      "(10,)\n",
      "array2: \n",
      " [[0 1 2 3 4]\n",
      " [5 6 7 8 9]]\n",
      "(2, 5)\n",
      "array3: \n",
      " [[0 1]\n",
      " [2 3]\n",
      " [4 5]\n",
      " [6 7]\n",
      " [8 9]]\n",
      "(5, 2)\n"
     ]
    }
   ],
   "source": [
    "array1 = np.arange(10)\n",
    "print(\"array1: \\n\", array1)\n",
    "print(array1.shape)\n",
    "\n",
    "array2 = array1.reshape((2,5)) \n",
    "array2 = array1.reshape(2,5) # 괄호 없이 바로 가능!\n",
    "print(\"array2: \\n\", array2) # 행을 먼저 채움 \n",
    "print(array2.shape)\n",
    "\n",
    "array3 = array2.reshape(5,2)\n",
    "print(\"array3: \\n\", array3) # 행 순으로 접근해서 행을 먼저 채움\n",
    "print(array3.shape)"
   ]
  },
  {
   "cell_type": "code",
   "execution_count": 81,
   "id": "37df0335",
   "metadata": {},
   "outputs": [
    {
     "data": {
      "text/plain": [
       "'\\narray.error1 = np.arange(10).reshape(3,5)\\narray.error2 = np.arange(10).reshape(-1,3)\\n'"
      ]
     },
     "execution_count": 81,
     "metadata": {},
     "output_type": "execute_result"
    }
   ],
   "source": [
    "# 오류 오는 경우\n",
    "'''\n",
    "array.error1 = np.arange(10).reshape(3,5)\n",
    "array.error2 = np.arange(10).reshape(-1,3)\n",
    "'''"
   ]
  },
  {
   "cell_type": "markdown",
   "id": "8bc24d13",
   "metadata": {},
   "source": [
    "* .reshape(x, -1) /.reshape(-1, y) : 고정된 x개의 로우, 고정된 y개의 칼럼에 맞춰서 자동으로 생성해라."
   ]
  },
  {
   "cell_type": "code",
   "execution_count": 41,
   "id": "89521d86",
   "metadata": {},
   "outputs": [
    {
     "name": "stdout",
     "output_type": "stream",
     "text": [
      "[0 1 2 3 4 5 6 7 8 9]\n",
      "[[0 1]\n",
      " [2 3]\n",
      " [4 5]\n",
      " [6 7]\n",
      " [8 9]] (5, 2)\n",
      "[[0 1 2 3 4]\n",
      " [5 6 7 8 9]] (2, 5)\n"
     ]
    }
   ],
   "source": [
    "array1 = np.arange(10)\n",
    "print(array1)\n",
    "\n",
    "array2 = array1.reshape(5, -1) # 자동으로 -1은 2로 생성\n",
    "print(array2, array2.shape)\n",
    "\n",
    "array3 = array1.reshape(-1, 5) # 자동으로 -1은 5로 생성\n",
    "print(array3, array3.shape)"
   ]
  },
  {
   "cell_type": "markdown",
   "id": "649bebc5",
   "metadata": {},
   "source": [
    "* reshape(-1, 1) : 여러개의 로우, 1개의 칼럼, 2차원을 가진 벡터형태 보장 "
   ]
  },
  {
   "cell_type": "markdown",
   "id": "100ac69b",
   "metadata": {},
   "source": [
    "* 참고) tolist() : ndarray를 리스트로 변환"
   ]
  },
  {
   "cell_type": "code",
   "execution_count": 52,
   "id": "457f197e",
   "metadata": {},
   "outputs": [
    {
     "data": {
      "text/plain": [
       "array([[0],\n",
       "       [1],\n",
       "       [2],\n",
       "       [3]])"
      ]
     },
     "execution_count": 52,
     "metadata": {},
     "output_type": "execute_result"
    }
   ],
   "source": [
    "np.arange(4).reshape(-1,1)\n",
    "# \"2차원인\" 벡터형태임을 기억하기!"
   ]
  },
  {
   "cell_type": "code",
   "execution_count": 57,
   "id": "143b4ae3",
   "metadata": {},
   "outputs": [
    {
     "name": "stdout",
     "output_type": "stream",
     "text": [
      "[[[0 1]\n",
      "  [2 3]]\n",
      "\n",
      " [[4 5]\n",
      "  [6 7]]] \n",
      "\n",
      "[[[0, 1], [2, 3]], [[4, 5], [6, 7]]] \n",
      "\n",
      "array5: \n",
      " [[0]\n",
      " [1]\n",
      " [2]\n",
      " [3]\n",
      " [4]\n",
      " [5]\n",
      " [6]\n",
      " [7]]\n",
      "array5.shape: \n",
      " (8, 1) \n",
      "\n",
      "array6: \n",
      " [[0]\n",
      " [1]\n",
      " [2]\n",
      " [3]\n",
      " [4]\n",
      " [5]\n",
      " [6]\n",
      " [7]]\n",
      "array6.shape: \n",
      " (8, 1)\n"
     ]
    }
   ],
   "source": [
    "array1 = np.arange(8)\n",
    "array3d = array1.reshape((2,2,2))\n",
    "print(array3d, \"\\n\")\n",
    "print(array3d.tolist(), \"\\n\")\n",
    "\n",
    "# 3차원 ndarray를 2차원 ndarray로 변환\n",
    "array5 = array3d.reshape(-1,1)\n",
    "print(\"array5: \\n\", array5)\n",
    "print(\"array5.shape: \\n\", array5.shape, \"\\n\")\n",
    "\n",
    "# 1차원 ndarray를 2차원 ndarray로 변환\n",
    "array6 = array1.reshape(-1,1)\n",
    "print(\"array6: \\n\", array6)\n",
    "print(\"array6.shape: \\n\", array6.shape)\n",
    "\n",
    "## reshape(-1, 1)은 \"2차원\"인 벡터"
   ]
  },
  {
   "cell_type": "markdown",
   "id": "4c76c79b",
   "metadata": {},
   "source": [
    "### (5) 넘파이의 ndarray의 데이터 세트 선택하기\n",
    "#### - 인덱싱"
   ]
  },
  {
   "cell_type": "code",
   "execution_count": 33,
   "id": "187db021",
   "metadata": {},
   "outputs": [
    {
     "name": "stdout",
     "output_type": "stream",
     "text": [
      "array1: [1 2 3 4 5 6 7 8 9]\n",
      "value1: 3\n",
      "<class 'numpy.int32'>\n",
      "9 8\n"
     ]
    }
   ],
   "source": [
    "# 1. 1차원의 ndarray에서 한 개의 데이터 추출\n",
    "\n",
    "# 1차원 ndarray 생성 \n",
    "array1 = np.arange(1, 10)\n",
    "print(\"array1:\",array1)\n",
    "\n",
    "# 리스트 인덱싱과 같음\n",
    "value1 = array1[2] #0부터 시작\n",
    "print(\"value1:\", value1)\n",
    "print(type(value))\n",
    "## 추출된 단일 데이터의 타입은 int32\n",
    "\n",
    "value2 = array1[-1] # 맨뒤에서 첫번째\n",
    "value3 = array1[-2] # 맨뒤에서 두번째\n",
    "print(value2, value3)"
   ]
  },
  {
   "cell_type": "code",
   "execution_count": 10,
   "id": "7e7ef87c",
   "metadata": {},
   "outputs": [
    {
     "name": "stdout",
     "output_type": "stream",
     "text": [
      "[1 2 3 4 5 6 7 8 9]\n",
      "[9 2 3 4 5 6 7 8 1]\n"
     ]
    }
   ],
   "source": [
    "# 단일 데이터 수정 가능 \n",
    "array11 = np.arange(1,10)\n",
    "print(array11)\n",
    "array11[0] = 9\n",
    "array11[8] = 1\n",
    "print(array11)"
   ]
  },
  {
   "cell_type": "code",
   "execution_count": 67,
   "id": "e7778cfb",
   "metadata": {},
   "outputs": [
    {
     "name": "stdout",
     "output_type": "stream",
     "text": [
      "array2d: \n",
      " [[1 2 3]\n",
      " [4 5 6]\n",
      " [7 8 9]]\n",
      "한개의 데이터 추출:\n",
      "1\n",
      "2\n",
      "3\n",
      "9\n"
     ]
    }
   ],
   "source": [
    "# 2. 다차원의 ndarray에서 한개의 데이터 추출\n",
    "\n",
    "# 2차원 ndarray 생성\n",
    "array1d = np.arange(1, 10)\n",
    "array2d = array1d.reshape(3,3)\n",
    "print(\"array2d: \\n\", array2d)\n",
    "\n",
    "# (row, col) 형태의 인덱스로 접근\n",
    "print(\"한개의 데이터 추출:\")\n",
    "print(array2d[0,0])\n",
    "print(array2d[0,1])\n",
    "print(array2d[0,2])\n",
    "print(array2d[2,2])"
   ]
  },
  {
   "cell_type": "code",
   "execution_count": 38,
   "id": "ba46868b",
   "metadata": {},
   "outputs": [
    {
     "name": "stdout",
     "output_type": "stream",
     "text": [
      "[1 2] <class 'numpy.ndarray'>\n",
      "slicing2d_1: \n",
      " [[1 2 3]\n",
      " [4 5 6]] <class 'numpy.ndarray'>\n",
      "slicing2d_2: \n",
      " [4 5 6] <class 'numpy.ndarray'>\n",
      "slicing2d_3: \n",
      " 6 <class 'numpy.int32'>\n",
      "array2d[0:2, 0:2]: \n",
      " [[1 2]\n",
      " [4 5]]\n"
     ]
    }
   ],
   "source": [
    "# 3. 슬라이싱 이용해서 연속한 데이터 추출\n",
    "\n",
    "# 1차원 ndarray\n",
    "array1d = np.arange(1,10)\n",
    "slicing1d = array1[0:2]\n",
    "print(slicing1d, type(slicing))\n",
    "## 추출된 연속데이터의 타입은 ndarray\n",
    "## 추출된 단일 데이터의 타입은 int32\n",
    "\n",
    "# 슬라이싱에서 시작, 종료 인덱스는 생략 가능\n",
    "array1 = np.arange(1, 10)\n",
    "print(array1)\n",
    "print(array1[:3])\n",
    "print(array1[3:])\n",
    "print(array1[:])"
   ]
  },
  {
   "cell_type": "code",
   "execution_count": 54,
   "id": "603768d6",
   "metadata": {},
   "outputs": [
    {
     "name": "stdout",
     "output_type": "stream",
     "text": [
      "[[1 2 3]\n",
      " [4 5 6]\n",
      " [7 8 9]]\n",
      "array2d[0:2, 0:2]: \n",
      " [[1 2]\n",
      " [4 5]]\n",
      "array2d[1:3, 0:3]: \n",
      " [[4 5 6]\n",
      " [7 8 9]]\n",
      "array2d[1:3, :]: \n",
      " [[4 5 6]\n",
      " [7 8 9]]\n",
      "array2d[:,:]: \n",
      " [[1 2 3]\n",
      " [4 5 6]\n",
      " [7 8 9]]\n",
      "array2d[:2, 1:]: \n",
      " [[2 3]\n",
      " [5 6]]\n",
      "array2d[:2, 0]: \n",
      " [1 4]\n",
      "array2d[:2, 2]: \n",
      " [3 6]\n"
     ]
    }
   ],
   "source": [
    "# 2차원 ndarray\n",
    "# (1) (row, col) 형태의 인덱스로 접근\n",
    "print(array2d)\n",
    "print('array2d[0:2, 0:2]: \\n', array2d[0:2, 0:2]) # 0,1로우, 0,1칼럼\n",
    "print('array2d[1:3, 0:3]: \\n', array2d[1:3, 0:3]) # 1,2로우, 0,1,2칼럼\n",
    "print('array2d[1:3, :]: \\n', array2d[1:3, :]) # 1,2로우, 전체 칼럼\n",
    "print('array2d[:,:]: \\n', array2d[:,:]) # 전체 ndarray\n",
    "print('array2d[:2, 1:]: \\n', array2d[:2, 1:]) # 0,1로우, 1,2칼럼\n",
    "print('array2d[:2, 0]: \\n', array2d[:2, 0]) # 0,1로우, 0칼럼\n",
    "print('array2d[:2, 2]: \\n', array2d[:2, 2]) # 0,1로우, 2칼럼\n",
    "                                           ## 한쪽에만 슬라이싱 적용하고, 다른쪽에는 단일 인덱스만 적용 가능  "
   ]
  },
  {
   "cell_type": "code",
   "execution_count": 65,
   "id": "06258bff",
   "metadata": {},
   "outputs": [
    {
     "name": "stdout",
     "output_type": "stream",
     "text": [
      "[[1 2 3]\n",
      " [4 5 6]\n",
      " [7 8 9]]\n",
      "\n",
      "\n",
      "[1 2 3] (3,) <class 'numpy.ndarray'>\n",
      "\n",
      "\n",
      "[4 5 6] (3,) <class 'numpy.ndarray'>\n"
     ]
    }
   ],
   "source": [
    "# 2차원 ndarray\n",
    "# (2) 콤마 없이 단일 인덱스만 적용하면 1차원 ndarray 반환\n",
    "## row순으로 접근함\n",
    "array2d = np.arange(1,10).reshape(3,3)\n",
    "\n",
    "a1= array2d[0]\n",
    "a2 = array2d[1]\n",
    "\n",
    "print(array2d)\n",
    "print('\\n')\n",
    "print(a1, a1.shape, type(a1)) # 0로우를 1차원 ndarray로 반환\n",
    "print('\\n')\n",
    "print(a2, a2.shape, type(a2)) # 1로우를 1차원 ndarray로 반환"
   ]
  },
  {
   "cell_type": "code",
   "execution_count": 62,
   "id": "794bdca4",
   "metadata": {},
   "outputs": [
    {
     "name": "stdout",
     "output_type": "stream",
     "text": [
      "[[1 2 3]\n",
      " [4 5 6]] (2, 3) <class 'numpy.ndarray'>\n",
      "\n",
      "\n",
      "[4 5 6] (3,) <class 'numpy.ndarray'>\n",
      "\n",
      "\n",
      "6 () <class 'numpy.int32'>\n"
     ]
    }
   ],
   "source": [
    "# 2차원 ndarray\n",
    "# (3) 순차적으로 접근하기\n",
    "array2d = np.arange(1,10).reshape(3,3)\n",
    "\n",
    "b1 = array2d[0:2]\n",
    "b2 = array2d[0:2][1]\n",
    "b3 = array2d[0:2][1][2]\n",
    "\n",
    "print(b1, b1.shape, type(b1)) # 2차원 ndarray의 2row, 3col\n",
    "print('\\n')\n",
    "print(b2, b2.shape, type(b2)) # 1차원 ndarray의 3row (vector형태로 기억..)\n",
    "print('\\n')\n",
    "print(b3, b3.shape, type(b3)) # 단일 데이터 값으로서, 정수 반환"
   ]
  },
  {
   "cell_type": "code",
   "execution_count": 75,
   "id": "af76edb0",
   "metadata": {},
   "outputs": [
    {
     "name": "stdout",
     "output_type": "stream",
     "text": [
      "[[1 2 3]\n",
      " [4 5 6]\n",
      " [7 8 9]]\n",
      "\n",
      "\n",
      "[3 6]\n",
      "\n",
      "\n",
      "[[1 2]\n",
      " [4 5]]\n",
      "\n",
      "\n",
      "[[1 2 3]\n",
      " [4 5 6]]\n"
     ]
    }
   ],
   "source": [
    "# 4. 팬시 인덱싱\n",
    "array2d = np.arange(1,10).reshape(3,3)\n",
    "print(array2d)\n",
    "print('\\n')\n",
    "#             row ,col\n",
    "print(array2d[[0,1],2])\n",
    "#    분배하면 (0,2) (1,2) => [3, 6]\n",
    "print('\\n')\n",
    "\n",
    "#              row , col\n",
    "print(array2d[[0,1], 0:2])\n",
    "# 1차로 분배하면 (0, 0:2), (1, 0:2)\n",
    "# 2차로 분배하면 (0,0),(0,1) => [1,2]\n",
    "#               (1,0),(1,1) => [4,5]\n",
    "print('\\n')\n",
    "\n",
    "#              row    (col 없음)\n",
    "print(array2d[[0,1]])"
   ]
  },
  {
   "cell_type": "code",
   "execution_count": 80,
   "id": "3d20e2b6",
   "metadata": {},
   "outputs": [
    {
     "name": "stdout",
     "output_type": "stream",
     "text": [
      "[1 2 3 4 5 6 7 8 9]\n",
      "[False False False False False  True  True  True  True]\n",
      "[6 7 8 9]\n",
      "[6 7 8 9]\n"
     ]
    }
   ],
   "source": [
    "# 5. 불린 인덱싱\n",
    "# 조건 필터링, 검색\n",
    "array1d = np.arange(1,10)\n",
    "print(array1d)\n",
    "\n",
    "bool1 = array1d>5\n",
    "print(bool1)\n",
    "\n",
    "bool2 = array1d[array1d>5]\n",
    "print(bool2)\n",
    "## []안의 조건에서 False값은 무시하고, True값에 해당하는 인덱스값으로만 조회 \n",
    "\n",
    "bool1_indexes = np.array(bool1)\n",
    "bool2_indexes_return = array1d[bool1_indexes] \n",
    "print(bool2_indexes_return)"
   ]
  },
  {
   "cell_type": "markdown",
   "id": "c05f4a13",
   "metadata": {},
   "source": [
    "### (6) 행렬의 정렬 \n",
    "#### - sort()와 argsort()"
   ]
  },
  {
   "cell_type": "markdown",
   "id": "0bba6e82",
   "metadata": {},
   "source": [
    "#### 행렬의 정렬\n",
    "* np.sort() : 넘파이에서 sort() 호출/ 원행렬은 그대로 유지한 채, 원 행렬의 정렬된 행렬을 반환  \n",
    "* ndarray.sort() : 행렬 자체에서 sort() 호출/ 원행렬 자체를 정렬한 형태로 변환하고, 원행렬 반환값은 None"
   ]
  },
  {
   "cell_type": "code",
   "execution_count": 83,
   "id": "bede0d28",
   "metadata": {},
   "outputs": [
    {
     "name": "stdout",
     "output_type": "stream",
     "text": [
      "[3 1 9 5] [1 3 5 9]\n",
      "[1 3 5 9] None\n"
     ]
    }
   ],
   "source": [
    "org_array = np.array([3,1,9,5])\n",
    "\n",
    "sort_array1 = np.sort(org_array)\n",
    "print(org_array, sort_array1)\n",
    "# 원행렬 그대로, 원행렬의 정렬된 행렬로 반환\n",
    "\n",
    "sort_array2 = org_array.sort()\n",
    "print(org_array, sort_array2)\n",
    "# 원행렬 None, 원행렬을 정렬된 행렬로 변환함"
   ]
  },
  {
   "cell_type": "code",
   "execution_count": 4,
   "id": "22431613",
   "metadata": {},
   "outputs": [
    {
     "name": "stdout",
     "output_type": "stream",
     "text": [
      "[3 1 9 5] [9 5 3 1]\n"
     ]
    }
   ],
   "source": [
    "# 내림차순 [::-1]적용\n",
    "org_array = np.array([3,1,9,5])\n",
    "\n",
    "sort_array_desc = np.sort(org_array)[::-1]\n",
    "print(org_array, sort_array_desc)"
   ]
  },
  {
   "cell_type": "code",
   "execution_count": 10,
   "id": "9a7dee83",
   "metadata": {},
   "outputs": [
    {
     "name": "stdout",
     "output_type": "stream",
     "text": [
      "로우 방향으로 정렬: \n",
      " [[ 7  1]\n",
      " [ 8 12]]\n",
      "칼럼 방향으로 정렬: \n",
      " [[ 8 12]\n",
      " [ 1  7]]\n"
     ]
    }
   ],
   "source": [
    "# 행렬이 2차원 이상일 경우, axis 축값 설정\n",
    "\n",
    "array2d = np.array([[8,12], [7,1]])\n",
    "\n",
    "sort_array2d_axis0 = np.sort(array2d, axis=0)\n",
    "print(\"로우 방향으로 정렬: \\n\", sort_array2d_axis0)\n",
    "'''\n",
    "axis=0 로우방향 [8 |12] ->[7 | 1]\n",
    "\"아래로\"        [7 | 1] ->[8 |12]\n",
    "'''\n",
    "sort_array2d_axis1 = np.sort(array2d, axis=1)\n",
    "print(\"칼럼 방향으로 정렬: \\n\", sort_array2d_axis1)\n",
    "'''\n",
    "axis=1 칼럼방향 [8 12] -> [8 12]\n",
    "                ------    ------\n",
    "\"옆으로\"        [7  1] -> [1  7]\n",
    "'''"
   ]
  },
  {
   "cell_type": "markdown",
   "id": "2b42e717",
   "metadata": {},
   "source": [
    "#### 정렬된 행렬의 인덱스 반호나하기 \n",
    "* np.argsort() : 정렬행렬의 원본행렬 인덱스를 ndarray형으로 반환"
   ]
  },
  {
   "cell_type": "code",
   "execution_count": 11,
   "id": "37e19057",
   "metadata": {},
   "outputs": [
    {
     "name": "stdout",
     "output_type": "stream",
     "text": [
      "<class 'numpy.ndarray'>\n",
      "행렬 정렬시 원본행렬의 인덱스:  [1 0 2 3]\n"
     ]
    }
   ],
   "source": [
    "org_array = np.array([3,1,5,9])\n",
    "sort_indices = np.argsort(org_array)\n",
    "print(type(sort_indices))\n",
    "print('행렬 정렬시 원본행렬의 인덱스: ', sort_indices)\n",
    "\n",
    "'''\n",
    "원본행렬 [3, 1, 5, 9]\n",
    "인덱스(*)  0  1  2  3\n",
    "\n",
    "정렬행렬 [1, 3, 5, 9]\n",
    "인덱스(*) 1  0  2  3 -> return\n",
    "'''"
   ]
  },
  {
   "cell_type": "code",
   "execution_count": 13,
   "id": "cdae1a61",
   "metadata": {},
   "outputs": [
    {
     "name": "stdout",
     "output_type": "stream",
     "text": [
      "<class 'numpy.ndarray'>\n",
      "행렬 내림차순 정렬시 원본행렬의 인덱스:  [3 2 0 1]\n"
     ]
    }
   ],
   "source": [
    "# 내림차순\n",
    "org_array = np.array([3,1,5,9])\n",
    "sort_indices_desc = np.argsort(org_array)[::-1]\n",
    "print(type(sort_indices_desc))\n",
    "print('행렬 내림차순 정렬시 원본행렬의 인덱스: ', sort_indices_desc)\n",
    "\n",
    "'''\n",
    "원본행렬 [3, 1, 5, 9]\n",
    "인덱스(*) 0  1  2  3\n",
    "\n",
    "정렬행렬 [9, 5, 3, 1]\n",
    "인덱스(*) 3  2  0  1 -> return\n",
    "'''"
   ]
  },
  {
   "cell_type": "code",
   "execution_count": 14,
   "id": "22d5aed8",
   "metadata": {},
   "outputs": [
    {
     "name": "stdout",
     "output_type": "stream",
     "text": [
      "성적 오름차순 정렬시 score_array의 인덱스:  [0 2 4 1 3]\n",
      "성적 오름차순으로 name_array의 이름 출력:  ['John' 'Sarah' 'Samuel' 'Mike' 'Kate']\n"
     ]
    }
   ],
   "source": [
    "# 정렬 시, 원본행렬의 인덱스 활용 예시\n",
    "\n",
    "name_array = np.array(['John', 'Mike', 'Sarah', 'Kate', 'Samuel'])\n",
    "score_array = np.array([78, 95, 84, 98, 88])\n",
    "\n",
    "sort_indices_asc = np.argsort(score_array)\n",
    "print('성적 오름차순 정렬시 score_array의 인덱스: ', sort_indices_asc)\n",
    "print('성적 오름차순으로 name_array의 이름 출력: ', name_array[sort_indices_asc]) # 이름 어레이에 성적 오름차순 인덱스를 적용\n",
    "'''\n",
    "['John', 'Mike', 'Sarah', 'Kate', 'Samuel']\n",
    "\n",
    "원본행렬  [78, 95, 84, 98, 88]\n",
    "인덱스(*)   0   1   2   3   4\n",
    "\n",
    "정렬행렬  [78, 84, 88, 95, 98]\n",
    "인덱스(*)   0   2   4   1   3 -> return\n",
    "\n",
    "이름에 적용하면...\n",
    "\n",
    "1.      0       1       2        3        4\n",
    "    ['John', 'Mike', 'Sarah', 'Kate', 'Samuel']\n",
    "    \n",
    "2.     0      2        4       1      3     <= 위에서나온return 적용\n",
    "    ['John' 'Sarah' 'Samuel' 'Mike' 'Kate']\n",
    "'''"
   ]
  },
  {
   "cell_type": "markdown",
   "id": "fe0b99fa",
   "metadata": {},
   "source": [
    "### (7) 선형대수 연산 - 행렬 내적과 전치 행렬 구하기"
   ]
  },
  {
   "cell_type": "markdown",
   "id": "e8863703",
   "metadata": {},
   "source": [
    "* np.dot(A,B) : 두행렬의 내적 계산"
   ]
  },
  {
   "cell_type": "code",
   "execution_count": 16,
   "id": "15e0f9d2",
   "metadata": {},
   "outputs": [
    {
     "name": "stdout",
     "output_type": "stream",
     "text": [
      "행렬 내적 결과: \n",
      " [[ 58  64]\n",
      " [139 154]]\n"
     ]
    }
   ],
   "source": [
    "A = np.array([[1,2,3],\n",
    "             [4,5,6]])\n",
    "B = np.array([[7,8],\n",
    "             [9,10],\n",
    "             [11,12]])\n",
    "\n",
    "dot_product = np.dot(A,B)\n",
    "print('행렬 내적 결과: \\n', dot_product)"
   ]
  },
  {
   "cell_type": "markdown",
   "id": "0a3f29e8",
   "metadata": {},
   "source": [
    "* np.transpose(A) : 전치행렬"
   ]
  },
  {
   "cell_type": "code",
   "execution_count": 17,
   "id": "ca27c931",
   "metadata": {},
   "outputs": [
    {
     "name": "stdout",
     "output_type": "stream",
     "text": [
      "A의 전치행렬: \n",
      " [[1 3]\n",
      " [2 4]]\n"
     ]
    }
   ],
   "source": [
    "A = np.array([[1,2],\n",
    "              [3,4]])\n",
    "transpose_mat = np.transpose(A)\n",
    "print('A의 전치행렬: \\n', transpose_mat)"
   ]
  }
 ],
 "metadata": {
  "kernelspec": {
   "display_name": "Python 3 (ipykernel)",
   "language": "python",
   "name": "python3"
  },
  "language_info": {
   "codemirror_mode": {
    "name": "ipython",
    "version": 3
   },
   "file_extension": ".py",
   "mimetype": "text/x-python",
   "name": "python",
   "nbconvert_exporter": "python",
   "pygments_lexer": "ipython3",
   "version": "3.9.12"
  }
 },
 "nbformat": 4,
 "nbformat_minor": 5
}
