{
  "nbformat": 4,
  "nbformat_minor": 0,
  "metadata": {
    "colab": {
      "provenance": [],
      "authorship_tag": "ABX9TyOE/pn8lYe0nwYOCBsUmSBy",
      "include_colab_link": true
    },
    "kernelspec": {
      "name": "python3",
      "display_name": "Python 3"
    },
    "language_info": {
      "name": "python"
    }
  },
  "cells": [
    {
      "cell_type": "markdown",
      "metadata": {
        "id": "view-in-github",
        "colab_type": "text"
      },
      "source": [
        "<a href=\"https://colab.research.google.com/github/lim-jr/ESAA/blob/main/1226_%EC%99%84%EB%B2%BD%EA%B0%80(377~408)_%EC%B0%A8%EC%9B%90%EC%B6%95%EC%86%8C.ipynb\" target=\"_parent\"><img src=\"https://colab.research.google.com/assets/colab-badge.svg\" alt=\"Open In Colab\"/></a>"
      ]
    },
    {
      "cell_type": "markdown",
      "source": [
        "# 01 차원축소 \n"
      ],
      "metadata": {
        "id": "y7zPIu52UkxH"
      }
    },
    {
      "cell_type": "markdown",
      "source": [
        "* 수백 개 "
      ],
      "metadata": {
        "id": "OfQ7XrqqUqnP"
      }
    },
    {
      "cell_type": "markdown",
      "source": [
        "# 02 PCA"
      ],
      "metadata": {
        "id": "DWGerWxfTYRz"
      }
    },
    {
      "cell_type": "markdown",
      "source": [
        "## 1. PCA 개요"
      ],
      "metadata": {
        "id": "mcahaukSTYWW"
      }
    },
    {
      "cell_type": "markdown",
      "source": [
        "* PCA는 여러 변수 간에 존재하는 상관관계를 이용해  \n",
        "  이를 대표하는 주성분을 추출해 차원을 축소하는 기법\n",
        "* PCA는 가장 높은 분산을 가지는 데이터의 축을 찾아 이 축으로 차원을 축소하는데, 이것이 PCA의 주성분이 된다.  \n",
        "  (분산이 데이터의 특성을 가장 잘 나타내는 것으로 간주)\n",
        "* PCA의 스텝     \n",
        "  1. 입력 데이터셋의 공분산 행렬을 생성\n",
        "  2. 공분산 행렬의 고유벡터와 고유값을 계산\n",
        "  3. 고유값이 가장 큰 순으로 K개 (PCA 변환 차수)만큼 고유벡터를 추출\n",
        "  4. 고유값이 가장 큰 순으로 추출된 고유벡터를 이용해 새롭게 입력 데이터를 변환한다. "
      ],
      "metadata": {
        "id": "j9UtuTMdTYZx"
      }
    },
    {
      "cell_type": "markdown",
      "source": [
        "### * 붓꽃 데이터를 압축\n",
        "* 붓꽃 데이터셋은 \tsepal_length\tsepal_width\tpetal_length\tpetal_width\t의 4개의 속성으로 되어있음\n",
        "* 이 4개 속성을 2개의 PCA 차원으로 압축해 원래 데이터 세트와 어떻게 달라지는지 보자."
      ],
      "metadata": {
        "id": "dOf6lXAWTYeA"
      }
    },
    {
      "cell_type": "code",
      "source": [
        "from sklearn.datasets import load_iris\n",
        "import pandas as pd\n",
        "import matplotlib.pyplot as plt\n",
        "%matplotlib inline\n",
        "\n",
        "iris=load_iris()\n",
        "#넘파이 데이터 세트를 판다스 DF로 변환\n",
        "columns=['sepal_length', 'sepal_width', 'petal_length', 'petal_width']\n",
        "irisDF=pd.DataFrame(iris.data, columns=columns)\n",
        "irisDF['target']=iris.target\n",
        "irisDF.head(3)"
      ],
      "metadata": {
        "colab": {
          "base_uri": "https://localhost:8080/",
          "height": 143
        },
        "id": "w1CHCbtFU3UZ",
        "outputId": "f530e256-3c27-4272-f23d-512215ab2b33"
      },
      "execution_count": 1,
      "outputs": [
        {
          "output_type": "execute_result",
          "data": {
            "text/plain": [
              "   sepal_length  sepal_width  petal_length  petal_width  target\n",
              "0           5.1          3.5           1.4          0.2       0\n",
              "1           4.9          3.0           1.4          0.2       0\n",
              "2           4.7          3.2           1.3          0.2       0"
            ],
            "text/html": [
              "\n",
              "  <div id=\"df-e5b6992b-173d-4deb-9622-4c26c83ca62b\">\n",
              "    <div class=\"colab-df-container\">\n",
              "      <div>\n",
              "<style scoped>\n",
              "    .dataframe tbody tr th:only-of-type {\n",
              "        vertical-align: middle;\n",
              "    }\n",
              "\n",
              "    .dataframe tbody tr th {\n",
              "        vertical-align: top;\n",
              "    }\n",
              "\n",
              "    .dataframe thead th {\n",
              "        text-align: right;\n",
              "    }\n",
              "</style>\n",
              "<table border=\"1\" class=\"dataframe\">\n",
              "  <thead>\n",
              "    <tr style=\"text-align: right;\">\n",
              "      <th></th>\n",
              "      <th>sepal_length</th>\n",
              "      <th>sepal_width</th>\n",
              "      <th>petal_length</th>\n",
              "      <th>petal_width</th>\n",
              "      <th>target</th>\n",
              "    </tr>\n",
              "  </thead>\n",
              "  <tbody>\n",
              "    <tr>\n",
              "      <th>0</th>\n",
              "      <td>5.1</td>\n",
              "      <td>3.5</td>\n",
              "      <td>1.4</td>\n",
              "      <td>0.2</td>\n",
              "      <td>0</td>\n",
              "    </tr>\n",
              "    <tr>\n",
              "      <th>1</th>\n",
              "      <td>4.9</td>\n",
              "      <td>3.0</td>\n",
              "      <td>1.4</td>\n",
              "      <td>0.2</td>\n",
              "      <td>0</td>\n",
              "    </tr>\n",
              "    <tr>\n",
              "      <th>2</th>\n",
              "      <td>4.7</td>\n",
              "      <td>3.2</td>\n",
              "      <td>1.3</td>\n",
              "      <td>0.2</td>\n",
              "      <td>0</td>\n",
              "    </tr>\n",
              "  </tbody>\n",
              "</table>\n",
              "</div>\n",
              "      <button class=\"colab-df-convert\" onclick=\"convertToInteractive('df-e5b6992b-173d-4deb-9622-4c26c83ca62b')\"\n",
              "              title=\"Convert this dataframe to an interactive table.\"\n",
              "              style=\"display:none;\">\n",
              "        \n",
              "  <svg xmlns=\"http://www.w3.org/2000/svg\" height=\"24px\"viewBox=\"0 0 24 24\"\n",
              "       width=\"24px\">\n",
              "    <path d=\"M0 0h24v24H0V0z\" fill=\"none\"/>\n",
              "    <path d=\"M18.56 5.44l.94 2.06.94-2.06 2.06-.94-2.06-.94-.94-2.06-.94 2.06-2.06.94zm-11 1L8.5 8.5l.94-2.06 2.06-.94-2.06-.94L8.5 2.5l-.94 2.06-2.06.94zm10 10l.94 2.06.94-2.06 2.06-.94-2.06-.94-.94-2.06-.94 2.06-2.06.94z\"/><path d=\"M17.41 7.96l-1.37-1.37c-.4-.4-.92-.59-1.43-.59-.52 0-1.04.2-1.43.59L10.3 9.45l-7.72 7.72c-.78.78-.78 2.05 0 2.83L4 21.41c.39.39.9.59 1.41.59.51 0 1.02-.2 1.41-.59l7.78-7.78 2.81-2.81c.8-.78.8-2.07 0-2.86zM5.41 20L4 18.59l7.72-7.72 1.47 1.35L5.41 20z\"/>\n",
              "  </svg>\n",
              "      </button>\n",
              "      \n",
              "  <style>\n",
              "    .colab-df-container {\n",
              "      display:flex;\n",
              "      flex-wrap:wrap;\n",
              "      gap: 12px;\n",
              "    }\n",
              "\n",
              "    .colab-df-convert {\n",
              "      background-color: #E8F0FE;\n",
              "      border: none;\n",
              "      border-radius: 50%;\n",
              "      cursor: pointer;\n",
              "      display: none;\n",
              "      fill: #1967D2;\n",
              "      height: 32px;\n",
              "      padding: 0 0 0 0;\n",
              "      width: 32px;\n",
              "    }\n",
              "\n",
              "    .colab-df-convert:hover {\n",
              "      background-color: #E2EBFA;\n",
              "      box-shadow: 0px 1px 2px rgba(60, 64, 67, 0.3), 0px 1px 3px 1px rgba(60, 64, 67, 0.15);\n",
              "      fill: #174EA6;\n",
              "    }\n",
              "\n",
              "    [theme=dark] .colab-df-convert {\n",
              "      background-color: #3B4455;\n",
              "      fill: #D2E3FC;\n",
              "    }\n",
              "\n",
              "    [theme=dark] .colab-df-convert:hover {\n",
              "      background-color: #434B5C;\n",
              "      box-shadow: 0px 1px 3px 1px rgba(0, 0, 0, 0.15);\n",
              "      filter: drop-shadow(0px 1px 2px rgba(0, 0, 0, 0.3));\n",
              "      fill: #FFFFFF;\n",
              "    }\n",
              "  </style>\n",
              "\n",
              "      <script>\n",
              "        const buttonEl =\n",
              "          document.querySelector('#df-e5b6992b-173d-4deb-9622-4c26c83ca62b button.colab-df-convert');\n",
              "        buttonEl.style.display =\n",
              "          google.colab.kernel.accessAllowed ? 'block' : 'none';\n",
              "\n",
              "        async function convertToInteractive(key) {\n",
              "          const element = document.querySelector('#df-e5b6992b-173d-4deb-9622-4c26c83ca62b');\n",
              "          const dataTable =\n",
              "            await google.colab.kernel.invokeFunction('convertToInteractive',\n",
              "                                                     [key], {});\n",
              "          if (!dataTable) return;\n",
              "\n",
              "          const docLinkHtml = 'Like what you see? Visit the ' +\n",
              "            '<a target=\"_blank\" href=https://colab.research.google.com/notebooks/data_table.ipynb>data table notebook</a>'\n",
              "            + ' to learn more about interactive tables.';\n",
              "          element.innerHTML = '';\n",
              "          dataTable['output_type'] = 'display_data';\n",
              "          await google.colab.output.renderOutput(dataTable, element);\n",
              "          const docLink = document.createElement('div');\n",
              "          docLink.innerHTML = docLinkHtml;\n",
              "          element.appendChild(docLink);\n",
              "        }\n",
              "      </script>\n",
              "    </div>\n",
              "  </div>\n",
              "  "
            ]
          },
          "metadata": {},
          "execution_count": 1
        }
      ]
    },
    {
      "cell_type": "markdown",
      "source": [
        "### * 품종에 따라 원본 데이터셋이 어떻게 분포돼있는지 2차원으로 시각화\n",
        "* sepal_width, sepal_length 의 분포를 먼저 본다."
      ],
      "metadata": {
        "id": "TpPxmExhVhe2"
      }
    },
    {
      "cell_type": "code",
      "source": [
        "#setosa는 세모, versicolor는 네모, virginica는 동그라미로 표현\n",
        "markers=['^', 's', 'o']\n",
        "\n",
        "#setosa의 target 값은 0, versicolor는 1, virginica는 2, 각 타깃 별로 다른 모양으로 산점도로 표시\n",
        "for i, marker in enumerate(markers):\n",
        "  x_axis_data=irisDF[irisDF['target']==i]['sepal_length']\n",
        "  y_axis_data=irisDF[irisDF['target']==i]['sepal_width']\n",
        "  plt.scatter(x_axis_data, y_axis_data, marker=marker, label=iris.target_names[i])\n",
        "\n",
        "plt.legend()\n",
        "plt.xlabel('sepal length')\n",
        "plt.ylabel('sepal width')\n",
        "plt.show()"
      ],
      "metadata": {
        "colab": {
          "base_uri": "https://localhost:8080/",
          "height": 282
        },
        "id": "DYGGHgoBU3ZB",
        "outputId": "5baca430-fbb5-4204-b464-026a8bf5866e"
      },
      "execution_count": 6,
      "outputs": [
        {
          "output_type": "display_data",
          "data": {
            "text/plain": [
              "<Figure size 432x288 with 1 Axes>"
            ],
            "image/png": "[encoded data removed]"
          },
          "metadata": {
            "needs_background": "light"
          }
        }
      ]
    },
    {
      "cell_type": "markdown",
      "source": [
        "* Setosa(세모) 품종의 경우, width 3이상 length 6이하 인 곳에 일정하게 분포\n",
        "* Versi(네모), virgi(동그라미) 품종의 경우, sepal width와 length 조건만으로는 분류가 어려운 복잡한 조건이다."
      ],
      "metadata": {
        "id": "cdHflm_mWGk4"
      }
    },
    {
      "cell_type": "markdown",
      "source": [
        "### * 이제 PCA로 4개 속성을 2개로 압축해 2차원으로 시각화\n",
        "* 바로 PCA 적용하기 전에 개별 속성을 함께 스케일링 해야 한다.    \n",
        "  여러 속성의 값을 연산해야 해서 속성의 스케일에 영향 받기 때문. \n",
        "* 압축하기 전에 각 속성값을 동일한 스케일로 변환하는 것이 필요.    \n",
        "standardscaler 이용."
      ],
      "metadata": {
        "id": "bB1Sj-MIU3cE"
      }
    },
    {
      "cell_type": "code",
      "source": [
        "from sklearn.preprocessing import StandardScaler\n",
        "\n",
        "#target 값을 제외한 모든 속성 값을 standardscaler를 이용해 표준 정규 분포를 가지는 값들로 변환\n",
        "iris_scaled=StandardScaler().fit_transform(irisDF.iloc[:, :-1])\n",
        "     "
      ],
      "metadata": {
        "id": "FQPOdmXIU3d-"
      },
      "execution_count": 8,
      "outputs": []
    },
    {
      "cell_type": "code",
      "source": [
        "# 이제 PCA 변환\n",
        "from sklearn.decomposition import PCA\n",
        "\n",
        "pca=PCA(n_components=2) #PCA로 변환할 차원의 수를 의미.\n",
        "\n",
        "#fit과 transform 호출해 PCA 변환 데이터 반환\n",
        "pca.fit(iris_scaled)\n",
        "iris_pca=pca.transform(iris_scaled)\n",
        "print(iris_pca.shape)"
      ],
      "metadata": {
        "colab": {
          "base_uri": "https://localhost:8080/"
        },
        "id": "XtppU94YU3hr",
        "outputId": "4c9d3613-e486-4b80-8a7c-6e98d2fc9291"
      },
      "execution_count": 9,
      "outputs": [
        {
          "output_type": "stream",
          "name": "stdout",
          "text": [
            "(150, 2)\n"
          ]
        }
      ]
    },
    {
      "cell_type": "code",
      "source": [
        "#PCA 변환된 데이터의 칼럼 명을 각각 pca_component_1, pca_component_2로 명명.\n",
        "pca_columns=['pca_component_1', 'pca_component_2']\n",
        "irisDF_pca=pd.DataFrame(iris_pca, columns=pca_columns)\n",
        "irisDF_pca['target']=iris.target\n",
        "irisDF_pca.head(3)"
      ],
      "metadata": {
        "colab": {
          "base_uri": "https://localhost:8080/",
          "height": 143
        },
        "id": "Of4AtUotU3kZ",
        "outputId": "7c46252a-a47e-4d06-a070-69cfac539f0e"
      },
      "execution_count": 10,
      "outputs": [
        {
          "output_type": "execute_result",
          "data": {
            "text/plain": [
              "   pca_component_1  pca_component_2  target\n",
              "0        -2.264703         0.480027       0\n",
              "1        -2.080961        -0.674134       0\n",
              "2        -2.364229        -0.341908       0"
            ],
            "text/html": [
              "\n",
              "  <div id=\"df-f7ea2644-cfc9-426e-8a7a-5cd4c713ba5d\">\n",
              "    <div class=\"colab-df-container\">\n",
              "      <div>\n",
              "<style scoped>\n",
              "    .dataframe tbody tr th:only-of-type {\n",
              "        vertical-align: middle;\n",
              "    }\n",
              "\n",
              "    .dataframe tbody tr th {\n",
              "        vertical-align: top;\n",
              "    }\n",
              "\n",
              "    .dataframe thead th {\n",
              "        text-align: right;\n",
              "    }\n",
              "</style>\n",
              "<table border=\"1\" class=\"dataframe\">\n",
              "  <thead>\n",
              "    <tr style=\"text-align: right;\">\n",
              "      <th></th>\n",
              "      <th>pca_component_1</th>\n",
              "      <th>pca_component_2</th>\n",
              "      <th>target</th>\n",
              "    </tr>\n",
              "  </thead>\n",
              "  <tbody>\n",
              "    <tr>\n",
              "      <th>0</th>\n",
              "      <td>-2.264703</td>\n",
              "      <td>0.480027</td>\n",
              "      <td>0</td>\n",
              "    </tr>\n",
              "    <tr>\n",
              "      <th>1</th>\n",
              "      <td>-2.080961</td>\n",
              "      <td>-0.674134</td>\n",
              "      <td>0</td>\n",
              "    </tr>\n",
              "    <tr>\n",
              "      <th>2</th>\n",
              "      <td>-2.364229</td>\n",
              "      <td>-0.341908</td>\n",
              "      <td>0</td>\n",
              "    </tr>\n",
              "  </tbody>\n",
              "</table>\n",
              "</div>\n",
              "      <button class=\"colab-df-convert\" onclick=\"convertToInteractive('df-f7ea2644-cfc9-426e-8a7a-5cd4c713ba5d')\"\n",
              "              title=\"Convert this dataframe to an interactive table.\"\n",
              "              style=\"display:none;\">\n",
              "        \n",
              "  <svg xmlns=\"http://www.w3.org/2000/svg\" height=\"24px\"viewBox=\"0 0 24 24\"\n",
              "       width=\"24px\">\n",
              "    <path d=\"M0 0h24v24H0V0z\" fill=\"none\"/>\n",
              "    <path d=\"M18.56 5.44l.94 2.06.94-2.06 2.06-.94-2.06-.94-.94-2.06-.94 2.06-2.06.94zm-11 1L8.5 8.5l.94-2.06 2.06-.94-2.06-.94L8.5 2.5l-.94 2.06-2.06.94zm10 10l.94 2.06.94-2.06 2.06-.94-2.06-.94-.94-2.06-.94 2.06-2.06.94z\"/><path d=\"M17.41 7.96l-1.37-1.37c-.4-.4-.92-.59-1.43-.59-.52 0-1.04.2-1.43.59L10.3 9.45l-7.72 7.72c-.78.78-.78 2.05 0 2.83L4 21.41c.39.39.9.59 1.41.59.51 0 1.02-.2 1.41-.59l7.78-7.78 2.81-2.81c.8-.78.8-2.07 0-2.86zM5.41 20L4 18.59l7.72-7.72 1.47 1.35L5.41 20z\"/>\n",
              "  </svg>\n",
              "      </button>\n",
              "      \n",
              "  <style>\n",
              "    .colab-df-container {\n",
              "      display:flex;\n",
              "      flex-wrap:wrap;\n",
              "      gap: 12px;\n",
              "    }\n",
              "\n",
              "    .colab-df-convert {\n",
              "      background-color: #E8F0FE;\n",
              "      border: none;\n",
              "      border-radius: 50%;\n",
              "      cursor: pointer;\n",
              "      display: none;\n",
              "      fill: #1967D2;\n",
              "      height: 32px;\n",
              "      padding: 0 0 0 0;\n",
              "      width: 32px;\n",
              "    }\n",
              "\n",
              "    .colab-df-convert:hover {\n",
              "      background-color: #E2EBFA;\n",
              "      box-shadow: 0px 1px 2px rgba(60, 64, 67, 0.3), 0px 1px 3px 1px rgba(60, 64, 67, 0.15);\n",
              "      fill: #174EA6;\n",
              "    }\n",
              "\n",
              "    [theme=dark] .colab-df-convert {\n",
              "      background-color: #3B4455;\n",
              "      fill: #D2E3FC;\n",
              "    }\n",
              "\n",
              "    [theme=dark] .colab-df-convert:hover {\n",
              "      background-color: #434B5C;\n",
              "      box-shadow: 0px 1px 3px 1px rgba(0, 0, 0, 0.15);\n",
              "      filter: drop-shadow(0px 1px 2px rgba(0, 0, 0, 0.3));\n",
              "      fill: #FFFFFF;\n",
              "    }\n",
              "  </style>\n",
              "\n",
              "      <script>\n",
              "        const buttonEl =\n",
              "          document.querySelector('#df-f7ea2644-cfc9-426e-8a7a-5cd4c713ba5d button.colab-df-convert');\n",
              "        buttonEl.style.display =\n",
              "          google.colab.kernel.accessAllowed ? 'block' : 'none';\n",
              "\n",
              "        async function convertToInteractive(key) {\n",
              "          const element = document.querySelector('#df-f7ea2644-cfc9-426e-8a7a-5cd4c713ba5d');\n",
              "          const dataTable =\n",
              "            await google.colab.kernel.invokeFunction('convertToInteractive',\n",
              "                                                     [key], {});\n",
              "          if (!dataTable) return;\n",
              "\n",
              "          const docLinkHtml = 'Like what you see? Visit the ' +\n",
              "            '<a target=\"_blank\" href=https://colab.research.google.com/notebooks/data_table.ipynb>data table notebook</a>'\n",
              "            + ' to learn more about interactive tables.';\n",
              "          element.innerHTML = '';\n",
              "          dataTable['output_type'] = 'display_data';\n",
              "          await google.colab.output.renderOutput(dataTable, element);\n",
              "          const docLink = document.createElement('div');\n",
              "          docLink.innerHTML = docLinkHtml;\n",
              "          element.appendChild(docLink);\n",
              "        }\n",
              "      </script>\n",
              "    </div>\n",
              "  </div>\n",
              "  "
            ]
          },
          "metadata": {},
          "execution_count": 10
        }
      ]
    },
    {
      "cell_type": "code",
      "source": [
        "# 시각화\n",
        "\n",
        "#setosa를 세모, versicolor를 네모, virginica를 동그라미로 표시\n",
        "markers=['^', 's', 'o']\n",
        "\n",
        "#pca_component_1을 x축, pca_component_2를 y축으로 scatter plot 수행\n",
        "for i, maker in enumerate(markers):\n",
        "  x_axis_data=irisDF_pca[irisDF_pca['target']==i]['pca_component_1']\n",
        "  y_axis_data=irisDF_pca[irisDF_pca['target']==i]['pca_component_2']\n",
        "  plt.scatter(x_axis_data, y_axis_data, marker=marker, label=iris.target_names[i])\n",
        "\n",
        "plt.legend()\n",
        "plt.xlabel('pca_component_1')\n",
        "plt.ylabel('pca_component_2')\n",
        "plt.show()"
      ],
      "metadata": {
        "colab": {
          "base_uri": "https://localhost:8080/",
          "height": 280
        },
        "id": "6AXY7MafX1X5",
        "outputId": "9cf68b9c-c6c1-4891-903a-5fe548e756bd"
      },
      "execution_count": 11,
      "outputs": [
        {
          "output_type": "display_data",
          "data": {
            "text/plain": [
              "<Figure size 432x288 with 1 Axes>"
            ],
            "image/png": "[encoded data removed]"
          },
          "metadata": {
            "needs_background": "light"
          }
        }
      ]
    },
    {
      "cell_type": "markdown",
      "source": [
        "* Setosa(세모) 품종의 경우, 여전히 명확하게 구분 가능\n",
        "Versi(네모), virgi(동그라미) 품종의 경우, 서로 겹치는 부분이 일부 존재하지만 비교적 잘 구분\n",
        "* pca 첫 번째 새로운 축인 pca_component_1이 원본 데이터의 변동성을 잘 반영했기 때문. "
      ],
      "metadata": {
        "id": "5Q47-VB0TYkH"
      }
    },
    {
      "cell_type": "markdown",
      "source": [
        "### * pca component 별로 원본 데이터의 변동성을 얼마나 잘 반영하고 있는지 알아보자. explained_variance_ratio_ 속성 이용."
      ],
      "metadata": {
        "id": "nkCRzN4LTYmg"
      }
    },
    {
      "cell_type": "code",
      "source": [
        "print(pca.explained_variance_ratio_)"
      ],
      "metadata": {
        "colab": {
          "base_uri": "https://localhost:8080/"
        },
        "id": "3r2OXQdLYSnw",
        "outputId": "782a2f28-8fbf-430d-f4f3-403710895eda"
      },
      "execution_count": 12,
      "outputs": [
        {
          "output_type": "stream",
          "name": "stdout",
          "text": [
            "[0.72962445 0.22850762]\n"
          ]
        }
      ]
    },
    {
      "cell_type": "markdown",
      "source": [
        "* 첫 번째 pca 변환 요소인 pca_component_1이 전체 변동성의 72.9% 차지. \n",
        "* 두번째 pca_component_2가 22.8% 차지.     \n",
        "  -> 이렇게 두개로만 변환해도 원본 데이터의 변동성을 95% 설명할 수 있다는 것."
      ],
      "metadata": {
        "id": "pvBamp2zYVcV"
      }
    },
    {
      "cell_type": "markdown",
      "source": [
        "### * 이번에는 원본과 pca 변환된 데이터 세트 각각에 분류를 적용한 후 결과 비교하자. 랜덤포레스트 적용."
      ],
      "metadata": {
        "id": "HMU_kOI7Yg6k"
      }
    },
    {
      "cell_type": "code",
      "source": [
        "#먼저 원본\n",
        "from sklearn.ensemble import RandomForestClassifier\n",
        "from sklearn.model_selection import cross_val_score\n",
        "import numpy as np\n",
        "\n",
        "rcf=RandomForestClassifier(random_state=156)\n",
        "scores=cross_val_score(rcf, iris.data, iris.target, scoring='accuracy', cv=3)\n",
        "print('원본 데이터 교차 검증 개별 정확도:', scores)\n",
        "print('원본 데이터 평균 정확도:', np.mean(scores))"
      ],
      "metadata": {
        "colab": {
          "base_uri": "https://localhost:8080/"
        },
        "id": "Q5wkKVjZYVj6",
        "outputId": "1cfee855-747a-495a-ac1d-cc3d64f102e6"
      },
      "execution_count": 13,
      "outputs": [
        {
          "output_type": "stream",
          "name": "stdout",
          "text": [
            "원본 데이터 교차 검증 개별 정확도: [0.98 0.94 0.96]\n",
            "원본 데이터 평균 정확도: 0.96\n"
          ]
        }
      ]
    },
    {
      "cell_type": "code",
      "source": [
        "#pca 변환한거\n",
        "pca_X=irisDF_pca[['pca_component_1', 'pca_component_2']]\n",
        "scores_pca=cross_val_score(rcf, pca_X, iris.target, scoring='accuracy', cv=3)\n",
        "print('PCA 변환 데이터 교차 검증 개별 정확도:', scores_pca)\n",
        "print('PCA 변환 데이터 평균 정확도:', np.mean(scores_pca))"
      ],
      "metadata": {
        "colab": {
          "base_uri": "https://localhost:8080/"
        },
        "id": "a4uXn0a6YtJ8",
        "outputId": "234ec2bc-1e37-4e1c-871f-9aadd721e1f1"
      },
      "execution_count": 14,
      "outputs": [
        {
          "output_type": "stream",
          "name": "stdout",
          "text": [
            "PCA 변환 데이터 교차 검증 개별 정확도: [0.88 0.88 0.88]\n",
            "PCA 변환 데이터 평균 정확도: 0.88\n"
          ]
        }
      ]
    },
    {
      "cell_type": "markdown",
      "source": [
        "* 변환한건 변환 차원 개수에 따라 예측 성능 떨어질 수 밖에 없음.     \n",
        "  붓꽃 데이터는 예측 성능의 정확도가 변환한 데이터가 원본 대비 10% 하락.\n",
        "* 꽤 큰 성능 수치 감소지만     \n",
        "  속성 개수는 50% 감소한 것을 고려하면 변환 후에도 원본 데이터 특성을 상당 부분 유지하고 있음."
      ],
      "metadata": {
        "id": "FA_93cJ5YWF-"
      }
    },
    {
      "cell_type": "markdown",
      "source": [],
      "metadata": {
        "id": "fLMl9uPIZE6B"
      }
    },
    {
      "cell_type": "code",
      "source": [],
      "metadata": {
        "id": "QlpN93A-ZFFg"
      },
      "execution_count": null,
      "outputs": []
    },
    {
      "cell_type": "code",
      "source": [],
      "metadata": {
        "id": "bRFozfdUYWN0"
      },
      "execution_count": null,
      "outputs": []
    }
  ]
}