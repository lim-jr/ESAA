{
  "nbformat": 4,
  "nbformat_minor": 0,
  "metadata": {
    "colab": {
      "provenance": [],
      "authorship_tag": "ABX9TyOfWzivozc+pTqF/iadEDFU",
      "include_colab_link": true
    },
    "kernelspec": {
      "name": "python3",
      "display_name": "Python 3"
    },
    "language_info": {
      "name": "python"
    }
  },
  "cells": [
    {
      "cell_type": "markdown",
      "metadata": {
        "id": "view-in-github",
        "colab_type": "text"
      },
      "source": [
        "<a href=\"https://colab.research.google.com/github/lim-jr/ESAA/blob/main/00_%EC%B5%9C%EC%A2%85_%ED%8C%8C%EC%82%B0%EC%9D%80%ED%96%89_%EC%8B%9C%EA%B3%84%EC%97%B4%EB%B6%84%EC%84%9D.ipynb\" target=\"_parent\"><img src=\"https://colab.research.google.com/assets/colab-badge.svg\" alt=\"Open In Colab\"/></a>"
      ]
    },
    {
      "cell_type": "markdown",
      "source": [
        "# 파산한 은행의 개수 계산하기"
      ],
      "metadata": {
        "id": "bemPsKpNqFCU"
      }
    },
    {
      "cell_type": "markdown",
      "source": [
        "* 분기별로 파산한 은행이 얼마나 되는지 분석"
      ],
      "metadata": {
        "id": "wyzbi3t8ShTg"
      }
    },
    {
      "cell_type": "code",
      "source": [
        "# 1. 파산한 은행 데이터 불러오기\n",
        "banks_ready = pd.read_csv('https://raw.githubusercontent.com/chendaniely/pandas_for_everyone/master/data/banklist.csv')\n",
        "banks_ready.head()"
      ],
      "metadata": {
        "colab": {
          "base_uri": "https://localhost:8080/",
          "height": 206
        },
        "id": "wi0WPgWSquKC",
        "outputId": "64bcbaba-f4d0-4881-ea1e-16b5dc71acdc"
      },
      "execution_count": null,
      "outputs": [
        {
          "output_type": "execute_result",
          "data": {
            "text/plain": [
              "                                           Bank Name                City  ST  \\\n",
              "0                                Fayette County Bank          Saint Elmo  IL   \n",
              "1  Guaranty Bank, (d/b/a BestBank in Georgia & Mi...           Milwaukee  WI   \n",
              "2                                     First NBC Bank         New Orleans  LA   \n",
              "3                                      Proficio Bank  Cottonwood Heights  UT   \n",
              "4                      Seaway Bank and Trust Company             Chicago  IL   \n",
              "\n",
              "    CERT                Acquiring Institution Closing Date Updated Date  \n",
              "0   1802            United Fidelity Bank, fsb    26-May-17    26-Jul-17  \n",
              "1  30003  First-Citizens Bank & Trust Company     5-May-17    26-Jul-17  \n",
              "2  58302                         Whitney Bank    28-Apr-17    26-Jul-17  \n",
              "3  35495                    Cache Valley Bank     3-Mar-17    18-May-17  \n",
              "4  19328                  State Bank of Texas    27-Jan-17    18-May-17  "
            ],
            "text/html": [
              "\n",
              "  <div id=\"df-9e0cb0a4-2a6d-4b8a-971d-69280572e0e1\">\n",
              "    <div class=\"colab-df-container\">\n",
              "      <div>\n",
              "<style scoped>\n",
              "    .dataframe tbody tr th:only-of-type {\n",
              "        vertical-align: middle;\n",
              "    }\n",
              "\n",
              "    .dataframe tbody tr th {\n",
              "        vertical-align: top;\n",
              "    }\n",
              "\n",
              "    .dataframe thead th {\n",
              "        text-align: right;\n",
              "    }\n",
              "</style>\n",
              "<table border=\"1\" class=\"dataframe\">\n",
              "  <thead>\n",
              "    <tr style=\"text-align: right;\">\n",
              "      <th></th>\n",
              "      <th>Bank Name</th>\n",
              "      <th>City</th>\n",
              "      <th>ST</th>\n",
              "      <th>CERT</th>\n",
              "      <th>Acquiring Institution</th>\n",
              "      <th>Closing Date</th>\n",
              "      <th>Updated Date</th>\n",
              "    </tr>\n",
              "  </thead>\n",
              "  <tbody>\n",
              "    <tr>\n",
              "      <th>0</th>\n",
              "      <td>Fayette County Bank</td>\n",
              "      <td>Saint Elmo</td>\n",
              "      <td>IL</td>\n",
              "      <td>1802</td>\n",
              "      <td>United Fidelity Bank, fsb</td>\n",
              "      <td>26-May-17</td>\n",
              "      <td>26-Jul-17</td>\n",
              "    </tr>\n",
              "    <tr>\n",
              "      <th>1</th>\n",
              "      <td>Guaranty Bank, (d/b/a BestBank in Georgia &amp; Mi...</td>\n",
              "      <td>Milwaukee</td>\n",
              "      <td>WI</td>\n",
              "      <td>30003</td>\n",
              "      <td>First-Citizens Bank &amp; Trust Company</td>\n",
              "      <td>5-May-17</td>\n",
              "      <td>26-Jul-17</td>\n",
              "    </tr>\n",
              "    <tr>\n",
              "      <th>2</th>\n",
              "      <td>First NBC Bank</td>\n",
              "      <td>New Orleans</td>\n",
              "      <td>LA</td>\n",
              "      <td>58302</td>\n",
              "      <td>Whitney Bank</td>\n",
              "      <td>28-Apr-17</td>\n",
              "      <td>26-Jul-17</td>\n",
              "    </tr>\n",
              "    <tr>\n",
              "      <th>3</th>\n",
              "      <td>Proficio Bank</td>\n",
              "      <td>Cottonwood Heights</td>\n",
              "      <td>UT</td>\n",
              "      <td>35495</td>\n",
              "      <td>Cache Valley Bank</td>\n",
              "      <td>3-Mar-17</td>\n",
              "      <td>18-May-17</td>\n",
              "    </tr>\n",
              "    <tr>\n",
              "      <th>4</th>\n",
              "      <td>Seaway Bank and Trust Company</td>\n",
              "      <td>Chicago</td>\n",
              "      <td>IL</td>\n",
              "      <td>19328</td>\n",
              "      <td>State Bank of Texas</td>\n",
              "      <td>27-Jan-17</td>\n",
              "      <td>18-May-17</td>\n",
              "    </tr>\n",
              "  </tbody>\n",
              "</table>\n",
              "</div>\n",
              "      <button class=\"colab-df-convert\" onclick=\"convertToInteractive('df-9e0cb0a4-2a6d-4b8a-971d-69280572e0e1')\"\n",
              "              title=\"Convert this dataframe to an interactive table.\"\n",
              "              style=\"display:none;\">\n",
              "        \n",
              "  <svg xmlns=\"http://www.w3.org/2000/svg\" height=\"24px\"viewBox=\"0 0 24 24\"\n",
              "       width=\"24px\">\n",
              "    <path d=\"M0 0h24v24H0V0z\" fill=\"none\"/>\n",
              "    <path d=\"M18.56 5.44l.94 2.06.94-2.06 2.06-.94-2.06-.94-.94-2.06-.94 2.06-2.06.94zm-11 1L8.5 8.5l.94-2.06 2.06-.94-2.06-.94L8.5 2.5l-.94 2.06-2.06.94zm10 10l.94 2.06.94-2.06 2.06-.94-2.06-.94-.94-2.06-.94 2.06-2.06.94z\"/><path d=\"M17.41 7.96l-1.37-1.37c-.4-.4-.92-.59-1.43-.59-.52 0-1.04.2-1.43.59L10.3 9.45l-7.72 7.72c-.78.78-.78 2.05 0 2.83L4 21.41c.39.39.9.59 1.41.59.51 0 1.02-.2 1.41-.59l7.78-7.78 2.81-2.81c.8-.78.8-2.07 0-2.86zM5.41 20L4 18.59l7.72-7.72 1.47 1.35L5.41 20z\"/>\n",
              "  </svg>\n",
              "      </button>\n",
              "      \n",
              "  <style>\n",
              "    .colab-df-container {\n",
              "      display:flex;\n",
              "      flex-wrap:wrap;\n",
              "      gap: 12px;\n",
              "    }\n",
              "\n",
              "    .colab-df-convert {\n",
              "      background-color: #E8F0FE;\n",
              "      border: none;\n",
              "      border-radius: 50%;\n",
              "      cursor: pointer;\n",
              "      display: none;\n",
              "      fill: #1967D2;\n",
              "      height: 32px;\n",
              "      padding: 0 0 0 0;\n",
              "      width: 32px;\n",
              "    }\n",
              "\n",
              "    .colab-df-convert:hover {\n",
              "      background-color: #E2EBFA;\n",
              "      box-shadow: 0px 1px 2px rgba(60, 64, 67, 0.3), 0px 1px 3px 1px rgba(60, 64, 67, 0.15);\n",
              "      fill: #174EA6;\n",
              "    }\n",
              "\n",
              "    [theme=dark] .colab-df-convert {\n",
              "      background-color: #3B4455;\n",
              "      fill: #D2E3FC;\n",
              "    }\n",
              "\n",
              "    [theme=dark] .colab-df-convert:hover {\n",
              "      background-color: #434B5C;\n",
              "      box-shadow: 0px 1px 3px 1px rgba(0, 0, 0, 0.15);\n",
              "      filter: drop-shadow(0px 1px 2px rgba(0, 0, 0, 0.3));\n",
              "      fill: #FFFFFF;\n",
              "    }\n",
              "  </style>\n",
              "\n",
              "      <script>\n",
              "        const buttonEl =\n",
              "          document.querySelector('#df-9e0cb0a4-2a6d-4b8a-971d-69280572e0e1 button.colab-df-convert');\n",
              "        buttonEl.style.display =\n",
              "          google.colab.kernel.accessAllowed ? 'block' : 'none';\n",
              "\n",
              "        async function convertToInteractive(key) {\n",
              "          const element = document.querySelector('#df-9e0cb0a4-2a6d-4b8a-971d-69280572e0e1');\n",
              "          const dataTable =\n",
              "            await google.colab.kernel.invokeFunction('convertToInteractive',\n",
              "                                                     [key], {});\n",
              "          if (!dataTable) return;\n",
              "\n",
              "          const docLinkHtml = 'Like what you see? Visit the ' +\n",
              "            '<a target=\"_blank\" href=https://colab.research.google.com/notebooks/data_table.ipynb>data table notebook</a>'\n",
              "            + ' to learn more about interactive tables.';\n",
              "          element.innerHTML = '';\n",
              "          dataTable['output_type'] = 'display_data';\n",
              "          await google.colab.output.renderOutput(dataTable, element);\n",
              "          const docLink = document.createElement('div');\n",
              "          docLink.innerHTML = docLinkHtml;\n",
              "          element.appendChild(docLink);\n",
              "        }\n",
              "      </script>\n",
              "    </div>\n",
              "  </div>\n",
              "  "
            ]
          },
          "metadata": {},
          "execution_count": 33
        }
      ]
    },
    {
      "cell_type": "code",
      "source": [
        "# 2. 데이터 자료형 확인하기 \n",
        "banks_ready.info()\n",
        "\n",
        "## Closing Date, Updated Date 열의 자료형이 문자열"
      ],
      "metadata": {
        "colab": {
          "base_uri": "https://localhost:8080/"
        },
        "id": "t7MZ2RN2LRyu",
        "outputId": "8f42a413-7e51-4c13-d914-d8c33f688d09"
      },
      "execution_count": null,
      "outputs": [
        {
          "output_type": "stream",
          "name": "stdout",
          "text": [
            "<class 'pandas.core.frame.DataFrame'>\n",
            "RangeIndex: 553 entries, 0 to 552\n",
            "Data columns (total 7 columns):\n",
            " #   Column                 Non-Null Count  Dtype \n",
            "---  ------                 --------------  ----- \n",
            " 0   Bank Name              553 non-null    object\n",
            " 1   City                   553 non-null    object\n",
            " 2   ST                     553 non-null    object\n",
            " 3   CERT                   553 non-null    int64 \n",
            " 4   Acquiring Institution  553 non-null    object\n",
            " 5   Closing Date           553 non-null    object\n",
            " 6   Updated Date           553 non-null    object\n",
            "dtypes: int64(1), object(6)\n",
            "memory usage: 30.4+ KB\n"
          ]
        }
      ]
    },
    {
      "cell_type": "code",
      "source": [
        "# 3. 문자열로 저장된 두 열을 datetime 오브젝트로 변환\n",
        "banks = pd.read_csv('data/banklist.csv', parse_dates=[5,6])\n",
        "banks.info()"
      ],
      "metadata": {
        "colab": {
          "base_uri": "https://localhost:8080/"
        },
        "id": "2XXOVpD9S1bn",
        "outputId": "7f9be689-72d5-44a6-d108-7bdf6e266eb3"
      },
      "execution_count": null,
      "outputs": [
        {
          "output_type": "stream",
          "name": "stdout",
          "text": [
            "<class 'pandas.core.frame.DataFrame'>\n",
            "RangeIndex: 553 entries, 0 to 552\n",
            "Data columns (total 7 columns):\n",
            " #   Column                 Non-Null Count  Dtype         \n",
            "---  ------                 --------------  -----         \n",
            " 0   Bank Name              553 non-null    object        \n",
            " 1   City                   553 non-null    object        \n",
            " 2   ST                     553 non-null    object        \n",
            " 3   CERT                   553 non-null    int64         \n",
            " 4   Acquiring Institution  553 non-null    object        \n",
            " 5   Closing Date           553 non-null    datetime64[ns]\n",
            " 6   Updated Date           553 non-null    datetime64[ns]\n",
            "dtypes: datetime64[ns](2), int64(1), object(4)\n",
            "memory usage: 30.4+ KB\n"
          ]
        }
      ]
    },
    {
      "cell_type": "code",
      "source": [
        "# 4. 은행이 파산한 연도와 분기 도출 \n",
        "banks['closing_quarter'], banks['closing_year'] = ( banks['Closing Date'].dt.quarter, banks['Closing Date'].dt.year )\n",
        "banks.loc[:,['Bank Name', 'Closing Date', 'closing_quarter', 'closing_year']]\n",
        "\n",
        "## dt.quarter 메소드 : 분기 출력\n",
        "## dt.year 메소드 : 연도 출력"
      ],
      "metadata": {
        "colab": {
          "base_uri": "https://localhost:8080/",
          "height": 424
        },
        "id": "h_jZKSStS1ei",
        "outputId": "d25347ed-937d-4af5-d8fe-5c330dc81a25"
      },
      "execution_count": null,
      "outputs": [
        {
          "output_type": "execute_result",
          "data": {
            "text/plain": [
              "                                             Bank Name Closing Date  \\\n",
              "0                                  Fayette County Bank   2017-05-26   \n",
              "1    Guaranty Bank, (d/b/a BestBank in Georgia & Mi...   2017-05-05   \n",
              "2                                       First NBC Bank   2017-04-28   \n",
              "3                                        Proficio Bank   2017-03-03   \n",
              "4                        Seaway Bank and Trust Company   2017-01-27   \n",
              "..                                                 ...          ...   \n",
              "548                                 Superior Bank, FSB   2001-07-27   \n",
              "549                                Malta National Bank   2001-05-03   \n",
              "550                    First Alliance Bank & Trust Co.   2001-02-02   \n",
              "551                  National State Bank of Metropolis   2000-12-14   \n",
              "552                                   Bank of Honolulu   2000-10-13   \n",
              "\n",
              "     closing_quarter  closing_year  \n",
              "0                  2          2017  \n",
              "1                  2          2017  \n",
              "2                  2          2017  \n",
              "3                  1          2017  \n",
              "4                  1          2017  \n",
              "..               ...           ...  \n",
              "548                3          2001  \n",
              "549                2          2001  \n",
              "550                1          2001  \n",
              "551                4          2000  \n",
              "552                4          2000  \n",
              "\n",
              "[553 rows x 4 columns]"
            ],
            "text/html": [
              "\n",
              "  <div id=\"df-0eb53e71-3d46-40c4-a604-0053d892eb60\">\n",
              "    <div class=\"colab-df-container\">\n",
              "      <div>\n",
              "<style scoped>\n",
              "    .dataframe tbody tr th:only-of-type {\n",
              "        vertical-align: middle;\n",
              "    }\n",
              "\n",
              "    .dataframe tbody tr th {\n",
              "        vertical-align: top;\n",
              "    }\n",
              "\n",
              "    .dataframe thead th {\n",
              "        text-align: right;\n",
              "    }\n",
              "</style>\n",
              "<table border=\"1\" class=\"dataframe\">\n",
              "  <thead>\n",
              "    <tr style=\"text-align: right;\">\n",
              "      <th></th>\n",
              "      <th>Bank Name</th>\n",
              "      <th>Closing Date</th>\n",
              "      <th>closing_quarter</th>\n",
              "      <th>closing_year</th>\n",
              "    </tr>\n",
              "  </thead>\n",
              "  <tbody>\n",
              "    <tr>\n",
              "      <th>0</th>\n",
              "      <td>Fayette County Bank</td>\n",
              "      <td>2017-05-26</td>\n",
              "      <td>2</td>\n",
              "      <td>2017</td>\n",
              "    </tr>\n",
              "    <tr>\n",
              "      <th>1</th>\n",
              "      <td>Guaranty Bank, (d/b/a BestBank in Georgia &amp; Mi...</td>\n",
              "      <td>2017-05-05</td>\n",
              "      <td>2</td>\n",
              "      <td>2017</td>\n",
              "    </tr>\n",
              "    <tr>\n",
              "      <th>2</th>\n",
              "      <td>First NBC Bank</td>\n",
              "      <td>2017-04-28</td>\n",
              "      <td>2</td>\n",
              "      <td>2017</td>\n",
              "    </tr>\n",
              "    <tr>\n",
              "      <th>3</th>\n",
              "      <td>Proficio Bank</td>\n",
              "      <td>2017-03-03</td>\n",
              "      <td>1</td>\n",
              "      <td>2017</td>\n",
              "    </tr>\n",
              "    <tr>\n",
              "      <th>4</th>\n",
              "      <td>Seaway Bank and Trust Company</td>\n",
              "      <td>2017-01-27</td>\n",
              "      <td>1</td>\n",
              "      <td>2017</td>\n",
              "    </tr>\n",
              "    <tr>\n",
              "      <th>...</th>\n",
              "      <td>...</td>\n",
              "      <td>...</td>\n",
              "      <td>...</td>\n",
              "      <td>...</td>\n",
              "    </tr>\n",
              "    <tr>\n",
              "      <th>548</th>\n",
              "      <td>Superior Bank, FSB</td>\n",
              "      <td>2001-07-27</td>\n",
              "      <td>3</td>\n",
              "      <td>2001</td>\n",
              "    </tr>\n",
              "    <tr>\n",
              "      <th>549</th>\n",
              "      <td>Malta National Bank</td>\n",
              "      <td>2001-05-03</td>\n",
              "      <td>2</td>\n",
              "      <td>2001</td>\n",
              "    </tr>\n",
              "    <tr>\n",
              "      <th>550</th>\n",
              "      <td>First Alliance Bank &amp; Trust Co.</td>\n",
              "      <td>2001-02-02</td>\n",
              "      <td>1</td>\n",
              "      <td>2001</td>\n",
              "    </tr>\n",
              "    <tr>\n",
              "      <th>551</th>\n",
              "      <td>National State Bank of Metropolis</td>\n",
              "      <td>2000-12-14</td>\n",
              "      <td>4</td>\n",
              "      <td>2000</td>\n",
              "    </tr>\n",
              "    <tr>\n",
              "      <th>552</th>\n",
              "      <td>Bank of Honolulu</td>\n",
              "      <td>2000-10-13</td>\n",
              "      <td>4</td>\n",
              "      <td>2000</td>\n",
              "    </tr>\n",
              "  </tbody>\n",
              "</table>\n",
              "<p>553 rows × 4 columns</p>\n",
              "</div>\n",
              "      <button class=\"colab-df-convert\" onclick=\"convertToInteractive('df-0eb53e71-3d46-40c4-a604-0053d892eb60')\"\n",
              "              title=\"Convert this dataframe to an interactive table.\"\n",
              "              style=\"display:none;\">\n",
              "        \n",
              "  <svg xmlns=\"http://www.w3.org/2000/svg\" height=\"24px\"viewBox=\"0 0 24 24\"\n",
              "       width=\"24px\">\n",
              "    <path d=\"M0 0h24v24H0V0z\" fill=\"none\"/>\n",
              "    <path d=\"M18.56 5.44l.94 2.06.94-2.06 2.06-.94-2.06-.94-.94-2.06-.94 2.06-2.06.94zm-11 1L8.5 8.5l.94-2.06 2.06-.94-2.06-.94L8.5 2.5l-.94 2.06-2.06.94zm10 10l.94 2.06.94-2.06 2.06-.94-2.06-.94-.94-2.06-.94 2.06-2.06.94z\"/><path d=\"M17.41 7.96l-1.37-1.37c-.4-.4-.92-.59-1.43-.59-.52 0-1.04.2-1.43.59L10.3 9.45l-7.72 7.72c-.78.78-.78 2.05 0 2.83L4 21.41c.39.39.9.59 1.41.59.51 0 1.02-.2 1.41-.59l7.78-7.78 2.81-2.81c.8-.78.8-2.07 0-2.86zM5.41 20L4 18.59l7.72-7.72 1.47 1.35L5.41 20z\"/>\n",
              "  </svg>\n",
              "      </button>\n",
              "      \n",
              "  <style>\n",
              "    .colab-df-container {\n",
              "      display:flex;\n",
              "      flex-wrap:wrap;\n",
              "      gap: 12px;\n",
              "    }\n",
              "\n",
              "    .colab-df-convert {\n",
              "      background-color: #E8F0FE;\n",
              "      border: none;\n",
              "      border-radius: 50%;\n",
              "      cursor: pointer;\n",
              "      display: none;\n",
              "      fill: #1967D2;\n",
              "      height: 32px;\n",
              "      padding: 0 0 0 0;\n",
              "      width: 32px;\n",
              "    }\n",
              "\n",
              "    .colab-df-convert:hover {\n",
              "      background-color: #E2EBFA;\n",
              "      box-shadow: 0px 1px 2px rgba(60, 64, 67, 0.3), 0px 1px 3px 1px rgba(60, 64, 67, 0.15);\n",
              "      fill: #174EA6;\n",
              "    }\n",
              "\n",
              "    [theme=dark] .colab-df-convert {\n",
              "      background-color: #3B4455;\n",
              "      fill: #D2E3FC;\n",
              "    }\n",
              "\n",
              "    [theme=dark] .colab-df-convert:hover {\n",
              "      background-color: #434B5C;\n",
              "      box-shadow: 0px 1px 3px 1px rgba(0, 0, 0, 0.15);\n",
              "      filter: drop-shadow(0px 1px 2px rgba(0, 0, 0, 0.3));\n",
              "      fill: #FFFFFF;\n",
              "    }\n",
              "  </style>\n",
              "\n",
              "      <script>\n",
              "        const buttonEl =\n",
              "          document.querySelector('#df-0eb53e71-3d46-40c4-a604-0053d892eb60 button.colab-df-convert');\n",
              "        buttonEl.style.display =\n",
              "          google.colab.kernel.accessAllowed ? 'block' : 'none';\n",
              "\n",
              "        async function convertToInteractive(key) {\n",
              "          const element = document.querySelector('#df-0eb53e71-3d46-40c4-a604-0053d892eb60');\n",
              "          const dataTable =\n",
              "            await google.colab.kernel.invokeFunction('convertToInteractive',\n",
              "                                                     [key], {});\n",
              "          if (!dataTable) return;\n",
              "\n",
              "          const docLinkHtml = 'Like what you see? Visit the ' +\n",
              "            '<a target=\"_blank\" href=https://colab.research.google.com/notebooks/data_table.ipynb>data table notebook</a>'\n",
              "            + ' to learn more about interactive tables.';\n",
              "          element.innerHTML = '';\n",
              "          dataTable['output_type'] = 'display_data';\n",
              "          await google.colab.output.renderOutput(dataTable, element);\n",
              "          const docLink = document.createElement('div');\n",
              "          docLink.innerHTML = docLinkHtml;\n",
              "          element.appendChild(docLink);\n",
              "        }\n",
              "      </script>\n",
              "    </div>\n",
              "  </div>\n",
              "  "
            ]
          },
          "metadata": {},
          "execution_count": 49
        }
      ]
    },
    {
      "cell_type": "code",
      "source": [
        "# A. 연도별로 파산한 은행의 수\n",
        "closing_y = banks.groupby(['closing_year']).size()\n",
        "closing_y"
      ],
      "metadata": {
        "colab": {
          "base_uri": "https://localhost:8080/"
        },
        "id": "6z5gD8sNS1hY",
        "outputId": "2fcf7aa8-1867-4fec-bedf-113e8623a6a0"
      },
      "execution_count": null,
      "outputs": [
        {
          "output_type": "execute_result",
          "data": {
            "text/plain": [
              "closing_year\n",
              "2000      2\n",
              "2001      4\n",
              "2002     11\n",
              "2003      3\n",
              "2004      4\n",
              "2007      3\n",
              "2008     25\n",
              "2009    140\n",
              "2010    157\n",
              "2011     92\n",
              "2012     51\n",
              "2013     24\n",
              "2014     18\n",
              "2015      8\n",
              "2016      5\n",
              "2017      6\n",
              "dtype: int64"
            ]
          },
          "metadata": {},
          "execution_count": 89
        }
      ]
    },
    {
      "cell_type": "code",
      "source": [
        "# B. 분기별 파산한 은행의 개수\n",
        "closing_q = banks.groupby(['closing_quarter']).size()\n",
        "closing_q"
      ],
      "metadata": {
        "colab": {
          "base_uri": "https://localhost:8080/"
        },
        "id": "V5ipNAu1hQmK",
        "outputId": "c4725f7d-0125-4367-ee66-52bd1c8d4217"
      },
      "execution_count": null,
      "outputs": [
        {
          "output_type": "execute_result",
          "data": {
            "text/plain": [
              "closing_quarter\n",
              "1    135\n",
              "2    138\n",
              "3    153\n",
              "4    127\n",
              "dtype: int64"
            ]
          },
          "metadata": {},
          "execution_count": 92
        }
      ]
    },
    {
      "cell_type": "code",
      "source": [
        "# C. 연도별, 분기별 파산한 은행의 개수\n",
        "closing_y_q = banks.groupby(['closing_year','closing_quarter']).size()\n",
        "closing_y_q"
      ],
      "metadata": {
        "colab": {
          "base_uri": "https://localhost:8080/"
        },
        "id": "IlQOOgDjS1pz",
        "outputId": "b4fbfb95-c016-42dd-e614-40423b9eda5b"
      },
      "execution_count": null,
      "outputs": [
        {
          "output_type": "execute_result",
          "data": {
            "text/plain": [
              "closing_year  closing_quarter\n",
              "2000          4                   2\n",
              "2001          1                   1\n",
              "              2                   1\n",
              "              3                   2\n",
              "2002          1                   6\n",
              "              2                   2\n",
              "              3                   1\n",
              "              4                   2\n",
              "2003          1                   1\n",
              "              2                   1\n",
              "              4                   1\n",
              "2004          1                   3\n",
              "              2                   1\n",
              "2007          1                   1\n",
              "              3                   1\n",
              "              4                   1\n",
              "2008          1                   2\n",
              "              2                   2\n",
              "              3                   9\n",
              "              4                  12\n",
              "2009          1                  21\n",
              "              2                  24\n",
              "              3                  50\n",
              "              4                  45\n",
              "2010          1                  41\n",
              "              2                  45\n",
              "              3                  41\n",
              "              4                  30\n",
              "2011          1                  26\n",
              "              2                  22\n",
              "              3                  26\n",
              "              4                  18\n",
              "2012          1                  16\n",
              "              2                  15\n",
              "              3                  12\n",
              "              4                   8\n",
              "2013          1                   4\n",
              "              2                  12\n",
              "              3                   6\n",
              "              4                   2\n",
              "2014          1                   5\n",
              "              2                   7\n",
              "              3                   2\n",
              "              4                   4\n",
              "2015          1                   4\n",
              "              2                   1\n",
              "              3                   1\n",
              "              4                   2\n",
              "2016          1                   1\n",
              "              2                   2\n",
              "              3                   2\n",
              "2017          1                   3\n",
              "              2                   3\n",
              "dtype: int64"
            ]
          },
          "metadata": {},
          "execution_count": 90
        }
      ]
    },
    {
      "cell_type": "code",
      "source": [
        "import matplotlib.pyplot as plt\n",
        "\n",
        "# B. 분기별\n",
        "fig,ax = plt.subplots()\n",
        "ax = closing_q.plot()\n",
        "plt.show()\n",
        "\n",
        "# A. 연도별\n",
        "fig,ax = plt.subplots()\n",
        "ax = closing_y.plot()\n",
        "plt.show()\n",
        "\n",
        "# C. (연도, 분기)별\n",
        "fig,ax = plt.subplots()\n",
        "ax = closing_y_q.plot()\n",
        "plt.show()"
      ],
      "metadata": {
        "colab": {
          "base_uri": "https://localhost:8080/",
          "height": 806
        },
        "id": "hvo5SqlpguIa",
        "outputId": "a6cdb690-6828-4347-a5bb-11e218586c77"
      },
      "execution_count": null,
      "outputs": [
        {
          "output_type": "display_data",
          "data": {
            "text/plain": [
              "<Figure size 432x288 with 1 Axes>"
            ],
            "image/png": "[encoded data removed]"
          },
          "metadata": {
            "needs_background": "light"
          }
        },
        {
          "output_type": "display_data",
          "data": {
            "text/plain": [
              "<Figure size 432x288 with 1 Axes>"
            ],
            "image/png": "[encoded data removed]"
          },
          "metadata": {
            "needs_background": "light"
          }
        },
        {
          "output_type": "display_data",
          "data": {
            "text/plain": [
              "<Figure size 432x288 with 1 Axes>"
            ],
            "image/png": "[encoded data removed]"
          },
          "metadata": {
            "needs_background": "light"
          }
        }
      ]
    },
    {
      "cell_type": "code",
      "source": [
        "import seaborn as sns"
      ],
      "metadata": {
        "id": "3xeOj-pPqWRr"
      },
      "execution_count": null,
      "outputs": []
    },
    {
      "cell_type": "code",
      "source": [
        "# A. 분기별\n",
        "closing_q = banks.groupby(['closing_quarter']).size()\n",
        "q = closing_q.reset_index()\n",
        "q.columns = ['quarter', 'size']\n",
        "sns.barplot(q['quarter'], q['size'], data=q)"
      ],
      "metadata": {
        "colab": {
          "base_uri": "https://localhost:8080/",
          "height": 357
        },
        "id": "crwSMiJsp-5P",
        "outputId": "0a83d05e-e252-43b6-b600-eab02daf793c"
      },
      "execution_count": null,
      "outputs": [
        {
          "output_type": "stream",
          "name": "stderr",
          "text": [
            "/usr/local/lib/python3.7/dist-packages/seaborn/_decorators.py:43: FutureWarning: Pass the following variables as keyword args: x, y. From version 0.12, the only valid positional argument will be `data`, and passing other arguments without an explicit keyword will result in an error or misinterpretation.\n",
            "  FutureWarning\n"
          ]
        },
        {
          "output_type": "execute_result",
          "data": {
            "text/plain": [
              "<matplotlib.axes._subplots.AxesSubplot at 0x7f6ebe14b510>"
            ]
          },
          "metadata": {},
          "execution_count": 152
        },
        {
          "output_type": "display_data",
          "data": {
            "text/plain": [
              "<Figure size 432x288 with 1 Axes>"
            ],
            "image/png": "[encoded data removed]"
          },
          "metadata": {
            "needs_background": "light"
          }
        }
      ]
    },
    {
      "cell_type": "code",
      "source": [
        "# B. 연도별 \n",
        "closing_y = banks.groupby(['closing_year']).size()\n",
        "y = closing_y.reset_index()\n",
        "y.columns = ['year', 'size']\n",
        "sns.barplot(y['year'], y['size'], data=y)\n",
        "plt.xticks(rotation=45)"
      ],
      "metadata": {
        "colab": {
          "base_uri": "https://localhost:8080/",
          "height": 387
        },
        "id": "4MrNMtQnp-9H",
        "outputId": "4b100531-afba-49b5-8845-f878c652aba9"
      },
      "execution_count": null,
      "outputs": [
        {
          "output_type": "stream",
          "name": "stderr",
          "text": [
            "/usr/local/lib/python3.7/dist-packages/seaborn/_decorators.py:43: FutureWarning: Pass the following variables as keyword args: x, y. From version 0.12, the only valid positional argument will be `data`, and passing other arguments without an explicit keyword will result in an error or misinterpretation.\n",
            "  FutureWarning\n"
          ]
        },
        {
          "output_type": "execute_result",
          "data": {
            "text/plain": [
              "(array([ 0,  1,  2,  3,  4,  5,  6,  7,  8,  9, 10, 11, 12, 13, 14, 15]),\n",
              " <a list of 16 Text major ticklabel objects>)"
            ]
          },
          "metadata": {},
          "execution_count": 154
        },
        {
          "output_type": "display_data",
          "data": {
            "text/plain": [
              "<Figure size 432x288 with 1 Axes>"
            ],
            "image/png": "[encoded data removed]"
          },
          "metadata": {
            "needs_background": "light"
          }
        }
      ]
    },
    {
      "cell_type": "code",
      "source": [
        "banks[banks['Bank Name'].str.contains('Washington Mutual')==True]\n",
        "# 당시 미국 최대 저축은행 중 하나인 '워싱턴 뮤추얼'이 2008세계금융위기의 여파로 JP모건체이스에 넘어가 파산했다. "
      ],
      "metadata": {
        "colab": {
          "base_uri": "https://localhost:8080/",
          "height": 81
        },
        "id": "5Yfbu_B3pxtH",
        "outputId": "4837d3b6-f63a-465b-d3bf-59e618e28e53"
      },
      "execution_count": null,
      "outputs": [
        {
          "output_type": "execute_result",
          "data": {
            "text/plain": [
              "                                             Bank Name       City  ST   CERT  \\\n",
              "513  Washington Mutual Bank (Including its subsidia...  Henderson  NV  32633   \n",
              "\n",
              "    Acquiring Institution Closing Date Updated Date  closing_quarter  \\\n",
              "513  JP Morgan Chase Bank   2008-09-25   2015-08-04                3   \n",
              "\n",
              "     closing_year  \n",
              "513          2008  "
            ],
            "text/html": [
              "\n",
              "  <div id=\"df-f3390fdc-5bd5-4972-8f25-d8b2472a7de3\">\n",
              "    <div class=\"colab-df-container\">\n",
              "      <div>\n",
              "<style scoped>\n",
              "    .dataframe tbody tr th:only-of-type {\n",
              "        vertical-align: middle;\n",
              "    }\n",
              "\n",
              "    .dataframe tbody tr th {\n",
              "        vertical-align: top;\n",
              "    }\n",
              "\n",
              "    .dataframe thead th {\n",
              "        text-align: right;\n",
              "    }\n",
              "</style>\n",
              "<table border=\"1\" class=\"dataframe\">\n",
              "  <thead>\n",
              "    <tr style=\"text-align: right;\">\n",
              "      <th></th>\n",
              "      <th>Bank Name</th>\n",
              "      <th>City</th>\n",
              "      <th>ST</th>\n",
              "      <th>CERT</th>\n",
              "      <th>Acquiring Institution</th>\n",
              "      <th>Closing Date</th>\n",
              "      <th>Updated Date</th>\n",
              "      <th>closing_quarter</th>\n",
              "      <th>closing_year</th>\n",
              "    </tr>\n",
              "  </thead>\n",
              "  <tbody>\n",
              "    <tr>\n",
              "      <th>513</th>\n",
              "      <td>Washington Mutual Bank (Including its subsidia...</td>\n",
              "      <td>Henderson</td>\n",
              "      <td>NV</td>\n",
              "      <td>32633</td>\n",
              "      <td>JP Morgan Chase Bank</td>\n",
              "      <td>2008-09-25</td>\n",
              "      <td>2015-08-04</td>\n",
              "      <td>3</td>\n",
              "      <td>2008</td>\n",
              "    </tr>\n",
              "  </tbody>\n",
              "</table>\n",
              "</div>\n",
              "      <button class=\"colab-df-convert\" onclick=\"convertToInteractive('df-f3390fdc-5bd5-4972-8f25-d8b2472a7de3')\"\n",
              "              title=\"Convert this dataframe to an interactive table.\"\n",
              "              style=\"display:none;\">\n",
              "        \n",
              "  <svg xmlns=\"http://www.w3.org/2000/svg\" height=\"24px\"viewBox=\"0 0 24 24\"\n",
              "       width=\"24px\">\n",
              "    <path d=\"M0 0h24v24H0V0z\" fill=\"none\"/>\n",
              "    <path d=\"M18.56 5.44l.94 2.06.94-2.06 2.06-.94-2.06-.94-.94-2.06-.94 2.06-2.06.94zm-11 1L8.5 8.5l.94-2.06 2.06-.94-2.06-.94L8.5 2.5l-.94 2.06-2.06.94zm10 10l.94 2.06.94-2.06 2.06-.94-2.06-.94-.94-2.06-.94 2.06-2.06.94z\"/><path d=\"M17.41 7.96l-1.37-1.37c-.4-.4-.92-.59-1.43-.59-.52 0-1.04.2-1.43.59L10.3 9.45l-7.72 7.72c-.78.78-.78 2.05 0 2.83L4 21.41c.39.39.9.59 1.41.59.51 0 1.02-.2 1.41-.59l7.78-7.78 2.81-2.81c.8-.78.8-2.07 0-2.86zM5.41 20L4 18.59l7.72-7.72 1.47 1.35L5.41 20z\"/>\n",
              "  </svg>\n",
              "      </button>\n",
              "      \n",
              "  <style>\n",
              "    .colab-df-container {\n",
              "      display:flex;\n",
              "      flex-wrap:wrap;\n",
              "      gap: 12px;\n",
              "    }\n",
              "\n",
              "    .colab-df-convert {\n",
              "      background-color: #E8F0FE;\n",
              "      border: none;\n",
              "      border-radius: 50%;\n",
              "      cursor: pointer;\n",
              "      display: none;\n",
              "      fill: #1967D2;\n",
              "      height: 32px;\n",
              "      padding: 0 0 0 0;\n",
              "      width: 32px;\n",
              "    }\n",
              "\n",
              "    .colab-df-convert:hover {\n",
              "      background-color: #E2EBFA;\n",
              "      box-shadow: 0px 1px 2px rgba(60, 64, 67, 0.3), 0px 1px 3px 1px rgba(60, 64, 67, 0.15);\n",
              "      fill: #174EA6;\n",
              "    }\n",
              "\n",
              "    [theme=dark] .colab-df-convert {\n",
              "      background-color: #3B4455;\n",
              "      fill: #D2E3FC;\n",
              "    }\n",
              "\n",
              "    [theme=dark] .colab-df-convert:hover {\n",
              "      background-color: #434B5C;\n",
              "      box-shadow: 0px 1px 3px 1px rgba(0, 0, 0, 0.15);\n",
              "      filter: drop-shadow(0px 1px 2px rgba(0, 0, 0, 0.3));\n",
              "      fill: #FFFFFF;\n",
              "    }\n",
              "  </style>\n",
              "\n",
              "      <script>\n",
              "        const buttonEl =\n",
              "          document.querySelector('#df-f3390fdc-5bd5-4972-8f25-d8b2472a7de3 button.colab-df-convert');\n",
              "        buttonEl.style.display =\n",
              "          google.colab.kernel.accessAllowed ? 'block' : 'none';\n",
              "\n",
              "        async function convertToInteractive(key) {\n",
              "          const element = document.querySelector('#df-f3390fdc-5bd5-4972-8f25-d8b2472a7de3');\n",
              "          const dataTable =\n",
              "            await google.colab.kernel.invokeFunction('convertToInteractive',\n",
              "                                                     [key], {});\n",
              "          if (!dataTable) return;\n",
              "\n",
              "          const docLinkHtml = 'Like what you see? Visit the ' +\n",
              "            '<a target=\"_blank\" href=https://colab.research.google.com/notebooks/data_table.ipynb>data table notebook</a>'\n",
              "            + ' to learn more about interactive tables.';\n",
              "          element.innerHTML = '';\n",
              "          dataTable['output_type'] = 'display_data';\n",
              "          await google.colab.output.renderOutput(dataTable, element);\n",
              "          const docLink = document.createElement('div');\n",
              "          docLink.innerHTML = docLinkHtml;\n",
              "          element.appendChild(docLink);\n",
              "        }\n",
              "      </script>\n",
              "    </div>\n",
              "  </div>\n",
              "  "
            ]
          },
          "metadata": {},
          "execution_count": 157
        }
      ]
    }
  ]
}