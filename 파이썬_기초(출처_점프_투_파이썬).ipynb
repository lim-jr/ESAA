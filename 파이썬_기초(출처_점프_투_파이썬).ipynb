{
 "cells": [
  {
   "cell_type": "markdown",
   "metadata": {
    "id": "fd1zwnm-j7B1"
   },
   "source": [
    "# **자료형**"
   ]
  },
  {
   "cell_type": "markdown",
   "metadata": {
    "id": "jUpWjtvlj9JV"
   },
   "source": [
    "##Q1. 다음 수의 평균을 구하세요.\n",
    "\n",
    "80, 75, 55, 95"
   ]
  },
  {
   "cell_type": "code",
   "execution_count": 39,
   "metadata": {},
   "outputs": [
    {
     "data": {
      "text/plain": [
       "76.25"
      ]
     },
     "execution_count": 39,
     "metadata": {},
     "output_type": "execute_result"
    }
   ],
   "source": [
    "num = [80, 75, 55, 95]\n",
    "sum(num)/len(num)"
   ]
  },
  {
   "cell_type": "code",
   "execution_count": 40,
   "metadata": {
    "id": "YcP79wQgj3bh"
   },
   "outputs": [
    {
     "data": {
      "text/plain": [
       "76.25"
      ]
     },
     "execution_count": 40,
     "metadata": {},
     "output_type": "execute_result"
    }
   ],
   "source": [
    "import numpy\n",
    "numpy.mean(num)"
   ]
  },
  {
   "cell_type": "markdown",
   "metadata": {},
   "source": [
    "for 반복문"
   ]
  },
  {
   "cell_type": "markdown",
   "metadata": {
    "id": "pHK3T87Zkcte"
   },
   "source": [
    "##Q2. 주민등록번호를 연월일(YYYYMMDD) 부분과 그 뒤의 숫자 부분으로 나누어 출력하세요.\n",
    "홍길동 씨의 주민등록번호는 881120-1068234이다."
   ]
  },
  {
   "cell_type": "code",
   "execution_count": 4,
   "metadata": {
    "id": "yZEM63Xok9xi"
   },
   "outputs": [
    {
     "name": "stdout",
     "output_type": "stream",
     "text": [
      "881120\n",
      "1068234\n"
     ]
    }
   ],
   "source": [
    "# 답을 작성해주세요\n",
    "id_Hong = \"881120-1068234\"\n",
    "print(id_Hong[0:6])\n",
    "print(id_Hong[7:])"
   ]
  },
  {
   "cell_type": "code",
   "execution_count": 5,
   "metadata": {},
   "outputs": [
    {
     "name": "stdout",
     "output_type": "stream",
     "text": [
      "881120\n",
      "1068234\n"
     ]
    }
   ],
   "source": [
    "# 답안 참고\n",
    "\n",
    "first = id_Hong[:6] # 슬라이스 처음부터할때는 0 생략 가능\n",
    "last = id_Hong[7:] # 슬라이스 끝까지 할때는 뒷값 생략 가능\n",
    "\n",
    "print(first)\n",
    "print(last)"
   ]
  },
  {
   "cell_type": "markdown",
   "metadata": {
    "id": "WojXUmuslVIS"
   },
   "source": [
    "##Q4. 주민등록번호에서 성별을 나타내는 숫자를 출력하세요.\n",
    "주민등록번호 뒷자리의 첫 번째 숫자는 성별을 나타낸다. "
   ]
  },
  {
   "cell_type": "code",
   "execution_count": 42,
   "metadata": {
    "id": "ZAhDqYOglqZ-"
   },
   "outputs": [
    {
     "name": "stdout",
     "output_type": "stream",
     "text": [
      "2\n"
     ]
    }
   ],
   "source": [
    "# 답을 작성해주세요\n",
    "id_pin = \"881120-2153468\"\n",
    "print(id_pin[7])"
   ]
  },
  {
   "cell_type": "markdown",
   "metadata": {
    "id": "lbWsPuOEl-y5"
   },
   "source": [
    "##Q5. [1, 3, 5, 4, 2] 리스트를 [5, 4, 3, 2, 1]로 정렬하세요"
   ]
  },
  {
   "cell_type": "code",
   "execution_count": 7,
   "metadata": {
    "id": "dI2gioTKmnVC"
   },
   "outputs": [
    {
     "data": {
      "text/plain": [
       "[5, 4, 3, 2, 1]"
      ]
     },
     "execution_count": 7,
     "metadata": {},
     "output_type": "execute_result"
    }
   ],
   "source": [
    "# 답을 작성해주세요\n",
    "rand_list = [1, 3, 5, 4, 2]\n",
    "rand_list.sort(reverse=True)\n",
    "rand_list"
   ]
  },
  {
   "cell_type": "code",
   "execution_count": 44,
   "metadata": {},
   "outputs": [
    {
     "data": {
      "text/plain": [
       "[5, 4, 3, 2, 1]"
      ]
     },
     "execution_count": 44,
     "metadata": {},
     "output_type": "execute_result"
    }
   ],
   "source": [
    "sorted(rand_list, reverse=True)"
   ]
  },
  {
   "cell_type": "code",
   "execution_count": 12,
   "metadata": {},
   "outputs": [
    {
     "data": {
      "text/plain": [
       "[5, 4, 3, 2, 1]"
      ]
     },
     "execution_count": 12,
     "metadata": {},
     "output_type": "execute_result"
    }
   ],
   "source": [
    "# 답안 참고\n",
    "rand_list = [1, 3, 5, 4, 2]\n",
    "rand_list.sort() # 오름차순\n",
    "rand_list.reverse() # 역순을 따로 처리\n",
    "rand_list"
   ]
  },
  {
   "cell_type": "markdown",
   "metadata": {
    "id": "us3I2cpem2bz"
   },
   "source": [
    "##Q7. 다음 리스트를 Life is too short 문자열로 만들어 출력하세요"
   ]
  },
  {
   "cell_type": "code",
   "execution_count": 13,
   "metadata": {
    "id": "G38tHstZnF5s"
   },
   "outputs": [
    {
     "name": "stdout",
     "output_type": "stream",
     "text": [
      "Life is too short "
     ]
    }
   ],
   "source": [
    "# 답을 작성해주세요\n",
    "string_list = ['Life', 'is', 'too', 'short'] \n",
    "\n",
    "for i in string_list :\n",
    "    print(i, end=\" \")"
   ]
  },
  {
   "cell_type": "code",
   "execution_count": 14,
   "metadata": {},
   "outputs": [
    {
     "name": "stdout",
     "output_type": "stream",
     "text": [
      "Life is too short\n"
     ]
    }
   ],
   "source": [
    "# 답안 참고\n",
    "\n",
    "result = \" \".join(string_list)\n",
    "print(result)"
   ]
  },
  {
   "cell_type": "markdown",
   "metadata": {},
   "source": [
    "* join 함수\n",
    "\"구분자\".join(list) \n",
    "리스트 내 요소를 문자열로 합쳐서 반환"
   ]
  },
  {
   "cell_type": "markdown",
   "metadata": {
    "id": "e4Bbr6rmdnph"
   },
   "source": [
    "# **제어문**"
   ]
  },
  {
   "cell_type": "markdown",
   "metadata": {
    "id": "sfAPtg9kd1kA"
   },
   "source": [
    "## Q1. 다음 코드의 결과는?\n",
    "```python\n",
    "a = \"Life is too short, you need python\"\n",
    "\n",
    "if \"wife\" in a: print(\"wife\")\n",
    "elif \"python\" in a and \"you\" not in a: print(\"python\")\n",
    "elif \"shirt\" not in a: print(\"shirt\")\n",
    "elif \"need\" in a: print(\"need\")\n",
    "else: print(\"none\")\n",
    "```"
   ]
  },
  {
   "cell_type": "markdown",
   "metadata": {
    "id": "sfAPtg9kd1kA"
   },
   "source": [
    "###연습\n",
    "\n",
    "a = \"Life is too short, you need python\"\n",
    "\n",
    "if \"wife\" in a: print(\"wife\")\n",
    "          f   : 출력x\n",
    "elif (\"python\" in a) and (\"you\" not in a) : print(\"python\")\n",
    "               t     and     f = f        : 출력x\n",
    "elif \"shirt\" not in a: print(\"shirt\")\n",
    "       t \n",
    "elif \"need\" in a: print(\"need\")\n",
    "        f\n",
    "else: print(\"none\")\n",
    "f\n",
    "```"
   ]
  },
  {
   "cell_type": "code",
   "execution_count": null,
   "metadata": {},
   "outputs": [],
   "source": [
    "# 답을 작성해주세요\n",
    "shirt"
   ]
  },
  {
   "cell_type": "code",
   "execution_count": 1,
   "metadata": {},
   "outputs": [
    {
     "name": "stdout",
     "output_type": "stream",
     "text": [
      "shirt\n"
     ]
    }
   ],
   "source": [
    "a = \"Life is too short, you need python\"\n",
    "\n",
    "if \"wife\" in a: print(\"wife\")\n",
    "elif \"python\" in a and \"you\" not in a: print(\"python\")\n",
    "elif \"shirt\" not in a: print(\"shirt\")\n",
    "elif \"need\" in a: print(\"need\")\n",
    "else: print(\"none\")"
   ]
  },
  {
   "cell_type": "markdown",
   "metadata": {
    "id": "E_lrf3dxeTM9"
   },
   "source": [
    "##Q2. while문을 사용해 1부터 1000까지의 자연수 중 3의 배수의 합을 구하세요"
   ]
  },
  {
   "cell_type": "code",
   "execution_count": 16,
   "metadata": {
    "id": "FnUBJZTCedgs"
   },
   "outputs": [
    {
     "name": "stdout",
     "output_type": "stream",
     "text": [
      "166833\n"
     ]
    }
   ],
   "source": [
    "# 답을 작성해주세요\n",
    "# 답안 참고\n",
    "\n",
    "result = 0\n",
    "i = 1\n",
    "# 변수 미리 정의\n",
    "\n",
    "while i <= 1000:\n",
    "    if i % 3 ==0 :\n",
    "        result += i\n",
    "    i += 1\n",
    "\n",
    "print(result)"
   ]
  },
  {
   "cell_type": "markdown",
   "metadata": {
    "id": "h4XcuXk7ei0B"
   },
   "source": [
    "## Q3. while문을 사용하여 다음과 같이 별(*)을 표시하는 프로그램을 작성하세요"
   ]
  },
  {
   "cell_type": "markdown",
   "metadata": {
    "id": "9vyyoqacDqys"
   },
   "source": [
    "![image.png](data:image/png;base64,iVBORw0KGgoAAAANSUhEUgAAAEMAAABbCAYAAAAoTziFAAABTklEQVR4nO3YsQ3DIBgFYZxNzP4zeRVcIV3hwkQYftB9bRrnRFD8jlJKSUoppfSb/QCRGAOMAcYAY0BzjJzzF88RgicDjrf/M55OxHVd3R9optcxqpzzdhGqpp9JDbHrvdF8MnbmBQrGAGOAMcAYYAwwBhgDjAHGAGNA13Fn9Rc4TwZ0GXd2GX66jjurDz/dxp0dhh/HHfACBWOAMcAYYAwwBhgDjAHGAGOAMWDYuLPCC5wnAz4fd5Yafkqj8zy7fxZFU4z6hZ6+2L+fReK4A16gYAwwBhgDjAHGAGOAMcAYYAwwBhgDQixdUVYwTwZMXbrCrWCtA8gXS1eU0Wf60hVpBXPpAi9QMAYYA4wBxgBjgDHAGGAMMAYYA8KPOyOHH08GhB13pgw/re/8o8edkTtH6HFn9PDjuANeoGAMMAYYA4wBxgBjgDHAGGAMuAEai18A1dsRSAAAAABJRU5ErkJggg==)"
   ]
  },
  {
   "cell_type": "code",
   "execution_count": 18,
   "metadata": {
    "id": "3Zu5X5vnfM1k"
   },
   "outputs": [
    {
     "name": "stdout",
     "output_type": "stream",
     "text": [
      "*\n",
      "**\n",
      "***\n",
      "****\n",
      "*****\n"
     ]
    }
   ],
   "source": [
    "# 답을 작성해주세요\n",
    "\n",
    "i = 1 \n",
    "\n",
    "while i <=5:\n",
    "    print(\"*\"*i)\n",
    "    i +=1"
   ]
  },
  {
   "cell_type": "code",
   "execution_count": 28,
   "metadata": {},
   "outputs": [
    {
     "name": "stdout",
     "output_type": "stream",
     "text": [
      "1\n",
      "2\n",
      "3\n",
      "4\n",
      "5\n"
     ]
    },
    {
     "data": {
      "text/plain": [
       "'\\ni = 0 \\ni = 0+1 = 1\\nif문에서 false \\ni 를 출력\\n\\ni = 1\\ni = 1+1 = 2\\nif문에서 false\\ni를 출력\\n.\\n.\\n.\\ni = 4\\ni = 4+1 = 5 \\nif문에서 false\\ni를 출력\\n\\ni = 5\\ni = 5+1 = 6\\nif문에서 true\\nif문에서 break\\n출력, 와일루프 모두 break\\n'"
      ]
     },
     "execution_count": 28,
     "metadata": {},
     "output_type": "execute_result"
    }
   ],
   "source": [
    "# 답안 참고\n",
    "\n",
    "i = 0\n",
    "while True:\n",
    "    i +=1\n",
    "    if i > 5: break\n",
    "    print(i)\n",
    "    \n",
    "'''\n",
    "i = 0 \n",
    "i = 0+1 = 1\n",
    "if문에서 false \n",
    "i 를 출력\n",
    "\n",
    "i = 1\n",
    "i = 1+1 = 2\n",
    "if문에서 false\n",
    "i를 출력\n",
    ".\n",
    ".\n",
    ".\n",
    "i = 4\n",
    "i = 4+1 = 5 \n",
    "if문에서 false\n",
    "i를 출력\n",
    "\n",
    "i = 5\n",
    "i = 5+1 = 6\n",
    "if문에서 true\n",
    "if문에서 break\n",
    "출력, 와일루프 모두 break\n",
    "'''"
   ]
  },
  {
   "cell_type": "markdown",
   "metadata": {
    "id": "uNTYJ3iQfO6c"
   },
   "source": [
    "## Q4. for문을 사용해 1부터 100까지의 숫자를 출력하세요"
   ]
  },
  {
   "cell_type": "code",
   "execution_count": 38,
   "metadata": {
    "id": "haJmxZDAfWJ4"
   },
   "outputs": [
    {
     "name": "stdout",
     "output_type": "stream",
     "text": [
      "1 2 3 4 5 6 7 8 9 10 11 12 13 14 15 16 17 18 19 20 21 22 23 24 25 26 27 28 29 30 31 32 33 34 35 36 37 38 39 40 41 42 43 44 45 46 47 48 49 50 51 52 53 54 55 56 57 58 59 60 61 62 63 64 65 66 67 68 69 70 71 72 73 74 75 76 77 78 79 80 81 82 83 84 85 86 87 88 89 90 91 92 93 94 95 96 97 98 99 100 \n",
      "\n",
      "[1, 2, 3, 4, 5, 6, 7, 8, 9, 10, 11, 12, 13, 14, 15, 16, 17, 18, 19, 20, 21, 22, 23, 24, 25, 26, 27, 28, 29, 30, 31, 32, 33, 34, 35, 36, 37, 38, 39, 40, 41, 42, 43, 44, 45, 46, 47, 48, 49, 50, 51, 52, 53, 54, 55, 56, 57, 58, 59, 60, 61, 62, 63, 64, 65, 66, 67, 68, 69, 70, 71, 72, 73, 74, 75, 76, 77, 78, 79, 80, 81, 82, 83, 84, 85, 86, 87, 88, 89, 90, 91, 92, 93, 94, 95, 96, 97, 98, 99, 100]\n"
     ]
    }
   ],
   "source": [
    "# 답을 작성해주세요\n",
    "\n",
    "# range(a)    0 ~ a-1\n",
    "# range(a, b) a ~ b-1\n",
    "\n",
    "for i in range(1,101):\n",
    "    print(i, end=\" \")\n",
    "    \n",
    "print(\"\\n\")\n",
    "    \n",
    "num = []\n",
    "for j in range(1, 101):\n",
    "    num.append(j)\n",
    "print(num)"
   ]
  },
  {
   "cell_type": "markdown",
   "metadata": {
    "id": "_qOXRe6CfYQP"
   },
   "source": [
    "##Q5. for문을 사용하여 평균을 구하세요.\n",
    "\n",
    "A 학급에 총 10명의 학생이 있다. 이 학생들의 중간고사 점수는 다음과 같다.\n",
    "\n",
    "[70, 60, 55, 75, 95, 90, 80, 80, 85, 100]"
   ]
  },
  {
   "cell_type": "code",
   "execution_count": 42,
   "metadata": {
    "id": "aSsOy9dNfXpJ"
   },
   "outputs": [
    {
     "name": "stdout",
     "output_type": "stream",
     "text": [
      "79.0\n"
     ]
    }
   ],
   "source": [
    "# 답을 작성해주세요\n",
    "\n",
    "score = [70, 60, 55, 75, 95, 90, 80, 80, 85, 100]\n",
    "total= 0 \n",
    "# total을 0으로 미리 정의해놓지 않으면\n",
    "# for문에서 더할 때 문자열로 인식해서 오류\n",
    "\n",
    "for i in score:\n",
    "    # total = sum(i)\n",
    "    # i 가 스코어 리스트에 하나씩 접근하면서 하나씩 더해지는건데\n",
    "    # sum함수는 적절치 않다.\n",
    "    total += i\n",
    "    length = len(score)\n",
    "print(total/length)"
   ]
  },
  {
   "cell_type": "markdown",
   "metadata": {
    "id": "65dpTuUffy73"
   },
   "source": [
    "##Q6. number list에서 홀수에만 2를 곱해 결과를 result에 저장한 후 출력하세요"
   ]
  },
  {
   "cell_type": "code",
   "execution_count": 46,
   "metadata": {
    "id": "vxEAtDQ2fyem"
   },
   "outputs": [
    {
     "name": "stdout",
     "output_type": "stream",
     "text": [
      "[2, 6, 10]\n"
     ]
    }
   ],
   "source": [
    "numbers = [1, 2, 3, 4, 5]\n",
    "result = []\n",
    "\n",
    "for i in numbers:\n",
    "    if i % 2 != 0:\n",
    "        result.append(i*2)\n",
    "print(result)"
   ]
  },
  {
   "cell_type": "markdown",
   "metadata": {
    "id": "2cqJNh90gaLm"
   },
   "source": [
    "# **함수와 입출력**"
   ]
  },
  {
   "cell_type": "markdown",
   "metadata": {
    "id": "SqFHUlJjgn6v"
   },
   "source": [
    "##Q1. 주어진 자연수가 홀수인지 짝수인지 판별하는 함수를 작성하세요"
   ]
  },
  {
   "cell_type": "code",
   "execution_count": 49,
   "metadata": {
    "id": "rWJTjYVWgZ5Z"
   },
   "outputs": [
    {
     "name": "stdout",
     "output_type": "stream",
     "text": [
      "홀수이다.\n"
     ]
    }
   ],
   "source": [
    "# 답을 작성해주세요\n",
    "def is_odd(a):\n",
    "    if a == 2 :\n",
    "        print(\"짝수이다.\")\n",
    "    else:\n",
    "        print(\"홀수이다.\")\n",
    "\n",
    "is_odd(9)"
   ]
  },
  {
   "cell_type": "markdown",
   "metadata": {
    "id": "8e3ezwkygx6a"
   },
   "source": [
    "## Q2. 입력으로 들어오는 모든 수의 평균을 계산해주는 함수를 작성하고 실행하세요\n",
    "(입력으로 들어오는 수의 개수는 랜덤입니다.)"
   ]
  },
  {
   "cell_type": "code",
   "execution_count": 62,
   "metadata": {
    "id": "tEQJxYVBhDSz"
   },
   "outputs": [
    {
     "data": {
      "text/plain": [
       "(tuple, 6, 3)"
      ]
     },
     "execution_count": 62,
     "metadata": {},
     "output_type": "execute_result"
    }
   ],
   "source": [
    "# 답을 작성해주세요\n",
    "\n",
    "def average_rand(*n):\n",
    "    return type(n), sum(n), len(n)\n",
    "\n",
    "average_rand(1, 2, 3)\n",
    "\n",
    "# 인수에 *추가하면 여러개의 인수 받을 수 있다.\n",
    "# 여러개의 인수 받으면 튜플로 인식"
   ]
  },
  {
   "cell_type": "code",
   "execution_count": 65,
   "metadata": {},
   "outputs": [
    {
     "data": {
      "text/plain": [
       "2.0"
      ]
     },
     "execution_count": 65,
     "metadata": {},
     "output_type": "execute_result"
    }
   ],
   "source": [
    "def average_rand(*n):\n",
    "    n_sum = sum(n)\n",
    "    n_len = len(n)\n",
    "    return n_sum/n_len\n",
    "\n",
    "average_rand(1,2,3)"
   ]
  },
  {
   "cell_type": "markdown",
   "metadata": {
    "id": "3xumzArZhC65"
   },
   "source": [
    "## Q3. 다음 프로그램의 오류를 수정하고 실행하세요"
   ]
  },
  {
   "cell_type": "code",
   "execution_count": 66,
   "metadata": {
    "colab": {
     "base_uri": "https://localhost:8080/"
    },
    "id": "RTPfNyQJhWfb",
    "outputId": "136252cc-74f9-4331-87fb-aa2ee8563271"
   },
   "outputs": [
    {
     "name": "stdout",
     "output_type": "stream",
     "text": [
      "첫번째 숫자를 입력하세요:1\n",
      "두번째 숫자를 입력하세요:2\n",
      "두 수의 합은 12 입니다\n"
     ]
    }
   ],
   "source": [
    "input1 = input(\"첫번째 숫자를 입력하세요:\")\n",
    "input2 = input(\"두번째 숫자를 입력하세요:\")\n",
    "\n",
    "total = input1 + input2\n",
    "print(\"두 수의 합은 %s 입니다\" % total)"
   ]
  },
  {
   "cell_type": "code",
   "execution_count": null,
   "metadata": {
    "id": "SiaUWWLGhgd9"
   },
   "outputs": [],
   "source": [
    "# 수정한 코드를 작성하고 실행하세요"
   ]
  },
  {
   "cell_type": "code",
   "execution_count": 67,
   "metadata": {
    "colab": {
     "base_uri": "https://localhost:8080/"
    },
    "id": "RTPfNyQJhWfb",
    "outputId": "136252cc-74f9-4331-87fb-aa2ee8563271"
   },
   "outputs": [
    {
     "name": "stdout",
     "output_type": "stream",
     "text": [
      "첫번째 숫자를 입력하세요:1\n",
      "두번째 숫자를 입력하세요:2\n",
      "두 수의 합은 3 입니다\n"
     ]
    }
   ],
   "source": [
    "input1 = input(\"첫번째 숫자를 입력하세요:\")\n",
    "input2 = input(\"두번째 숫자를 입력하세요:\")\n",
    "\n",
    "total = int(input1) + int(input2)\n",
    "print(\"두 수의 합은 %s 입니다\" % total)\n",
    "\n",
    "# 인풋함수로 받는 수도 문자열로 인식"
   ]
  },
  {
   "cell_type": "markdown",
   "metadata": {
    "id": "5jMWaYmLhf7S"
   },
   "source": [
    "## Q4. 다음 중 출력 결과가 다른 것 하나를 고르세요\n",
    "\n",
    "1. print(\"you\" \"need\" \"python\")\n",
    "2. print(\"you\"+\"need\"+\"python\")\n",
    "3. print(\"you\", \"need\", \"python\")\n",
    "4. print(\"\".join([\"you\", \"need\", \"python\"]))"
   ]
  },
  {
   "cell_type": "markdown",
   "metadata": {
    "id": "iYs2JHAnh92c"
   },
   "source": [
    "1. print(\"you\" \"need\" \"python\")\n",
    "    you\" \"need\" \"python\n",
    "2. print(\"you\"+\"need\"+\"python\")\n",
    "    youneedpython\n",
    "3. print(\"you\", \"need\", \"python\")\n",
    "    youneedpython\n",
    "4. print(\"\".join([\"you\", \"need\", \"python\"]))\n",
    "    youneedpython\n",
    "    \n",
    "1번이 결과가 다를 것이다. \n",
    "=> 틀"
   ]
  },
  {
   "cell_type": "code",
   "execution_count": 70,
   "metadata": {},
   "outputs": [
    {
     "name": "stdout",
     "output_type": "stream",
     "text": [
      "youneedpython\n",
      "youneedpython\n",
      "you need python\n",
      "youneedpython\n"
     ]
    }
   ],
   "source": [
    "print(\"you\" \"need\" \"python\")\n",
    "print(\"you\"+\"need\"+\"python\")\n",
    "print(\"you\", \"need\", \"python\") \n",
    "# 여러개 출력할 때 프린트 함수에서 콤마 있으면 자동으로 공백 출력\n",
    "print(\"\".join([\"you\", \"need\", \"python\"]))"
   ]
  }
 ],
 "metadata": {
  "colab": {
   "collapsed_sections": [],
   "provenance": []
  },
  "kernelspec": {
   "display_name": "Python 3 (ipykernel)",
   "language": "python",
   "name": "python3"
  },
  "language_info": {
   "codemirror_mode": {
    "name": "ipython",
    "version": 3
   },
   "file_extension": ".py",
   "mimetype": "text/x-python",
   "name": "python",
   "nbconvert_exporter": "python",
   "pygments_lexer": "ipython3",
   "version": "3.9.12"
  }
 },
 "nbformat": 4,
 "nbformat_minor": 1
}
