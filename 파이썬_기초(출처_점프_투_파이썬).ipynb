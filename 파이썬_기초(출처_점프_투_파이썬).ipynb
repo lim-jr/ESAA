{
 "cells": [
  {
   "cell_type": "markdown",
   "metadata": {
    "id": "fd1zwnm-j7B1"
   },
   "source": [
    "# **자료형**"
   ]
  },
  {
   "cell_type": "markdown",
   "metadata": {
    "id": "jUpWjtvlj9JV"
   },
   "source": [
    "##Q1. 다음 수의 평균을 구하세요.\n",
    "\n",
    "80, 75, 55, 95"
   ]
  },
  {
   "cell_type": "code",
   "execution_count": 39,
   "metadata": {},
   "outputs": [
    {
     "data": {
      "text/plain": [
       "76.25"
      ]
     },
     "execution_count": 39,
     "metadata": {},
     "output_type": "execute_result"
    }
   ],
   "source": [
    "num = [80, 75, 55, 95]\n",
    "sum(num)/len(num)"
   ]
  },
  {
   "cell_type": "code",
   "execution_count": 40,
   "metadata": {
    "id": "YcP79wQgj3bh"
   },
   "outputs": [
    {
     "data": {
      "text/plain": [
       "76.25"
      ]
     },
     "execution_count": 40,
     "metadata": {},
     "output_type": "execute_result"
    }
   ],
   "source": [
    "import numpy\n",
    "numpy.mean(num)"
   ]
  },
  {
   "cell_type": "markdown",
   "metadata": {},
   "source": [
    "for 반복문"
   ]
  },
  {
   "cell_type": "markdown",
   "metadata": {
    "id": "pHK3T87Zkcte"
   },
   "source": [
    "##Q2. 주민등록번호를 연월일(YYYYMMDD) 부분과 그 뒤의 숫자 부분으로 나누어 출력하세요.\n",
    "홍길동 씨의 주민등록번호는 881120-1068234이다."
   ]
  },
  {
   "cell_type": "code",
   "execution_count": 41,
   "metadata": {
    "id": "yZEM63Xok9xi"
   },
   "outputs": [
    {
     "name": "stdout",
     "output_type": "stream",
     "text": [
      "881120\n",
      "1068234\n"
     ]
    }
   ],
   "source": [
    "# 답을 작성해주세요\n",
    "id_Hong = \"881120-1068234\"\n",
    "print(id_Hong[0:6])\n",
    "print(id_Hong[7:])"
   ]
  },
  {
   "cell_type": "markdown",
   "metadata": {
    "id": "WojXUmuslVIS"
   },
   "source": [
    "##Q4. 주민등록번호에서 성별을 나타내는 숫자를 출력하세요.\n",
    "주민등록번호 뒷자리의 첫 번째 숫자는 성별을 나타낸다. "
   ]
  },
  {
   "cell_type": "code",
   "execution_count": 42,
   "metadata": {
    "id": "ZAhDqYOglqZ-"
   },
   "outputs": [
    {
     "name": "stdout",
     "output_type": "stream",
     "text": [
      "2\n"
     ]
    }
   ],
   "source": [
    "# 답을 작성해주세요\n",
    "id_pin = \"881120-2153468\"\n",
    "print(id_pin[7])"
   ]
  },
  {
   "cell_type": "markdown",
   "metadata": {},
   "source": [
    "글자 추출하는 함수?"
   ]
  },
  {
   "cell_type": "markdown",
   "metadata": {
    "id": "lbWsPuOEl-y5"
   },
   "source": [
    "##Q5. [1, 3, 5, 4, 2] 리스트를 [5, 4, 3, 2, 1]로 정렬하세요"
   ]
  },
  {
   "cell_type": "code",
   "execution_count": 43,
   "metadata": {
    "id": "dI2gioTKmnVC"
   },
   "outputs": [
    {
     "data": {
      "text/plain": [
       "[5, 4, 3, 2, 1]"
      ]
     },
     "execution_count": 43,
     "metadata": {},
     "output_type": "execute_result"
    }
   ],
   "source": [
    "# 답을 작성해주세요\n",
    "rand_list = [1, 3, 5, 4, 2]\n",
    "rand_list.sort(reverse=True)\n",
    "rand_list"
   ]
  },
  {
   "cell_type": "code",
   "execution_count": 44,
   "metadata": {},
   "outputs": [
    {
     "data": {
      "text/plain": [
       "[5, 4, 3, 2, 1]"
      ]
     },
     "execution_count": 44,
     "metadata": {},
     "output_type": "execute_result"
    }
   ],
   "source": [
    "sorted(rand_list, reverse=True)"
   ]
  },
  {
   "cell_type": "markdown",
   "metadata": {
    "id": "us3I2cpem2bz"
   },
   "source": [
    "##Q7. 다음 리스트를 Life is too short 문자열로 만들어 출력하세요"
   ]
  },
  {
   "cell_type": "code",
   "execution_count": 45,
   "metadata": {
    "id": "G38tHstZnF5s"
   },
   "outputs": [
    {
     "name": "stdout",
     "output_type": "stream",
     "text": [
      "Life is too short "
     ]
    }
   ],
   "source": [
    "# 답을 작성해주세요\n",
    "string_list = ['Life', 'is', 'too', 'short'] \n",
    "\n",
    "for i in string_list :\n",
    "    print(i, end=\" \")"
   ]
  },
  {
   "cell_type": "markdown",
   "metadata": {
    "id": "e4Bbr6rmdnph"
   },
   "source": [
    "# **제어문**"
   ]
  },
  {
   "cell_type": "markdown",
   "metadata": {
    "id": "sfAPtg9kd1kA"
   },
   "source": [
    "## Q1. 다음 코드의 결과는?\n",
    "```python\n",
    "a = \"Life is too short, you need python\"\n",
    "\n",
    "if \"wife\" in a: print(\"wife\")\n",
    "elif \"python\" in a and \"you\" not in a: print(\"python\")\n",
    "elif \"shirt\" not in a: print(\"shirt\")\n",
    "elif \"need\" in a: print(\"need\")\n",
    "else: print(\"none\")\n",
    "```"
   ]
  },
  {
   "cell_type": "markdown",
   "metadata": {
    "id": "sfAPtg9kd1kA"
   },
   "source": [
    "\n",
    "a = \"Life is too short, you need python\"\n",
    "\n",
    "if \"wife\" in a: print(\"wife\")\n",
    "          f   : 출력x\n",
    "elif (\"python\" in a) and (\"you\" not in a) : print(\"python\")\n",
    "               t     and     f = f        : 출력x\n",
    "elif \"shirt\" not in a: print(\"shirt\")\n",
    "       t \n",
    "elif \"need\" in a: print(\"need\")\n",
    "        f\n",
    "else: print(\"none\")\n",
    "f\n",
    "```"
   ]
  },
  {
   "cell_type": "code",
   "execution_count": 46,
   "metadata": {
    "id": "coCD7rBhdgA4"
   },
   "outputs": [
    {
     "ename": "SyntaxError",
     "evalue": "invalid syntax (2272726077.py, line 2)",
     "output_type": "error",
     "traceback": [
      "\u001b[1;36m  Input \u001b[1;32mIn [46]\u001b[1;36m\u001b[0m\n\u001b[1;33m    wife shirt\u001b[0m\n\u001b[1;37m         ^\u001b[0m\n\u001b[1;31mSyntaxError\u001b[0m\u001b[1;31m:\u001b[0m invalid syntax\n"
     ]
    }
   ],
   "source": [
    "# 답을 작성해주세요\n",
    "wife shirt"
   ]
  },
  {
   "cell_type": "code",
   "execution_count": null,
   "metadata": {},
   "outputs": [],
   "source": [
    "a = \"Life is too short, you need python\"\n",
    "\n",
    "if \"wife\" in a: print(\"wife\")\n",
    "elif \"python\" in a and \"you\" not in a: print(\"python\")\n",
    "elif \"shirt\" not in a: print(\"shirt\")\n",
    "elif \"need\" in a: print(\"need\")\n",
    "else: print(\"none\")"
   ]
  },
  {
   "cell_type": "markdown",
   "metadata": {
    "id": "E_lrf3dxeTM9"
   },
   "source": [
    "##Q2. while문을 사용해 1부터 1000까지의 자연수 중 3의 배수의 합을 구하세요"
   ]
  },
  {
   "cell_type": "code",
   "execution_count": null,
   "metadata": {
    "id": "FnUBJZTCedgs"
   },
   "outputs": [],
   "source": [
    "# 답을 작성해주세요"
   ]
  },
  {
   "cell_type": "markdown",
   "metadata": {
    "id": "h4XcuXk7ei0B"
   },
   "source": [
    "## Q3. while문을 사용하여 다음과 같이 별(*)을 표시하는 프로그램을 작성하세요"
   ]
  },
  {
   "cell_type": "markdown",
   "metadata": {
    "id": "9vyyoqacDqys"
   },
   "source": [
    "![image.png](data:image/png;base64,iVBORw0KGgoAAAANSUhEUgAAAEMAAABbCAYAAAAoTziFAAABTklEQVR4nO3YsQ3DIBgFYZxNzP4zeRVcIV3hwkQYftB9bRrnRFD8jlJKSUoppfSb/QCRGAOMAcYAY0BzjJzzF88RgicDjrf/M55OxHVd3R9optcxqpzzdhGqpp9JDbHrvdF8MnbmBQrGAGOAMcAYYAwwBhgDjAHGAGNA13Fn9Rc4TwZ0GXd2GX66jjurDz/dxp0dhh/HHfACBWOAMcAYYAwwBhgDjAHGAGOAMWDYuLPCC5wnAz4fd5Yafkqj8zy7fxZFU4z6hZ6+2L+fReK4A16gYAwwBhgDjAHGAGOAMcAYYAwwBhgDQixdUVYwTwZMXbrCrWCtA8gXS1eU0Wf60hVpBXPpAi9QMAYYA4wBxgBjgDHAGGAMMAYYA8KPOyOHH08GhB13pgw/re/8o8edkTtH6HFn9PDjuANeoGAMMAYYA4wBxgBjgDHAGGAMuAEai18A1dsRSAAAAABJRU5ErkJggg==)"
   ]
  },
  {
   "cell_type": "code",
   "execution_count": null,
   "metadata": {
    "id": "3Zu5X5vnfM1k"
   },
   "outputs": [],
   "source": [
    "# 답을 작성해주세요\n",
    "while (i < 6) :\n",
    "    print(\"*\" * i)"
   ]
  },
  {
   "cell_type": "markdown",
   "metadata": {
    "id": "uNTYJ3iQfO6c"
   },
   "source": [
    "## Q4. for문을 사용해 1부터 100까지의 숫자를 출력하세요"
   ]
  },
  {
   "cell_type": "code",
   "execution_count": null,
   "metadata": {
    "id": "haJmxZDAfWJ4"
   },
   "outputs": [],
   "source": [
    "# 답을 작성해주세요\n"
   ]
  },
  {
   "cell_type": "markdown",
   "metadata": {
    "id": "_qOXRe6CfYQP"
   },
   "source": [
    "##Q5. for문을 사용하여 평균을 구하세요.\n",
    "\n",
    "A 학급에 총 10명의 학생이 있다. 이 학생들의 중간고사 점수는 다음과 같다.\n",
    "\n",
    "[70, 60, 55, 75, 95, 90, 80, 80, 85, 100]"
   ]
  },
  {
   "cell_type": "code",
   "execution_count": null,
   "metadata": {
    "id": "aSsOy9dNfXpJ"
   },
   "outputs": [],
   "source": [
    "# 답을 작성해주세요\n"
   ]
  },
  {
   "cell_type": "markdown",
   "metadata": {
    "id": "65dpTuUffy73"
   },
   "source": [
    "##Q6. number list에서 홀수에만 2를 곱해 결과를 result에 저장한 후 출력하세요"
   ]
  },
  {
   "cell_type": "code",
   "execution_count": null,
   "metadata": {
    "id": "vxEAtDQ2fyem"
   },
   "outputs": [],
   "source": [
    "numbers = [1, 2, 3, 4, 5]\n",
    "result = []"
   ]
  },
  {
   "cell_type": "markdown",
   "metadata": {
    "id": "2cqJNh90gaLm"
   },
   "source": [
    "# **함수와 입출력**"
   ]
  },
  {
   "cell_type": "markdown",
   "metadata": {
    "id": "SqFHUlJjgn6v"
   },
   "source": [
    "##Q1. 주어진 자연수가 홀수인지 짝수인지 판별하는 함수를 작성하세요"
   ]
  },
  {
   "cell_type": "code",
   "execution_count": null,
   "metadata": {
    "id": "rWJTjYVWgZ5Z"
   },
   "outputs": [],
   "source": [
    "# 답을 작성해주세요\n",
    "def is_odd(a):\n",
    "    if a % 2 ==0:\n",
    "        print(\"짝\")\n",
    "    else "
   ]
  },
  {
   "cell_type": "markdown",
   "metadata": {
    "id": "8e3ezwkygx6a"
   },
   "source": [
    "## Q2. 입력으로 들어오는 모든 수의 평균을 계산해주는 함수를 작성하고 실행하세요\n",
    "(입력으로 들어오는 수의 개수는 랜덤입니다.)"
   ]
  },
  {
   "cell_type": "code",
   "execution_count": 62,
   "metadata": {
    "id": "tEQJxYVBhDSz"
   },
   "outputs": [
    {
     "name": "stdout",
     "output_type": "stream",
     "text": [
      "리스트로 작성해라123\n"
     ]
    },
    {
     "ename": "TypeError",
     "evalue": "int() argument must be a string, a bytes-like object or a number, not 'tuple'",
     "output_type": "error",
     "traceback": [
      "\u001b[1;31m---------------------------------------------------------------------------\u001b[0m",
      "\u001b[1;31mTypeError\u001b[0m                                 Traceback (most recent call last)",
      "Input \u001b[1;32mIn [62]\u001b[0m, in \u001b[0;36m<cell line: 10>\u001b[1;34m()\u001b[0m\n\u001b[0;32m      7\u001b[0m     n_len \u001b[38;5;241m=\u001b[39m \u001b[38;5;28mlen\u001b[39m(n_list)\n\u001b[0;32m      8\u001b[0m     \u001b[38;5;28;01mreturn\u001b[39;00m n_sum\u001b[38;5;241m/\u001b[39mn_len\n\u001b[1;32m---> 10\u001b[0m \u001b[43maverage_rand\u001b[49m\u001b[43m(\u001b[49m\u001b[43mn\u001b[49m\u001b[43m)\u001b[49m\n",
      "Input \u001b[1;32mIn [62]\u001b[0m, in \u001b[0;36maverage_rand\u001b[1;34m(*n)\u001b[0m\n\u001b[0;32m      4\u001b[0m \u001b[38;5;28;01mdef\u001b[39;00m \u001b[38;5;21maverage_rand\u001b[39m(\u001b[38;5;241m*\u001b[39mn):\n\u001b[1;32m----> 5\u001b[0m     n_list \u001b[38;5;241m=\u001b[39m \u001b[38;5;28mlist\u001b[39m(\u001b[38;5;28;43mint\u001b[39;49m\u001b[43m(\u001b[49m\u001b[43mn\u001b[49m\u001b[43m)\u001b[49m)\n\u001b[0;32m      6\u001b[0m     n_sum \u001b[38;5;241m=\u001b[39m \u001b[38;5;28msum\u001b[39m(n_list)\n\u001b[0;32m      7\u001b[0m     n_len \u001b[38;5;241m=\u001b[39m \u001b[38;5;28mlen\u001b[39m(n_list)\n",
      "\u001b[1;31mTypeError\u001b[0m: int() argument must be a string, a bytes-like object or a number, not 'tuple'"
     ]
    }
   ],
   "source": [
    "# 답을 작성해주세요\n",
    "n=input(\"리스트로 작성해라\")\n",
    "\n",
    "def average_rand(*n):\n",
    "    n_list = list(int(n))\n",
    "    n_sum = sum(n_list)\n",
    "    n_len = len(n_list)\n",
    "    return n_sum/n_len\n",
    "\n",
    "average_rand(n)\n",
    "\n"
   ]
  },
  {
   "cell_type": "code",
   "execution_count": 63,
   "metadata": {},
   "outputs": [
    {
     "ename": "NameError",
     "evalue": "name 'n_list' is not defined",
     "output_type": "error",
     "traceback": [
      "\u001b[1;31m---------------------------------------------------------------------------\u001b[0m",
      "\u001b[1;31mNameError\u001b[0m                                 Traceback (most recent call last)",
      "Input \u001b[1;32mIn [63]\u001b[0m, in \u001b[0;36m<cell line: 11>\u001b[1;34m()\u001b[0m\n\u001b[0;32m      8\u001b[0m         \u001b[38;5;28msum\u001b[39m\u001b[38;5;241m+\u001b[39m\u001b[38;5;241m=\u001b[39mi\n\u001b[0;32m      9\u001b[0m     \u001b[38;5;28;01mreturn\u001b[39;00m \u001b[38;5;28msum\u001b[39m\u001b[38;5;241m/\u001b[39m\u001b[38;5;28mlen\u001b[39m(n)\n\u001b[1;32m---> 11\u001b[0m \u001b[43maverage_rand\u001b[49m\u001b[43m(\u001b[49m\u001b[38;5;241;43m1\u001b[39;49m\u001b[43m,\u001b[49m\u001b[38;5;241;43m2\u001b[39;49m\u001b[43m,\u001b[49m\u001b[38;5;241;43m3\u001b[39;49m\u001b[43m)\u001b[49m\n",
      "Input \u001b[1;32mIn [63]\u001b[0m, in \u001b[0;36maverage_rand\u001b[1;34m(*n)\u001b[0m\n\u001b[0;32m      1\u001b[0m \u001b[38;5;28;01mdef\u001b[39;00m \u001b[38;5;21maverage_rand\u001b[39m(\u001b[38;5;241m*\u001b[39mn):\n\u001b[1;32m----> 2\u001b[0m     n_sum \u001b[38;5;241m=\u001b[39m \u001b[38;5;28msum\u001b[39m(\u001b[43mn_list\u001b[49m)\n\u001b[0;32m      3\u001b[0m     n_len \u001b[38;5;241m=\u001b[39m \u001b[38;5;28mlen\u001b[39m(n_list)\n\u001b[0;32m      4\u001b[0m     \u001b[38;5;28;01mreturn\u001b[39;00m n_sum\u001b[38;5;241m/\u001b[39mn_len\n",
      "\u001b[1;31mNameError\u001b[0m: name 'n_list' is not defined"
     ]
    }
   ],
   "source": [
    "def average_rand(*n):\n",
    "    n_sum = sum(n_list)\n",
    "    n_len = len(n_list)\n",
    "    return n_sum/n_len\n",
    "\n",
    "def avrage_rand(*n):\n",
    "    for i inb n:\n",
    "        sum+=i\n",
    "    return sum/len(n)\n",
    "\n",
    "average_rand(1,2,3)"
   ]
  },
  {
   "cell_type": "code",
   "execution_count": 66,
   "metadata": {},
   "outputs": [
    {
     "ename": "UnboundLocalError",
     "evalue": "local variable 'sum' referenced before assignment",
     "output_type": "error",
     "traceback": [
      "\u001b[1;31m---------------------------------------------------------------------------\u001b[0m",
      "\u001b[1;31mUnboundLocalError\u001b[0m                         Traceback (most recent call last)",
      "Input \u001b[1;32mIn [66]\u001b[0m, in \u001b[0;36m<cell line: 6>\u001b[1;34m()\u001b[0m\n\u001b[0;32m      3\u001b[0m         \u001b[38;5;28msum\u001b[39m\u001b[38;5;241m+\u001b[39m\u001b[38;5;241m=\u001b[39mi\n\u001b[0;32m      4\u001b[0m     \u001b[38;5;28;01mreturn\u001b[39;00m \u001b[38;5;28msum\u001b[39m\u001b[38;5;241m/\u001b[39m\u001b[38;5;28mlen\u001b[39m(n)\n\u001b[1;32m----> 6\u001b[0m \u001b[43mavrage_rand\u001b[49m\u001b[43m(\u001b[49m\u001b[38;5;241;43m1\u001b[39;49m\u001b[43m,\u001b[49m\u001b[38;5;241;43m2\u001b[39;49m\u001b[43m,\u001b[49m\u001b[38;5;241;43m3\u001b[39;49m\u001b[43m)\u001b[49m\n",
      "Input \u001b[1;32mIn [66]\u001b[0m, in \u001b[0;36mavrage_rand\u001b[1;34m(*n)\u001b[0m\n\u001b[0;32m      1\u001b[0m \u001b[38;5;28;01mdef\u001b[39;00m \u001b[38;5;21mavrage_rand\u001b[39m(\u001b[38;5;241m*\u001b[39mn):\n\u001b[0;32m      2\u001b[0m     \u001b[38;5;28;01mfor\u001b[39;00m i \u001b[38;5;129;01min\u001b[39;00m n:\n\u001b[1;32m----> 3\u001b[0m         \u001b[38;5;28msum\u001b[39m\u001b[38;5;241m+\u001b[39m\u001b[38;5;241m=\u001b[39mi\n\u001b[0;32m      4\u001b[0m     \u001b[38;5;28;01mreturn\u001b[39;00m \u001b[38;5;28msum\u001b[39m\u001b[38;5;241m/\u001b[39m\u001b[38;5;28mlen\u001b[39m(n)\n",
      "\u001b[1;31mUnboundLocalError\u001b[0m: local variable 'sum' referenced before assignment"
     ]
    }
   ],
   "source": [
    "def avrage_rand(*n):\n",
    "    for i in n:\n",
    "        sum+=i\n",
    "    return sum/len(n)\n",
    "\n",
    "avrage_rand(1,2,3)"
   ]
  },
  {
   "cell_type": "code",
   "execution_count": 47,
   "metadata": {},
   "outputs": [
    {
     "name": "stdout",
     "output_type": "stream",
     "text": [
      "리스트로 작성해라[1,2,3,4,5]\n"
     ]
    }
   ],
   "source": [
    "n=input(\"리스트로 작성해라\")"
   ]
  },
  {
   "cell_type": "markdown",
   "metadata": {
    "id": "3xumzArZhC65"
   },
   "source": [
    "## Q3. 다음 프로그램의 오류를 수정하고 실행하세요"
   ]
  },
  {
   "cell_type": "code",
   "execution_count": null,
   "metadata": {
    "colab": {
     "base_uri": "https://localhost:8080/"
    },
    "id": "RTPfNyQJhWfb",
    "outputId": "136252cc-74f9-4331-87fb-aa2ee8563271"
   },
   "outputs": [],
   "source": [
    "input1 = input(\"첫번째 숫자를 입력하세요:\")\n",
    "input2 = input(\"두번째 숫자를 입력하세요:\")\n",
    "\n",
    "total = input1 + input2\n",
    "print(\"두 수의 합은 %s 입니다\" % total)"
   ]
  },
  {
   "cell_type": "code",
   "execution_count": null,
   "metadata": {
    "id": "SiaUWWLGhgd9"
   },
   "outputs": [],
   "source": [
    "# 수정한 코드를 작성하고 실행하세요"
   ]
  },
  {
   "cell_type": "markdown",
   "metadata": {
    "id": "5jMWaYmLhf7S"
   },
   "source": [
    "## Q4. 다음 중 출력 결과가 다른 것 하나를 고르세요\n",
    "\n",
    "1. print(\"you\" \"need\" \"python\")\n",
    "2. print(\"you\"+\"need\"+\"python\")\n",
    "3. print(\"you\", \"need\", \"python\")\n",
    "4. print(\"\".join([\"you\", \"need\", \"python\"]))"
   ]
  },
  {
   "cell_type": "code",
   "execution_count": null,
   "metadata": {
    "id": "iYs2JHAnh92c"
   },
   "outputs": [],
   "source": [
    "# 답을 작성해주세요"
   ]
  },
  {
   "cell_type": "code",
   "execution_count": null,
   "metadata": {},
   "outputs": [],
   "source": []
  }
 ],
 "metadata": {
  "colab": {
   "collapsed_sections": [],
   "provenance": []
  },
  "kernelspec": {
   "display_name": "Python 3 (ipykernel)",
   "language": "python",
   "name": "python3"
  },
  "language_info": {
   "codemirror_mode": {
    "name": "ipython",
    "version": 3
   },
   "file_extension": ".py",
   "mimetype": "text/x-python",
   "name": "python",
   "nbconvert_exporter": "python",
   "pygments_lexer": "ipython3",
   "version": "3.9.12"
  }
 },
 "nbformat": 4,
 "nbformat_minor": 1
}
