{
  "nbformat": 4,
  "nbformat_minor": 0,
  "metadata": {
    "colab": {
      "provenance": [],
      "collapsed_sections": [],
      "authorship_tag": "ABX9TyO2oRCuue0SMTshsMN27AGq",
      "include_colab_link": true
    },
    "kernelspec": {
      "name": "python3",
      "display_name": "Python 3"
    },
    "language_info": {
      "name": "python"
    }
  },
  "cells": [
    {
      "cell_type": "markdown",
      "metadata": {
        "id": "view-in-github",
        "colab_type": "text"
      },
      "source": [
        "<a href=\"https://colab.research.google.com/github/lim-jr/ESAA/blob/main/1114%EC%9B%94%EA%B3%BC%EC%A0%9C_%EB%A8%B8%EC%8B%A0%EB%9F%AC%EB%8B%9D_%EC%99%84%EB%B2%BD%EA%B0%80%EC%9D%B4%EB%93%9C(227~251%2C_278~289).ipynb\" target=\"_parent\"><img src=\"https://colab.research.google.com/assets/colab-badge.svg\" alt=\"Open In Colab\"/></a>"
      ]
    },
    {
      "cell_type": "markdown",
      "source": [
        "# 06 XGBoost (eXtra Gradient Boost)"
      ],
      "metadata": {
        "id": "IftF31emt2Pm"
      }
    },
    {
      "cell_type": "markdown",
      "source": [
        "## 1. XGBoost 개요"
      ],
      "metadata": {
        "id": "QoT42zBVt2U7"
      }
    },
    {
      "cell_type": "markdown",
      "source": [
        "* XGBoost는 트리기반의 앙상블 학습에서 가장 각광받고 있는 알고리즘 중 하나  \n",
        "* XGBoost는 GBM에 기반하지만, GBM의 단점인 느린 수행시간, 과적합 규제 부재 등의 문제를 해결\n",
        "* XGBoost는 뛰어난 예측성능, 빠른수행시간, 과적합규제, 나무가지치기, 자체내장된 교체검증이 장점이다."
      ],
      "metadata": {
        "id": "tIlaOa7lCV_G"
      }
    },
    {
      "cell_type": "markdown",
      "source": [
        "1) 파이썬 래퍼 XGBoost 모듈   \n",
        "  - 파이썬 패키지는 초기 출시 당시 사이킷런과 호환되지 않는 독자적 XGBoost 전용의 패키지\n",
        "  - 사이킷런 프레임워크를 기반으로 한 것이 아니고 XGBoost 고유의 프레임워크를 기반으로 한 것이기 때문에, 사이킷런의 fit(), predict() 메서드와 같은 사이킷런 고유의 아키텍처가 적용될 수 없음\n",
        "\n",
        "2) 사이킷런 래퍼 XGBoost 모듈 \n",
        "  - 파이썬 기반의 이용자들이 사이킷런을 많이 사용하고 있기 때문에, 사이킷런과 연동할 수 있는 래퍼 클래스를 제공\n",
        "  - 이를 이요하면 사이킷런 고유의 아키텍처 적용할 수 있음\n",
        "  "
      ],
      "metadata": {
        "id": "vQ4aT40aFQpQ"
      }
    },
    {
      "cell_type": "markdown",
      "source": [
        "## 2. XGBoost 설치"
      ],
      "metadata": {
        "id": "_EocTyAyt2Zf"
      }
    },
    {
      "cell_type": "code",
      "source": [
        "import xgboost as xgb\n",
        "from xgboost import XGBClassifier"
      ],
      "metadata": {
        "id": "nswwSiogDRgQ"
      },
      "execution_count": 1,
      "outputs": []
    },
    {
      "cell_type": "markdown",
      "source": [
        "## 3. 파이썬 래퍼 XGBoost 하이퍼 파라미터\n",
        "\n",
        "  * 파이썬 래퍼와 사이킷런 래퍼의 파라미터명이 다르다.\n",
        "  * 먼저 파이썬 래퍼 XGBoost의 하이퍼 파라미터를 알아보고 나서  \n",
        "    사이킷런 래퍼 XGBoost 하이퍼 파라미터가 어떻게 다른지 알아보자.\n",
        "\n"
      ],
      "metadata": {
        "id": "VyOqdWXVt2gp"
      }
    },
    {
      "cell_type": "markdown",
      "source": [
        "* 일반 파라미터 : 일반적으로 실행시, 스레드의 개수 or silent 모드 등의 선택을 위한 파라미터. 디폴트 값을 바꾸는 경우는 거의x  \n",
        "  1) booster  : gbtree(tree based model) or gblinear(linear model) 선택, 디폴트는 gbtree  \n",
        "  2) silent : 디폴트는 0, 출력메시지를 나타내고 싶지 않을 경우 1  \n",
        "  3) nthread : CPU의 실행 스레드 개수 조정, 디폴트는  CPU의 전체 스레드를 다 사용 \n",
        "* 부스터 파라미터 : 트리 최적화, 부스팅, regularization 등과 관련 파라미터를 지칭  \n",
        "  1) eta : GBM의 학습률과 같은 파라미터, 0과1사이, 부스팅 스텝을 반복적으로 수행할 때 업데이트되는 학습률 값,  \n",
        "  파이썬래퍼에서 디폴트는 0.3  \n",
        "  2) num_boost_rounds : GBM의 n_estimatos와 같은 파라미터  \n",
        "  3) min_child_weight : 트리에서 추가적으로 가지를 나눌지를 결정하기 위해  필요한 데이터들의 weight들의 총합.  \n",
        "  이 값이 클수록 분할을 자제. 과적합 조절 위함  \n",
        "  3) gamma : 트리의 리프노드를 추가적으로 나눌지를 결정하는 최소손실감소값.  해당 값보다 큰 손실이 감소된 경우에 리프노프를 분리.  \n",
        "   값이 클수록 과적합   감소 효과가 있다. 디폴트0  \n",
        "  4) max_depth : 트리 기반의 알고리즘의 max_depth와 같다. 이 값이 높으면 특정 피처 조건에 특화되어 룰조건이 만들어지므로, 과적합 가능성이 높아지며 보통은 3~10. 디폴트는 6  \n",
        "  ...\n",
        "* 학습 태스크 파라미터 : 학습 수행시의 객체함수, 평가를 위한 지표 등을 설정하는 파라미터를 지칭  \n",
        "  1) ,,,,"
      ],
      "metadata": {
        "id": "Nxy4apBUKNSm"
      }
    },
    {
      "cell_type": "code",
      "source": [],
      "metadata": {
        "id": "RY1F_yeiFO9D"
      },
      "execution_count": null,
      "outputs": []
    },
    {
      "cell_type": "code",
      "source": [],
      "metadata": {
        "id": "C07Z5ZUEFPAg"
      },
      "execution_count": null,
      "outputs": []
    },
    {
      "cell_type": "markdown",
      "source": [
        "## 4. 파이썬 래퍼 XGBoost 적용 \n",
        "  - 위스콘신 유방암 예측"
      ],
      "metadata": {
        "id": "pWyjSTdlt2jb"
      }
    },
    {
      "cell_type": "markdown",
      "source": [
        "## 5. 사이킷런 래퍼 XGBoost 개요 및 적용"
      ],
      "metadata": {
        "id": "58ExxclFt2ly"
      }
    },
    {
      "cell_type": "markdown",
      "source": [
        "# 07 LightGBM"
      ],
      "metadata": {
        "id": "GS6qJOR1t2oE"
      }
    },
    {
      "cell_type": "markdown",
      "source": [
        "## 1. LightGBM 개요"
      ],
      "metadata": {
        "id": "1We35GdMt2q9"
      }
    },
    {
      "cell_type": "markdown",
      "source": [
        "## 2. LightGBM 설치"
      ],
      "metadata": {
        "id": "5Toj94fzt2uN"
      }
    },
    {
      "cell_type": "markdown",
      "source": [
        "## 3. LightGBM 하이퍼 파라미터"
      ],
      "metadata": {
        "id": "xF47DeEhuhYE"
      }
    },
    {
      "cell_type": "markdown",
      "source": [
        "## 4. 하이퍼 파라미터 튜닝방안"
      ],
      "metadata": {
        "id": "uWxZ27DJuhbC"
      }
    },
    {
      "cell_type": "markdown",
      "source": [
        "## 5. 파이썬 래퍼 LightGBM과 사이킷런 래퍼 XGBoost와 LightGBM 하이퍼 파라미터 비교"
      ],
      "metadata": {
        "id": "nNI6QHDfuhdP"
      }
    },
    {
      "cell_type": "markdown",
      "source": [
        "## 6. LightGBM 적용 \n",
        "  * 위스콘신 유방암 예측\n",
        "  "
      ],
      "metadata": {
        "id": "63i6Bsb_uhhM"
      }
    },
    {
      "cell_type": "markdown",
      "source": [
        "# 10 스태킹 앙상블"
      ],
      "metadata": {
        "id": "7k0_F5ZqvIKA"
      }
    },
    {
      "cell_type": "markdown",
      "source": [
        "## 1. 스태킹 앙상블 개요"
      ],
      "metadata": {
        "id": "AobmpN81vIPP"
      }
    },
    {
      "cell_type": "markdown",
      "source": [
        "* 스태킹은 개별적인 여러 알고리즘을 서로 결합해 예측결과를 도출한다. (배깅, 부스팅 공통점)\n",
        "* 개별 알고리즘으로 예측한 데이터를 기반으로 다시 예측을 수행한다. (배깅, 부스팅 차이점)\n",
        "* 즉, 개별 알고리즘의 예측결과 데이터세트를/ 최종적인 메타 데이터세트로 만들어/ 별도의 ML알고리즘으로 최종학습을 수행하고//   \n",
        "테스트 데이터를 기반으로/ 다시 최종예측을 수행하는 방식\n"
      ],
      "metadata": {
        "id": "zcPNSt5aOzuW"
      }
    },
    {
      "cell_type": "markdown",
      "source": [
        "* 스태킹 모델은 두 종류의 모델이 필요하다  \n",
        "  1) 첫번째는 개별적인 기반 모델  \n",
        "  2) 두번째는 이 개별 기반 모델의 예측 데이터를/ 학습 데이터로 만들어서 학습하는 최종 메타 모델  \n",
        "*  스태킹 모델의 핵심은,   \n",
        "  1) 개별 모델의 예측 데이터를 각각 스태킹 형태로 결합해   \n",
        "  2) 최종 메타 모델의 학습용 피처 데이터셋과 테스트용 피처 데이터셋을 만드는 것이다.   \n",
        "  (교과서 다이어그램 참조 p.279)\n",
        "* 스태킹을 현실모델에 적용하는 경우는 많지 않지만, 대회에서 조금이라도 성능 수치를 높여야 할 경우 자주 사용됨.  \n",
        "  반드시 성능향상이 보장되는 것은 아니지만, 성능이 비슷한 모델을 결합해 좀 더 나은 성능향상을 도출하기 위해 적용 \n"
      ],
      "metadata": {
        "id": "tkDam89jQPKr"
      }
    },
    {
      "cell_type": "markdown",
      "source": [
        "## 2. 기본 스태킹 모델"
      ],
      "metadata": {
        "id": "OZ9WyutwvIS1"
      }
    },
    {
      "cell_type": "code",
      "source": [
        "import numpy as np\n",
        "\n",
        "# 1) 개별 모델은 KNN, 랜덤포레스트, 에이다부스트, 결정트리이며\n",
        "# 2) 최종메타 모델은 개별모델의 예측 결과를 합한 데이터 세트로 학습/예측을 하는 로지스틱 회귀\n",
        "from sklearn.neighbors import KNeighborsClassifier\n",
        "from sklearn.ensemble import RandomForestClassifier\n",
        "from sklearn.ensemble import AdaBoostClassifier\n",
        "from sklearn.tree import DecisionTreeClassifier\n",
        "from sklearn.linear_model import LogisticRegression\n",
        "\n",
        "from sklearn.datasets import load_breast_cancer\n",
        "from sklearn.model_selection import train_test_split\n",
        "from sklearn.metrics import accuracy_score\n",
        "\n",
        "cancer_data = load_breast_cancer()\n",
        "\n",
        "X_data = cancer_data.data\n",
        "y_label = cancer_data.target\n",
        "\n",
        "X_train, X_test, y_train, y_test = train_test_split(X_data, y_label, test_size=0.2, random_state=0)"
      ],
      "metadata": {
        "id": "rgpsTRdKTFJy"
      },
      "execution_count": 4,
      "outputs": []
    },
    {
      "cell_type": "markdown",
      "source": [
        "### Step1) 모델 객체 생성"
      ],
      "metadata": {
        "id": "eWQoool3VOah"
      }
    },
    {
      "cell_type": "code",
      "source": [
        "# 1) 개별 ML 모델 생성 \n",
        "knn_clf = KNeighborsClassifier(n_neighbors=4)\n",
        "rf_clf = RandomForestClassifier(n_estimators=100, random_state=0)\n",
        "dt_clf = DecisionTreeClassifier()\n",
        "ada_clf = AdaBoostClassifier(n_estimators=100)\n",
        "\n",
        "# 2) 스태킹으로 만들어진 데이터세트를 학습, 예측할 최종모델\n",
        "lr_final = LogisticRegression(C=10)\n",
        "\n",
        "## C : ?? "
      ],
      "metadata": {
        "id": "7nt755O8TFNj"
      },
      "execution_count": 7,
      "outputs": []
    },
    {
      "cell_type": "markdown",
      "source": [
        "### Step2) 개별 모델 학습"
      ],
      "metadata": {
        "id": "0vg-rWHFVTzH"
      }
    },
    {
      "cell_type": "code",
      "source": [
        "# 개별 모델들을 학습\n",
        "knn_clf.fit(X_train, y_train)\n",
        "rf_clf.fit(X_train, y_train)\n",
        "dt_clf.fit(X_train, y_train)\n",
        "ada_clf.fit(X_train, y_train)"
      ],
      "metadata": {
        "colab": {
          "base_uri": "https://localhost:8080/"
        },
        "id": "SrbbcFRfVXpx",
        "outputId": "a5358bfd-74bb-4e9e-c242-3972f2376002"
      },
      "execution_count": 10,
      "outputs": [
        {
          "output_type": "execute_result",
          "data": {
            "text/plain": [
              "AdaBoostClassifier(n_estimators=100)"
            ]
          },
          "metadata": {},
          "execution_count": 10
        }
      ]
    },
    {
      "cell_type": "code",
      "source": [
        "# 학습되 ㄴ개별 모델들이 각자 반환하는 예측 데이터 세트를 생성하고\n",
        "# 개별 모델의 정확도 측정\n",
        "\n",
        "knn_pred = knn_clf.predict(X_test)\n",
        "rf_pred = rf_clf.predict(X_test)\n",
        "dt_pred = dt_clf.predict(X_test)\n",
        "ada_pred = ada_clf.predict(X_test)\n",
        "\n",
        "print('KNN 정확도: {0:.4f}'.format(accuracy_score(y_test, knn_pred)))\n",
        "print('랜덤포레스트 정확도: {0:.4f}'.format(accuracy_score(y_test, rf_pred)))\n",
        "print('결정트리 정확도: {0:.4f}'.format(accuracy_score(y_test, dt_pred)))\n",
        "print('에이다부스트 정확도: {0:.4f}'.format(accuracy_score(y_test, ada_pred)))"
      ],
      "metadata": {
        "colab": {
          "base_uri": "https://localhost:8080/"
        },
        "id": "jnpCKcjCVlL6",
        "outputId": "7960a625-bac8-4a18-8d6b-dc01279415a5"
      },
      "execution_count": 11,
      "outputs": [
        {
          "output_type": "stream",
          "name": "stdout",
          "text": [
            "KNN 정확도: 0.9211\n",
            "랜덤포레스트 정확도: 0.9649\n",
            "결정트리 정확도: 0.9035\n",
            "에이다부스트 정확도: 0.9561\n"
          ]
        }
      ]
    },
    {
      "cell_type": "markdown",
      "source": [
        "### Step3) 개별 모델로부터 도출한 예측값을/ 칼럼 레벨로 옆에 붙여서/ 피처값으로 만들어// \n",
        "###    최종 메타 모델인 로지스틱 회귀에서 학습데이터로 다시 사용"
      ],
      "metadata": {
        "id": "ZTw2SdaZWPZs"
      }
    },
    {
      "cell_type": "code",
      "source": [
        "## 개별모델로부터 도출한 예측값을 피처 열로 만들어서 붙인다음\n",
        "## 그걸 최종메타 모델의 학습데이터로 사용\n",
        "\n",
        "# 예측결과는 1차원 형태의 ndarray이므로, 예측결과를 행형태로 붙인뒤\n",
        "pred = np.array([knn_pred, rf_pred, dt_pred, ada_pred])\n",
        "print(pred.shape)\n",
        "# transpose()를 이용해 행과 열 위치를 바꾼 ndarray로 변환\n",
        "pred = np.transpose(pred)\n",
        "print(pred.shape)"
      ],
      "metadata": {
        "colab": {
          "base_uri": "https://localhost:8080/"
        },
        "id": "WGtENI-CVXti",
        "outputId": "8ad467ea-9428-40e0-dd29-e4e60c4822e5"
      },
      "execution_count": 12,
      "outputs": [
        {
          "output_type": "stream",
          "name": "stdout",
          "text": [
            "(4, 114)\n",
            "(114, 4)\n"
          ]
        }
      ]
    },
    {
      "cell_type": "markdown",
      "source": [
        "### Step4) 최종메타 모델인 로지스틱 회귀를 학습하고 예측 정확도를 측정"
      ],
      "metadata": {
        "id": "mA7MnhBBYgXZ"
      }
    },
    {
      "cell_type": "code",
      "source": [
        "# 개별모델에서 도출한 pred를\n",
        "# 최종메타 모델에서는 X_test으로 활용 \n",
        "lr_final.fit(pred, y_test) ## 일반적으로 fit(X_train, y_train)\n",
        "final_pred = lr_final.predict(pred) ## predict(X_test)\n",
        "\n",
        "print('최종 메타 모델의 예측 정확도: {0:.4f}'.format(accuracy_score(y_test, final_pred))) ## acc_scr(y_test, pred)\n",
        "\n",
        "## 특이한 점은 \n",
        "## 일반적인 경우 학습할때 train dataset으로, 예측할때 test dataset로 하지만\n",
        "## 최종메타 모델에서 학습 및 예측할 때 모두 개별모델에서 도출한 pred(test dataset)로 가지고 수행\n",
        "## 따라서 학습할때는 train으로 안하고 test로 해서 과적합문제가 발생할 수 있음"
      ],
      "metadata": {
        "colab": {
          "base_uri": "https://localhost:8080/"
        },
        "id": "0kmqijayYfmL",
        "outputId": "f646b0b2-f9c7-4363-bc6b-cd1b9cc2f9c5"
      },
      "execution_count": 13,
      "outputs": [
        {
          "output_type": "stream",
          "name": "stdout",
          "text": [
            "최종 메타 모델의 예측 정확도: 0.9649\n"
          ]
        }
      ]
    },
    {
      "cell_type": "markdown",
      "source": [
        "* 결과 분석  \n",
        "1) 개별모델의 정확도보다 최종메타 모델의 정확도가 같거나 향상됨 "
      ],
      "metadata": {
        "id": "pmi_RKd_aS-l"
      }
    },
    {
      "cell_type": "markdown",
      "source": [
        "## 3. CV세트기반의 스태킹"
      ],
      "metadata": {
        "id": "e6d9xu-VvIXX"
      }
    },
    {
      "cell_type": "markdown",
      "source": [
        "* 과적합을 개선하기 위해//  \n",
        "* 최종메타 모델을 위한 데이터 세트를 만들 때/ 교차검증 기반으로 예측된/ 결과 데이터세트를 이용 "
      ],
      "metadata": {
        "id": "xe7Oncrcbs_a"
      }
    },
    {
      "cell_type": "markdown",
      "source": [
        "* 이를 개선하기 위해\n",
        "* 개별모델들이 각각 교차 검증으로/ 메타모델을 위한 학습용 스태킹 데이터 생성과/ 예측을 위한 테스트용 스태킹 데이터 생성을 한 뒤\n",
        "* 이를 기반으로 메타모델이 학습과 예측을 수행한다. \n"
      ],
      "metadata": {
        "id": "k4u-DA2UdHb8"
      }
    },
    {
      "cell_type": "code",
      "source": [],
      "metadata": {
        "id": "1CKbixLuQOMa"
      },
      "execution_count": null,
      "outputs": []
    },
    {
      "cell_type": "markdown",
      "source": [],
      "metadata": {
        "id": "W7YJgK2lvIZd"
      }
    }
  ]
}