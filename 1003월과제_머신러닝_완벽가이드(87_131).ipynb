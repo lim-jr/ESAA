{
  "nbformat": 4,
  "nbformat_minor": 0,
  "metadata": {
    "colab": {
      "provenance": [],
      "toc_visible": true,
      "authorship_tag": "ABX9TyNRV0a4P2/10Np9fU/msCVv",
      "include_colab_link": true
    },
    "kernelspec": {
      "name": "python3",
      "display_name": "Python 3"
    },
    "language_info": {
      "name": "python"
    }
  },
  "cells": [
    {
      "cell_type": "markdown",
      "metadata": {
        "id": "view-in-github",
        "colab_type": "text"
      },
      "source": [
        "<a href=\"https://colab.research.google.com/github/lim-jr/ESAA/blob/main/1003%EC%9B%94%EA%B3%BC%EC%A0%9C_%EB%A8%B8%EC%8B%A0%EB%9F%AC%EB%8B%9D_%EC%99%84%EB%B2%BD%EA%B0%80%EC%9D%B4%EB%93%9C(87_131).ipynb\" target=\"_parent\"><img src=\"https://colab.research.google.com/assets/colab-badge.svg\" alt=\"Open In Colab\"/></a>"
      ]
    },
    {
      "cell_type": "markdown",
      "source": [
        "### (1) 사이킷런 임포트와 붓꽃품종 데이터셋 불러오기"
      ],
      "metadata": {
        "id": "UWmvo79zivVG"
      }
    },
    {
      "cell_type": "markdown",
      "source": [
        "-사이킷런은 파이썬 기반의 머신러닝을 위한 가장 쉽고 효율적인 개발 라이브러리를 제공  \n",
        "-분류는 대표적인 지도학습 중 하나로, 사이킷런을 통해 붓꽃 데이터 세트로 붓꽃 품종 분류하는 머신러닝을 만들 것임  \n",
        "-지도학습은 명확한 정답이 주어진 데이터를 먼저 학습한 뒤 미지의 정답을 예측하는 방식  \n",
        "-데이터세트를 -> 학습데이터 / 테스트데이터로 분류해야."
      ],
      "metadata": {
        "id": "CNcN4DWalJ76"
      }
    },
    {
      "cell_type": "code",
      "execution_count": 1,
      "metadata": {
        "id": "ym0nafG1iYCK"
      },
      "outputs": [],
      "source": [
        "# 1.사이킷런에서 사용할 모듈을 임포트\n",
        "from sklearn.datasets import load_iris\n",
        "from sklearn.tree import DecisionTreeClassifier\n",
        "from sklearn.model_selection import train_test_split"
      ]
    },
    {
      "cell_type": "code",
      "source": [
        "# 2. 붓꽃 데이터셋 불러오기\n",
        "import pandas as pd\n",
        "iris = load_iris()\n",
        "\n",
        "iris_data = iris.data \n",
        "## iris.data 는 iris 데이터셋에서 feature만으로 된 데이터를 numpy로 가지고 있음.\n",
        "\n",
        "iris_label = iris.target\n",
        "print('iris target값: ', iris.target)\n",
        "print('iris target명: ', iris.target_names)\n",
        "## iris.target은 붓꽃 데이터셋에서 레이블(결정값) 데이터를 numpy로 가지고 있음.\n",
        "  ## 레이블/타겟값 = 0:setosa 품종\n",
        "  ## 레이블/타겟값 = 1:versicolor 품종\n",
        "  ## 레이블/타겟값 = 2:virginica 품종\n",
        "\n",
        "iris_df = pd.DataFrame(data=iris_data, columns=iris.feature_names)\n",
        "iris_df['label'] = iris.target # target을 label이라는 칼럼명을 가진 칼럼으로 생성\n",
        "iris_df.head(3)\n",
        "## 붓꽃 데이터셋을 DataFrame으로 변환"
      ],
      "metadata": {
        "colab": {
          "base_uri": "https://localhost:8080/",
          "height": 254
        },
        "id": "E90jiKDem1BP",
        "outputId": "6f3d3e29-c059-4261-ab68-1cf9dc8a55f5"
      },
      "execution_count": 2,
      "outputs": [
        {
          "output_type": "stream",
          "name": "stdout",
          "text": [
            "iris target값:  [0 0 0 0 0 0 0 0 0 0 0 0 0 0 0 0 0 0 0 0 0 0 0 0 0 0 0 0 0 0 0 0 0 0 0 0 0\n",
            " 0 0 0 0 0 0 0 0 0 0 0 0 0 1 1 1 1 1 1 1 1 1 1 1 1 1 1 1 1 1 1 1 1 1 1 1 1\n",
            " 1 1 1 1 1 1 1 1 1 1 1 1 1 1 1 1 1 1 1 1 1 1 1 1 1 1 2 2 2 2 2 2 2 2 2 2 2\n",
            " 2 2 2 2 2 2 2 2 2 2 2 2 2 2 2 2 2 2 2 2 2 2 2 2 2 2 2 2 2 2 2 2 2 2 2 2 2\n",
            " 2 2]\n",
            "iris target명:  ['setosa' 'versicolor' 'virginica']\n"
          ]
        },
        {
          "output_type": "execute_result",
          "data": {
            "text/plain": [
              "   sepal length (cm)  sepal width (cm)  petal length (cm)  petal width (cm)  \\\n",
              "0                5.1               3.5                1.4               0.2   \n",
              "1                4.9               3.0                1.4               0.2   \n",
              "2                4.7               3.2                1.3               0.2   \n",
              "\n",
              "   label  \n",
              "0      0  \n",
              "1      0  \n",
              "2      0  "
            ],
            "text/html": [
              "\n",
              "  <div id=\"df-8c241b7f-2c55-4257-b719-a01ce2225b4a\">\n",
              "    <div class=\"colab-df-container\">\n",
              "      <div>\n",
              "<style scoped>\n",
              "    .dataframe tbody tr th:only-of-type {\n",
              "        vertical-align: middle;\n",
              "    }\n",
              "\n",
              "    .dataframe tbody tr th {\n",
              "        vertical-align: top;\n",
              "    }\n",
              "\n",
              "    .dataframe thead th {\n",
              "        text-align: right;\n",
              "    }\n",
              "</style>\n",
              "<table border=\"1\" class=\"dataframe\">\n",
              "  <thead>\n",
              "    <tr style=\"text-align: right;\">\n",
              "      <th></th>\n",
              "      <th>sepal length (cm)</th>\n",
              "      <th>sepal width (cm)</th>\n",
              "      <th>petal length (cm)</th>\n",
              "      <th>petal width (cm)</th>\n",
              "      <th>label</th>\n",
              "    </tr>\n",
              "  </thead>\n",
              "  <tbody>\n",
              "    <tr>\n",
              "      <th>0</th>\n",
              "      <td>5.1</td>\n",
              "      <td>3.5</td>\n",
              "      <td>1.4</td>\n",
              "      <td>0.2</td>\n",
              "      <td>0</td>\n",
              "    </tr>\n",
              "    <tr>\n",
              "      <th>1</th>\n",
              "      <td>4.9</td>\n",
              "      <td>3.0</td>\n",
              "      <td>1.4</td>\n",
              "      <td>0.2</td>\n",
              "      <td>0</td>\n",
              "    </tr>\n",
              "    <tr>\n",
              "      <th>2</th>\n",
              "      <td>4.7</td>\n",
              "      <td>3.2</td>\n",
              "      <td>1.3</td>\n",
              "      <td>0.2</td>\n",
              "      <td>0</td>\n",
              "    </tr>\n",
              "  </tbody>\n",
              "</table>\n",
              "</div>\n",
              "      <button class=\"colab-df-convert\" onclick=\"convertToInteractive('df-8c241b7f-2c55-4257-b719-a01ce2225b4a')\"\n",
              "              title=\"Convert this dataframe to an interactive table.\"\n",
              "              style=\"display:none;\">\n",
              "        \n",
              "  <svg xmlns=\"http://www.w3.org/2000/svg\" height=\"24px\"viewBox=\"0 0 24 24\"\n",
              "       width=\"24px\">\n",
              "    <path d=\"M0 0h24v24H0V0z\" fill=\"none\"/>\n",
              "    <path d=\"M18.56 5.44l.94 2.06.94-2.06 2.06-.94-2.06-.94-.94-2.06-.94 2.06-2.06.94zm-11 1L8.5 8.5l.94-2.06 2.06-.94-2.06-.94L8.5 2.5l-.94 2.06-2.06.94zm10 10l.94 2.06.94-2.06 2.06-.94-2.06-.94-.94-2.06-.94 2.06-2.06.94z\"/><path d=\"M17.41 7.96l-1.37-1.37c-.4-.4-.92-.59-1.43-.59-.52 0-1.04.2-1.43.59L10.3 9.45l-7.72 7.72c-.78.78-.78 2.05 0 2.83L4 21.41c.39.39.9.59 1.41.59.51 0 1.02-.2 1.41-.59l7.78-7.78 2.81-2.81c.8-.78.8-2.07 0-2.86zM5.41 20L4 18.59l7.72-7.72 1.47 1.35L5.41 20z\"/>\n",
              "  </svg>\n",
              "      </button>\n",
              "      \n",
              "  <style>\n",
              "    .colab-df-container {\n",
              "      display:flex;\n",
              "      flex-wrap:wrap;\n",
              "      gap: 12px;\n",
              "    }\n",
              "\n",
              "    .colab-df-convert {\n",
              "      background-color: #E8F0FE;\n",
              "      border: none;\n",
              "      border-radius: 50%;\n",
              "      cursor: pointer;\n",
              "      display: none;\n",
              "      fill: #1967D2;\n",
              "      height: 32px;\n",
              "      padding: 0 0 0 0;\n",
              "      width: 32px;\n",
              "    }\n",
              "\n",
              "    .colab-df-convert:hover {\n",
              "      background-color: #E2EBFA;\n",
              "      box-shadow: 0px 1px 2px rgba(60, 64, 67, 0.3), 0px 1px 3px 1px rgba(60, 64, 67, 0.15);\n",
              "      fill: #174EA6;\n",
              "    }\n",
              "\n",
              "    [theme=dark] .colab-df-convert {\n",
              "      background-color: #3B4455;\n",
              "      fill: #D2E3FC;\n",
              "    }\n",
              "\n",
              "    [theme=dark] .colab-df-convert:hover {\n",
              "      background-color: #434B5C;\n",
              "      box-shadow: 0px 1px 3px 1px rgba(0, 0, 0, 0.15);\n",
              "      filter: drop-shadow(0px 1px 2px rgba(0, 0, 0, 0.3));\n",
              "      fill: #FFFFFF;\n",
              "    }\n",
              "  </style>\n",
              "\n",
              "      <script>\n",
              "        const buttonEl =\n",
              "          document.querySelector('#df-8c241b7f-2c55-4257-b719-a01ce2225b4a button.colab-df-convert');\n",
              "        buttonEl.style.display =\n",
              "          google.colab.kernel.accessAllowed ? 'block' : 'none';\n",
              "\n",
              "        async function convertToInteractive(key) {\n",
              "          const element = document.querySelector('#df-8c241b7f-2c55-4257-b719-a01ce2225b4a');\n",
              "          const dataTable =\n",
              "            await google.colab.kernel.invokeFunction('convertToInteractive',\n",
              "                                                     [key], {});\n",
              "          if (!dataTable) return;\n",
              "\n",
              "          const docLinkHtml = 'Like what you see? Visit the ' +\n",
              "            '<a target=\"_blank\" href=https://colab.research.google.com/notebooks/data_table.ipynb>data table notebook</a>'\n",
              "            + ' to learn more about interactive tables.';\n",
              "          element.innerHTML = '';\n",
              "          dataTable['output_type'] = 'display_data';\n",
              "          await google.colab.output.renderOutput(dataTable, element);\n",
              "          const docLink = document.createElement('div');\n",
              "          docLink.innerHTML = docLinkHtml;\n",
              "          element.appendChild(docLink);\n",
              "        }\n",
              "      </script>\n",
              "    </div>\n",
              "  </div>\n",
              "  "
            ]
          },
          "metadata": {},
          "execution_count": 2
        }
      ]
    },
    {
      "cell_type": "markdown",
      "source": [
        "* 내장 데이터셋 구성\n",
        "> (메소드)  \n",
        ">data : feature 데이터를 가짐  \n",
        ">features_name : feature데이터의 열이름을 가짐  \n",
        "> ->feature : 독립변수 X 의 개념  \n",
        ">target : label 데이터를 가짐  \n",
        ">target_names : label데이터의 열이름을 가짐  \n",
        "> ->label : 종속변수 Y의 개념 (범주형 종속변수)"
      ],
      "metadata": {
        "id": "iW97mq9j04wJ"
      }
    },
    {
      "cell_type": "code",
      "source": [
        "iris = load_iris()\n",
        "iris_data = iris.data \n",
        "print(type(iris), type(iris_data))\n",
        "print(iris, iris_data)"
      ],
      "metadata": {
        "id": "DBPoU-bcwFdJ"
      },
      "execution_count": null,
      "outputs": []
    },
    {
      "cell_type": "code",
      "source": [
        "# 3. 학습용 데이터와 테스트용 데이터를 분리\n",
        "X_train, X_test, y_train, y_test = train_test_split(iris_data, iris_label, test_size=0.2, random_state=11)\n",
        "# 1) feature 데이터 세트\n",
        "# 2) label 데이터 세트\n",
        "# 3) 테스트 데이터세트 비율 0.2=테스트, 0.8=학습\n",
        "# 4) random_state지정안하면 무작위로 데이터를분리함, 난수발생값을 지정해서 호출할때마다 같은 결과 나오도록"
      ],
      "metadata": {
        "id": "Hz1jDIe0m1Ee"
      },
      "execution_count": 5,
      "outputs": []
    },
    {
      "cell_type": "code",
      "source": [
        "# 4. 의사결정트리를 이용해 학습과 예측을 수행\n",
        "# 의사결정트리는 머신러닝 분류 알고리즘 방법 중 하나\n",
        "\n",
        "# 4-1. 학습\n",
        "dt_clf = DecisionTreeClassifier(random_state=11)\n",
        "dt_clf\n",
        "## 의사결정트리 객체생성\n",
        "\n",
        "dt_clf.fit(X_train, y_train)\n",
        "## 의사결정트리를 기반으로 train데이터(x, y모두) 가지고 학습 수행\n",
        "\n",
        "# 4-2. 예측\n",
        "pred = dt_clf.predict(X_test)\n",
        "pred\n",
        "## 학습수행(fit)한 후에 test데이터(x만) 가지고 y에 대해서 예측수행(predict)  \n",
        "\n",
        "# 4-3. 정확도 측정\n",
        "from sklearn.metrics import accuracy_score\n",
        "print('예측 정확도: {0:.4f}'.format(accuracy_score(y_test, pred)))\n",
        "## x_test에 대한 실제 관측값(y_test)와 예측값(pred)이 얼마나 정확하게 맞는지 평가"
      ],
      "metadata": {
        "colab": {
          "base_uri": "https://localhost:8080/"
        },
        "id": "QYkTW9BbrhY5",
        "outputId": "f771e480-84f3-4ada-b64c-4ceec80bf085"
      },
      "execution_count": 20,
      "outputs": [
        {
          "output_type": "stream",
          "name": "stdout",
          "text": [
            "예측 정확도: 0.9333\n"
          ]
        }
      ]
    },
    {
      "cell_type": "code",
      "source": [],
      "metadata": {
        "id": "ayQEzzQtwDp0"
      },
      "execution_count": null,
      "outputs": []
    },
    {
      "cell_type": "markdown",
      "source": [
        "### (2) 사이킷런 기반 프레임 워크 익히기"
      ],
      "metadata": {
        "id": "rsGj9pCoivYN"
      }
    },
    {
      "cell_type": "markdown",
      "source": [
        "* Estimator 이해  \n",
        "  -Classifier : 분류 알고리즘  \n",
        "  -Regressor : 회귀 알고리즘\n",
        "* Estimator 를 다루는 메소드  \n",
        "  -fit() : ML 모델 학습  \n",
        "  -predict() : 학습된 모델의 예측"
      ],
      "metadata": {
        "id": "-I1T-rZCivbN"
      }
    },
    {
      "cell_type": "markdown",
      "source": [],
      "metadata": {
        "id": "k_veEpi8x7NT"
      }
    },
    {
      "cell_type": "code",
      "source": [],
      "metadata": {
        "id": "c2eIZLB2vIFm"
      },
      "execution_count": null,
      "outputs": []
    },
    {
      "cell_type": "markdown",
      "source": [
        "* 사이킷런 주요 모듈"
      ],
      "metadata": {
        "id": "4FGPUNbAiveV"
      }
    },
    {
      "cell_type": "markdown",
      "source": [
        "* 내장된 예제 데이터셋"
      ],
      "metadata": {
        "id": "g9woxhVxivg2"
      }
    },
    {
      "cell_type": "markdown",
      "source": [
        "-예제 데이터 엄청 많음  \n",
        "datasets.load_boston()  \n",
        "datasets.load_diabetes()  \n",
        "datasets.load_digits()  \n",
        "datasets.load_iris()  \n"
      ],
      "metadata": {
        "id": "GpCVveBXxOSJ"
      }
    },
    {
      "cell_type": "markdown",
      "source": [
        "-데이터세트의 Key 키  \n",
        "data : feature 데이터 세트  \n",
        "target : 분류(Classification) 시 레이블값,   \n",
        "         회귀(Regression) 시 숫자 결과값  \n",
        "target_names : 개별 레이블의 이름  \n",
        "feature_names : 피처의 이름  \n",
        "DESCR : 데이터세트에 대한 설명과 피처의 설명"
      ],
      "metadata": {
        "id": "yoLJdEU8xOU2"
      }
    },
    {
      "cell_type": "code",
      "source": [
        "# 1. 먼저 붓꽃 데이터셋 생성\n",
        "from sklearn.datasets import load_iris\n",
        "\n",
        "iris_data = load_iris()\n",
        "print(type(iris_data))\n",
        "## Bunch클래스 (딕셔너리 자료형과 유사)\n",
        "\n",
        "# 2. key값 확인\n",
        "keys = iris_data.keys()\n",
        "print('붓꽃 데이터셋의 키들: ', keys)\n",
        "\n",
        "## 데이터셋.키 -> 값 추출\n",
        "iris_data.data\n",
        "iris_data.target\n",
        "iris_data.target_names\n",
        "iris_data.feature_names"
      ],
      "metadata": {
        "colab": {
          "base_uri": "https://localhost:8080/"
        },
        "id": "TFw0CQghy98P",
        "outputId": "d900eea4-cba7-40a7-c39e-779e3b965942"
      },
      "execution_count": 21,
      "outputs": [
        {
          "output_type": "stream",
          "name": "stdout",
          "text": [
            "<class 'sklearn.utils.Bunch'>\n",
            "붓꽃 데이터셋의 키들:  dict_keys(['data', 'target', 'frame', 'target_names', 'DESCR', 'feature_names', 'filename', 'data_module'])\n"
          ]
        },
        {
          "output_type": "execute_result",
          "data": {
            "text/plain": [
              "['sepal length (cm)',\n",
              " 'sepal width (cm)',\n",
              " 'petal length (cm)',\n",
              " 'petal width (cm)']"
            ]
          },
          "metadata": {},
          "execution_count": 21
        }
      ]
    },
    {
      "cell_type": "code",
      "source": [
        "print(iris_data.feature_names)\n",
        "print('\\n feature_names 의 type : ', type(iris_data.feature_names)) # list\n",
        "print('\\n featrue_names 의 shape : ', len(iris_data.feature_names))\n",
        "\n",
        "print(iris_data.target_names)\n",
        "print('\\n feature_names 의 type : ', type(iris_data.target_names)) # ndarray\n",
        "print('\\n featrue_names 의 shape : ', len(iris_data.target_names))\n",
        "\n",
        "# 아래의 코드도 가능 \n",
        "print(iris_data['data'])\n",
        "print('\\n data 의 type : ', type(iris_data.data)) # ndarray\n",
        "print('\\n data 의 shape : ', iris_data.data.shape)"
      ],
      "metadata": {
        "id": "06bDPgBK1xgu"
      },
      "execution_count": null,
      "outputs": []
    },
    {
      "cell_type": "code",
      "source": [],
      "metadata": {
        "id": "nzpSbif5y--S"
      },
      "execution_count": null,
      "outputs": []
    },
    {
      "cell_type": "markdown",
      "source": [
        "### (3) Model Selection 모듈"
      ],
      "metadata": {
        "id": "WrCiFFpCivj4"
      }
    },
    {
      "cell_type": "markdown",
      "source": [
        "* 학습데이터/ 테스트데이터 세트 분리\n",
        "* train_test_split()"
      ],
      "metadata": {
        "id": "OZM-jCMHivm_"
      }
    },
    {
      "cell_type": "code",
      "source": [
        "# 1. (학습/테스트 데이터 분리) 안하고, (학습 데이터로만 학습) 하면 무엇이 문제인지\n",
        "\n",
        "from sklearn.datasets import load_iris\n",
        "from sklearn.tree import DecisionTreeClassifier\n",
        "from sklearn.metrics import accuracy_score\n",
        "\n",
        "# 분리안하고, 학습데이터로만\n",
        "iris = load_iris()\n",
        "df_clf = DecisionTreeClassifier()\n",
        "train_data = iris.data \n",
        "train_label = iris.target\n",
        "df_clf.fit(train_data, train_label)\n",
        "\n",
        "# 학습데이터로 예측 수행후 정확도\n",
        "# 원래는 학습데이터->학습, 테스트데이터->예측\n",
        "pred = dt_clf.predict(train_data)\n",
        "print('예측정확도:', accuracy_score(train_label, pred))\n",
        "\n",
        "## 예측정확도가 거의1임.\n",
        "## 이미 학습한 학습데이터셋을 기반으로 예측했기 때문에 100프로.\n",
        "## 따라서 테스트데이터셋을 가지고 예측을 수행해야. \n",
        "\n",
        "## ?? 왜 난 1이 아니라 0.98 나오냐"
      ],
      "metadata": {
        "colab": {
          "base_uri": "https://localhost:8080/"
        },
        "id": "MuYMCNuh4HwO",
        "outputId": "129195b8-4a6a-4356-a11b-27472f1f318b"
      },
      "execution_count": 23,
      "outputs": [
        {
          "output_type": "stream",
          "name": "stdout",
          "text": [
            "예측정확도: 0.9866666666666667\n"
          ]
        }
      ]
    },
    {
      "cell_type": "code",
      "source": [
        "# 2. 학습/테스트 데이터 분리 후 학습과 에측 수행\n",
        "\n",
        "from sklearn.tree import DecisionTreeClassifier\n",
        "from sklearn.metrics import accuracy_score\n",
        "from sklearn.datasets import load_iris\n",
        "from sklearn.model_selection import train_test_split\n",
        "\n",
        "dt_clf = DecisionTreeClassifier()\n",
        "iris_data = load_iris()\n",
        "\n",
        "X_train, X_test, y_train, y_test = train_test_split(iris_data.data, iris_data.target, test_size=0.3, random_state=121)\n",
        "\n",
        "dt_clf.fit(X_train, y_train)\n",
        "pred = dt_clf.predict(X_test)\n",
        "print('예측정확도: {0:.4f}'.format(accuracy_score(y_test, pred)))\n",
        "print(accuracy_score(y_test, pred))\n",
        "\n",
        "# ?? 0:.4f 이게 뭔 의미이지\n",
        "\n",
        "## 붓꽃 데이터는 150개이고, 30%만 테스트 데이터이므로, 데이터양이 작다.\n",
        "## 1일정 수준 이상의 데이터 양 보장, 2다양한 데이터를 기반으로 예측 성능을 평가"
      ],
      "metadata": {
        "colab": {
          "base_uri": "https://localhost:8080/"
        },
        "id": "374ZDW_m4IC6",
        "outputId": "0aa4da3f-69dd-4cf1-f4f1-ff6b403f35b3"
      },
      "execution_count": 24,
      "outputs": [
        {
          "output_type": "stream",
          "name": "stdout",
          "text": [
            "예측정확도: 0.9556\n",
            "0.9555555555555556\n"
          ]
        }
      ]
    },
    {
      "cell_type": "markdown",
      "source": [
        "#### * 교차검증  \n",
        "  -과적합 문제점을 개선하기 위해 교차검증을 이용해 더 다양한 학습과 평가를 수행  \n",
        "  -과적합:고정된 train데이터와 test데이터로 평가하면, test데이터에만 최적의 성능을 발휘할 수 있도록 편향되게 모델을 유도하는 경향.  \n",
        "    다른 test데이터가 들어올 경우, 성능이 저하됨  "
      ],
      "metadata": {
        "id": "XESthr-OkIsy"
      }
    },
    {
      "cell_type": "code",
      "source": [
        "     ->train1\n",
        "data ->train2\n",
        "     ->test\n",
        "\n",
        "1. 학습데이터(train1) 가지고 학습\n",
        "2. 검증데이터(train2) 가지고 학습된모델의 성능을 1차평가\n",
        "3. 테스트데이터(test) 가지고 학습/검증된 모델의 성능을 최종평가"
      ],
      "metadata": {
        "id": "LwVoxX169aAQ"
      },
      "execution_count": null,
      "outputs": []
    },
    {
      "cell_type": "markdown",
      "source": [],
      "metadata": {
        "id": "g9jJSTdjBSkg"
      }
    },
    {
      "cell_type": "markdown",
      "source": [
        "#### (a) k폴드 교차검증\n",
        "-k개의 데이터 폴드 세트를 만들어서  \n",
        "-k번만큼 각 폴드 세트에 학습과 검증평가를 반복적으로 수행\n",
        "\n",
        "1. 데이터세트를 5등분\n",
        "2. 1,2,3,4번 데이터 -> 학습수행\n",
        "   5번 데이터 -> 평가수행\n",
        "3. 1,2,3,5번 데이터 -> 학습수행\n",
        "   4번 데이터 -> 평가수행\n",
        "   ...\n",
        "4. 5개의 평가수행한 결과를 평균 냄\n"
      ],
      "metadata": {
        "id": "ng4lalF_9aKc"
      }
    },
    {
      "cell_type": "code",
      "source": [
        "from numpy.random.mtrand import rand\n",
        "from sklearn.datasets import load_iris\n",
        "from sklearn.tree import DecisionTreeClassifier\n",
        "from sklearn.metrics import accuracy_score\n",
        "from sklearn.model_selection import KFold\n",
        "import numpy as np\n",
        "\n",
        "iris = load_iris()\n",
        "features = iris.data\n",
        "label = iris.target\n",
        "dt_clf = DecisionTreeClassifier(random_state=156)\n",
        "\n",
        "# 0. 객체 준비\n",
        "kfold = KFold(n_splits=5)\n",
        "## 5개의 폴드 세트로 분리하는 KFold 객체 생성\n",
        "cv_accuracy = []\n",
        "## 폴드 세트별 정확도를 담을 리스트 객체 생성\n",
        "print('붓꽃 데이터 세트 크기: ', features.shape[0])\n"
      ],
      "metadata": {
        "colab": {
          "base_uri": "https://localhost:8080/"
        },
        "id": "U_iijA8B9aPh",
        "outputId": "712eb14d-5e18-4e1e-e1cd-c67c264b57a4"
      },
      "execution_count": 11,
      "outputs": [
        {
          "output_type": "stream",
          "name": "stdout",
          "text": [
            "붓꽃 데이터 세트 크기:  150\n"
          ]
        }
      ]
    },
    {
      "cell_type": "code",
      "source": [
        "# 1. 데이터셋 5등분\n",
        "n_iter = 0\n",
        "\n",
        "##\n",
        "for train_index, test_index in kfold.split(features):\n",
        "  ##\n",
        "  X_train, X_test = features[train_index], features[test_index]\n",
        "  y_train, y_test = label[train_index], label[test_index]\n",
        "  ## 학습 및 예측 \n",
        "  dt_clf.fit(X_train, y_train)\n",
        "  pred = dt_clf.predict(X_test)\n",
        "  n_iter += 1\n",
        "  ## 반복시마다 정확도 측정\n",
        "  accuracy = np.round(accuracy_score(y_test, pred),4)\n",
        "  train_size = X_train.shape[0]\n",
        "  test_size = X_test.shape[0]\n",
        "  print('\\n #{0} 교차검증 정확도 :{1}, 학습데이터 크기 :{2}, 검증데이터 크기 :{3}'.format(n_iter, accuracy, train_size, test_size))\n",
        "  print('#{0} 검증 세트 인덱스:{1}'.format(n_iter, test_index))\n",
        "  cv_accuracy.append(accuracy)\n",
        "\n",
        "             \n"
      ],
      "metadata": {
        "colab": {
          "base_uri": "https://localhost:8080/"
        },
        "id": "GtlApviY9aTe",
        "outputId": "b91c12b6-7f37-422d-97e7-92e4f3c8e188"
      },
      "execution_count": null,
      "outputs": [
        {
          "output_type": "stream",
          "name": "stdout",
          "text": [
            "\n",
            " #1 교차검증 정확도 :1.0, 학습데이터 크기 :120, 검증데이터 크기 :30\n",
            "#1 검증 세트 인덱스:[ 0  1  2  3  4  5  6  7  8  9 10 11 12 13 14 15 16 17 18 19 20 21 22 23\n",
            " 24 25 26 27 28 29]\n",
            "\n",
            " #2 교차검증 정확도 :0.9667, 학습데이터 크기 :120, 검증데이터 크기 :30\n",
            "#2 검증 세트 인덱스:[30 31 32 33 34 35 36 37 38 39 40 41 42 43 44 45 46 47 48 49 50 51 52 53\n",
            " 54 55 56 57 58 59]\n",
            "\n",
            " #3 교차검증 정확도 :0.8667, 학습데이터 크기 :120, 검증데이터 크기 :30\n",
            "#3 검증 세트 인덱스:[60 61 62 63 64 65 66 67 68 69 70 71 72 73 74 75 76 77 78 79 80 81 82 83\n",
            " 84 85 86 87 88 89]\n",
            "\n",
            " #4 교차검증 정확도 :0.9333, 학습데이터 크기 :120, 검증데이터 크기 :30\n",
            "#4 검증 세트 인덱스:[ 90  91  92  93  94  95  96  97  98  99 100 101 102 103 104 105 106 107\n",
            " 108 109 110 111 112 113 114 115 116 117 118 119]\n",
            "\n",
            " #5 교차검증 정확도 :0.7333, 학습데이터 크기 :120, 검증데이터 크기 :30\n",
            "#5 검증 세트 인덱스:[120 121 122 123 124 125 126 127 128 129 130 131 132 133 134 135 136 137\n",
            " 138 139 140 141 142 143 144 145 146 147 148 149]\n"
          ]
        }
      ]
    },
    {
      "cell_type": "markdown",
      "source": [
        "#### (b) Stratified K폴드\n",
        "-불균형한 분포도를 가진 레이블 데이터 집합을 위한 k폴드 방식  \n",
        "-ex. 대출사기.  "
      ],
      "metadata": {
        "id": "8KJmV0-g9aX_"
      }
    },
    {
      "cell_type": "code",
      "source": [
        "# 1. 붓꽃 데이터셋 생성\n",
        "\n",
        "import pandas as pd\n",
        "iris = load_iris()\n",
        "iris_df = pd.DataFrame(data=iris.data, columns=iris.feature_names) # feature데이터\n",
        "iris_df['label']=iris.target # target/label데이터\n",
        "print(iris_df)\n",
        "iris_df['label'].value_counts() #label값이 3개이고 각각 50로 동일"
      ],
      "metadata": {
        "id": "akBA_zcXF6Ir",
        "colab": {
          "base_uri": "https://localhost:8080/"
        },
        "outputId": "e9365bb2-19a1-4e44-ba28-356e99bf522a"
      },
      "execution_count": 12,
      "outputs": [
        {
          "output_type": "stream",
          "name": "stdout",
          "text": [
            "     sepal length (cm)  sepal width (cm)  petal length (cm)  petal width (cm)  \\\n",
            "0                  5.1               3.5                1.4               0.2   \n",
            "1                  4.9               3.0                1.4               0.2   \n",
            "2                  4.7               3.2                1.3               0.2   \n",
            "3                  4.6               3.1                1.5               0.2   \n",
            "4                  5.0               3.6                1.4               0.2   \n",
            "..                 ...               ...                ...               ...   \n",
            "145                6.7               3.0                5.2               2.3   \n",
            "146                6.3               2.5                5.0               1.9   \n",
            "147                6.5               3.0                5.2               2.0   \n",
            "148                6.2               3.4                5.4               2.3   \n",
            "149                5.9               3.0                5.1               1.8   \n",
            "\n",
            "     label  \n",
            "0        0  \n",
            "1        0  \n",
            "2        0  \n",
            "3        0  \n",
            "4        0  \n",
            "..     ...  \n",
            "145      2  \n",
            "146      2  \n",
            "147      2  \n",
            "148      2  \n",
            "149      2  \n",
            "\n",
            "[150 rows x 5 columns]\n"
          ]
        },
        {
          "output_type": "execute_result",
          "data": {
            "text/plain": [
              "0    50\n",
              "1    50\n",
              "2    50\n",
              "Name: label, dtype: int64"
            ]
          },
          "metadata": {},
          "execution_count": 12
        }
      ]
    },
    {
      "cell_type": "code",
      "source": [
        "# 2. K폴드 교차검증\n",
        "\n",
        "from sklearn.model_selection import KFold\n",
        "kfold = KFold(n_splits=3)\n",
        "n_iter = 0\n",
        "for train_index, test_index in kfold.split(iris_df):\n",
        "  n_iter +=1\n",
        "  label_train = iris_df['label'].iloc[train_index]\n",
        "  label_test = iris_df['label'].iloc[test_index]\n",
        "  print('##교차검증: {0}'.format(n_iter))\n",
        "  print('학습레이블 데이터 분포:\\n', label_train.value_counts())\n",
        "  print('검증레이블 데이터 분포:\\n', label_test.value_counts())\n",
        "  print('\\n')\n",
        "\n",
        "## 학습:1,2 검증0 -> 0은 학습못하고 1,2는 검증 못하고 (?? 뭔소린지 모르겠음)\n",
        "## 이런 유형으로 교차검증 데이터세트를 분할하면 검증예측정확도는 0임 \n",
        "## Stratified KFold 는 이렇게 KFold로 분할된 레이블데이터 세트가 전체 레이블값의 분포도를 반영하지 못하는 문제를 해결해줌"
      ],
      "metadata": {
        "id": "s_J153SbF6MK",
        "colab": {
          "base_uri": "https://localhost:8080/"
        },
        "outputId": "9539e564-41f2-4240-a5ae-4be87f81aad4"
      },
      "execution_count": 19,
      "outputs": [
        {
          "output_type": "stream",
          "name": "stdout",
          "text": [
            "##교차검증: 1\n",
            "학습레이블 데이터 분포:\n",
            " 1    50\n",
            "2    50\n",
            "Name: label, dtype: int64\n",
            "검증레이블 데이터 분포:\n",
            " 0    50\n",
            "Name: label, dtype: int64\n",
            "\n",
            "\n",
            "##교차검증: 2\n",
            "학습레이블 데이터 분포:\n",
            " 0    50\n",
            "2    50\n",
            "Name: label, dtype: int64\n",
            "검증레이블 데이터 분포:\n",
            " 1    50\n",
            "Name: label, dtype: int64\n",
            "\n",
            "\n",
            "##교차검증: 3\n",
            "학습레이블 데이터 분포:\n",
            " 0    50\n",
            "1    50\n",
            "Name: label, dtype: int64\n",
            "검증레이블 데이터 분포:\n",
            " 2    50\n",
            "Name: label, dtype: int64\n",
            "\n",
            "\n"
          ]
        }
      ]
    },
    {
      "cell_type": "code",
      "source": [
        "# 3. Stratified K폴드 교차검증\n",
        "\n",
        "from sklearn.model_selection import StratifiedKFold\n",
        "skf = StratifiedKFold(n_splits=3)\n",
        "n_iter=0\n",
        "\n",
        "for train_index, test_index in skf.split(iris_df, iris_df['label']):\n",
        "  n_iter +=1\n",
        "  label_train = iris_df['label'].iloc[train_index]\n",
        "  label_test = iris_df['label'].iloc[test_index]\n",
        "  print('##교차검증: {0}'.format(n_iter))\n",
        "  print('학습레이블 데이터 분포:\\n', label_train.value_counts())\n",
        "  print('검증레이블 데이터 분포:\\n', label_test.value_counts())\n",
        "  print('\\n')\n",
        "\n",
        "## 학습레이블과 검증레이블 데이터 값의 분포도가 동일하게 할당\n",
        "## 이렇게 분할되어야 레이블 값 0,1,2 모두를 학습할 수 있고 이에 기반해 검증을 수행할 수 있음. "
      ],
      "metadata": {
        "colab": {
          "base_uri": "https://localhost:8080/"
        },
        "id": "vrmm8ZnzAOlw",
        "outputId": "4676475b-583d-4a2d-c3fb-a9eb75270a38"
      },
      "execution_count": 30,
      "outputs": [
        {
          "output_type": "stream",
          "name": "stdout",
          "text": [
            "##교차검증: 1\n",
            "학습레이블 데이터 분포:\n",
            " 2    34\n",
            "0    33\n",
            "1    33\n",
            "Name: label, dtype: int64\n",
            "검증레이블 데이터 분포:\n",
            " 0    17\n",
            "1    17\n",
            "2    16\n",
            "Name: label, dtype: int64\n",
            "\n",
            "\n",
            "##교차검증: 2\n",
            "학습레이블 데이터 분포:\n",
            " 1    34\n",
            "0    33\n",
            "2    33\n",
            "Name: label, dtype: int64\n",
            "검증레이블 데이터 분포:\n",
            " 0    17\n",
            "2    17\n",
            "1    16\n",
            "Name: label, dtype: int64\n",
            "\n",
            "\n",
            "##교차검증: 3\n",
            "학습레이블 데이터 분포:\n",
            " 0    34\n",
            "1    33\n",
            "2    33\n",
            "Name: label, dtype: int64\n",
            "검증레이블 데이터 분포:\n",
            " 1    17\n",
            "2    17\n",
            "0    16\n",
            "Name: label, dtype: int64\n",
            "\n",
            "\n"
          ]
        }
      ]
    },
    {
      "cell_type": "code",
      "source": [
        "# 4. Stratified K폴드를 이용해 붓꽃데이터 교차검증 수행하기\n",
        "\n",
        "df_clf = DecisionTreeClassifier(random_state=156)\n",
        "skfold = StratifiedKFold(n_splits=3)\n",
        "n_iter=0\n",
        "cv_accuracy = []\n",
        "\n",
        "# StratifiedKFold의 split() 호출 시 반드시 레이블데이터 세트도 추가 입력 필요\n",
        "for train_index, test_index in skfold.split(features, label):\n",
        "  # split()으로 반환된 인덱스를 이용해 학습용, 검증용 테스트 데이터 추출\n",
        "  X_train, X_test = features[train_index], features[test_index]\n",
        "  y_train, y_test = label[train_index], label[test_index]\n",
        "  # 학습 및 예측 \n",
        "  dt_clf.fit(X_train, y_train)\n",
        "  pred = dt_clf.predict(X_test)\n",
        "\n",
        "  # 반복시마다 정확도 측정\n",
        "  n_iter +=1\n",
        "  accuracy = np.round(accuracy_score(y_test, pred), 4)\n",
        "  train_size = X_train.shape[0]\n",
        "  test_size = X_test.shape[0]\n",
        "  print('\\n #{0} 교차검증 정확도 : {1}, 학습데이터 크기 : {2}, 검증데이터 크기 : {3}'\n",
        "        .format(n_iter, accuracy, train_size, test_size))\n",
        "  print('\\n #{0} 검증세트 인덱스 : {1}'.format(n_iter, test_index))\n",
        "  cv_accuracy.append(accuracy)\n",
        "\n",
        "# 교차검증별 정확도 및 평균정확도 계산\n",
        "print('\\n ##교차검증별 정확도 : ', np.round(cv_accuracy,4))\n",
        "print('##평균 검증 정확도 : ', np.mean(cv_accuracy))\n",
        "\n",
        "## 평균검증 정확도가 97.3%로 높게 나옴\n",
        "## 원본 데이터셋의 레이블 데이터의 분포도 특성을 반영해 교차검증을 해야\n",
        "## Stratified KFold : 분류 반드시o, 회귀 지원x"
      ],
      "metadata": {
        "colab": {
          "base_uri": "https://localhost:8080/"
        },
        "id": "Fx4UWs5fAOqX",
        "outputId": "49587c37-3c52-42af-a3eb-3b835df45f92"
      },
      "execution_count": 34,
      "outputs": [
        {
          "output_type": "stream",
          "name": "stdout",
          "text": [
            "\n",
            " #1 교차검증 정확도 : 0.98, 학습데이터 크기 : 100, 검증데이터 크기 : 50\n",
            "\n",
            " #1 검증세트 인덱스 : [  0   1   2   3   4   5   6   7   8   9  10  11  12  13  14  15  16  50\n",
            "  51  52  53  54  55  56  57  58  59  60  61  62  63  64  65  66 100 101\n",
            " 102 103 104 105 106 107 108 109 110 111 112 113 114 115]\n",
            "\n",
            " #2 교차검증 정확도 : 0.94, 학습데이터 크기 : 100, 검증데이터 크기 : 50\n",
            "\n",
            " #2 검증세트 인덱스 : [ 17  18  19  20  21  22  23  24  25  26  27  28  29  30  31  32  33  67\n",
            "  68  69  70  71  72  73  74  75  76  77  78  79  80  81  82 116 117 118\n",
            " 119 120 121 122 123 124 125 126 127 128 129 130 131 132]\n",
            "\n",
            " #3 교차검증 정확도 : 1.0, 학습데이터 크기 : 100, 검증데이터 크기 : 50\n",
            "\n",
            " #3 검증세트 인덱스 : [ 34  35  36  37  38  39  40  41  42  43  44  45  46  47  48  49  83  84\n",
            "  85  86  87  88  89  90  91  92  93  94  95  96  97  98  99 133 134 135\n",
            " 136 137 138 139 140 141 142 143 144 145 146 147 148 149]\n",
            "\n",
            " ##교차검증별 정확도 :  [0.98 0.94 1.  ]\n",
            "##평균 검증 정확도 :  0.9733333333333333\n"
          ]
        }
      ]
    },
    {
      "cell_type": "markdown",
      "source": [
        "#### (c) cross_val_score()\n",
        "-교차검증을 보다 간편하게"
      ],
      "metadata": {
        "id": "pzknjPtiAOt2"
      }
    },
    {
      "cell_type": "code",
      "source": [
        "p. 112"
      ],
      "metadata": {
        "id": "Adm_LTgmGDJC"
      },
      "execution_count": null,
      "outputs": []
    },
    {
      "cell_type": "markdown",
      "source": [
        "#### (d) GridSearchCV\n",
        "-교차검증과 최적 하이퍼 파라미터 튜닝을 한번"
      ],
      "metadata": {
        "id": "nbAVRnnEkI0D"
      }
    },
    {
      "cell_type": "markdown",
      "source": [
        "p. 113-117"
      ],
      "metadata": {
        "id": "w6WpHyy9kI13"
      }
    },
    {
      "cell_type": "code",
      "source": [],
      "metadata": {
        "id": "q-v9cscHkHrK"
      },
      "execution_count": null,
      "outputs": []
    },
    {
      "cell_type": "markdown",
      "source": [
        "### (4) 데이터 전처리"
      ],
      "metadata": {
        "id": "Sa9rxDVYGL_v"
      }
    },
    {
      "cell_type": "markdown",
      "source": [
        "* 사이킷런의 머신러닝 알고리즘은 문자열값을 입력 값으로 허용하지 않는다.\n",
        "* 모든 문자열값을 인코딩해서 숫자형으로 변환해야 한다.  \n",
        "* 문자열 피처 = 카테고리형 피처 + 텍스트형 피처   \n",
        "  1. 카테고리형 피처  \n",
        "    : 코드 값으로 표현  \n",
        "  2. 텍스트형 피처   \n",
        "    a) 벡타화하기 (ex 피처 벡터화)  \n",
        "    b) 불필요한 피처라고 판단되면 삭제하기"
      ],
      "metadata": {
        "id": "i4oqzLCnGO-I"
      }
    },
    {
      "cell_type": "markdown",
      "source": [
        "#### * 데이터 인코딩"
      ],
      "metadata": {
        "id": "RHHN6JLLGPBm"
      }
    },
    {
      "cell_type": "markdown",
      "source": [
        "#### (a) 레이블 인코딩\n"
      ],
      "metadata": {
        "id": "f-9Q-uDzHqM4"
      }
    },
    {
      "cell_type": "markdown",
      "source": [
        "#### (b) 원-핫 인코딩"
      ],
      "metadata": {
        "id": "SeIOLHruHxJx"
      }
    },
    {
      "cell_type": "markdown",
      "source": [
        "#### * 피쳐 스케일링과 정규화"
      ],
      "metadata": {
        "id": "q9tTvjklHxNp"
      }
    },
    {
      "cell_type": "markdown",
      "source": [
        "#### (a) StandardScaler"
      ],
      "metadata": {
        "id": "G0P56y0ZHxQQ"
      }
    },
    {
      "cell_type": "markdown",
      "source": [
        "#### (b) MinMaxScaler"
      ],
      "metadata": {
        "id": "r9DyMju5HxSj"
      }
    },
    {
      "cell_type": "markdown",
      "source": [
        "#### (c) 학습데이터와 테스트데이터의 스케일링 변환시 유의점"
      ],
      "metadata": {
        "id": "WdfMbXbEHqRj"
      }
    },
    {
      "cell_type": "code",
      "source": [
        "ㅎ"
      ],
      "metadata": {
        "id": "gTbCGfk5HqU7"
      },
      "execution_count": null,
      "outputs": []
    },
    {
      "cell_type": "code",
      "source": [],
      "metadata": {
        "id": "j_88t643HqZn"
      },
      "execution_count": null,
      "outputs": []
    },
    {
      "cell_type": "code",
      "source": [],
      "metadata": {
        "id": "onJ5cC83HqcV"
      },
      "execution_count": null,
      "outputs": []
    },
    {
      "cell_type": "code",
      "source": [],
      "metadata": {
        "id": "SzC9wxJMHqft"
      },
      "execution_count": null,
      "outputs": []
    }
  ]
}