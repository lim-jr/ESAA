{
 "cells": [
  {
   "cell_type": "markdown",
   "id": "bf79c78b",
   "metadata": {
    "id": "bf79c78b"
   },
   "source": [
    "# 100 numpy exercises\n",
    "\n",
    "This is a collection of exercises that have been collected in the numpy mailing list, on stack overflow\n",
    "and in the numpy documentation. The goal of this collection is to offer a quick reference for both old\n",
    "and new users but also to provide a set of exercises for those who teach.\n",
    "\n",
    "\n",
    "If you find an error or think you've a better way to solve some of them, feel\n",
    "free to open an issue at <https://github.com/rougier/numpy-100>."
   ]
  },
  {
   "cell_type": "markdown",
   "id": "8536e059",
   "metadata": {
    "id": "8536e059"
   },
   "source": [
    "File automatically generated. See the documentation to update questions/answers/hints programmatically."
   ]
  },
  {
   "cell_type": "markdown",
   "id": "e16ac60b",
   "metadata": {
    "id": "e16ac60b"
   },
   "source": [
    "Run the `initialize.py` module, then for each question you can query the\n",
    "answer or an hint with `hint(n)` or `answer(n)` for `n` question number."
   ]
  },
  {
   "cell_type": "code",
   "execution_count": 92,
   "id": "a8453483",
   "metadata": {
    "id": "a8453483"
   },
   "outputs": [],
   "source": [
    "%run initialise.py"
   ]
  },
  {
   "cell_type": "markdown",
   "id": "017db353",
   "metadata": {
    "id": "017db353"
   },
   "source": [
    "#### 1. Import the numpy package under the name `np` (★☆☆)"
   ]
  },
  {
   "cell_type": "code",
   "execution_count": 2,
   "id": "68182a76",
   "metadata": {
    "id": "68182a76"
   },
   "outputs": [],
   "source": [
    "import numpy as np"
   ]
  },
  {
   "cell_type": "markdown",
   "id": "46950f4f",
   "metadata": {
    "id": "46950f4f"
   },
   "source": [
    "#### 2. Print the numpy version and the configuration (★☆☆)"
   ]
  },
  {
   "cell_type": "code",
   "execution_count": 3,
   "id": "2a9f5838",
   "metadata": {
    "id": "2a9f5838"
   },
   "outputs": [
    {
     "name": "stdout",
     "output_type": "stream",
     "text": [
      "<module 'numpy' from 'C:\\\\ProgramData\\\\Anaconda3\\\\lib\\\\site-packages\\\\numpy\\\\__init__.py'>\n"
     ]
    }
   ],
   "source": [
    "print(np)"
   ]
  },
  {
   "cell_type": "markdown",
   "id": "e3c20b3d",
   "metadata": {
    "id": "e3c20b3d"
   },
   "source": [
    "#### 3. Create a null vector of size 10 (★☆☆)"
   ]
  },
  {
   "cell_type": "code",
   "execution_count": 15,
   "id": "8a758bcf",
   "metadata": {
    "id": "8a758bcf"
   },
   "outputs": [
    {
     "name": "stdout",
     "output_type": "stream",
     "text": [
      "[0. 0. 0. 0. 0. 0. 0. 0. 0. 0.]\n"
     ]
    }
   ],
   "source": [
    "null_vector = np.zeros(10)\n",
    "print(null_vector)"
   ]
  },
  {
   "cell_type": "markdown",
   "id": "b15a879f",
   "metadata": {
    "id": "b15a879f"
   },
   "source": [
    "#### 4. How to find the memory size of any array (★☆☆)"
   ]
  },
  {
   "cell_type": "code",
   "execution_count": 10,
   "id": "1cc3cbc5",
   "metadata": {
    "id": "1cc3cbc5"
   },
   "outputs": [
    {
     "data": {
      "text/plain": [
       "(10,)"
      ]
     },
     "execution_count": 10,
     "metadata": {},
     "output_type": "execute_result"
    }
   ],
   "source": [
    "np.shape(null_vector)"
   ]
  },
  {
   "cell_type": "markdown",
   "id": "0b16cd77",
   "metadata": {
    "id": "0b16cd77"
   },
   "source": [
    "#### 5. Create a null vector of size 10 but the fifth value which is 1 (★☆☆)"
   ]
  },
  {
   "cell_type": "code",
   "execution_count": 16,
   "id": "4d9b5975",
   "metadata": {
    "id": "4d9b5975"
   },
   "outputs": [
    {
     "name": "stdout",
     "output_type": "stream",
     "text": [
      "[0. 0. 0. 0. 1. 0. 0. 0. 0. 0.]\n"
     ]
    }
   ],
   "source": [
    "null_vector[4] = 1\n",
    "print(null_vector)"
   ]
  },
  {
   "cell_type": "markdown",
   "id": "782d4c77",
   "metadata": {
    "id": "782d4c77"
   },
   "source": [
    "#### 6. Create a vector with values ranging from 10 to 49 (★☆☆)"
   ]
  },
  {
   "cell_type": "code",
   "execution_count": 17,
   "id": "5dbe1a08",
   "metadata": {
    "id": "5dbe1a08"
   },
   "outputs": [
    {
     "name": "stdout",
     "output_type": "stream",
     "text": [
      "[10 11 12 13 14 15 16 17 18 19 20 21 22 23 24 25 26 27 28 29 30 31 32 33\n",
      " 34 35 36 37 38 39 40 41 42 43 44 45 46 47 48 49]\n"
     ]
    }
   ],
   "source": [
    "six_vector = np.arange(10,50)\n",
    "print(six_vector)"
   ]
  },
  {
   "cell_type": "markdown",
   "id": "48d48f01",
   "metadata": {
    "id": "48d48f01"
   },
   "source": [
    "#### 7. Reverse a vector (first element becomes last) (★☆☆)"
   ]
  },
  {
   "cell_type": "code",
   "execution_count": 18,
   "id": "3ed233e7",
   "metadata": {
    "id": "3ed233e7"
   },
   "outputs": [
    {
     "data": {
      "text/plain": [
       "array([49, 48, 47, 46, 45, 44, 43, 42, 41, 40, 39, 38, 37, 36, 35, 34, 33,\n",
       "       32, 31, 30, 29, 28, 27, 26, 25, 24, 23, 22, 21, 20, 19, 18, 17, 16,\n",
       "       15, 14, 13, 12, 11, 10])"
      ]
     },
     "execution_count": 18,
     "metadata": {},
     "output_type": "execute_result"
    }
   ],
   "source": [
    "np.sort(six_vector)[::-1]\n",
    "#six_vector.sort() 이건 내림차순 안됨"
   ]
  },
  {
   "cell_type": "markdown",
   "id": "4fa39382",
   "metadata": {
    "id": "4fa39382"
   },
   "source": [
    "#### 8. Create a 3x3 matrix with values ranging from 0 to 8 (★☆☆)"
   ]
  },
  {
   "cell_type": "code",
   "execution_count": 19,
   "id": "c97757ec",
   "metadata": {
    "id": "c97757ec"
   },
   "outputs": [
    {
     "data": {
      "text/plain": [
       "array([[0, 1, 2],\n",
       "       [3, 4, 5],\n",
       "       [6, 7, 8]])"
      ]
     },
     "execution_count": 19,
     "metadata": {},
     "output_type": "execute_result"
    }
   ],
   "source": [
    "np.arange(0,9).reshape((3,3))"
   ]
  },
  {
   "cell_type": "markdown",
   "id": "da64551a",
   "metadata": {
    "id": "da64551a"
   },
   "source": [
    "#### 9. Find indices of non-zero elements from [1,2,0,0,4,0] (★☆☆)"
   ]
  },
  {
   "cell_type": "code",
   "execution_count": 31,
   "id": "327f7adb",
   "metadata": {
    "id": "327f7adb"
   },
   "outputs": [
    {
     "name": "stdout",
     "output_type": "stream",
     "text": [
      "[ True  True False False  True False]\n"
     ]
    },
    {
     "ename": "ValueError",
     "evalue": "The truth value of an array with more than one element is ambiguous. Use a.any() or a.all()",
     "output_type": "error",
     "traceback": [
      "\u001b[1;31m---------------------------------------------------------------------------\u001b[0m",
      "\u001b[1;31mValueError\u001b[0m                                Traceback (most recent call last)",
      "Input \u001b[1;32mIn [31]\u001b[0m, in \u001b[0;36m<cell line: 8>\u001b[1;34m()\u001b[0m\n\u001b[0;32m      5\u001b[0m \u001b[38;5;28mprint\u001b[39m(index1)\n\u001b[0;32m      6\u001b[0m np\u001b[38;5;241m.\u001b[39margsort(index1)\n\u001b[1;32m----> 8\u001b[0m \u001b[38;5;28;01mif\u001b[39;00m \u001b[43mindex1\u001b[49m\u001b[43m \u001b[49m\u001b[38;5;241;43m==\u001b[39;49m\u001b[43m \u001b[49m\u001b[38;5;28;43;01mTrue\u001b[39;49;00m :\n\u001b[0;32m      9\u001b[0m     \u001b[38;5;28mprint\u001b[39m(np\u001b[38;5;241m.\u001b[39margsort(index1))\n",
      "\u001b[1;31mValueError\u001b[0m: The truth value of an array with more than one element is ambiguous. Use a.any() or a.all()"
     ]
    }
   ],
   "source": [
    "array1 = np.array([1,2,0,0,4,0])\n",
    "np.argsort([array1 != 0])\n",
    "\n",
    "index1 = (array1 != 0)\n",
    "print(index1)\n",
    "np.argsort(index1)\n",
    "\n",
    "if index1 == True :\n",
    "    print(np.argsort(index1))\n",
    "\n",
    "# 원하는 결과 안나옴"
   ]
  },
  {
   "cell_type": "code",
   "execution_count": 37,
   "id": "e842ed66",
   "metadata": {},
   "outputs": [
    {
     "name": "stdout",
     "output_type": "stream",
     "text": [
      "[0, 1, 4]\n"
     ]
    }
   ],
   "source": [
    "list1 = [1,2,0,0,4,0]\n",
    "nonzero = []\n",
    "\n",
    "for i in list1:\n",
    "    if i !=0 :\n",
    "        nonzero.append(list1.index(i))\n",
    "print(nonzero)\n",
    "\n",
    "# by 은서"
   ]
  },
  {
   "cell_type": "markdown",
   "id": "f89d9c9e",
   "metadata": {
    "id": "f89d9c9e"
   },
   "source": [
    "#### 10. Create a 3x3 identity matrix (★☆☆)\n",
    "Hint : identity & eye, try to use 'help' to learn how to use two functions of numpy"
   ]
  },
  {
   "cell_type": "code",
   "execution_count": 40,
   "id": "ba625832",
   "metadata": {
    "id": "ba625832"
   },
   "outputs": [
    {
     "name": "stdout",
     "output_type": "stream",
     "text": [
      "[[1. 0. 0.]\n",
      " [0. 1. 0.]\n",
      " [0. 0. 1.]] \n",
      " [[1. 0. 0.]\n",
      " [0. 1. 0.]\n",
      " [0. 0. 1.]]\n"
     ]
    }
   ],
   "source": [
    "M1 = np.identity(3)\n",
    "M2 = np.eye(3, dtype=float)\n",
    "print(M1,'\\n', M2)"
   ]
  },
  {
   "cell_type": "markdown",
   "id": "7e44c6fa",
   "metadata": {
    "id": "7e44c6fa"
   },
   "source": [
    "#### 11. Create a 3x3x3 array with random values (★☆☆)\n",
    "Hint : numpy.random.random"
   ]
  },
  {
   "cell_type": "code",
   "execution_count": 44,
   "id": "1cb3dddf",
   "metadata": {
    "id": "1cb3dddf"
   },
   "outputs": [
    {
     "data": {
      "text/plain": [
       "array([[[0.12231039, 0.14616004, 0.88402588],\n",
       "        [0.81086343, 0.27850006, 0.04057657],\n",
       "        [0.82483657, 0.37756536, 0.16944724]],\n",
       "\n",
       "       [[0.49119534, 0.3712275 , 0.18424721],\n",
       "        [0.38858723, 0.55698432, 0.23761824],\n",
       "        [0.68504983, 0.65286122, 0.86058321]],\n",
       "\n",
       "       [[0.68856192, 0.30742413, 0.6680265 ],\n",
       "        [0.79525097, 0.04922293, 0.17096525],\n",
       "        [0.84904274, 0.65697369, 0.27024168]]])"
      ]
     },
     "execution_count": 44,
     "metadata": {},
     "output_type": "execute_result"
    }
   ],
   "source": [
    "np.random.random(27).reshape((3,3,3))"
   ]
  },
  {
   "cell_type": "markdown",
   "id": "13c5928c",
   "metadata": {
    "id": "13c5928c"
   },
   "source": [
    "#### 12. Create a 10x10 array with random values and find the **min**imum and **max**imum values (★☆☆)"
   ]
  },
  {
   "cell_type": "code",
   "execution_count": 51,
   "id": "911c9b93",
   "metadata": {
    "id": "911c9b93"
   },
   "outputs": [
    {
     "name": "stdout",
     "output_type": "stream",
     "text": [
      "0.004788075736372299 0.991998277840805\n"
     ]
    }
   ],
   "source": [
    "M_10 = np.random.random(100).reshape((10,10))\n",
    "print(np.min(M_10), np.max(M_10))"
   ]
  },
  {
   "cell_type": "markdown",
   "id": "3fa2e461",
   "metadata": {
    "id": "3fa2e461"
   },
   "source": [
    "#### 13. Create a random vector of size 30 and find the **mean** value (★☆☆)"
   ]
  },
  {
   "cell_type": "code",
   "execution_count": 52,
   "id": "323eb38a",
   "metadata": {
    "id": "323eb38a"
   },
   "outputs": [
    {
     "name": "stdout",
     "output_type": "stream",
     "text": [
      "0.5431571628780373\n"
     ]
    }
   ],
   "source": [
    "M_30 = np.random.random(30).reshape(30,)\n",
    "print(np.mean(M_30))"
   ]
  },
  {
   "cell_type": "markdown",
   "id": "73f7a549",
   "metadata": {
    "id": "73f7a549"
   },
   "source": [
    "#### 14. Create a 2d array with 1 on the border and 0 inside (★☆☆)"
   ]
  },
  {
   "cell_type": "code",
   "execution_count": 63,
   "id": "e3a6807d",
   "metadata": {
    "id": "e3a6807d"
   },
   "outputs": [
    {
     "data": {
      "text/plain": [
       "array([[1., 1., 1., 1., 1., 1., 1., 1., 1., 1.],\n",
       "       [1., 0., 0., 0., 0., 0., 0., 0., 0., 1.],\n",
       "       [1., 0., 0., 0., 0., 0., 0., 0., 0., 1.],\n",
       "       [1., 0., 0., 0., 0., 0., 0., 0., 0., 1.],\n",
       "       [1., 0., 0., 0., 0., 0., 0., 0., 0., 1.],\n",
       "       [1., 0., 0., 0., 0., 0., 0., 0., 0., 1.],\n",
       "       [1., 0., 0., 0., 0., 0., 0., 0., 0., 1.],\n",
       "       [1., 0., 0., 0., 0., 0., 0., 0., 0., 1.],\n",
       "       [1., 0., 0., 0., 0., 0., 0., 0., 0., 1.],\n",
       "       [1., 1., 1., 1., 1., 1., 1., 1., 1., 1.]])"
      ]
     },
     "execution_count": 63,
     "metadata": {},
     "output_type": "execute_result"
    }
   ],
   "source": [
    "array14 = np.ones((10,10))\n",
    "array14[1:-1, 1:-1]=0\n",
    "array14\n",
    "# by 현서"
   ]
  },
  {
   "cell_type": "markdown",
   "id": "d6ad1a9f",
   "metadata": {
    "id": "d6ad1a9f"
   },
   "source": [
    "#### 15. What is the result of the following expression? (★☆☆)\n",
    "```python\n",
    "0 * np.nan\n",
    "np.nan == np.nan\n",
    "np.inf > np.nan\n",
    "np.nan - np.nan\n",
    "np.nan in set([np.nan])\n",
    "0.3 == 3 * 0.1\n",
    "```"
   ]
  },
  {
   "cell_type": "code",
   "execution_count": 64,
   "id": "ee7ff0f3",
   "metadata": {
    "id": "ee7ff0f3"
   },
   "outputs": [
    {
     "data": {
      "text/plain": [
       "nan"
      ]
     },
     "execution_count": 64,
     "metadata": {},
     "output_type": "execute_result"
    }
   ],
   "source": [
    "0*np.nan"
   ]
  },
  {
   "cell_type": "code",
   "execution_count": 94,
   "id": "a4abfed4",
   "metadata": {},
   "outputs": [
    {
     "data": {
      "text/plain": [
       "False"
      ]
     },
     "execution_count": 94,
     "metadata": {},
     "output_type": "execute_result"
    }
   ],
   "source": [
    "np.nan == np.nan"
   ]
  },
  {
   "cell_type": "code",
   "execution_count": 95,
   "id": "0b5567e9",
   "metadata": {},
   "outputs": [
    {
     "data": {
      "text/plain": [
       "False"
      ]
     },
     "execution_count": 95,
     "metadata": {},
     "output_type": "execute_result"
    }
   ],
   "source": [
    "np.inf > np.nan"
   ]
  },
  {
   "cell_type": "code",
   "execution_count": 96,
   "id": "a6c3d51e",
   "metadata": {},
   "outputs": [
    {
     "data": {
      "text/plain": [
       "nan"
      ]
     },
     "execution_count": 96,
     "metadata": {},
     "output_type": "execute_result"
    }
   ],
   "source": [
    "np.nan - np.nan"
   ]
  },
  {
   "cell_type": "code",
   "execution_count": 97,
   "id": "996bfe12",
   "metadata": {},
   "outputs": [
    {
     "data": {
      "text/plain": [
       "True"
      ]
     },
     "execution_count": 97,
     "metadata": {},
     "output_type": "execute_result"
    }
   ],
   "source": [
    "np.nan in set([np.nan])"
   ]
  },
  {
   "cell_type": "code",
   "execution_count": 98,
   "id": "bd468e2e",
   "metadata": {},
   "outputs": [
    {
     "data": {
      "text/plain": [
       "False"
      ]
     },
     "execution_count": 98,
     "metadata": {},
     "output_type": "execute_result"
    }
   ],
   "source": [
    "0.3 == 3 * 0.1"
   ]
  },
  {
   "cell_type": "markdown",
   "id": "e3a7ba7f",
   "metadata": {
    "id": "e3a7ba7f"
   },
   "source": [
    "#### 16. Create a 5x5 matrix with values 1,2,3,4 just below the **diag**onal (★☆☆)"
   ]
  },
  {
   "cell_type": "code",
   "execution_count": 57,
   "id": "01d8e257",
   "metadata": {
    "id": "01d8e257",
    "scrolled": true
   },
   "outputs": [
    {
     "data": {
      "text/plain": [
       "array([[0, 0, 0, 0, 0],\n",
       "       [1, 0, 0, 0, 0],\n",
       "       [0, 2, 0, 0, 0],\n",
       "       [0, 0, 3, 0, 0],\n",
       "       [0, 0, 0, 4, 0]])"
      ]
     },
     "execution_count": 57,
     "metadata": {},
     "output_type": "execute_result"
    }
   ],
   "source": [
    "np.diag([1,2,3,4], k=-1)"
   ]
  },
  {
   "cell_type": "markdown",
   "id": "6d17ab5d",
   "metadata": {
    "id": "6d17ab5d"
   },
   "source": [
    "#### 17. Create a 8x8 matrix and fill it with a checkerboard pattern (★☆☆)"
   ]
  },
  {
   "cell_type": "code",
   "execution_count": 76,
   "id": "294c6ec3",
   "metadata": {},
   "outputs": [
    {
     "data": {
      "text/plain": [
       "array([[1., 0., 1., 0., 1., 0., 1., 0.],\n",
       "       [0., 1., 0., 1., 0., 1., 0., 1.],\n",
       "       [1., 0., 1., 0., 1., 0., 1., 0.],\n",
       "       [0., 1., 0., 1., 0., 1., 0., 1.],\n",
       "       [1., 0., 1., 0., 1., 0., 1., 0.],\n",
       "       [0., 1., 0., 1., 0., 1., 0., 1.],\n",
       "       [1., 0., 1., 0., 1., 0., 1., 0.],\n",
       "       [0., 1., 0., 1., 0., 1., 0., 1.]])"
      ]
     },
     "execution_count": 76,
     "metadata": {},
     "output_type": "execute_result"
    }
   ],
   "source": [
    "A = np.zeros((8,8))\n",
    "A[1:8:2, 1:8:2] = 1\n",
    "A[0:7:2, 0:7:2] = 1\n",
    "A\n",
    "\n",
    "# by 민경, 현서"
   ]
  },
  {
   "cell_type": "markdown",
   "id": "8837119b",
   "metadata": {
    "id": "8837119b"
   },
   "source": [
    "#### 18. Consider a (6,7,8) shape array, what is the index (x,y,z) of the 100th element? (★☆☆)\n",
    "Hint : use 'numpy.unravel_index(value, (x, y, z))"
   ]
  },
  {
   "cell_type": "code",
   "execution_count": 78,
   "id": "2c0d16f1",
   "metadata": {
    "id": "2c0d16f1"
   },
   "outputs": [
    {
     "data": {
      "text/plain": [
       "(1, 5, 4)"
      ]
     },
     "execution_count": 78,
     "metadata": {},
     "output_type": "execute_result"
    }
   ],
   "source": [
    "np.unravel_index(100, (6,7,8))\n",
    "# 뭔지 모르겠음 후에 조사 필요"
   ]
  },
  {
   "cell_type": "markdown",
   "id": "391791e0",
   "metadata": {
    "id": "391791e0"
   },
   "source": [
    "#### 19. Normalize a 5x5 random matrix (★☆☆)\n",
    "Hint : $Z = \\frac{X - \\overline{X}}{S}$"
   ]
  },
  {
   "cell_type": "code",
   "execution_count": 84,
   "id": "309aea48",
   "metadata": {},
   "outputs": [
    {
     "name": "stdout",
     "output_type": "stream",
     "text": [
      "[[-1.66623487 -0.90988743  1.37974298  0.80972207 -1.49851016]\n",
      " [-0.49514105  0.03777701  1.29764964 -0.78878252 -0.6229326 ]\n",
      " [-0.49609314  1.24479751  0.89122283  1.03077138  1.55043315]\n",
      " [-0.73511812  1.09279865  0.78107635 -0.37183434 -1.09722455]\n",
      " [-0.01088177 -1.23958401 -1.31314684  0.50025955  0.6291203 ]]\n"
     ]
    }
   ],
   "source": [
    "array19 = np.random.random((5,5))\n",
    "m, sd = array19.mean(), array19.std()\n",
    "array19_nor = (array19-m)/sd\n",
    "print(array19_nor)"
   ]
  },
  {
   "cell_type": "markdown",
   "id": "1e74d39e",
   "metadata": {
    "id": "1e74d39e"
   },
   "source": [
    "#### 20. Create a custom dtype that describes a color as four unsigned bytes (RGBA) (★☆☆)\n",
    "Hint : modify the code below\n",
    "```python\n",
    "numpy.dtype([(value, numpy.ubyte), … , (value, numpy.ubyte)])\n",
    "```"
   ]
  },
  {
   "cell_type": "code",
   "execution_count": 90,
   "id": "3f639d33",
   "metadata": {
    "id": "3f639d33"
   },
   "outputs": [
    {
     "data": {
      "text/plain": [
       "dtype([('r', 'u1'), ('g', 'u1'), ('b', 'u1'), ('a', 'u1')])"
      ]
     },
     "execution_count": 90,
     "metadata": {},
     "output_type": "execute_result"
    }
   ],
   "source": [
    "color = np.dtype([(\"r\", np.ubyte),\n",
    "                  (\"g\", np.ubyte),\n",
    "                  (\"b\", np.ubyte),\n",
    "                  (\"a\", np.ubyte)])\n",
    "                  \n",
    "color"
   ]
  },
  {
   "cell_type": "markdown",
   "id": "78250c14",
   "metadata": {
    "id": "78250c14"
   },
   "source": [
    "#### 21. Multiply a 5x3 matrix by a 3x2 matrix (real matrix product) (★☆☆)"
   ]
  },
  {
   "cell_type": "code",
   "execution_count": 85,
   "id": "9fe729cb",
   "metadata": {
    "id": "9fe729cb"
   },
   "outputs": [
    {
     "name": "stdout",
     "output_type": "stream",
     "text": [
      "[[3. 3.]\n",
      " [3. 3.]\n",
      " [3. 3.]\n",
      " [3. 3.]\n",
      " [3. 3.]]\n"
     ]
    }
   ],
   "source": [
    "Z= np.dot(np.ones((5,3)), np.ones((3,2)))\n",
    "print (Z)"
   ]
  },
  {
   "cell_type": "markdown",
   "id": "51898680",
   "metadata": {
    "id": "51898680"
   },
   "source": [
    "#### 22. Given a 1D array, negate all elements which are between 3 and 8, in place. (★☆☆)"
   ]
  },
  {
   "cell_type": "code",
   "execution_count": 91,
   "id": "51c90f2d",
   "metadata": {
    "id": "51c90f2d"
   },
   "outputs": [
    {
     "data": {
      "text/plain": [
       "array([ 0,  1,  2, -3, -4, -5, -6, -7, -8,  9, 10])"
      ]
     },
     "execution_count": 91,
     "metadata": {},
     "output_type": "execute_result"
    }
   ],
   "source": [
    "z = np.arange(11)\n",
    "z[(2<z) & (z<9)] *= -1\n",
    "z"
   ]
  },
  {
   "cell_type": "markdown",
   "id": "89e78048",
   "metadata": {
    "id": "89e78048"
   },
   "source": [
    "#### 23. What is the output of the following script? (★☆☆)\n",
    "```python\n",
    "# Author: Jake VanderPlas\n",
    "\n",
    "print(sum(range(5),-1))\n",
    "from numpy import *\n",
    "print(sum(range(5),-1))\n",
    "```"
   ]
  },
  {
   "cell_type": "code",
   "execution_count": 86,
   "id": "b62e9d1c",
   "metadata": {
    "id": "b62e9d1c"
   },
   "outputs": [
    {
     "name": "stdout",
     "output_type": "stream",
     "text": [
      "9\n",
      "10\n"
     ]
    }
   ],
   "source": [
    "print(sum(range(5),-1))\n",
    "from numpy import *\n",
    "print(sum(range(5),-1))"
   ]
  },
  {
   "cell_type": "markdown",
   "id": "ebd10810",
   "metadata": {
    "id": "ebd10810"
   },
   "source": [
    "#### 24. Consider an integer vector Z, which of these expressions are legal? (★☆☆)\n",
    "```python\n",
    "Z**Z\n",
    "2 << Z >> 2\n",
    "Z <- Z\n",
    "1j*Z\n",
    "Z/1/1\n",
    "Z<Z>Z\n",
    "```"
   ]
  },
  {
   "cell_type": "code",
   "execution_count": 93,
   "id": "6ada209f",
   "metadata": {
    "id": "6ada209f"
   },
   "outputs": [
    {
     "name": "stdout",
     "output_type": "stream",
     "text": [
      "[        1         1         4        27       256      3125     46656\n",
      "    823543  16777216 387420489]\n",
      "[  0   1   2   4   8  16  32  64 128 256]\n",
      "[False False False False False False False False False False]\n",
      "[0.+0.j 0.+1.j 0.+2.j 0.+3.j 0.+4.j 0.+5.j 0.+6.j 0.+7.j 0.+8.j 0.+9.j]\n",
      "[0. 1. 2. 3. 4. 5. 6. 7. 8. 9.]\n"
     ]
    }
   ],
   "source": [
    "Z = np.arange(10)\n",
    "print(Z**Z)\n",
    "print(2 << Z >> 2)\n",
    "print(Z <- Z)\n",
    "print(1j*Z)\n",
    "print(Z/1/1)"
   ]
  },
  {
   "cell_type": "markdown",
   "id": "c0e940f8",
   "metadata": {
    "id": "c0e940f8"
   },
   "source": [
    "#### 25. What are the result of the following expressions? (★☆☆)\n",
    "```python\n",
    "np.array(0) / np.array(0)\n",
    "np.array(0) // np.array(0)\n",
    "np.array([np.nan]).astype(int).astype(float)\n",
    "```"
   ]
  },
  {
   "cell_type": "code",
   "execution_count": 87,
   "id": "820dc7a5",
   "metadata": {
    "id": "820dc7a5"
   },
   "outputs": [
    {
     "name": "stderr",
     "output_type": "stream",
     "text": [
      "C:\\Users\\user\\AppData\\Local\\Temp\\ipykernel_11928\\548293649.py:1: RuntimeWarning: invalid value encountered in true_divide\n",
      "  np.array(0) / np.array(0)\n",
      "C:\\Users\\user\\AppData\\Local\\Temp\\ipykernel_11928\\548293649.py:2: RuntimeWarning: divide by zero encountered in floor_divide\n",
      "  np.array(0) // np.array(0)\n"
     ]
    },
    {
     "data": {
      "text/plain": [
       "array([-2.14748365e+09])"
      ]
     },
     "execution_count": 87,
     "metadata": {},
     "output_type": "execute_result"
    }
   ],
   "source": [
    "np.array(0) / np.array(0)\n",
    "np.array(0) // np.array(0)\n",
    "np.array([np.nan]).astype(int).astype(float)"
   ]
  },
  {
   "cell_type": "markdown",
   "id": "f1ae2c2d",
   "metadata": {
    "id": "f1ae2c2d"
   },
   "source": [
    "#### 26. How to find common values between two arrays? (★☆☆)\n",
    "```python\n",
    "Z1 = np.random.randint(0,10,10)\n",
    "Z2 = np.random.randint(0,10,10)\n",
    "```\n",
    "Hint : use `numpy.random.randint(start, end, size)`"
   ]
  },
  {
   "cell_type": "code",
   "execution_count": null,
   "id": "6801c73d",
   "metadata": {
    "id": "6801c73d"
   },
   "outputs": [],
   "source": []
  },
  {
   "cell_type": "markdown",
   "id": "37bc0973",
   "metadata": {
    "id": "37bc0973"
   },
   "source": [
    "#### 27. Is the following expressions true? (★☆☆)\n",
    "```python\n",
    "np.sqrt(-1) == np.emath.sqrt(-1)\n",
    "```"
   ]
  },
  {
   "cell_type": "code",
   "execution_count": null,
   "id": "c70cbabe",
   "metadata": {
    "id": "c70cbabe"
   },
   "outputs": [],
   "source": []
  },
  {
   "cell_type": "code",
   "execution_count": null,
   "id": "uFZqYO0BxrKi",
   "metadata": {
    "id": "uFZqYO0BxrKi"
   },
   "outputs": [],
   "source": [
    "import numpy as np"
   ]
  },
  {
   "cell_type": "markdown",
   "id": "42f8b2f9",
   "metadata": {
    "id": "42f8b2f9"
   },
   "source": [
    "#### 28. How to get all the dates corresponding to the month of July 2016? (★★☆)\n",
    "Hint : modify the code below\n",
    "```python\n",
    "Z = np.arange('start', 'end', dtype='datetime64[D]')\n",
    "```"
   ]
  },
  {
   "cell_type": "code",
   "execution_count": null,
   "id": "3kkl01x3x0NF",
   "metadata": {
    "id": "3kkl01x3x0NF"
   },
   "outputs": [],
   "source": []
  },
  {
   "cell_type": "markdown",
   "id": "252c43e2",
   "metadata": {
    "id": "252c43e2"
   },
   "source": [
    "#### 29. How to compute ((A+B)*(-A/2)) in place (without copy)? (★★☆)\n",
    "Hint : use `numpy.add`, `numpy.divide`,`numpy.negative`, `numpy.multiply` and parameter `out` of the funtions"
   ]
  },
  {
   "cell_type": "code",
   "execution_count": null,
   "id": "f06ff615",
   "metadata": {
    "id": "f06ff615"
   },
   "outputs": [],
   "source": []
  },
  {
   "cell_type": "markdown",
   "id": "486df8ea",
   "metadata": {
    "id": "486df8ea"
   },
   "source": [
    "#### 30. Extract the integer part of a random array of positive numbers using 2 different methods (★★☆)\n",
    "Hint : `%`, `//`"
   ]
  },
  {
   "cell_type": "code",
   "execution_count": null,
   "id": "34b4fa08",
   "metadata": {
    "id": "34b4fa08"
   },
   "outputs": [],
   "source": []
  },
  {
   "cell_type": "markdown",
   "id": "649e89f9",
   "metadata": {
    "id": "649e89f9"
   },
   "source": [
    "#### 31. Create a 5x5 matrix with row values ranging from 0 to 4 (★★☆)"
   ]
  },
  {
   "cell_type": "code",
   "execution_count": null,
   "id": "663cc611",
   "metadata": {
    "id": "663cc611"
   },
   "outputs": [],
   "source": []
  },
  {
   "cell_type": "markdown",
   "id": "2d07be1c",
   "metadata": {
    "id": "2d07be1c"
   },
   "source": [
    "#### 32. Create a random vector of size 10 and sort it (★★☆)"
   ]
  },
  {
   "cell_type": "code",
   "execution_count": null,
   "id": "4f7cb3ad",
   "metadata": {
    "id": "4f7cb3ad"
   },
   "outputs": [],
   "source": []
  },
  {
   "cell_type": "markdown",
   "id": "fe043549",
   "metadata": {
    "id": "fe043549"
   },
   "source": [
    "#### 33. Consider two random array A and B, check if they are equal (★★☆)\n",
    "```python\n",
    "A = np.random.randint(0,2,5)\n",
    "B = np.random.randint(0,2,5)\n",
    "```\n",
    "Hint : Use `numpy.array_equal()`"
   ]
  },
  {
   "cell_type": "code",
   "execution_count": null,
   "id": "3326a686",
   "metadata": {
    "id": "3326a686"
   },
   "outputs": [],
   "source": []
  },
  {
   "cell_type": "markdown",
   "id": "2002cb03",
   "metadata": {
    "id": "2002cb03"
   },
   "source": [
    "#### 34. Consider a random 10x2 matrix representing cartesian coordinates, convert them to polar coordinates (★★☆)\n",
    "Hint 1 : Note that cartesian coodinate **(x, y)** can be represented as  polar coordinates **(distance from origin to (x,y), angle from the x-axis)**\n",
    "\n",
    "Hint 2 : Use `numpy.sqrt` and `numpy.arctan2`"
   ]
  },
  {
   "cell_type": "code",
   "execution_count": null,
   "id": "58be72bc",
   "metadata": {
    "id": "58be72bc"
   },
   "outputs": [],
   "source": []
  },
  {
   "cell_type": "markdown",
   "id": "b7109c9f",
   "metadata": {
    "id": "b7109c9f"
   },
   "source": [
    "#### 35. Create random vector Z of size 10 and replace the maximum value by 0 (★★☆)\n",
    "Hint : We can see the index of maximum value using `Z.argmax()`"
   ]
  },
  {
   "cell_type": "code",
   "execution_count": null,
   "id": "f79e79a7",
   "metadata": {
    "id": "f79e79a7"
   },
   "outputs": [],
   "source": []
  },
  {
   "cell_type": "markdown",
   "id": "e6e1ae2f",
   "metadata": {
    "id": "e6e1ae2f"
   },
   "source": [
    "#### 36. How to find the closest value (to a given scalar v) in a vector Z? (★★☆)\n",
    "```python\n",
    "Z = np.arange(100)\n",
    "v = np.random.uniform(0,100)\n",
    "```\n",
    "Hint : Coumpute the distances between the each elements of Z and the scalar v. After that, we can see the index of minimum value using `argmin()`.  "
   ]
  },
  {
   "cell_type": "code",
   "execution_count": null,
   "id": "QkQ2Mii77FrE",
   "metadata": {
    "id": "QkQ2Mii77FrE"
   },
   "outputs": [],
   "source": []
  },
  {
   "cell_type": "markdown",
   "id": "f98713a6",
   "metadata": {
    "id": "f98713a6"
   },
   "source": [
    "#### 37. What is the equivalent of enumerate for numpy arrays? (★★☆)\n",
    "Hint : Use `numpy.ndenumerate()`or `numpy.ndindex()`\n",
    "\n",
    "Example of the output :\n",
    "```python\n",
    "Z = np.arange(9).reshape(3,3)\n",
    "```\n",
    "```python\n",
    "# output\n",
    "(0, 0) 0\n",
    "(0, 1) 1\n",
    "(0, 2) 2\n",
    "(1, 0) 3\n",
    "(1, 1) 4\n",
    "(1, 2) 5\n",
    "(2, 0) 6\n",
    "(2, 1) 7\n",
    "(2, 2) 8\n",
    "```"
   ]
  },
  {
   "cell_type": "code",
   "execution_count": null,
   "id": "64795f84",
   "metadata": {
    "id": "64795f84"
   },
   "outputs": [],
   "source": []
  },
  {
   "cell_type": "markdown",
   "id": "0cf413ee",
   "metadata": {
    "id": "0cf413ee"
   },
   "source": [
    "#### 38. How to randomly place p elements in a 2D array? (★★☆)\n",
    "Hint : modify the code below\n",
    "```python\n",
    "n = 'size of a 2D array'\n",
    "p = 'the number of elements that you want to place'\n",
    "Z = np.zeros((n,n))\n",
    "np.put(Z, np.random.choice(range(n*n), p, replace = False),'value that you want to place')\n",
    "print(Z)\n",
    "```"
   ]
  },
  {
   "cell_type": "code",
   "execution_count": null,
   "id": "dfc57e06",
   "metadata": {
    "id": "dfc57e06"
   },
   "outputs": [],
   "source": []
  },
  {
   "cell_type": "markdown",
   "id": "c0cf37e0",
   "metadata": {
    "id": "c0cf37e0"
   },
   "source": [
    "#### 39. How to sort an array below by the nth column? (★★☆)\n",
    "```python\n",
    "Z = np.random.randint(0,10,(3,3))\n",
    "```"
   ]
  },
  {
   "cell_type": "code",
   "execution_count": null,
   "id": "9336ca5f",
   "metadata": {
    "id": "9336ca5f"
   },
   "outputs": [],
   "source": [
    "# column 1"
   ]
  },
  {
   "cell_type": "code",
   "execution_count": null,
   "id": "0hZzZ6tn2K6V",
   "metadata": {
    "id": "0hZzZ6tn2K6V"
   },
   "outputs": [],
   "source": [
    "# column 2"
   ]
  },
  {
   "cell_type": "code",
   "execution_count": null,
   "id": "z4zqQXvt2NaB",
   "metadata": {
    "id": "z4zqQXvt2NaB"
   },
   "outputs": [],
   "source": [
    "# column 3"
   ]
  }
 ],
 "metadata": {
  "colab": {
   "collapsed_sections": [
    "51898680"
   ],
   "provenance": []
  },
  "kernelspec": {
   "display_name": "Python 3 (ipykernel)",
   "language": "python",
   "name": "python3"
  },
  "language_info": {
   "codemirror_mode": {
    "name": "ipython",
    "version": 3
   },
   "file_extension": ".py",
   "mimetype": "text/x-python",
   "name": "python",
   "nbconvert_exporter": "python",
   "pygments_lexer": "ipython3",
   "version": "3.9.12"
  }
 },
 "nbformat": 4,
 "nbformat_minor": 5
}
