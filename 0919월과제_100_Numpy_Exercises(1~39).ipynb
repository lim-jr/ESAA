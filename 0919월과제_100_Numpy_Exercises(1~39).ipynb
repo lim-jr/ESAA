{
  "cells": [
    {
      "cell_type": "markdown",
      "metadata": {
        "id": "view-in-github",
        "colab_type": "text"
      },
      "source": [
        "<a href=\"https://colab.research.google.com/github/lim-jr/ESAA/blob/main/0919%EC%9B%94%EA%B3%BC%EC%A0%9C_100_Numpy_Exercises(1~39).ipynb\" target=\"_parent\"><img src=\"https://colab.research.google.com/assets/colab-badge.svg\" alt=\"Open In Colab\"/></a>"
      ]
    },
    {
      "cell_type": "markdown",
      "id": "bf79c78b",
      "metadata": {
        "id": "bf79c78b"
      },
      "source": [
        "# 100 numpy exercises\n",
        "\n",
        "This is a collection of exercises that have been collected in the numpy mailing list, on stack overflow\n",
        "and in the numpy documentation. The goal of this collection is to offer a quick reference for both old\n",
        "and new users but also to provide a set of exercises for those who teach.\n",
        "\n",
        "\n",
        "If you find an error or think you've a better way to solve some of them, feel\n",
        "free to open an issue at <https://github.com/rougier/numpy-100>."
      ]
    },
    {
      "cell_type": "markdown",
      "id": "8536e059",
      "metadata": {
        "id": "8536e059"
      },
      "source": [
        "File automatically generated. See the documentation to update questions/answers/hints programmatically."
      ]
    },
    {
      "cell_type": "markdown",
      "id": "e16ac60b",
      "metadata": {
        "id": "e16ac60b"
      },
      "source": [
        "Run the `initialize.py` module, then for each question you can query the\n",
        "answer or an hint with `hint(n)` or `answer(n)` for `n` question number."
      ]
    },
    {
      "cell_type": "code",
      "execution_count": null,
      "id": "a8453483",
      "metadata": {
        "id": "a8453483",
        "colab": {
          "base_uri": "https://localhost:8080/"
        },
        "outputId": "4915195f-2ea7-429c-f760-8bc07e9c22cb"
      },
      "outputs": [
        {
          "output_type": "stream",
          "name": "stderr",
          "text": [
            "ERROR:root:File `'initialise.py'` not found.\n"
          ]
        }
      ],
      "source": [
        "%run initialise.py"
      ]
    },
    {
      "cell_type": "markdown",
      "id": "017db353",
      "metadata": {
        "id": "017db353"
      },
      "source": [
        "#### 1. Import the numpy package under the name `np` (★☆☆)"
      ]
    },
    {
      "cell_type": "code",
      "execution_count": null,
      "id": "68182a76",
      "metadata": {
        "id": "68182a76"
      },
      "outputs": [],
      "source": [
        "import numpy as np"
      ]
    },
    {
      "cell_type": "markdown",
      "id": "46950f4f",
      "metadata": {
        "id": "46950f4f"
      },
      "source": [
        "#### 2. Print the numpy version and the configuration (★☆☆)"
      ]
    },
    {
      "cell_type": "code",
      "execution_count": null,
      "id": "2a9f5838",
      "metadata": {
        "id": "2a9f5838",
        "outputId": "0e948cd3-bd58-40bc-c9fe-f8247b8365c2"
      },
      "outputs": [
        {
          "name": "stdout",
          "output_type": "stream",
          "text": [
            "<module 'numpy' from 'C:\\\\ProgramData\\\\Anaconda3\\\\lib\\\\site-packages\\\\numpy\\\\__init__.py'>\n"
          ]
        }
      ],
      "source": [
        "print(np)"
      ]
    },
    {
      "cell_type": "markdown",
      "id": "e3c20b3d",
      "metadata": {
        "id": "e3c20b3d"
      },
      "source": [
        "#### 3. Create a null vector of size 10 (★☆☆)"
      ]
    },
    {
      "cell_type": "code",
      "execution_count": null,
      "id": "8a758bcf",
      "metadata": {
        "id": "8a758bcf",
        "outputId": "c2871cc2-39c8-43cc-b14c-0debc0549edc"
      },
      "outputs": [
        {
          "name": "stdout",
          "output_type": "stream",
          "text": [
            "[0. 0. 0. 0. 0. 0. 0. 0. 0. 0.]\n"
          ]
        }
      ],
      "source": [
        "null_vector = np.zeros(10)\n",
        "print(null_vector)"
      ]
    },
    {
      "cell_type": "markdown",
      "id": "b15a879f",
      "metadata": {
        "id": "b15a879f"
      },
      "source": [
        "#### 4. How to find the memory size of any array (★☆☆)"
      ]
    },
    {
      "cell_type": "code",
      "execution_count": null,
      "id": "1cc3cbc5",
      "metadata": {
        "id": "1cc3cbc5",
        "outputId": "73638348-a69c-4d2f-a5a5-19c10d107ff3"
      },
      "outputs": [
        {
          "data": {
            "text/plain": [
              "(10,)"
            ]
          },
          "execution_count": 10,
          "metadata": {},
          "output_type": "execute_result"
        }
      ],
      "source": [
        "np.shape(null_vector)"
      ]
    },
    {
      "cell_type": "markdown",
      "id": "0b16cd77",
      "metadata": {
        "id": "0b16cd77"
      },
      "source": [
        "#### 5. Create a null vector of size 10 but the fifth value which is 1 (★☆☆)"
      ]
    },
    {
      "cell_type": "code",
      "execution_count": null,
      "id": "4d9b5975",
      "metadata": {
        "id": "4d9b5975",
        "outputId": "35e7d5c9-6183-4538-b2cf-c9cb5487f5ac"
      },
      "outputs": [
        {
          "name": "stdout",
          "output_type": "stream",
          "text": [
            "[0. 0. 0. 0. 1. 0. 0. 0. 0. 0.]\n"
          ]
        }
      ],
      "source": [
        "null_vector[4] = 1\n",
        "print(null_vector)"
      ]
    },
    {
      "cell_type": "markdown",
      "id": "782d4c77",
      "metadata": {
        "id": "782d4c77"
      },
      "source": [
        "#### 6. Create a vector with values ranging from 10 to 49 (★☆☆)"
      ]
    },
    {
      "cell_type": "code",
      "execution_count": null,
      "id": "5dbe1a08",
      "metadata": {
        "id": "5dbe1a08",
        "outputId": "9c2fe0b8-98e5-4d25-d81f-e085dfabf426"
      },
      "outputs": [
        {
          "name": "stdout",
          "output_type": "stream",
          "text": [
            "[10 11 12 13 14 15 16 17 18 19 20 21 22 23 24 25 26 27 28 29 30 31 32 33\n",
            " 34 35 36 37 38 39 40 41 42 43 44 45 46 47 48 49]\n"
          ]
        }
      ],
      "source": [
        "six_vector = np.arange(10,50)\n",
        "print(six_vector)"
      ]
    },
    {
      "cell_type": "markdown",
      "id": "48d48f01",
      "metadata": {
        "id": "48d48f01"
      },
      "source": [
        "#### 7. Reverse a vector (first element becomes last) (★☆☆)"
      ]
    },
    {
      "cell_type": "code",
      "execution_count": null,
      "id": "3ed233e7",
      "metadata": {
        "id": "3ed233e7",
        "outputId": "5d11f243-0dca-4bb3-93a3-35127adb239d"
      },
      "outputs": [
        {
          "data": {
            "text/plain": [
              "array([49, 48, 47, 46, 45, 44, 43, 42, 41, 40, 39, 38, 37, 36, 35, 34, 33,\n",
              "       32, 31, 30, 29, 28, 27, 26, 25, 24, 23, 22, 21, 20, 19, 18, 17, 16,\n",
              "       15, 14, 13, 12, 11, 10])"
            ]
          },
          "execution_count": 18,
          "metadata": {},
          "output_type": "execute_result"
        }
      ],
      "source": [
        "np.sort(six_vector)[::-1]\n",
        "#six_vector.sort() 이건 내림차순 안됨"
      ]
    },
    {
      "cell_type": "markdown",
      "id": "4fa39382",
      "metadata": {
        "id": "4fa39382"
      },
      "source": [
        "#### 8. Create a 3x3 matrix with values ranging from 0 to 8 (★☆☆)"
      ]
    },
    {
      "cell_type": "code",
      "execution_count": null,
      "id": "c97757ec",
      "metadata": {
        "id": "c97757ec",
        "outputId": "873ee210-1487-45f2-8ff5-eed51d67df4b"
      },
      "outputs": [
        {
          "data": {
            "text/plain": [
              "array([[0, 1, 2],\n",
              "       [3, 4, 5],\n",
              "       [6, 7, 8]])"
            ]
          },
          "execution_count": 19,
          "metadata": {},
          "output_type": "execute_result"
        }
      ],
      "source": [
        "np.arange(0,9).reshape((3,3))"
      ]
    },
    {
      "cell_type": "markdown",
      "id": "da64551a",
      "metadata": {
        "id": "da64551a"
      },
      "source": [
        "#### 9. Find indices of non-zero elements from [1,2,0,0,4,0] (★☆☆)"
      ]
    },
    {
      "cell_type": "code",
      "execution_count": null,
      "id": "f5ecc3d2",
      "metadata": {
        "id": "f5ecc3d2",
        "outputId": "465aa360-c895-4de2-c95f-2e4143f70cbc"
      },
      "outputs": [
        {
          "name": "stdout",
          "output_type": "stream",
          "text": [
            "[0, 1, 4]\n"
          ]
        }
      ],
      "source": [
        "list1 = [1,2,0,0,4,0]\n",
        "nonzero_index = []\n",
        "\n",
        "for i in list1:\n",
        "    if i != 0:\n",
        "        nonzero_index.append(list1.index(i))\n",
        "print(nonzero_index)\n",
        "\n",
        "# list.index(element) : list내 element의 index 반환"
      ]
    },
    {
      "cell_type": "markdown",
      "id": "f89d9c9e",
      "metadata": {
        "id": "f89d9c9e"
      },
      "source": [
        "#### 10. Create a 3x3 identity matrix (★☆☆)\n",
        "Hint : identity & eye, try to use 'help' to learn how to use two functions of numpy"
      ]
    },
    {
      "cell_type": "code",
      "execution_count": null,
      "id": "ba625832",
      "metadata": {
        "id": "ba625832",
        "outputId": "68b682db-9e6c-4ea0-a4d2-c96d84e0fc74"
      },
      "outputs": [
        {
          "name": "stdout",
          "output_type": "stream",
          "text": [
            "[[1. 0. 0.]\n",
            " [0. 1. 0.]\n",
            " [0. 0. 1.]] \n",
            " [[1. 0. 0.]\n",
            " [0. 1. 0.]\n",
            " [0. 0. 1.]]\n"
          ]
        }
      ],
      "source": [
        "M1 = np.identity(3)\n",
        "M2 = np.eye(3, dtype=float)\n",
        "print(M1,'\\n', M2)"
      ]
    },
    {
      "cell_type": "markdown",
      "id": "7e44c6fa",
      "metadata": {
        "id": "7e44c6fa"
      },
      "source": [
        "#### 11. Create a 3x3x3 array with random values (★☆☆)\n",
        "Hint : numpy.random.random"
      ]
    },
    {
      "cell_type": "code",
      "execution_count": null,
      "id": "1cb3dddf",
      "metadata": {
        "id": "1cb3dddf",
        "outputId": "3174adb3-871a-4d81-f24a-58873b640b47"
      },
      "outputs": [
        {
          "data": {
            "text/plain": [
              "array([[[0.12231039, 0.14616004, 0.88402588],\n",
              "        [0.81086343, 0.27850006, 0.04057657],\n",
              "        [0.82483657, 0.37756536, 0.16944724]],\n",
              "\n",
              "       [[0.49119534, 0.3712275 , 0.18424721],\n",
              "        [0.38858723, 0.55698432, 0.23761824],\n",
              "        [0.68504983, 0.65286122, 0.86058321]],\n",
              "\n",
              "       [[0.68856192, 0.30742413, 0.6680265 ],\n",
              "        [0.79525097, 0.04922293, 0.17096525],\n",
              "        [0.84904274, 0.65697369, 0.27024168]]])"
            ]
          },
          "execution_count": 44,
          "metadata": {},
          "output_type": "execute_result"
        }
      ],
      "source": [
        "np.random.random(27).reshape((3,3,3))"
      ]
    },
    {
      "cell_type": "markdown",
      "id": "13c5928c",
      "metadata": {
        "id": "13c5928c"
      },
      "source": [
        "#### 12. Create a 10x10 array with random values and find the **min**imum and **max**imum values (★☆☆)"
      ]
    },
    {
      "cell_type": "code",
      "execution_count": null,
      "id": "911c9b93",
      "metadata": {
        "id": "911c9b93",
        "outputId": "e04106e0-9f3a-4432-d5e2-35eccaefa19d"
      },
      "outputs": [
        {
          "name": "stdout",
          "output_type": "stream",
          "text": [
            "0.004788075736372299 0.991998277840805\n"
          ]
        }
      ],
      "source": [
        "M_10 = np.random.random(100).reshape((10,10))\n",
        "print(np.min(M_10), np.max(M_10))"
      ]
    },
    {
      "cell_type": "markdown",
      "id": "3fa2e461",
      "metadata": {
        "id": "3fa2e461"
      },
      "source": [
        "#### 13. Create a random vector of size 30 and find the **mean** value (★☆☆)"
      ]
    },
    {
      "cell_type": "code",
      "execution_count": null,
      "id": "323eb38a",
      "metadata": {
        "id": "323eb38a",
        "outputId": "93f2e9a2-c2c9-4047-8499-c54962de0365"
      },
      "outputs": [
        {
          "name": "stdout",
          "output_type": "stream",
          "text": [
            "0.5431571628780373\n"
          ]
        }
      ],
      "source": [
        "M_30 = np.random.random(30).reshape(30,)\n",
        "print(np.mean(M_30))"
      ]
    },
    {
      "cell_type": "markdown",
      "id": "73f7a549",
      "metadata": {
        "id": "73f7a549"
      },
      "source": [
        "#### 14. Create a 2d array with 1 on the border and 0 inside (★☆☆)"
      ]
    },
    {
      "cell_type": "code",
      "execution_count": null,
      "id": "fe284ee4",
      "metadata": {
        "id": "fe284ee4",
        "outputId": "87ff1e49-1a4f-47ee-9aad-ad482c2ded7b"
      },
      "outputs": [
        {
          "name": "stdout",
          "output_type": "stream",
          "text": [
            "[[1. 1. 1. 1. 1. 1.]\n",
            " [1. 0. 0. 0. 0. 1.]\n",
            " [1. 0. 0. 0. 0. 1.]\n",
            " [1. 0. 0. 0. 0. 1.]\n",
            " [1. 0. 0. 0. 0. 1.]\n",
            " [1. 1. 1. 1. 1. 1.]]\n"
          ]
        }
      ],
      "source": [
        "array14 = np.zeros((6,6))\n",
        "\n",
        "array14[(0,5),:]=1\n",
        "array14[:,(0,5)]=1\n",
        "\n",
        "print(array14)"
      ]
    },
    {
      "cell_type": "code",
      "execution_count": null,
      "id": "a28afb37",
      "metadata": {
        "id": "a28afb37",
        "outputId": "59009750-166d-4171-fbea-5cd09c7afb87"
      },
      "outputs": [
        {
          "name": "stdout",
          "output_type": "stream",
          "text": [
            "[[1. 1. 1. 1. 1. 1.]\n",
            " [1. 0. 0. 0. 0. 1.]\n",
            " [1. 0. 0. 0. 0. 1.]\n",
            " [1. 0. 0. 0. 0. 1.]\n",
            " [1. 0. 0. 0. 0. 1.]\n",
            " [1. 1. 1. 1. 1. 1.]]\n"
          ]
        }
      ],
      "source": [
        "array14 = np.ones((6,6))\n",
        "array14[1:-1, 1:-1] = 0  \n",
        "print(array14)"
      ]
    },
    {
      "cell_type": "markdown",
      "id": "d6ad1a9f",
      "metadata": {
        "id": "d6ad1a9f"
      },
      "source": [
        "#### 15. What is the result of the following expression? (★☆☆)\n",
        "```python\n",
        "0 * np.nan\n",
        "np.nan == np.nan\n",
        "np.inf > np.nan\n",
        "np.nan - np.nan\n",
        "np.nan in set([np.nan])\n",
        "0.3 == 3 * 0.1\n",
        "```"
      ]
    },
    {
      "cell_type": "markdown",
      "id": "08a0a730",
      "metadata": {
        "id": "08a0a730"
      },
      "source": [
        "#### 참고\n",
        "* np.NaN / np.nan : NaN값(정해지지 않은 값) 불러옴 \n",
        "* np.inf / -np.inf : 무한대/ 마이너스무한대 불러옴"
      ]
    },
    {
      "cell_type": "code",
      "execution_count": null,
      "id": "e9cae04b",
      "metadata": {
        "id": "e9cae04b",
        "outputId": "a4add804-d1d9-497c-eef1-392b1adc9488"
      },
      "outputs": [
        {
          "data": {
            "text/plain": [
              "nan"
            ]
          },
          "execution_count": 28,
          "metadata": {},
          "output_type": "execute_result"
        }
      ],
      "source": [
        "0 * np.nan\n",
        "# NaN값과 연산해도 그대로 NaN값으로 반환"
      ]
    },
    {
      "cell_type": "code",
      "execution_count": null,
      "id": "90c809b9",
      "metadata": {
        "id": "90c809b9",
        "outputId": "76416b01-2c4d-422f-94f1-b6cd0fc9e1f0"
      },
      "outputs": [
        {
          "data": {
            "text/plain": [
              "False"
            ]
          },
          "execution_count": 29,
          "metadata": {},
          "output_type": "execute_result"
        }
      ],
      "source": [
        "np.nan == np.nan\n",
        "# NaN값은 자기자신과도 동일하지 않다.\n",
        "# cf. None값은 자기자신과 동일하다."
      ]
    },
    {
      "cell_type": "code",
      "execution_count": null,
      "id": "f8877c5e",
      "metadata": {
        "id": "f8877c5e",
        "outputId": "9a535314-1e35-4045-aa6c-680d613111f8"
      },
      "outputs": [
        {
          "data": {
            "text/plain": [
              "False"
            ]
          },
          "execution_count": 31,
          "metadata": {},
          "output_type": "execute_result"
        }
      ],
      "source": [
        "np.inf > np.nan\n",
        "# NaN값은 비교불가"
      ]
    },
    {
      "cell_type": "code",
      "execution_count": null,
      "id": "e95fdcf0",
      "metadata": {
        "id": "e95fdcf0",
        "outputId": "42e01453-5119-4fe1-bd25-b2ac52bffeee"
      },
      "outputs": [
        {
          "data": {
            "text/plain": [
              "nan"
            ]
          },
          "execution_count": 32,
          "metadata": {},
          "output_type": "execute_result"
        }
      ],
      "source": [
        "np.nan - np.nan\n",
        "# NaN값은 자기자신과도 동일하지 않다.\n",
        "# NaN값과 연산해도 그대로 NaN값으로 반환"
      ]
    },
    {
      "cell_type": "code",
      "execution_count": null,
      "id": "de6d2d56",
      "metadata": {
        "id": "de6d2d56",
        "outputId": "64264d35-121b-4179-dd29-f3b174f3b241"
      },
      "outputs": [
        {
          "data": {
            "text/plain": [
              "True"
            ]
          },
          "execution_count": 33,
          "metadata": {},
          "output_type": "execute_result"
        }
      ],
      "source": [
        "np.nan in set([np.nan])\n",
        "'''\n",
        "'A' in set(['A'])\n",
        "집합 안에 요소가 있는지 확인하는 식\n",
        "\n",
        "집합 내 NaN값은 비교가능한가봄...\n",
        "'''"
      ]
    },
    {
      "cell_type": "code",
      "execution_count": null,
      "id": "223259a9",
      "metadata": {
        "id": "223259a9",
        "outputId": "8de713d7-1190-42fd-d357-53513f8f0eb5"
      },
      "outputs": [
        {
          "data": {
            "text/plain": [
              "{nan}"
            ]
          },
          "execution_count": 38,
          "metadata": {},
          "output_type": "execute_result"
        }
      ],
      "source": [
        "set([np.nan])"
      ]
    },
    {
      "cell_type": "code",
      "execution_count": null,
      "id": "ab9e1fb8",
      "metadata": {
        "id": "ab9e1fb8",
        "outputId": "a1747757-94fd-4067-ba88-4620e8d365b3"
      },
      "outputs": [
        {
          "data": {
            "text/plain": [
              "False"
            ]
          },
          "execution_count": 37,
          "metadata": {},
          "output_type": "execute_result"
        }
      ],
      "source": [
        "0.3 == 3*0.1\n",
        "# 3*0.1 = 0.3000004\n",
        "# 실수를 부동소수점으로 표현하여 정확한 값이 아니라 근사값으로 나타냄"
      ]
    },
    {
      "cell_type": "code",
      "execution_count": null,
      "id": "7744470a",
      "metadata": {
        "id": "7744470a",
        "outputId": "29015165-dcc1-4c6b-e659-4ee68eb9890b"
      },
      "outputs": [
        {
          "data": {
            "text/plain": [
              "0.30000000000000004"
            ]
          },
          "execution_count": 36,
          "metadata": {},
          "output_type": "execute_result"
        }
      ],
      "source": [
        "3*0.1"
      ]
    },
    {
      "cell_type": "markdown",
      "id": "e3a7ba7f",
      "metadata": {
        "id": "e3a7ba7f"
      },
      "source": [
        "#### 16. Create a 5x5 matrix with values 1,2,3,4 just below the **diag**onal (★☆☆)"
      ]
    },
    {
      "cell_type": "code",
      "execution_count": null,
      "id": "01d8e257",
      "metadata": {
        "id": "01d8e257",
        "scrolled": true,
        "outputId": "0cf54f31-3fe2-406b-b910-68fe3a433b00"
      },
      "outputs": [
        {
          "data": {
            "text/plain": [
              "array([[0, 0, 0, 0, 0],\n",
              "       [1, 0, 0, 0, 0],\n",
              "       [0, 2, 0, 0, 0],\n",
              "       [0, 0, 3, 0, 0],\n",
              "       [0, 0, 0, 4, 0]])"
            ]
          },
          "execution_count": 57,
          "metadata": {},
          "output_type": "execute_result"
        }
      ],
      "source": [
        "np.diag([1,2,3,4], k=-1)"
      ]
    },
    {
      "cell_type": "markdown",
      "id": "6d17ab5d",
      "metadata": {
        "id": "6d17ab5d"
      },
      "source": [
        "#### 17. Create a 8x8 matrix and fill it with a checkerboard pattern (★☆☆)"
      ]
    },
    {
      "cell_type": "code",
      "execution_count": null,
      "id": "f9bdd778",
      "metadata": {
        "id": "f9bdd778",
        "outputId": "1f34cb34-59e3-48c4-a93f-5e349e184ad7"
      },
      "outputs": [
        {
          "name": "stdout",
          "output_type": "stream",
          "text": [
            "[[0. 1. 0. 1. 0. 1. 0. 1.]\n",
            " [1. 0. 1. 0. 1. 0. 1. 1.]\n",
            " [0. 1. 0. 1. 0. 1. 0. 1.]\n",
            " [1. 0. 1. 0. 1. 0. 1. 1.]\n",
            " [0. 1. 0. 1. 0. 1. 0. 1.]\n",
            " [1. 0. 1. 0. 1. 0. 1. 1.]\n",
            " [0. 1. 0. 1. 0. 1. 0. 1.]\n",
            " [1. 1. 1. 1. 1. 1. 1. 1.]]\n"
          ]
        }
      ],
      "source": [
        "array17 = np.ones((8,8))\n",
        "\n",
        "array17[0:7:2, 0:7:2] = 0\n",
        "array17[1:6:2, 1:6:2] = 0\n",
        "print(array17)"
      ]
    },
    {
      "cell_type": "markdown",
      "id": "8837119b",
      "metadata": {
        "id": "8837119b"
      },
      "source": [
        "#### 18. Consider a (6,7,8) shape array, what is the index (x,y,z) of the 100th element? (★☆☆)\n",
        "Hint : use 'numpy.unravel_index(value, (x, y, z))"
      ]
    },
    {
      "cell_type": "markdown",
      "id": "3916b998",
      "metadata": {
        "id": "3916b998"
      },
      "source": [
        "#### 참고\n",
        "* np.unravel_index(index, shape, order='C')\n",
        "\n",
        "shape에 들어온 n차원 array를 flatten시킨후  \n",
        "index위치에 존재하는 요소가  \n",
        "기존 n차원 array에서는 어느 위치에 존재하는지 반환  \n",
        "\n",
        "order='C':행(로우) 우선/ order='F':열(칼럼)우선  \n",
        "\n",
        "(https://teang1995.tistory.com/14)"
      ]
    },
    {
      "cell_type": "code",
      "execution_count": null,
      "id": "2c0d16f1",
      "metadata": {
        "id": "2c0d16f1",
        "outputId": "6eccfcf0-ecd7-4ad6-e4ad-7008b0379da3"
      },
      "outputs": [
        {
          "data": {
            "text/plain": [
              "(1, 5, 3)"
            ]
          },
          "execution_count": 67,
          "metadata": {},
          "output_type": "execute_result"
        }
      ],
      "source": [
        "np.unravel_index(99, (6,7,8))"
      ]
    },
    {
      "cell_type": "code",
      "execution_count": null,
      "id": "9757dd10",
      "metadata": {
        "id": "9757dd10",
        "outputId": "a8a4fd5c-516a-46ec-8538-c65b79aca123"
      },
      "outputs": [
        {
          "name": "stdout",
          "output_type": "stream",
          "text": [
            "[[[  1   2   3   4   5   6   7   8]\n",
            "  [  9  10  11  12  13  14  15  16]\n",
            "  [ 17  18  19  20  21  22  23  24]\n",
            "  [ 25  26  27  28  29  30  31  32]\n",
            "  [ 33  34  35  36  37  38  39  40]\n",
            "  [ 41  42  43  44  45  46  47  48]\n",
            "  [ 49  50  51  52  53  54  55  56]]\n",
            "\n",
            " [[ 57  58  59  60  61  62  63  64]\n",
            "  [ 65  66  67  68  69  70  71  72]\n",
            "  [ 73  74  75  76  77  78  79  80]\n",
            "  [ 81  82  83  84  85  86  87  88]\n",
            "  [ 89  90  91  92  93  94  95  96]\n",
            "  [ 97  98  99 100 101 102 103 104]\n",
            "  [105 106 107 108 109 110 111 112]]\n",
            "\n",
            " [[113 114 115 116 117 118 119 120]\n",
            "  [121 122 123 124 125 126 127 128]\n",
            "  [129 130 131 132 133 134 135 136]\n",
            "  [137 138 139 140 141 142 143 144]\n",
            "  [145 146 147 148 149 150 151 152]\n",
            "  [153 154 155 156 157 158 159 160]\n",
            "  [161 162 163 164 165 166 167 168]]\n",
            "\n",
            " [[169 170 171 172 173 174 175 176]\n",
            "  [177 178 179 180 181 182 183 184]\n",
            "  [185 186 187 188 189 190 191 192]\n",
            "  [193 194 195 196 197 198 199 200]\n",
            "  [201 202 203 204 205 206 207 208]\n",
            "  [209 210 211 212 213 214 215 216]\n",
            "  [217 218 219 220 221 222 223 224]]\n",
            "\n",
            " [[225 226 227 228 229 230 231 232]\n",
            "  [233 234 235 236 237 238 239 240]\n",
            "  [241 242 243 244 245 246 247 248]\n",
            "  [249 250 251 252 253 254 255 256]\n",
            "  [257 258 259 260 261 262 263 264]\n",
            "  [265 266 267 268 269 270 271 272]\n",
            "  [273 274 275 276 277 278 279 280]]\n",
            "\n",
            " [[281 282 283 284 285 286 287 288]\n",
            "  [289 290 291 292 293 294 295 296]\n",
            "  [297 298 299 300 301 302 303 304]\n",
            "  [305 306 307 308 309 310 311 312]\n",
            "  [313 314 315 316 317 318 319 320]\n",
            "  [321 322 323 324 325 326 327 328]\n",
            "  [329 330 331 332 333 334 335 336]]] \n",
            " 100\n"
          ]
        }
      ],
      "source": [
        "# 확인\n",
        "A = np.arange(1,6*7*8+1).reshape((6,7,8))\n",
        "print(A, \"\\n\", A[1,5,3])"
      ]
    },
    {
      "cell_type": "markdown",
      "id": "391791e0",
      "metadata": {
        "id": "391791e0"
      },
      "source": [
        "#### 19. Normalize a 5x5 random matrix (★☆☆)\n",
        "Hint : $Z = \\frac{X - \\overline{X}}{S}$"
      ]
    },
    {
      "cell_type": "code",
      "execution_count": null,
      "id": "309aea48",
      "metadata": {
        "id": "309aea48",
        "outputId": "03562eb5-b647-4cc7-f73a-96f655bfe666"
      },
      "outputs": [
        {
          "name": "stdout",
          "output_type": "stream",
          "text": [
            "[[-1.66623487 -0.90988743  1.37974298  0.80972207 -1.49851016]\n",
            " [-0.49514105  0.03777701  1.29764964 -0.78878252 -0.6229326 ]\n",
            " [-0.49609314  1.24479751  0.89122283  1.03077138  1.55043315]\n",
            " [-0.73511812  1.09279865  0.78107635 -0.37183434 -1.09722455]\n",
            " [-0.01088177 -1.23958401 -1.31314684  0.50025955  0.6291203 ]]\n"
          ]
        }
      ],
      "source": [
        "array19 = np.random.random((5,5))\n",
        "m, sd = array19.mean(), array19.std()\n",
        "array19_nor = (array19-m)/sd\n",
        "print(array19_nor)"
      ]
    },
    {
      "cell_type": "markdown",
      "id": "1e74d39e",
      "metadata": {
        "id": "1e74d39e"
      },
      "source": [
        "#### 20. Create a custom dtype that describes a color as four unsigned bytes (RGBA) (★☆☆)\n",
        "Hint : modify the code below\n",
        "```python\n",
        "numpy.dtype([(value, numpy.ubyte), … , (value, numpy.ubyte)])\n",
        "```"
      ]
    },
    {
      "cell_type": "code",
      "execution_count": null,
      "id": "9a3e5083",
      "metadata": {
        "id": "9a3e5083"
      },
      "outputs": [],
      "source": [
        "# 색상을 4바이트(RGBA)로 나타내는 사용자 지정 dtype을 생성하세요\n",
        "\n",
        "\n",
        "color = np.dtype([ (\"r\", np.ubyte),\n",
        "                    (\"g\", np.ubyte),\n",
        "                      (\"b\", np.ubyte),\n",
        "                       (\"a\", np.ubyte)])\n",
        "\n",
        "## np.dtype : 사용자 지정 데이터타입 만들기\n",
        "## np.ubyte : 부호없는 정수"
      ]
    },
    {
      "cell_type": "markdown",
      "id": "78250c14",
      "metadata": {
        "id": "78250c14"
      },
      "source": [
        "#### 21. Multiply a 5x3 matrix by a 3x2 matrix (real matrix product) (★☆☆)"
      ]
    },
    {
      "cell_type": "code",
      "execution_count": null,
      "id": "ba70a365",
      "metadata": {
        "id": "ba70a365",
        "outputId": "4e944a4d-4116-4312-8d1f-d4ff74bd8dab"
      },
      "outputs": [
        {
          "data": {
            "text/plain": [
              "array([[1.05107607, 0.17278168],\n",
              "       [1.20723138, 0.73074563],\n",
              "       [0.86670741, 0.34593129],\n",
              "       [0.89132173, 0.42152025],\n",
              "       [1.07548577, 0.42843439]])"
            ]
          },
          "execution_count": 26,
          "metadata": {},
          "output_type": "execute_result"
        }
      ],
      "source": [
        "array1 = np.random.random((5,3))\n",
        "array2 = np.random.random((3,2))\n",
        "np.dot(array1, array2)\n",
        "## np.dot : 두 행렬의 곱"
      ]
    },
    {
      "cell_type": "markdown",
      "id": "51898680",
      "metadata": {
        "id": "51898680"
      },
      "source": [
        "#### 22. Given a 1D array, negate all elements which are between 3 and 8, in place. (★☆☆)"
      ]
    },
    {
      "cell_type": "code",
      "execution_count": null,
      "id": "30303c07",
      "metadata": {
        "colab": {
          "base_uri": "https://localhost:8080/"
        },
        "id": "30303c07",
        "outputId": "cf370ece-4d2a-48e3-9c92-1896ab56e7cd"
      },
      "outputs": [
        {
          "output_type": "execute_result",
          "data": {
            "text/plain": [
              "array([ 0,  1,  2, -3, -4, -5, -6, -7, -8,  9, 10, 11, 12, 13, 14])"
            ]
          },
          "metadata": {},
          "execution_count": 4
        }
      ],
      "source": [
        "# 1차원 배열에서 3~8 사이 모든 요소를 음수화해라\n",
        "\n",
        "A = np.arange(15)\n",
        "A[(3<=A) & (A<=8)] *= -1\n",
        "A\n",
        "\n",
        "## 3 <= A <= 8 조건 표현식\n",
        "## A *= a  -> A = A*a"
      ]
    },
    {
      "cell_type": "markdown",
      "id": "89e78048",
      "metadata": {
        "id": "89e78048"
      },
      "source": [
        "#### 23. What is the output of the following script? (★☆☆)\n",
        "```python\n",
        "# Author: Jake VanderPlas\n",
        "\n",
        "print(sum(range(5),-1))\n",
        "from numpy import *\n",
        "print(sum(range(5),-1))\n",
        "```"
      ]
    },
    {
      "cell_type": "code",
      "execution_count": null,
      "id": "faea1280",
      "metadata": {
        "colab": {
          "base_uri": "https://localhost:8080/"
        },
        "id": "faea1280",
        "outputId": "b66b4774-2326-446a-9e6f-799d204044eb"
      },
      "outputs": [
        {
          "output_type": "stream",
          "name": "stdout",
          "text": [
            "10\n",
            "9\n",
            "10\n"
          ]
        }
      ],
      "source": [
        "print(sum(range(5))) # =10\n",
        "print( sum( range(5),-1 ) ) # =9\n",
        "# sum(A,B) = A+B\n",
        "\n",
        "from numpy import * # ??\n",
        "print( sum( range(5),-1 ) ) # =10"
      ]
    },
    {
      "cell_type": "markdown",
      "id": "ebd10810",
      "metadata": {
        "id": "ebd10810"
      },
      "source": [
        "#### 24. Consider an integer vector Z, which of these expressions are legal? (★☆☆)\n",
        "```python\n",
        "Z**Z\n",
        "2 << Z >> 2\n",
        "Z <- Z\n",
        "1j*Z\n",
        "Z/1/1\n",
        "Z<Z>Z\n",
        "```"
      ]
    },
    {
      "cell_type": "code",
      "execution_count": null,
      "id": "c8a495e2",
      "metadata": {
        "colab": {
          "base_uri": "https://localhost:8080/"
        },
        "id": "c8a495e2",
        "outputId": "4937763d-b809-49f4-f29f-1b00511ca021"
      },
      "outputs": [
        {
          "output_type": "stream",
          "name": "stdout",
          "text": [
            "[        1         1         4        27       256      3125     46656\n",
            "    823543  16777216 387420489]\n",
            "[  0   1   2   4   8  16  32  64 128 256]\n",
            "[False False False False False False False False False False]\n",
            "[0.+0.j 0.+1.j 0.+2.j 0.+3.j 0.+4.j 0.+5.j 0.+6.j 0.+7.j 0.+8.j 0.+9.j]\n",
            "[0. 1. 2. 3. 4. 5. 6. 7. 8. 9.]\n"
          ]
        }
      ],
      "source": [
        "Z = np.arange(10)\n",
        "\n",
        "print(Z**Z)\n",
        "print(2 << Z >> 2) # 비트단위 시프트 연산자\n",
        "print(Z <- Z)\n",
        "print(1j*Z)\n",
        "print(Z/1/1)\n",
        "# print(Z<Z>Z) --> ilegal(에러발생)"
      ]
    },
    {
      "cell_type": "markdown",
      "id": "c0e940f8",
      "metadata": {
        "id": "c0e940f8"
      },
      "source": [
        "#### 25. What are the result of the following expressions? (★☆☆)\n",
        "```python\n",
        "np.array(0) / np.array(0)\n",
        "np.array(0) // np.array(0)\n",
        "np.array([np.nan]).astype(int).astype(float)\n",
        "```"
      ]
    },
    {
      "cell_type": "code",
      "execution_count": null,
      "id": "95d8a878",
      "metadata": {
        "colab": {
          "base_uri": "https://localhost:8080/"
        },
        "id": "95d8a878",
        "outputId": "3b0ef536-9b08-45c7-9a4a-1c521aecf4f7"
      },
      "outputs": [
        {
          "output_type": "stream",
          "name": "stdout",
          "text": [
            "0\n",
            "nan\n",
            "0\n",
            "[-9.22337204e+18]\n",
            "nan\n",
            "0\n",
            "[-9.22337204e+18]\n"
          ]
        },
        {
          "output_type": "stream",
          "name": "stderr",
          "text": [
            "/usr/local/lib/python3.7/dist-packages/ipykernel_launcher.py:2: RuntimeWarning: invalid value encountered in true_divide\n",
            "  \n",
            "/usr/local/lib/python3.7/dist-packages/ipykernel_launcher.py:3: RuntimeWarning: divide by zero encountered in floor_divide\n",
            "  This is separate from the ipykernel package so we can avoid doing imports until\n",
            "/usr/local/lib/python3.7/dist-packages/ipykernel_launcher.py:5: RuntimeWarning: invalid value encountered in true_divide\n",
            "  \"\"\"\n",
            "/usr/local/lib/python3.7/dist-packages/ipykernel_launcher.py:6: RuntimeWarning: divide by zero encountered in floor_divide\n",
            "  \n"
          ]
        }
      ],
      "source": [
        "print(np.array(0))\n",
        "print(np.array(0) / np.array(0) ) # 나누면 nan\n",
        "print(np.array(0) // np.array(0)) # 나누고 몫은 0\n",
        "print(np.array([np.nan]).astype(int).astype(float)) \n",
        "print(np.array(0) / np.array(0))\n",
        "print(np.array(0) // np.array(0))\n",
        "print(np.array([np.nan]).astype(int).astype(float))\n",
        "\n",
        "# 이건 안찾아봄"
      ]
    },
    {
      "cell_type": "markdown",
      "id": "f1ae2c2d",
      "metadata": {
        "id": "f1ae2c2d"
      },
      "source": [
        "#### 26. How to find common values between two arrays? (★☆☆)\n",
        "```python\n",
        "Z1 = np.random.randint(0,10,10)\n",
        "Z2 = np.random.randint(0,10,10)\n",
        "```\n",
        "Hint : use `numpy.random.randint(start, end, size)`"
      ]
    },
    {
      "cell_type": "code",
      "execution_count": null,
      "id": "6801c73d",
      "metadata": {
        "id": "6801c73d",
        "colab": {
          "base_uri": "https://localhost:8080/"
        },
        "outputId": "711ddf82-ea16-4f97-9ec5-d7c6f517d2b5"
      },
      "outputs": [
        {
          "output_type": "execute_result",
          "data": {
            "text/plain": [
              "array([2, 6, 0, 5])"
            ]
          },
          "metadata": {},
          "execution_count": 20
        }
      ],
      "source": [
        "arr1 = np.random.randint(0,10,10)\n",
        "arr2 = np.random.randint(0,10,10)\n",
        "print(arr1)\n",
        "print(arr2)\n",
        "print(np.intersect1d(arr1, arr2))\n",
        "\n",
        "# randint(start, end, number)\n",
        "\n",
        "# 1차원 ndarray 집합에 대하여\n",
        "# 1. unique(x) : 배열 내 중복된 원소 제거 후 유일한 원소를 정렬하여 반환\n",
        "# 2. intersect1d(x, y) : 두 개의 배열 x, y 의 교집합을 정렬하여 반환\n",
        "# 3. union1d(x, y) : 두 개의 배열 x, y의 합집합을 정렬하여 반환\n",
        "# 4. in1d(x, y) : 첫번째 배열 x가 두번째 배열 y의 원소를 포함하고 있는지 여부의 불리언 배열을 반환\n",
        "# 5. setdiff1d(x, y) : 첫번째 배열 x로 부터 두번째 배열 y를 뺀 차집합을 반환\n",
        "# 6. setxor1d(x, y) : 두 배열 x, y의 합집합에서 교집합을 뺀 대칭차집합을 반환\n"
      ]
    },
    {
      "cell_type": "markdown",
      "id": "37bc0973",
      "metadata": {
        "id": "37bc0973"
      },
      "source": [
        "#### 27. Is the following expressions true? (★☆☆)\n",
        "```python\n",
        "np.sqrt(-1) == np.emath.sqrt(-1)\n",
        "```"
      ]
    },
    {
      "cell_type": "code",
      "execution_count": null,
      "id": "c70cbabe",
      "metadata": {
        "id": "c70cbabe",
        "colab": {
          "base_uri": "https://localhost:8080/"
        },
        "outputId": "f69dcec2-0152-456d-f427-85b92c8464c8"
      },
      "outputs": [
        {
          "output_type": "stream",
          "name": "stderr",
          "text": [
            "/usr/local/lib/python3.7/dist-packages/ipykernel_launcher.py:1: RuntimeWarning: invalid value encountered in sqrt\n",
            "  \"\"\"Entry point for launching an IPython kernel.\n"
          ]
        },
        {
          "output_type": "execute_result",
          "data": {
            "text/plain": [
              "False"
            ]
          },
          "metadata": {},
          "execution_count": 22
        }
      ],
      "source": [
        "print(np.sqrt(-1)) # =nan\n",
        "print(np.emath.sqrt(-1)) # =허수\n",
        "\n",
        "np.sqrt(-1) == np.emath.sqrt(-1) # False"
      ]
    },
    {
      "cell_type": "markdown",
      "id": "42f8b2f9",
      "metadata": {
        "id": "42f8b2f9"
      },
      "source": [
        "#### 28. How to get all the dates corresponding to the month of July 2016? (★★☆)\n",
        "Hint : modify the code below\n",
        "```python\n",
        "Z = np.arange('start', 'end', dtype='datetime64[D]')\n",
        "```"
      ]
    },
    {
      "cell_type": "markdown",
      "source": [
        "해석) 2016년 7월에 해당하는 모든 날짜를 어떻게 구하나요?"
      ],
      "metadata": {
        "id": "4JN_udP1G4PS"
      },
      "id": "4JN_udP1G4PS"
    },
    {
      "cell_type": "code",
      "source": [
        "np.arange('2016-07', '2016-08', dtype='datetime64[D]')"
      ],
      "metadata": {
        "colab": {
          "base_uri": "https://localhost:8080/"
        },
        "id": "p4IRXBUNHRTf",
        "outputId": "c0969fb0-f867-486b-eaff-805896f8b365"
      },
      "id": "p4IRXBUNHRTf",
      "execution_count": null,
      "outputs": [
        {
          "output_type": "execute_result",
          "data": {
            "text/plain": [
              "array(['2016-07-01', '2016-07-02', '2016-07-03', '2016-07-04',\n",
              "       '2016-07-05', '2016-07-06', '2016-07-07', '2016-07-08',\n",
              "       '2016-07-09', '2016-07-10', '2016-07-11', '2016-07-12',\n",
              "       '2016-07-13', '2016-07-14', '2016-07-15', '2016-07-16',\n",
              "       '2016-07-17', '2016-07-18', '2016-07-19', '2016-07-20',\n",
              "       '2016-07-21', '2016-07-22', '2016-07-23', '2016-07-24',\n",
              "       '2016-07-25', '2016-07-26', '2016-07-27', '2016-07-28',\n",
              "       '2016-07-29', '2016-07-30', '2016-07-31'], dtype='datetime64[D]')"
            ]
          },
          "metadata": {},
          "execution_count": 28
        }
      ]
    },
    {
      "cell_type": "code",
      "execution_count": null,
      "id": "3kkl01x3x0NF",
      "metadata": {
        "id": "3kkl01x3x0NF",
        "colab": {
          "base_uri": "https://localhost:8080/"
        },
        "outputId": "11f408ba-e330-4387-e2e1-95ea70496412"
      },
      "outputs": [
        {
          "output_type": "stream",
          "name": "stdout",
          "text": [
            "2022-09-19\n",
            "2022-09-20\n",
            "2022-09-21\n",
            "2022-10\n"
          ]
        }
      ],
      "source": [
        "# 이건 뜬금없는데서 긁어옴\n",
        "\n",
        "yesterday = np.datetime64('today', 'D') - np.timedelta64(1, 'D')\n",
        "today = np.datetime64('today', 'D')\n",
        "tomorrow = np.datetime64('today', 'D') + np.timedelta64(1, 'D')\n",
        "next_year = np.datetime64('today', 'M') + np.timedelta64(1, 'M')\n",
        " \n",
        "print(yesterday)\n",
        "print(today)\n",
        "print(tomorrow)\n",
        "print(next_year)"
      ]
    },
    {
      "cell_type": "markdown",
      "id": "252c43e2",
      "metadata": {
        "id": "252c43e2"
      },
      "source": [
        "#### 29. How to compute ((A+B)*(-A/2)) in place (without copy)? (★★☆)\n",
        "Hint : use `numpy.add`, `numpy.divide`,`numpy.negative`, `numpy.multiply` and parameter `out` of the funtions"
      ]
    },
    {
      "cell_type": "markdown",
      "source": [
        "해석) 복사없이 (A+B)*(-A/2) 를 계산하는 방법은?"
      ],
      "metadata": {
        "id": "RNg55QcgHvj_"
      },
      "id": "RNg55QcgHvj_"
    },
    {
      "cell_type": "code",
      "execution_count": null,
      "id": "f06ff615",
      "metadata": {
        "id": "f06ff615",
        "outputId": "9986b8d6-47c5-4edd-da06-92f14d6e5978"
      },
      "outputs": [
        {
          "name": "stdout",
          "output_type": "stream",
          "text": [
            "[-1.5 -1.5 -1.5]\n"
          ]
        }
      ],
      "source": [
        "A = np.ones(3)*1\n",
        "B = np.ones(3)*2\n",
        "np.add(A,B,out=B) # A+B의 결과를 B에 할당해놓음\n",
        "np.divide(A,2,out=A) # A/2의 결과를 A에 할당\n",
        "np.negative(A,out=A) # -(A/2)를 A에 할당\n",
        "np.multiply(A,B,out=A) # (A+B)*(-A/2)와 같은 결과\n",
        "print(A)"
      ]
    },
    {
      "cell_type": "markdown",
      "id": "486df8ea",
      "metadata": {
        "id": "486df8ea"
      },
      "source": [
        "#### 30. Extract the integer part of a random array of positive numbers using 2 different methods (★★☆)\n",
        "Hint : `%`, `//`"
      ]
    },
    {
      "cell_type": "code",
      "source": [
        "2가지 다른 방법을 이용하여, 양의 무작위원소배열에서 정수부분을 추출해라."
      ],
      "metadata": {
        "id": "FTsBu2M0JmFw"
      },
      "id": "FTsBu2M0JmFw",
      "execution_count": null,
      "outputs": []
    },
    {
      "cell_type": "code",
      "execution_count": null,
      "id": "34b4fa08",
      "metadata": {
        "id": "34b4fa08",
        "colab": {
          "base_uri": "https://localhost:8080/"
        },
        "outputId": "2229ac08-dd1f-4ed7-f798-2fc137c4951d"
      },
      "outputs": [
        {
          "output_type": "stream",
          "name": "stdout",
          "text": [
            "[6.76046489 3.70520739 5.79874187 0.62658762 4.67209062 1.45510957\n",
            " 8.45691792 3.61949433 8.65921289 3.07808606]\n"
          ]
        }
      ],
      "source": [
        "z = np.random.uniform(0,10,10) # 양수의 무작위 원소 배열\n",
        "print(z)\n",
        "print(z%1) # 1로 나눈 나머지 = 소수점이하만 남음\n",
        "print(z-z%1) # 소수점 이하 빼면 정수부분만 \n",
        "\n",
        "print(np.floor(z)) \n",
        "\n",
        "print(np.ceil(z))\n",
        "print(z.astype(int))\n",
        "print(np.trunc(z))"
      ]
    },
    {
      "cell_type": "markdown",
      "id": "649e89f9",
      "metadata": {
        "id": "649e89f9"
      },
      "source": [
        "#### 31. Create a 5x5 matrix with row values ranging from 0 to 4 (★★☆)"
      ]
    },
    {
      "cell_type": "code",
      "execution_count": null,
      "id": "663cc611",
      "metadata": {
        "id": "663cc611",
        "outputId": "6d886937-d918-4a9f-ff94-5458402c82ae"
      },
      "outputs": [
        {
          "name": "stdout",
          "output_type": "stream",
          "text": [
            "[[0. 1. 2. 3. 4.]\n",
            " [0. 1. 2. 3. 4.]\n",
            " [0. 1. 2. 3. 4.]\n",
            " [0. 1. 2. 3. 4.]\n",
            " [0. 1. 2. 3. 4.]]\n"
          ]
        }
      ],
      "source": [
        "z = np.zeros((5,5))\n",
        "z += np.arange(5)\n",
        "print(z)"
      ]
    },
    {
      "cell_type": "markdown",
      "id": "2d07be1c",
      "metadata": {
        "id": "2d07be1c"
      },
      "source": [
        "#### 32. Create a random vector of size 10 and sort it (★★☆)"
      ]
    },
    {
      "cell_type": "code",
      "execution_count": null,
      "id": "4f7cb3ad",
      "metadata": {
        "id": "4f7cb3ad",
        "outputId": "6f6e28a0-f3dc-4250-d76f-82e5c47069f6"
      },
      "outputs": [
        {
          "name": "stdout",
          "output_type": "stream",
          "text": [
            "[0.0613295  0.26838547 0.29162547 0.40340179 0.4072364  0.54756966\n",
            " 0.59496145 0.85017472 0.86694811 0.91294022]\n"
          ]
        }
      ],
      "source": [
        "z = np.random.random(10)\n",
        "z.sort()\n",
        "print(z)"
      ]
    },
    {
      "cell_type": "markdown",
      "id": "fe043549",
      "metadata": {
        "id": "fe043549"
      },
      "source": [
        "#### 33. Consider two random array A and B, check if they are equal (★★☆)\n",
        "```python\n",
        "A = np.random.randint(0,2,5)\n",
        "B = np.random.randint(0,2,5)\n",
        "```\n",
        "Hint : Use `numpy.array_equal()`"
      ]
    },
    {
      "cell_type": "code",
      "execution_count": null,
      "id": "3326a686",
      "metadata": {
        "id": "3326a686",
        "outputId": "557c7ace-dbed-4280-c1cd-960f974a96c2"
      },
      "outputs": [
        {
          "name": "stdout",
          "output_type": "stream",
          "text": [
            "False\n",
            "False\n"
          ]
        }
      ],
      "source": [
        "a = np.random.randint(0,2,5)\n",
        "b = np.random.randint(0,2,5)\n",
        "print(np.allclose(a, b))\n",
        "print(np.array_equal(a, b))"
      ]
    },
    {
      "cell_type": "markdown",
      "id": "2002cb03",
      "metadata": {
        "id": "2002cb03"
      },
      "source": [
        "#### 34. Consider a random 10x2 matrix representing cartesian coordinates, convert them to polar coordinates (★★☆)\n",
        "Hint 1 : Note that cartesian coodinate **(x, y)** can be represented as  polar coordinates **(distance from origin to (x,y), angle from the x-axis)**\n",
        "\n",
        "Hint 2 : Use `numpy.sqrt` and `numpy.arctan2`"
      ]
    },
    {
      "cell_type": "markdown",
      "source": [
        "카티지언 좌표(직교좌표)를 나타내는 임의의 10x2 행렬을 고려하여, 극좌표로 변환하시오."
      ],
      "metadata": {
        "id": "OruuKmUIZdPU"
      },
      "id": "OruuKmUIZdPU"
    },
    {
      "cell_type": "code",
      "source": [
        "# 어레이\n",
        "C = np.random.random((10,2)) # 임의의 10x2 행렬 생성\n",
        "x, y = A[:,0], A[:,1] # x, y에 할당\n",
        "\n",
        "rho = np.sqrt(x**2+y**2) # sqrt 루트\n",
        "theta = np.arctan2(y,x) \n",
        "# arctan1: 출력범위가 [-pi/2, +pi/2]\n",
        "# arctan2: 출력범위가 [-pi, +pi]\n",
        "\n",
        "# P = np.concatenate([rho, theta], axis=1)\n",
        "## 위 코드 오류 뜨는 이유 : rho, theta가 1차원 array라 가로방향으로 결합이 안됨\n",
        "## axis=1 : 열방향 결합 \n",
        "P = np.concatenate([rho.reshape(10,1), theta.reshape(10,1)], axis=1)\n",
        "\n",
        "print(\"직교좌표계 C : \\n\", C)\n",
        "print(\"\\n\")\n",
        "print(\"극좌표계 P : \\n\", P)"
      ],
      "metadata": {
        "colab": {
          "base_uri": "https://localhost:8080/"
        },
        "id": "7jqsfV9uZsAa",
        "outputId": "bb5b7b5d-f7b5-4a35-9556-7d906c53f96e"
      },
      "id": "7jqsfV9uZsAa",
      "execution_count": null,
      "outputs": [
        {
          "output_type": "stream",
          "name": "stdout",
          "text": [
            "직교좌표계 C : \n",
            " [[0.26689488 0.11466826]\n",
            " [0.58453673 0.88377966]\n",
            " [0.48133358 0.40852932]\n",
            " [0.29869047 0.194194  ]\n",
            " [0.71865791 0.35011988]\n",
            " [0.27685498 0.18586988]\n",
            " [0.66572629 0.07183588]\n",
            " [0.23203854 0.91696379]\n",
            " [0.41071462 0.23244561]\n",
            " [0.12313947 0.2328485 ]]\n",
            "\n",
            "\n",
            "극좌표계 P : \n",
            " [[0.87398513 0.44941646]\n",
            " [0.73720175 1.36939365]\n",
            " [1.01896794 1.11541503]\n",
            " [0.882419   0.94040373]\n",
            " [1.32189435 0.85463972]\n",
            " [1.21898099 0.93037599]\n",
            " [0.98010956 1.45083093]\n",
            " [1.1733874  0.6181197 ]\n",
            " [0.90667553 0.28408773]\n",
            " [0.98801064 0.89676433]]\n"
          ]
        }
      ]
    },
    {
      "cell_type": "code",
      "source": [
        "# 데이터 프레임\n",
        "import pandas as pd\n",
        "C = pd.DataFrame(np.random.random((10,2)), columns=['x', 'y'])\n",
        "\n",
        "rho = pd.DataFrame(np.sqrt(x**2+y**2))\n",
        "theta = pd.DataFrame(np.arctan2(y,x))\n",
        "\n",
        "P = pd.concat([rho, theta], axis=1) \n",
        "P.columns = ['rho', 'theta']\n",
        "\n",
        "print(\"직교좌표계 C : \\n\", C)\n",
        "print(\"\\n\")\n",
        "print(\"극좌표계 P : \\n\", P)\n",
        "\n",
        "# 데이터프레임 합칠 때 : concat(), merge(), join()\n",
        "## merge(), join()은 key를 기준으로 교집합/합집합으로 합치기\n",
        "## concat()는 key가 없을 때 합치기, inner, outer 옵션으로 교집합/합집합"
      ],
      "metadata": {
        "colab": {
          "base_uri": "https://localhost:8080/"
        },
        "id": "iHROjT94jwJn",
        "outputId": "beeac89d-29c4-4199-e072-28d8f443aabd"
      },
      "id": "iHROjT94jwJn",
      "execution_count": null,
      "outputs": [
        {
          "output_type": "stream",
          "name": "stdout",
          "text": [
            "<class 'pandas.core.frame.DataFrame'>\n",
            "직교좌표계 C : \n",
            "           x         y\n",
            "0  0.735241  0.904674\n",
            "1  0.234409  0.595520\n",
            "2  0.856039  0.010348\n",
            "3  0.358626  0.344015\n",
            "4  0.483917  0.107209\n",
            "5  0.411989  0.957575\n",
            "6  0.044408  0.137487\n",
            "7  0.699067  0.875456\n",
            "8  0.731331  0.605617\n",
            "9  0.374775  0.376295\n",
            "\n",
            "\n",
            "극좌표계 P : \n",
            "         rho     theta\n",
            "0  0.873985  0.449416\n",
            "1  0.737202  1.369394\n",
            "2  1.018968  1.115415\n",
            "3  0.882419  0.940404\n",
            "4  1.321894  0.854640\n",
            "5  1.218981  0.930376\n",
            "6  0.980110  1.450831\n",
            "7  1.173387  0.618120\n",
            "8  0.906676  0.284088\n",
            "9  0.988011  0.896764\n"
          ]
        }
      ]
    },
    {
      "cell_type": "markdown",
      "id": "b7109c9f",
      "metadata": {
        "id": "b7109c9f"
      },
      "source": [
        "#### 35. Create random vector Z of size 10 and replace the maximum value by 0 (★★☆)\n",
        "Hint : We can see the index of maximum value using `Z.argmax()`"
      ]
    },
    {
      "cell_type": "markdown",
      "source": [
        "크기가 10인 랜덤벡터를 생성하고, 최댓값을 0으로 바꿔라."
      ],
      "metadata": {
        "id": "bz4E8QadHpXO"
      },
      "id": "bz4E8QadHpXO"
    },
    {
      "cell_type": "code",
      "source": [
        "Z = np.random.randint(0,100,10)\n",
        "print(Z)\n",
        "print(np.argmax(Z)) # 최댓값이 위치한 인덱스를 반환\n",
        "\n",
        "Z[np.argmax(Z)] = 0\n",
        "print(Z)"
      ],
      "metadata": {
        "colab": {
          "base_uri": "https://localhost:8080/"
        },
        "id": "biwfvIXIHzt8",
        "outputId": "8b022041-ff87-475d-d805-48f128d49057"
      },
      "id": "biwfvIXIHzt8",
      "execution_count": null,
      "outputs": [
        {
          "output_type": "stream",
          "name": "stdout",
          "text": [
            "[ 7 17 24 89 53 75 29 88 49 59]\n",
            "3\n",
            "[ 7 17 24  0 53 75 29 88 49 59]\n"
          ]
        }
      ]
    },
    {
      "cell_type": "code",
      "source": [
        "# 최댓값이 2개 이상이라면 ??????\n",
        "A = np.random.randint(0,5,10)\n",
        "print(A)\n",
        "print(np.argmax(A)) # 최댓값이 2개이상 있을 때 가장 앞쪽것만 표시\n",
        "\n",
        "# 루프 \n",
        "list1 = list(np.random.randint(0,5,10))\n",
        "max_index =[]\n",
        "for i in list1:\n",
        "  if i == max(list1):\n",
        "    max_index.append(list1.index(i))\n",
        "\n",
        "print(list1)\n",
        "print(max_index)\n",
        "\n",
        "\n",
        "list2 = list(np.random.randint(0,5,10))\n",
        "max_index = []\n",
        "for i in list2 :\n",
        "  if i == max(list2):\n",
        "\n",
        "  print(list2.index(i))\n",
        "print(list2)"
      ],
      "metadata": {
        "colab": {
          "base_uri": "https://localhost:8080/",
          "height": 136
        },
        "id": "peJXwRG16Sf6",
        "outputId": "ebcd96ef-e96a-4c30-9616-bf9ce1d74235"
      },
      "id": "peJXwRG16Sf6",
      "execution_count": null,
      "outputs": [
        {
          "output_type": "error",
          "ename": "IndentationError",
          "evalue": "ignored",
          "traceback": [
            "\u001b[0;36m  File \u001b[0;32m\"<ipython-input-58-2f06d3f5a048>\"\u001b[0;36m, line \u001b[0;32m5\u001b[0m\n\u001b[0;31m    print(list2.index(i))\u001b[0m\n\u001b[0m        ^\u001b[0m\n\u001b[0;31mIndentationError\u001b[0m\u001b[0;31m:\u001b[0m expected an indented block\n"
          ]
        }
      ]
    },
    {
      "cell_type": "code",
      "source": [
        "a=[1,2,3,4,5]\n",
        "a.index(3)"
      ],
      "metadata": {
        "colab": {
          "base_uri": "https://localhost:8080/"
        },
        "id": "4xSSO7vn8foN",
        "outputId": "33a352dc-fb92-4800-fd1c-20ef99c8c87c"
      },
      "id": "4xSSO7vn8foN",
      "execution_count": null,
      "outputs": [
        {
          "output_type": "execute_result",
          "data": {
            "text/plain": [
              "2"
            ]
          },
          "metadata": {},
          "execution_count": 42
        }
      ]
    },
    {
      "cell_type": "code",
      "source": [
        "# (이건 그냥 궁금) 2차원 어레이에서 \n",
        "\n",
        "A = np.array([[1,2,3], [10,20,30]])\n",
        "print(A)\n",
        "print(np.argmax(A)) # 축설정하지 않으면 1차원 어레이로 flatten상태로 가정\n",
        "print(np.argmax(A, axis=0)) # 세로축(열) 원소끼리 비교\n",
        "print(np.argmax(A, axis=1)) # 가로축(행) 원소끼리 비교"
      ],
      "metadata": {
        "colab": {
          "base_uri": "https://localhost:8080/"
        },
        "id": "taQbXME6Ica-",
        "outputId": "c47b128c-8e8d-42cf-d69e-e8003bdb41d9"
      },
      "id": "taQbXME6Ica-",
      "execution_count": null,
      "outputs": [
        {
          "output_type": "stream",
          "name": "stdout",
          "text": [
            "[[ 1  2  3]\n",
            " [10 20 30]]\n",
            "5\n",
            "[1 1 1]\n",
            "[2 2]\n"
          ]
        }
      ]
    },
    {
      "cell_type": "markdown",
      "id": "e6e1ae2f",
      "metadata": {
        "id": "e6e1ae2f"
      },
      "source": [
        "#### 36. How to find the closest value (to a given scalar v) in a vector Z? (★★☆)\n",
        "```python\n",
        "Z = np.arange(100)\n",
        "v = np.random.uniform(0,100)\n",
        "```\n",
        "Hint : Coumpute the distances between the each elements of Z and the scalar v. After that, we can see the index of minimum value using `argmin()`.  "
      ]
    },
    {
      "cell_type": "markdown",
      "source": [
        "Z벡터에서 주어진 스칼라에서 가장 가까운 값을 찾으려면?"
      ],
      "metadata": {
        "id": "JFz6YOPLJOg-"
      },
      "id": "JFz6YOPLJOg-"
    },
    {
      "cell_type": "code",
      "source": [
        "Z = np.arange(100)\n",
        "v = np.random.uniform(0,100)\n",
        "print(Z, v)\n",
        "min_index = (np.abs(Z-v)).argmin()\n",
        "# 벡터와 스칼라 간의 차를 구해서 거리가 가장 작은 값을 찾기\n",
        "# np.abs(x): x의 절댓값\n",
        "# array.argmin(): array의 최솟값이 위치한 인덱스\n",
        "print(Z[min_index])"
      ],
      "metadata": {
        "colab": {
          "base_uri": "https://localhost:8080/"
        },
        "id": "GrHs5fXiJgBh",
        "outputId": "a15a021a-a45a-455c-ebd6-8b4bfcfe21b7"
      },
      "id": "GrHs5fXiJgBh",
      "execution_count": null,
      "outputs": [
        {
          "output_type": "stream",
          "name": "stdout",
          "text": [
            "[ 0  1  2  3  4  5  6  7  8  9 10 11 12 13 14 15 16 17 18 19 20 21 22 23\n",
            " 24 25 26 27 28 29 30 31 32 33 34 35 36 37 38 39 40 41 42 43 44 45 46 47\n",
            " 48 49 50 51 52 53 54 55 56 57 58 59 60 61 62 63 64 65 66 67 68 69 70 71\n",
            " 72 73 74 75 76 77 78 79 80 81 82 83 84 85 86 87 88 89 90 91 92 93 94 95\n",
            " 96 97 98 99] 12.982520171307943\n",
            "13\n"
          ]
        }
      ]
    },
    {
      "cell_type": "markdown",
      "id": "f98713a6",
      "metadata": {
        "id": "f98713a6"
      },
      "source": [
        "#### 37. What is the equivalent of enumerate for numpy arrays? (★★☆)\n",
        "Hint : Use `numpy.ndenumerate()`or `numpy.ndindex()`\n",
        "\n",
        "Example of the output :\n",
        "```python\n",
        "Z = np.arange(9).reshape(3,3)\n",
        "```\n",
        "```python\n",
        "# output\n",
        "(0, 0) 0\n",
        "(0, 1) 1\n",
        "(0, 2) 2\n",
        "(1, 0) 3\n",
        "(1, 1) 4\n",
        "(1, 2) 5\n",
        "(2, 0) 6\n",
        "(2, 1) 7\n",
        "(2, 2) 8\n",
        "```"
      ]
    },
    {
      "cell_type": "markdown",
      "source": [
        "어레이에 대한 인덱스 좌표 구해라"
      ],
      "metadata": {
        "id": "dSeDdBGsQ9_5"
      },
      "id": "dSeDdBGsQ9_5"
    },
    {
      "cell_type": "code",
      "source": [
        "# enumerate(): 리스트의 원소에 인덱스를 부여하고 튜플형태로 반환\n",
        "\n",
        "## enumerate() 쓰지 않을 때\n",
        "i = 0\n",
        "for letter in ['A', 'B', 'C']:\n",
        "  print(i, letter)\n",
        "  i += 1\n",
        "## enumerate() 쓸 때 \n",
        "for i_letter in enumerate(['A','B','C']):\n",
        "  print(i_letter)"
      ],
      "metadata": {
        "colab": {
          "base_uri": "https://localhost:8080/"
        },
        "id": "tq8zXCjMNds3",
        "outputId": "f3a71863-d74b-478f-eac1-7c5fa3e1a2ca"
      },
      "id": "tq8zXCjMNds3",
      "execution_count": null,
      "outputs": [
        {
          "output_type": "stream",
          "name": "stdout",
          "text": [
            "0 A\n",
            "1 B\n",
            "2 C\n",
            "(0, 'A')\n",
            "(1, 'B')\n",
            "(2, 'C')\n"
          ]
        }
      ]
    },
    {
      "cell_type": "code",
      "source": [
        "# np.ndenumerate(): ndarray의 원소에 인덱스 좌표를 부여해주는 함수\n",
        "\n",
        "A = np.array([[1,10],[2,20]])\n",
        "for index in np.ndenumerate(A):\n",
        "  print(index)"
      ],
      "metadata": {
        "colab": {
          "base_uri": "https://localhost:8080/"
        },
        "id": "tyqXKdIZPxN2",
        "outputId": "85f828f3-a816-4716-a35c-0286f0b960f6"
      },
      "id": "tyqXKdIZPxN2",
      "execution_count": null,
      "outputs": [
        {
          "output_type": "stream",
          "name": "stdout",
          "text": [
            "((0, 0), 1)\n",
            "((0, 1), 10)\n",
            "((1, 0), 2)\n",
            "((1, 1), 20)\n"
          ]
        }
      ]
    },
    {
      "cell_type": "code",
      "source": [
        "Z = np.arange(9).reshape(3,3)\n",
        "\n",
        "for index, element in np.ndenumerate(Z):\n",
        "  print(index, element)\n"
      ],
      "metadata": {
        "colab": {
          "base_uri": "https://localhost:8080/"
        },
        "id": "VFfMoCNHQ8g4",
        "outputId": "5f715081-4bfc-4199-c236-2666bcc5b58e"
      },
      "id": "VFfMoCNHQ8g4",
      "execution_count": null,
      "outputs": [
        {
          "output_type": "stream",
          "name": "stdout",
          "text": [
            "(0, 0) 0\n",
            "(0, 1) 1\n",
            "(0, 2) 2\n",
            "(1, 0) 3\n",
            "(1, 1) 4\n",
            "(1, 2) 5\n",
            "(2, 0) 6\n",
            "(2, 1) 7\n",
            "(2, 2) 8\n"
          ]
        }
      ]
    },
    {
      "cell_type": "markdown",
      "id": "0cf413ee",
      "metadata": {
        "id": "0cf413ee"
      },
      "source": [
        "#### 38. How to randomly place p elements in a 2D array? (★★☆)\n",
        "Hint : modify the code below\n",
        "```python\n",
        "n = 'size of a 2D array'\n",
        "p = 'the number of elements that you want to place'\n",
        "Z = np.zeros((n,n))\n",
        "np.put(Z, np.random.choice(range(n*n), p, replace = False),'value that you want to place')\n",
        "print(Z)\n",
        "```"
      ]
    },
    {
      "cell_type": "markdown",
      "source": [
        "2차원 어레이에서 p를 랜덤하게 배치하려면?"
      ],
      "metadata": {
        "id": "iB8HqCDYRcq4"
      },
      "id": "iB8HqCDYRcq4"
    },
    {
      "cell_type": "code",
      "source": [
        "# n = 'size of a 2D array'(2차원 어레이)\n",
        "# p = 'the number of elements that you want to place'(랜덤하게 배치할 값의 개수)\n",
        "n = 10\n",
        "p = 4\n",
        "Z = np.zeros((n,n))\n",
        "\n",
        "# np.put(Z, np.random.choice(range(n*n), p, replace = False),'value that you want to place')\n",
        "# 1. 랜덤하게 배치할 인덱스를 생성\n",
        "randindex = np.random.choice(range(n*n), p, replace=False)\n",
        "# 2. Z어레이의 랜덤한 인덱스 위치에 p개의 value를 배치\n",
        "np.put(Z, randindex, 365)\n",
        "\n",
        "## np.random.choice(end, n, replace=F): 0이상, end미만인 정수 중 n개 출력, 비복원\n",
        "## = np.random.randint(start=0, end, n, replace=F) 와 같은 결과 출력\n",
        "## np.put(Arr, index, value ): Array의 지정한 index의 값을 value로 바꾼다. \n",
        "\n",
        "\n",
        "print(Z)"
      ],
      "metadata": {
        "colab": {
          "base_uri": "https://localhost:8080/"
        },
        "id": "3RAbbkMERlMY",
        "outputId": "edc46184-1307-4c9b-ffc3-4e862abcafab"
      },
      "id": "3RAbbkMERlMY",
      "execution_count": null,
      "outputs": [
        {
          "output_type": "stream",
          "name": "stdout",
          "text": [
            "[[  0.   0.   0.   0.   0.   0.   0.   0.   0. 365.]\n",
            " [  0.   0.   0.   0.   0.   0.   0.   0.   0.   0.]\n",
            " [  0.   0.   0.   0.   0.   0.   0.   0.   0.   0.]\n",
            " [  0.   0.   0.   0.   0.   0.   0.   0.   0.   0.]\n",
            " [  0.   0.   0.   0.   0.   0.   0. 365.   0.   0.]\n",
            " [  0.   0.   0.   0.   0.   0.   0.   0.   0.   0.]\n",
            " [  0.   0.   0.   0.   0.   0.   0.   0.   0. 365.]\n",
            " [  0.   0.   0.   0.   0.   0.   0.   0.   0.   0.]\n",
            " [  0. 365.   0.   0.   0.   0.   0.   0.   0.   0.]\n",
            " [  0.   0.   0.   0.   0.   0.   0.   0.   0.   0.]]\n"
          ]
        }
      ]
    },
    {
      "cell_type": "code",
      "source": [],
      "metadata": {
        "id": "cj_-PMo6SzHW"
      },
      "id": "cj_-PMo6SzHW",
      "execution_count": null,
      "outputs": []
    },
    {
      "cell_type": "markdown",
      "id": "c0cf37e0",
      "metadata": {
        "id": "c0cf37e0"
      },
      "source": [
        "#### 39. How to sort an array below by the nth column? (★★☆)\n",
        "```python\n",
        "Z = np.random.randint(0,10,(3,3))\n",
        "```"
      ]
    },
    {
      "cell_type": "markdown",
      "source": [
        "n번째 열로 어레이를 정렬하려면?"
      ],
      "metadata": {
        "id": "AatiNdrPz9_U"
      },
      "id": "AatiNdrPz9_U"
    },
    {
      "cell_type": "code",
      "source": [
        "Z = np.random.randint(0,10, (3,3))\n",
        "n=3\n",
        "Z_sort = Z[Z[:,n-1].argsort()] \n",
        "# 세번째 열(index=2)을 기준으로 정렬하는 인덱스를 저장\n",
        "## 세번째 열 : [6,3,5]->[3,5,6] (매번 달라짐)\n",
        "\n",
        "print(Z)\n",
        "print(Z[:,n-1].argsort())\n",
        "print(Z_sort)"
      ],
      "metadata": {
        "colab": {
          "base_uri": "https://localhost:8080/"
        },
        "id": "UihXqmXC0GWs",
        "outputId": "34a05b43-838a-4f57-ad40-d0b6fd9a7fff"
      },
      "id": "UihXqmXC0GWs",
      "execution_count": null,
      "outputs": [
        {
          "output_type": "stream",
          "name": "stdout",
          "text": [
            "[[5 5 0]\n",
            " [3 6 6]\n",
            " [8 7 5]]\n",
            "[0 2 1]\n",
            "[[5 5 0]\n",
            " [8 7 5]\n",
            " [3 6 6]]\n"
          ]
        }
      ]
    },
    {
      "cell_type": "code",
      "execution_count": null,
      "id": "9336ca5f",
      "metadata": {
        "id": "9336ca5f"
      },
      "outputs": [],
      "source": [
        "# column 1"
      ]
    },
    {
      "cell_type": "code",
      "execution_count": null,
      "id": "0hZzZ6tn2K6V",
      "metadata": {
        "id": "0hZzZ6tn2K6V"
      },
      "outputs": [],
      "source": [
        "# column 2"
      ]
    },
    {
      "cell_type": "code",
      "execution_count": null,
      "id": "z4zqQXvt2NaB",
      "metadata": {
        "id": "z4zqQXvt2NaB"
      },
      "outputs": [],
      "source": [
        "# column 3"
      ]
    }
  ],
  "metadata": {
    "colab": {
      "collapsed_sections": [],
      "provenance": [],
      "include_colab_link": true
    },
    "kernelspec": {
      "display_name": "Python 3 (ipykernel)",
      "language": "python",
      "name": "python3"
    },
    "language_info": {
      "codemirror_mode": {
        "name": "ipython",
        "version": 3
      },
      "file_extension": ".py",
      "mimetype": "text/x-python",
      "name": "python",
      "nbconvert_exporter": "python",
      "pygments_lexer": "ipython3",
      "version": "3.9.12"
    }
  },
  "nbformat": 4,
  "nbformat_minor": 5
}