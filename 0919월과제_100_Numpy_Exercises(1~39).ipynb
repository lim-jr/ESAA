{
 "cells": [
  {
   "cell_type": "markdown",
   "id": "bf79c78b",
   "metadata": {
    "id": "bf79c78b"
   },
   "source": [
    "# 100 numpy exercises\n",
    "\n",
    "This is a collection of exercises that have been collected in the numpy mailing list, on stack overflow\n",
    "and in the numpy documentation. The goal of this collection is to offer a quick reference for both old\n",
    "and new users but also to provide a set of exercises for those who teach.\n",
    "\n",
    "\n",
    "If you find an error or think you've a better way to solve some of them, feel\n",
    "free to open an issue at <https://github.com/rougier/numpy-100>."
   ]
  },
  {
   "cell_type": "markdown",
   "id": "8536e059",
   "metadata": {
    "id": "8536e059"
   },
   "source": [
    "File automatically generated. See the documentation to update questions/answers/hints programmatically."
   ]
  },
  {
   "cell_type": "markdown",
   "id": "e16ac60b",
   "metadata": {
    "id": "e16ac60b"
   },
   "source": [
    "Run the `initialize.py` module, then for each question you can query the\n",
    "answer or an hint with `hint(n)` or `answer(n)` for `n` question number."
   ]
  },
  {
   "cell_type": "code",
   "execution_count": 92,
   "id": "a8453483",
   "metadata": {
    "id": "a8453483"
   },
   "outputs": [],
   "source": [
    "%run initialise.py"
   ]
  },
  {
   "cell_type": "markdown",
   "id": "017db353",
   "metadata": {
    "id": "017db353"
   },
   "source": [
    "#### 1. Import the numpy package under the name `np` (★☆☆)"
   ]
  },
  {
   "cell_type": "code",
   "execution_count": 2,
   "id": "68182a76",
   "metadata": {
    "id": "68182a76"
   },
   "outputs": [],
   "source": [
    "import numpy as np"
   ]
  },
  {
   "cell_type": "markdown",
   "id": "46950f4f",
   "metadata": {
    "id": "46950f4f"
   },
   "source": [
    "#### 2. Print the numpy version and the configuration (★☆☆)"
   ]
  },
  {
   "cell_type": "code",
   "execution_count": 3,
   "id": "2a9f5838",
   "metadata": {
    "id": "2a9f5838"
   },
   "outputs": [
    {
     "name": "stdout",
     "output_type": "stream",
     "text": [
      "<module 'numpy' from 'C:\\\\ProgramData\\\\Anaconda3\\\\lib\\\\site-packages\\\\numpy\\\\__init__.py'>\n"
     ]
    }
   ],
   "source": [
    "print(np)"
   ]
  },
  {
   "cell_type": "markdown",
   "id": "e3c20b3d",
   "metadata": {
    "id": "e3c20b3d"
   },
   "source": [
    "#### 3. Create a null vector of size 10 (★☆☆)"
   ]
  },
  {
   "cell_type": "code",
   "execution_count": 15,
   "id": "8a758bcf",
   "metadata": {
    "id": "8a758bcf"
   },
   "outputs": [
    {
     "name": "stdout",
     "output_type": "stream",
     "text": [
      "[0. 0. 0. 0. 0. 0. 0. 0. 0. 0.]\n"
     ]
    }
   ],
   "source": [
    "null_vector = np.zeros(10)\n",
    "print(null_vector)"
   ]
  },
  {
   "cell_type": "markdown",
   "id": "b15a879f",
   "metadata": {
    "id": "b15a879f"
   },
   "source": [
    "#### 4. How to find the memory size of any array (★☆☆)"
   ]
  },
  {
   "cell_type": "code",
   "execution_count": 10,
   "id": "1cc3cbc5",
   "metadata": {
    "id": "1cc3cbc5"
   },
   "outputs": [
    {
     "data": {
      "text/plain": [
       "(10,)"
      ]
     },
     "execution_count": 10,
     "metadata": {},
     "output_type": "execute_result"
    }
   ],
   "source": [
    "np.shape(null_vector)"
   ]
  },
  {
   "cell_type": "markdown",
   "id": "0b16cd77",
   "metadata": {
    "id": "0b16cd77"
   },
   "source": [
    "#### 5. Create a null vector of size 10 but the fifth value which is 1 (★☆☆)"
   ]
  },
  {
   "cell_type": "code",
   "execution_count": 16,
   "id": "4d9b5975",
   "metadata": {
    "id": "4d9b5975"
   },
   "outputs": [
    {
     "name": "stdout",
     "output_type": "stream",
     "text": [
      "[0. 0. 0. 0. 1. 0. 0. 0. 0. 0.]\n"
     ]
    }
   ],
   "source": [
    "null_vector[4] = 1\n",
    "print(null_vector)"
   ]
  },
  {
   "cell_type": "markdown",
   "id": "782d4c77",
   "metadata": {
    "id": "782d4c77"
   },
   "source": [
    "#### 6. Create a vector with values ranging from 10 to 49 (★☆☆)"
   ]
  },
  {
   "cell_type": "code",
   "execution_count": 17,
   "id": "5dbe1a08",
   "metadata": {
    "id": "5dbe1a08"
   },
   "outputs": [
    {
     "name": "stdout",
     "output_type": "stream",
     "text": [
      "[10 11 12 13 14 15 16 17 18 19 20 21 22 23 24 25 26 27 28 29 30 31 32 33\n",
      " 34 35 36 37 38 39 40 41 42 43 44 45 46 47 48 49]\n"
     ]
    }
   ],
   "source": [
    "six_vector = np.arange(10,50)\n",
    "print(six_vector)"
   ]
  },
  {
   "cell_type": "markdown",
   "id": "48d48f01",
   "metadata": {
    "id": "48d48f01"
   },
   "source": [
    "#### 7. Reverse a vector (first element becomes last) (★☆☆)"
   ]
  },
  {
   "cell_type": "code",
   "execution_count": 18,
   "id": "3ed233e7",
   "metadata": {
    "id": "3ed233e7"
   },
   "outputs": [
    {
     "data": {
      "text/plain": [
       "array([49, 48, 47, 46, 45, 44, 43, 42, 41, 40, 39, 38, 37, 36, 35, 34, 33,\n",
       "       32, 31, 30, 29, 28, 27, 26, 25, 24, 23, 22, 21, 20, 19, 18, 17, 16,\n",
       "       15, 14, 13, 12, 11, 10])"
      ]
     },
     "execution_count": 18,
     "metadata": {},
     "output_type": "execute_result"
    }
   ],
   "source": [
    "np.sort(six_vector)[::-1]\n",
    "#six_vector.sort() 이건 내림차순 안됨"
   ]
  },
  {
   "cell_type": "markdown",
   "id": "4fa39382",
   "metadata": {
    "id": "4fa39382"
   },
   "source": [
    "#### 8. Create a 3x3 matrix with values ranging from 0 to 8 (★☆☆)"
   ]
  },
  {
   "cell_type": "code",
   "execution_count": 19,
   "id": "c97757ec",
   "metadata": {
    "id": "c97757ec"
   },
   "outputs": [
    {
     "data": {
      "text/plain": [
       "array([[0, 1, 2],\n",
       "       [3, 4, 5],\n",
       "       [6, 7, 8]])"
      ]
     },
     "execution_count": 19,
     "metadata": {},
     "output_type": "execute_result"
    }
   ],
   "source": [
    "np.arange(0,9).reshape((3,3))"
   ]
  },
  {
   "cell_type": "markdown",
   "id": "da64551a",
   "metadata": {
    "id": "da64551a"
   },
   "source": [
    "#### 9. Find indices of non-zero elements from [1,2,0,0,4,0] (★☆☆)"
   ]
  },
  {
   "cell_type": "code",
   "execution_count": 7,
   "id": "f5ecc3d2",
   "metadata": {},
   "outputs": [
    {
     "name": "stdout",
     "output_type": "stream",
     "text": [
      "[0, 1, 4]\n"
     ]
    }
   ],
   "source": [
    "list1 = [1,2,0,0,4,0]\n",
    "nonzero_index = []\n",
    "\n",
    "for i in list1:\n",
    "    if i != 0:\n",
    "        nonzero_index.append(list1.index(i))\n",
    "print(nonzero_index)\n",
    "\n",
    "# list.index(element) : list내 element의 index 반환"
   ]
  },
  {
   "cell_type": "markdown",
   "id": "f89d9c9e",
   "metadata": {
    "id": "f89d9c9e"
   },
   "source": [
    "#### 10. Create a 3x3 identity matrix (★☆☆)\n",
    "Hint : identity & eye, try to use 'help' to learn how to use two functions of numpy"
   ]
  },
  {
   "cell_type": "code",
   "execution_count": 40,
   "id": "ba625832",
   "metadata": {
    "id": "ba625832"
   },
   "outputs": [
    {
     "name": "stdout",
     "output_type": "stream",
     "text": [
      "[[1. 0. 0.]\n",
      " [0. 1. 0.]\n",
      " [0. 0. 1.]] \n",
      " [[1. 0. 0.]\n",
      " [0. 1. 0.]\n",
      " [0. 0. 1.]]\n"
     ]
    }
   ],
   "source": [
    "M1 = np.identity(3)\n",
    "M2 = np.eye(3, dtype=float)\n",
    "print(M1,'\\n', M2)"
   ]
  },
  {
   "cell_type": "markdown",
   "id": "7e44c6fa",
   "metadata": {
    "id": "7e44c6fa"
   },
   "source": [
    "#### 11. Create a 3x3x3 array with random values (★☆☆)\n",
    "Hint : numpy.random.random"
   ]
  },
  {
   "cell_type": "code",
   "execution_count": 44,
   "id": "1cb3dddf",
   "metadata": {
    "id": "1cb3dddf"
   },
   "outputs": [
    {
     "data": {
      "text/plain": [
       "array([[[0.12231039, 0.14616004, 0.88402588],\n",
       "        [0.81086343, 0.27850006, 0.04057657],\n",
       "        [0.82483657, 0.37756536, 0.16944724]],\n",
       "\n",
       "       [[0.49119534, 0.3712275 , 0.18424721],\n",
       "        [0.38858723, 0.55698432, 0.23761824],\n",
       "        [0.68504983, 0.65286122, 0.86058321]],\n",
       "\n",
       "       [[0.68856192, 0.30742413, 0.6680265 ],\n",
       "        [0.79525097, 0.04922293, 0.17096525],\n",
       "        [0.84904274, 0.65697369, 0.27024168]]])"
      ]
     },
     "execution_count": 44,
     "metadata": {},
     "output_type": "execute_result"
    }
   ],
   "source": [
    "np.random.random(27).reshape((3,3,3))"
   ]
  },
  {
   "cell_type": "markdown",
   "id": "13c5928c",
   "metadata": {
    "id": "13c5928c"
   },
   "source": [
    "#### 12. Create a 10x10 array with random values and find the **min**imum and **max**imum values (★☆☆)"
   ]
  },
  {
   "cell_type": "code",
   "execution_count": 51,
   "id": "911c9b93",
   "metadata": {
    "id": "911c9b93"
   },
   "outputs": [
    {
     "name": "stdout",
     "output_type": "stream",
     "text": [
      "0.004788075736372299 0.991998277840805\n"
     ]
    }
   ],
   "source": [
    "M_10 = np.random.random(100).reshape((10,10))\n",
    "print(np.min(M_10), np.max(M_10))"
   ]
  },
  {
   "cell_type": "markdown",
   "id": "3fa2e461",
   "metadata": {
    "id": "3fa2e461"
   },
   "source": [
    "#### 13. Create a random vector of size 30 and find the **mean** value (★☆☆)"
   ]
  },
  {
   "cell_type": "code",
   "execution_count": 52,
   "id": "323eb38a",
   "metadata": {
    "id": "323eb38a"
   },
   "outputs": [
    {
     "name": "stdout",
     "output_type": "stream",
     "text": [
      "0.5431571628780373\n"
     ]
    }
   ],
   "source": [
    "M_30 = np.random.random(30).reshape(30,)\n",
    "print(np.mean(M_30))"
   ]
  },
  {
   "cell_type": "markdown",
   "id": "73f7a549",
   "metadata": {
    "id": "73f7a549"
   },
   "source": [
    "#### 14. Create a 2d array with 1 on the border and 0 inside (★☆☆)"
   ]
  },
  {
   "cell_type": "code",
   "execution_count": 22,
   "id": "fe284ee4",
   "metadata": {},
   "outputs": [
    {
     "name": "stdout",
     "output_type": "stream",
     "text": [
      "[[1. 1. 1. 1. 1. 1.]\n",
      " [1. 0. 0. 0. 0. 1.]\n",
      " [1. 0. 0. 0. 0. 1.]\n",
      " [1. 0. 0. 0. 0. 1.]\n",
      " [1. 0. 0. 0. 0. 1.]\n",
      " [1. 1. 1. 1. 1. 1.]]\n"
     ]
    }
   ],
   "source": [
    "array14 = np.zeros((6,6))\n",
    "\n",
    "array14[(0,5),:]=1\n",
    "array14[:,(0,5)]=1\n",
    "\n",
    "print(array14)"
   ]
  },
  {
   "cell_type": "code",
   "execution_count": 24,
   "id": "a28afb37",
   "metadata": {},
   "outputs": [
    {
     "name": "stdout",
     "output_type": "stream",
     "text": [
      "[[1. 1. 1. 1. 1. 1.]\n",
      " [1. 0. 0. 0. 0. 1.]\n",
      " [1. 0. 0. 0. 0. 1.]\n",
      " [1. 0. 0. 0. 0. 1.]\n",
      " [1. 0. 0. 0. 0. 1.]\n",
      " [1. 1. 1. 1. 1. 1.]]\n"
     ]
    }
   ],
   "source": [
    "array14 = np.ones((6,6))\n",
    "array14[1:-1, 1:-1] = 0  \n",
    "print(array14)"
   ]
  },
  {
   "cell_type": "markdown",
   "id": "d6ad1a9f",
   "metadata": {
    "id": "d6ad1a9f"
   },
   "source": [
    "#### 15. What is the result of the following expression? (★☆☆)\n",
    "```python\n",
    "0 * np.nan\n",
    "np.nan == np.nan\n",
    "np.inf > np.nan\n",
    "np.nan - np.nan\n",
    "np.nan in set([np.nan])\n",
    "0.3 == 3 * 0.1\n",
    "```"
   ]
  },
  {
   "cell_type": "markdown",
   "id": "08a0a730",
   "metadata": {},
   "source": [
    "#### 참고\n",
    "* np.NaN / np.nan : NaN값(정해지지 않은 값) 불러옴 \n",
    "* np.inf / -np.inf : 무한대/ 마이너스무한대 불러옴"
   ]
  },
  {
   "cell_type": "code",
   "execution_count": 28,
   "id": "e9cae04b",
   "metadata": {},
   "outputs": [
    {
     "data": {
      "text/plain": [
       "nan"
      ]
     },
     "execution_count": 28,
     "metadata": {},
     "output_type": "execute_result"
    }
   ],
   "source": [
    "0 * np.nan\n",
    "# NaN값과 연산해도 그대로 NaN값으로 반환"
   ]
  },
  {
   "cell_type": "code",
   "execution_count": 29,
   "id": "90c809b9",
   "metadata": {},
   "outputs": [
    {
     "data": {
      "text/plain": [
       "False"
      ]
     },
     "execution_count": 29,
     "metadata": {},
     "output_type": "execute_result"
    }
   ],
   "source": [
    "np.nan == np.nan\n",
    "# NaN값은 자기자신과도 동일하지 않다.\n",
    "# cf. None값은 자기자신과 동일하다."
   ]
  },
  {
   "cell_type": "code",
   "execution_count": 31,
   "id": "f8877c5e",
   "metadata": {},
   "outputs": [
    {
     "data": {
      "text/plain": [
       "False"
      ]
     },
     "execution_count": 31,
     "metadata": {},
     "output_type": "execute_result"
    }
   ],
   "source": [
    "np.inf > np.nan\n",
    "# NaN값은 비교불가"
   ]
  },
  {
   "cell_type": "code",
   "execution_count": 32,
   "id": "e95fdcf0",
   "metadata": {},
   "outputs": [
    {
     "data": {
      "text/plain": [
       "nan"
      ]
     },
     "execution_count": 32,
     "metadata": {},
     "output_type": "execute_result"
    }
   ],
   "source": [
    "np.nan - np.nan\n",
    "# NaN값은 자기자신과도 동일하지 않다.\n",
    "# NaN값과 연산해도 그대로 NaN값으로 반환"
   ]
  },
  {
   "cell_type": "code",
   "execution_count": 33,
   "id": "de6d2d56",
   "metadata": {},
   "outputs": [
    {
     "data": {
      "text/plain": [
       "True"
      ]
     },
     "execution_count": 33,
     "metadata": {},
     "output_type": "execute_result"
    }
   ],
   "source": [
    "np.nan in set([np.nan])\n",
    "'''\n",
    "'A' in set(['A'])\n",
    "집합 안에 요소가 있는지 확인하는 식\n",
    "\n",
    "집합 내 NaN값은 비교가능한가봄...\n",
    "'''"
   ]
  },
  {
   "cell_type": "code",
   "execution_count": 38,
   "id": "223259a9",
   "metadata": {},
   "outputs": [
    {
     "data": {
      "text/plain": [
       "{nan}"
      ]
     },
     "execution_count": 38,
     "metadata": {},
     "output_type": "execute_result"
    }
   ],
   "source": [
    "set([np.nan])"
   ]
  },
  {
   "cell_type": "code",
   "execution_count": 37,
   "id": "ab9e1fb8",
   "metadata": {},
   "outputs": [
    {
     "data": {
      "text/plain": [
       "False"
      ]
     },
     "execution_count": 37,
     "metadata": {},
     "output_type": "execute_result"
    }
   ],
   "source": [
    "0.3 == 3*0.1\n",
    "# 3*0.1 = 0.3000004\n",
    "# 실수를 부동소수점으로 표현하여 정확한 값이 아니라 근사값으로 나타냄"
   ]
  },
  {
   "cell_type": "code",
   "execution_count": 36,
   "id": "7744470a",
   "metadata": {},
   "outputs": [
    {
     "data": {
      "text/plain": [
       "0.30000000000000004"
      ]
     },
     "execution_count": 36,
     "metadata": {},
     "output_type": "execute_result"
    }
   ],
   "source": [
    "3*0.1"
   ]
  },
  {
   "cell_type": "markdown",
   "id": "e3a7ba7f",
   "metadata": {
    "id": "e3a7ba7f"
   },
   "source": [
    "#### 16. Create a 5x5 matrix with values 1,2,3,4 just below the **diag**onal (★☆☆)"
   ]
  },
  {
   "cell_type": "code",
   "execution_count": 57,
   "id": "01d8e257",
   "metadata": {
    "id": "01d8e257",
    "scrolled": true
   },
   "outputs": [
    {
     "data": {
      "text/plain": [
       "array([[0, 0, 0, 0, 0],\n",
       "       [1, 0, 0, 0, 0],\n",
       "       [0, 2, 0, 0, 0],\n",
       "       [0, 0, 3, 0, 0],\n",
       "       [0, 0, 0, 4, 0]])"
      ]
     },
     "execution_count": 57,
     "metadata": {},
     "output_type": "execute_result"
    }
   ],
   "source": [
    "np.diag([1,2,3,4], k=-1)"
   ]
  },
  {
   "cell_type": "markdown",
   "id": "6d17ab5d",
   "metadata": {
    "id": "6d17ab5d"
   },
   "source": [
    "#### 17. Create a 8x8 matrix and fill it with a checkerboard pattern (★☆☆)"
   ]
  },
  {
   "cell_type": "code",
   "execution_count": 42,
   "id": "f9bdd778",
   "metadata": {},
   "outputs": [
    {
     "name": "stdout",
     "output_type": "stream",
     "text": [
      "[[0. 1. 0. 1. 0. 1. 0. 1.]\n",
      " [1. 0. 1. 0. 1. 0. 1. 1.]\n",
      " [0. 1. 0. 1. 0. 1. 0. 1.]\n",
      " [1. 0. 1. 0. 1. 0. 1. 1.]\n",
      " [0. 1. 0. 1. 0. 1. 0. 1.]\n",
      " [1. 0. 1. 0. 1. 0. 1. 1.]\n",
      " [0. 1. 0. 1. 0. 1. 0. 1.]\n",
      " [1. 1. 1. 1. 1. 1. 1. 1.]]\n"
     ]
    }
   ],
   "source": [
    "array17 = np.ones((8,8))\n",
    "\n",
    "array17[0:7:2, 0:7:2] = 0\n",
    "array17[1:6:2, 1:6:2] = 0\n",
    "print(array17)"
   ]
  },
  {
   "cell_type": "markdown",
   "id": "8837119b",
   "metadata": {
    "id": "8837119b"
   },
   "source": [
    "#### 18. Consider a (6,7,8) shape array, what is the index (x,y,z) of the 100th element? (★☆☆)\n",
    "Hint : use 'numpy.unravel_index(value, (x, y, z))"
   ]
  },
  {
   "cell_type": "markdown",
   "id": "3916b998",
   "metadata": {},
   "source": [
    "#### 참고\n",
    "* np.unravel_index(index, shape, order='C')\n",
    "\n",
    "shape에 들어온 n차원 array를 flatten시킨후  \n",
    "index위치에 존재하는 요소가  \n",
    "기존 n차원 array에서는 어느 위치에 존재하는지 반환  \n",
    "\n",
    "order='C':행(로우) 우선/ order='F':열(칼럼)우선  \n",
    "\n",
    "(https://teang1995.tistory.com/14)"
   ]
  },
  {
   "cell_type": "code",
   "execution_count": 67,
   "id": "2c0d16f1",
   "metadata": {
    "id": "2c0d16f1"
   },
   "outputs": [
    {
     "data": {
      "text/plain": [
       "(1, 5, 3)"
      ]
     },
     "execution_count": 67,
     "metadata": {},
     "output_type": "execute_result"
    }
   ],
   "source": [
    "np.unravel_index(99, (6,7,8))"
   ]
  },
  {
   "cell_type": "code",
   "execution_count": 58,
   "id": "9757dd10",
   "metadata": {},
   "outputs": [
    {
     "name": "stdout",
     "output_type": "stream",
     "text": [
      "[[[  1   2   3   4   5   6   7   8]\n",
      "  [  9  10  11  12  13  14  15  16]\n",
      "  [ 17  18  19  20  21  22  23  24]\n",
      "  [ 25  26  27  28  29  30  31  32]\n",
      "  [ 33  34  35  36  37  38  39  40]\n",
      "  [ 41  42  43  44  45  46  47  48]\n",
      "  [ 49  50  51  52  53  54  55  56]]\n",
      "\n",
      " [[ 57  58  59  60  61  62  63  64]\n",
      "  [ 65  66  67  68  69  70  71  72]\n",
      "  [ 73  74  75  76  77  78  79  80]\n",
      "  [ 81  82  83  84  85  86  87  88]\n",
      "  [ 89  90  91  92  93  94  95  96]\n",
      "  [ 97  98  99 100 101 102 103 104]\n",
      "  [105 106 107 108 109 110 111 112]]\n",
      "\n",
      " [[113 114 115 116 117 118 119 120]\n",
      "  [121 122 123 124 125 126 127 128]\n",
      "  [129 130 131 132 133 134 135 136]\n",
      "  [137 138 139 140 141 142 143 144]\n",
      "  [145 146 147 148 149 150 151 152]\n",
      "  [153 154 155 156 157 158 159 160]\n",
      "  [161 162 163 164 165 166 167 168]]\n",
      "\n",
      " [[169 170 171 172 173 174 175 176]\n",
      "  [177 178 179 180 181 182 183 184]\n",
      "  [185 186 187 188 189 190 191 192]\n",
      "  [193 194 195 196 197 198 199 200]\n",
      "  [201 202 203 204 205 206 207 208]\n",
      "  [209 210 211 212 213 214 215 216]\n",
      "  [217 218 219 220 221 222 223 224]]\n",
      "\n",
      " [[225 226 227 228 229 230 231 232]\n",
      "  [233 234 235 236 237 238 239 240]\n",
      "  [241 242 243 244 245 246 247 248]\n",
      "  [249 250 251 252 253 254 255 256]\n",
      "  [257 258 259 260 261 262 263 264]\n",
      "  [265 266 267 268 269 270 271 272]\n",
      "  [273 274 275 276 277 278 279 280]]\n",
      "\n",
      " [[281 282 283 284 285 286 287 288]\n",
      "  [289 290 291 292 293 294 295 296]\n",
      "  [297 298 299 300 301 302 303 304]\n",
      "  [305 306 307 308 309 310 311 312]\n",
      "  [313 314 315 316 317 318 319 320]\n",
      "  [321 322 323 324 325 326 327 328]\n",
      "  [329 330 331 332 333 334 335 336]]] \n",
      " 100\n"
     ]
    }
   ],
   "source": [
    "# 확인\n",
    "A = np.arange(1,6*7*8+1).reshape((6,7,8))\n",
    "print(A, \"\\n\", A[1,5,3])"
   ]
  },
  {
   "cell_type": "markdown",
   "id": "391791e0",
   "metadata": {
    "id": "391791e0"
   },
   "source": [
    "#### 19. Normalize a 5x5 random matrix (★☆☆)\n",
    "Hint : $Z = \\frac{X - \\overline{X}}{S}$"
   ]
  },
  {
   "cell_type": "code",
   "execution_count": 84,
   "id": "309aea48",
   "metadata": {},
   "outputs": [
    {
     "name": "stdout",
     "output_type": "stream",
     "text": [
      "[[-1.66623487 -0.90988743  1.37974298  0.80972207 -1.49851016]\n",
      " [-0.49514105  0.03777701  1.29764964 -0.78878252 -0.6229326 ]\n",
      " [-0.49609314  1.24479751  0.89122283  1.03077138  1.55043315]\n",
      " [-0.73511812  1.09279865  0.78107635 -0.37183434 -1.09722455]\n",
      " [-0.01088177 -1.23958401 -1.31314684  0.50025955  0.6291203 ]]\n"
     ]
    }
   ],
   "source": [
    "array19 = np.random.random((5,5))\n",
    "m, sd = array19.mean(), array19.std()\n",
    "array19_nor = (array19-m)/sd\n",
    "print(array19_nor)"
   ]
  },
  {
   "cell_type": "markdown",
   "id": "1e74d39e",
   "metadata": {
    "id": "1e74d39e"
   },
   "source": [
    "#### 20. Create a custom dtype that describes a color as four unsigned bytes (RGBA) (★☆☆)\n",
    "Hint : modify the code below\n",
    "```python\n",
    "numpy.dtype([(value, numpy.ubyte), … , (value, numpy.ubyte)])\n",
    "```"
   ]
  },
  {
   "cell_type": "code",
   "execution_count": 25,
   "id": "9a3e5083",
   "metadata": {},
   "outputs": [],
   "source": [
    "# 색상을 4바이트(RGBA)로 나타내는 사용자 지정 dtype을 생성하세요\n",
    "\n",
    "\n",
    "color = np.dtype([ (\"r\", np.ubyte),\n",
    "                    (\"g\", np.ubyte),\n",
    "                      (\"b\", np.ubyte),\n",
    "                       (\"a\", np.ubyte)])\n",
    "\n",
    "## np.dtype : 사용자 지정 데이터타입 만들기\n",
    "## np.ubyte : 부호없는 정수"
   ]
  },
  {
   "cell_type": "markdown",
   "id": "78250c14",
   "metadata": {
    "id": "78250c14"
   },
   "source": [
    "#### 21. Multiply a 5x3 matrix by a 3x2 matrix (real matrix product) (★☆☆)"
   ]
  },
  {
   "cell_type": "code",
   "execution_count": 26,
   "id": "254ef381",
   "metadata": {},
   "outputs": [
    {
     "data": {
      "text/plain": [
       "array([[1.05107607, 0.17278168],\n",
       "       [1.20723138, 0.73074563],\n",
       "       [0.86670741, 0.34593129],\n",
       "       [0.89132173, 0.42152025],\n",
       "       [1.07548577, 0.42843439]])"
      ]
     },
     "execution_count": 26,
     "metadata": {},
     "output_type": "execute_result"
    }
   ],
   "source": [
    "array1 = np.random.random((5,3))\n",
    "array2 = np.random.random((3,2))\n",
    "np.dot(array1, array2)\n",
    "## np.dot : 두 행렬의 곱"
   ]
  },
  {
   "cell_type": "markdown",
   "id": "51898680",
   "metadata": {
    "id": "51898680"
   },
   "source": [
    "#### 22. Given a 1D array, negate all elements which are between 3 and 8, in place. (★☆☆)"
   ]
  },
  {
   "cell_type": "code",
   "execution_count": 27,
   "id": "29f6e799",
   "metadata": {},
   "outputs": [
    {
     "data": {
      "text/plain": [
       "array([ 0,  1,  2, -3, -4, -5, -6, -7, -8,  9, 10, 11, 12, 13, 14])"
      ]
     },
     "execution_count": 27,
     "metadata": {},
     "output_type": "execute_result"
    }
   ],
   "source": [
    "# 1차원 배열에서 3~8 사이 모든 요소를 음수화해라\n",
    "\n",
    "A = np.arange(15)\n",
    "A[(3<=A) & (A<=8)] *= -1\n",
    "A\n",
    "\n",
    "## 3 <= A <= 8 조건 표현식\n",
    "## A *= a  -> A = A*a"
   ]
  },
  {
   "cell_type": "markdown",
   "id": "89e78048",
   "metadata": {
    "id": "89e78048"
   },
   "source": [
    "#### 23. What is the output of the following script? (★☆☆)\n",
    "```python\n",
    "# Author: Jake VanderPlas\n",
    "\n",
    "print(sum(range(5),-1))\n",
    "from numpy import *\n",
    "print(sum(range(5),-1))\n",
    "```"
   ]
  },
  {
   "cell_type": "code",
   "execution_count": 34,
   "id": "5511792a",
   "metadata": {},
   "outputs": [
    {
     "name": "stdout",
     "output_type": "stream",
     "text": [
      "10\n",
      "10\n"
     ]
    }
   ],
   "source": [
    "print(sum(range(5))) # =10\n",
    "print( sum( range(5),-1 ) ) # =9\n",
    "\n",
    "from numpy import * # ??\n",
    "print( sum( range(5),-1 ) ) # =10"
   ]
  },
  {
   "cell_type": "markdown",
   "id": "ebd10810",
   "metadata": {
    "id": "ebd10810"
   },
   "source": [
    "#### 24. Consider an integer vector Z, which of these expressions are legal? (★☆☆)\n",
    "```python\n",
    "Z**Z\n",
    "2 << Z >> 2\n",
    "Z <- Z\n",
    "1j*Z\n",
    "Z/1/1\n",
    "Z<Z>Z\n",
    "```"
   ]
  },
  {
   "cell_type": "code",
   "execution_count": 7,
   "id": "c5059e72",
   "metadata": {},
   "outputs": [
    {
     "name": "stdout",
     "output_type": "stream",
     "text": [
      "[        1         1         4        27       256      3125     46656\n",
      "    823543  16777216 387420489]\n",
      "[  0   1   2   4   8  16  32  64 128 256]\n",
      "[False False False False False False False False False False]\n",
      "[0.+0.j 0.+1.j 0.+2.j 0.+3.j 0.+4.j 0.+5.j 0.+6.j 0.+7.j 0.+8.j 0.+9.j]\n",
      "[0. 1. 2. 3. 4. 5. 6. 7. 8. 9.]\n"
     ]
    }
   ],
   "source": [
    "Z = np.arange(10)\n",
    "\n",
    "print(Z**Z)\n",
    "print(2 << Z >> 2) # 비트단위 시프트 연산자\n",
    "print(Z <- Z)\n",
    "print(1j*Z)\n",
    "print(Z/1/1)\n",
    "# print(Z<Z>Z) --> ilegal(에러발생)"
   ]
  },
  {
   "cell_type": "markdown",
   "id": "c0e940f8",
   "metadata": {
    "id": "c0e940f8"
   },
   "source": [
    "#### 25. What are the result of the following expressions? (★☆☆)\n",
    "```python\n",
    "np.array(0) / np.array(0)\n",
    "np.array(0) // np.array(0)\n",
    "np.array([np.nan]).astype(int).astype(float)\n",
    "```"
   ]
  },
  {
   "cell_type": "code",
   "execution_count": null,
   "id": "ad852d14",
   "metadata": {},
   "outputs": [],
   "source": [
    "np.array(0) / np.array(0)\n",
    "np.array(0) // np.array(0)\n",
    "np.array([np.nan]).astype(int).astype(float)\n",
    "print(np.array(0) / np.array(0))\n",
    "print(np.array(0) // np.array(0))\n",
    "print(np.array([np.nan]).astype(int).astype(float))"
   ]
  },
  {
   "cell_type": "markdown",
   "id": "f1ae2c2d",
   "metadata": {
    "id": "f1ae2c2d"
   },
   "source": [
    "#### 26. How to find common values between two arrays? (★☆☆)\n",
    "```python\n",
    "Z1 = np.random.randint(0,10,10)\n",
    "Z2 = np.random.randint(0,10,10)\n",
    "```\n",
    "Hint : use `numpy.random.randint(start, end, size)`"
   ]
  },
  {
   "cell_type": "code",
   "execution_count": null,
   "id": "6801c73d",
   "metadata": {
    "id": "6801c73d"
   },
   "outputs": [],
   "source": [
    "arr1 = np.random.randint(0,10,10)\n",
    "arr2 = np.random.randint(0,10,10)\n",
    "print(arr1)\n",
    "print(arr2)\n",
    "print(np.intersect1d(arr1, arr2))"
   ]
  },
  {
   "cell_type": "markdown",
   "id": "37bc0973",
   "metadata": {
    "id": "37bc0973"
   },
   "source": [
    "#### 27. Is the following expressions true? (★☆☆)\n",
    "```python\n",
    "np.sqrt(-1) == np.emath.sqrt(-1)\n",
    "```"
   ]
  },
  {
   "cell_type": "code",
   "execution_count": 8,
   "id": "c70cbabe",
   "metadata": {
    "id": "c70cbabe"
   },
   "outputs": [
    {
     "name": "stdout",
     "output_type": "stream",
     "text": [
      "nan\n",
      "1j\n"
     ]
    },
    {
     "name": "stderr",
     "output_type": "stream",
     "text": [
      "C:\\Users\\user\\AppData\\Local\\Temp\\ipykernel_27924\\1082418667.py:1: RuntimeWarning: invalid value encountered in sqrt\n",
      "  print(np.sqrt(-1))\n",
      "C:\\Users\\user\\AppData\\Local\\Temp\\ipykernel_27924\\1082418667.py:4: RuntimeWarning: invalid value encountered in sqrt\n",
      "  np.sqrt(-1) == np.emath.sqrt(-1)\n"
     ]
    },
    {
     "data": {
      "text/plain": [
       "False"
      ]
     },
     "execution_count": 8,
     "metadata": {},
     "output_type": "execute_result"
    }
   ],
   "source": [
    "print(np.sqrt(-1))\n",
    "print(np.emath.sqrt(-1))\n",
    "\n",
    "np.sqrt(-1) == np.emath.sqrt(-1)"
   ]
  },
  {
   "cell_type": "markdown",
   "id": "42f8b2f9",
   "metadata": {
    "id": "42f8b2f9"
   },
   "source": [
    "#### 28. How to get all the dates corresponding to the month of July 2016? (★★☆)\n",
    "Hint : modify the code below\n",
    "```python\n",
    "Z = np.arange('start', 'end', dtype='datetime64[D]')\n",
    "```"
   ]
  },
  {
   "cell_type": "code",
   "execution_count": 9,
   "id": "3kkl01x3x0NF",
   "metadata": {
    "id": "3kkl01x3x0NF"
   },
   "outputs": [
    {
     "name": "stdout",
     "output_type": "stream",
     "text": [
      "2022-09-18\n",
      "2022-09-19\n",
      "2022-09-20\n",
      "2022-10\n"
     ]
    }
   ],
   "source": [
    "yesterday = np.datetime64('today', 'D') - np.timedelta64(1, 'D')\n",
    "today = np.datetime64('today', 'D')\n",
    "tomorrow = np.datetime64('today', 'D') + np.timedelta64(1, 'D')\n",
    "next_year = np.datetime64('today', 'M') + np.timedelta64(1, 'M')\n",
    " \n",
    "print(yesterday)\n",
    "print(today)\n",
    "print(tomorrow)\n",
    "print(next_year)"
   ]
  },
  {
   "cell_type": "markdown",
   "id": "252c43e2",
   "metadata": {
    "id": "252c43e2"
   },
   "source": [
    "#### 29. How to compute ((A+B)*(-A/2)) in place (without copy)? (★★☆)\n",
    "Hint : use `numpy.add`, `numpy.divide`,`numpy.negative`, `numpy.multiply` and parameter `out` of the funtions"
   ]
  },
  {
   "cell_type": "code",
   "execution_count": 20,
   "id": "f06ff615",
   "metadata": {
    "id": "f06ff615"
   },
   "outputs": [
    {
     "name": "stdout",
     "output_type": "stream",
     "text": [
      "[-1.5 -1.5 -1.5]\n"
     ]
    }
   ],
   "source": [
    "A = np.ones(3)*1\n",
    "B = np.ones(3)*2\n",
    "np.add(A,B,out=B) # A+B의 결과를 B에 할당해놓음\n",
    "np.divide(A,2,out=A) # A/2의 결과를 A에 할당\n",
    "np.negative(A,out=A) # -(A/2)를 A에 할당\n",
    "np.multiply(A,B,out=A) # (A+B)*(-A/2)와 같은 결과\n",
    "print(A)"
   ]
  },
  {
   "cell_type": "markdown",
   "id": "486df8ea",
   "metadata": {
    "id": "486df8ea"
   },
   "source": [
    "#### 30. Extract the integer part of a random array of positive numbers using 2 different methods (★★☆)\n",
    "Hint : `%`, `//`"
   ]
  },
  {
   "cell_type": "code",
   "execution_count": 21,
   "id": "34b4fa08",
   "metadata": {
    "id": "34b4fa08"
   },
   "outputs": [
    {
     "name": "stdout",
     "output_type": "stream",
     "text": [
      "[5. 1. 2. 7. 8. 1. 2. 6. 5. 8.]\n",
      "[5. 1. 2. 7. 8. 1. 2. 6. 5. 8.]\n",
      "[6. 2. 3. 8. 9. 2. 3. 7. 6. 9.]\n",
      "[5 1 2 7 8 1 2 6 5 8]\n",
      "[5. 1. 2. 7. 8. 1. 2. 6. 5. 8.]\n"
     ]
    }
   ],
   "source": [
    "z = np.random.uniform(0,10,10) # 양수의 무작위 원소 배열\n",
    "print(z-z%1)\n",
    "print(np.floor(z))\n",
    "print(np.ceil(z))\n",
    "print(z.astype(int))\n",
    "print(np.trunc(z))"
   ]
  },
  {
   "cell_type": "markdown",
   "id": "649e89f9",
   "metadata": {
    "id": "649e89f9"
   },
   "source": [
    "#### 31. Create a 5x5 matrix with row values ranging from 0 to 4 (★★☆)"
   ]
  },
  {
   "cell_type": "code",
   "execution_count": 12,
   "id": "663cc611",
   "metadata": {
    "id": "663cc611"
   },
   "outputs": [
    {
     "name": "stdout",
     "output_type": "stream",
     "text": [
      "[[0. 1. 2. 3. 4.]\n",
      " [0. 1. 2. 3. 4.]\n",
      " [0. 1. 2. 3. 4.]\n",
      " [0. 1. 2. 3. 4.]\n",
      " [0. 1. 2. 3. 4.]]\n"
     ]
    }
   ],
   "source": [
    "z = np.zeros((5,5))\n",
    "z += np.arange(5)\n",
    "print(z)"
   ]
  },
  {
   "cell_type": "markdown",
   "id": "2d07be1c",
   "metadata": {
    "id": "2d07be1c"
   },
   "source": [
    "#### 32. Create a random vector of size 10 and sort it (★★☆)"
   ]
  },
  {
   "cell_type": "code",
   "execution_count": 13,
   "id": "4f7cb3ad",
   "metadata": {
    "id": "4f7cb3ad"
   },
   "outputs": [
    {
     "name": "stdout",
     "output_type": "stream",
     "text": [
      "[0.0613295  0.26838547 0.29162547 0.40340179 0.4072364  0.54756966\n",
      " 0.59496145 0.85017472 0.86694811 0.91294022]\n"
     ]
    }
   ],
   "source": [
    "z = np.random.random(10)\n",
    "z.sort()\n",
    "print(z)"
   ]
  },
  {
   "cell_type": "markdown",
   "id": "fe043549",
   "metadata": {
    "id": "fe043549"
   },
   "source": [
    "#### 33. Consider two random array A and B, check if they are equal (★★☆)\n",
    "```python\n",
    "A = np.random.randint(0,2,5)\n",
    "B = np.random.randint(0,2,5)\n",
    "```\n",
    "Hint : Use `numpy.array_equal()`"
   ]
  },
  {
   "cell_type": "code",
   "execution_count": 14,
   "id": "3326a686",
   "metadata": {
    "id": "3326a686"
   },
   "outputs": [
    {
     "name": "stdout",
     "output_type": "stream",
     "text": [
      "False\n",
      "False\n"
     ]
    }
   ],
   "source": [
    "a = np.random.randint(0,2,5)\n",
    "b = np.random.randint(0,2,5)\n",
    "print(np.allclose(a, b))\n",
    "print(np.array_equal(a, b))"
   ]
  },
  {
   "cell_type": "markdown",
   "id": "2002cb03",
   "metadata": {
    "id": "2002cb03"
   },
   "source": [
    "#### 34. Consider a random 10x2 matrix representing cartesian coordinates, convert them to polar coordinates (★★☆)\n",
    "Hint 1 : Note that cartesian coodinate **(x, y)** can be represented as  polar coordinates **(distance from origin to (x,y), angle from the x-axis)**\n",
    "\n",
    "Hint 2 : Use `numpy.sqrt` and `numpy.arctan2`"
   ]
  },
  {
   "cell_type": "code",
   "execution_count": 15,
   "id": "58be72bc",
   "metadata": {
    "id": "58be72bc"
   },
   "outputs": [
    {
     "name": "stdout",
     "output_type": "stream",
     "text": [
      "[0.85017893 0.63684701 0.5881439  0.4807602  0.93913003 0.44639771\n",
      " 0.68734346 0.96328721 0.02584123 0.37451319]\n",
      "[0.32314519 0.69800924 0.8068443  0.96407589 1.08467668 0.37295087\n",
      " 0.26330959 0.07431131 0.14041971 1.18667631]\n"
     ]
    }
   ],
   "source": [
    "z = np.random.random((10, 2))\n",
    "x, y = z[:,0],z[:,1] #x와 y에 각각 0열, 1열 할당\n",
    "r = np.sqrt(x**2+y**2) # 데카르트 좌표로 표현\n",
    "p = np.arctan2(y,x) # 극좌표계표현\n",
    "print(r)\n",
    "print(p)"
   ]
  },
  {
   "cell_type": "markdown",
   "id": "b7109c9f",
   "metadata": {
    "id": "b7109c9f"
   },
   "source": [
    "#### 35. Create random vector Z of size 10 and replace the maximum value by 0 (★★☆)\n",
    "Hint : We can see the index of maximum value using `Z.argmax()`"
   ]
  },
  {
   "cell_type": "code",
   "execution_count": 16,
   "id": "f79e79a7",
   "metadata": {
    "id": "f79e79a7"
   },
   "outputs": [
    {
     "name": "stdout",
     "output_type": "stream",
     "text": [
      "[0.49520059 0.62251546 0.02820999 0.47080645 0.23472332 0.02357904\n",
      " 0.31785076 0.5016496  0.80324422 0.8271382 ]\n",
      "[0.49520059 0.62251546 0.02820999 0.47080645 0.23472332 0.02357904\n",
      " 0.31785076 0.5016496  0.80324422 0.        ]\n"
     ]
    }
   ],
   "source": [
    "z = np.random.random(10)\n",
    "print(z)\n",
    "# 최대값 찾아 0으로 바꿈\n",
    "z[np.argmax(z)] = 0\n",
    "print(z)"
   ]
  },
  {
   "cell_type": "markdown",
   "id": "e6e1ae2f",
   "metadata": {
    "id": "e6e1ae2f"
   },
   "source": [
    "#### 36. How to find the closest value (to a given scalar v) in a vector Z? (★★☆)\n",
    "```python\n",
    "Z = np.arange(100)\n",
    "v = np.random.uniform(0,100)\n",
    "```\n",
    "Hint : Coumpute the distances between the each elements of Z and the scalar v. After that, we can see the index of minimum value using `argmin()`.  "
   ]
  },
  {
   "cell_type": "code",
   "execution_count": 17,
   "id": "QkQ2Mii77FrE",
   "metadata": {
    "id": "QkQ2Mii77FrE"
   },
   "outputs": [
    {
     "name": "stdout",
     "output_type": "stream",
     "text": [
      "[1 6 2 8 1 5 8 7 9 6]\n",
      "인덱스: 7 /값: 7\n"
     ]
    }
   ],
   "source": [
    "# 주어진 값 = 7.3\n",
    "num = 7.3\n",
    "z = np.random.randint(0,10,10)\n",
    "print(z)\n",
    "# 주어진 값에서 가장 가까운 값 찾기\n",
    "i = np.abs((z-num)).argmin()\n",
    "# 가장 가까운값의 인덱스와 그 값 출력\n",
    "print('인덱스:', i ,'/값:', z[i])"
   ]
  },
  {
   "cell_type": "markdown",
   "id": "f98713a6",
   "metadata": {
    "id": "f98713a6"
   },
   "source": [
    "#### 37. What is the equivalent of enumerate for numpy arrays? (★★☆)\n",
    "Hint : Use `numpy.ndenumerate()`or `numpy.ndindex()`\n",
    "\n",
    "Example of the output :\n",
    "```python\n",
    "Z = np.arange(9).reshape(3,3)\n",
    "```\n",
    "```python\n",
    "# output\n",
    "(0, 0) 0\n",
    "(0, 1) 1\n",
    "(0, 2) 2\n",
    "(1, 0) 3\n",
    "(1, 1) 4\n",
    "(1, 2) 5\n",
    "(2, 0) 6\n",
    "(2, 1) 7\n",
    "(2, 2) 8\n",
    "```"
   ]
  },
  {
   "cell_type": "code",
   "execution_count": 22,
   "id": "64795f84",
   "metadata": {
    "id": "64795f84"
   },
   "outputs": [
    {
     "name": "stdout",
     "output_type": "stream",
     "text": [
      "[[0 1 2]\n",
      " [3 4 5]\n",
      " [6 7 8]]\n",
      "(0, 0) 0\n",
      "(0, 1) 1\n",
      "(0, 2) 2\n",
      "(1, 0) 3\n",
      "(1, 1) 4\n",
      "(1, 2) 5\n",
      "(2, 0) 6\n",
      "(2, 1) 7\n",
      "(2, 2) 8\n"
     ]
    }
   ],
   "source": [
    "# ndenumerate() 사용\n",
    "Z = np.arange(9).reshape(3,3)\n",
    "print(Z)\n",
    "for index, value in np.ndenumerate(Z):\n",
    "    print(index, value)"
   ]
  },
  {
   "cell_type": "markdown",
   "id": "0cf413ee",
   "metadata": {
    "id": "0cf413ee"
   },
   "source": [
    "#### 38. How to randomly place p elements in a 2D array? (★★☆)\n",
    "Hint : modify the code below\n",
    "```python\n",
    "n = 'size of a 2D array'\n",
    "p = 'the number of elements that you want to place'\n",
    "Z = np.zeros((n,n))\n",
    "np.put(Z, np.random.choice(range(n*n), p, replace = False),'value that you want to place')\n",
    "print(Z)\n",
    "```"
   ]
  },
  {
   "cell_type": "code",
   "execution_count": 23,
   "id": "dfc57e06",
   "metadata": {
    "id": "dfc57e06"
   },
   "outputs": [
    {
     "name": "stdout",
     "output_type": "stream",
     "text": [
      "[[0. 7. 0. 0. 0. 0. 0. 0. 0. 0.]\n",
      " [0. 0. 0. 0. 0. 0. 0. 0. 0. 0.]\n",
      " [0. 0. 0. 0. 0. 0. 0. 0. 0. 0.]\n",
      " [0. 0. 0. 0. 0. 0. 0. 0. 0. 0.]\n",
      " [0. 0. 0. 0. 0. 0. 0. 0. 0. 0.]\n",
      " [0. 0. 0. 0. 0. 0. 0. 0. 0. 0.]\n",
      " [0. 0. 0. 0. 0. 0. 0. 7. 0. 0.]\n",
      " [0. 0. 0. 7. 0. 0. 0. 0. 0. 0.]\n",
      " [0. 0. 0. 0. 0. 0. 0. 0. 0. 0.]\n",
      " [0. 0. 0. 0. 0. 0. 0. 0. 0. 0.]]\n"
     ]
    }
   ],
   "source": [
    "p=3 # 3개의 요소 배치\n",
    "z = np.zeros((10,10)) #10x10의 빈 배열 생성\n",
    "np.put(z, np.random.choice(range(10*10), p, replace=False), 7) #10x10 인덱스 안에서 p(3)만큼을 랜덤으로 선택하여 7을 삽입\n",
    "print(z)"
   ]
  },
  {
   "cell_type": "markdown",
   "id": "c0cf37e0",
   "metadata": {
    "id": "c0cf37e0"
   },
   "source": [
    "#### 39. How to sort an array below by the nth column? (★★☆)\n",
    "```python\n",
    "Z = np.random.randint(0,10,(3,3))\n",
    "```"
   ]
  },
  {
   "cell_type": "code",
   "execution_count": 24,
   "id": "53c6d358",
   "metadata": {},
   "outputs": [
    {
     "name": "stdout",
     "output_type": "stream",
     "text": [
      "[[5 6 9]\n",
      " [0 6 9]\n",
      " [8 7 2]]\n",
      "[[5 6 9]\n",
      " [0 6 9]\n",
      " [8 7 2]]\n"
     ]
    }
   ],
   "source": [
    "z = np.random.randint(0,10,(3,3))\n",
    "print(z)\n",
    "print(z[z[:,1].argsort()])"
   ]
  },
  {
   "cell_type": "code",
   "execution_count": null,
   "id": "9336ca5f",
   "metadata": {
    "id": "9336ca5f"
   },
   "outputs": [],
   "source": [
    "# column 1"
   ]
  },
  {
   "cell_type": "code",
   "execution_count": null,
   "id": "0hZzZ6tn2K6V",
   "metadata": {
    "id": "0hZzZ6tn2K6V"
   },
   "outputs": [],
   "source": [
    "# column 2"
   ]
  },
  {
   "cell_type": "code",
   "execution_count": null,
   "id": "z4zqQXvt2NaB",
   "metadata": {
    "id": "z4zqQXvt2NaB"
   },
   "outputs": [],
   "source": [
    "# column 3"
   ]
  }
 ],
 "metadata": {
  "colab": {
   "collapsed_sections": [
    "51898680"
   ],
   "provenance": []
  },
  "kernelspec": {
   "display_name": "Python 3 (ipykernel)",
   "language": "python",
   "name": "python3"
  },
  "language_info": {
   "codemirror_mode": {
    "name": "ipython",
    "version": 3
   },
   "file_extension": ".py",
   "mimetype": "text/x-python",
   "name": "python",
   "nbconvert_exporter": "python",
   "pygments_lexer": "ipython3",
   "version": "3.9.12"
  }
 },
 "nbformat": 4,
 "nbformat_minor": 5
}
