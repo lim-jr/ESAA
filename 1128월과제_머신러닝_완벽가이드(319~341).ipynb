{
  "nbformat": 4,
  "nbformat_minor": 0,
  "metadata": {
    "colab": {
      "provenance": [],
      "authorship_tag": "ABX9TyPVC7c7QyXasd5l9H9VQYDb",
      "include_colab_link": true
    },
    "kernelspec": {
      "name": "python3",
      "display_name": "Python 3"
    },
    "language_info": {
      "name": "python"
    }
  },
  "cells": [
    {
      "cell_type": "markdown",
      "metadata": {
        "id": "view-in-github",
        "colab_type": "text"
      },
      "source": [
        "<a href=\"https://colab.research.google.com/github/lim-jr/ESAA/blob/main/1128%EC%9B%94%EA%B3%BC%EC%A0%9C_%EB%A8%B8%EC%8B%A0%EB%9F%AC%EB%8B%9D_%EC%99%84%EB%B2%BD%EA%B0%80%EC%9D%B4%EB%93%9C(319~341).ipynb\" target=\"_parent\"><img src=\"https://colab.research.google.com/assets/colab-badge.svg\" alt=\"Open In Colab\"/></a>"
      ]
    },
    {
      "cell_type": "markdown",
      "source": [
        "# 06 규제 선형 모델 "
      ],
      "metadata": {
        "id": "qoj5egOtIBW8"
      }
    },
    {
      "cell_type": "markdown",
      "source": [
        "## 1. 규제 선형 모델의 개요"
      ],
      "metadata": {
        "id": "J7zuzqFwIBhk"
      }
    },
    {
      "cell_type": "markdown",
      "source": [
        "1. 학습 데이터의 잔차오류값(실제값-예측값)을 최소로 하는 RSS 최소화 방법\n",
        "2. 과적합을 방지하기 위해 회귀계수값이 커지지 않도록 하는 방법    \n",
        "  -> 1, 2이 균형을 이루는 방법     \n",
        "  => 비용함수 = RSS(W) + alpha|W|  \n",
        "  => 비용함수 목표 = min[ RSS(W) + alpha|W| ], W 찾기     \n"
      ],
      "metadata": {
        "id": "iVkyfBeEHQu5"
      }
    },
    {
      "cell_type": "markdown",
      "source": [
        "* alpha : 학습데이터 적합정도와 회귀계수값의 크기 제어를 수행하는 튜닝 파라미터\n",
        "* alpha값을 작게하면, 비용함수 = RSS(W) : 기존과 동일, 학습데이터적합을 개선할수 있음. \n",
        "* alpha값을 크게하면, 비용함수 = RSS(W)+alpha|W| : W을 작게해야하고, 과적합을 개선할 수 있다. \n",
        "  * 비용함수에 alpha값으로 페널티를 부여해 회귀계수 값의 크기를 감소시켜 과적합을 개선하는 방식을 \"규제(Regulation)\"이라고 부름.\n",
        "\n",
        "  * 규제는 크게 L1, L2 으로 구분된다. \n",
        "  * 라쏘회귀 : L1규제를 적용한 회귀\n",
        "  * 릿지회귀 : L2규제를 적용한 회귀"
      ],
      "metadata": {
        "id": "AaigWrM8Mwsj"
      }
    },
    {
      "cell_type": "markdown",
      "source": [
        "## 2. 릿지 회귀"
      ],
      "metadata": {
        "id": "EXcBbkFZIBnH"
      }
    },
    {
      "cell_type": "markdown",
      "source": [
        "* 릿지회귀의 주요생성 파라미터 alpha는 L2 규제계수에 해당함."
      ],
      "metadata": {
        "id": "nBLIqdkOC7xl"
      }
    },
    {
      "cell_type": "code",
      "source": [
        "# 보스턴 데이터 불러오기\n",
        "import numpy as np\n",
        "import matplotlib.pyplot as plt\n",
        "import pandas as pd\n",
        "from scipy import stats\n",
        "from sklearn.datasets import load_boston\n",
        "from sklearn.model_selection import train_test_split\n",
        "%matplotlib inline \n",
        "\n",
        "# 데이터셋 로드\n",
        "boston = load_boston()\n",
        "\n",
        "# 보스턴 데이터셋 DF변환\n",
        "bostonDF = pd.DataFrame(boston.data, columns=boston.feature_names)\n",
        "\n",
        "# 보스턴 데이터셋의 target 배열을 price 칼럼으로 추가\n",
        "bostonDF['PRICE']=boston.target\n",
        "bostonDF.head()\n",
        "\n",
        "from sklearn.model_selection import train_test_split\n",
        "from sklearn.linear_model import LinearRegression\n",
        "from sklearn.metrics import mean_squared_error, r2_score\n",
        "\n",
        "y_target = bostonDF['PRICE']\n",
        "X_data = bostonDF.drop(['PRICE'], axis=1, inplace=False)\n",
        "X_train, X_test, y_train, y_test = train_test_split(X_data, y_target, test_size=0.3, random_state=156)\n"
      ],
      "metadata": {
        "id": "5n81mStUQFFo",
        "colab": {
          "base_uri": "https://localhost:8080/"
        },
        "outputId": "40db3c8b-aa1c-441d-d70d-c7833775152c"
      },
      "execution_count": 2,
      "outputs": [
        {
          "output_type": "stream",
          "name": "stderr",
          "text": [
            "/usr/local/lib/python3.7/dist-packages/sklearn/utils/deprecation.py:87: FutureWarning: Function load_boston is deprecated; `load_boston` is deprecated in 1.0 and will be removed in 1.2.\n",
            "\n",
            "    The Boston housing prices dataset has an ethical problem. You can refer to\n",
            "    the documentation of this function for further details.\n",
            "\n",
            "    The scikit-learn maintainers therefore strongly discourage the use of this\n",
            "    dataset unless the purpose of the code is to study and educate about\n",
            "    ethical issues in data science and machine learning.\n",
            "\n",
            "    In this special case, you can fetch the dataset from the original\n",
            "    source::\n",
            "\n",
            "        import pandas as pd\n",
            "        import numpy as np\n",
            "\n",
            "\n",
            "        data_url = \"http://lib.stat.cmu.edu/datasets/boston\"\n",
            "        raw_df = pd.read_csv(data_url, sep=\"\\s+\", skiprows=22, header=None)\n",
            "        data = np.hstack([raw_df.values[::2, :], raw_df.values[1::2, :2]])\n",
            "        target = raw_df.values[1::2, 2]\n",
            "\n",
            "    Alternative datasets include the California housing dataset (i.e.\n",
            "    :func:`~sklearn.datasets.fetch_california_housing`) and the Ames housing\n",
            "    dataset. You can load the datasets as follows::\n",
            "\n",
            "        from sklearn.datasets import fetch_california_housing\n",
            "        housing = fetch_california_housing()\n",
            "\n",
            "    for the California housing dataset and::\n",
            "\n",
            "        from sklearn.datasets import fetch_openml\n",
            "        housing = fetch_openml(name=\"house_prices\", as_frame=True)\n",
            "\n",
            "    for the Ames housing dataset.\n",
            "    \n",
            "  warnings.warn(msg, category=FutureWarning)\n"
          ]
        }
      ]
    },
    {
      "cell_type": "code",
      "source": [
        "from sklearn.linear_model import Ridge \n",
        "from sklearn.model_selection import cross_val_score\n",
        "\n",
        "## alpha=10 으로 설정해 릿지 회귀 수행\n",
        "ridge = Ridge(alpha=10) #릿지회귀 객체생성\n",
        "neg_mse_scores = cross_val_score(ridge, X_data, y_target, scoring=\"neg_mean_squared_error\", cv=5) #음수값\n",
        "rmse_scores = np.sqrt(-1*neg_mse_scores) #양수값으로 바꿔준다.\n",
        "avg_rmse = np.mean(rmse_scores)\n",
        "\n",
        "print('5 folds 의 개별 Negative MSE scores: ', np.round(neg_mse_scores, 3))\n",
        "print('5 folds 의 개별 RMSE scores: ', np.round(rmse_scores, 3))\n",
        "print('5 folds 의 평균 RMSE: {0:.3f}'.format(avg_rmse))"
      ],
      "metadata": {
        "id": "Vw8lr9yzLtLU",
        "colab": {
          "base_uri": "https://localhost:8080/"
        },
        "outputId": "1903fa64-4968-4c02-9a79-e22fca557fd2"
      },
      "execution_count": 3,
      "outputs": [
        {
          "output_type": "stream",
          "name": "stdout",
          "text": [
            "5 folds 의 개별 Negative MSE scores:  [-11.422 -24.294 -28.144 -74.599 -28.517]\n",
            "5 folds 의 개별 RMSE scores:  [3.38  4.929 5.305 8.637 5.34 ]\n",
            "5 folds 의 평균 RMSE: 5.518\n"
          ]
        }
      ]
    },
    {
      "cell_type": "markdown",
      "source": [
        "* 릿지의 5개 폴드 세트의 평균 RMSE가 5.518\n",
        "* 규제가 없는 회귀의 RMSE 평균보다 더 낮아서, 더 뛰어난 예측성능을 보여줌."
      ],
      "metadata": {
        "id": "I_voJ29AUQ_t"
      }
    },
    {
      "cell_type": "markdown",
      "source": [
        "### 이제 릿지의 alpha값을 0, 0.1, 1, 10, 100으로 변화시키면서 RMSE와 회귀계수값 변화를 살펴보자."
      ],
      "metadata": {
        "id": "kb0_UwJOU9t-"
      }
    },
    {
      "cell_type": "code",
      "source": [
        "# 릿지에 사용될 alpha 파라미터의 값을 정의\n",
        "alphas = [0, 0.1, 1, 10, 100]\n",
        "\n",
        "# alphas list 값을 반복하면서 alpha에 따른 평균 rmse를 구함.\n",
        "for alpha in alphas : \n",
        "  ridge = Ridge(alpha=alpha)\n",
        "\n",
        "  # cross_val_score을 이용해서 5폴드의 평균 RMSE를 계산\n",
        "  neg_mse_scores = cross_val_score(ridge, X_data, y_target, scoring=\"neg_mean_squared_error\", cv=5)\n",
        "  avg_rmse = np.mean(np.sqrt(-1*neg_mse_scores))\n",
        "  print('alpha {0}일때 5 folds 의 평균 RMSE: {1:.3f}'.format(alpha, avg_rmse))\n",
        "  "
      ],
      "metadata": {
        "id": "jaWuVjq4Ls-Z",
        "colab": {
          "base_uri": "https://localhost:8080/"
        },
        "outputId": "571404da-a0c2-4511-cff2-18be66ffc258"
      },
      "execution_count": 4,
      "outputs": [
        {
          "output_type": "stream",
          "name": "stdout",
          "text": [
            "alpha 0일때 5 folds 의 평균 RMSE: 5.829\n",
            "alpha 0.1일때 5 folds 의 평균 RMSE: 5.788\n",
            "alpha 1일때 5 folds 의 평균 RMSE: 5.653\n",
            "alpha 10일때 5 folds 의 평균 RMSE: 5.518\n",
            "alpha 100일때 5 folds 의 평균 RMSE: 5.330\n"
          ]
        }
      ]
    },
    {
      "cell_type": "markdown",
      "source": [
        "* alpha가 100일때 평균 RMSE가 가장 낮아 좋다. \n",
        "* alpha값의 변화에 따른 피처의 회귀계수값을 가로막대 그래프로 시각화해보자."
      ],
      "metadata": {
        "id": "Whi31ZTLXc8d"
      }
    },
    {
      "cell_type": "code",
      "source": [
        "# 각 alpha에 따른 회귀계수값을 시각화하기 위해 5개의 열로 된 맷플랏립 축 생성\n",
        "fig, axs = plt.subplots(figsize=(18, 6), nrows=1, ncols=5)\n",
        "# 각 alpha에 따른 회귀계수값을 데이터로 저장히기 위한 DF생성\n",
        "coeff_df = pd.DataFrame()\n",
        "\n",
        "# alphas 리스트 값을 차례로 입력해 회귀계수값 시각화 및 데이터 저장. pos는 axis의 위치지정\n",
        "for pos, alpha in enumerate(alphas):\n",
        "  ridge = Ridge(alpha = alpha)\n",
        "  ridge.fit(X_data, y_target)\n",
        "  # alpha에 따른 피처별로 회귀계수를 Series로 변환하고 이를 DF의 칼럼으로 추가\n",
        "  coeff = pd.Series(data=ridge.coef_, index=X_data.columns)\n",
        "  colname='alpha:'+str(alpha)\n",
        "  coeff_df[colname] = coeff\n",
        "  # 막대그래프로 각alpha값에서의 회귀계수를 시각화. 회귀계수값이 높은 순으로 표현\n",
        "  coeff = coeff.sort_values(ascending=False)\n",
        "  axs[pos].set_title(colname)\n",
        "  axs[pos].set_xlim(-3, 6)\n",
        "  import seaborn as sns\n",
        "  sns.barplot(x=coeff.values, y=coeff.index, ax=axs[pos])\n",
        "\n",
        "# for문 바깥에서 맷플롯립의 show 호출 및 alpha에 따른 피처별 회귀계수를 DF으로 표시\n",
        "plt.show()"
      ],
      "metadata": {
        "colab": {
          "base_uri": "https://localhost:8080/",
          "height": 390
        },
        "id": "X1zhHFmWU4gQ",
        "outputId": "88d41290-3a87-4fe1-86a1-f2f89d42f2c4"
      },
      "execution_count": 5,
      "outputs": [
        {
          "output_type": "display_data",
          "data": {
            "text/plain": [
              "<Figure size 1296x432 with 5 Axes>"
            ],
            "image/png": "[encoded data removed]"
          },
          "metadata": {
            "needs_background": "light"
          }
        }
      ]
    },
    {
      "cell_type": "markdown",
      "source": [
        "* alpha 값을 계속 증가시킬수록 회귀계수값은 지속적으로 작아짐을 알 수 있다.\n",
        "* 특히 NOX 피처의 경우, alpha값을 계속 증가시킴에 따라 회귀계수가 크기 작아진다."
      ],
      "metadata": {
        "id": "qAf2TBYsbdFQ"
      }
    },
    {
      "cell_type": "code",
      "source": [
        "ridge_alphas = [0, 0.1, 1, 10, 100]\n",
        "sort_column = 'alpha:'+ str(ridge_alphas[0]) #''안에 공백넣으면 오류뜸\n",
        "coeff_df.sort_values(by=sort_column, ascending=False)"
      ],
      "metadata": {
        "id": "Su_zrceKU5CH",
        "colab": {
          "base_uri": "https://localhost:8080/",
          "height": 457
        },
        "outputId": "4a4b313e-411d-4424-f9ca-1847f28cd27f"
      },
      "execution_count": 6,
      "outputs": [
        {
          "output_type": "execute_result",
          "data": {
            "text/plain": [
              "           alpha:0  alpha:0.1    alpha:1  alpha:10  alpha:100\n",
              "RM        3.809865   3.818233   3.854000  3.702272   2.334536\n",
              "CHAS      2.686734   2.670019   2.552393  1.952021   0.638335\n",
              "RAD       0.306049   0.303515   0.290142  0.279596   0.315358\n",
              "ZN        0.046420   0.046572   0.047443  0.049579   0.054496\n",
              "INDUS     0.020559   0.015999  -0.008805 -0.042962  -0.052826\n",
              "B         0.009312   0.009368   0.009673  0.010037   0.009393\n",
              "AGE       0.000692  -0.000269  -0.005415 -0.010707   0.001212\n",
              "TAX      -0.012335  -0.012421  -0.012912 -0.013993  -0.015856\n",
              "CRIM     -0.108011  -0.107474  -0.104595 -0.101435  -0.102202\n",
              "LSTAT    -0.524758  -0.525966  -0.533343 -0.559366  -0.660764\n",
              "PTRATIO  -0.952747  -0.940759  -0.876074 -0.797945  -0.829218\n",
              "DIS      -1.475567  -1.459626  -1.372654 -1.248808  -1.153390\n",
              "NOX     -17.766611 -16.684645 -10.777015 -2.371619  -0.262847"
            ],
            "text/html": [
              "\n",
              "  <div id=\"df-4f1a560b-b479-4c6f-8fa8-36061e15f1c9\">\n",
              "    <div class=\"colab-df-container\">\n",
              "      <div>\n",
              "<style scoped>\n",
              "    .dataframe tbody tr th:only-of-type {\n",
              "        vertical-align: middle;\n",
              "    }\n",
              "\n",
              "    .dataframe tbody tr th {\n",
              "        vertical-align: top;\n",
              "    }\n",
              "\n",
              "    .dataframe thead th {\n",
              "        text-align: right;\n",
              "    }\n",
              "</style>\n",
              "<table border=\"1\" class=\"dataframe\">\n",
              "  <thead>\n",
              "    <tr style=\"text-align: right;\">\n",
              "      <th></th>\n",
              "      <th>alpha:0</th>\n",
              "      <th>alpha:0.1</th>\n",
              "      <th>alpha:1</th>\n",
              "      <th>alpha:10</th>\n",
              "      <th>alpha:100</th>\n",
              "    </tr>\n",
              "  </thead>\n",
              "  <tbody>\n",
              "    <tr>\n",
              "      <th>RM</th>\n",
              "      <td>3.809865</td>\n",
              "      <td>3.818233</td>\n",
              "      <td>3.854000</td>\n",
              "      <td>3.702272</td>\n",
              "      <td>2.334536</td>\n",
              "    </tr>\n",
              "    <tr>\n",
              "      <th>CHAS</th>\n",
              "      <td>2.686734</td>\n",
              "      <td>2.670019</td>\n",
              "      <td>2.552393</td>\n",
              "      <td>1.952021</td>\n",
              "      <td>0.638335</td>\n",
              "    </tr>\n",
              "    <tr>\n",
              "      <th>RAD</th>\n",
              "      <td>0.306049</td>\n",
              "      <td>0.303515</td>\n",
              "      <td>0.290142</td>\n",
              "      <td>0.279596</td>\n",
              "      <td>0.315358</td>\n",
              "    </tr>\n",
              "    <tr>\n",
              "      <th>ZN</th>\n",
              "      <td>0.046420</td>\n",
              "      <td>0.046572</td>\n",
              "      <td>0.047443</td>\n",
              "      <td>0.049579</td>\n",
              "      <td>0.054496</td>\n",
              "    </tr>\n",
              "    <tr>\n",
              "      <th>INDUS</th>\n",
              "      <td>0.020559</td>\n",
              "      <td>0.015999</td>\n",
              "      <td>-0.008805</td>\n",
              "      <td>-0.042962</td>\n",
              "      <td>-0.052826</td>\n",
              "    </tr>\n",
              "    <tr>\n",
              "      <th>B</th>\n",
              "      <td>0.009312</td>\n",
              "      <td>0.009368</td>\n",
              "      <td>0.009673</td>\n",
              "      <td>0.010037</td>\n",
              "      <td>0.009393</td>\n",
              "    </tr>\n",
              "    <tr>\n",
              "      <th>AGE</th>\n",
              "      <td>0.000692</td>\n",
              "      <td>-0.000269</td>\n",
              "      <td>-0.005415</td>\n",
              "      <td>-0.010707</td>\n",
              "      <td>0.001212</td>\n",
              "    </tr>\n",
              "    <tr>\n",
              "      <th>TAX</th>\n",
              "      <td>-0.012335</td>\n",
              "      <td>-0.012421</td>\n",
              "      <td>-0.012912</td>\n",
              "      <td>-0.013993</td>\n",
              "      <td>-0.015856</td>\n",
              "    </tr>\n",
              "    <tr>\n",
              "      <th>CRIM</th>\n",
              "      <td>-0.108011</td>\n",
              "      <td>-0.107474</td>\n",
              "      <td>-0.104595</td>\n",
              "      <td>-0.101435</td>\n",
              "      <td>-0.102202</td>\n",
              "    </tr>\n",
              "    <tr>\n",
              "      <th>LSTAT</th>\n",
              "      <td>-0.524758</td>\n",
              "      <td>-0.525966</td>\n",
              "      <td>-0.533343</td>\n",
              "      <td>-0.559366</td>\n",
              "      <td>-0.660764</td>\n",
              "    </tr>\n",
              "    <tr>\n",
              "      <th>PTRATIO</th>\n",
              "      <td>-0.952747</td>\n",
              "      <td>-0.940759</td>\n",
              "      <td>-0.876074</td>\n",
              "      <td>-0.797945</td>\n",
              "      <td>-0.829218</td>\n",
              "    </tr>\n",
              "    <tr>\n",
              "      <th>DIS</th>\n",
              "      <td>-1.475567</td>\n",
              "      <td>-1.459626</td>\n",
              "      <td>-1.372654</td>\n",
              "      <td>-1.248808</td>\n",
              "      <td>-1.153390</td>\n",
              "    </tr>\n",
              "    <tr>\n",
              "      <th>NOX</th>\n",
              "      <td>-17.766611</td>\n",
              "      <td>-16.684645</td>\n",
              "      <td>-10.777015</td>\n",
              "      <td>-2.371619</td>\n",
              "      <td>-0.262847</td>\n",
              "    </tr>\n",
              "  </tbody>\n",
              "</table>\n",
              "</div>\n",
              "      <button class=\"colab-df-convert\" onclick=\"convertToInteractive('df-4f1a560b-b479-4c6f-8fa8-36061e15f1c9')\"\n",
              "              title=\"Convert this dataframe to an interactive table.\"\n",
              "              style=\"display:none;\">\n",
              "        \n",
              "  <svg xmlns=\"http://www.w3.org/2000/svg\" height=\"24px\"viewBox=\"0 0 24 24\"\n",
              "       width=\"24px\">\n",
              "    <path d=\"M0 0h24v24H0V0z\" fill=\"none\"/>\n",
              "    <path d=\"M18.56 5.44l.94 2.06.94-2.06 2.06-.94-2.06-.94-.94-2.06-.94 2.06-2.06.94zm-11 1L8.5 8.5l.94-2.06 2.06-.94-2.06-.94L8.5 2.5l-.94 2.06-2.06.94zm10 10l.94 2.06.94-2.06 2.06-.94-2.06-.94-.94-2.06-.94 2.06-2.06.94z\"/><path d=\"M17.41 7.96l-1.37-1.37c-.4-.4-.92-.59-1.43-.59-.52 0-1.04.2-1.43.59L10.3 9.45l-7.72 7.72c-.78.78-.78 2.05 0 2.83L4 21.41c.39.39.9.59 1.41.59.51 0 1.02-.2 1.41-.59l7.78-7.78 2.81-2.81c.8-.78.8-2.07 0-2.86zM5.41 20L4 18.59l7.72-7.72 1.47 1.35L5.41 20z\"/>\n",
              "  </svg>\n",
              "      </button>\n",
              "      \n",
              "  <style>\n",
              "    .colab-df-container {\n",
              "      display:flex;\n",
              "      flex-wrap:wrap;\n",
              "      gap: 12px;\n",
              "    }\n",
              "\n",
              "    .colab-df-convert {\n",
              "      background-color: #E8F0FE;\n",
              "      border: none;\n",
              "      border-radius: 50%;\n",
              "      cursor: pointer;\n",
              "      display: none;\n",
              "      fill: #1967D2;\n",
              "      height: 32px;\n",
              "      padding: 0 0 0 0;\n",
              "      width: 32px;\n",
              "    }\n",
              "\n",
              "    .colab-df-convert:hover {\n",
              "      background-color: #E2EBFA;\n",
              "      box-shadow: 0px 1px 2px rgba(60, 64, 67, 0.3), 0px 1px 3px 1px rgba(60, 64, 67, 0.15);\n",
              "      fill: #174EA6;\n",
              "    }\n",
              "\n",
              "    [theme=dark] .colab-df-convert {\n",
              "      background-color: #3B4455;\n",
              "      fill: #D2E3FC;\n",
              "    }\n",
              "\n",
              "    [theme=dark] .colab-df-convert:hover {\n",
              "      background-color: #434B5C;\n",
              "      box-shadow: 0px 1px 3px 1px rgba(0, 0, 0, 0.15);\n",
              "      filter: drop-shadow(0px 1px 2px rgba(0, 0, 0, 0.3));\n",
              "      fill: #FFFFFF;\n",
              "    }\n",
              "  </style>\n",
              "\n",
              "      <script>\n",
              "        const buttonEl =\n",
              "          document.querySelector('#df-4f1a560b-b479-4c6f-8fa8-36061e15f1c9 button.colab-df-convert');\n",
              "        buttonEl.style.display =\n",
              "          google.colab.kernel.accessAllowed ? 'block' : 'none';\n",
              "\n",
              "        async function convertToInteractive(key) {\n",
              "          const element = document.querySelector('#df-4f1a560b-b479-4c6f-8fa8-36061e15f1c9');\n",
              "          const dataTable =\n",
              "            await google.colab.kernel.invokeFunction('convertToInteractive',\n",
              "                                                     [key], {});\n",
              "          if (!dataTable) return;\n",
              "\n",
              "          const docLinkHtml = 'Like what you see? Visit the ' +\n",
              "            '<a target=\"_blank\" href=https://colab.research.google.com/notebooks/data_table.ipynb>data table notebook</a>'\n",
              "            + ' to learn more about interactive tables.';\n",
              "          element.innerHTML = '';\n",
              "          dataTable['output_type'] = 'display_data';\n",
              "          await google.colab.output.renderOutput(dataTable, element);\n",
              "          const docLink = document.createElement('div');\n",
              "          docLink.innerHTML = docLinkHtml;\n",
              "          element.appendChild(docLink);\n",
              "        }\n",
              "      </script>\n",
              "    </div>\n",
              "  </div>\n",
              "  "
            ]
          },
          "metadata": {},
          "execution_count": 6
        }
      ]
    },
    {
      "cell_type": "markdown",
      "source": [
        "* 릿지회귀는 회귀계수를 0으로 만들지는 않는다."
      ],
      "metadata": {
        "id": "JnStgcNNEB3K"
      }
    },
    {
      "cell_type": "markdown",
      "source": [
        "## 3. 라쏘 회귀"
      ],
      "metadata": {
        "id": "iZaeRd9dIBpe"
      }
    },
    {
      "cell_type": "markdown",
      "source": [
        "* 라쏘회귀는 W의 절댓값에 페널티를 부여하는 L1규제를 선형회귀에 적용한것임\n",
        "* 피처선택의 특성 : L2규제(릿지)의 경우 회귀계수의 크기를 감소시키는데 반해, L1규제(라쏘)는 불필요한 회귀계수를 0으로 만들고 제거"
      ],
      "metadata": {
        "id": "wCu9twzZCyox"
      }
    },
    {
      "cell_type": "markdown",
      "source": [
        "* 라쏘회귀의 주요생성 파라미터 alpha는 L1 규제계수에 해당함.\n"
      ],
      "metadata": {
        "id": "Ra11I-xBEYAs"
      }
    },
    {
      "cell_type": "code",
      "source": [
        "## 릿지회귀 예제코드와 유사하게, 라쏘의 alpha값을 변화시키면서 RMSE와 각 피처의 회귀계수를 출력\n",
        "## 릿지회귀 예제코드를 한번에 수행하는 함수 정의\n",
        "\n",
        "from sklearn.linear_model import Lasso, ElasticNet\n",
        "# alpha값에 따른 회귀모델의 폴드평균 RMSE를 출력하고 회귀게수값을 DF으로 반환\n",
        "# 라쏘회귀, 엘라스틱넷 회귀 모두 수행가능\n",
        "def get_linear_reg_eval(model_name, params=None, X_data_n=None, y_target_n=None, verbose=True):\n",
        "  coeff_df=pd.DataFrame()\n",
        "\n",
        "  if verbose : print('#####', model_name, '#####')\n",
        "  for param in params:\n",
        "    if model_name == 'Ridge': model = Ridge(alpha=param)\n",
        "    elif model_name == 'Lasso': model = Lasso(alpha=param)\n",
        "    elif model_name == 'ElasticNet': model = ElasticNet(alpha=param)\n",
        "    neg_mse_scores = cross_val_score(model, X_data_n, y_target_n, scoring='neg_mean_squared_error', cv=5)\n",
        "    avg_rmse = np.mean(np.sqrt(-1*neg_mse_scores))\n",
        "    print('alpha{0}일때, 5폴드세트의 평균RMSE: {1:.3f}'.format(param, avg_rmse))\n",
        "    #cross_val_score는 evaluation metric만 반환하므로 모델을 다시 학습하여 회귀계수추출\n",
        "    model.fit(X_data, y_target)\n",
        "    # alpha에 따른 피처별 회귀게수를 Seriese로 변환하고 이를DF칼럼으로 추가\n",
        "    coeff = pd.Series(data=model.coef_, index=X_data.columns)\n",
        "    colname='alpha:'+str(param)\n",
        "    coeff_df[colname]=coeff\n",
        "  return coeff_df"
      ],
      "metadata": {
        "id": "8zHRprZtCwdY"
      },
      "execution_count": 7,
      "outputs": []
    },
    {
      "cell_type": "code",
      "source": [
        "# 라쏘에 사용될 alpha 파라미터의 값을 정의하고, get_linear_reg_eval()함수 호출\n",
        "lasso_alphas = [0.07, 0.1, 0.5, 1, 3]\n",
        "coeff_lasso_df = get_linear_reg_eval('Lasso', params=lasso_alphas, X_data_n=X_data, y_target_n=y_target)"
      ],
      "metadata": {
        "id": "1K2-vYrHHtGg",
        "colab": {
          "base_uri": "https://localhost:8080/"
        },
        "outputId": "b212e773-9592-46ed-a496-248949d19dee"
      },
      "execution_count": 8,
      "outputs": [
        {
          "output_type": "stream",
          "name": "stdout",
          "text": [
            "##### Lasso #####\n",
            "alpha0.07일때, 5폴드세트의 평균RMSE: 5.612\n",
            "alpha0.1일때, 5폴드세트의 평균RMSE: 5.615\n",
            "alpha0.5일때, 5폴드세트의 평균RMSE: 5.669\n",
            "alpha1일때, 5폴드세트의 평균RMSE: 5.776\n",
            "alpha3일때, 5폴드세트의 평균RMSE: 6.189\n"
          ]
        }
      ]
    },
    {
      "cell_type": "markdown",
      "source": [
        "* alpha가 0.07일때 rmse가 가장 낮아 가장 좋은 값이다."
      ],
      "metadata": {
        "id": "QAXIOkk3N6M5"
      }
    },
    {
      "cell_type": "code",
      "source": [
        "# 반환된 coeff_lasso_df를 첫번째 칼럼순으로 내림차순 정렬해, 회귀계수 DF출력\n",
        "sort_column = 'alpha:'+str(lasso_alphas[0])\n",
        "coeff_lasso_df.sort_values(by=sort_column, ascending=False)"
      ],
      "metadata": {
        "colab": {
          "base_uri": "https://localhost:8080/",
          "height": 457
        },
        "id": "mWYmTJUSN6bv",
        "outputId": "1484ebe4-577f-4eb9-f1cf-47b89e33b62e"
      },
      "execution_count": 10,
      "outputs": [
        {
          "output_type": "execute_result",
          "data": {
            "text/plain": [
              "         alpha:0.07  alpha:0.1  alpha:0.5   alpha:1   alpha:3\n",
              "RM         3.789725   3.703202   2.498212  0.949811  0.000000\n",
              "CHAS       1.434343   0.955190   0.000000  0.000000  0.000000\n",
              "RAD        0.270936   0.274707   0.277451  0.264206  0.061864\n",
              "ZN         0.049059   0.049211   0.049544  0.049165  0.037231\n",
              "B          0.010248   0.010249   0.009469  0.008247  0.006510\n",
              "NOX       -0.000000  -0.000000  -0.000000 -0.000000  0.000000\n",
              "AGE       -0.011706  -0.010037   0.003604  0.020910  0.042495\n",
              "TAX       -0.014290  -0.014570  -0.015442 -0.015212 -0.008602\n",
              "INDUS     -0.042120  -0.036619  -0.005253 -0.000000 -0.000000\n",
              "CRIM      -0.098193  -0.097894  -0.083289 -0.063437 -0.000000\n",
              "LSTAT     -0.560431  -0.568769  -0.656290 -0.761115 -0.807679\n",
              "PTRATIO   -0.765107  -0.770654  -0.758752 -0.722966 -0.265072\n",
              "DIS       -1.176583  -1.160538  -0.936605 -0.668790 -0.000000"
            ],
            "text/html": [
              "\n",
              "  <div id=\"df-c337b16f-8acb-4ca6-98d8-a9f471d6e8a6\">\n",
              "    <div class=\"colab-df-container\">\n",
              "      <div>\n",
              "<style scoped>\n",
              "    .dataframe tbody tr th:only-of-type {\n",
              "        vertical-align: middle;\n",
              "    }\n",
              "\n",
              "    .dataframe tbody tr th {\n",
              "        vertical-align: top;\n",
              "    }\n",
              "\n",
              "    .dataframe thead th {\n",
              "        text-align: right;\n",
              "    }\n",
              "</style>\n",
              "<table border=\"1\" class=\"dataframe\">\n",
              "  <thead>\n",
              "    <tr style=\"text-align: right;\">\n",
              "      <th></th>\n",
              "      <th>alpha:0.07</th>\n",
              "      <th>alpha:0.1</th>\n",
              "      <th>alpha:0.5</th>\n",
              "      <th>alpha:1</th>\n",
              "      <th>alpha:3</th>\n",
              "    </tr>\n",
              "  </thead>\n",
              "  <tbody>\n",
              "    <tr>\n",
              "      <th>RM</th>\n",
              "      <td>3.789725</td>\n",
              "      <td>3.703202</td>\n",
              "      <td>2.498212</td>\n",
              "      <td>0.949811</td>\n",
              "      <td>0.000000</td>\n",
              "    </tr>\n",
              "    <tr>\n",
              "      <th>CHAS</th>\n",
              "      <td>1.434343</td>\n",
              "      <td>0.955190</td>\n",
              "      <td>0.000000</td>\n",
              "      <td>0.000000</td>\n",
              "      <td>0.000000</td>\n",
              "    </tr>\n",
              "    <tr>\n",
              "      <th>RAD</th>\n",
              "      <td>0.270936</td>\n",
              "      <td>0.274707</td>\n",
              "      <td>0.277451</td>\n",
              "      <td>0.264206</td>\n",
              "      <td>0.061864</td>\n",
              "    </tr>\n",
              "    <tr>\n",
              "      <th>ZN</th>\n",
              "      <td>0.049059</td>\n",
              "      <td>0.049211</td>\n",
              "      <td>0.049544</td>\n",
              "      <td>0.049165</td>\n",
              "      <td>0.037231</td>\n",
              "    </tr>\n",
              "    <tr>\n",
              "      <th>B</th>\n",
              "      <td>0.010248</td>\n",
              "      <td>0.010249</td>\n",
              "      <td>0.009469</td>\n",
              "      <td>0.008247</td>\n",
              "      <td>0.006510</td>\n",
              "    </tr>\n",
              "    <tr>\n",
              "      <th>NOX</th>\n",
              "      <td>-0.000000</td>\n",
              "      <td>-0.000000</td>\n",
              "      <td>-0.000000</td>\n",
              "      <td>-0.000000</td>\n",
              "      <td>0.000000</td>\n",
              "    </tr>\n",
              "    <tr>\n",
              "      <th>AGE</th>\n",
              "      <td>-0.011706</td>\n",
              "      <td>-0.010037</td>\n",
              "      <td>0.003604</td>\n",
              "      <td>0.020910</td>\n",
              "      <td>0.042495</td>\n",
              "    </tr>\n",
              "    <tr>\n",
              "      <th>TAX</th>\n",
              "      <td>-0.014290</td>\n",
              "      <td>-0.014570</td>\n",
              "      <td>-0.015442</td>\n",
              "      <td>-0.015212</td>\n",
              "      <td>-0.008602</td>\n",
              "    </tr>\n",
              "    <tr>\n",
              "      <th>INDUS</th>\n",
              "      <td>-0.042120</td>\n",
              "      <td>-0.036619</td>\n",
              "      <td>-0.005253</td>\n",
              "      <td>-0.000000</td>\n",
              "      <td>-0.000000</td>\n",
              "    </tr>\n",
              "    <tr>\n",
              "      <th>CRIM</th>\n",
              "      <td>-0.098193</td>\n",
              "      <td>-0.097894</td>\n",
              "      <td>-0.083289</td>\n",
              "      <td>-0.063437</td>\n",
              "      <td>-0.000000</td>\n",
              "    </tr>\n",
              "    <tr>\n",
              "      <th>LSTAT</th>\n",
              "      <td>-0.560431</td>\n",
              "      <td>-0.568769</td>\n",
              "      <td>-0.656290</td>\n",
              "      <td>-0.761115</td>\n",
              "      <td>-0.807679</td>\n",
              "    </tr>\n",
              "    <tr>\n",
              "      <th>PTRATIO</th>\n",
              "      <td>-0.765107</td>\n",
              "      <td>-0.770654</td>\n",
              "      <td>-0.758752</td>\n",
              "      <td>-0.722966</td>\n",
              "      <td>-0.265072</td>\n",
              "    </tr>\n",
              "    <tr>\n",
              "      <th>DIS</th>\n",
              "      <td>-1.176583</td>\n",
              "      <td>-1.160538</td>\n",
              "      <td>-0.936605</td>\n",
              "      <td>-0.668790</td>\n",
              "      <td>-0.000000</td>\n",
              "    </tr>\n",
              "  </tbody>\n",
              "</table>\n",
              "</div>\n",
              "      <button class=\"colab-df-convert\" onclick=\"convertToInteractive('df-c337b16f-8acb-4ca6-98d8-a9f471d6e8a6')\"\n",
              "              title=\"Convert this dataframe to an interactive table.\"\n",
              "              style=\"display:none;\">\n",
              "        \n",
              "  <svg xmlns=\"http://www.w3.org/2000/svg\" height=\"24px\"viewBox=\"0 0 24 24\"\n",
              "       width=\"24px\">\n",
              "    <path d=\"M0 0h24v24H0V0z\" fill=\"none\"/>\n",
              "    <path d=\"M18.56 5.44l.94 2.06.94-2.06 2.06-.94-2.06-.94-.94-2.06-.94 2.06-2.06.94zm-11 1L8.5 8.5l.94-2.06 2.06-.94-2.06-.94L8.5 2.5l-.94 2.06-2.06.94zm10 10l.94 2.06.94-2.06 2.06-.94-2.06-.94-.94-2.06-.94 2.06-2.06.94z\"/><path d=\"M17.41 7.96l-1.37-1.37c-.4-.4-.92-.59-1.43-.59-.52 0-1.04.2-1.43.59L10.3 9.45l-7.72 7.72c-.78.78-.78 2.05 0 2.83L4 21.41c.39.39.9.59 1.41.59.51 0 1.02-.2 1.41-.59l7.78-7.78 2.81-2.81c.8-.78.8-2.07 0-2.86zM5.41 20L4 18.59l7.72-7.72 1.47 1.35L5.41 20z\"/>\n",
              "  </svg>\n",
              "      </button>\n",
              "      \n",
              "  <style>\n",
              "    .colab-df-container {\n",
              "      display:flex;\n",
              "      flex-wrap:wrap;\n",
              "      gap: 12px;\n",
              "    }\n",
              "\n",
              "    .colab-df-convert {\n",
              "      background-color: #E8F0FE;\n",
              "      border: none;\n",
              "      border-radius: 50%;\n",
              "      cursor: pointer;\n",
              "      display: none;\n",
              "      fill: #1967D2;\n",
              "      height: 32px;\n",
              "      padding: 0 0 0 0;\n",
              "      width: 32px;\n",
              "    }\n",
              "\n",
              "    .colab-df-convert:hover {\n",
              "      background-color: #E2EBFA;\n",
              "      box-shadow: 0px 1px 2px rgba(60, 64, 67, 0.3), 0px 1px 3px 1px rgba(60, 64, 67, 0.15);\n",
              "      fill: #174EA6;\n",
              "    }\n",
              "\n",
              "    [theme=dark] .colab-df-convert {\n",
              "      background-color: #3B4455;\n",
              "      fill: #D2E3FC;\n",
              "    }\n",
              "\n",
              "    [theme=dark] .colab-df-convert:hover {\n",
              "      background-color: #434B5C;\n",
              "      box-shadow: 0px 1px 3px 1px rgba(0, 0, 0, 0.15);\n",
              "      filter: drop-shadow(0px 1px 2px rgba(0, 0, 0, 0.3));\n",
              "      fill: #FFFFFF;\n",
              "    }\n",
              "  </style>\n",
              "\n",
              "      <script>\n",
              "        const buttonEl =\n",
              "          document.querySelector('#df-c337b16f-8acb-4ca6-98d8-a9f471d6e8a6 button.colab-df-convert');\n",
              "        buttonEl.style.display =\n",
              "          google.colab.kernel.accessAllowed ? 'block' : 'none';\n",
              "\n",
              "        async function convertToInteractive(key) {\n",
              "          const element = document.querySelector('#df-c337b16f-8acb-4ca6-98d8-a9f471d6e8a6');\n",
              "          const dataTable =\n",
              "            await google.colab.kernel.invokeFunction('convertToInteractive',\n",
              "                                                     [key], {});\n",
              "          if (!dataTable) return;\n",
              "\n",
              "          const docLinkHtml = 'Like what you see? Visit the ' +\n",
              "            '<a target=\"_blank\" href=https://colab.research.google.com/notebooks/data_table.ipynb>data table notebook</a>'\n",
              "            + ' to learn more about interactive tables.';\n",
              "          element.innerHTML = '';\n",
              "          dataTable['output_type'] = 'display_data';\n",
              "          await google.colab.output.renderOutput(dataTable, element);\n",
              "          const docLink = document.createElement('div');\n",
              "          docLink.innerHTML = docLinkHtml;\n",
              "          element.appendChild(docLink);\n",
              "        }\n",
              "      </script>\n",
              "    </div>\n",
              "  </div>\n",
              "  "
            ]
          },
          "metadata": {},
          "execution_count": 10
        }
      ]
    },
    {
      "cell_type": "markdown",
      "source": [
        "* alpha의 크기가 증가함에 따라 일부피처의 회귀게수는 아예0으로 바뀌고 있다. \n",
        "* NOX속성은 alpha가 0.07일때부터 회귀계수가0임. \n",
        "* 회귀계수가 0인 피처는 회귀식에서 제외되면서 피처선택의 효과를 얻는다.\n"
      ],
      "metadata": {
        "id": "QPM3HjJsHtnI"
      }
    },
    {
      "cell_type": "markdown",
      "source": [
        "## 4. 엘라스틱넷 회귀"
      ],
      "metadata": {
        "id": "6m3idV7oIBr5"
      }
    },
    {
      "cell_type": "markdown",
      "source": [
        "* 엘라스틱넷 회귀는 L1규제와 L2규제를 결합한 회귀이다. \n",
        "* 엘라스틱넷 회귀는, 라쏘회귀의 피처선택기능을 완화하기 위해 라쏘회귀에 L2규제를 추가한 것이다.\n",
        "* 단점은 L1과 L2가 결합된 것이므로 수행시간이 상대적으로 오래 걸린다는 것이다. \n",
        " "
      ],
      "metadata": {
        "id": "4qyCLQ1jO2Aj"
      }
    },
    {
      "cell_type": "markdown",
      "source": [
        "* 엘라스틱넷의 주요 생성 파라미터는 alpha와 l1_ratio    \n",
        "  a = L1규제의 alpha    \n",
        "  b = L2규제의 alpha     \n",
        "  엘라스틱넷의 alpha = a+b   \n",
        "  엘라스틱넷의 l1_ratio = a/(a+b)"
      ],
      "metadata": {
        "id": "kTtusS2FO2Oe"
      }
    },
    {
      "cell_type": "code",
      "source": [
        "# 엘라스틱넷에 사용될 alpha 파라미터의 값들을 정의하고 get_linear_reg_eval()함수 호출\n",
        "# l1_ratio는 0.7로 고정\n",
        "elastic_alphas = [0.07, 0.1, 0.5, 1, 3]\n",
        "coeff_elastic_df = get_linear_reg_eval('ElasticNet', params=elastic_alphas, X_data_n=X_data, y_target_n=y_target)"
      ],
      "metadata": {
        "colab": {
          "base_uri": "https://localhost:8080/"
        },
        "id": "eZbvjJYSO2WX",
        "outputId": "0bcbdb8d-f3e6-48f9-fc17-8f8849ad27f6"
      },
      "execution_count": 11,
      "outputs": [
        {
          "output_type": "stream",
          "name": "stdout",
          "text": [
            "##### ElasticNet #####\n",
            "alpha0.07일때, 5폴드세트의 평균RMSE: 5.503\n",
            "alpha0.1일때, 5폴드세트의 평균RMSE: 5.478\n",
            "alpha0.5일때, 5폴드세트의 평균RMSE: 5.413\n",
            "alpha1일때, 5폴드세트의 평균RMSE: 5.522\n",
            "alpha3일때, 5폴드세트의 평균RMSE: 5.954\n"
          ]
        }
      ]
    },
    {
      "cell_type": "markdown",
      "source": [
        "* alpha가 0.5일때 가장 낮은 rmse로 가장 좋다."
      ],
      "metadata": {
        "id": "cRcYX9rzRHu8"
      }
    },
    {
      "cell_type": "code",
      "source": [
        "# 반환된 coeff_elastic_df를 첫번째 칼럼순으로 내림차순 정렬해 회귀계수DF 출력\n",
        "sort_column = 'alpha:'+str(elastic_alphas[0])\n",
        "coeff_elastic_df.sort_values(by=sort_column, ascending=False)"
      ],
      "metadata": {
        "colab": {
          "base_uri": "https://localhost:8080/",
          "height": 457
        },
        "id": "IhzE1wzwRIBV",
        "outputId": "00fb7daf-1b05-4c46-a6a9-3be678bae6ea"
      },
      "execution_count": 13,
      "outputs": [
        {
          "output_type": "execute_result",
          "data": {
            "text/plain": [
              "         alpha:0.07  alpha:0.1  alpha:0.5   alpha:1   alpha:3\n",
              "RM         3.445833   3.252662   1.723610  0.933936  0.000000\n",
              "CHAS       1.287475   0.987970   0.000000  0.000000  0.000000\n",
              "RAD        0.284007   0.288726   0.311583  0.301569  0.199147\n",
              "ZN         0.050678   0.051377   0.054045  0.053240  0.046018\n",
              "B          0.010035   0.009963   0.008997  0.008339  0.007271\n",
              "AGE       -0.008997  -0.007219   0.009475  0.020579  0.038926\n",
              "TAX       -0.014636  -0.014952  -0.016300 -0.016439 -0.013587\n",
              "INDUS     -0.045733  -0.045901  -0.031702 -0.012657 -0.000000\n",
              "CRIM      -0.100331  -0.100079  -0.092503 -0.080371 -0.040903\n",
              "NOX       -0.484864  -0.059533  -0.000000 -0.000000 -0.000000\n",
              "LSTAT     -0.582983  -0.598184  -0.706176 -0.758426 -0.794154\n",
              "PTRATIO   -0.790069  -0.793502  -0.803835 -0.748046 -0.476192\n",
              "DIS       -1.199548  -1.181402  -0.989655 -0.762044 -0.224409"
            ],
            "text/html": [
              "\n",
              "  <div id=\"df-8075560f-732f-4cc9-acb1-a2b6a2218f32\">\n",
              "    <div class=\"colab-df-container\">\n",
              "      <div>\n",
              "<style scoped>\n",
              "    .dataframe tbody tr th:only-of-type {\n",
              "        vertical-align: middle;\n",
              "    }\n",
              "\n",
              "    .dataframe tbody tr th {\n",
              "        vertical-align: top;\n",
              "    }\n",
              "\n",
              "    .dataframe thead th {\n",
              "        text-align: right;\n",
              "    }\n",
              "</style>\n",
              "<table border=\"1\" class=\"dataframe\">\n",
              "  <thead>\n",
              "    <tr style=\"text-align: right;\">\n",
              "      <th></th>\n",
              "      <th>alpha:0.07</th>\n",
              "      <th>alpha:0.1</th>\n",
              "      <th>alpha:0.5</th>\n",
              "      <th>alpha:1</th>\n",
              "      <th>alpha:3</th>\n",
              "    </tr>\n",
              "  </thead>\n",
              "  <tbody>\n",
              "    <tr>\n",
              "      <th>RM</th>\n",
              "      <td>3.445833</td>\n",
              "      <td>3.252662</td>\n",
              "      <td>1.723610</td>\n",
              "      <td>0.933936</td>\n",
              "      <td>0.000000</td>\n",
              "    </tr>\n",
              "    <tr>\n",
              "      <th>CHAS</th>\n",
              "      <td>1.287475</td>\n",
              "      <td>0.987970</td>\n",
              "      <td>0.000000</td>\n",
              "      <td>0.000000</td>\n",
              "      <td>0.000000</td>\n",
              "    </tr>\n",
              "    <tr>\n",
              "      <th>RAD</th>\n",
              "      <td>0.284007</td>\n",
              "      <td>0.288726</td>\n",
              "      <td>0.311583</td>\n",
              "      <td>0.301569</td>\n",
              "      <td>0.199147</td>\n",
              "    </tr>\n",
              "    <tr>\n",
              "      <th>ZN</th>\n",
              "      <td>0.050678</td>\n",
              "      <td>0.051377</td>\n",
              "      <td>0.054045</td>\n",
              "      <td>0.053240</td>\n",
              "      <td>0.046018</td>\n",
              "    </tr>\n",
              "    <tr>\n",
              "      <th>B</th>\n",
              "      <td>0.010035</td>\n",
              "      <td>0.009963</td>\n",
              "      <td>0.008997</td>\n",
              "      <td>0.008339</td>\n",
              "      <td>0.007271</td>\n",
              "    </tr>\n",
              "    <tr>\n",
              "      <th>AGE</th>\n",
              "      <td>-0.008997</td>\n",
              "      <td>-0.007219</td>\n",
              "      <td>0.009475</td>\n",
              "      <td>0.020579</td>\n",
              "      <td>0.038926</td>\n",
              "    </tr>\n",
              "    <tr>\n",
              "      <th>TAX</th>\n",
              "      <td>-0.014636</td>\n",
              "      <td>-0.014952</td>\n",
              "      <td>-0.016300</td>\n",
              "      <td>-0.016439</td>\n",
              "      <td>-0.013587</td>\n",
              "    </tr>\n",
              "    <tr>\n",
              "      <th>INDUS</th>\n",
              "      <td>-0.045733</td>\n",
              "      <td>-0.045901</td>\n",
              "      <td>-0.031702</td>\n",
              "      <td>-0.012657</td>\n",
              "      <td>-0.000000</td>\n",
              "    </tr>\n",
              "    <tr>\n",
              "      <th>CRIM</th>\n",
              "      <td>-0.100331</td>\n",
              "      <td>-0.100079</td>\n",
              "      <td>-0.092503</td>\n",
              "      <td>-0.080371</td>\n",
              "      <td>-0.040903</td>\n",
              "    </tr>\n",
              "    <tr>\n",
              "      <th>NOX</th>\n",
              "      <td>-0.484864</td>\n",
              "      <td>-0.059533</td>\n",
              "      <td>-0.000000</td>\n",
              "      <td>-0.000000</td>\n",
              "      <td>-0.000000</td>\n",
              "    </tr>\n",
              "    <tr>\n",
              "      <th>LSTAT</th>\n",
              "      <td>-0.582983</td>\n",
              "      <td>-0.598184</td>\n",
              "      <td>-0.706176</td>\n",
              "      <td>-0.758426</td>\n",
              "      <td>-0.794154</td>\n",
              "    </tr>\n",
              "    <tr>\n",
              "      <th>PTRATIO</th>\n",
              "      <td>-0.790069</td>\n",
              "      <td>-0.793502</td>\n",
              "      <td>-0.803835</td>\n",
              "      <td>-0.748046</td>\n",
              "      <td>-0.476192</td>\n",
              "    </tr>\n",
              "    <tr>\n",
              "      <th>DIS</th>\n",
              "      <td>-1.199548</td>\n",
              "      <td>-1.181402</td>\n",
              "      <td>-0.989655</td>\n",
              "      <td>-0.762044</td>\n",
              "      <td>-0.224409</td>\n",
              "    </tr>\n",
              "  </tbody>\n",
              "</table>\n",
              "</div>\n",
              "      <button class=\"colab-df-convert\" onclick=\"convertToInteractive('df-8075560f-732f-4cc9-acb1-a2b6a2218f32')\"\n",
              "              title=\"Convert this dataframe to an interactive table.\"\n",
              "              style=\"display:none;\">\n",
              "        \n",
              "  <svg xmlns=\"http://www.w3.org/2000/svg\" height=\"24px\"viewBox=\"0 0 24 24\"\n",
              "       width=\"24px\">\n",
              "    <path d=\"M0 0h24v24H0V0z\" fill=\"none\"/>\n",
              "    <path d=\"M18.56 5.44l.94 2.06.94-2.06 2.06-.94-2.06-.94-.94-2.06-.94 2.06-2.06.94zm-11 1L8.5 8.5l.94-2.06 2.06-.94-2.06-.94L8.5 2.5l-.94 2.06-2.06.94zm10 10l.94 2.06.94-2.06 2.06-.94-2.06-.94-.94-2.06-.94 2.06-2.06.94z\"/><path d=\"M17.41 7.96l-1.37-1.37c-.4-.4-.92-.59-1.43-.59-.52 0-1.04.2-1.43.59L10.3 9.45l-7.72 7.72c-.78.78-.78 2.05 0 2.83L4 21.41c.39.39.9.59 1.41.59.51 0 1.02-.2 1.41-.59l7.78-7.78 2.81-2.81c.8-.78.8-2.07 0-2.86zM5.41 20L4 18.59l7.72-7.72 1.47 1.35L5.41 20z\"/>\n",
              "  </svg>\n",
              "      </button>\n",
              "      \n",
              "  <style>\n",
              "    .colab-df-container {\n",
              "      display:flex;\n",
              "      flex-wrap:wrap;\n",
              "      gap: 12px;\n",
              "    }\n",
              "\n",
              "    .colab-df-convert {\n",
              "      background-color: #E8F0FE;\n",
              "      border: none;\n",
              "      border-radius: 50%;\n",
              "      cursor: pointer;\n",
              "      display: none;\n",
              "      fill: #1967D2;\n",
              "      height: 32px;\n",
              "      padding: 0 0 0 0;\n",
              "      width: 32px;\n",
              "    }\n",
              "\n",
              "    .colab-df-convert:hover {\n",
              "      background-color: #E2EBFA;\n",
              "      box-shadow: 0px 1px 2px rgba(60, 64, 67, 0.3), 0px 1px 3px 1px rgba(60, 64, 67, 0.15);\n",
              "      fill: #174EA6;\n",
              "    }\n",
              "\n",
              "    [theme=dark] .colab-df-convert {\n",
              "      background-color: #3B4455;\n",
              "      fill: #D2E3FC;\n",
              "    }\n",
              "\n",
              "    [theme=dark] .colab-df-convert:hover {\n",
              "      background-color: #434B5C;\n",
              "      box-shadow: 0px 1px 3px 1px rgba(0, 0, 0, 0.15);\n",
              "      filter: drop-shadow(0px 1px 2px rgba(0, 0, 0, 0.3));\n",
              "      fill: #FFFFFF;\n",
              "    }\n",
              "  </style>\n",
              "\n",
              "      <script>\n",
              "        const buttonEl =\n",
              "          document.querySelector('#df-8075560f-732f-4cc9-acb1-a2b6a2218f32 button.colab-df-convert');\n",
              "        buttonEl.style.display =\n",
              "          google.colab.kernel.accessAllowed ? 'block' : 'none';\n",
              "\n",
              "        async function convertToInteractive(key) {\n",
              "          const element = document.querySelector('#df-8075560f-732f-4cc9-acb1-a2b6a2218f32');\n",
              "          const dataTable =\n",
              "            await google.colab.kernel.invokeFunction('convertToInteractive',\n",
              "                                                     [key], {});\n",
              "          if (!dataTable) return;\n",
              "\n",
              "          const docLinkHtml = 'Like what you see? Visit the ' +\n",
              "            '<a target=\"_blank\" href=https://colab.research.google.com/notebooks/data_table.ipynb>data table notebook</a>'\n",
              "            + ' to learn more about interactive tables.';\n",
              "          element.innerHTML = '';\n",
              "          dataTable['output_type'] = 'display_data';\n",
              "          await google.colab.output.renderOutput(dataTable, element);\n",
              "          const docLink = document.createElement('div');\n",
              "          docLink.innerHTML = docLinkHtml;\n",
              "          element.appendChild(docLink);\n",
              "        }\n",
              "      </script>\n",
              "    </div>\n",
              "  </div>\n",
              "  "
            ]
          },
          "metadata": {},
          "execution_count": 13
        }
      ]
    },
    {
      "cell_type": "markdown",
      "source": [
        "* alpha 0.5일때 RMSE가 가장 낮아 가장 좋은 예측성능을 보인다. \n",
        "* alpha값에 따른 피처들의 회귀계수들의 값이 라쏘보다는 상대적으로 0이 되는 값이 적다.\n"
      ],
      "metadata": {
        "id": "fE2hYkE2Vbpd"
      }
    },
    {
      "cell_type": "markdown",
      "source": [
        "## 5. 선형 회귀 모델을 위한 데이터 변환"
      ],
      "metadata": {
        "id": "TceH6JwEICEl"
      }
    },
    {
      "cell_type": "markdown",
      "source": [
        "* 피처/타겟 데이터셋의 분포도가 심하게 왜곡됐을 경우, 예측성능에 부정적 영향 미칠가능성이 있음.\n",
        "* 선형회귀모델을 적용하기 전에 먼저 데이터에 대한 스케일링/정규화 작업을 수행해야함.\n",
        "  * 피처 데이터셋에 적용하는 변환 작업   \n",
        "    1. StandardScaler / MinMaxScaler        \n",
        "    2. 위를 수행한 데이터셋에 다시 다항특성을 적용해 변환. 1번방법으로 성능향상이 없을 경우.    \n",
        "    3. 로그변환. 로그변환이 가장 많이 사용되는 변환방법. [1+log()] 를 적용하면 정규분포에 가까운 형태로 변환됨.\n",
        "  * 타겟 데이터셋에 적용하는 변환 작업\n",
        "    1. 일반적으로 로그변환을 적용\n"
      ],
      "metadata": {
        "id": "vXHzthjvWti1"
      }
    },
    {
      "cell_type": "markdown",
      "source": [],
      "metadata": {
        "id": "7tuBNsjXWtnH"
      }
    },
    {
      "cell_type": "code",
      "source": [
        "# method는 표준 정규분포 변환(Standard), 최대최소값 정규화(MinMax), 로그변환(Log) 결정\n",
        "# p_degree는 다항식 특성을 추가할 때 적용. p_degree는 2이상 부여하지 않음.\n",
        "\n",
        "from sklearn.preprocessing import StandardScaler, MinMaxScaler,PolynomialFeatures\n",
        "\n",
        "def get_scaled_data(method='None', p_degree=None, input_data=None):\n",
        "  if method == 'Standard':\n",
        "    scaled_data = StandardScaler().fit_transform(input_data)\n",
        "  elif method=='MinMax':\n",
        "    scaled_data = MinMaxScaler().fit_transform(input_data)\n",
        "  elif method=='Log':\n",
        "    scaled_data = np.log1p(input_data)\n",
        "  else:\n",
        "    scaled_data=input_data\n",
        "  \n",
        "  if p_degree !=None:\n",
        "    scaled_data=PolynomialFeatures(degree=p_degree, include_bias=False).fit_transform(scaled_data)\n",
        "  \n",
        "  return scaled_data\n"
      ],
      "metadata": {
        "id": "_BPVTgFdVRlA"
      },
      "execution_count": 19,
      "outputs": []
    },
    {
      "cell_type": "code",
      "source": [
        "# Ridge의 alpha값을 다르게 적용하고, 다양한 데이터 변환방법에 따른 RMSE 추출\n",
        "alphas = [0.1,1,10,100]\n",
        "\n",
        "# 5개의 방식으로 변환\n",
        "# 0.원본그대로/ 1.표준정규분포/ 2.표준정규+다항식특성/ 3.최대최소 정규화/ 4.최대최소정규화+다항식특성/ 5.로그변환\n",
        "scale_methods = [(None,None),('Standard',None),('Standard',2),('MinMax',None),('MinMax',2),('Log',None)]\n",
        "for scale_method in scale_methods :\n",
        "  X_data_scaled = get_scaled_data(method = scale_method[0],p_degree = scale_method[1],input_data = X_data)\n",
        "  print('\\n##변환 유형 : {0}, Polynomial Degree : {1}'.format(scale_method[0], scale_method[1]))\n",
        "  get_linear_reg_eval('Ridge',params = alphas, X_data_n = X_data_scaled, y_target_n = y_target,verbose = False)"
      ],
      "metadata": {
        "colab": {
          "base_uri": "https://localhost:8080/"
        },
        "id": "iCszTDDwbGO-",
        "outputId": "363b2f86-03ec-4cc4-9146-1fc7c69a45eb"
      },
      "execution_count": 20,
      "outputs": [
        {
          "output_type": "stream",
          "name": "stdout",
          "text": [
            "\n",
            "##변환 유형 : None, Polynomial Degree : None\n",
            "alpha0.1일때, 5폴드세트의 평균RMSE: 5.788\n",
            "alpha1일때, 5폴드세트의 평균RMSE: 5.653\n",
            "alpha10일때, 5폴드세트의 평균RMSE: 5.518\n",
            "alpha100일때, 5폴드세트의 평균RMSE: 5.330\n",
            "\n",
            "##변환 유형 : Standard, Polynomial Degree : None\n",
            "alpha0.1일때, 5폴드세트의 평균RMSE: 5.826\n",
            "alpha1일때, 5폴드세트의 평균RMSE: 5.803\n",
            "alpha10일때, 5폴드세트의 평균RMSE: 5.637\n",
            "alpha100일때, 5폴드세트의 평균RMSE: 5.421\n",
            "\n",
            "##변환 유형 : Standard, Polynomial Degree : 2\n",
            "alpha0.1일때, 5폴드세트의 평균RMSE: 8.827\n",
            "alpha1일때, 5폴드세트의 평균RMSE: 6.871\n",
            "alpha10일때, 5폴드세트의 평균RMSE: 5.485\n",
            "alpha100일때, 5폴드세트의 평균RMSE: 4.634\n",
            "\n",
            "##변환 유형 : MinMax, Polynomial Degree : None\n",
            "alpha0.1일때, 5폴드세트의 평균RMSE: 5.764\n",
            "alpha1일때, 5폴드세트의 평균RMSE: 5.465\n",
            "alpha10일때, 5폴드세트의 평균RMSE: 5.754\n",
            "alpha100일때, 5폴드세트의 평균RMSE: 7.635\n",
            "\n",
            "##변환 유형 : MinMax, Polynomial Degree : 2\n",
            "alpha0.1일때, 5폴드세트의 평균RMSE: 5.298\n",
            "alpha1일때, 5폴드세트의 평균RMSE: 4.323\n",
            "alpha10일때, 5폴드세트의 평균RMSE: 5.185\n",
            "alpha100일때, 5폴드세트의 평균RMSE: 6.538\n",
            "\n",
            "##변환 유형 : Log, Polynomial Degree : None\n",
            "alpha0.1일때, 5폴드세트의 평균RMSE: 4.770\n",
            "alpha1일때, 5폴드세트의 평균RMSE: 4.676\n",
            "alpha10일때, 5폴드세트의 평균RMSE: 4.836\n",
            "alpha100일때, 5폴드세트의 평균RMSE: 6.241\n"
          ]
        }
      ]
    },
    {
      "cell_type": "markdown",
      "source": [
        "* 0.원본그대로 일때와 비교하여    \n",
        " 1.표준정규분포/ 2.표준정규+다항식특성/ 3.최대최소 정규화/ 4.최대최소정규화+다항식특성/ 5.로그변환     \n",
        " 했을 때 rmse가 작아졌는지, 성능이 개선되었는지 확인해본다. \n"
      ],
      "metadata": {
        "id": "k7glFRwiWtp2"
      }
    },
    {
      "cell_type": "markdown",
      "source": [
        "# 07 로지스틱 회귀"
      ],
      "metadata": {
        "id": "Yrb-HzRyICHw"
      }
    },
    {
      "cell_type": "markdown",
      "source": [
        "* 로지스틱 회귀는 선형회귀 계열이다.    \n",
        "  (회귀가 선형/비선형인지는 독립변수가 아닌 가중치 변수가 선형인지 아닌지 따른다.)\n",
        "* 로지스틱 회귀는 선형함수의 회귀최적선을 찾는 것이 아니라, 시그모이드 함수 최적선을 찾고 이 함수의 반환값을 확률로 간주해 확률에 따라 분류를 결정한다는 것이다. \n",
        " "
      ],
      "metadata": {
        "id": "Kss67vaWen2J"
      }
    },
    {
      "cell_type": "code",
      "source": [
        "## 분류문제에 적용\n",
        "import pandas as pd\n",
        "import matplotlib.pyplot as plt\n",
        "%matplotlib inline\n",
        "\n",
        "from sklearn.datasets import load_breast_cancer\n",
        "from sklearn.linear_model import LogisticRegression\n",
        "\n",
        "cancer = load_breast_cancer()"
      ],
      "metadata": {
        "id": "9c27IrkbePBJ"
      },
      "execution_count": 21,
      "outputs": []
    },
    {
      "cell_type": "code",
      "source": [
        "from sklearn.preprocessing import StandardScaler\n",
        "from sklearn.model_selection import train_test_split\n",
        "\n",
        "# StandardScaler()로, 평균이 0 분산이 1인 데이터분포로 변환\n",
        "scaler = StandardScaler()\n",
        "data_scaled = scaler.fit_transform(cancer.data)\n",
        "\n",
        "X_train, X_test, y_train, y_test = train_test_split(data_scaled, cancer.target, test_size=0.3, random_state=0)"
      ],
      "metadata": {
        "id": "KY4zZgrjfBIC"
      },
      "execution_count": 22,
      "outputs": []
    },
    {
      "cell_type": "code",
      "source": [
        "from sklearn.metrics import accuracy_score, roc_auc_score\n",
        "\n",
        "# 로지스틱 회귀를 이용해 학습/예측\n",
        "lr_clf = LogisticRegression()\n",
        "lr_clf.fit(X_train, y_train)\n",
        "lr_preds = lr_clf.predict(X_test)\n",
        "\n",
        "# 정확도와 roc_auc 측정\n",
        "print('accuracy : {0:.3f}'.format(accuracy_score(y_test,lr_preds)))\n",
        "print('roc_auc : {0:.3f}'.format(roc_auc_score(y_test,lr_preds)))"
      ],
      "metadata": {
        "colab": {
          "base_uri": "https://localhost:8080/"
        },
        "id": "fn7ZZXFffBM_",
        "outputId": "c3a1acef-c5f0-4acd-935d-1a1427724474"
      },
      "execution_count": 23,
      "outputs": [
        {
          "output_type": "stream",
          "name": "stdout",
          "text": [
            "accuracy : 0.977\n",
            "roc_auc : 0.972\n"
          ]
        }
      ]
    },
    {
      "cell_type": "markdown",
      "source": [
        "* 사이킷런 LogisticRegression 클래스의 주요 하이퍼 파라미터\n",
        "  1. penalty : 규제유형을 설정. l2가 디폴트.     \n",
        "  2. C : 규제강도를 조절하는 alpha값의 역수. C가 클수록 규제강도가 작다.  "
      ],
      "metadata": {
        "id": "pxmksSitXohr"
      }
    },
    {
      "cell_type": "code",
      "source": [
        "from sklearn.model_selection import GridSearchCV\n",
        "params = {'penalty': ['l2', 'l1'],\n",
        "          'C': [0.01, 0.1, 1, 5, 10]}\n",
        "grid_clf = GridSearchCV(lr_clf, param_grid = params, scoring='accuracy', cv=3)\n",
        "grid_clf.fit(data_scaled, cancer.target)\n",
        "print('최적 하이퍼 파라미터 : {0}, 최적 평균 정확도 :{1:.3f}'.format(grid_clf.best_params_,\n",
        "                                                     grid_clf.best_score_))"
      ],
      "metadata": {
        "id": "uwSR1N1RXodt",
        "colab": {
          "base_uri": "https://localhost:8080/"
        },
        "outputId": "1bc83dc8-3fa0-426a-8566-d16d069c3174"
      },
      "execution_count": 27,
      "outputs": [
        {
          "output_type": "stream",
          "name": "stdout",
          "text": [
            "최적 하이퍼 파라미터 : {'C': 1, 'penalty': 'l2'}, 최적 평균 정확도 :0.975\n"
          ]
        },
        {
          "output_type": "stream",
          "name": "stderr",
          "text": [
            "/usr/local/lib/python3.7/dist-packages/sklearn/model_selection/_validation.py:372: FitFailedWarning: \n",
            "15 fits failed out of a total of 30.\n",
            "The score on these train-test partitions for these parameters will be set to nan.\n",
            "If these failures are not expected, you can try to debug them by setting error_score='raise'.\n",
            "\n",
            "Below are more details about the failures:\n",
            "--------------------------------------------------------------------------------\n",
            "15 fits failed with the following error:\n",
            "Traceback (most recent call last):\n",
            "  File \"/usr/local/lib/python3.7/dist-packages/sklearn/model_selection/_validation.py\", line 680, in _fit_and_score\n",
            "    estimator.fit(X_train, y_train, **fit_params)\n",
            "  File \"/usr/local/lib/python3.7/dist-packages/sklearn/linear_model/_logistic.py\", line 1461, in fit\n",
            "    solver = _check_solver(self.solver, self.penalty, self.dual)\n",
            "  File \"/usr/local/lib/python3.7/dist-packages/sklearn/linear_model/_logistic.py\", line 449, in _check_solver\n",
            "    % (solver, penalty)\n",
            "ValueError: Solver lbfgs supports only 'l2' or 'none' penalties, got l1 penalty.\n",
            "\n",
            "  warnings.warn(some_fits_failed_message, FitFailedWarning)\n",
            "/usr/local/lib/python3.7/dist-packages/sklearn/model_selection/_search.py:972: UserWarning: One or more of the test scores are non-finite: [0.94555834        nan 0.97364708        nan 0.97539218        nan\n",
            " 0.97011974        nan 0.96661097        nan]\n",
            "  category=UserWarning,\n"
          ]
        }
      ]
    },
    {
      "cell_type": "markdown",
      "source": [
        "* 로지스틱 회귀는 가볍고 빠르며, 이진분류 예측성능도 뛰어나다.\n",
        "* 따라서 로지스틱 회귀를 이진분류의 기본모델로 사용하는 경우가 많다. \n",
        "* 로지스틱 회귀는 희소한 데이터 세트 분류에도 뛰어난 성ㄴ으을 보여서 텍스트 분류에서도 자주 사용된다. \n",
        "* '회귀'계열이지만 '분류'에 쓰인다!!!"
      ],
      "metadata": {
        "id": "uD-quAdfiM_G"
      }
    },
    {
      "cell_type": "markdown",
      "source": [
        "# 08 회귀 트리"
      ],
      "metadata": {
        "id": "BkQha4IQICKh"
      }
    },
    {
      "cell_type": "markdown",
      "source": [
        "* 회귀함수를 기반으로 하지 않고, 결정트리와 같은 트리를 기반으로 하는 회귀 방식\n",
        "* 트리 기반의 회귀는, '회귀 트리'를 생성하고 이를 기반으로 회귀예측을 함.\n",
        "* 분류트리와 크게 다를 것은 없지만, 분류트리가 특정 클래스 레이블을 결정하는 것과 달리,    \n",
        "  회귀트리는 리프노드에 속한 데이터값의 평균을 구해 회귀예측값을 계산한다."
      ],
      "metadata": {
        "id": "LuoewUK2XncZ"
      }
    },
    {
      "cell_type": "code",
      "source": [
        "# p.336"
      ],
      "metadata": {
        "id": "VAGdTIYQVR_d"
      },
      "execution_count": null,
      "outputs": []
    }
  ]
}