{
  "nbformat": 4,
  "nbformat_minor": 0,
  "metadata": {
    "colab": {
      "provenance": [],
      "include_colab_link": true
    },
    "kernelspec": {
      "name": "python3",
      "display_name": "Python 3"
    },
    "language_info": {
      "name": "python"
    }
  },
  "cells": [
    {
      "cell_type": "markdown",
      "metadata": {
        "id": "view-in-github",
        "colab_type": "text"
      },
      "source": [
        "<a href=\"https://colab.research.google.com/github/lim-jr/ESAA/blob/main/1205%EC%9B%94%EA%B3%BC%EC%A0%9C_%EB%A8%B8%EC%8B%A0%EB%9F%AC%EB%8B%9D_%EC%99%84%EB%B2%BD%EA%B0%80%EC%9D%B4%EB%93%9C.ipynb\" target=\"_parent\"><img src=\"https://colab.research.google.com/assets/colab-badge.svg\" alt=\"Open In Colab\"/></a>"
      ]
    },
    {
      "cell_type": "markdown",
      "source": [
        "> # 차원 축소\n"
      ],
      "metadata": {
        "id": "E0ynYB79Vsrf"
      }
    },
    {
      "cell_type": "markdown",
      "source": [
        "> ### PCA(주성분 분석)\n",
        " \n"
      ],
      "metadata": {
        "id": "TshgiG4zMaa1"
      }
    },
    {
      "cell_type": "code",
      "execution_count": null,
      "metadata": {
        "id": "mAnekpiZ9Qyt",
        "colab": {
          "base_uri": "https://localhost:8080/",
          "height": 143
        },
        "outputId": "2c669e14-c85c-40c6-96bc-0c0c82ed5fce"
      },
      "outputs": [
        {
          "output_type": "execute_result",
          "data": {
            "text/plain": [
              "   sepal_length  sepal_width  petal_length  petal_width  target\n",
              "0           5.1          3.5           1.4          0.2       0\n",
              "1           4.9          3.0           1.4          0.2       0\n",
              "2           4.7          3.2           1.3          0.2       0"
            ],
            "text/html": [
              "\n",
              "  <div id=\"df-053746e8-0fbb-4995-8e01-13e893952223\">\n",
              "    <div class=\"colab-df-container\">\n",
              "      <div>\n",
              "<style scoped>\n",
              "    .dataframe tbody tr th:only-of-type {\n",
              "        vertical-align: middle;\n",
              "    }\n",
              "\n",
              "    .dataframe tbody tr th {\n",
              "        vertical-align: top;\n",
              "    }\n",
              "\n",
              "    .dataframe thead th {\n",
              "        text-align: right;\n",
              "    }\n",
              "</style>\n",
              "<table border=\"1\" class=\"dataframe\">\n",
              "  <thead>\n",
              "    <tr style=\"text-align: right;\">\n",
              "      <th></th>\n",
              "      <th>sepal_length</th>\n",
              "      <th>sepal_width</th>\n",
              "      <th>petal_length</th>\n",
              "      <th>petal_width</th>\n",
              "      <th>target</th>\n",
              "    </tr>\n",
              "  </thead>\n",
              "  <tbody>\n",
              "    <tr>\n",
              "      <th>0</th>\n",
              "      <td>5.1</td>\n",
              "      <td>3.5</td>\n",
              "      <td>1.4</td>\n",
              "      <td>0.2</td>\n",
              "      <td>0</td>\n",
              "    </tr>\n",
              "    <tr>\n",
              "      <th>1</th>\n",
              "      <td>4.9</td>\n",
              "      <td>3.0</td>\n",
              "      <td>1.4</td>\n",
              "      <td>0.2</td>\n",
              "      <td>0</td>\n",
              "    </tr>\n",
              "    <tr>\n",
              "      <th>2</th>\n",
              "      <td>4.7</td>\n",
              "      <td>3.2</td>\n",
              "      <td>1.3</td>\n",
              "      <td>0.2</td>\n",
              "      <td>0</td>\n",
              "    </tr>\n",
              "  </tbody>\n",
              "</table>\n",
              "</div>\n",
              "      <button class=\"colab-df-convert\" onclick=\"convertToInteractive('df-053746e8-0fbb-4995-8e01-13e893952223')\"\n",
              "              title=\"Convert this dataframe to an interactive table.\"\n",
              "              style=\"display:none;\">\n",
              "        \n",
              "  <svg xmlns=\"http://www.w3.org/2000/svg\" height=\"24px\"viewBox=\"0 0 24 24\"\n",
              "       width=\"24px\">\n",
              "    <path d=\"M0 0h24v24H0V0z\" fill=\"none\"/>\n",
              "    <path d=\"M18.56 5.44l.94 2.06.94-2.06 2.06-.94-2.06-.94-.94-2.06-.94 2.06-2.06.94zm-11 1L8.5 8.5l.94-2.06 2.06-.94-2.06-.94L8.5 2.5l-.94 2.06-2.06.94zm10 10l.94 2.06.94-2.06 2.06-.94-2.06-.94-.94-2.06-.94 2.06-2.06.94z\"/><path d=\"M17.41 7.96l-1.37-1.37c-.4-.4-.92-.59-1.43-.59-.52 0-1.04.2-1.43.59L10.3 9.45l-7.72 7.72c-.78.78-.78 2.05 0 2.83L4 21.41c.39.39.9.59 1.41.59.51 0 1.02-.2 1.41-.59l7.78-7.78 2.81-2.81c.8-.78.8-2.07 0-2.86zM5.41 20L4 18.59l7.72-7.72 1.47 1.35L5.41 20z\"/>\n",
              "  </svg>\n",
              "      </button>\n",
              "      \n",
              "  <style>\n",
              "    .colab-df-container {\n",
              "      display:flex;\n",
              "      flex-wrap:wrap;\n",
              "      gap: 12px;\n",
              "    }\n",
              "\n",
              "    .colab-df-convert {\n",
              "      background-color: #E8F0FE;\n",
              "      border: none;\n",
              "      border-radius: 50%;\n",
              "      cursor: pointer;\n",
              "      display: none;\n",
              "      fill: #1967D2;\n",
              "      height: 32px;\n",
              "      padding: 0 0 0 0;\n",
              "      width: 32px;\n",
              "    }\n",
              "\n",
              "    .colab-df-convert:hover {\n",
              "      background-color: #E2EBFA;\n",
              "      box-shadow: 0px 1px 2px rgba(60, 64, 67, 0.3), 0px 1px 3px 1px rgba(60, 64, 67, 0.15);\n",
              "      fill: #174EA6;\n",
              "    }\n",
              "\n",
              "    [theme=dark] .colab-df-convert {\n",
              "      background-color: #3B4455;\n",
              "      fill: #D2E3FC;\n",
              "    }\n",
              "\n",
              "    [theme=dark] .colab-df-convert:hover {\n",
              "      background-color: #434B5C;\n",
              "      box-shadow: 0px 1px 3px 1px rgba(0, 0, 0, 0.15);\n",
              "      filter: drop-shadow(0px 1px 2px rgba(0, 0, 0, 0.3));\n",
              "      fill: #FFFFFF;\n",
              "    }\n",
              "  </style>\n",
              "\n",
              "      <script>\n",
              "        const buttonEl =\n",
              "          document.querySelector('#df-053746e8-0fbb-4995-8e01-13e893952223 button.colab-df-convert');\n",
              "        buttonEl.style.display =\n",
              "          google.colab.kernel.accessAllowed ? 'block' : 'none';\n",
              "\n",
              "        async function convertToInteractive(key) {\n",
              "          const element = document.querySelector('#df-053746e8-0fbb-4995-8e01-13e893952223');\n",
              "          const dataTable =\n",
              "            await google.colab.kernel.invokeFunction('convertToInteractive',\n",
              "                                                     [key], {});\n",
              "          if (!dataTable) return;\n",
              "\n",
              "          const docLinkHtml = 'Like what you see? Visit the ' +\n",
              "            '<a target=\"_blank\" href=https://colab.research.google.com/notebooks/data_table.ipynb>data table notebook</a>'\n",
              "            + ' to learn more about interactive tables.';\n",
              "          element.innerHTML = '';\n",
              "          dataTable['output_type'] = 'display_data';\n",
              "          await google.colab.output.renderOutput(dataTable, element);\n",
              "          const docLink = document.createElement('div');\n",
              "          docLink.innerHTML = docLinkHtml;\n",
              "          element.appendChild(docLink);\n",
              "        }\n",
              "      </script>\n",
              "    </div>\n",
              "  </div>\n",
              "  "
            ]
          },
          "metadata": {},
          "execution_count": 2
        }
      ],
      "source": [
        "#iris 4개의 속성을 2개의 PCA차원으로 압축해 원래 데이터 세트와 압축된 데이터 세트가 어떻게 달라졌는지 확인\n",
        "from sklearn.datasets import load_iris\n",
        "import pandas as pd\n",
        "import matplotlib.pyplot as plt\n",
        "%matplotlib inline\n",
        "\n",
        "iris=load_iris()\n",
        "\n",
        "#넘파이 데이터 세트를 판다스 DataFrame으로 변환\n",
        "columns=['sepal_length','sepal_width','petal_length','petal_width']\n",
        "irisDF=pd.DataFrame(iris.data,columns=columns)\n",
        "irisDF['target']=iris.target\n",
        "irisDF.head(3)"
      ]
    },
    {
      "cell_type": "code",
      "source": [
        "#2차원으로 시각화\n",
        "#setosa는 세모, versicolor은 네모, virginica는 동그라미로 표현\n",
        "markers=['^','s','o']\n",
        "\n",
        "#setosa의 target값은 0, versicolor은 1, virginica는 2. 각 target별로 다른 모양으로 산점도로 표시\n",
        "for i, marker in enumerate(markers):\n",
        "  x_axis_data=irisDF[irisDF['target']==i]['sepal_length']\n",
        "  y_axis_data=irisDF[irisDF['target']==i]['sepal_width']\n",
        "  plt.scatter(x_axis_data,y_axis_data,marker=marker,label=iris.target_names[i])\n",
        "\n",
        "plt.legend()\n",
        "plt.xlabel('sepal length')\n",
        "plt.ylabel('sepal_width')\n",
        "plt.show()\n",
        "#setos는 sepal width가 3.0보다 크고, sepal length가 6.0 이하인 곳에 일정하게 분포\n",
        "#versi랑 virgin는 비슷하게 분포돼있어 분류가 어려움"
      ],
      "metadata": {
        "colab": {
          "base_uri": "https://localhost:8080/",
          "height": 282
        },
        "id": "XZYwXuUaT-8F",
        "outputId": "28709185-f2fb-40b8-d16d-e745867f729b"
      },
      "execution_count": null,
      "outputs": [
        {
          "output_type": "display_data",
          "data": {
            "text/plain": [
              "<Figure size 432x288 with 1 Axes>"
            ],
            "image/png": "[encoded data removed]"
          },
          "metadata": {
            "needs_background": "light"
          }
        }
      ]
    },
    {
      "cell_type": "code",
      "source": [
        "#개별 속성 함께 스케일링\n",
        "from sklearn.preprocessing import StandardScaler\n",
        "\n",
        "#Target 값을 제외한 모든 속성 값을 StandardScaler을 통해 표준 정규 분포를 가지는 값들로 변환\n",
        "iris_scaled=StandardScaler().fit_transform(irisDF.iloc[:,:-1])\n"
      ],
      "metadata": {
        "id": "H_8uFiw1VB75"
      },
      "execution_count": null,
      "outputs": []
    },
    {
      "cell_type": "code",
      "source": [
        "#스케일링 적용된 데이터 세트에 PCA 적용해 붓꽃 데이터를 2차원 PCA 데이터로 변환\n",
        "from sklearn.decomposition import PCA\n",
        "pca=PCA(n_components=2)\n",
        "\n",
        "#fit()과 transform()을 호출해 PCA 변환 데이터 반환\n",
        "pca.fit(iris_scaled)\n",
        "iris_pca=pca.transform(iris_scaled)\n",
        "print(iris_pca.shape)\n"
      ],
      "metadata": {
        "colab": {
          "base_uri": "https://localhost:8080/"
        },
        "id": "NGCRlpGIVUKl",
        "outputId": "96e82159-9fc6-4222-9742-e992f6afdec2"
      },
      "execution_count": null,
      "outputs": [
        {
          "output_type": "stream",
          "name": "stdout",
          "text": [
            "(150, 2)\n"
          ]
        }
      ]
    },
    {
      "cell_type": "code",
      "source": [
        "#PCA변환된 데이터의 칼럼 명을 각각 pca_component_1,pca_component_2로 명명\n",
        "pca_columns=['pca_component_1','pca_component_2']\n",
        "irisDF_pca=pd.DataFrame(iris_pca,columns=pca_columns)\n",
        "irisDF_pca['target']=iris.target\n",
        "irisDF_pca.head(3)"
      ],
      "metadata": {
        "colab": {
          "base_uri": "https://localhost:8080/",
          "height": 143
        },
        "id": "V8elA9yvXhiD",
        "outputId": "f748f233-4ca6-4427-b6dd-b76c9968f363"
      },
      "execution_count": null,
      "outputs": [
        {
          "output_type": "execute_result",
          "data": {
            "text/plain": [
              "   pca_component_1  pca_component_2  target\n",
              "0        -2.264703         0.480027       0\n",
              "1        -2.080961        -0.674134       0\n",
              "2        -2.364229        -0.341908       0"
            ],
            "text/html": [
              "\n",
              "  <div id=\"df-909aabbe-1a6f-4298-abe6-9c2f6cfca3a6\">\n",
              "    <div class=\"colab-df-container\">\n",
              "      <div>\n",
              "<style scoped>\n",
              "    .dataframe tbody tr th:only-of-type {\n",
              "        vertical-align: middle;\n",
              "    }\n",
              "\n",
              "    .dataframe tbody tr th {\n",
              "        vertical-align: top;\n",
              "    }\n",
              "\n",
              "    .dataframe thead th {\n",
              "        text-align: right;\n",
              "    }\n",
              "</style>\n",
              "<table border=\"1\" class=\"dataframe\">\n",
              "  <thead>\n",
              "    <tr style=\"text-align: right;\">\n",
              "      <th></th>\n",
              "      <th>pca_component_1</th>\n",
              "      <th>pca_component_2</th>\n",
              "      <th>target</th>\n",
              "    </tr>\n",
              "  </thead>\n",
              "  <tbody>\n",
              "    <tr>\n",
              "      <th>0</th>\n",
              "      <td>-2.264703</td>\n",
              "      <td>0.480027</td>\n",
              "      <td>0</td>\n",
              "    </tr>\n",
              "    <tr>\n",
              "      <th>1</th>\n",
              "      <td>-2.080961</td>\n",
              "      <td>-0.674134</td>\n",
              "      <td>0</td>\n",
              "    </tr>\n",
              "    <tr>\n",
              "      <th>2</th>\n",
              "      <td>-2.364229</td>\n",
              "      <td>-0.341908</td>\n",
              "      <td>0</td>\n",
              "    </tr>\n",
              "  </tbody>\n",
              "</table>\n",
              "</div>\n",
              "      <button class=\"colab-df-convert\" onclick=\"convertToInteractive('df-909aabbe-1a6f-4298-abe6-9c2f6cfca3a6')\"\n",
              "              title=\"Convert this dataframe to an interactive table.\"\n",
              "              style=\"display:none;\">\n",
              "        \n",
              "  <svg xmlns=\"http://www.w3.org/2000/svg\" height=\"24px\"viewBox=\"0 0 24 24\"\n",
              "       width=\"24px\">\n",
              "    <path d=\"M0 0h24v24H0V0z\" fill=\"none\"/>\n",
              "    <path d=\"M18.56 5.44l.94 2.06.94-2.06 2.06-.94-2.06-.94-.94-2.06-.94 2.06-2.06.94zm-11 1L8.5 8.5l.94-2.06 2.06-.94-2.06-.94L8.5 2.5l-.94 2.06-2.06.94zm10 10l.94 2.06.94-2.06 2.06-.94-2.06-.94-.94-2.06-.94 2.06-2.06.94z\"/><path d=\"M17.41 7.96l-1.37-1.37c-.4-.4-.92-.59-1.43-.59-.52 0-1.04.2-1.43.59L10.3 9.45l-7.72 7.72c-.78.78-.78 2.05 0 2.83L4 21.41c.39.39.9.59 1.41.59.51 0 1.02-.2 1.41-.59l7.78-7.78 2.81-2.81c.8-.78.8-2.07 0-2.86zM5.41 20L4 18.59l7.72-7.72 1.47 1.35L5.41 20z\"/>\n",
              "  </svg>\n",
              "      </button>\n",
              "      \n",
              "  <style>\n",
              "    .colab-df-container {\n",
              "      display:flex;\n",
              "      flex-wrap:wrap;\n",
              "      gap: 12px;\n",
              "    }\n",
              "\n",
              "    .colab-df-convert {\n",
              "      background-color: #E8F0FE;\n",
              "      border: none;\n",
              "      border-radius: 50%;\n",
              "      cursor: pointer;\n",
              "      display: none;\n",
              "      fill: #1967D2;\n",
              "      height: 32px;\n",
              "      padding: 0 0 0 0;\n",
              "      width: 32px;\n",
              "    }\n",
              "\n",
              "    .colab-df-convert:hover {\n",
              "      background-color: #E2EBFA;\n",
              "      box-shadow: 0px 1px 2px rgba(60, 64, 67, 0.3), 0px 1px 3px 1px rgba(60, 64, 67, 0.15);\n",
              "      fill: #174EA6;\n",
              "    }\n",
              "\n",
              "    [theme=dark] .colab-df-convert {\n",
              "      background-color: #3B4455;\n",
              "      fill: #D2E3FC;\n",
              "    }\n",
              "\n",
              "    [theme=dark] .colab-df-convert:hover {\n",
              "      background-color: #434B5C;\n",
              "      box-shadow: 0px 1px 3px 1px rgba(0, 0, 0, 0.15);\n",
              "      filter: drop-shadow(0px 1px 2px rgba(0, 0, 0, 0.3));\n",
              "      fill: #FFFFFF;\n",
              "    }\n",
              "  </style>\n",
              "\n",
              "      <script>\n",
              "        const buttonEl =\n",
              "          document.querySelector('#df-909aabbe-1a6f-4298-abe6-9c2f6cfca3a6 button.colab-df-convert');\n",
              "        buttonEl.style.display =\n",
              "          google.colab.kernel.accessAllowed ? 'block' : 'none';\n",
              "\n",
              "        async function convertToInteractive(key) {\n",
              "          const element = document.querySelector('#df-909aabbe-1a6f-4298-abe6-9c2f6cfca3a6');\n",
              "          const dataTable =\n",
              "            await google.colab.kernel.invokeFunction('convertToInteractive',\n",
              "                                                     [key], {});\n",
              "          if (!dataTable) return;\n",
              "\n",
              "          const docLinkHtml = 'Like what you see? Visit the ' +\n",
              "            '<a target=\"_blank\" href=https://colab.research.google.com/notebooks/data_table.ipynb>data table notebook</a>'\n",
              "            + ' to learn more about interactive tables.';\n",
              "          element.innerHTML = '';\n",
              "          dataTable['output_type'] = 'display_data';\n",
              "          await google.colab.output.renderOutput(dataTable, element);\n",
              "          const docLink = document.createElement('div');\n",
              "          docLink.innerHTML = docLinkHtml;\n",
              "          element.appendChild(docLink);\n",
              "        }\n",
              "      </script>\n",
              "    </div>\n",
              "  </div>\n",
              "  "
            ]
          },
          "metadata": {},
          "execution_count": 10
        }
      ]
    },
    {
      "cell_type": "code",
      "source": [
        "#PCA 변환된 데이터 세트 2차원 상에서 시각화\n",
        "#setosa는 세모 versicolor는 네모 virginica는 동그라미로 표시\n",
        "markers=['^','s','o']\n",
        "\n",
        "#pca_component_1을 x축,pc_component_2를 y축으로 scatter plot 수행\n",
        "for i, marker in enumerate(markers):\n",
        "  x_axis_data=irisDF_pca[irisDF_pca['target']==i]['pca_component_1']\n",
        "  y_axis_data=irisDF_pca[irisDF_pca['target']==i]['pca_component_2']\n",
        "  plt.scatter(x_axis_data,y_axis_data,marker=marker,label=iris.target_names[i])\n",
        "\n",
        "plt.legend()\n",
        "plt.xlabel('pca_component_1')\n",
        "plt.ylabel('pca_component_2')\n",
        "plt.show()"
      ],
      "metadata": {
        "colab": {
          "base_uri": "https://localhost:8080/",
          "height": 280
        },
        "id": "wHWQFoVAX5IC",
        "outputId": "7f734376-d2d1-4901-8e9d-d607eddc2007"
      },
      "execution_count": null,
      "outputs": [
        {
          "output_type": "display_data",
          "data": {
            "text/plain": [
              "<Figure size 432x288 with 1 Axes>"
            ],
            "image/png": "[encoded data removed]"
          },
          "metadata": {
            "needs_background": "light"
          }
        }
      ]
    },
    {
      "cell_type": "code",
      "source": [
        "#PCA component별로 원본 데이터의 변동성 얼마나 반영하고 있는지\n",
        "print(pca.explained_variance_ratio_)"
      ],
      "metadata": {
        "colab": {
          "base_uri": "https://localhost:8080/"
        },
        "id": "VTRyPUoJZB7X",
        "outputId": "b94a11b3-459a-4e34-d612-c240b060ca5f"
      },
      "execution_count": null,
      "outputs": [
        {
          "output_type": "stream",
          "name": "stdout",
          "text": [
            "[0.72962445 0.22850762]\n"
          ]
        }
      ]
    },
    {
      "cell_type": "code",
      "source": [
        "#원본 붓꽃 데이터에 랜덤 포레스트 적용\n",
        "from sklearn.ensemble import RandomForestClassifier\n",
        "from sklearn.model_selection import cross_val_score\n",
        "import numpy as np\n",
        "\n",
        "rcf=RandomForestClassifier(random_state=156)\n",
        "scores=cross_val_score(rcf,iris.data,iris.target,scoring='accuracy',cv=3)\n",
        "print('원본 데이터 교차 검증 개별 정확도:',scores)\n",
        "print('원본 데이터 평균 정확도:',np.mean(scores))"
      ],
      "metadata": {
        "colab": {
          "base_uri": "https://localhost:8080/"
        },
        "id": "u4DVJS3OZRV2",
        "outputId": "fd74c2ce-cf3f-4849-9f79-5b6e0760c995"
      },
      "execution_count": null,
      "outputs": [
        {
          "output_type": "stream",
          "name": "stdout",
          "text": [
            "원본 데이터 교차 검증 개별 정확도: [0.98 0.94 0.96]\n",
            "원본 데이터 평균 정확도: 0.96\n"
          ]
        }
      ]
    },
    {
      "cell_type": "code",
      "source": [
        "#기존 4차원 데이터를 2차원으로 PCA 변환한 데이터 세트에 랜덤 포레스트 적용\n",
        "pca_X=irisDF_pca[['pca_component_1','pca_component_2']]\n",
        "scores_pca=cross_val_score(rcf,pca_X,iris.target,scoring='accuracy',cv=3)\n",
        "print('PCA 변환 데이터 교차 검증 개별 정확도:',scores_pca)\n",
        "print('PCA 변환 데이터 평균 정확도:',np.mean(scores_pca))\n",
        "#원본 데이터 세트 대비 예측 정확도 PCA 변환 차원 개수 따라 예측 성능 떨어짐\n"
      ],
      "metadata": {
        "colab": {
          "base_uri": "https://localhost:8080/"
        },
        "id": "6BAgcX7nZuYO",
        "outputId": "da5627ef-af01-40a7-a9ff-34b0d158b3ee"
      },
      "execution_count": null,
      "outputs": [
        {
          "output_type": "stream",
          "name": "stdout",
          "text": [
            "PCA 변환 데이터 교차 검증 개별 정확도: [0.88 0.88 0.88]\n",
            "PCA 변환 데이터 평균 정확도: 0.88\n"
          ]
        }
      ]
    },
    {
      "cell_type": "code",
      "source": [
        "#좀 더 많은 피처 가진 데이터 세트를 적은 PCA 컴포넌트 기반으로 변환한 뒤 예측 영향도가 어떠헥 되는지 변환된 PCA 데이터 세트에 기반해서 비교\n",
        "#header 로 의미없는 첫 행 제거,  iloc로 기존 id제거\n",
        "import pandas as pd\n",
        "\n",
        "df=pd.read_excel('credit_card.xls',header=1,sheet_name='Data').iloc[0:,1:]\n",
        "print(df.shape)\n",
        "df.head(3)"
      ],
      "metadata": {
        "id": "NpiDucOEaU6N"
      },
      "execution_count": null,
      "outputs": []
    },
    {
      "cell_type": "code",
      "source": [
        "#target 속성인 default 칼럼 y_target 변수로 별도 저장 후 피처 데이터는 default 제외 별도의 DF 생성\n",
        "df.rename(columns={'PAY_0':'PAY_1','default payment next month':'default'},inplace=True)\n",
        "y_target=df['default']\n",
        "X_features=df.drop('default',axis=1)"
      ],
      "metadata": {
        "id": "Haal1llNclNv"
      },
      "execution_count": null,
      "outputs": []
    },
    {
      "cell_type": "code",
      "source": [
        "import seaborn as sns\n",
        "import matplotlib.pyplot as plt\n",
        "%matplotlib inline\n",
        "\n",
        "corr=X_features.corr()\n",
        "plt.figure(figsize=(14,14))\n",
        "sns.heatmap(corr,annot=True,fmt='.1g')"
      ],
      "metadata": {
        "id": "lzrt-G40dA8H"
      },
      "execution_count": null,
      "outputs": []
    },
    {
      "cell_type": "code",
      "source": [
        "from sklearn.decomposition import PCA\n",
        "from sklearn.preprocessing import StandardScaler\n",
        "\n",
        "#BILL_AMT1~BILL_AMT6까지의 6개의 속성명 생성\n",
        "cols_bill['BILL_AMT'+str(i) for i in range(1,7)]\n",
        "print('대상 속성명:',cols_bill)\n",
        "\n",
        "#2개의 PCA 속성을 가진 PCA 객체를 생성하고,explained_variance_ratio_계산을 위해fit() 호출\n",
        "scaler=StandardScaler()\n",
        "df_cols_scaled=scaler.fit(X_features[cols_bill])\n",
        "pca=PCA(n_components=2)\n",
        "pca.fit(df_cols_scaled)\n",
        "print('PCA Component별 변동성:',pca.explained_variance_ratio_)\n"
      ],
      "metadata": {
        "id": "ySRGsWpFdjKG"
      },
      "execution_count": null,
      "outputs": []
    },
    {
      "cell_type": "code",
      "source": [
        "#원본 데이터 세트와 6개의 컴포넌트로 PCA 변환한 데이터 세트의 분류 예측 결과를 상호 비교\n",
        "import numpy as np\n",
        "from sklearn.ensemble import RandomForestClassifier\n",
        "from sklearn.model_selection import cross_val_score\n",
        "\n",
        "rcf=RandomForestClassifier(n_estimators=300,random_state=156)\n",
        "scores=cross_val_score(rcf,X_features,y_target,scoring='accuracy',cv=3)\n",
        "\n",
        "print('CV=3인 경우의 개별 Fold세트 별 정확도:',scores)\n",
        "print('평균 정확도:{0:.4f}'.format(np.mean(scores))"
      ],
      "metadata": {
        "id": "t18kKooPeTFL"
      },
      "execution_count": null,
      "outputs": []
    },
    {
      "cell_type": "code",
      "source": [
        "#6개의 컴포넌트로 PCA 변환한 데이터 세트에 대해서 동일하게 분류 예측 적용\n",
        "from sklearn.decomposition import PCA\n",
        "from sklearn.preprocessiog import StandardScaler\n",
        "\n",
        "#원본 데이터 세트에 먼저 StandardScaler 적용\n",
        "scaler=StandardScaler()\n",
        "df_scaled=scaler\n",
        "\n",
        "#6개의 컴포넌트를 가진 PCA변환을 수행하고 cross_val_score()로 분류 예측 수행\n",
        "pca=PCA(n_components=6)\n",
        "df_pca=pca.fit_transform(df_scaled)\n",
        "scores_pca=cross_val_score(rcf,df_pca,y_target,scoring='accuracy',cv=3)\n",
        "\n",
        "print('CV=3인 경우의 PCA 변환된 개별 Fold 세트별 정확도:',scores_pca)\n",
        "print('PCA 변환 데이터 세트 평균 정확도:{0:.4f}'.format(np.mean(scores_pca)))"
      ],
      "metadata": {
        "id": "TTRCdEjte4xF"
      },
      "execution_count": null,
      "outputs": []
    },
    {
      "cell_type": "markdown",
      "source": [
        "pca는 차원 축소를 통해 데이터를 쉽게 인지하는데 활용할 수 있지만, 얼굴 인식과 같은 컴퓨터 비전 분야에 더 활발하게 적용\n",
        "> ### LDA\n",
        ":선형 판별 분석법으로 불림, PCA와 매우 유사\n",
        "\n"
      ],
      "metadata": {
        "id": "kzE7aRjEfwKq"
      }
    },
    {
      "cell_type": "code",
      "source": [
        "#붓꽃 데이터 세트를 사이킷런의 LDA 이용해 변환하고 그결과를 품종별로 시각화\n",
        "from sklearn.discriminant_analysis import LinearDiscriminantAnalysis\n",
        "from sklearn.preprocessing import StandardScaler\n",
        "from sklearn.datasets import load_iris\n",
        "\n",
        "iris=load_iris()\n",
        "iris_scaled=StandardScaler().fit_transform(iris.data)"
      ],
      "metadata": {
        "id": "JAuXJwM2f55q"
      },
      "execution_count": null,
      "outputs": []
    },
    {
      "cell_type": "code",
      "source": [
        "#2개의 컴포넌트로 붓꽃 데이터를 LDA변환\n",
        "lda=LinearDiscriminantAnalysis(n_components=2)\n",
        "lda.fit(iris_scaled,iris.target)\n",
        "iris_lda=lda.transform(iris_scaled)\n",
        "print(iris_lda.shape)"
      ],
      "metadata": {
        "colab": {
          "base_uri": "https://localhost:8080/"
        },
        "id": "VyeYtPyB9iUe",
        "outputId": "a130b870-cdff-4f87-b383-f8e9710c3356"
      },
      "execution_count": null,
      "outputs": [
        {
          "output_type": "stream",
          "name": "stdout",
          "text": [
            "(150, 2)\n"
          ]
        }
      ]
    },
    {
      "cell_type": "code",
      "source": [
        "#LDA 변환된 입력 데이터 값을 2차원 평면에 품종별로 표현\n",
        "import pandas as pd\n",
        "import matplotlib.pyplot as plt\n",
        "%matplotlib inline\n",
        "\n",
        "lda_columns=['lda_component_1','lda_component_2']\n",
        "irisDF_lda=pd.DataFrame(iris_lda,columns=lda_columns)\n",
        "irisDF_lda['target']=iris.target\n",
        "\n",
        "#setosa는 세모,versicolor은 네모, virginica는 동그라미\n",
        "markers=['^','s','o']\n",
        "\n",
        "#setosa의 target값은 0, versicolor은 1, virginica는 2. 각 target별로 다른 모양으로 산점도로 표시\n",
        "for i, marker in enumerate(markers):\n",
        "  x_axis_data=irisDF_lda[irisDF_lda['target']==i]['lda_component_1']\n",
        "  y_axis_data=irisDF_lda[irisDF_lda['target']==i]['lda_component_2']\n",
        "  plt.scatter(x_axis_data,y_axis_data,marker=marker,label=iris.target_names[i])\n",
        "\n",
        "plt.legend(loc='upper right')\n",
        "plt.xlabel('lda_component_1')\n",
        "plt.ylabel('lda_component_2')\n",
        "plt.show()"
      ],
      "metadata": {
        "colab": {
          "base_uri": "https://localhost:8080/",
          "height": 284
        },
        "id": "tUiNkaTv90U5",
        "outputId": "64def2ee-a426-4b67-d1a8-6a88770ad9e4"
      },
      "execution_count": null,
      "outputs": [
        {
          "output_type": "display_data",
          "data": {
            "text/plain": [
              "<Figure size 432x288 with 1 Axes>"
            ],
            "image/png": "[encoded data removed]"
          },
          "metadata": {
            "needs_background": "light"
          }
        }
      ]
    }
  ]
}