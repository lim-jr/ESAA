{
  "nbformat": 4,
  "nbformat_minor": 0,
  "metadata": {
    "colab": {
      "provenance": [],
      "mount_file_id": "1uleY-vbSuAYowsJCE6BQl7oOsJG8mR_k",
      "authorship_tag": "ABX9TyM+olAJUnkvRD3IOCLSkXyy",
      "include_colab_link": true
    },
    "kernelspec": {
      "name": "python3",
      "display_name": "Python 3"
    },
    "language_info": {
      "name": "python"
    }
  },
  "cells": [
    {
      "cell_type": "markdown",
      "metadata": {
        "id": "view-in-github",
        "colab_type": "text"
      },
      "source": [
        "<a href=\"https://colab.research.google.com/github/lim-jr/ESAA/blob/main/1111%EA%B8%88%EA%B3%BC%EC%A0%9C_%EB%A8%B8%EC%8B%A0%EB%9F%AC%EB%8B%9D_%EC%99%84%EB%B2%BD%EA%B0%80%EC%9D%B4%EB%93%9C(201_211).ipynb\" target=\"_parent\"><img src=\"https://colab.research.google.com/assets/colab-badge.svg\" alt=\"Open In Colab\"/></a>"
      ]
    },
    {
      "cell_type": "code",
      "execution_count": null,
      "metadata": {
        "id": "JUt2-JeHos6-"
      },
      "outputs": [],
      "source": []
    },
    {
      "cell_type": "markdown",
      "source": [
        "# 결정트리 실습  \n",
        "  - 사용자 행동 인식 데이터 세트"
      ],
      "metadata": {
        "id": "pdGUuA-npC7w"
      }
    },
    {
      "cell_type": "markdown",
      "source": [],
      "metadata": {
        "id": "jcXVkWGgpDKY"
      }
    },
    {
      "cell_type": "code",
      "source": [
        "## 1. 데이터셋 준비 \n",
        "## 1-1. 다운로드하고 불러오기\n",
        "\n",
        "import pandas as pd \n",
        "import matplotlib.pyplot as plt\n",
        "%matplotlib inline\n",
        "\n",
        "# features.txt 파일에는 피처 이름 index와 피처명이 공백으로 분리되어 있음. 이를 DF로 로드\n",
        "feature_name_df = pd.read_csv(\"/content/drive/MyDrive/PyColab_ESAA/데이터셋/features.txt\", sep='\\s+', \n",
        "                              header=None, names=['column_index', 'column_name'])\n",
        "# 피처명 index를 제거하고, 피처명만 리스트 객체로 생성한 뒤 샘플로 10개만 추출\n",
        "#feature_name = feature_name_df.drop(['column_index'], axis=1) : 리스트가 아님\n",
        "feature_name = feature_name_df.iloc[:,1].values.tolist()\n",
        "print('전체 피처명에서 10개만 추출:', feature_name[:10])"
      ],
      "metadata": {
        "colab": {
          "base_uri": "https://localhost:8080/"
        },
        "id": "6rzkgavarCIb",
        "outputId": "70e63b86-3dbc-4961-fb6f-2affab28de08"
      },
      "execution_count": 6,
      "outputs": [
        {
          "output_type": "stream",
          "name": "stdout",
          "text": [
            "전체 피처명에서 10개만 추출: ['tBodyAcc-mean()-X', 'tBodyAcc-mean()-Y', 'tBodyAcc-mean()-Z', 'tBodyAcc-std()-X', 'tBodyAcc-std()-Y', 'tBodyAcc-std()-Z', 'tBodyAcc-mad()-X', 'tBodyAcc-mad()-Y', 'tBodyAcc-mad()-Z', 'tBodyAcc-max()-X']\n"
          ]
        }
      ]
    },
    {
      "cell_type": "markdown",
      "source": [
        "* 데이터셋의 피처명 분석  \n",
        "1) 인체의 움직임과 관련된 속성의 평균/표준편차가 X,Y,Z축으로 돼있음을 유추할 수 있음  \n",
        "2) 중복된 피처명을 가지는 케이스 있는데, 원본에 _1, _2를 추가하여 오류가 발생하지 않도록  "
      ],
      "metadata": {
        "id": "_IZCVDNLtifU"
      }
    },
    {
      "cell_type": "code",
      "source": [
        "## 1-2. 전처리\n",
        "\n",
        "# 중복된 피처명이 얼마나 있는지 알아보기\n",
        "feature_dup_df = feature_name_df.groupby('column_name').count()\n",
        "print(feature_dup_df.head(5))\n",
        "\n",
        "print(feature_dup_df[feature_dup_df['column_index']>1].head(5))\n",
        "print(feature_dup_df[feature_dup_df['column_index']>1].count())"
      ],
      "metadata": {
        "colab": {
          "base_uri": "https://localhost:8080/"
        },
        "id": "8WO6zn78rCL1",
        "outputId": "3560b335-760f-4d27-a19a-dfa45c3daed4"
      },
      "execution_count": 11,
      "outputs": [
        {
          "output_type": "stream",
          "name": "stdout",
          "text": [
            "                                      column_index\n",
            "column_name                                       \n",
            "angle(X,gravityMean)                             1\n",
            "angle(Y,gravityMean)                             1\n",
            "angle(Z,gravityMean)                             1\n",
            "angle(tBodyAccJerkMean),gravityMean)             1\n",
            "angle(tBodyAccMean,gravity)                      1\n",
            "                              column_index\n",
            "column_name                               \n",
            "fBodyAcc-bandsEnergy()-1,16              3\n",
            "fBodyAcc-bandsEnergy()-1,24              3\n",
            "fBodyAcc-bandsEnergy()-1,8               3\n",
            "fBodyAcc-bandsEnergy()-17,24             3\n",
            "fBodyAcc-bandsEnergy()-17,32             3\n",
            "column_index    42\n",
            "dtype: int64\n"
          ]
        }
      ]
    },
    {
      "cell_type": "markdown",
      "source": [
        "* 그룹화해서 개수 세어봤을 때  \n",
        "* 42개의 피처명이 중복돼어 있음. "
      ],
      "metadata": {
        "id": "gJ-lyp12vKGS"
      }
    },
    {
      "cell_type": "code",
      "source": [
        "# 중복된 피처명에 대해서 원본 피처명에 _1, _2를 추가로 부여\n",
        "\n",
        "def get_new_feature_name_df(old_feature_name_df):\n",
        "  feature_dup_df = pd.DataFrame(data=old_feature_name_df.groupby('column_name').cumcount(),\n",
        "                                columns=['dup_cnt'])\n",
        "  feature_dup_df = feature_dup_df.reset_index()\n",
        "  new_feature_name_df = pd.merge(old_feature_name_df.reset_index(), feature_dup_df, how='outer')\n",
        "  new_feature_name_df['column_name'] = new_feature_name_df[['column_name', \n",
        "                                                             'dup_cnt']].apply(lambda x : x[0]+'_'+str(x[1])\n",
        "                                                             if x[1]>0 else x[0], axis=1)\n",
        "  new_feature_name_df = new_feature_name_df.drop(['index'], axis=1)\n",
        "  return new_feature_name_df"
      ],
      "metadata": {
        "id": "FQ5tvpbGrCc5"
      },
      "execution_count": 25,
      "outputs": []
    },
    {
      "cell_type": "markdown",
      "source": [],
      "metadata": {
        "id": "hD4r2EOM0-e8"
      }
    },
    {
      "cell_type": "markdown",
      "source": [],
      "metadata": {
        "id": "acKp0Wto0-iW"
      }
    },
    {
      "cell_type": "code",
      "source": [
        "# 1-3. 학습용 데이터, 테스트용 데이터 준비\n",
        "\n",
        "import pandas as pd\n",
        "\n",
        "def get_human_dataset():\n",
        "    # 각 데이터 파일들은 공백으로 분리되어 있으므로 read_csv에서 공백문자를 sep으로 할당\n",
        "    feature_name_df = pd.read_csv('/content/drive/MyDrive/PyColab_ESAA/데이터셋/features.txt', sep='\\s+',\n",
        "                                                     header=None, names=['column_index', 'column_name'])\n",
        "    # 중복된 피처명을 수정하는 get_new_feature_name_df()를 이용, 신규 피처명 DataFrame 생성\n",
        "    new_feature_name_df = get_new_feature_name_df(feature_name_df)\n",
        "\n",
        "    # 데이터프레임에 피처명을 컬럼으로 뷰여하기 위해 리스트 객체로 다시 반환\n",
        "    feature_name = new_feature_name_df.iloc[:, 1].values.tolist()\n",
        "    \n",
        "    # 학습 피처 데이터세트와 테스트 피처 데이터를 데이터프레임으로 로딩\n",
        "    # 컬럼명은 feature_name 적용\n",
        "    X_train = pd.read_csv('/content/drive/MyDrive/PyColab_ESAA/데이터셋/train/X_train.txt', sep='\\s+', names=feature_name)\n",
        "    X_test = pd.read_csv('/content/drive/MyDrive/PyColab_ESAA/데이터셋/test/X_test.txt', sep='\\s+', names=feature_name)\n",
        "    \n",
        "    # 학습 레이블과 테스트 레이블 데이터를 데이터 프레임으로 로딩, 컬럼명은 action으로 부여\n",
        "    y_train = pd.read_csv('/content/drive/MyDrive/PyColab_ESAA/데이터셋/train/y_train.txt', sep='\\s+', names=['action'])\n",
        "    y_test = pd.read_csv('/content/drive/MyDrive/PyColab_ESAA/데이터셋/test/y_test.txt', sep='\\s+', names=['action'])\n",
        "    \n",
        "    # 로드된 학습/테스트용 데이터프레임을 모두 반환\n",
        "    return X_train, X_test, y_train, y_test\n",
        "\n",
        "# 학습/테스트용 데이터 프레임 반환\n",
        "X_train, X_test, y_train, y_test = get_human_dataset()"
      ],
      "metadata": {
        "id": "LMf44jAm07CS"
      },
      "execution_count": 27,
      "outputs": []
    },
    {
      "cell_type": "code",
      "source": [
        "print('## 학습용 피처 데이터셋 info()')\n",
        "print(X_train.info())\n",
        "X_train.head(3)"
      ],
      "metadata": {
        "colab": {
          "base_uri": "https://localhost:8080/",
          "height": 381
        },
        "id": "oD5IW1n807Fx",
        "outputId": "b5ec7b74-a955-46c1-dfce-e303faf8fe14"
      },
      "execution_count": 34,
      "outputs": [
        {
          "output_type": "stream",
          "name": "stdout",
          "text": [
            "## 학습용 피처 데이터셋 info()\n",
            "<class 'pandas.core.frame.DataFrame'>\n",
            "RangeIndex: 7352 entries, 0 to 7351\n",
            "Columns: 561 entries, tBodyAcc-mean()-X to angle(Z,gravityMean)\n",
            "dtypes: float64(561)\n",
            "memory usage: 31.5 MB\n",
            "None\n"
          ]
        },
        {
          "output_type": "execute_result",
          "data": {
            "text/plain": [
              "   tBodyAcc-mean()-X  tBodyAcc-mean()-Y  tBodyAcc-mean()-Z  tBodyAcc-std()-X  \\\n",
              "0           0.288585          -0.020294          -0.132905         -0.995279   \n",
              "1           0.278419          -0.016411          -0.123520         -0.998245   \n",
              "2           0.279653          -0.019467          -0.113462         -0.995380   \n",
              "\n",
              "   tBodyAcc-std()-Y  tBodyAcc-std()-Z  tBodyAcc-mad()-X  tBodyAcc-mad()-Y  \\\n",
              "0         -0.983111         -0.913526         -0.995112         -0.983185   \n",
              "1         -0.975300         -0.960322         -0.998807         -0.974914   \n",
              "2         -0.967187         -0.978944         -0.996520         -0.963668   \n",
              "\n",
              "   tBodyAcc-mad()-Z  tBodyAcc-max()-X  ...  fBodyBodyGyroJerkMag-meanFreq()  \\\n",
              "0         -0.923527         -0.934724  ...                        -0.074323   \n",
              "1         -0.957686         -0.943068  ...                         0.158075   \n",
              "2         -0.977469         -0.938692  ...                         0.414503   \n",
              "\n",
              "   fBodyBodyGyroJerkMag-skewness()  fBodyBodyGyroJerkMag-kurtosis()  \\\n",
              "0                        -0.298676                        -0.710304   \n",
              "1                        -0.595051                        -0.861499   \n",
              "2                        -0.390748                        -0.760104   \n",
              "\n",
              "   angle(tBodyAccMean,gravity)  angle(tBodyAccJerkMean),gravityMean)  \\\n",
              "0                    -0.112754                              0.030400   \n",
              "1                     0.053477                             -0.007435   \n",
              "2                    -0.118559                              0.177899   \n",
              "\n",
              "   angle(tBodyGyroMean,gravityMean)  angle(tBodyGyroJerkMean,gravityMean)  \\\n",
              "0                         -0.464761                             -0.018446   \n",
              "1                         -0.732626                              0.703511   \n",
              "2                          0.100699                              0.808529   \n",
              "\n",
              "   angle(X,gravityMean)  angle(Y,gravityMean)  angle(Z,gravityMean)  \n",
              "0             -0.841247              0.179941             -0.058627  \n",
              "1             -0.844788              0.180289             -0.054317  \n",
              "2             -0.848933              0.180637             -0.049118  \n",
              "\n",
              "[3 rows x 561 columns]"
            ],
            "text/html": [
              "\n",
              "  <div id=\"df-e28c7c0d-d6cd-4bfc-a052-795501830915\">\n",
              "    <div class=\"colab-df-container\">\n",
              "      <div>\n",
              "<style scoped>\n",
              "    .dataframe tbody tr th:only-of-type {\n",
              "        vertical-align: middle;\n",
              "    }\n",
              "\n",
              "    .dataframe tbody tr th {\n",
              "        vertical-align: top;\n",
              "    }\n",
              "\n",
              "    .dataframe thead th {\n",
              "        text-align: right;\n",
              "    }\n",
              "</style>\n",
              "<table border=\"1\" class=\"dataframe\">\n",
              "  <thead>\n",
              "    <tr style=\"text-align: right;\">\n",
              "      <th></th>\n",
              "      <th>tBodyAcc-mean()-X</th>\n",
              "      <th>tBodyAcc-mean()-Y</th>\n",
              "      <th>tBodyAcc-mean()-Z</th>\n",
              "      <th>tBodyAcc-std()-X</th>\n",
              "      <th>tBodyAcc-std()-Y</th>\n",
              "      <th>tBodyAcc-std()-Z</th>\n",
              "      <th>tBodyAcc-mad()-X</th>\n",
              "      <th>tBodyAcc-mad()-Y</th>\n",
              "      <th>tBodyAcc-mad()-Z</th>\n",
              "      <th>tBodyAcc-max()-X</th>\n",
              "      <th>...</th>\n",
              "      <th>fBodyBodyGyroJerkMag-meanFreq()</th>\n",
              "      <th>fBodyBodyGyroJerkMag-skewness()</th>\n",
              "      <th>fBodyBodyGyroJerkMag-kurtosis()</th>\n",
              "      <th>angle(tBodyAccMean,gravity)</th>\n",
              "      <th>angle(tBodyAccJerkMean),gravityMean)</th>\n",
              "      <th>angle(tBodyGyroMean,gravityMean)</th>\n",
              "      <th>angle(tBodyGyroJerkMean,gravityMean)</th>\n",
              "      <th>angle(X,gravityMean)</th>\n",
              "      <th>angle(Y,gravityMean)</th>\n",
              "      <th>angle(Z,gravityMean)</th>\n",
              "    </tr>\n",
              "  </thead>\n",
              "  <tbody>\n",
              "    <tr>\n",
              "      <th>0</th>\n",
              "      <td>0.288585</td>\n",
              "      <td>-0.020294</td>\n",
              "      <td>-0.132905</td>\n",
              "      <td>-0.995279</td>\n",
              "      <td>-0.983111</td>\n",
              "      <td>-0.913526</td>\n",
              "      <td>-0.995112</td>\n",
              "      <td>-0.983185</td>\n",
              "      <td>-0.923527</td>\n",
              "      <td>-0.934724</td>\n",
              "      <td>...</td>\n",
              "      <td>-0.074323</td>\n",
              "      <td>-0.298676</td>\n",
              "      <td>-0.710304</td>\n",
              "      <td>-0.112754</td>\n",
              "      <td>0.030400</td>\n",
              "      <td>-0.464761</td>\n",
              "      <td>-0.018446</td>\n",
              "      <td>-0.841247</td>\n",
              "      <td>0.179941</td>\n",
              "      <td>-0.058627</td>\n",
              "    </tr>\n",
              "    <tr>\n",
              "      <th>1</th>\n",
              "      <td>0.278419</td>\n",
              "      <td>-0.016411</td>\n",
              "      <td>-0.123520</td>\n",
              "      <td>-0.998245</td>\n",
              "      <td>-0.975300</td>\n",
              "      <td>-0.960322</td>\n",
              "      <td>-0.998807</td>\n",
              "      <td>-0.974914</td>\n",
              "      <td>-0.957686</td>\n",
              "      <td>-0.943068</td>\n",
              "      <td>...</td>\n",
              "      <td>0.158075</td>\n",
              "      <td>-0.595051</td>\n",
              "      <td>-0.861499</td>\n",
              "      <td>0.053477</td>\n",
              "      <td>-0.007435</td>\n",
              "      <td>-0.732626</td>\n",
              "      <td>0.703511</td>\n",
              "      <td>-0.844788</td>\n",
              "      <td>0.180289</td>\n",
              "      <td>-0.054317</td>\n",
              "    </tr>\n",
              "    <tr>\n",
              "      <th>2</th>\n",
              "      <td>0.279653</td>\n",
              "      <td>-0.019467</td>\n",
              "      <td>-0.113462</td>\n",
              "      <td>-0.995380</td>\n",
              "      <td>-0.967187</td>\n",
              "      <td>-0.978944</td>\n",
              "      <td>-0.996520</td>\n",
              "      <td>-0.963668</td>\n",
              "      <td>-0.977469</td>\n",
              "      <td>-0.938692</td>\n",
              "      <td>...</td>\n",
              "      <td>0.414503</td>\n",
              "      <td>-0.390748</td>\n",
              "      <td>-0.760104</td>\n",
              "      <td>-0.118559</td>\n",
              "      <td>0.177899</td>\n",
              "      <td>0.100699</td>\n",
              "      <td>0.808529</td>\n",
              "      <td>-0.848933</td>\n",
              "      <td>0.180637</td>\n",
              "      <td>-0.049118</td>\n",
              "    </tr>\n",
              "  </tbody>\n",
              "</table>\n",
              "<p>3 rows × 561 columns</p>\n",
              "</div>\n",
              "      <button class=\"colab-df-convert\" onclick=\"convertToInteractive('df-e28c7c0d-d6cd-4bfc-a052-795501830915')\"\n",
              "              title=\"Convert this dataframe to an interactive table.\"\n",
              "              style=\"display:none;\">\n",
              "        \n",
              "  <svg xmlns=\"http://www.w3.org/2000/svg\" height=\"24px\"viewBox=\"0 0 24 24\"\n",
              "       width=\"24px\">\n",
              "    <path d=\"M0 0h24v24H0V0z\" fill=\"none\"/>\n",
              "    <path d=\"M18.56 5.44l.94 2.06.94-2.06 2.06-.94-2.06-.94-.94-2.06-.94 2.06-2.06.94zm-11 1L8.5 8.5l.94-2.06 2.06-.94-2.06-.94L8.5 2.5l-.94 2.06-2.06.94zm10 10l.94 2.06.94-2.06 2.06-.94-2.06-.94-.94-2.06-.94 2.06-2.06.94z\"/><path d=\"M17.41 7.96l-1.37-1.37c-.4-.4-.92-.59-1.43-.59-.52 0-1.04.2-1.43.59L10.3 9.45l-7.72 7.72c-.78.78-.78 2.05 0 2.83L4 21.41c.39.39.9.59 1.41.59.51 0 1.02-.2 1.41-.59l7.78-7.78 2.81-2.81c.8-.78.8-2.07 0-2.86zM5.41 20L4 18.59l7.72-7.72 1.47 1.35L5.41 20z\"/>\n",
              "  </svg>\n",
              "      </button>\n",
              "      \n",
              "  <style>\n",
              "    .colab-df-container {\n",
              "      display:flex;\n",
              "      flex-wrap:wrap;\n",
              "      gap: 12px;\n",
              "    }\n",
              "\n",
              "    .colab-df-convert {\n",
              "      background-color: #E8F0FE;\n",
              "      border: none;\n",
              "      border-radius: 50%;\n",
              "      cursor: pointer;\n",
              "      display: none;\n",
              "      fill: #1967D2;\n",
              "      height: 32px;\n",
              "      padding: 0 0 0 0;\n",
              "      width: 32px;\n",
              "    }\n",
              "\n",
              "    .colab-df-convert:hover {\n",
              "      background-color: #E2EBFA;\n",
              "      box-shadow: 0px 1px 2px rgba(60, 64, 67, 0.3), 0px 1px 3px 1px rgba(60, 64, 67, 0.15);\n",
              "      fill: #174EA6;\n",
              "    }\n",
              "\n",
              "    [theme=dark] .colab-df-convert {\n",
              "      background-color: #3B4455;\n",
              "      fill: #D2E3FC;\n",
              "    }\n",
              "\n",
              "    [theme=dark] .colab-df-convert:hover {\n",
              "      background-color: #434B5C;\n",
              "      box-shadow: 0px 1px 3px 1px rgba(0, 0, 0, 0.15);\n",
              "      filter: drop-shadow(0px 1px 2px rgba(0, 0, 0, 0.3));\n",
              "      fill: #FFFFFF;\n",
              "    }\n",
              "  </style>\n",
              "\n",
              "      <script>\n",
              "        const buttonEl =\n",
              "          document.querySelector('#df-e28c7c0d-d6cd-4bfc-a052-795501830915 button.colab-df-convert');\n",
              "        buttonEl.style.display =\n",
              "          google.colab.kernel.accessAllowed ? 'block' : 'none';\n",
              "\n",
              "        async function convertToInteractive(key) {\n",
              "          const element = document.querySelector('#df-e28c7c0d-d6cd-4bfc-a052-795501830915');\n",
              "          const dataTable =\n",
              "            await google.colab.kernel.invokeFunction('convertToInteractive',\n",
              "                                                     [key], {});\n",
              "          if (!dataTable) return;\n",
              "\n",
              "          const docLinkHtml = 'Like what you see? Visit the ' +\n",
              "            '<a target=\"_blank\" href=https://colab.research.google.com/notebooks/data_table.ipynb>data table notebook</a>'\n",
              "            + ' to learn more about interactive tables.';\n",
              "          element.innerHTML = '';\n",
              "          dataTable['output_type'] = 'display_data';\n",
              "          await google.colab.output.renderOutput(dataTable, element);\n",
              "          const docLink = document.createElement('div');\n",
              "          docLink.innerHTML = docLinkHtml;\n",
              "          element.appendChild(docLink);\n",
              "        }\n",
              "      </script>\n",
              "    </div>\n",
              "  </div>\n",
              "  "
            ]
          },
          "metadata": {},
          "execution_count": 34
        }
      ]
    },
    {
      "cell_type": "code",
      "source": [
        "y_train.value_counts()"
      ],
      "metadata": {
        "colab": {
          "base_uri": "https://localhost:8080/"
        },
        "id": "j3kuvSna45QI",
        "outputId": "cae227ae-0d45-4070-d9ca-ad93715c5a58"
      },
      "execution_count": 32,
      "outputs": [
        {
          "output_type": "execute_result",
          "data": {
            "text/plain": [
              "action\n",
              "6         1407\n",
              "5         1374\n",
              "4         1286\n",
              "1         1226\n",
              "2         1073\n",
              "3          986\n",
              "dtype: int64"
            ]
          },
          "metadata": {},
          "execution_count": 32
        }
      ]
    },
    {
      "cell_type": "markdown",
      "source": [
        "* 학습용 피처 데이터셋 분석  \n",
        "1) 7352개의 행(레코드), 561개의 열(피처)을 가짐  \n",
        "2) 피처(X칼럼)의 대부분이 움직임 위치와 관련된 속성  \n",
        "3) 레이블 값 (Y칼럼)dms 1,2,3,4,5,6 6개의 값이고 고르게 분포  "
      ],
      "metadata": {
        "id": "3-g8EGjT4bSN"
      }
    },
    {
      "cell_type": "code",
      "source": [
        "## 2. 동작 예측분류 수행하기 \n",
        "## 2-1. 하이퍼 파라미터 모두 디폴트값으로 \n",
        "\n",
        "from sklearn.tree import DecisionTreeClassifier\n",
        "from sklearn.metrics import accuracy_score\n",
        "\n",
        "# 예제 반복 시마다 동일한 예측 결과 도출을 위해 random_state 설정\n",
        "dt_clf=DecisionTreeClassifier(random_state=156)\n",
        "dt_clf.fit(X_train, y_train)\n",
        "pred = dt_clf.predict(X_test)\n",
        "accuracy = accuracy_score(y_test, pred)\n",
        "print('결정트리 예측 정확도: {0:.4f}'.format(accuracy))\n",
        "\n",
        "# DecisionTreeClassifier의 하이퍼 파라미터 추출\n",
        "print('DecisionTreeClassifier 기본 하이퍼 파라미터:\\n', dt_clf.get_params())"
      ],
      "metadata": {
        "colab": {
          "base_uri": "https://localhost:8080/"
        },
        "id": "eQNq185-07Is",
        "outputId": "667c9799-6bda-4849-927c-689ccc9369bf"
      },
      "execution_count": 36,
      "outputs": [
        {
          "output_type": "stream",
          "name": "stdout",
          "text": [
            "결정트리 예측 정확도: 0.8548\n",
            "DecisionTreeClassifier 기본 하이퍼 파라미터:\n",
            " {'ccp_alpha': 0.0, 'class_weight': None, 'criterion': 'gini', 'max_depth': None, 'max_features': None, 'max_leaf_nodes': None, 'min_impurity_decrease': 0.0, 'min_samples_leaf': 1, 'min_samples_split': 2, 'min_weight_fraction_leaf': 0.0, 'random_state': 156, 'splitter': 'best'}\n"
          ]
        }
      ]
    },
    {
      "cell_type": "markdown",
      "source": [
        "* 예측분류 결과 분석  \n",
        "1) 85.48%의 정확도   "
      ],
      "metadata": {
        "id": "ftpMBNfa6tRg"
      }
    },
    {
      "cell_type": "code",
      "source": [
        "## 2-2. 결정트리의 트리깊이가 예측 정확도에 주는 영향 \n",
        "\n",
        "from sklearn.model_selection import GridSearchCV\n",
        "\n",
        "# 결정트리의 깊이를 조절할 수 있는 하이퍼 파라미터인 max_depth 값을 변화시키면서 예측성능 확인\n",
        "params = {\n",
        "    'max_depth':[6,8,10,12,16,20,24]\n",
        "}\n",
        "\n",
        "# 교차 검증은 5개의 세트, 하이퍼파라미터 중 max_depth 값 조절\n",
        "grid_cv = GridSearchCV(dt_clf, param_grid=params, scoring='accuracy', cv=5, verbose=1)\n",
        "grid_cv.fit(X_train, y_train)\n",
        "print('GridSearchCV 최고 평균 정확도 수치: {0:.4f}'.format(grid_cv.best_score_))\n",
        "print('GridSearchCV 최적 하이퍼 파라미터:', grid_cv.best_params_)"
      ],
      "metadata": {
        "colab": {
          "base_uri": "https://localhost:8080/"
        },
        "id": "Ig0MRNMD07Lg",
        "outputId": "401a8a88-3581-4668-aec6-c67a21a38bda"
      },
      "execution_count": 37,
      "outputs": [
        {
          "output_type": "stream",
          "name": "stdout",
          "text": [
            "Fitting 5 folds for each of 7 candidates, totalling 35 fits\n",
            "GridSearchCV 최고 평균 정확도 수치: 0.8513\n",
            "GridSearchCV 최적 하이퍼 파라미터: {'max_depth': 16}\n"
          ]
        }
      ]
    },
    {
      "cell_type": "markdown",
      "source": [
        "* 트리깊이 조절했을 때, 예측분류 결과 분석  \n",
        "1) 최적 하이퍼 파라미터에서 85.13%의 정확도  \n",
        "2) 최적 하이퍼 파라미터 값은 트리깊이 16  "
      ],
      "metadata": {
        "id": "la7RVvCj9a3F"
      }
    },
    {
      "cell_type": "code",
      "source": [
        "## 2-3. 5개의 cv세트에서 max_depth값에 따라 어떻게 예측 성능이 변했는지 살펴보기\n",
        "\n",
        "# GridSearchCV 객체의 cv_results_ 속성은 CV셑트에 하이퍼 파라미터를 순차적으로 입력했을 때의 성능 수치를 저장해놓음\n",
        "cv_results_df = pd.DataFrame(grid_cv.cv_results_)\n",
        "\n",
        "# max_depth 파라미터 값과 그때의 테스트셋, 학습 데이터세스이 정확도 수치 추출\n",
        "print(cv_results_df.head(3))\n",
        "print(cv_results_df[['param_max_depth', 'mean_test_score']])\n",
        "plt.plot(cv_results_df['param_max_depth'], cv_results_df['mean_test_score'])\n",
        "plt.xticks([6,8,10,12,16,20,24])"
      ],
      "metadata": {
        "colab": {
          "base_uri": "https://localhost:8080/",
          "height": 899
        },
        "id": "T5fXPoc-9uJ_",
        "outputId": "63c74474-0331-4566-a40d-2b82be57cc2f"
      },
      "execution_count": 47,
      "outputs": [
        {
          "output_type": "stream",
          "name": "stdout",
          "text": [
            "   mean_fit_time  std_fit_time  mean_score_time  std_score_time  \\\n",
            "0       2.404723      0.414585         0.009091        0.000611   \n",
            "1       2.718655      0.065116         0.008244        0.000229   \n",
            "2       3.457823      0.474046         0.009517        0.002131   \n",
            "\n",
            "  param_max_depth             params  split0_test_score  split1_test_score  \\\n",
            "0               6   {'max_depth': 6}           0.813732           0.872876   \n",
            "1               8   {'max_depth': 8}           0.820530           0.819850   \n",
            "2              10  {'max_depth': 10}           0.799456           0.814412   \n",
            "\n",
            "   split2_test_score  split3_test_score  split4_test_score  mean_test_score  \\\n",
            "0           0.819728           0.865986           0.881633         0.850791   \n",
            "1           0.855102           0.868707           0.891156         0.851069   \n",
            "2           0.863265           0.891156           0.887755         0.851209   \n",
            "\n",
            "   std_test_score  rank_test_score  \n",
            "0        0.028313                5  \n",
            "1        0.027719                3  \n",
            "2        0.037707                2  \n",
            "  param_max_depth  mean_test_score\n",
            "0               6         0.850791\n",
            "1               8         0.851069\n",
            "2              10         0.851209\n",
            "3              12         0.844135\n",
            "4              16         0.851344\n",
            "5              20         0.850800\n",
            "6              24         0.849440\n"
          ]
        },
        {
          "output_type": "execute_result",
          "data": {
            "text/plain": [
              "([<matplotlib.axis.XTick at 0x7fdcf8d8e950>,\n",
              "  <matplotlib.axis.XTick at 0x7fdcf8d8ed50>,\n",
              "  <matplotlib.axis.XTick at 0x7fdcf8d0ba90>,\n",
              "  <matplotlib.axis.XTick at 0x7fdcf8cd6a90>,\n",
              "  <matplotlib.axis.XTick at 0x7fdcf8cd6b90>,\n",
              "  <matplotlib.axis.XTick at 0x7fdcf8cde550>,\n",
              "  <matplotlib.axis.XTick at 0x7fdcf8cd6850>],\n",
              " <a list of 7 Text major ticklabel objects>)"
            ]
          },
          "metadata": {},
          "execution_count": 47
        },
        {
          "output_type": "display_data",
          "data": {
            "text/plain": [
              "<Figure size 432x288 with 1 Axes>"
            ],
            "image/png": "[encoded data removed]"
          },
          "metadata": {
            "needs_background": "light"
          }
        }
      ]
    },
    {
      "cell_type": "markdown",
      "source": [
        "* 트리깊이별 평균 정확도 분석  \n",
        "1) max_depth가 16일때 정확도가 0.851344  "
      ],
      "metadata": {
        "id": "v0tgQYmN-u4L"
      }
    },
    {
      "cell_type": "code",
      "source": [
        "## 3.3 테스트 데이터셋에서 결정트리의 정확도 측정 \n",
        "\n",
        "max_depths=[6,8,10,12,16,20,24]\n",
        "\n",
        "# max_depth 값을 변화시키면서, 그때마다 학습과 테스트 데이터셋에서의 예측성능 측정\n",
        "for depth in max_depths:\n",
        "  dt_clf = DecisionTreeClassifier(max_depth=depth, random_state=156)\n",
        "  dt_clf.fit(X_train, y_train)\n",
        "  pred = dt_clf.predict(X_test)\n",
        "  accuracy = accuracy_score(y_test, pred)\n",
        "  print('max_depth={0} 정확도: {1:.4f}'.format(depth, accuracy))"
      ],
      "metadata": {
        "colab": {
          "base_uri": "https://localhost:8080/",
          "height": 537
        },
        "id": "EkeXfFyT9uTJ",
        "outputId": "26d937ab-6212-4cca-8f0b-b01d971a73c4"
      },
      "execution_count": 46,
      "outputs": [
        {
          "output_type": "stream",
          "name": "stdout",
          "text": [
            "max_depth=6 정확도: 0.8558\n",
            "max_depth=8 정확도: 0.8707\n",
            "max_depth=10 정확도: 0.8673\n",
            "max_depth=12 정확도: 0.8646\n",
            "max_depth=16 정확도: 0.8575\n",
            "max_depth=20 정확도: 0.8548\n",
            "max_depth=24 정확도: 0.8548\n"
          ]
        },
        {
          "output_type": "execute_result",
          "data": {
            "text/plain": [
              "([<matplotlib.axis.XTick at 0x7fdcf8ec3710>,\n",
              "  <matplotlib.axis.XTick at 0x7fdcf8ec3c10>,\n",
              "  <matplotlib.axis.XTick at 0x7fdcf8d9e050>,\n",
              "  <matplotlib.axis.XTick at 0x7fdcf8d6f390>,\n",
              "  <matplotlib.axis.XTick at 0x7fdcf8d6f8d0>,\n",
              "  <matplotlib.axis.XTick at 0x7fdcf8d6fe10>,\n",
              "  <matplotlib.axis.XTick at 0x7fdcf8d6fa50>],\n",
              " <a list of 7 Text major ticklabel objects>)"
            ]
          },
          "metadata": {},
          "execution_count": 46
        },
        {
          "output_type": "display_data",
          "data": {
            "text/plain": [
              "<Figure size 432x288 with 1 Axes>"
            ],
            "image/png": "[encoded data removed]"
          },
          "metadata": {
            "needs_background": "light"
          }
        }
      ]
    },
    {
      "cell_type": "markdown",
      "source": [
        "* 학습, 테스트 데이터셋에서 트리깊이별 정확도 분석  \n",
        "1) max_depth=8일때 가장 높은 정확도   \n",
        "2) max_depth가 8넘어가면서 정확도 계속 감소  \n",
        "3) 트리깊이가 깊어질수록 과적합의 영향력이 커지므로 깊이를 제어해야  "
      ],
      "metadata": {
        "id": "wgVsxyM6A2v1"
      }
    },
    {
      "cell_type": "code",
      "source": [
        "## 4. 또다른 파라미터인 min_samples_split를 변경하며 정확도 성능 튜닝\n",
        "\n",
        "params={\n",
        "    'max_depth':[8,12,16,20],\n",
        "    'min_samples_split':[16,24]\n",
        "}\n",
        "grid_cv = GridSearchCV(dt_clf, param_grid=params, scoring='accuracy', cv=5, verbose=1)\n",
        "grid_cv.fit(X_train, y_train)\n",
        "print('GridSearchCV 최고 평균 정확도 수치: {0:.4f}'.format(grid_cv.best_score_))\n",
        "print('GridSearchCV 최적 하이퍼 파라미터:', grid_cv.best_params_)"
      ],
      "metadata": {
        "colab": {
          "base_uri": "https://localhost:8080/"
        },
        "id": "qBaETbO09uYL",
        "outputId": "80dd25b8-bc5e-4a99-8825-332a2c5c1ede"
      },
      "execution_count": 48,
      "outputs": [
        {
          "output_type": "stream",
          "name": "stdout",
          "text": [
            "Fitting 5 folds for each of 8 candidates, totalling 40 fits\n",
            "GridSearchCV 최고 평균 정확도 수치: 0.8549\n",
            "GridSearchCV 최적 하이퍼 파라미터: {'max_depth': 8, 'min_samples_split': 16}\n"
          ]
        }
      ]
    },
    {
      "cell_type": "markdown",
      "source": [
        "* 결과 분석  \n",
        "1) max_depth=8, min_samples_split=16일때 가장 최고 정확도  "
      ],
      "metadata": {
        "id": "VD_Be86bCgl8"
      }
    },
    {
      "cell_type": "code",
      "source": [
        "# 5. max_depth=8, min_samples_split=16 으로 학습이 완료된 모델에 테스트 데이터셋 예측수행\n",
        "\n",
        "best_df_clf = grid_cv.best_estimator_\n",
        "pred1 = best_df_clf.predict(X_test)\n",
        "accuacy= accuracy_score(y_test, pred1)\n",
        "print('결정트리 예측정확도:{0:.4f}'.format(accuracy))"
      ],
      "metadata": {
        "colab": {
          "base_uri": "https://localhost:8080/"
        },
        "id": "SsWqcs6rCiWA",
        "outputId": "0e5540a4-004b-4a56-e8df-3c675d6791c1"
      },
      "execution_count": 50,
      "outputs": [
        {
          "output_type": "stream",
          "name": "stdout",
          "text": [
            "결정트리 예측정확도:0.8548\n"
          ]
        }
      ]
    },
    {
      "cell_type": "code",
      "source": [],
      "metadata": {
        "id": "Jm4upVi4Cg00"
      },
      "execution_count": null,
      "outputs": []
    }
  ]
}