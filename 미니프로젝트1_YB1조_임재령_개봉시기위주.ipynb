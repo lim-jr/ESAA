{
  "nbformat": 4,
  "nbformat_minor": 0,
  "metadata": {
    "colab": {
      "provenance": [],
      "mount_file_id": "1vG3sp6HRUgPybryd0FLRIpduTv4ADucr",
      "authorship_tag": "ABX9TyNMpMJEU+wmH74SDv0sPfcd",
      "include_colab_link": true
    },
    "kernelspec": {
      "name": "python3",
      "display_name": "Python 3"
    },
    "language_info": {
      "name": "python"
    }
  },
  "cells": [
    {
      "cell_type": "markdown",
      "metadata": {
        "id": "view-in-github",
        "colab_type": "text"
      },
      "source": [
        "<a href=\"https://colab.research.google.com/github/lim-jr/ESAA/blob/main/%EB%AF%B8%EB%8B%88%ED%94%84%EB%A1%9C%EC%A0%9D%ED%8A%B81_YB1%EC%A1%B0_%EC%9E%84%EC%9E%AC%EB%A0%B9_%EA%B0%9C%EB%B4%89%EC%8B%9C%EA%B8%B0%EC%9C%84%EC%A3%BC.ipynb\" target=\"_parent\"><img src=\"https://colab.research.google.com/assets/colab-badge.svg\" alt=\"Open In Colab\"/></a>"
      ]
    },
    {
      "cell_type": "code",
      "execution_count": 1,
      "metadata": {
        "id": "A5dut4_S_k5o"
      },
      "outputs": [],
      "source": [
        "import pandas as pd \n",
        "import numpy as np\n",
        "import seaborn as sns\n",
        "import matplotlib.pyplot as plt\n",
        "%matplotlib notebook\n",
        "%matplotlib inline\n",
        "\n",
        "import warnings\n",
        "warnings.filterwarnings(action='ignore')"
      ]
    },
    {
      "cell_type": "code",
      "source": [
        "plt.rcParams['font.family'] = 'Malgun Gothic' #matplotlib 한글 깨짐 방지"
      ],
      "metadata": {
        "id": "0QvpmKEa_mz-"
      },
      "execution_count": 2,
      "outputs": []
    },
    {
      "cell_type": "code",
      "source": [
        "train = pd.read_csv('/content/drive/MyDrive/PyColab_ESAA/데이터셋/movies_train.csv')"
      ],
      "metadata": {
        "id": "v4qtZgLg_m3B"
      },
      "execution_count": 10,
      "outputs": []
    },
    {
      "cell_type": "markdown",
      "source": [
        "#### 3-1) 개봉월에 따른 평균 관객 수"
      ],
      "metadata": {
        "id": "NFHIV1FW55ry"
      }
    },
    {
      "cell_type": "code",
      "source": [
        "train['release_time']=pd.to_datetime(train['release_time'])\n",
        "train['release_month']=train['release_time'].dt.month"
      ],
      "metadata": {
        "id": "Y-tvIobj_m9P"
      },
      "execution_count": 11,
      "outputs": []
    },
    {
      "cell_type": "code",
      "source": [
        "train[['release_month', 'box_off_num']].groupby('release_month').mean().sort_values('box_off_num', ascending=False)"
      ],
      "metadata": {
        "colab": {
          "base_uri": "https://localhost:8080/",
          "height": 457
        },
        "id": "hxnk8qqKAN8g",
        "outputId": "ec43c0a9-f9bd-4712-ea53-e31ad62bb063"
      },
      "execution_count": 14,
      "outputs": [
        {
          "output_type": "execute_result",
          "data": {
            "text/plain": [
              "                box_off_num\n",
              "release_month              \n",
              "1              1.365931e+06\n",
              "12             1.288248e+06\n",
              "7              1.113807e+06\n",
              "8              1.029162e+06\n",
              "9              7.315286e+05\n",
              "2              6.630252e+05\n",
              "5              5.756852e+05\n",
              "6              5.122865e+05\n",
              "11             4.956539e+05\n",
              "10             3.859042e+05\n",
              "3              2.738874e+05\n",
              "4              2.581667e+05"
            ],
            "text/html": [
              "\n",
              "  <div id=\"df-c641b8be-ba5a-41bd-8eb7-d7968732ebbe\">\n",
              "    <div class=\"colab-df-container\">\n",
              "      <div>\n",
              "<style scoped>\n",
              "    .dataframe tbody tr th:only-of-type {\n",
              "        vertical-align: middle;\n",
              "    }\n",
              "\n",
              "    .dataframe tbody tr th {\n",
              "        vertical-align: top;\n",
              "    }\n",
              "\n",
              "    .dataframe thead th {\n",
              "        text-align: right;\n",
              "    }\n",
              "</style>\n",
              "<table border=\"1\" class=\"dataframe\">\n",
              "  <thead>\n",
              "    <tr style=\"text-align: right;\">\n",
              "      <th></th>\n",
              "      <th>box_off_num</th>\n",
              "    </tr>\n",
              "    <tr>\n",
              "      <th>release_month</th>\n",
              "      <th></th>\n",
              "    </tr>\n",
              "  </thead>\n",
              "  <tbody>\n",
              "    <tr>\n",
              "      <th>1</th>\n",
              "      <td>1.365931e+06</td>\n",
              "    </tr>\n",
              "    <tr>\n",
              "      <th>12</th>\n",
              "      <td>1.288248e+06</td>\n",
              "    </tr>\n",
              "    <tr>\n",
              "      <th>7</th>\n",
              "      <td>1.113807e+06</td>\n",
              "    </tr>\n",
              "    <tr>\n",
              "      <th>8</th>\n",
              "      <td>1.029162e+06</td>\n",
              "    </tr>\n",
              "    <tr>\n",
              "      <th>9</th>\n",
              "      <td>7.315286e+05</td>\n",
              "    </tr>\n",
              "    <tr>\n",
              "      <th>2</th>\n",
              "      <td>6.630252e+05</td>\n",
              "    </tr>\n",
              "    <tr>\n",
              "      <th>5</th>\n",
              "      <td>5.756852e+05</td>\n",
              "    </tr>\n",
              "    <tr>\n",
              "      <th>6</th>\n",
              "      <td>5.122865e+05</td>\n",
              "    </tr>\n",
              "    <tr>\n",
              "      <th>11</th>\n",
              "      <td>4.956539e+05</td>\n",
              "    </tr>\n",
              "    <tr>\n",
              "      <th>10</th>\n",
              "      <td>3.859042e+05</td>\n",
              "    </tr>\n",
              "    <tr>\n",
              "      <th>3</th>\n",
              "      <td>2.738874e+05</td>\n",
              "    </tr>\n",
              "    <tr>\n",
              "      <th>4</th>\n",
              "      <td>2.581667e+05</td>\n",
              "    </tr>\n",
              "  </tbody>\n",
              "</table>\n",
              "</div>\n",
              "      <button class=\"colab-df-convert\" onclick=\"convertToInteractive('df-c641b8be-ba5a-41bd-8eb7-d7968732ebbe')\"\n",
              "              title=\"Convert this dataframe to an interactive table.\"\n",
              "              style=\"display:none;\">\n",
              "        \n",
              "  <svg xmlns=\"http://www.w3.org/2000/svg\" height=\"24px\"viewBox=\"0 0 24 24\"\n",
              "       width=\"24px\">\n",
              "    <path d=\"M0 0h24v24H0V0z\" fill=\"none\"/>\n",
              "    <path d=\"M18.56 5.44l.94 2.06.94-2.06 2.06-.94-2.06-.94-.94-2.06-.94 2.06-2.06.94zm-11 1L8.5 8.5l.94-2.06 2.06-.94-2.06-.94L8.5 2.5l-.94 2.06-2.06.94zm10 10l.94 2.06.94-2.06 2.06-.94-2.06-.94-.94-2.06-.94 2.06-2.06.94z\"/><path d=\"M17.41 7.96l-1.37-1.37c-.4-.4-.92-.59-1.43-.59-.52 0-1.04.2-1.43.59L10.3 9.45l-7.72 7.72c-.78.78-.78 2.05 0 2.83L4 21.41c.39.39.9.59 1.41.59.51 0 1.02-.2 1.41-.59l7.78-7.78 2.81-2.81c.8-.78.8-2.07 0-2.86zM5.41 20L4 18.59l7.72-7.72 1.47 1.35L5.41 20z\"/>\n",
              "  </svg>\n",
              "      </button>\n",
              "      \n",
              "  <style>\n",
              "    .colab-df-container {\n",
              "      display:flex;\n",
              "      flex-wrap:wrap;\n",
              "      gap: 12px;\n",
              "    }\n",
              "\n",
              "    .colab-df-convert {\n",
              "      background-color: #E8F0FE;\n",
              "      border: none;\n",
              "      border-radius: 50%;\n",
              "      cursor: pointer;\n",
              "      display: none;\n",
              "      fill: #1967D2;\n",
              "      height: 32px;\n",
              "      padding: 0 0 0 0;\n",
              "      width: 32px;\n",
              "    }\n",
              "\n",
              "    .colab-df-convert:hover {\n",
              "      background-color: #E2EBFA;\n",
              "      box-shadow: 0px 1px 2px rgba(60, 64, 67, 0.3), 0px 1px 3px 1px rgba(60, 64, 67, 0.15);\n",
              "      fill: #174EA6;\n",
              "    }\n",
              "\n",
              "    [theme=dark] .colab-df-convert {\n",
              "      background-color: #3B4455;\n",
              "      fill: #D2E3FC;\n",
              "    }\n",
              "\n",
              "    [theme=dark] .colab-df-convert:hover {\n",
              "      background-color: #434B5C;\n",
              "      box-shadow: 0px 1px 3px 1px rgba(0, 0, 0, 0.15);\n",
              "      filter: drop-shadow(0px 1px 2px rgba(0, 0, 0, 0.3));\n",
              "      fill: #FFFFFF;\n",
              "    }\n",
              "  </style>\n",
              "\n",
              "      <script>\n",
              "        const buttonEl =\n",
              "          document.querySelector('#df-c641b8be-ba5a-41bd-8eb7-d7968732ebbe button.colab-df-convert');\n",
              "        buttonEl.style.display =\n",
              "          google.colab.kernel.accessAllowed ? 'block' : 'none';\n",
              "\n",
              "        async function convertToInteractive(key) {\n",
              "          const element = document.querySelector('#df-c641b8be-ba5a-41bd-8eb7-d7968732ebbe');\n",
              "          const dataTable =\n",
              "            await google.colab.kernel.invokeFunction('convertToInteractive',\n",
              "                                                     [key], {});\n",
              "          if (!dataTable) return;\n",
              "\n",
              "          const docLinkHtml = 'Like what you see? Visit the ' +\n",
              "            '<a target=\"_blank\" href=https://colab.research.google.com/notebooks/data_table.ipynb>data table notebook</a>'\n",
              "            + ' to learn more about interactive tables.';\n",
              "          element.innerHTML = '';\n",
              "          dataTable['output_type'] = 'display_data';\n",
              "          await google.colab.output.renderOutput(dataTable, element);\n",
              "          const docLink = document.createElement('div');\n",
              "          docLink.innerHTML = docLinkHtml;\n",
              "          element.appendChild(docLink);\n",
              "        }\n",
              "      </script>\n",
              "    </div>\n",
              "  </div>\n",
              "  "
            ]
          },
          "metadata": {},
          "execution_count": 14
        }
      ]
    },
    {
      "cell_type": "code",
      "source": [
        "train[['release_month', 'box_off_num']].groupby('release_month').mean().sort_values('box_off_num', ascending=False).plot(kind='bar')"
      ],
      "metadata": {
        "colab": {
          "base_uri": "https://localhost:8080/",
          "height": 351
        },
        "id": "BF0hTvQRAN_3",
        "outputId": "697c2313-f2f5-4929-8699-7757ebddba17"
      },
      "execution_count": 15,
      "outputs": [
        {
          "output_type": "execute_result",
          "data": {
            "text/plain": [
              "<matplotlib.axes._subplots.AxesSubplot at 0x7fbbbf2b9510>"
            ]
          },
          "metadata": {},
          "execution_count": 15
        },
        {
          "output_type": "stream",
          "name": "stderr",
          "text": [
            "WARNING:matplotlib.font_manager:findfont: Font family ['Malgun Gothic'] not found. Falling back to DejaVu Sans.\n"
          ]
        },
        {
          "output_type": "display_data",
          "data": {
            "text/plain": [
              "<Figure size 432x288 with 1 Axes>"
            ],
            "image/png": "[encoded data removed]"
          },
          "metadata": {
            "needs_background": "light"
          }
        }
      ]
    },
    {
      "cell_type": "markdown",
      "source": [
        "1. 설연휴인 1월\n",
        "2. 연말/성탄절인 12월\n",
        "3. 여름방학 시즌인 7,8월\n",
        "4. 추석 연휴인 9월  \n",
        "순으로 관객수가 많은 것으로 나타났다. "
      ],
      "metadata": {
        "id": "TpvPRdBdnhay"
      }
    },
    {
      "cell_type": "markdown",
      "source": [
        "#### 3-2) 개봉시기에 따른 관객 수가 많은 장르"
      ],
      "metadata": {
        "id": "QrzQ30rdefHn"
      }
    },
    {
      "cell_type": "markdown",
      "source": [
        "* 관객수가 많은 특정 개봉시기에 어떤 장르가 인기가 많은지 알아보고자 한다. \n",
        "\n",
        ">-인기가 많다의 척도는 관객수로 정한다.  \n",
        ">-관객수가 많은 특정 개봉시기는 다음과 같다. \n",
        "\n",
        ">>1. 설연휴인 1월\n",
        ">>2. 연말/성탄절인 12월\n",
        ">>3. 여름방학 시즌인 7,8월\n",
        ">>4. 추석 연휴인 9월  "
      ],
      "metadata": {
        "id": "5cdJdCn2oFhP"
      }
    },
    {
      "cell_type": "code",
      "source": [
        "train_1 = train[train['release_month']==1][['title', 'genre', 'box_off_num']]\n",
        "\n",
        "ax = plt.subplots()\n",
        "ax = sns.barplot(x='genre', y='box_off_num', data=train_1)"
      ],
      "metadata": {
        "colab": {
          "base_uri": "https://localhost:8080/",
          "height": 296
        },
        "id": "A6MEOiUK54bq",
        "outputId": "c1e40403-e249-421d-886d-ba23013a752b"
      },
      "execution_count": null,
      "outputs": [
        {
          "output_type": "display_data",
          "data": {
            "text/plain": [
              "<Figure size 432x288 with 1 Axes>"
            ],
            "image/png": "[encoded data removed]"
          },
          "metadata": {
            "needs_background": "light"
          }
        }
      ]
    },
    {
      "cell_type": "code",
      "source": [
        "train_12 = train[train['release_month']==12][['title', 'genre', 'box_off_num']]\n",
        "\n",
        "ax = plt.subplots()\n",
        "ax = sns.barplot(x='genre', y='box_off_num', data=train_12)"
      ],
      "metadata": {
        "colab": {
          "base_uri": "https://localhost:8080/",
          "height": 296
        },
        "id": "3woAhSBbnC-Y",
        "outputId": "15c70dcf-895e-44e6-c3ef-3614e14a0c08"
      },
      "execution_count": null,
      "outputs": [
        {
          "output_type": "display_data",
          "data": {
            "text/plain": [
              "<Figure size 432x288 with 1 Axes>"
            ],
            "image/png": "[encoded data removed]"
          },
          "metadata": {
            "needs_background": "light"
          }
        }
      ]
    },
    {
      "cell_type": "code",
      "source": [
        "train_78 = train[(train['release_month']==7) | (train['release_month']==8)][['title', 'genre', 'box_off_num']]\n",
        "\n",
        "ax = plt.subplots()\n",
        "ax = sns.barplot(x='genre', y='box_off_num', data=train_78)"
      ],
      "metadata": {
        "colab": {
          "base_uri": "https://localhost:8080/",
          "height": 296
        },
        "id": "yqXV1es5pl0v",
        "outputId": "a9be865d-4caa-426a-c763-f030371c92ca"
      },
      "execution_count": null,
      "outputs": [
        {
          "output_type": "display_data",
          "data": {
            "text/plain": [
              "<Figure size 432x288 with 1 Axes>"
            ],
            "image/png": "[encoded data removed]"
          },
          "metadata": {
            "needs_background": "light"
          }
        }
      ]
    },
    {
      "cell_type": "code",
      "source": [
        "train_9 = train[train['release_month']==9][['title', 'genre', 'box_off_num']]\n",
        "\n",
        "ax = plt.subplots()\n",
        "ax = sns.barplot(x='genre', y='box_off_num', data=train_9)"
      ],
      "metadata": {
        "colab": {
          "base_uri": "https://localhost:8080/",
          "height": 296
        },
        "id": "mf8jN-TOpl4d",
        "outputId": "520ff804-0d1a-4a3f-9029-5fb9e1a154f3"
      },
      "execution_count": null,
      "outputs": [
        {
          "output_type": "display_data",
          "data": {
            "text/plain": [
              "<Figure size 432x288 with 1 Axes>"
            ],
            "image/png": "[encoded data removed]"
          },
          "metadata": {
            "needs_background": "light"
          }
        }
      ]
    },
    {
      "cell_type": "code",
      "source": [
        "train_a = train.groupby(['release_month','genre'])['box_off_num'].sum()\n",
        "a = pd.DataFrame(train_a.reset_index())\n",
        "\n",
        "a = a.pivot(index='release_month', columns='genre', values='box_off_num')\n",
        "#a = a.reinedex()\n",
        "a.plot.bar(stacked=True)\n",
        "\n",
        "#a = sns.barplot(x='release_month', y='box_num_off', data=a, color='red')\n",
        "#plt.bar(a['release_month'], a['box_off_num'], stacked=True)\n",
        "#train_c.plot.bar(x=a['release_month'], stacked=True)\n",
        "#ax = sns.lmplot(x='release_month', y='box_off_num', hue='genre', data=train_a, fit_reg=False)\n",
        "#ax = sns.scatter(x='gerne', y='release_num',  data=train_a, fit_reg=False)\n"
      ],
      "metadata": {
        "colab": {
          "base_uri": "https://localhost:8080/",
          "height": 318
        },
        "id": "eGWFneTx192_",
        "outputId": "3ba2c681-0d53-437b-8377-2d10c81c7ef0"
      },
      "execution_count": null,
      "outputs": [
        {
          "output_type": "execute_result",
          "data": {
            "text/plain": [
              "<matplotlib.axes._subplots.AxesSubplot at 0x7ff1997eba50>"
            ]
          },
          "metadata": {},
          "execution_count": 245
        },
        {
          "output_type": "display_data",
          "data": {
            "text/plain": [
              "<Figure size 432x288 with 1 Axes>"
            ],
            "image/png": "[encoded data removed]"
          },
          "metadata": {
            "needs_background": "light"
          }
        }
      ]
    },
    {
      "cell_type": "code",
      "source": [],
      "metadata": {
        "id": "isvGhe9OAOFB"
      },
      "execution_count": null,
      "outputs": []
    }
  ]
}