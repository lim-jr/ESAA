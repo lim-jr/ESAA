{
  "nbformat": 4,
  "nbformat_minor": 0,
  "metadata": {
    "colab": {
      "provenance": [],
      "collapsed_sections": [],
      "toc_visible": true,
      "mount_file_id": "1COthRO1NSmomHPL9LHhD4x3Vspiqyy8q",
      "authorship_tag": "ABX9TyPT92wre7DLxKKJD/FHW2/l",
      "include_colab_link": true
    },
    "kernelspec": {
      "name": "python3",
      "display_name": "Python 3"
    },
    "language_info": {
      "name": "python"
    }
  },
  "cells": [
    {
      "cell_type": "markdown",
      "metadata": {
        "id": "view-in-github",
        "colab_type": "text"
      },
      "source": [
        "<a href=\"https://colab.research.google.com/github/lim-jr/ESAA/blob/main/1107%EC%9B%94%EA%B3%BC%EC%A0%9C_%EB%A8%B8%EC%8B%A0%EB%9F%AC%EB%8B%9D_%EC%99%84%EB%B2%BD%EA%B0%80%EC%9D%B4%EB%93%9C(183_227).ipynb\" target=\"_parent\"><img src=\"https://colab.research.google.com/assets/colab-badge.svg\" alt=\"Open In Colab\"/></a>"
      ]
    },
    {
      "cell_type": "markdown",
      "source": [
        "# 01 분류"
      ],
      "metadata": {
        "id": "f5euI1oU3QuO"
      }
    },
    {
      "cell_type": "markdown",
      "source": [],
      "metadata": {
        "id": "jsV_WMiW3UcI"
      }
    },
    {
      "cell_type": "markdown",
      "source": [
        "# 02 결정트리 개요"
      ],
      "metadata": {
        "id": "vmQ5kPfXud4j"
      }
    },
    {
      "cell_type": "markdown",
      "source": [
        "* 결정트리란, 데이터에 있는 규칙을/ 학습을 통해 자동으로 찾아내/ 트리 기반의 분류 규칙을 만드는 것  \n",
        "* 적은 결정노드 + 높은 예측정확도 가지려면// 균일한 데이터 세트를 구성하도록/ 분할하게 하는/ 결정노드의 규칙을 정해야 함.\n",
        "  - 결정노드는 정보 균일도가 높은 데이터 세트를 먼저 선택할 수 있도록 규칙조건을 만듦.\n",
        "  - 균일도를 측정하는 기준(정보이득지수, 지니계수)을 이용해 데이터 세트를 분할한다. \n",
        "  - 정보이득지수가 높거나 지니계수가 낮은 조건을 찾아서/ 자식 트리 노드에 걸쳐 반복적으로 분할한 뒤/ 데이터가 모두 특정 분류에 분할되면// 분할을 멈추고 분류를 결정한다. "
      ],
      "metadata": {
        "id": "b1smf3TLud-E"
      }
    },
    {
      "cell_type": "markdown",
      "source": [
        "## 1. 결정트리 모델의 특징 "
      ],
      "metadata": {
        "id": "BKqlg72hueAb"
      }
    },
    {
      "cell_type": "markdown",
      "source": [
        "* 장점 \n",
        "  1. 쉽다. 직관적이다.\n",
        "  2. 피처의 스케일링이나 정규화 같은 전처리 작업이 필요 없다.\n",
        "  \n",
        "* 단점  \n",
        "  1. 과적합으로 알고리즘의 성능이 떨어진다.  \n",
        "     완벽한 규칙을 만들지 못하는 경우가 많음에도 불구하고  \n",
        "     정확도 높이기 위해 조건 추가-> 트리 깊이가 커져 학습모델이 복잡해짐-> 복잡한 모델은 유연한 대처할수 없어 예측성능이 떨어짐\n",
        "  2. 이러한 한계를 인정하고,  \n",
        "     트리의 크기를 사전에 제한하는 성능튜닝이 도움됨."
      ],
      "metadata": {
        "id": "D3fQ5piSueCz"
      }
    },
    {
      "cell_type": "markdown",
      "source": [
        "## 2. 결정트리 모델의 시각화"
      ],
      "metadata": {
        "id": "54B1lMVSueOV"
      }
    },
    {
      "cell_type": "markdown",
      "source": [
        "* Graphviz 설치\n",
        "* Graphviz를 이용해 붓꽃 데이터셋에 결정 트리를 적용할 때 어떻게 서브 트리가 구성되고 만들어지는지 시각화해보자."
      ],
      "metadata": {
        "id": "A-fERGvD_mM8"
      }
    },
    {
      "cell_type": "code",
      "source": [
        "# 사이킷런은 결정트리 알고리즘인 DecisionTreeClassifier을 제공함.\n",
        "from sklearn.tree import DecisionTreeClassifier\n",
        "from sklearn.datasets import load_iris\n",
        "from sklearn.model_selection import train_test_split\n",
        "import warnings\n",
        "warnings.filterwarnings('ignore')"
      ],
      "metadata": {
        "id": "no-reRzd_Bj-"
      },
      "execution_count": 1,
      "outputs": []
    },
    {
      "cell_type": "code",
      "source": [
        "# 우선 학습과 예측을 수행\n",
        "\n",
        "# DecisionTree Classifier 생성\n",
        "dt_clf = DecisionTreeClassifier(random_state=156)\n",
        "\n",
        "# 붓꽃 데이터를 로딩하고, 학습과 테스트 데이터셋으로 분리\n",
        "iris_data = load_iris()\n",
        "X_train, X_test, y_train, y_test = train_test_split(iris_data.data, iris_data.target, test_size=0.2, random_state=11)\n",
        "\n",
        "# DecisionTreeClassifier 학습\n",
        "dt_clf.fit(X_train, y_train)"
      ],
      "metadata": {
        "colab": {
          "base_uri": "https://localhost:8080/"
        },
        "id": "nbhnhRQ7BGDx",
        "outputId": "ac365011-55ad-4e34-9255-f8182c3e7712"
      },
      "execution_count": 2,
      "outputs": [
        {
          "output_type": "execute_result",
          "data": {
            "text/plain": [
              "DecisionTreeClassifier(random_state=156)"
            ]
          },
          "metadata": {},
          "execution_count": 2
        }
      ]
    },
    {
      "cell_type": "code",
      "source": [
        "# 시각화하기 위한 준비\n",
        "\n",
        "# export_graphviz는 Graphviz가 읽어들여서 그래프 형태로 시각화할 수 있는 출력 파일을 생성헤줌\n",
        "from sklearn.tree import export_graphviz\n",
        "\n",
        "# export_graphviz()의 호출결과로 out_file로 지정된 tree.dot 파일을 생성함.\n",
        "export_graphviz(dt_clf, out_file=\"tree.dot\", class_names=iris_data.target_names, \n",
        "                feature_names=iris_data.feature_names, impurity=True, filled=True)"
      ],
      "metadata": {
        "id": "SNGWCgECBGNW"
      },
      "execution_count": 3,
      "outputs": []
    },
    {
      "cell_type": "code",
      "source": [
        "# 시각화하기\n",
        "\n",
        "# 위에서 생성된 tree.dot파일을 Graphviz가 읽어서 결정트리의 규칙을 시각화\n",
        "import graphviz\n",
        "with open(\"tree.dot\") as f:\n",
        "  dot_graph = f.read()\n",
        "graphviz.Source(dot_graph)"
      ],
      "metadata": {
        "colab": {
          "base_uri": "https://localhost:8080/",
          "height": 915
        },
        "id": "xtJ52L3tBGUC",
        "outputId": "cf98c478-1518-451b-b1c2-29b939b2d415"
      },
      "execution_count": 4,
      "outputs": [
        {
          "output_type": "execute_result",
          "data": {
            "text/plain": [
              "<graphviz.files.Source at 0x7f374441edd0>"
            ],
            "image/svg+xml": "<?xml version=\"1.0\" encoding=\"UTF-8\" standalone=\"no\"?>\n<!DOCTYPE svg PUBLIC \"-//W3C//DTD SVG 1.1//EN\"\n \"http://www.w3.org/Graphics/SVG/1.1/DTD/svg11.dtd\">\n<!-- Generated by graphviz version 2.40.1 (20161225.0304)\n -->\n<!-- Title: Tree Pages: 1 -->\n<svg width=\"821pt\" height=\"671pt\"\n viewBox=\"0.00 0.00 820.50 671.00\" xmlns=\"http://www.w3.org/2000/svg\" xmlns:xlink=\"http://www.w3.org/1999/xlink\">\n<g id=\"graph0\" class=\"graph\" transform=\"scale(1 1) rotate(0) translate(4 667)\">\n<title>Tree</title>\n<polygon fill=\"#ffffff\" stroke=\"transparent\" points=\"-4,4 -4,-667 816.5,-667 816.5,4 -4,4\"/>\n<!-- 0 -->\n<g id=\"node1\" class=\"node\">\n<title>0</title>\n<polygon fill=\"#fffdfd\" stroke=\"#000000\" points=\"300,-663 124,-663 124,-580 300,-580 300,-663\"/>\n<text text-anchor=\"middle\" x=\"212\" y=\"-647.8\" font-family=\"Helvetica,sans-Serif\" font-size=\"14.00\" fill=\"#000000\">petal length (cm) &lt;= 2.45</text>\n<text text-anchor=\"middle\" x=\"212\" y=\"-632.8\" font-family=\"Helvetica,sans-Serif\" font-size=\"14.00\" fill=\"#000000\">gini = 0.667</text>\n<text text-anchor=\"middle\" x=\"212\" y=\"-617.8\" font-family=\"Helvetica,sans-Serif\" font-size=\"14.00\" fill=\"#000000\">samples = 120</text>\n<text text-anchor=\"middle\" x=\"212\" y=\"-602.8\" font-family=\"Helvetica,sans-Serif\" font-size=\"14.00\" fill=\"#000000\">value = [41, 40, 39]</text>\n<text text-anchor=\"middle\" x=\"212\" y=\"-587.8\" font-family=\"Helvetica,sans-Serif\" font-size=\"14.00\" fill=\"#000000\">class = setosa</text>\n</g>\n<!-- 1 -->\n<g id=\"node2\" class=\"node\">\n<title>1</title>\n<polygon fill=\"#e58139\" stroke=\"#000000\" points=\"191.5,-536.5 68.5,-536.5 68.5,-468.5 191.5,-468.5 191.5,-536.5\"/>\n<text text-anchor=\"middle\" x=\"130\" y=\"-521.3\" font-family=\"Helvetica,sans-Serif\" font-size=\"14.00\" fill=\"#000000\">gini = 0.0</text>\n<text text-anchor=\"middle\" x=\"130\" y=\"-506.3\" font-family=\"Helvetica,sans-Serif\" font-size=\"14.00\" fill=\"#000000\">samples = 41</text>\n<text text-anchor=\"middle\" x=\"130\" y=\"-491.3\" font-family=\"Helvetica,sans-Serif\" font-size=\"14.00\" fill=\"#000000\">value = [41, 0, 0]</text>\n<text text-anchor=\"middle\" x=\"130\" y=\"-476.3\" font-family=\"Helvetica,sans-Serif\" font-size=\"14.00\" fill=\"#000000\">class = setosa</text>\n</g>\n<!-- 0&#45;&gt;1 -->\n<g id=\"edge1\" class=\"edge\">\n<title>0&#45;&gt;1</title>\n<path fill=\"none\" stroke=\"#000000\" d=\"M183.3204,-579.8796C175.5917,-568.6636 167.2191,-556.5131 159.4492,-545.2372\"/>\n<polygon fill=\"#000000\" stroke=\"#000000\" points=\"162.2018,-543.0634 153.6456,-536.8149 156.4377,-547.0353 162.2018,-543.0634\"/>\n<text text-anchor=\"middle\" x=\"149.1196\" y=\"-557.7018\" font-family=\"Helvetica,sans-Serif\" font-size=\"14.00\" fill=\"#000000\">True</text>\n</g>\n<!-- 2 -->\n<g id=\"node3\" class=\"node\">\n<title>2</title>\n<polygon fill=\"#fafefc\" stroke=\"#000000\" points=\"380,-544 210,-544 210,-461 380,-461 380,-544\"/>\n<text text-anchor=\"middle\" x=\"295\" y=\"-528.8\" font-family=\"Helvetica,sans-Serif\" font-size=\"14.00\" fill=\"#000000\">petal width (cm) &lt;= 1.55</text>\n<text text-anchor=\"middle\" x=\"295\" y=\"-513.8\" font-family=\"Helvetica,sans-Serif\" font-size=\"14.00\" fill=\"#000000\">gini = 0.5</text>\n<text text-anchor=\"middle\" x=\"295\" y=\"-498.8\" font-family=\"Helvetica,sans-Serif\" font-size=\"14.00\" fill=\"#000000\">samples = 79</text>\n<text text-anchor=\"middle\" x=\"295\" y=\"-483.8\" font-family=\"Helvetica,sans-Serif\" font-size=\"14.00\" fill=\"#000000\">value = [0, 40, 39]</text>\n<text text-anchor=\"middle\" x=\"295\" y=\"-468.8\" font-family=\"Helvetica,sans-Serif\" font-size=\"14.00\" fill=\"#000000\">class = versicolor</text>\n</g>\n<!-- 0&#45;&gt;2 -->\n<g id=\"edge2\" class=\"edge\">\n<title>0&#45;&gt;2</title>\n<path fill=\"none\" stroke=\"#000000\" d=\"M241.0294,-579.8796C247.1855,-571.0534 253.7451,-561.6485 260.0936,-552.5466\"/>\n<polygon fill=\"#000000\" stroke=\"#000000\" points=\"262.9967,-554.5024 265.8467,-544.2981 257.2552,-550.4978 262.9967,-554.5024\"/>\n<text text-anchor=\"middle\" x=\"270.2331\" y=\"-565.2103\" font-family=\"Helvetica,sans-Serif\" font-size=\"14.00\" fill=\"#000000\">False</text>\n</g>\n<!-- 3 -->\n<g id=\"node4\" class=\"node\">\n<title>3</title>\n<polygon fill=\"#3ee684\" stroke=\"#000000\" points=\"288,-425 112,-425 112,-342 288,-342 288,-425\"/>\n<text text-anchor=\"middle\" x=\"200\" y=\"-409.8\" font-family=\"Helvetica,sans-Serif\" font-size=\"14.00\" fill=\"#000000\">petal length (cm) &lt;= 5.25</text>\n<text text-anchor=\"middle\" x=\"200\" y=\"-394.8\" font-family=\"Helvetica,sans-Serif\" font-size=\"14.00\" fill=\"#000000\">gini = 0.051</text>\n<text text-anchor=\"middle\" x=\"200\" y=\"-379.8\" font-family=\"Helvetica,sans-Serif\" font-size=\"14.00\" fill=\"#000000\">samples = 38</text>\n<text text-anchor=\"middle\" x=\"200\" y=\"-364.8\" font-family=\"Helvetica,sans-Serif\" font-size=\"14.00\" fill=\"#000000\">value = [0, 37, 1]</text>\n<text text-anchor=\"middle\" x=\"200\" y=\"-349.8\" font-family=\"Helvetica,sans-Serif\" font-size=\"14.00\" fill=\"#000000\">class = versicolor</text>\n</g>\n<!-- 2&#45;&gt;3 -->\n<g id=\"edge3\" class=\"edge\">\n<title>2&#45;&gt;3</title>\n<path fill=\"none\" stroke=\"#000000\" d=\"M261.7736,-460.8796C254.6556,-451.9633 247.0661,-442.4565 239.7308,-433.268\"/>\n<polygon fill=\"#000000\" stroke=\"#000000\" points=\"242.3425,-430.9295 233.3682,-425.2981 236.8719,-435.2968 242.3425,-430.9295\"/>\n</g>\n<!-- 6 -->\n<g id=\"node7\" class=\"node\">\n<title>6</title>\n<polygon fill=\"#8b49e7\" stroke=\"#000000\" points=\"476,-425 306,-425 306,-342 476,-342 476,-425\"/>\n<text text-anchor=\"middle\" x=\"391\" y=\"-409.8\" font-family=\"Helvetica,sans-Serif\" font-size=\"14.00\" fill=\"#000000\">petal width (cm) &lt;= 1.75</text>\n<text text-anchor=\"middle\" x=\"391\" y=\"-394.8\" font-family=\"Helvetica,sans-Serif\" font-size=\"14.00\" fill=\"#000000\">gini = 0.136</text>\n<text text-anchor=\"middle\" x=\"391\" y=\"-379.8\" font-family=\"Helvetica,sans-Serif\" font-size=\"14.00\" fill=\"#000000\">samples = 41</text>\n<text text-anchor=\"middle\" x=\"391\" y=\"-364.8\" font-family=\"Helvetica,sans-Serif\" font-size=\"14.00\" fill=\"#000000\">value = [0, 3, 38]</text>\n<text text-anchor=\"middle\" x=\"391\" y=\"-349.8\" font-family=\"Helvetica,sans-Serif\" font-size=\"14.00\" fill=\"#000000\">class = virginica</text>\n</g>\n<!-- 2&#45;&gt;6 -->\n<g id=\"edge6\" class=\"edge\">\n<title>2&#45;&gt;6</title>\n<path fill=\"none\" stroke=\"#000000\" d=\"M328.5761,-460.8796C335.7691,-451.9633 343.4384,-442.4565 350.851,-433.268\"/>\n<polygon fill=\"#000000\" stroke=\"#000000\" points=\"353.7258,-435.2788 357.2805,-425.2981 348.2776,-430.8836 353.7258,-435.2788\"/>\n</g>\n<!-- 4 -->\n<g id=\"node5\" class=\"node\">\n<title>4</title>\n<polygon fill=\"#39e581\" stroke=\"#000000\" points=\"128,-298.5 0,-298.5 0,-230.5 128,-230.5 128,-298.5\"/>\n<text text-anchor=\"middle\" x=\"64\" y=\"-283.3\" font-family=\"Helvetica,sans-Serif\" font-size=\"14.00\" fill=\"#000000\">gini = 0.0</text>\n<text text-anchor=\"middle\" x=\"64\" y=\"-268.3\" font-family=\"Helvetica,sans-Serif\" font-size=\"14.00\" fill=\"#000000\">samples = 37</text>\n<text text-anchor=\"middle\" x=\"64\" y=\"-253.3\" font-family=\"Helvetica,sans-Serif\" font-size=\"14.00\" fill=\"#000000\">value = [0, 37, 0]</text>\n<text text-anchor=\"middle\" x=\"64\" y=\"-238.3\" font-family=\"Helvetica,sans-Serif\" font-size=\"14.00\" fill=\"#000000\">class = versicolor</text>\n</g>\n<!-- 3&#45;&gt;4 -->\n<g id=\"edge4\" class=\"edge\">\n<title>3&#45;&gt;4</title>\n<path fill=\"none\" stroke=\"#000000\" d=\"M152.4338,-341.8796C138.9872,-330.1138 124.3653,-317.3197 110.9549,-305.5855\"/>\n<polygon fill=\"#000000\" stroke=\"#000000\" points=\"113.0476,-302.766 103.2171,-298.8149 108.4381,-308.034 113.0476,-302.766\"/>\n</g>\n<!-- 5 -->\n<g id=\"node6\" class=\"node\">\n<title>5</title>\n<polygon fill=\"#8139e5\" stroke=\"#000000\" points=\"265.5,-298.5 146.5,-298.5 146.5,-230.5 265.5,-230.5 265.5,-298.5\"/>\n<text text-anchor=\"middle\" x=\"206\" y=\"-283.3\" font-family=\"Helvetica,sans-Serif\" font-size=\"14.00\" fill=\"#000000\">gini = 0.0</text>\n<text text-anchor=\"middle\" x=\"206\" y=\"-268.3\" font-family=\"Helvetica,sans-Serif\" font-size=\"14.00\" fill=\"#000000\">samples = 1</text>\n<text text-anchor=\"middle\" x=\"206\" y=\"-253.3\" font-family=\"Helvetica,sans-Serif\" font-size=\"14.00\" fill=\"#000000\">value = [0, 0, 1]</text>\n<text text-anchor=\"middle\" x=\"206\" y=\"-238.3\" font-family=\"Helvetica,sans-Serif\" font-size=\"14.00\" fill=\"#000000\">class = virginica</text>\n</g>\n<!-- 3&#45;&gt;5 -->\n<g id=\"edge5\" class=\"edge\">\n<title>3&#45;&gt;5</title>\n<path fill=\"none\" stroke=\"#000000\" d=\"M202.0985,-341.8796C202.6363,-331.2134 203.2167,-319.7021 203.7613,-308.9015\"/>\n<polygon fill=\"#000000\" stroke=\"#000000\" points=\"207.2617,-308.9785 204.2698,-298.8149 200.2706,-308.626 207.2617,-308.9785\"/>\n</g>\n<!-- 7 -->\n<g id=\"node8\" class=\"node\">\n<title>7</title>\n<polygon fill=\"#ffffff\" stroke=\"#000000\" points=\"475,-306 295,-306 295,-223 475,-223 475,-306\"/>\n<text text-anchor=\"middle\" x=\"385\" y=\"-290.8\" font-family=\"Helvetica,sans-Serif\" font-size=\"14.00\" fill=\"#000000\">sepal length (cm) &lt;= 5.45</text>\n<text text-anchor=\"middle\" x=\"385\" y=\"-275.8\" font-family=\"Helvetica,sans-Serif\" font-size=\"14.00\" fill=\"#000000\">gini = 0.5</text>\n<text text-anchor=\"middle\" x=\"385\" y=\"-260.8\" font-family=\"Helvetica,sans-Serif\" font-size=\"14.00\" fill=\"#000000\">samples = 4</text>\n<text text-anchor=\"middle\" x=\"385\" y=\"-245.8\" font-family=\"Helvetica,sans-Serif\" font-size=\"14.00\" fill=\"#000000\">value = [0, 2, 2]</text>\n<text text-anchor=\"middle\" x=\"385\" y=\"-230.8\" font-family=\"Helvetica,sans-Serif\" font-size=\"14.00\" fill=\"#000000\">class = versicolor</text>\n</g>\n<!-- 6&#45;&gt;7 -->\n<g id=\"edge7\" class=\"edge\">\n<title>6&#45;&gt;7</title>\n<path fill=\"none\" stroke=\"#000000\" d=\"M388.9015,-341.8796C388.4883,-333.6838 388.0499,-324.9891 387.6219,-316.5013\"/>\n<polygon fill=\"#000000\" stroke=\"#000000\" points=\"391.1067,-316.1091 387.1075,-306.2981 384.1156,-316.4617 391.1067,-316.1091\"/>\n</g>\n<!-- 12 -->\n<g id=\"node13\" class=\"node\">\n<title>12</title>\n<polygon fill=\"#843ee6\" stroke=\"#000000\" points=\"669,-306 493,-306 493,-223 669,-223 669,-306\"/>\n<text text-anchor=\"middle\" x=\"581\" y=\"-290.8\" font-family=\"Helvetica,sans-Serif\" font-size=\"14.00\" fill=\"#000000\">petal length (cm) &lt;= 4.85</text>\n<text text-anchor=\"middle\" x=\"581\" y=\"-275.8\" font-family=\"Helvetica,sans-Serif\" font-size=\"14.00\" fill=\"#000000\">gini = 0.053</text>\n<text text-anchor=\"middle\" x=\"581\" y=\"-260.8\" font-family=\"Helvetica,sans-Serif\" font-size=\"14.00\" fill=\"#000000\">samples = 37</text>\n<text text-anchor=\"middle\" x=\"581\" y=\"-245.8\" font-family=\"Helvetica,sans-Serif\" font-size=\"14.00\" fill=\"#000000\">value = [0, 1, 36]</text>\n<text text-anchor=\"middle\" x=\"581\" y=\"-230.8\" font-family=\"Helvetica,sans-Serif\" font-size=\"14.00\" fill=\"#000000\">class = virginica</text>\n</g>\n<!-- 6&#45;&gt;12 -->\n<g id=\"edge12\" class=\"edge\">\n<title>6&#45;&gt;12</title>\n<path fill=\"none\" stroke=\"#000000\" d=\"M457.4528,-341.8796C473.0733,-332.0962 489.829,-321.6019 505.8029,-311.5971\"/>\n<polygon fill=\"#000000\" stroke=\"#000000\" points=\"507.9676,-314.3712 514.5847,-306.0969 504.2519,-308.4387 507.9676,-314.3712\"/>\n</g>\n<!-- 8 -->\n<g id=\"node9\" class=\"node\">\n<title>8</title>\n<polygon fill=\"#8139e5\" stroke=\"#000000\" points=\"278.5,-179.5 159.5,-179.5 159.5,-111.5 278.5,-111.5 278.5,-179.5\"/>\n<text text-anchor=\"middle\" x=\"219\" y=\"-164.3\" font-family=\"Helvetica,sans-Serif\" font-size=\"14.00\" fill=\"#000000\">gini = 0.0</text>\n<text text-anchor=\"middle\" x=\"219\" y=\"-149.3\" font-family=\"Helvetica,sans-Serif\" font-size=\"14.00\" fill=\"#000000\">samples = 1</text>\n<text text-anchor=\"middle\" x=\"219\" y=\"-134.3\" font-family=\"Helvetica,sans-Serif\" font-size=\"14.00\" fill=\"#000000\">value = [0, 0, 1]</text>\n<text text-anchor=\"middle\" x=\"219\" y=\"-119.3\" font-family=\"Helvetica,sans-Serif\" font-size=\"14.00\" fill=\"#000000\">class = virginica</text>\n</g>\n<!-- 7&#45;&gt;8 -->\n<g id=\"edge8\" class=\"edge\">\n<title>7&#45;&gt;8</title>\n<path fill=\"none\" stroke=\"#000000\" d=\"M326.9413,-222.8796C310.142,-210.8368 291.8401,-197.7167 275.159,-185.7586\"/>\n<polygon fill=\"#000000\" stroke=\"#000000\" points=\"276.7668,-182.6047 266.6002,-179.623 272.6884,-188.2939 276.7668,-182.6047\"/>\n</g>\n<!-- 9 -->\n<g id=\"node10\" class=\"node\">\n<title>9</title>\n<polygon fill=\"#9cf2c0\" stroke=\"#000000\" points=\"473,-187 297,-187 297,-104 473,-104 473,-187\"/>\n<text text-anchor=\"middle\" x=\"385\" y=\"-171.8\" font-family=\"Helvetica,sans-Serif\" font-size=\"14.00\" fill=\"#000000\">petal length (cm) &lt;= 5.45</text>\n<text text-anchor=\"middle\" x=\"385\" y=\"-156.8\" font-family=\"Helvetica,sans-Serif\" font-size=\"14.00\" fill=\"#000000\">gini = 0.444</text>\n<text text-anchor=\"middle\" x=\"385\" y=\"-141.8\" font-family=\"Helvetica,sans-Serif\" font-size=\"14.00\" fill=\"#000000\">samples = 3</text>\n<text text-anchor=\"middle\" x=\"385\" y=\"-126.8\" font-family=\"Helvetica,sans-Serif\" font-size=\"14.00\" fill=\"#000000\">value = [0, 2, 1]</text>\n<text text-anchor=\"middle\" x=\"385\" y=\"-111.8\" font-family=\"Helvetica,sans-Serif\" font-size=\"14.00\" fill=\"#000000\">class = versicolor</text>\n</g>\n<!-- 7&#45;&gt;9 -->\n<g id=\"edge9\" class=\"edge\">\n<title>7&#45;&gt;9</title>\n<path fill=\"none\" stroke=\"#000000\" d=\"M385,-222.8796C385,-214.6838 385,-205.9891 385,-197.5013\"/>\n<polygon fill=\"#000000\" stroke=\"#000000\" points=\"388.5001,-197.298 385,-187.2981 381.5001,-197.2981 388.5001,-197.298\"/>\n</g>\n<!-- 10 -->\n<g id=\"node11\" class=\"node\">\n<title>10</title>\n<polygon fill=\"#39e581\" stroke=\"#000000\" points=\"320,-68 192,-68 192,0 320,0 320,-68\"/>\n<text text-anchor=\"middle\" x=\"256\" y=\"-52.8\" font-family=\"Helvetica,sans-Serif\" font-size=\"14.00\" fill=\"#000000\">gini = 0.0</text>\n<text text-anchor=\"middle\" x=\"256\" y=\"-37.8\" font-family=\"Helvetica,sans-Serif\" font-size=\"14.00\" fill=\"#000000\">samples = 2</text>\n<text text-anchor=\"middle\" x=\"256\" y=\"-22.8\" font-family=\"Helvetica,sans-Serif\" font-size=\"14.00\" fill=\"#000000\">value = [0, 2, 0]</text>\n<text text-anchor=\"middle\" x=\"256\" y=\"-7.8\" font-family=\"Helvetica,sans-Serif\" font-size=\"14.00\" fill=\"#000000\">class = versicolor</text>\n</g>\n<!-- 9&#45;&gt;10 -->\n<g id=\"edge10\" class=\"edge\">\n<title>9&#45;&gt;10</title>\n<path fill=\"none\" stroke=\"#000000\" d=\"M336.9652,-103.9815C326.013,-94.5151 314.3821,-84.462 303.4544,-75.0168\"/>\n<polygon fill=\"#000000\" stroke=\"#000000\" points=\"305.4957,-72.155 295.6414,-68.2637 300.9182,-77.4509 305.4957,-72.155\"/>\n</g>\n<!-- 11 -->\n<g id=\"node12\" class=\"node\">\n<title>11</title>\n<polygon fill=\"#8139e5\" stroke=\"#000000\" points=\"457.5,-68 338.5,-68 338.5,0 457.5,0 457.5,-68\"/>\n<text text-anchor=\"middle\" x=\"398\" y=\"-52.8\" font-family=\"Helvetica,sans-Serif\" font-size=\"14.00\" fill=\"#000000\">gini = 0.0</text>\n<text text-anchor=\"middle\" x=\"398\" y=\"-37.8\" font-family=\"Helvetica,sans-Serif\" font-size=\"14.00\" fill=\"#000000\">samples = 1</text>\n<text text-anchor=\"middle\" x=\"398\" y=\"-22.8\" font-family=\"Helvetica,sans-Serif\" font-size=\"14.00\" fill=\"#000000\">value = [0, 0, 1]</text>\n<text text-anchor=\"middle\" x=\"398\" y=\"-7.8\" font-family=\"Helvetica,sans-Serif\" font-size=\"14.00\" fill=\"#000000\">class = virginica</text>\n</g>\n<!-- 9&#45;&gt;11 -->\n<g id=\"edge11\" class=\"edge\">\n<title>9&#45;&gt;11</title>\n<path fill=\"none\" stroke=\"#000000\" d=\"M389.8407,-103.9815C390.8158,-95.618 391.8443,-86.7965 392.8302,-78.3409\"/>\n<polygon fill=\"#000000\" stroke=\"#000000\" points=\"396.3234,-78.6017 394.0051,-68.2637 389.3705,-77.791 396.3234,-78.6017\"/>\n</g>\n<!-- 13 -->\n<g id=\"node14\" class=\"node\">\n<title>13</title>\n<polygon fill=\"#c09cf2\" stroke=\"#000000\" points=\"671,-187 491,-187 491,-104 671,-104 671,-187\"/>\n<text text-anchor=\"middle\" x=\"581\" y=\"-171.8\" font-family=\"Helvetica,sans-Serif\" font-size=\"14.00\" fill=\"#000000\">sepal length (cm) &lt;= 5.95</text>\n<text text-anchor=\"middle\" x=\"581\" y=\"-156.8\" font-family=\"Helvetica,sans-Serif\" font-size=\"14.00\" fill=\"#000000\">gini = 0.444</text>\n<text text-anchor=\"middle\" x=\"581\" y=\"-141.8\" font-family=\"Helvetica,sans-Serif\" font-size=\"14.00\" fill=\"#000000\">samples = 3</text>\n<text text-anchor=\"middle\" x=\"581\" y=\"-126.8\" font-family=\"Helvetica,sans-Serif\" font-size=\"14.00\" fill=\"#000000\">value = [0, 1, 2]</text>\n<text text-anchor=\"middle\" x=\"581\" y=\"-111.8\" font-family=\"Helvetica,sans-Serif\" font-size=\"14.00\" fill=\"#000000\">class = virginica</text>\n</g>\n<!-- 12&#45;&gt;13 -->\n<g id=\"edge13\" class=\"edge\">\n<title>12&#45;&gt;13</title>\n<path fill=\"none\" stroke=\"#000000\" d=\"M581,-222.8796C581,-214.6838 581,-205.9891 581,-197.5013\"/>\n<polygon fill=\"#000000\" stroke=\"#000000\" points=\"584.5001,-197.298 581,-187.2981 577.5001,-197.2981 584.5001,-197.298\"/>\n</g>\n<!-- 16 -->\n<g id=\"node17\" class=\"node\">\n<title>16</title>\n<polygon fill=\"#8139e5\" stroke=\"#000000\" points=\"812.5,-179.5 689.5,-179.5 689.5,-111.5 812.5,-111.5 812.5,-179.5\"/>\n<text text-anchor=\"middle\" x=\"751\" y=\"-164.3\" font-family=\"Helvetica,sans-Serif\" font-size=\"14.00\" fill=\"#000000\">gini = 0.0</text>\n<text text-anchor=\"middle\" x=\"751\" y=\"-149.3\" font-family=\"Helvetica,sans-Serif\" font-size=\"14.00\" fill=\"#000000\">samples = 34</text>\n<text text-anchor=\"middle\" x=\"751\" y=\"-134.3\" font-family=\"Helvetica,sans-Serif\" font-size=\"14.00\" fill=\"#000000\">value = [0, 0, 34]</text>\n<text text-anchor=\"middle\" x=\"751\" y=\"-119.3\" font-family=\"Helvetica,sans-Serif\" font-size=\"14.00\" fill=\"#000000\">class = virginica</text>\n</g>\n<!-- 12&#45;&gt;16 -->\n<g id=\"edge16\" class=\"edge\">\n<title>12&#45;&gt;16</title>\n<path fill=\"none\" stroke=\"#000000\" d=\"M640.4578,-222.8796C657.8196,-210.7263 676.7488,-197.4759 693.9575,-185.4297\"/>\n<polygon fill=\"#000000\" stroke=\"#000000\" points=\"696.0676,-188.225 702.2528,-179.623 692.0533,-182.4904 696.0676,-188.225\"/>\n</g>\n<!-- 14 -->\n<g id=\"node15\" class=\"node\">\n<title>14</title>\n<polygon fill=\"#39e581\" stroke=\"#000000\" points=\"631,-68 503,-68 503,0 631,0 631,-68\"/>\n<text text-anchor=\"middle\" x=\"567\" y=\"-52.8\" font-family=\"Helvetica,sans-Serif\" font-size=\"14.00\" fill=\"#000000\">gini = 0.0</text>\n<text text-anchor=\"middle\" x=\"567\" y=\"-37.8\" font-family=\"Helvetica,sans-Serif\" font-size=\"14.00\" fill=\"#000000\">samples = 1</text>\n<text text-anchor=\"middle\" x=\"567\" y=\"-22.8\" font-family=\"Helvetica,sans-Serif\" font-size=\"14.00\" fill=\"#000000\">value = [0, 1, 0]</text>\n<text text-anchor=\"middle\" x=\"567\" y=\"-7.8\" font-family=\"Helvetica,sans-Serif\" font-size=\"14.00\" fill=\"#000000\">class = versicolor</text>\n</g>\n<!-- 13&#45;&gt;14 -->\n<g id=\"edge14\" class=\"edge\">\n<title>13&#45;&gt;14</title>\n<path fill=\"none\" stroke=\"#000000\" d=\"M575.7869,-103.9815C574.7368,-95.618 573.6292,-86.7965 572.5675,-78.3409\"/>\n<polygon fill=\"#000000\" stroke=\"#000000\" points=\"576.0208,-77.7497 571.3022,-68.2637 569.0753,-78.6218 576.0208,-77.7497\"/>\n</g>\n<!-- 15 -->\n<g id=\"node16\" class=\"node\">\n<title>15</title>\n<polygon fill=\"#8139e5\" stroke=\"#000000\" points=\"768.5,-68 649.5,-68 649.5,0 768.5,0 768.5,-68\"/>\n<text text-anchor=\"middle\" x=\"709\" y=\"-52.8\" font-family=\"Helvetica,sans-Serif\" font-size=\"14.00\" fill=\"#000000\">gini = 0.0</text>\n<text text-anchor=\"middle\" x=\"709\" y=\"-37.8\" font-family=\"Helvetica,sans-Serif\" font-size=\"14.00\" fill=\"#000000\">samples = 2</text>\n<text text-anchor=\"middle\" x=\"709\" y=\"-22.8\" font-family=\"Helvetica,sans-Serif\" font-size=\"14.00\" fill=\"#000000\">value = [0, 0, 2]</text>\n<text text-anchor=\"middle\" x=\"709\" y=\"-7.8\" font-family=\"Helvetica,sans-Serif\" font-size=\"14.00\" fill=\"#000000\">class = virginica</text>\n</g>\n<!-- 13&#45;&gt;15 -->\n<g id=\"edge15\" class=\"edge\">\n<title>13&#45;&gt;15</title>\n<path fill=\"none\" stroke=\"#000000\" d=\"M628.6625,-103.9815C639.5297,-94.5151 651.0705,-84.462 661.9135,-75.0168\"/>\n<polygon fill=\"#000000\" stroke=\"#000000\" points=\"664.4245,-77.4712 669.6659,-68.2637 659.8266,-72.1929 664.4245,-77.4712\"/>\n</g>\n</g>\n</svg>\n"
          },
          "metadata": {},
          "execution_count": 4
        }
      ]
    },
    {
      "cell_type": "markdown",
      "source": [
        "* 말단 리프노드  \n",
        "  1. 자식노드가 없는 노드\n",
        "  2. 최종클래스 값이 결정되는 노드\n",
        "  3. 하나의 클래스 값으로 최종데이터가 구성되거나, 리프노드가 될 하이퍼 파라미터조건을 충족하면 리프노드가 됨\n",
        "  4. value=[]는 클래스 값 기반의 데이터 건수  \n",
        "    ex. value=[0,37,0] : 클래스 값 0인 Setosa 0건, 클래스 값 1인 Versicolor 37건, 클래스 값 2인 Virginica 0건\n",
        "```\n",
        "# 자식노드를 만들기 위한 규칙조건이 없음       \n",
        "gini = 0.0 #지니계수가 0으로 매우 작아서 말단노드\n",
        "samples = 41 #현 규칙에 해당하는 데이터 건수\n",
        "value = [41, 0, 0] #0클래스에 41개의 데이터\n",
        "class = setosa #setosa의 개수가 제일 많다. \n",
        "```\n",
        "\n",
        "\n",
        "\n",
        "* 브랜치 노드\n",
        "  1. 자식노드가 있는 노드\n",
        "  2. 자식노드를 만들기 위한 분할규칙조건을 가지고 있음.  \n",
        "    ex. petal width (cm) <= 1.55\n",
        "```\n",
        "petal width (cm) <= 1.75 #자식노드를 만들기 위한 규칙조건이 있음\n",
        "gini = 0.136 #지니계수가 0.136으로 더 작은 지니계수를 가진 하위노드를 만들수 있음\n",
        "samples = 41 #현 규칙에 해당하는 데이터 건수\n",
        "value = [0, 3, 38] #1클래스에 3개의 데이터, 2클래스에 38개의 데이터\n",
        "class = virginica #하위노드를 가질 경우에 virginica의 개수가 제일 많다.\n",
        "```\n",
        "\n"
      ],
      "metadata": {
        "id": "PIqHFgdNBGce"
      }
    },
    {
      "cell_type": "markdown",
      "source": [
        "* 각 노드의 색깔은 붓꽃 데이터의 레이블 값  \n",
        "  주황색: Setosa, 초록색: Versicolor, 보라색: Virginica\n",
        "* 색깔이 짙어질수록 지니계수가 낮고, 해당 레이블에 속하는 샘플 데이터가 많다.\n"
      ],
      "metadata": {
        "id": "jN1iJQTIueX-"
      }
    },
    {
      "cell_type": "markdown",
      "source": [
        "## 3. 결정트리 파라미터"
      ],
      "metadata": {
        "id": "wCNK2iTAueGT"
      }
    },
    {
      "cell_type": "markdown",
      "source": [
        "1. min_samples_split  \n",
        "  : 노드를 분할하기 위한 최소한의 샘플 데이터 수로 과적합을 제어하는데 사용됨  \n",
        "2. min_samples_leaf  \n",
        "  : 말단 노드(Leaf)가 되기 위한 최소한의 샘플 데이터 수\n",
        "3. max_features  \n",
        "  : 최적의 분할을 위해 고려할 최대 피쳐 개수. \n",
        "4. max_depth  \n",
        "  : 트리의 최대 깊이를 규정 \n",
        "5. max_leaf_nodes  \n",
        "  : 말단 노드(Leaf)의 최대 개수"
      ],
      "metadata": {
        "id": "d2ks0seOueKb"
      }
    },
    {
      "cell_type": "markdown",
      "source": [
        "* 4번노드에서 value = [0, 37, 1]인 노드를 37, 1에 대해서 클래스를 다시 구분하기 위해 다시 자식노드를 생성한다. \n",
        "* 규칙생성로직을 미리 제어하지 않으면/ 완벽하게 클래스 값을 구별해내기 위해 트리 노드를 계속해서 만들어가게 되어// 매우 복잡한 규칙 트리가 만들어져 과적합되는 문제점을 가지게 된다. \n",
        "* 따라서 결정트리 알고르짐의 대부분의 하이퍼 파라미터는 복잡한 트리가 생성되는 것을 막기 위한 용도이다. "
      ],
      "metadata": {
        "id": "Vh4CEX7HueiT"
      }
    },
    {
      "cell_type": "markdown",
      "source": [
        "* 주요 파라미터 설명\n",
        "  1. max_depth\n",
        "    - 결정 트리의 최대 트리 깊이를 제어한다.\n",
        "    - max_depth=3 : 생성되는 노드의 개수x 노드의 층수o 3개로\n",
        "  2. min_samples_splits\n",
        "    - 자식규칙노드를 분할해 만들기 위한 최소한의 샘플 데이터 개수 \n",
        "    - min_samples_splits=4 : 자식노드로 분할하려면 최소샘플개수가 4개는 필요한데, \n",
        "    3개 밑이면 더이상 자식규칙노드를 위한 분할하지 않고 리프노드가 됨. \n",
        "  3. min_samples_leaf\n",
        "    - 리프 노드가 될 수 있는 샘플 데이터 건수의 최솟값\n",
        "    - 1개 종류의 클래스로만 돼있거나, 1개 데이터로만 돼있을 경우 리프노드가 될 수 있음\n",
        "    - min_samples_leaf 값을 키우면, 더이상 분할하지 않고 리프노드가 될 수 있는 조건이 완화됨 \n",
        "    - min_samples_leaf=4 : 샘플이 4이하이면 지니계수값이 크더라도 리프노드가 됨"
      ],
      "metadata": {
        "id": "6V01hWoHq-fz"
      }
    },
    {
      "cell_type": "markdown",
      "source": [
        "* feature_importances_\n",
        "  * 결정트리는 균일도에 기반해 어떠한 속성을 규칙조건으로 선택하느냐가 중요함  \n",
        "  ex. 규칙조건 : petal length (cm) <= 2.45  \n",
        "  * 이 규칙을 정하는 데 있어 피처의 중요한 역할지표를 DecisionTreeClassifier 객체의 feature_importances_ 속성으로 제공한다.\n",
        "  * feature_importances_ 값이 높을수록 해당 피처의 중요도가 높다는 의미"
      ],
      "metadata": {
        "id": "wD30TTp8s1oG"
      }
    },
    {
      "cell_type": "markdown",
      "source": [
        "(참고)  \n",
        "data : feature 데이터를 가짐  \n",
        "features_name : feature데이터의 열이름을 가짐  \n",
        "->feature : 독립변수 X 의 개념  \n",
        "\n",
        "\n",
        "---\n",
        "\n",
        "\n",
        "target : label 데이터를 가짐  \n",
        "target_names : label데이터의 열이름을 가짐  \n",
        "->label : 종속변수 Y의 개념 (범주형 종속변수)  "
      ],
      "metadata": {
        "id": "cIEwgFL_u5-P"
      }
    },
    {
      "cell_type": "code",
      "source": [
        "import seaborn as sns\n",
        "import numpy as np\n",
        "%matplotlib inline"
      ],
      "metadata": {
        "id": "fHLmG31XqdEJ"
      },
      "execution_count": 5,
      "outputs": []
    },
    {
      "cell_type": "code",
      "source": [
        "# 위에서 fit()으로 학습된 DTC객체 변수인 df_clf에서/ feature_importances_속성을 가져와/ 피처별로 중요도 값을 매핑하고/ 이를 막대그래프로 표현해보자\n",
        "\n",
        "# feature importance 추출\n",
        "print(\"Feature importances:\\n{0}\".format(np.round(dt_clf.feature_importances_, 3)))\n",
        "\n",
        "# feature importance 매핑\n",
        "for name, value in zip(iris_data.feature_names, dt_clf.feature_importances_):\n",
        "  print('{0}:{1:.3f}'.format(name, value))\n",
        "\n",
        "# feature importance를 column별로 시각화하기\n",
        "sns.barplot(x=dt_clf.feature_importances_, y=iris_data.feature_names)"
      ],
      "metadata": {
        "colab": {
          "base_uri": "https://localhost:8080/",
          "height": 392
        },
        "id": "glZAJog8q3lK",
        "outputId": "993826d9-8133-48c4-b330-082354a43229"
      },
      "execution_count": 6,
      "outputs": [
        {
          "output_type": "stream",
          "name": "stdout",
          "text": [
            "Feature importances:\n",
            "[0.025 0.    0.555 0.42 ]\n",
            "sepal length (cm):0.025\n",
            "sepal width (cm):0.000\n",
            "petal length (cm):0.555\n",
            "petal width (cm):0.420\n"
          ]
        },
        {
          "output_type": "execute_result",
          "data": {
            "text/plain": [
              "<matplotlib.axes._subplots.AxesSubplot at 0x7f373e3a18d0>"
            ]
          },
          "metadata": {},
          "execution_count": 6
        },
        {
          "output_type": "display_data",
          "data": {
            "text/plain": [
              "<Figure size 432x288 with 1 Axes>"
            ],
            "image/png": "[encoded data removed]"
          },
          "metadata": {
            "needs_background": "light"
          }
        }
      ]
    },
    {
      "cell_type": "markdown",
      "source": [
        "```\n",
        "Feature importances:\n",
        "[0.025 0.    0.555 0.42 ]  #피처중요도가 리스트로 취합되어있음\n",
        "sepal length (cm):0.025\n",
        "sepal width (cm):0.000\n",
        "petal length (cm):0.555  #피처중요도가 제일 높음\n",
        "petal width (cm):0.420\n",
        "```\n",
        "- 피처(독립변수 X)별로 중요도 도출\n",
        "- petal length의 피처중요도가 제일 높다.\n",
        "- 따라서 최초의 규칙조건(petal length (cm) <= 2.45)이 petal length가지고 만들어진것임.\n"
      ],
      "metadata": {
        "id": "OeA6_juGyzP4"
      }
    },
    {
      "cell_type": "markdown",
      "source": [
        "## 4. 결정트리 과적합"
      ],
      "metadata": {
        "id": "FzpU6cjTuec_"
      }
    },
    {
      "cell_type": "code",
      "source": [
        "## 결정트리가 학습데이터를 분할해 예측을 수행할 때 나타나는 과적합 문제 시각화하기\n",
        "\n",
        "## 1. 결정트리로 분류과정을 진행할 샘플 데이터를 준비\n",
        "from sklearn.datasets import make_classification \n",
        "# 사이킷런중 분류를 위한 테스트데이터를 쉽게 만들도록 하는 함수 : make_classification()\n",
        "import matplotlib.pyplot as plt\n",
        "%matplotlib inline\n",
        "\n",
        "plt.title(\"3 Class values with 2 Features Sample data creation\")\n",
        "\n",
        "# 2차원 시각화를 위해서 피처는 2개, 클래스는 3가지 유형의 분류 샘플 데이터 생성\n",
        "X_features, y_labels = make_classification(n_features=2, n_redundant=0, n_informative=2,\n",
        "                                           n_classes=3, n_clusters_per_class=1, random_state=0)\n",
        "\n",
        "# 그래프 형태로 2개의 피처로 2차원 좌표 시각화, 각 클래스 값은 다른 색깔로 표시됨\n",
        "plt.scatter(X_features[:,0], X_features[:,1], marker='o', c=y_labels, s=25, edgecolor='k')"
      ],
      "metadata": {
        "id": "MEp9JsEmq3we",
        "colab": {
          "base_uri": "https://localhost:8080/",
          "height": 299
        },
        "outputId": "b418c26d-752b-4488-cb5f-1213569f2e2b"
      },
      "execution_count": 7,
      "outputs": [
        {
          "output_type": "execute_result",
          "data": {
            "text/plain": [
              "<matplotlib.collections.PathCollection at 0x7f373d598e10>"
            ]
          },
          "metadata": {},
          "execution_count": 7
        },
        {
          "output_type": "display_data",
          "data": {
            "text/plain": [
              "<Figure size 432x288 with 1 Axes>"
            ],
            "image/png": "[encoded data removed]"
          },
          "metadata": {
            "needs_background": "light"
          }
        }
      ]
    },
    {
      "cell_type": "markdown",
      "source": [
        "\n",
        "* 그래프 분석  \n",
        "1) X1, X2 데이터의 산점도  \n",
        "2) 가로축이 X1, 세로축이 X2 데이터  \n",
        "3) Y=0/1/2 3개의 클래스를 색깔로 구분  "
      ],
      "metadata": {
        "id": "46uppMfuDlkA"
      }
    },
    {
      "cell_type": "code",
      "source": [
        "# 머신러닝 모델이 클래스 값을 예측하는 결정기준을 색상과 경계로 나타내, 모델이 어떻게 데이터셋을 예측분류하는지 이해할 수 있게 해주는 함수 정의\n",
        "\n",
        "def visualize_boundary(model, X, y):\n",
        "    fig,ax = plt.subplots()\n",
        "    \n",
        "    # 학습 데이타 scatter plot으로 나타내기\n",
        "    ax.scatter(X[:, 0], X[:, 1], c=y, s=25, cmap='rainbow', edgecolor='k',\n",
        "               clim=(y.min(), y.max()), zorder=3)\n",
        "    ax.axis('tight')\n",
        "    ax.axis('off')\n",
        "    xlim_start , xlim_end = ax.get_xlim()\n",
        "    ylim_start , ylim_end = ax.get_ylim()\n",
        "    \n",
        "    # 호출 파라미터로 들어온 training 데이타로 model 학습 . \n",
        "    model.fit(X, y)\n",
        "    # meshgrid 형태인 모든 좌표값으로 예측 수행. \n",
        "    xx, yy = np.meshgrid(np.linspace(xlim_start,xlim_end, num=200),np.linspace(ylim_start,ylim_end, num=200))\n",
        "    Z = model.predict(np.c_[xx.ravel(), yy.ravel()]).reshape(xx.shape)\n",
        "    \n",
        "    # contourf() 를 이용하여 class boundary 를 visualization 수행. \n",
        "    n_classes = len(np.unique(y))\n",
        "    contours = ax.contourf(xx, yy, Z, alpha=0.3,\n",
        "                           levels=np.arange(n_classes + 1) - 0.5,\n",
        "                           cmap='rainbow', clim=(y.min(), y.max()),\n",
        "                           zorder=1)"
      ],
      "metadata": {
        "id": "_vscvTRKCxOk"
      },
      "execution_count": 8,
      "outputs": []
    },
    {
      "cell_type": "code",
      "source": [
        "# 2. 결정트리 학습\n",
        "# 2-1. 결정트리 생성에 별다른 제약이 없도록 결정트리의 하이퍼 파라미터를 디폴트값으로\n",
        "\n",
        "from sklearn.tree import DecisionTreeClassifier\n",
        "\n",
        "# 특정한 트리 생성에 제약이 없는 결정트리의 학습\n",
        "dt_clf = DecisionTreeClassifier().fit(X_features, y_labels)\n",
        "# 결정경계 시각화\n",
        "visualize_boundary(dt_clf, X_features, y_labels)"
      ],
      "metadata": {
        "colab": {
          "base_uri": "https://localhost:8080/",
          "height": 248
        },
        "id": "QqyQtpa2_2OJ",
        "outputId": "30888d03-5087-41e6-8199-1960197f8652"
      },
      "execution_count": 9,
      "outputs": [
        {
          "output_type": "display_data",
          "data": {
            "text/plain": [
              "<Figure size 432x288 with 1 Axes>"
            ],
            "image/png": "[encoded data removed]"
          },
          "metadata": {
            "needs_background": "light"
          }
        }
      ]
    },
    {
      "cell_type": "markdown",
      "source": [
        "* 그래프 분석  \n",
        "1) 파랑색 클래스, 빨강색 클래스, 초록색 클래스로 분류  \n",
        "2) 파랑색 상자에서 붉은 선, 빨강색 상자에서 파란 선, 초록색상자에서 붉은 선에 있는 점들이 이상치임  \n",
        "3) 색깔과 경계로 나타내서 분류예측결과가 잘보임"
      ],
      "metadata": {
        "id": "e3lW8gSEDslD"
      }
    },
    {
      "cell_type": "markdown",
      "source": [
        "* 문제점  \n",
        "1) 하이퍼 파라미터의 디폴트값 설정은 리프노드 안 데이터가 균일하거나 하나만 존재해야하는 엄격한 분할기준을 가짐  \n",
        "2) 그래서 이상치까지 분류하기 위해 분할이 자주 일어나고, 결정기준 경계가 많아져서 모델이 복잡해짐  \n",
        "3) 이렇게 복잡한 모델에 약간만 다른 데이터셋을 예측시키면 예측정확도가 떨어짐"
      ],
      "metadata": {
        "id": "kEk93F3DEraK"
      }
    },
    {
      "cell_type": "code",
      "source": [
        "# 2. 결정트리 학습\n",
        "# 2-2. 결정트리 모델의 하이퍼 파라미터인 min_sample_leaf=6 로 설정.\n",
        "# 6개 이하의 데이터는 리프 노드를 생성할 수 있음 \n",
        "\n",
        "dt_clf = DecisionTreeClassifier(min_samples_leaf=6).fit(X_features, y_labels)\n",
        "visualize_boundary(dt_clf, X_features, y_labels)"
      ],
      "metadata": {
        "colab": {
          "base_uri": "https://localhost:8080/",
          "height": 248
        },
        "id": "b09Qglfw_2qy",
        "outputId": "847bfdab-9422-47f6-adb8-4a36d561237c"
      },
      "execution_count": 10,
      "outputs": [
        {
          "output_type": "display_data",
          "data": {
            "text/plain": [
              "<Figure size 432x288 with 1 Axes>"
            ],
            "image/png": "[encoded data removed]"
          },
          "metadata": {
            "needs_background": "light"
          }
        }
      ]
    },
    {
      "cell_type": "markdown",
      "source": [
        "* 그래프 분석  \n",
        "1) 이상치에 크게 반응하지 않으면서 더 일반화된 분류규칙에 따라 분류됨 \n"
      ],
      "metadata": {
        "id": "AAKDMz_lGmk9"
      }
    },
    {
      "cell_type": "markdown",
      "source": [
        "* 결과  \n",
        "1) 첫번째 모델보다 두번째 모델의 성능이 더 뛰어날 가능성이 높다  \n",
        "2) 첫번째 모델은 학습데이터셋에만 지나치게 최적화된 분류기준을 가지게 되어(과적합)  \n",
        "  테스트테이터셋에서 정확도를 떨어뜨릴 수 있기 때문"
      ],
      "metadata": {
        "id": "DLV8rvSAGzTo"
      }
    },
    {
      "cell_type": "markdown",
      "source": [
        "# 03 앙상블 학습 개요"
      ],
      "metadata": {
        "id": "cQ9l5CsVuelO"
      }
    },
    {
      "cell_type": "markdown",
      "source": [
        "* 앙상블 학습을 통한 분류  \n",
        "1. 정의: 여러개의 분류기(Classifier)를 생성하고 그 예측을 결합함으로써 보다 정확한 최종 예측을 도출하는 기법  \n",
        "2. 정형 데이터 분류에 뛰어난 성능을 나타냄  \n",
        "3. 앙상블 알고리즘의 대표 : 랜덤포레스트, 그래디언트 부스팅  \n",
        "  \n",
        "4. 앙상블 학습의 유형 : 보팅(Voting), 배깅(Bagging), 부스팅(Boosting)  \n",
        "  A) 보팅 : 하나의 데이터 샘플링 내에서, 서로다른 알고리즘을 가진 여러 분류기가 투표를 통해 최종 예측결과 결정  \n",
        "  B) 배깅 : 데이터 샘플링을 서로 다르게, 같은유형의 알고리즘을 가진 여러 분류기가 투표를 통해 최종 예측결과 결정  \n",
        "  ex. 랜덤 포레스트  \n",
        "  C) 부스팅 : 여러개의 분류기가 순차적으로 학습수행함.  \n",
        "  앞에서 학습한 분류기가 예측이 틀린 데이터에 대해서 올바르게 예측할 수 있도록  \n",
        "  다음 분류기에는 가중치를 분여하면서 학습과 예측을 진행  \n",
        "  예측 성능이 뛰어나 앙상블 학습을 주도함  \n",
        "  ex. 그래디언트 부스트, XGBoost\n"
      ],
      "metadata": {
        "id": "YLenQ5Fo2Epq"
      }
    },
    {
      "cell_type": "markdown",
      "source": [
        "## 1. 보팅 유형\n",
        "  a) 하드보팅 : 다수결 원칙과 비슷, 예측한 결과값 중 다수의 분류기가 결정한 예측값을 최종 보팅 결과값으로 선정  \n",
        "  b) 소프트보팅 : 각각의 분류기들이 도출한 레이블값 결정확률을 더해서 평균 내고, 이들 중 확률이 높은 레이블 값을 최종 보팅 결과값으로 선정  \n",
        "  일반적으로 소프트 보팅이 보팅방법으로 적용됨"
      ],
      "metadata": {
        "id": "2USvt3NI2EsI"
      }
    },
    {
      "cell_type": "markdown",
      "source": [
        "## 2. 보팅 분류기"
      ],
      "metadata": {
        "id": "IJ9J3J7c2Ex1"
      }
    },
    {
      "cell_type": "code",
      "source": [
        "# 필요한 모듈 로딩\n",
        "import pandas as pd\n",
        "\n",
        "from sklearn.ensemble import VotingClassifier\n",
        "from sklearn.linear_model import LogisticRegression\n",
        "from sklearn.neighbors import KNeighborsClassifier\n",
        "from sklearn.datasets import load_breast_cancer\n",
        "from sklearn.model_selection import train_test_split\n",
        "from sklearn.metrics import accuracy_score\n",
        "\n",
        "# 위스콘신 유방암 데이터셋 가지고 예측분석\n",
        "cancer = load_breast_cancer()\n",
        "data_df = pd.DataFrame(cancer.data, columns=cancer.feature_names)\n",
        "data_df.head(3)"
      ],
      "metadata": {
        "colab": {
          "base_uri": "https://localhost:8080/",
          "height": 271
        },
        "id": "9qJsedc_OLp9",
        "outputId": "8144ebd3-90f1-4728-99a1-aedf33b86d73"
      },
      "execution_count": 11,
      "outputs": [
        {
          "output_type": "execute_result",
          "data": {
            "text/plain": [
              "   mean radius  mean texture  mean perimeter  mean area  mean smoothness  \\\n",
              "0        17.99         10.38           122.8     1001.0          0.11840   \n",
              "1        20.57         17.77           132.9     1326.0          0.08474   \n",
              "2        19.69         21.25           130.0     1203.0          0.10960   \n",
              "\n",
              "   mean compactness  mean concavity  mean concave points  mean symmetry  \\\n",
              "0           0.27760          0.3001              0.14710         0.2419   \n",
              "1           0.07864          0.0869              0.07017         0.1812   \n",
              "2           0.15990          0.1974              0.12790         0.2069   \n",
              "\n",
              "   mean fractal dimension  ...  worst radius  worst texture  worst perimeter  \\\n",
              "0                 0.07871  ...         25.38          17.33            184.6   \n",
              "1                 0.05667  ...         24.99          23.41            158.8   \n",
              "2                 0.05999  ...         23.57          25.53            152.5   \n",
              "\n",
              "   worst area  worst smoothness  worst compactness  worst concavity  \\\n",
              "0      2019.0            0.1622             0.6656           0.7119   \n",
              "1      1956.0            0.1238             0.1866           0.2416   \n",
              "2      1709.0            0.1444             0.4245           0.4504   \n",
              "\n",
              "   worst concave points  worst symmetry  worst fractal dimension  \n",
              "0                0.2654          0.4601                  0.11890  \n",
              "1                0.1860          0.2750                  0.08902  \n",
              "2                0.2430          0.3613                  0.08758  \n",
              "\n",
              "[3 rows x 30 columns]"
            ],
            "text/html": [
              "\n",
              "  <div id=\"df-902b9cc9-1f68-4fb4-8d4b-8679e56fd221\">\n",
              "    <div class=\"colab-df-container\">\n",
              "      <div>\n",
              "<style scoped>\n",
              "    .dataframe tbody tr th:only-of-type {\n",
              "        vertical-align: middle;\n",
              "    }\n",
              "\n",
              "    .dataframe tbody tr th {\n",
              "        vertical-align: top;\n",
              "    }\n",
              "\n",
              "    .dataframe thead th {\n",
              "        text-align: right;\n",
              "    }\n",
              "</style>\n",
              "<table border=\"1\" class=\"dataframe\">\n",
              "  <thead>\n",
              "    <tr style=\"text-align: right;\">\n",
              "      <th></th>\n",
              "      <th>mean radius</th>\n",
              "      <th>mean texture</th>\n",
              "      <th>mean perimeter</th>\n",
              "      <th>mean area</th>\n",
              "      <th>mean smoothness</th>\n",
              "      <th>mean compactness</th>\n",
              "      <th>mean concavity</th>\n",
              "      <th>mean concave points</th>\n",
              "      <th>mean symmetry</th>\n",
              "      <th>mean fractal dimension</th>\n",
              "      <th>...</th>\n",
              "      <th>worst radius</th>\n",
              "      <th>worst texture</th>\n",
              "      <th>worst perimeter</th>\n",
              "      <th>worst area</th>\n",
              "      <th>worst smoothness</th>\n",
              "      <th>worst compactness</th>\n",
              "      <th>worst concavity</th>\n",
              "      <th>worst concave points</th>\n",
              "      <th>worst symmetry</th>\n",
              "      <th>worst fractal dimension</th>\n",
              "    </tr>\n",
              "  </thead>\n",
              "  <tbody>\n",
              "    <tr>\n",
              "      <th>0</th>\n",
              "      <td>17.99</td>\n",
              "      <td>10.38</td>\n",
              "      <td>122.8</td>\n",
              "      <td>1001.0</td>\n",
              "      <td>0.11840</td>\n",
              "      <td>0.27760</td>\n",
              "      <td>0.3001</td>\n",
              "      <td>0.14710</td>\n",
              "      <td>0.2419</td>\n",
              "      <td>0.07871</td>\n",
              "      <td>...</td>\n",
              "      <td>25.38</td>\n",
              "      <td>17.33</td>\n",
              "      <td>184.6</td>\n",
              "      <td>2019.0</td>\n",
              "      <td>0.1622</td>\n",
              "      <td>0.6656</td>\n",
              "      <td>0.7119</td>\n",
              "      <td>0.2654</td>\n",
              "      <td>0.4601</td>\n",
              "      <td>0.11890</td>\n",
              "    </tr>\n",
              "    <tr>\n",
              "      <th>1</th>\n",
              "      <td>20.57</td>\n",
              "      <td>17.77</td>\n",
              "      <td>132.9</td>\n",
              "      <td>1326.0</td>\n",
              "      <td>0.08474</td>\n",
              "      <td>0.07864</td>\n",
              "      <td>0.0869</td>\n",
              "      <td>0.07017</td>\n",
              "      <td>0.1812</td>\n",
              "      <td>0.05667</td>\n",
              "      <td>...</td>\n",
              "      <td>24.99</td>\n",
              "      <td>23.41</td>\n",
              "      <td>158.8</td>\n",
              "      <td>1956.0</td>\n",
              "      <td>0.1238</td>\n",
              "      <td>0.1866</td>\n",
              "      <td>0.2416</td>\n",
              "      <td>0.1860</td>\n",
              "      <td>0.2750</td>\n",
              "      <td>0.08902</td>\n",
              "    </tr>\n",
              "    <tr>\n",
              "      <th>2</th>\n",
              "      <td>19.69</td>\n",
              "      <td>21.25</td>\n",
              "      <td>130.0</td>\n",
              "      <td>1203.0</td>\n",
              "      <td>0.10960</td>\n",
              "      <td>0.15990</td>\n",
              "      <td>0.1974</td>\n",
              "      <td>0.12790</td>\n",
              "      <td>0.2069</td>\n",
              "      <td>0.05999</td>\n",
              "      <td>...</td>\n",
              "      <td>23.57</td>\n",
              "      <td>25.53</td>\n",
              "      <td>152.5</td>\n",
              "      <td>1709.0</td>\n",
              "      <td>0.1444</td>\n",
              "      <td>0.4245</td>\n",
              "      <td>0.4504</td>\n",
              "      <td>0.2430</td>\n",
              "      <td>0.3613</td>\n",
              "      <td>0.08758</td>\n",
              "    </tr>\n",
              "  </tbody>\n",
              "</table>\n",
              "<p>3 rows × 30 columns</p>\n",
              "</div>\n",
              "      <button class=\"colab-df-convert\" onclick=\"convertToInteractive('df-902b9cc9-1f68-4fb4-8d4b-8679e56fd221')\"\n",
              "              title=\"Convert this dataframe to an interactive table.\"\n",
              "              style=\"display:none;\">\n",
              "        \n",
              "  <svg xmlns=\"http://www.w3.org/2000/svg\" height=\"24px\"viewBox=\"0 0 24 24\"\n",
              "       width=\"24px\">\n",
              "    <path d=\"M0 0h24v24H0V0z\" fill=\"none\"/>\n",
              "    <path d=\"M18.56 5.44l.94 2.06.94-2.06 2.06-.94-2.06-.94-.94-2.06-.94 2.06-2.06.94zm-11 1L8.5 8.5l.94-2.06 2.06-.94-2.06-.94L8.5 2.5l-.94 2.06-2.06.94zm10 10l.94 2.06.94-2.06 2.06-.94-2.06-.94-.94-2.06-.94 2.06-2.06.94z\"/><path d=\"M17.41 7.96l-1.37-1.37c-.4-.4-.92-.59-1.43-.59-.52 0-1.04.2-1.43.59L10.3 9.45l-7.72 7.72c-.78.78-.78 2.05 0 2.83L4 21.41c.39.39.9.59 1.41.59.51 0 1.02-.2 1.41-.59l7.78-7.78 2.81-2.81c.8-.78.8-2.07 0-2.86zM5.41 20L4 18.59l7.72-7.72 1.47 1.35L5.41 20z\"/>\n",
              "  </svg>\n",
              "      </button>\n",
              "      \n",
              "  <style>\n",
              "    .colab-df-container {\n",
              "      display:flex;\n",
              "      flex-wrap:wrap;\n",
              "      gap: 12px;\n",
              "    }\n",
              "\n",
              "    .colab-df-convert {\n",
              "      background-color: #E8F0FE;\n",
              "      border: none;\n",
              "      border-radius: 50%;\n",
              "      cursor: pointer;\n",
              "      display: none;\n",
              "      fill: #1967D2;\n",
              "      height: 32px;\n",
              "      padding: 0 0 0 0;\n",
              "      width: 32px;\n",
              "    }\n",
              "\n",
              "    .colab-df-convert:hover {\n",
              "      background-color: #E2EBFA;\n",
              "      box-shadow: 0px 1px 2px rgba(60, 64, 67, 0.3), 0px 1px 3px 1px rgba(60, 64, 67, 0.15);\n",
              "      fill: #174EA6;\n",
              "    }\n",
              "\n",
              "    [theme=dark] .colab-df-convert {\n",
              "      background-color: #3B4455;\n",
              "      fill: #D2E3FC;\n",
              "    }\n",
              "\n",
              "    [theme=dark] .colab-df-convert:hover {\n",
              "      background-color: #434B5C;\n",
              "      box-shadow: 0px 1px 3px 1px rgba(0, 0, 0, 0.15);\n",
              "      filter: drop-shadow(0px 1px 2px rgba(0, 0, 0, 0.3));\n",
              "      fill: #FFFFFF;\n",
              "    }\n",
              "  </style>\n",
              "\n",
              "      <script>\n",
              "        const buttonEl =\n",
              "          document.querySelector('#df-902b9cc9-1f68-4fb4-8d4b-8679e56fd221 button.colab-df-convert');\n",
              "        buttonEl.style.display =\n",
              "          google.colab.kernel.accessAllowed ? 'block' : 'none';\n",
              "\n",
              "        async function convertToInteractive(key) {\n",
              "          const element = document.querySelector('#df-902b9cc9-1f68-4fb4-8d4b-8679e56fd221');\n",
              "          const dataTable =\n",
              "            await google.colab.kernel.invokeFunction('convertToInteractive',\n",
              "                                                     [key], {});\n",
              "          if (!dataTable) return;\n",
              "\n",
              "          const docLinkHtml = 'Like what you see? Visit the ' +\n",
              "            '<a target=\"_blank\" href=https://colab.research.google.com/notebooks/data_table.ipynb>data table notebook</a>'\n",
              "            + ' to learn more about interactive tables.';\n",
              "          element.innerHTML = '';\n",
              "          dataTable['output_type'] = 'display_data';\n",
              "          await google.colab.output.renderOutput(dataTable, element);\n",
              "          const docLink = document.createElement('div');\n",
              "          docLink.innerHTML = docLinkHtml;\n",
              "          element.appendChild(docLink);\n",
              "        }\n",
              "      </script>\n",
              "    </div>\n",
              "  </div>\n",
              "  "
            ]
          },
          "metadata": {},
          "execution_count": 11
        }
      ]
    },
    {
      "cell_type": "markdown",
      "source": [
        "* 데이터셋 분석  \n",
        "1) 유방암의 악성종양(암), 양성종양(쉽게치유되는종양)을 결정하는 이진분류 데이터셋  \n",
        "Y=0(악성종양), 1(양성종양)  \n",
        "2) 종양의 크기, 모양 등 형태와 관련된 피처(X)를 가짐\n"
      ],
      "metadata": {
        "id": "BMgxliQWPu5w"
      }
    },
    {
      "cell_type": "markdown",
      "source": [],
      "metadata": {
        "id": "wYU-0xrdRSpH"
      }
    },
    {
      "cell_type": "code",
      "source": [
        "## 로지스틱 회귀와 KNN 기반으로 보팅 분류기 생성\n",
        "\n",
        "# 개별 모델은 로지스틱회귀와 KNN\n",
        "lr_clf = LogisticRegression()\n",
        "knn_clf = KNeighborsClassifier(n_neighbors=8)\n",
        "\n",
        "## VotingClassifier 함수의 주요 인자\n",
        "## 1. estimators : 분류기 객체들에 관한 정보를 담은 리스트(알고리즘 유형, 알고리즘을 입력받은 객체이름)를 모아서 튜플형식[(리스트1), (리스트2)]으로 입력받는다. \n",
        "## 2. voting : hard=하드보팅(기본값), soft=소프트보팅\n",
        "# 개별 모델을 소프트보팅 기반의 앙상블 모델로 구현한 분류기\n",
        "vo_clf = VotingClassifier(estimators=[('LR', lr_clf), ('KNN', knn_clf)], voting='soft')\n",
        "\n",
        "X_train, X_test, y_train, y_test = train_test_split(cancer.data, cancer.target, \n",
        "                                                    test_size=0.2, random_state=156)\n",
        "\n",
        "# VotingClassifier 학습/예측/평가\n",
        "vo_clf.fit(X_train, y_train)\n",
        "pred = vo_clf.predict(X_test)\n",
        "print('Voting 분류기 정확도: {0:.4f}'.format(accuracy_score(y_test,pred)))\n",
        "\n",
        "# 개별모델의 학습/예측/평가\n",
        "classifiers = [lr_clf, knn_clf]\n",
        "for cf in classifiers:\n",
        "  cf.fit(X_train, y_train)\n",
        "  pred = cf.predict(X_test)\n",
        "  class_name = cf.__class__.__name__\n",
        "  print('{0} 정확도: {1:.4f}'.format(class_name, accuracy_score(y_test, pred)))"
      ],
      "metadata": {
        "colab": {
          "base_uri": "https://localhost:8080/"
        },
        "id": "Ngg1fERHOL3D",
        "outputId": "363eee64-0d62-4205-d5ee-9d14c267352f"
      },
      "execution_count": 12,
      "outputs": [
        {
          "output_type": "stream",
          "name": "stdout",
          "text": [
            "Voting 분류기 정확도: 0.9474\n",
            "LogisticRegression 정확도: 0.9386\n",
            "KNeighborsClassifier 정확도: 0.9386\n"
          ]
        }
      ]
    },
    {
      "cell_type": "markdown",
      "source": [
        "* 결과 분석  \n",
        "1) 로지스틱회귀 분류기, KNN 분류기를 기반 분류기라고 하고, 여러 기반 분류기를 결합한 것이 보팅 분류기라고 함  \n",
        "2) 여기서는 기반 분류기보가 보팅 분류기의 정확도가 더 높게 나왔지만, 무조건 보팅분류기가 기반분류기보다 예측성능이 향상되는 것은 아님  \n",
        "3) 결정트리 알고리즘은 쉽고 직관적이지만 과적합이 발생할 수 있는데, 앙상블 학습에서는 많은 분류기를 결합해 다양한 상황을 학습함으로써 위 단점을 극복함"
      ],
      "metadata": {
        "id": "pajbvo-3RVpR"
      }
    },
    {
      "cell_type": "markdown",
      "source": [
        "# 04 랜던 포레스트 개요"
      ],
      "metadata": {
        "id": "AggNy0_22E3w"
      }
    },
    {
      "cell_type": "markdown",
      "source": [
        "## 1. 랜덤포레스트 개요 및 실습\n"
      ],
      "metadata": {
        "id": "RFAngWFH2E69"
      }
    },
    {
      "cell_type": "markdown",
      "source": [
        "B) 배깅 : 데이터 샘플링을 서로 다르게, 같은유형의 알고리즘을 가진 여러 분류기가 투표를 통해 최종 예측결과 결정  \n",
        "ex. 랜덤 포레스트"
      ],
      "metadata": {
        "id": "wJioIJdKTZNi"
      }
    },
    {
      "cell_type": "markdown",
      "source": [
        "* 랜덤포레스트는 여러개의 결정트리 분류기가 전체데이터에서 배깅 방식으로 각자의 데이터를 샘플링해 개별적으로 학습을 수행한 뒤 최종적으로 모든 분류기가 보팅을 통해 예측 결정을 함\n",
        "* 개별트리가 학습하는 서브데이터는, 여러 데이터셋이 중첩되게 분리하는 부트스트래핑 방식으로 만들어진다. \n",
        "* 데이터가 중첩된 개별 데이터세트에 결정 트리 분류기를 각각 적용함\n"
      ],
      "metadata": {
        "id": "IiR_cRdofFl7"
      }
    },
    {
      "cell_type": "code",
      "source": [
        "## 랜덤 포레스트 기반의 분류 수행하기\n",
        "\n",
        "# 1. 사용자 행동 인식 데이터 세트를 위한 함수 정의\n",
        "from sklearn.ensemble import RandomForestClassifier\n",
        "from sklearn.metrics import accuracy_score\n",
        "import pandas as pd\n",
        "import warnings\n",
        "warnings.filterwarnings('ignore')\n",
        "\n",
        "## 4장의 Human Activity Record 데이터 세트가 중복된 컬럼명을 가지고 있습니다. \n",
        "## 판다스 버전이 업그레이됨에 따라 더 이상 중복된 컬럼명을 허용하지 않으므로 신 버전의 판다스에서는 Duplicate column 오류가 발생합니다.\n",
        "## get_new_feature_name_df() 를 새롭게 생성하고, 이를 get_human_dataset( )에서 이용하는 방식으로 소스코드를 변경\n",
        "\n",
        "def get_new_feature_name_df(old_feature_name_df):\n",
        "    feature_dup_df = pd.DataFrame(data=old_feature_name_df.groupby('column_name').cumcount(),\n",
        "                                  columns=['dup_cnt'])\n",
        "    feature_dup_df = feature_dup_df.reset_index()\n",
        "    new_feature_name_df = pd.merge(old_feature_name_df.reset_index(), feature_dup_df, how='outer')\n",
        "    new_feature_name_df['column_name'] = new_feature_name_df[['column_name', 'dup_cnt']].apply(lambda x : x[0]+'_'+str(x[1]) \n",
        "                                                                                         if x[1] >0 else x[0] ,  axis=1)\n",
        "    new_feature_name_df = new_feature_name_df.drop(['index'], axis=1)\n",
        "    return new_feature_name_df\n",
        "\n",
        "def get_human_dataset( ):\n",
        "    \n",
        "    # 각 데이터 파일들은 공백으로 분리되어 있으므로 read_csv에서 공백 문자를 sep으로 할당.\n",
        "    feature_name_df = pd.read_csv('/content/drive/MyDrive/PyColab_ESAA/데이터셋/human_activity/features.txt',sep='\\s+',\n",
        "                        header=None,names=['column_index','column_name'])\n",
        "    \n",
        "    # 중복된 피처명을 수정하는 get_new_feature_name_df()를 이용, 신규 피처명 DataFrame생성. \n",
        "    new_feature_name_df = get_new_feature_name_df(feature_name_df)\n",
        "    \n",
        "    # DataFrame에 피처명을 컬럼으로 부여하기 위해 리스트 객체로 다시 변환\n",
        "    feature_name = new_feature_name_df.iloc[:, 1].values.tolist()\n",
        "    \n",
        "    # 학습 피처 데이터 셋과 테스트 피처 데이터을 DataFrame으로 로딩. 컬럼명은 feature_name 적용\n",
        "    X_train = pd.read_csv('/content/drive/MyDrive/PyColab_ESAA/데이터셋/human_activity/train/X_train.txt',sep='\\s+', names=feature_name )\n",
        "    X_test = pd.read_csv('/content/drive/MyDrive/PyColab_ESAA/데이터셋/human_activity/test/X_test.txt',sep='\\s+', names=feature_name)\n",
        "    \n",
        "    # 학습 레이블과 테스트 레이블 데이터을 DataFrame으로 로딩하고 컬럼명은 action으로 부여\n",
        "    y_train = pd.read_csv('/content/drive/MyDrive/PyColab_ESAA/데이터셋/human_activity/train/y_train.txt',sep='\\s+',header=None,names=['action'])\n",
        "    y_test = pd.read_csv('/content/drive/MyDrive/PyColab_ESAA/데이터셋/human_activity/test/y_test.txt',sep='\\s+',header=None,names=['action'])\n",
        "    \n",
        "    # 로드된 학습/테스트용 DataFrame을 모두 반환 \n",
        "    return X_train, X_test, y_train, y_test"
      ],
      "metadata": {
        "id": "TEJXEMslfFwB"
      },
      "execution_count": 20,
      "outputs": []
    },
    {
      "cell_type": "code",
      "source": [
        "# 학습/테스트용 데이터 프레임 반환\n",
        "X_train, X_test, y_train, y_test = get_human_dataset()"
      ],
      "metadata": {
        "id": "SZFjmuMpxpqg"
      },
      "execution_count": 21,
      "outputs": []
    },
    {
      "cell_type": "code",
      "source": [
        "# 랜덤 포레스트 학습 및 별도의 테스트세트로 예측성능 평가\n",
        "rf_clf = RandomForestClassifier(random_state=0)\n",
        "rf_clf.fit(X_train, y_train)\n",
        "pred = rf_clf.predict(X_test)\n",
        "accuracy = accuracy_score(y_test, pred)\n",
        "print('랜덤 포레스트 정확도: {0:.4f}'.format(accuracy))"
      ],
      "metadata": {
        "id": "UDWNDEHXfF4q",
        "colab": {
          "base_uri": "https://localhost:8080/"
        },
        "outputId": "b9906590-6b1d-48d6-ae87-7559c57ee1df"
      },
      "execution_count": 23,
      "outputs": [
        {
          "output_type": "stream",
          "name": "stdout",
          "text": [
            "랜덤 포레스트 정확도: 0.9253\n"
          ]
        }
      ]
    },
    {
      "cell_type": "markdown",
      "source": [
        "* 결과 분석  \n",
        "  랜덤 포레스트는 사용자 행동 인식 데이터셋에 대해 91.08%의 정확도를 보여준다."
      ],
      "metadata": {
        "id": "OaWTX9xV0efP"
      }
    },
    {
      "cell_type": "markdown",
      "source": [
        "## 2. 랜덤 포레스트의 하이퍼 파라미터와 튜닝"
      ],
      "metadata": {
        "id": "29KTNtt52U72"
      }
    },
    {
      "cell_type": "markdown",
      "source": [
        "* 트리 기반의 앙상블 알고리즘의 단점은 하이퍼 파라미터가 너무 많고, 그로 인해서 튜닝을 위한 시간이 많이 소모된다.\n",
        "* 랜덤포레스트의 하이퍼파라미터는 비교적 적은 편에 속한다.   \n",
        "  결정트리에서 사용되는 하이퍼파라미터와 같은 파라미터가 대부분이기 때문."
      ],
      "metadata": {
        "id": "VE9X6MHN2U_a"
      }
    },
    {
      "cell_type": "code",
      "source": [
        "from sklearn.model_selection import GridSearchCV\n",
        "\n",
        "params = {\n",
        "    #'n_estimator':[100], #결정트리의 개수 디폴트는 10\n",
        "    'max_depth':[6,8,10,12], #최적의 분할을 위해 고려할 최대 피쳐 개수, 디폴트는 루트(전체피처개수)\n",
        "    'min_samples_leaf':[8,12,18], #말단 노드(Leaf)가 되기 위한 최소한의 샘플 데이터 수\n",
        "    'min_samples_split':[8,16, 20] #노드를 분할하기 위한 최소한의 샘플 데이터 수로 과적합을 제어하는데 사용됨\n",
        "}\n",
        "\n",
        "# RandomForestClassifier 객체 생성후 GridSearchCV 수행\n",
        "rf_clf = RandomForestClassifier(n_estimators=100, random_state=0, n_jobs=-1)\n",
        "grid_cv = GridSearchCV(rf_clf, param_grid=params, cv=2, n_jobs=-1)\n",
        "grid_cv.fit(X_train, y_train)\n",
        "\n",
        "print('최적 하이퍼파라미터:\\n', grid_cv.best_params_)\n",
        "print('최고 예측 정확도 :{0:.4f}'.format(grid_cv.best_score_))"
      ],
      "metadata": {
        "id": "7g2WNBbI2VEu",
        "colab": {
          "base_uri": "https://localhost:8080/"
        },
        "outputId": "c663d896-9ef1-41ce-fcf8-ee7b114cea8f"
      },
      "execution_count": 27,
      "outputs": [
        {
          "output_type": "stream",
          "name": "stdout",
          "text": [
            "최적 하이퍼파라미터:\n",
            " {'max_depth': 10, 'min_samples_leaf': 8, 'min_samples_split': 8}\n",
            "최고 예측 정확도 :0.9180\n"
          ]
        }
      ]
    },
    {
      "cell_type": "markdown",
      "source": [],
      "metadata": {
        "id": "O8nFt8MW6BRi"
      }
    },
    {
      "cell_type": "code",
      "source": [
        "# RandomForestClassifier 객체 생성후 GridSearchCV 수행\n",
        "rf_clf1 = RandomForestClassifier(n_estimators=300, max_depth=10, min_samples_leaf=8, min_samples_split=8,\n",
        "                                random_state=0, n_jobs=-1)\n",
        "rf_clf1.fit(X_train, y_train)\n",
        "pred = rf_clf1.predict(X_test)\n",
        "print(accuracy_score(y_test, pred))"
      ],
      "metadata": {
        "colab": {
          "base_uri": "https://localhost:8080/"
        },
        "id": "RIgM0vEB8Jme",
        "outputId": "187b6a37-ee51-468d-99dd-67af4bbe772b"
      },
      "execution_count": 33,
      "outputs": [
        {
          "output_type": "stream",
          "name": "stdout",
          "text": [
            "0.9165252799457075\n"
          ]
        }
      ]
    },
    {
      "cell_type": "code",
      "source": [
        "## 알고리즘이 선택한 피처의 중요도\n",
        "\n",
        "import matplotlib.pyplot as plt\n",
        "import seaborn as sns\n",
        "%matplotlib inline\n",
        "\n",
        "ftr_importances_values = rf_clf1.feature_importances_\n",
        "ftr_importances = pd.Series(ftr_importances_values, index=X_train.columns)\n",
        "ftr_top20 = ftr_importances.sort_values(ascending=False)[:20]\n",
        "\n",
        "plt.figure(figsize=(8,6))\n",
        "plt.title('Feature importances Top 20')\n",
        "sns.barplot(x=ftr_top20, y=ftr_top20.index)\n",
        "plt.show()\n"
      ],
      "metadata": {
        "colab": {
          "base_uri": "https://localhost:8080/",
          "height": 390
        },
        "id": "rVFfuYEt58ET",
        "outputId": "d9512337-39e0-4c87-d918-04ae70f87dc9"
      },
      "execution_count": 34,
      "outputs": [
        {
          "output_type": "display_data",
          "data": {
            "text/plain": [
              "<Figure size 576x432 with 1 Axes>"
            ],
            "image/png": "[encoded data removed]"
          },
          "metadata": {
            "needs_background": "light"
          }
        }
      ]
    },
    {
      "cell_type": "markdown",
      "source": [
        "# 05 GBM (Gradient Boosting Machine)"
      ],
      "metadata": {
        "id": "B-x2iChF2VIB"
      }
    },
    {
      "cell_type": "markdown",
      "source": [
        "## 1. GBM의 개요 및 실습"
      ],
      "metadata": {
        "id": "un4D0ovQ2VLs"
      }
    },
    {
      "cell_type": "markdown",
      "source": [
        "* 부스팅 알고리즘은// 여러개의 약한 학습기를/ 순차적으로 학습-예측하면서/ 잘못예측한 데이터에 가중치를 부여해/ 오류를 개선하면서 학습하는 방식  \n",
        "* 부스팅의 대표적인 구현은 AdaBoost, 그래디언트 부스트가 있다.  \n",
        "1)  에이다 부스트는// 오류데이터에/ 가중치를 부여하면서/ 부스팅을 수행하는/ 대표적인 알고리즘\n",
        "  - 약한 학습기가 분류기준 1로 +와-를 분류, 잘못분류한 데이터에 가중치를 부여\n",
        "  - 가중치가 부여된 오류데이터에 다음 약한 학습기가 더 잘 분류할 수 있게 크기가 커진다.  \n",
        "\n",
        "  2) GBM은// 에이다부스트와 유사하나/ 가중치 업데이트를/ 경사 하강법을 이용하는 것이 큰 차이이다.\n",
        "  - h(x) = y-F(x)를 최소화하는 방향으로(y:실제결과값, F(x):예측함수, h(x): 오류식)  \n",
        "  - 반복적으로/ 가중치 값을/ 업데이트하는 것이 경사하강법\n",
        "\n"
      ],
      "metadata": {
        "id": "NuXP2-0c8yaB"
      }
    },
    {
      "cell_type": "code",
      "source": [
        "## 사이킷런의 GBM을 이용해 사용자행동 데이터셋을 예측분류\n",
        "## GBM으로 학습하는 시간이 얼마나 걸리는지 수행시간도 같이 측정\n",
        "\n",
        "from sklearn.ensemble import GradientBoostingClassifier\n",
        "import time\n",
        "import warnings\n",
        "warnings.filterwarnings('ignore')\n",
        "\n",
        "X_train, X_test, y_train, y_test = get_human_dataset()\n",
        "\n",
        "# GBM 수행 시간 측정을 위함. 시작 시간 설정.\n",
        "start_time = time.time()\n",
        "\n",
        "gb_clf = GradientBoostingClassifier(random_state=0)\n",
        "gb_clf.fit(X_train, y_train)\n",
        "gb_pred = gb_clf.predict(X_test)\n",
        "gb_accuracy = accuracy_score(y_test, gb_pred)\n",
        "\n",
        "print('GBM정확도: {0:.4f}'.format(gb_accuracy))\n",
        "print('GBM수행시간: {0:.4f}'.format(time.time()-start_time))"
      ],
      "metadata": {
        "colab": {
          "base_uri": "https://localhost:8080/"
        },
        "id": "K2XKirRC8xBO",
        "outputId": "c06c2f7d-4b13-40dd-8709-f9568a3330a4"
      },
      "execution_count": 38,
      "outputs": [
        {
          "output_type": "stream",
          "name": "stdout",
          "text": [
            "GBM정확도: 0.9386\n",
            "GBM수행시간: 876.3479\n"
          ]
        }
      ]
    },
    {
      "cell_type": "markdown",
      "source": [
        "* 결과 분석  \n",
        "1) 일반적으로 GBM이 랜덤포레스트보다 예측성능이 조금 더 뛰어나다  \n",
        "2) 그러나 수행시간이 오래 걸리고, 하이퍼파라미터 튜닝노력이 더 필요"
      ],
      "metadata": {
        "id": "E2KlPIUWCggs"
      }
    },
    {
      "cell_type": "markdown",
      "source": [
        "## 2. GBM의 하이퍼 파라미터와 튜닝"
      ],
      "metadata": {
        "id": "9N-mmiDr2r9o"
      }
    },
    {
      "cell_type": "markdown",
      "source": [
        "* loss : 경사하강법에서 사용할 비용함수를 지정. 디폴트는 deviane\n",
        "* learning_rate : GBM이 학습을 진행할때마다 적용하는 학습률.  \n",
        "  약한학습기가 순차적으로 오류값을 보정해나가는데 적용하는 계수. 0~1사이. 디폴트값은 0.1"
      ],
      "metadata": {
        "id": "aFa_ZECS2sBc"
      }
    },
    {
      "cell_type": "markdown",
      "source": [],
      "metadata": {
        "id": "-7CbU7BF2sF1"
      }
    }
  ]
}